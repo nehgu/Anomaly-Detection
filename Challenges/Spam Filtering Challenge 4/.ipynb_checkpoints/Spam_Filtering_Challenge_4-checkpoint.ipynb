{
 "cells": [
  {
   "cell_type": "markdown",
   "metadata": {},
   "source": [
    "## Spam Filtering"
   ]
  },
  {
   "cell_type": "markdown",
   "metadata": {},
   "source": [
    "#### The GOAL is to classify the testing set for ham/spam. \n",
    "<br> TR-mails.zip FILES contains 2500 mails both in Ham(1721) labelled as 1 and Spam(779) labelled as 0.\n",
    "<br> TT-mails.zip FILES contains 1827 mails both in Ham and Spam\n",
    "<br> The file spam-mail.tr.label is the associated training labels."
   ]
  },
  {
   "cell_type": "markdown",
   "metadata": {},
   "source": [
    "## Check Installation of Vowpal Wabbit"
   ]
  },
  {
   "cell_type": "code",
   "execution_count": 4,
   "metadata": {
    "collapsed": true
   },
   "outputs": [],
   "source": [
    "try:\n",
    "    import pyvw\n",
    "except: \n",
    "    print r\"Install Vowpal Wabbit from: https://github.com/JohnLangford/vowpal_wabbit/wiki/Tutorial\"\n",
    "#     help(pyvw.vw())"
   ]
  },
  {
   "cell_type": "markdown",
   "metadata": {},
   "source": [
    "### Reading data"
   ]
  },
  {
   "cell_type": "code",
   "execution_count": 5,
   "metadata": {
    "collapsed": false
   },
   "outputs": [
    {
     "name": "stdout",
     "output_type": "stream",
     "text": [
      "(2500,) (2500,) (1827,)\n",
      "['1' '2' '3' '4' '5'] [0 0 1 0 0]\n",
      "/home/vishal/TUM/Anomaly Detection/Git Code/Anomaly-Detection/Challenges/Spam Filtering Challenge 4/TR-mails/TR/ /home/vishal/TUM/Anomaly Detection/Git Code/Anomaly-Detection/Challenges/Spam Filtering Challenge 4/TT-mails/TT/\n"
     ]
    }
   ],
   "source": [
    "import numpy as np\n",
    "import os\n",
    "XTrain = np.loadtxt('spam-mail.tr.label', skiprows=1, delimiter=',', dtype='str')\n",
    "YTrain = XTrain[:,-1]\n",
    "YTrain = YTrain.astype(np.int)\n",
    "XTrainFileNames = XTrain[:,0]\n",
    "XTestFileNames = XTrain[:1827,0]\n",
    "print XTrainFileNames.shape, YTrain.shape, XTestFileNames.shape\n",
    "print XTrainFileNames[:5],YTrain[:5]\n",
    "trainFolder = os.getcwd()+os.sep+'TR-mails'+os.sep+'TR'+os.sep\n",
    "testFolder = os.getcwd()+os.sep+'TT-mails'+os.sep+'TT'+os.sep\n",
    "print trainFolder,testFolder"
   ]
  },
  {
   "cell_type": "markdown",
   "metadata": {},
   "source": [
    "### Get structure of Email"
   ]
  },
  {
   "cell_type": "code",
   "execution_count": 6,
   "metadata": {
    "collapsed": false
   },
   "outputs": [
    {
     "name": "stdout",
     "output_type": "stream",
     "text": [
      "From nobody Sun Jan 10 17:37:54 2016\n",
      "Return-Path: ler@lerami.lerctr.org\n",
      "Delivery-Date: Fri Sep 13 23:14:55 2002\n",
      "Return-Path: <bengreen@mindupmerchants.com>\n",
      "Received: from mindupmerchants.com\n",
      " (pDepriver@24-205-211-91.rno-cres.charterpipeline.net [24.205.211.91])\n",
      " by lerami.lerctr.org (8.12.2/8.12.2/20020902/$Revision: 1.30 $) with ESMTP id\n",
      " g8E4EZE9029281\n",
      " for <ler@lerctr.org>; Fri, 13 Sep 2002 23:14:48 -0500 (CDT)\n",
      "Message-Id: <200209140414.g8E4EZE9029281@lerami.lerctr.org>\n",
      "Received: from 192.168.0.0 by mindupmerchants.com\n",
      " with SMTP (MDaemon.PRO.v6.0.7.R)\n",
      " for <ler@lerctr.org>; Fri, 13 Sep 2002 21:13:21 -0700\n",
      "From: \"Ben Green\" <bengreen@mindupmerchants.com>\n",
      "To: ler@lerctr.org\n",
      "Subject: One of a kind Money maker! Try it for free!\n",
      "Date: Fri, 13 Sep 2002 21:13:19 -0700\n",
      "X-M5MailerProjectID: 4fb0caa2-c329-4c20-b331-229e681acee3\n",
      "Reply-To: bengreen@mindupmerchants.com\n",
      "MIME-Version: 1.0\n",
      "Content-Type: multipart/mixed;\n",
      "\tboundary=\"----000000000000000000000\"\n",
      "X-Return-Path: bengreen@mindupmerchants.com\n",
      "X-MDaemon-Deliver-To: ler@lerctr.org\n",
      "X-Virus-Scanned: by amavisd-milter (http://amavis.org/)\n",
      "X-Status: \n",
      "X-Keywords: \n",
      "\n",
      "------000000000000000000000\n",
      "Content-Type: text/html;\n",
      "\tcharset=\"iso-8859-1\"\n",
      "Content-Transfer-Encoding: 7bit\n",
      "\n",
      "<body lang=EN-US>\n",
      "\n",
      "<div class=Section1>\n",
      "\n",
      "\n",
      "<p class=MsoBodyText style='text-align:justify'><b>CONSANTLY</b> being\n",
      "bombarded by so-called �FREE� money-making systems that teases you with limited\n",
      "information, and when it�s all said and done, blind-sides you by demanding your\n",
      "money/credit card information upfront in some slick way,<b> after-the-fact</b>!\n",
      "Yes, I too was as skeptical about such offers and the Internet in general with\n",
      "all its hype, as you probably are. Fortunate for me, my main business\n",
      "slowed-down (<i>I have been self-employed all my life</i>), so I looked for\n",
      "something to fit my lifestyle and some other way to assist me in paying my\n",
      "bills, without working myself to death or loosing more money; then, this\n",
      "proposal to try something new without any upfront investment (<i>great! because\n",
      "I had none</i>) interested me to click on the link provided. And I don�t regret\n",
      "at all that I did! I am very happy, and happy enough to recommend it to you as\n",
      "a system that is true to its word. I mean absolutely no upfront money. You join\n",
      "only if (<i>when</i>) you make money. You also get to track the results of your\n",
      "time and efforts instantly and updated daily! I especially liked this idea of\n",
      "personal control with real-time, staying informed statistics.</p>\n",
      "\n",
      "<p class=MsoBodyText style='text-align:justify'><b>This system is quite simply\n",
      "the most logical, opened, and fair of any others that I�ve seen before. Why?\n",
      "Because from the start, you get all the specific facts you need to seriously\n",
      "consider if this is right for you.� No teasing. No grand testimonies! No\n",
      "kidding! Just the facts! Unlike in other programs that give you �no idea� of\n",
      "their overall plan before first forking over your money/credit card; or worst\n",
      "yet, joining and finding-out too late, after wasting valuable time trying to\n",
      "figure them out, this system is straightforward and informative, providing you\n",
      "with the two things you really must know: �<u>What�s it all about</u>?� and �<u>How\n",
      "does it work</u>?�. These are the ultimate deal makers or deal breakers that\n",
      "need to be immediately disclosed, well before discovering that maybe you don�t\n",
      "want to do that; by then you are �hooked� and now locked into a frustrating\n",
      "battle to try to get your money back! </b></p>\n",
      "\n",
      "<p class=MsoBodyText style='text-align:justify'>I call this my �Platinum\n",
      "Choice� because it stands alone as a true, superior deal that is totally\n",
      "different from previously misleading, �hook-first� programs that promise lofty\n",
      "mega-money jackpots, but really just want your money upfront to line their own\n",
      "pockets! You�ve seen the headlines: �<u>Join free and Make $10,000 every week\n",
      "for life</u>� yeah, right!</p>\n",
      "\n",
      "<p class=MsoBodyText style='text-align:justify'>I did not make millions yet,\n",
      "but the whole thing was launched just a few weeks ago and I am more than happy\n",
      "with my earnings, so far. I must tell you, I wouldn�t be able to do anything\n",
      "without corporate help � which was unusually thorough, timely, and motivating. </p>\n",
      "\n",
      "<p class=MsoBodyText style='text-align:justify'>You have to see this in action\n",
      "for yourself and make up your own mind; just go to my site and fill out the\n",
      "form as soon as you can. You will get your own site in a few minutes. Then you\n",
      "are ready to try whether you can make some decent money with this system and\n",
      "the Internet�s explosive potential - fully loaded with hi-tech software, free\n",
      "corporate help, on-time member�s support and even protective safeguards! </p>\n",
      "\n",
      "<p class=MsoBodyText style='text-align:justify'>Get it now, and you can call me\n",
      "at any time with questions. It really could help you like it is helping me to\n",
      "finally be able to pay my bills, and keep my free time free.� Good luck!</p>\n",
      "\n",
      "<p class=MsoBodyText style='text-align:justify'><a\n",
      "href=\"http://www.mindupmerchants.com/default.asp?ID=5581\">http://www.mindupmerchants.com/default.asp?ID=5581</a></p>\n",
      "\n",
      "<p class=MsoBodyText style='text-align:justify'>Ben Green, (775) 322-3323 </p>\n",
      "\n",
      "<p class=MsoBodyText>P.S.Free POP3 email is ofered for members now!</p>\n",
      "</div>\n",
      "\n",
      "</body>\n",
      "\n",
      "------000000000000000000000--\n",
      "\n",
      "<type 'instance'>\n"
     ]
    }
   ],
   "source": [
    "import email\n",
    "with open(trainFolder+'TRAIN_'+XTrainFileNames[0]+'.eml','r') as f:\n",
    "#     print f.readlines(),len(f.readlines())\n",
    "    message = email.message_from_file(f)\n",
    "#     headers = email.message_from_file(f, headersonly)\n",
    "print message#,headers\n",
    "print type(message)#,type(headers)\n",
    "#     parser = email.parser.Parser(f)\n",
    "# print dir(parser)"
   ]
  },
  {
   "cell_type": "code",
   "execution_count": 7,
   "metadata": {
    "collapsed": false
   },
   "outputs": [
    {
     "name": "stdout",
     "output_type": "stream",
     "text": [
      "['Return-Path', 'Delivery-Date', 'Return-Path', 'Received', 'Message-Id', 'Received', 'From', 'To', 'Subject', 'Date', 'X-M5MailerProjectID', 'Reply-To', 'MIME-Version', 'Content-Type', 'X-Return-Path', 'X-MDaemon-Deliver-To', 'X-Virus-Scanned', 'X-Status', 'X-Keywords']\n",
      "['ler@lerami.lerctr.org', 'Fri Sep 13 23:14:55 2002', '<bengreen@mindupmerchants.com>', 'from mindupmerchants.com (pDepriver@24-205-211-91.rno-cres.charterpipeline.net [24.205.211.91])\\n\\tby lerami.lerctr.org (8.12.2/8.12.2/20020902/$Revision: 1.30 $) with ESMTP id g8E4EZE9029281\\n\\tfor <ler@lerctr.org>; Fri, 13 Sep 2002 23:14:48 -0500 (CDT)', '<200209140414.g8E4EZE9029281@lerami.lerctr.org>', 'from 192.168.0.0 by mindupmerchants.com\\n\\twith SMTP (MDaemon.PRO.v6.0.7.R)\\n\\tfor <ler@lerctr.org>; Fri, 13 Sep 2002 21:13:21 -0700', '\"Ben Green\" <bengreen@mindupmerchants.com>', 'ler@lerctr.org', 'One of a kind Money maker! Try it for free!', 'Fri, 13 Sep 2002 21:13:19 -0700', '4fb0caa2-c329-4c20-b331-229e681acee3', 'bengreen@mindupmerchants.com', '1.0', 'multipart/mixed;\\n\\tboundary=\"----000000000000000000000\"', 'bengreen@mindupmerchants.com', 'ler@lerctr.org', 'by amavisd-milter (http://amavis.org/)', '', '']\n",
      "ler@lerami.lerctr.org <200209140414.g8E4EZE9029281@lerami.lerctr.org>\n",
      "from mindupmerchants.com (pDepriver@24-205-211-91.rno-cres.charterpipeline.net [24.205.211.91])\n",
      "\tby lerami.lerctr.org (8.12.2/8.12.2/20020902/$Revision: 1.30 $) with ESMTP id g8E4EZE9029281\n",
      "\tfor <ler@lerctr.org>; Fri, 13 Sep 2002 23:14:48 -0500 (CDT)\n",
      "One of a kind Money maker! Try it for free!\n",
      "\"Ben Green\" <bengreen@mindupmerchants.com>\n",
      "None\n"
     ]
    }
   ],
   "source": [
    "print message.keys()\n",
    "print message.values()\n",
    "print message['Return-Path'], message['Message-Id']\n",
    "print message['Received']\n",
    "print message['Subject']\n",
    "print message['From']\n",
    "print message['Sender']"
   ]
  },
  {
   "cell_type": "code",
   "execution_count": 8,
   "metadata": {
    "collapsed": false
   },
   "outputs": [
    {
     "name": "stdout",
     "output_type": "stream",
     "text": [
      "('Return-Path', 'ler@lerami.lerctr.org')\n",
      "('Delivery-Date', 'Fri Sep 13 23:14:55 2002')\n",
      "('Return-Path', '<bengreen@mindupmerchants.com>')\n",
      "('Received', 'from mindupmerchants.com\\n (pDepriver@24-205-211-91.rno-cres.charterpipeline.net [24.205.211.91])\\n by lerami.lerctr.org (8.12.2/8.12.2/20020902/$Revision: 1.30 $) with ESMTP id\\n g8E4EZE9029281\\n for <ler@lerctr.org>; Fri, 13 Sep 2002 23:14:48 -0500 (CDT)')\n",
      "('Message-Id', '<200209140414.g8E4EZE9029281@lerami.lerctr.org>')\n",
      "('Received', 'from 192.168.0.0 by mindupmerchants.com\\n with SMTP (MDaemon.PRO.v6.0.7.R)\\n for <ler@lerctr.org>; Fri, 13 Sep 2002 21:13:21 -0700')\n",
      "('From', '\"Ben Green\" <bengreen@mindupmerchants.com>')\n",
      "('To', 'ler@lerctr.org')\n",
      "('Subject', 'One of a kind Money maker! Try it for free!')\n",
      "('Date', 'Fri, 13 Sep 2002 21:13:19 -0700')\n",
      "('X-M5MailerProjectID', '4fb0caa2-c329-4c20-b331-229e681acee3')\n",
      "('Reply-To', 'bengreen@mindupmerchants.com')\n",
      "('MIME-Version', '1.0')\n",
      "('Content-Type', 'multipart/mixed;\\n\\tboundary=\"----000000000000000000000\"')\n",
      "('X-Return-Path', 'bengreen@mindupmerchants.com')\n",
      "('X-MDaemon-Deliver-To', 'ler@lerctr.org')\n",
      "('X-Virus-Scanned', 'by amavisd-milter (http://amavis.org/)')\n",
      "('X-Status', '')\n",
      "('X-Keywords', '')\n",
      "<type 'instance'> ['__contains__', '__delitem__', '__doc__', '__getitem__', '__init__', '__len__', '__module__', '__setitem__', '__str__', '_charset', '_default_type', '_get_params_preserve', '_headers', '_payload', '_unixfrom', 'add_header', 'as_string', 'attach', 'defects', 'del_param', 'epilogue', 'get', 'get_all', 'get_boundary', 'get_charset', 'get_charsets', 'get_content_charset', 'get_content_maintype', 'get_content_subtype', 'get_content_type', 'get_default_type', 'get_filename', 'get_param', 'get_params', 'get_payload', 'get_unixfrom', 'has_key', 'is_multipart', 'items', 'keys', 'preamble', 'replace_header', 'set_boundary', 'set_charset', 'set_default_type', 'set_param', 'set_payload', 'set_type', 'set_unixfrom', 'values', 'walk'] 19\n"
     ]
    }
   ],
   "source": [
    "parser = email.parser.HeaderParser()\n",
    "headers = parser.parsestr(message.as_string())\n",
    "for h in headers.items():\n",
    "    print h\n",
    "print type(headers), dir(headers), len(headers)"
   ]
  },
  {
   "cell_type": "code",
   "execution_count": 9,
   "metadata": {
    "collapsed": true
   },
   "outputs": [],
   "source": [
    "import email\n",
    "with open(trainFolder+'TRAIN_'+XTrainFileNames[0]+'.eml','r') as f:\n",
    "#     print f.readlines(),len(f.readlines())\n",
    "    message = email.message_from_file(f)\n",
    "    # parser.parse()"
   ]
  },
  {
   "cell_type": "markdown",
   "metadata": {},
   "source": [
    "### Extract message body"
   ]
  },
  {
   "cell_type": "code",
   "execution_count": 10,
   "metadata": {
    "collapsed": false
   },
   "outputs": [],
   "source": [
    "def getEmailBody(messageStr):\n",
    "    b = email.message_from_string(messageStr)\n",
    "    strPayload = ''\n",
    "    if b.is_multipart():\n",
    "        for payload in b.get_payload():\n",
    "            # if payload.is_multipart(): ...\n",
    "            strPayload += str(payload.get_payload())\n",
    "    else:\n",
    "        strPayload += str(b.get_payload())\n",
    "    return strPayload"
   ]
  },
  {
   "cell_type": "code",
   "execution_count": 11,
   "metadata": {
    "collapsed": true
   },
   "outputs": [],
   "source": [
    "def readEmailBody(XTrainFileNames, folder, fileString='TRAIN_'):\n",
    "    trainEmailBody = []\n",
    "    for emailFileName in XTrainFileNames:\n",
    "        with open(folder+fileString+emailFileName+'.eml','r') as f:\n",
    "            message = email.message_from_file(f)\n",
    "            trainEmailBody.append(getEmailBody(message.as_string()))\n",
    "    return trainEmailBody"
   ]
  },
  {
   "cell_type": "code",
   "execution_count": 12,
   "metadata": {
    "collapsed": false
   },
   "outputs": [],
   "source": [
    "trainEmailBody = readEmailBody(XTrainFileNames, trainFolder, 'TRAIN_')"
   ]
  },
  {
   "cell_type": "code",
   "execution_count": 13,
   "metadata": {
    "collapsed": false
   },
   "outputs": [
    {
     "name": "stdout",
     "output_type": "stream",
     "text": [
      "<body lang=EN-US>\n",
      "\n",
      "<div class=Section1>\n",
      "\n",
      "\n",
      "<p class=MsoBodyText style='text-align:justify'><b>CONSANTLY</b> being\n",
      "bombarded by so-called �FREE� money-making systems that teases you with limited\n",
      "information, and when it�s all said and done, blind-sides you by demanding your\n",
      "money/credit card information upfront in some slick way,<b> after-the-fact</b>!\n",
      "Yes, I too was as skeptical about such offers and the Internet in general with\n",
      "all its hype, as you probably are. Fortunate for me, my main business\n",
      "slowed-down (<i>I have been self-employed all my life</i>), so I looked for\n",
      "something to fit my lifestyle and some other way to assist me in paying my\n",
      "bills, without working myself to death or loosing more money; then, this\n",
      "proposal to try something new without any upfront investment (<i>great! because\n",
      "I had none</i>) interested me to click on the link provided. And I don�t regret\n",
      "at all that I did! I am very happy, and happy enough to recommend it to you as\n",
      "a system that is true to its word. I mean absolutely no upfront money. You join\n",
      "only if (<i>when</i>) you make money. You also get to track the results of your\n",
      "time and efforts instantly and updated daily! I especially liked this idea of\n",
      "personal control with real-time, staying informed statistics.</p>\n",
      "\n",
      "<p class=MsoBodyText style='text-align:justify'><b>This system is quite simply\n",
      "the most logical, opened, and fair of any others that I�ve seen before. Why?\n",
      "Because from the start, you get all the specific facts you need to seriously\n",
      "consider if this is right for you.� No teasing. No grand testimonies! No\n",
      "kidding! Just the facts! Unlike in other programs that give you �no idea� of\n",
      "their overall plan before first forking over your money/credit card; or worst\n",
      "yet, joining and finding-out too late, after wasting valuable time trying to\n",
      "figure them out, this system is straightforward and informative, providing you\n",
      "with the two things you really must know: �<u>What�s it all about</u>?� and �<u>How\n",
      "does it work</u>?�. These are the ultimate deal makers or deal breakers that\n",
      "need to be immediately disclosed, well before discovering that maybe you don�t\n",
      "want to do that; by then you are �hooked� and now locked into a frustrating\n",
      "battle to try to get your money back! </b></p>\n",
      "\n",
      "<p class=MsoBodyText style='text-align:justify'>I call this my �Platinum\n",
      "Choice� because it stands alone as a true, superior deal that is totally\n",
      "different from previously misleading, �hook-first� programs that promise lofty\n",
      "mega-money jackpots, but really just want your money upfront to line their own\n",
      "pockets! You�ve seen the headlines: �<u>Join free and Make $10,000 every week\n",
      "for life</u>� yeah, right!</p>\n",
      "\n",
      "<p class=MsoBodyText style='text-align:justify'>I did not make millions yet,\n",
      "but the whole thing was launched just a few weeks ago and I am more than happy\n",
      "with my earnings, so far. I must tell you, I wouldn�t be able to do anything\n",
      "without corporate help � which was unusually thorough, timely, and motivating. </p>\n",
      "\n",
      "<p class=MsoBodyText style='text-align:justify'>You have to see this in action\n",
      "for yourself and make up your own mind; just go to my site and fill out the\n",
      "form as soon as you can. You will get your own site in a few minutes. Then you\n",
      "are ready to try whether you can make some decent money with this system and\n",
      "the Internet�s explosive potential - fully loaded with hi-tech software, free\n",
      "corporate help, on-time member�s support and even protective safeguards! </p>\n",
      "\n",
      "<p class=MsoBodyText style='text-align:justify'>Get it now, and you can call me\n",
      "at any time with questions. It really could help you like it is helping me to\n",
      "finally be able to pay my bills, and keep my free time free.� Good luck!</p>\n",
      "\n",
      "<p class=MsoBodyText style='text-align:justify'><a\n",
      "href=\"http://www.mindupmerchants.com/default.asp?ID=5581\">http://www.mindupmerchants.com/default.asp?ID=5581</a></p>\n",
      "\n",
      "<p class=MsoBodyText style='text-align:justify'>Ben Green, (775) 322-3323 </p>\n",
      "\n",
      "<p class=MsoBodyText>P.S.Free POP3 email is ofered for members now!</p>\n",
      "</div>\n",
      "\n",
      "</body>\n",
      "\n",
      "2500\n"
     ]
    }
   ],
   "source": [
    "print trainEmailBody[0]\n",
    "print len(trainEmailBody)"
   ]
  },
  {
   "cell_type": "code",
   "execution_count": 14,
   "metadata": {
    "collapsed": true
   },
   "outputs": [],
   "source": [
    "testEmailBody = readEmailBody(XTestFileNames, testFolder, 'TEST_')"
   ]
  },
  {
   "cell_type": "code",
   "execution_count": 15,
   "metadata": {
    "collapsed": false
   },
   "outputs": [
    {
     "name": "stdout",
     "output_type": "stream",
     "text": [
      "At 1:16 AM -0400 on 10/3/02, Gary Lawrence Murphy wrote:\n",
      "\n",
      "\n",
      ">   \"The first question I ask myself when something doesn't seem to be\n",
      ">   beautiful is why do I think it's not beautiful. And very shortly you\n",
      ">   discover that there is no reason.\" -- John Cage\n",
      "\n",
      "\"When I'm working on a problem, I never think about beauty. I think only\n",
      "how to solve the problem. But when I have finished, if the solution is not\n",
      "beautiful, I know it is wrong.\"  -- R. Buckminster Fuller\n",
      "\n",
      "\"Simplicity is the highest goal, achievable when you have overcome all\n",
      "difficulties.\" -- Frederic Chopin\n",
      "\n",
      "\"Externalities are the last refuge of the dirigistes.\" -- Friedrich Hayek\n",
      "\n",
      "-- \n",
      "-----------------\n",
      "R. A. Hettinga <mailto: rah@ibuc.com>\n",
      "The Internet Bearer Underwriting Corporation <http://www.ibuc.com/>\n",
      "44 Farquhar Street, Boston, MA 02131 USA\n",
      "\"The stoical scheme of supplying our wants by lopping off our\n",
      "desires is like cutting off our feet when we want shoes.\"\n",
      " -- Jonathan Swift\n",
      "\n",
      "\n",
      "\n",
      "1827\n"
     ]
    }
   ],
   "source": [
    "print testEmailBody[0]\n",
    "print len(testEmailBody)"
   ]
  },
  {
   "cell_type": "markdown",
   "metadata": {},
   "source": [
    "### Spamicity of a word - Analyse the words of each email message against the classification labels"
   ]
  },
  {
   "cell_type": "code",
   "execution_count": 16,
   "metadata": {
    "collapsed": true
   },
   "outputs": [],
   "source": [
    "from collections import Counter\n",
    "def AnalyseWordLabelContribution(XMessages, YTrain):\n",
    "    XFeaturesSpam = []\n",
    "    XFeaturesHam = []\n",
    "    i = 0\n",
    "    for message in XMessages:\n",
    "        if message == None: \n",
    "            continue\n",
    "#             if YTrain[i] == 0:\n",
    "#                 XFeaturesSpam.append((word, YTrain[i]))\n",
    "#             else:\n",
    "#                 XFeaturesHam.append((word, YTrain[i]))        \n",
    "        else:\n",
    "            wordList = message.split()\n",
    "            for word in wordList:\n",
    "                if(YTrain[i] == 0):\n",
    "                    XFeaturesSpam.append((word.lower(), YTrain[i]))\n",
    "                elif (YTrain[i] == 1):\n",
    "                    XFeaturesHam.append((word.lower(), YTrain[i]))\n",
    "\n",
    "            i+=1\n",
    "    return Counter(XFeaturesSpam), Counter(XFeaturesHam)\n"
   ]
  },
  {
   "cell_type": "code",
   "execution_count": 153,
   "metadata": {
    "collapsed": false
   },
   "outputs": [],
   "source": [
    "# # Compute Spamicity\n",
    "# def computeSpamicity(XFeaturesSpam, XFeaturesHam, noOfSpamWords = 20):\n",
    "#     XFeatures = {}\n",
    "#     for key in XFeaturesSpam.keys():\n",
    "#         word = key[0]\n",
    "#     #     print word, XFeaturesSpam[key], XFeaturesHam[(word, 1)]\n",
    "#         spamicity = float(XFeaturesSpam[key]) / float(XFeaturesSpam[key] + XFeaturesHam[(word, 1)])\n",
    "#         XFeatures[word] = spamicity\n",
    "\n",
    "#     # Sort and pick top most spam words as features\n",
    "#     from operator import itemgetter, attrgetter    \n",
    "#     descSortedFeatures = sorted(XFeatures.items(), key=itemgetter(1), reverse = True)\n",
    "\n",
    "#     # Select the top most frequent spam word\n",
    "#     spamWordsTaken = [x for x in descSortedFeatures[0:noOfSpamWords]]\n",
    "#     return spamWordsTaken"
   ]
  },
  {
   "cell_type": "markdown",
   "metadata": {},
   "source": [
    "### Compute Spamicity for each word"
   ]
  },
  {
   "cell_type": "code",
   "execution_count": 18,
   "metadata": {
    "collapsed": true
   },
   "outputs": [],
   "source": [
    "def computeSpamicityWords(XFeaturesSpam, XFeaturesHam):\n",
    "    XFeatures = {}\n",
    "    for key in XFeaturesSpam.keys():\n",
    "        word = key[0]\n",
    "    #     print word, XFeaturesSpam[key], XFeaturesHam[(word, 1)]\n",
    "        spamicity = float(XFeaturesSpam[key]) / float(XFeaturesSpam[key] + XFeaturesHam[(word, 1)])\n",
    "#         hamicity = 1-spamicity\n",
    "        XFeatures[word] = spamicity\n",
    "    return XFeatures"
   ]
  },
  {
   "cell_type": "markdown",
   "metadata": {},
   "source": [
    "### Extract Email Subjects"
   ]
  },
  {
   "cell_type": "code",
   "execution_count": 20,
   "metadata": {
    "collapsed": true
   },
   "outputs": [],
   "source": [
    "def extractEmailSubjects(folder,fileString, emailFileName):\n",
    "    with open(folder+fileString+emailFileName+'.eml','r') as f:\n",
    "        message = email.message_from_file(f)\n",
    "    return message['Subject']\n"
   ]
  },
  {
   "cell_type": "code",
   "execution_count": 21,
   "metadata": {
    "collapsed": false
   },
   "outputs": [],
   "source": [
    "def readSubjects(XTrainFileNames, trainFolder, fileString='TRAIN_'):\n",
    "    trainSubjects = []\n",
    "    for fileName in XTrainFileNames:\n",
    "        trainSubjects.append(extractEmailSubjects(trainFolder,fileString,fileName))\n",
    "    return trainSubjects"
   ]
  },
  {
   "cell_type": "markdown",
   "metadata": {},
   "source": [
    "### Extract specific email fields"
   ]
  },
  {
   "cell_type": "code",
   "execution_count": 22,
   "metadata": {
    "collapsed": true
   },
   "outputs": [],
   "source": [
    "def extractEmailField(folder, fileString, emailFileName, fieldName):\n",
    "    with open(folder+fileString+emailFileName+'.eml','r') as f:\n",
    "        message = email.message_from_file(f)\n",
    "    return message[fieldName]"
   ]
  },
  {
   "cell_type": "code",
   "execution_count": 23,
   "metadata": {
    "collapsed": false
   },
   "outputs": [],
   "source": [
    "def readEmailField(fieldName, XTrainFileNames, trainFolder, fileString='TRAIN_'):\n",
    "    trainField = []\n",
    "    for fileName in XTrainFileNames:\n",
    "        trainField.append(extractEmailField(trainFolder,fileString,fileName,fieldName))\n",
    "    return trainField"
   ]
  },
  {
   "cell_type": "markdown",
   "metadata": {},
   "source": [
    "### Read email as a string"
   ]
  },
  {
   "cell_type": "code",
   "execution_count": 24,
   "metadata": {
    "collapsed": true
   },
   "outputs": [],
   "source": [
    "def extractEmail(folder,fileString, emailFileName):\n",
    "    with open(folder+fileString+emailFileName+'.eml','r') as f:\n",
    "        message = email.message_from_file(f)\n",
    "    return message.as_string()"
   ]
  },
  {
   "cell_type": "code",
   "execution_count": 25,
   "metadata": {
    "collapsed": false
   },
   "outputs": [],
   "source": [
    "def readEmails(XTrainFileNames, trainFolder, fileString='TRAIN_'):\n",
    "    trainEmails = []\n",
    "    for fileName in XTrainFileNames:\n",
    "        trainEmails.append(extractEmail(trainFolder,fileString,fileName))\n",
    "    return trainEmails"
   ]
  },
  {
   "cell_type": "markdown",
   "metadata": {},
   "source": [
    "### Extract other fields from the email message"
   ]
  },
  {
   "cell_type": "code",
   "execution_count": 26,
   "metadata": {
    "collapsed": false
   },
   "outputs": [],
   "source": [
    "#fieldName = 'Sender'\n",
    "fieldName = 'From'\n",
    "trainSender = readEmailField(fieldName, XTrainFileNames, trainFolder, 'TRAIN_')\n",
    "testSender = readEmailField(fieldName, XTestFileNames, testFolder, 'TEST_')"
   ]
  },
  {
   "cell_type": "code",
   "execution_count": 27,
   "metadata": {
    "collapsed": true
   },
   "outputs": [],
   "source": [
    "fieldName = 'Date'\n",
    "trainDate = readEmailField(fieldName, XTrainFileNames, trainFolder, 'TRAIN_')\n",
    "testDate= readEmailField(fieldName, XTestFileNames, testFolder, 'TEST_')"
   ]
  },
  {
   "cell_type": "markdown",
   "metadata": {},
   "source": [
    "### Check whether the email date is future."
   ]
  },
  {
   "cell_type": "code",
   "execution_count": 28,
   "metadata": {
    "collapsed": true
   },
   "outputs": [],
   "source": [
    "from datetime import datetime\n",
    "minYr = 2000\n",
    "maxYr = 2010\n",
    "       \n",
    "def CheckFutureDate(lstYear):\n",
    "    futureYr = []\n",
    "    for yr in lstYear:\n",
    "        if yr >= minYr and yr <= maxYr :\n",
    "            futureYr.append(True)\n",
    "        else:\n",
    "            if yr == 2021:\n",
    "                futureYr.append(True) \n",
    "            else:\n",
    "    #             print emailDate\n",
    "                futureYr.append(False)\n",
    "    return futureYr"
   ]
  },
  {
   "cell_type": "code",
   "execution_count": 29,
   "metadata": {
    "collapsed": true
   },
   "outputs": [],
   "source": [
    "def getDates(lstDates):\n",
    "    dateList = []\n",
    "    # fmt = \"%a, %d %b %Y %H:%M:%S\"\n",
    "    # date_object = datetime.strptime(string_date[:25], fmt)\n",
    "    # CheckFutureDate(date_object)\n",
    "    monthList = ['Jan ', 'Feb ', 'Mar ', 'Apr ', 'May ', 'Jun ', 'Jul ', 'Aug ', 'Sep ', 'Oct ', 'Nov ', 'Dec ']\n",
    "    for string_date in lstDates:\n",
    "        for i in monthList:\n",
    "            strYearPart  = string_date.split(i)\n",
    "            if len(strYearPart) == 2:\n",
    "                year = strYearPart[1][:4]\n",
    "                try:\n",
    "                    year = int(year)\n",
    "                except:\n",
    "                    year = int('20' + year.split()[0])\n",
    "    #                 print year, string_date\n",
    "\n",
    "#                 dateList.append(CheckFutureDate(year))\n",
    "                dateList.append(year)\n",
    "\n",
    "    return dateList\n",
    "\n",
    "\n",
    "lstTrainYear = getDates(trainDate)\n",
    "lstTestYear = getDates(testDate)\n",
    "# print lstTestDates\n",
    "# print (lstTestYear)"
   ]
  },
  {
   "cell_type": "markdown",
   "metadata": {},
   "source": [
    "### Check for missing sender field"
   ]
  },
  {
   "cell_type": "code",
   "execution_count": 31,
   "metadata": {
    "collapsed": true
   },
   "outputs": [],
   "source": [
    "def CheckMissingSender(lstSender):\n",
    "    missingSenders = []\n",
    "    for sender in lstSender:\n",
    "        if sender is None:\n",
    "            missingSenders.append(True)\n",
    "        else:\n",
    "            missingSenders.append(False)\n",
    "    return missingSenders"
   ]
  },
  {
   "cell_type": "markdown",
   "metadata": {},
   "source": [
    "### Convert YTrain to a numpy array type"
   ]
  },
  {
   "cell_type": "code",
   "execution_count": 32,
   "metadata": {
    "collapsed": false
   },
   "outputs": [
    {
     "data": {
      "text/plain": [
       "numpy.int64"
      ]
     },
     "execution_count": 32,
     "metadata": {},
     "output_type": "execute_result"
    }
   ],
   "source": [
    "type(YTrain)\n",
    "type(YTrain[0])\n",
    "YTrain = YTrain.astype(np.int)\n",
    "type(YTrain[0])"
   ]
  },
  {
   "cell_type": "markdown",
   "metadata": {},
   "source": [
    "\n",
    "### Get Spamicity of words based on Email Subject"
   ]
  },
  {
   "cell_type": "code",
   "execution_count": 33,
   "metadata": {
    "collapsed": false
   },
   "outputs": [
    {
     "name": "stdout",
     "output_type": "stream",
     "text": [
      "2500\n"
     ]
    }
   ],
   "source": [
    "trainSubjects = readSubjects(XTrainFileNames, trainFolder, 'TRAIN_')\n",
    "print len(trainSubjects)\n",
    "XFeaturesSubjectSpam, XFeaturesSubjectHam = AnalyseWordLabelContribution(trainSubjects, YTrain)\n",
    "# print XFeaturesSpam\n",
    "\n",
    "SubjectWordsSpamicity = computeSpamicityWords(XFeaturesSubjectSpam, XFeaturesSubjectHam)\n",
    "# print len(SubjectWordsSpamicity)\n",
    "# print SubjectWordsSpamicity"
   ]
  },
  {
   "cell_type": "code",
   "execution_count": 34,
   "metadata": {
    "collapsed": false
   },
   "outputs": [],
   "source": [
    "count =0\n",
    "for i in xrange(len(trainSubjects)):\n",
    "    if trainSubjects[i]:\n",
    "        count+=1\n",
    "#         print trainSubjects[i],YTrain[i]#,count,i"
   ]
  },
  {
   "cell_type": "markdown",
   "metadata": {},
   "source": [
    "### Get Spamicity of words based on Email Body"
   ]
  },
  {
   "cell_type": "code",
   "execution_count": 35,
   "metadata": {
    "collapsed": false
   },
   "outputs": [],
   "source": [
    "XFeaturesBodySpam, XFeaturesBodyHam = AnalyseWordLabelContribution(trainEmailBody, YTrain)"
   ]
  },
  {
   "cell_type": "code",
   "execution_count": 36,
   "metadata": {
    "collapsed": false
   },
   "outputs": [
    {
     "name": "stdout",
     "output_type": "stream",
     "text": [
      "72901\n"
     ]
    }
   ],
   "source": [
    "BodyWordsSpamicity = computeSpamicityWords(XFeaturesBodySpam, XFeaturesBodyHam)\n",
    "print len(BodyWordsSpamicity)\n",
    "# print BodyWordsSpamicity"
   ]
  },
  {
   "cell_type": "markdown",
   "metadata": {},
   "source": [
    "### Convert Spamicity/Hamicity to a feature vector for each message."
   ]
  },
  {
   "cell_type": "code",
   "execution_count": 37,
   "metadata": {
    "collapsed": true
   },
   "outputs": [],
   "source": [
    "def computeSpamHamMetrics(message, wordSpamicity):\n",
    "    spamInd =1.0\n",
    "    hamInd =1.0\n",
    "    if message == None:\n",
    "        return 0.5,0.5\n",
    "    else:\n",
    "        wordList = message.split()\n",
    "        for word in wordList:\n",
    "            try:\n",
    "                spamInd *= wordSpamicity[word.lower()]\n",
    "                hamInd *= (1-wordSpamicity[word.lower()])\n",
    "            except KeyError:\n",
    "                spamInd *= 1.0#0.5\n",
    "                hamInd *= 1.0#0.5\n",
    "    return spamInd,hamInd    "
   ]
  },
  {
   "cell_type": "code",
   "execution_count": 38,
   "metadata": {
    "collapsed": true
   },
   "outputs": [],
   "source": [
    "# Create feature vector using computeSpamHamMetrics()\n",
    "def createSpamHamFeature(messages, wordSpamicity):\n",
    "    XFeatures = []\n",
    "    for message in messages:\n",
    "        spam, ham = computeSpamHamMetrics(message, wordSpamicity)\n",
    "        XFeatures.append([spam,ham])\n",
    "    return np.array(XFeatures)"
   ]
  },
  {
   "cell_type": "markdown",
   "metadata": {},
   "source": [
    "### Convert Top Spamicity/Hamicity to a feature vector for each message."
   ]
  },
  {
   "cell_type": "code",
   "execution_count": 128,
   "metadata": {
    "collapsed": true
   },
   "outputs": [],
   "source": [
    "def computeTopSpamHamMetrics(message, wordSpamicity, noOfWords=15):\n",
    "    spamInd =1.0\n",
    "    hamInd =1.0\n",
    "    spamList = []\n",
    "    hamList = []\n",
    "    if message == None:\n",
    "        return 0.5,0.5\n",
    "    else:\n",
    "        wordList = message.split()\n",
    "        for word in wordList:\n",
    "            try:\n",
    "                spamList.append(abs(wordSpamicity[word.lower()]-0.5))\n",
    "                hamList.append(abs(wordSpamicity[word.lower()]-1.0))\n",
    "            except KeyError:\n",
    "                spamList.append(0.5)\n",
    "                hamList.append(1.0)\n",
    "        spamList.sort(reverse=True)\n",
    "        hamList.sort(reverse=True)\n",
    "    \n",
    "    if len(spamList) > noOfWords:\n",
    "        for i in xrange(noOfWords):\n",
    "            spamInd *= spamList[i]\n",
    "            hamInd *= hamList[i]\n",
    "    else:\n",
    "         for i in xrange(len(spamList)):\n",
    "            spamInd *= spamList[i]\n",
    "            hamInd *= hamList[i]\n",
    "        \n",
    "    return spamInd,hamInd    "
   ]
  },
  {
   "cell_type": "code",
   "execution_count": 130,
   "metadata": {
    "collapsed": true
   },
   "outputs": [],
   "source": [
    "def createTopSpamHamFeature(messages, wordSpamicity):\n",
    "    XFeatures = []\n",
    "    for message in messages:\n",
    "        spam, ham = computeTopSpamHamMetrics(message, wordSpamicity)\n",
    "        XFeatures.append([spam,ham])\n",
    "    return np.array(XFeatures)"
   ]
  },
  {
   "cell_type": "markdown",
   "metadata": {},
   "source": [
    "### Create feature vector based on only the Top Spam Metric"
   ]
  },
  {
   "cell_type": "code",
   "execution_count": 133,
   "metadata": {
    "collapsed": true
   },
   "outputs": [],
   "source": [
    "def computeTopSpamMetrics(message, wordSpamicity, noOfWords=15):\n",
    "    spamInd =1.0\n",
    "    spamList = []\n",
    "    if message == None:\n",
    "        return 0.5\n",
    "    else:\n",
    "        wordList = message.split()\n",
    "        for word in wordList:\n",
    "            try:\n",
    "                if wordSpamicity[word.lower()] > 0.5:\n",
    "                    spamList.append(abs(wordSpamicity[word.lower()]))\n",
    "            except KeyError:\n",
    "                pass\n",
    "        spamList.sort(reverse=True)\n",
    "    \n",
    "    if len(spamList) > noOfWords:\n",
    "        for i in xrange(noOfWords):\n",
    "            spamInd *= spamList[i]\n",
    "    else:\n",
    "         for i in xrange(len(spamList)):\n",
    "            spamInd *= spamList[i]\n",
    "\n",
    "    return spamInd#,hamInd"
   ]
  },
  {
   "cell_type": "code",
   "execution_count": 135,
   "metadata": {
    "collapsed": true
   },
   "outputs": [],
   "source": [
    "def createTopSpamFeature(messages, wordSpamicity):\n",
    "    XFeatures = []\n",
    "    for message in messages:\n",
    "        spam = computeTopSpamMetrics(message, wordSpamicity)\n",
    "        XFeatures.append(spam)\n",
    "    return np.array(XFeatures).reshape(-1,1)"
   ]
  },
  {
   "cell_type": "markdown",
   "metadata": {},
   "source": [
    "### Create feature vector based on ratio of spam words"
   ]
  },
  {
   "cell_type": "code",
   "execution_count": 41,
   "metadata": {
    "collapsed": false
   },
   "outputs": [],
   "source": [
    "# Counting all tokens having Spamicity greater than a threshold (0.5)\n",
    "def createSpamWordRatioFeature(messages, wordSpamicity, threshold = 0.5):\n",
    "    XFeatures = []\n",
    "    for message in messages:\n",
    "        if message is not None:\n",
    "            wordList = message.split()\n",
    "            lenWords = len(wordList)\n",
    "            count = 0.0\n",
    "            for word in wordList:\n",
    "                try:\n",
    "                    spamInd = wordSpamicity[word.lower()]\n",
    "                    hamInd = (1-wordSpamicity[word.lower()])\n",
    "                except KeyError:\n",
    "                    spamInd = 0.5\n",
    "                    hamInd = 0.5\n",
    "                if spamInd > threshold:\n",
    "                    count += 1\n",
    "            if lenWords != 0:\n",
    "                XFeatures.append(float(count)/lenWords)\n",
    "            else:\n",
    "                XFeatures.append(0)\n",
    "        else:\n",
    "            XFeatures.append(0)\n",
    "    return np.array(XFeatures).reshape(-1, 1)"
   ]
  },
  {
   "cell_type": "markdown",
   "metadata": {},
   "source": [
    "### Get SPAM/HAM Label specific training data"
   ]
  },
  {
   "cell_type": "code",
   "execution_count": 42,
   "metadata": {
    "collapsed": false
   },
   "outputs": [],
   "source": [
    "def GetSpamHamMsgIdx(label, trainMsgSpamHam, YTrain):\n",
    "    indices = np.where(YTrain == label)[0]\n",
    "    trainMsgLabel = []\n",
    "    YTrainLabel = []\n",
    "    for i in indices:\n",
    "        trainMsgLabel.append(trainMsgSpamHam[i])\n",
    "        YTrainLabel.append(YTrain[i])\n",
    "    return trainMsgLabel, YTrainLabel"
   ]
  },
  {
   "cell_type": "markdown",
   "metadata": {},
   "source": [
    "### Plot Histogram for Email Message (Subject/Body) Length of Spam and Ham"
   ]
  },
  {
   "cell_type": "code",
   "execution_count": 43,
   "metadata": {
    "collapsed": false
   },
   "outputs": [],
   "source": [
    "import numpy as np\n",
    "import matplotlib.pyplot as plt\n",
    "%matplotlib inline\n",
    "\n",
    "def PlotCharCountInMsg(XMessages, YTrain, label):\n",
    "    XMessagesLength = []\n",
    "    for message in XMessages:\n",
    "        if message is None:\n",
    "            XMessagesLength.append(0)\n",
    "        else:\n",
    "            XMessagesLength.append(len(message))\n",
    "            \n",
    "#     XMessagesLength = [len(message) for message in XMessages]\n",
    "    messageNos = [i+1 for i in xrange(0,len(XMessagesLength))]\n",
    "\n",
    "    pos = np.arange(len(messageNos))\n",
    "    width = 0.05     # gives histogram aspect to the bar diagram\n",
    "\n",
    "    ax = plt.axes()\n",
    "    ax.set_xticks(pos + (width / 2))\n",
    "    ax.set_xticklabels(YTrain)\n",
    "    \n",
    "    xlabelMsg = ''\n",
    "    if label == 1:\n",
    "        xlabelMsg = 'HAM Messages'\n",
    "    elif label == 0:\n",
    "        xlabelMsg = 'SPAM Messages'\n",
    "        \n",
    "    plt.xlabel(xlabelMsg)\n",
    "    plt.ylabel('Character Count')\n",
    "    plt.title('Distribution of Character Count in Email Messages.')\n",
    "    plt.grid(True)\n",
    "\n",
    "    # add a 'best fit' line\n",
    "\n",
    "    plt.bar(pos, XMessagesLength, width, color='b')\n",
    "    plt.show()"
   ]
  },
  {
   "cell_type": "markdown",
   "metadata": {},
   "source": [
    "### Plot Histogram for Email Subject Length of Spam"
   ]
  },
  {
   "cell_type": "code",
   "execution_count": 44,
   "metadata": {
    "collapsed": false
   },
   "outputs": [
    {
     "data": {
      "image/png": "[encoded data removed]",
      "text/plain": [
       "<matplotlib.figure.Figure at 0x7faacc6f6390>"
      ]
     },
     "metadata": {},
     "output_type": "display_data"
    }
   ],
   "source": [
    "label = 0\n",
    "trainMsgSpamHam = trainSubjects\n",
    "trainMsgLabel, YTrainLabel = GetSpamHamMsgIdx(label, trainMsgSpamHam, YTrain)\n",
    "PlotCharCountInMsg(trainMsgLabel, YTrainLabel, label)"
   ]
  },
  {
   "cell_type": "markdown",
   "metadata": {},
   "source": [
    "### Plot Histogram for Email Subject Length of Ham"
   ]
  },
  {
   "cell_type": "code",
   "execution_count": 45,
   "metadata": {
    "collapsed": false
   },
   "outputs": [
    {
     "data": {
      "image/png": "[encoded data removed]",
      "text/plain": [
       "<matplotlib.figure.Figure at 0x7faabf153fd0>"
      ]
     },
     "metadata": {},
     "output_type": "display_data"
    }
   ],
   "source": [
    "label = 1\n",
    "trainMsgSpamHam = trainSubjects\n",
    "trainMsgLabel, YTrainLabel = GetSpamHamMsgIdx(label, trainMsgSpamHam, YTrain)\n",
    "PlotCharCountInMsg(trainMsgLabel, YTrainLabel, label)"
   ]
  },
  {
   "cell_type": "markdown",
   "metadata": {},
   "source": [
    "### Plot Histogram for Email Body Length of Spam"
   ]
  },
  {
   "cell_type": "code",
   "execution_count": 46,
   "metadata": {
    "collapsed": false
   },
   "outputs": [
    {
     "data": {
      "image/png": "[encoded data removed]",
      "text/plain": [
       "<matplotlib.figure.Figure at 0x7faace464bd0>"
      ]
     },
     "metadata": {},
     "output_type": "display_data"
    }
   ],
   "source": [
    "label = 0\n",
    "trainMsgSpamHam = trainEmailBody\n",
    "trainMsgLabel, YTrainLabel = GetSpamHamMsgIdx(label, trainMsgSpamHam, YTrain)\n",
    "PlotCharCountInMsg(trainMsgLabel, YTrainLabel, label)"
   ]
  },
  {
   "cell_type": "markdown",
   "metadata": {},
   "source": [
    "### Plot Histogram for Email Body Length of Ham"
   ]
  },
  {
   "cell_type": "code",
   "execution_count": 47,
   "metadata": {
    "collapsed": false
   },
   "outputs": [
    {
     "data": {
      "image/png": "[encoded data removed]",
      "text/plain": [
       "<matplotlib.figure.Figure at 0x7faabeb66450>"
      ]
     },
     "metadata": {},
     "output_type": "display_data"
    }
   ],
   "source": [
    "label = 1\n",
    "trainMsgSpamHam = trainEmailBody\n",
    "trainMsgLabel, YTrainLabel = GetSpamHamMsgIdx(label, trainMsgSpamHam, YTrain)\n",
    "PlotCharCountInMsg(trainMsgLabel, YTrainLabel, label)"
   ]
  },
  {
   "cell_type": "markdown",
   "metadata": {},
   "source": [
    "### Plot & Analyze Importance of Capital Letters in Spam Messages"
   ]
  },
  {
   "cell_type": "code",
   "execution_count": 48,
   "metadata": {
    "collapsed": true
   },
   "outputs": [],
   "source": [
    "def AnalyzeCapitalLettersInMsg(XMessages, minLetteredWord = 3):\n",
    "    countCapitalsInMsg = []\n",
    "    for msg in XMessages:\n",
    "        countCapitals = 0\n",
    "        if not msg is None:\n",
    "            wordList = msg.split()\n",
    "            for word in wordList:\n",
    "                if word.isupper() and len(word) > minLetteredWord:\n",
    "                    countCapitals += 1\n",
    "    #                 print word, True\n",
    "        countCapitalsInMsg.append(countCapitals)\n",
    "    return np.array(countCapitalsInMsg).reshape(-1, 1)"
   ]
  },
  {
   "cell_type": "code",
   "execution_count": 49,
   "metadata": {
    "collapsed": false
   },
   "outputs": [],
   "source": [
    "import numpy as np\n",
    "import matplotlib.pyplot as plt\n",
    "%matplotlib inline\n",
    "\n",
    "def PlotCapitalCharCountInMsg(XMessages, YTrain, label, minLetteredWord):\n",
    "    XMessagesLength = []\n",
    "    \n",
    "    trainMsgLabel, YTrainLabel = GetSpamHamMsgIdx(label, XMessages, YTrain)\n",
    "    \n",
    "    countCapitalsInMsg = AnalyzeCapitalLettersInMsg(trainMsgLabel, minLetteredWord)\n",
    "    \n",
    "    pos = np.arange(len(countCapitalsInMsg))\n",
    "    width = 0.05     # gives histogram aspect to the bar diagram\n",
    "\n",
    "    ax = plt.axes()\n",
    "    ax.set_xticks(pos + (width / 2))\n",
    "    ax.set_xticklabels(YTrainLabel)\n",
    "    \n",
    "    xlabelMsg = ''\n",
    "    if label == 1:\n",
    "        xlabelMsg = 'HAM Messages'\n",
    "    elif label == 0:\n",
    "        xlabelMsg = 'SPAM Messages'\n",
    "        \n",
    "    plt.xlabel(xlabelMsg)\n",
    "    plt.ylabel('Character Count')\n",
    "    plt.title('Distribution of Capital Letters in Email Messages.')\n",
    "    plt.grid(True)\n",
    "\n",
    "    plt.bar(pos, countCapitalsInMsg, width, color='b')\n",
    "    plt.show()"
   ]
  },
  {
   "cell_type": "markdown",
   "metadata": {},
   "source": [
    "### Distribution of Capital Letters in SPAM Email Subjects"
   ]
  },
  {
   "cell_type": "code",
   "execution_count": 50,
   "metadata": {
    "collapsed": false
   },
   "outputs": [
    {
     "data": {
      "image/png": "[encoded data removed]",
      "text/plain": [
       "<matplotlib.figure.Figure at 0x7faabee98dd0>"
      ]
     },
     "metadata": {},
     "output_type": "display_data"
    }
   ],
   "source": [
    "label = 0\n",
    "minLetteredWord = 3\n",
    "XTrainMsg = trainSubjects\n",
    "PlotCapitalCharCountInMsg(XTrainMsg, YTrain, label, minLetteredWord)"
   ]
  },
  {
   "cell_type": "markdown",
   "metadata": {},
   "source": [
    "### Distribution of Capital Letters in HAM Email Subjects"
   ]
  },
  {
   "cell_type": "code",
   "execution_count": 51,
   "metadata": {
    "collapsed": false
   },
   "outputs": [
    {
     "data": {
      "image/png": "[encoded data removed]",
      "text/plain": [
       "<matplotlib.figure.Figure at 0x7faabbd827d0>"
      ]
     },
     "metadata": {},
     "output_type": "display_data"
    }
   ],
   "source": [
    "label = 1\n",
    "minLetteredWord = 3\n",
    "XTrainMsg = trainSubjects\n",
    "PlotCapitalCharCountInMsg(XTrainMsg, YTrain, label, minLetteredWord)"
   ]
  },
  {
   "cell_type": "markdown",
   "metadata": {},
   "source": [
    "### Distribution of Capital Letters in SPAM Email Body"
   ]
  },
  {
   "cell_type": "code",
   "execution_count": 52,
   "metadata": {
    "collapsed": false
   },
   "outputs": [
    {
     "data": {
      "image/png": "[encoded data removed]",
      "text/plain": [
       "<matplotlib.figure.Figure at 0x7faac80744d0>"
      ]
     },
     "metadata": {},
     "output_type": "display_data"
    }
   ],
   "source": [
    "label = 0\n",
    "minLetteredWord = 3\n",
    "XTrainMsg = trainEmailBody\n",
    "PlotCapitalCharCountInMsg(XTrainMsg, YTrain, label, minLetteredWord)"
   ]
  },
  {
   "cell_type": "markdown",
   "metadata": {},
   "source": [
    "### Distribution of Capital Letters in HAM Email Body"
   ]
  },
  {
   "cell_type": "code",
   "execution_count": 53,
   "metadata": {
    "collapsed": false
   },
   "outputs": [
    {
     "data": {
      "image/png": "[encoded data removed]",
      "text/plain": [
       "<matplotlib.figure.Figure at 0x7faabc67bc90>"
      ]
     },
     "metadata": {},
     "output_type": "display_data"
    }
   ],
   "source": [
    "label = 1\n",
    "minLetteredWord = 3\n",
    "XTrainMsg = trainEmailBody\n",
    "PlotCapitalCharCountInMsg(XTrainMsg, YTrain, label, minLetteredWord)"
   ]
  },
  {
   "cell_type": "markdown",
   "metadata": {},
   "source": [
    "### Plot & create Features based on the Presence/Absence of a particular substring in the message."
   ]
  },
  {
   "cell_type": "code",
   "execution_count": 54,
   "metadata": {
    "collapsed": true
   },
   "outputs": [],
   "source": [
    "def ChkPresenceOfStringFeat(XMessages, strXContainsList):\n",
    "    XSignFeature = []\n",
    "    for msg in XMessages:\n",
    "        countStrOccurence = 0\n",
    "        if not msg is None:\n",
    "            wordList = msg.split()\n",
    "            for word in wordList:\n",
    "                if word.lower() in strXContainsList:\n",
    "                    countStrOccurence += 1\n",
    "        \n",
    "        XSignFeature.append(countStrOccurence)\n",
    "    return np.array(XSignFeature).reshape(-1, 1)"
   ]
  },
  {
   "cell_type": "code",
   "execution_count": 55,
   "metadata": {
    "collapsed": true
   },
   "outputs": [],
   "source": [
    "import numpy as np\n",
    "import matplotlib.pyplot as plt\n",
    "%matplotlib inline\n",
    "\n",
    "def PlotStrOccurenceCountInMsg(XMessages, YTrain, label, strSpamWordsList):\n",
    "    \n",
    "    trainMsgLabel, YTrainLabel = GetSpamHamMsgIdx(label, XMessages, YTrain)\n",
    "    \n",
    "    XSignFeature = ChkPresenceOfStringFeat(trainMsgLabel, strSpamWordsList)\n",
    "    pos = np.arange(len(XSignFeature))\n",
    "    width = 0.05     # gives histogram aspect to the bar diagram\n",
    "\n",
    "    ax = plt.axes()\n",
    "    ax.set_xticks(pos + (width / 2))\n",
    "    xTicksLbl = range(0, len(YTrainLabel))\n",
    "    ax.set_xticklabels(xTicksLbl)\n",
    "    \n",
    "    xlabelMsg = ''\n",
    "    if label == 1:\n",
    "        xlabelMsg = 'HAM Messages'\n",
    "    elif label == 0:\n",
    "        xlabelMsg = 'SPAM Messages'\n",
    "        \n",
    "    plt.xlabel(xlabelMsg)\n",
    "    plt.ylabel('String Occurence Count')\n",
    "    plt.title('Distribution of Occurences of String in Email Messages.')\n",
    "#     plt.grid(True)\n",
    "\n",
    "    plt.bar(pos, XSignFeature, width, color='b')\n",
    "    plt.show()"
   ]
  },
  {
   "cell_type": "markdown",
   "metadata": {},
   "source": [
    "### Presence/Absence of PGP SIGNATURE in SPAM message subject as a feature"
   ]
  },
  {
   "cell_type": "code",
   "execution_count": 56,
   "metadata": {
    "collapsed": false
   },
   "outputs": [
    {
     "data": {
      "image/png": "[encoded data removed]",
      "text/plain": [
       "<matplotlib.figure.Figure at 0x7faab956b450>"
      ]
     },
     "metadata": {},
     "output_type": "display_data"
    }
   ],
   "source": [
    "label = 0\n",
    "XTrainMsg = trainSubjects\n",
    "strSpamWordsList = [\"pgp\"]\n",
    "PlotStrOccurenceCountInMsg(XTrainMsg, YTrain, label, strSpamWordsList)"
   ]
  },
  {
   "cell_type": "markdown",
   "metadata": {},
   "source": [
    "### Presence/Absence of PGP SIGNATURE in HAM message subject as a feature"
   ]
  },
  {
   "cell_type": "code",
   "execution_count": 57,
   "metadata": {
    "collapsed": false
   },
   "outputs": [
    {
     "data": {
      "image/png": "[encoded data removed]",
      "text/plain": [
       "<matplotlib.figure.Figure at 0x7faabe9e4590>"
      ]
     },
     "metadata": {},
     "output_type": "display_data"
    }
   ],
   "source": [
    "label = 1\n",
    "XTrainMsg = trainSubjects\n",
    "strSpamWordsList = [\"pgp\"]\n",
    "PlotStrOccurenceCountInMsg(XTrainMsg, YTrain, label, strSpamWordsList)"
   ]
  },
  {
   "cell_type": "markdown",
   "metadata": {},
   "source": [
    "### Presence/Absence of PGP SIGNATURE in SPAM message body as a feature"
   ]
  },
  {
   "cell_type": "code",
   "execution_count": 58,
   "metadata": {
    "collapsed": false
   },
   "outputs": [
    {
     "data": {
      "image/png": "[encoded data removed]",
      "text/plain": [
       "<matplotlib.figure.Figure at 0x7faac79fa510>"
      ]
     },
     "metadata": {},
     "output_type": "display_data"
    }
   ],
   "source": [
    "label = 0\n",
    "XTrainMsg = trainEmailBody\n",
    "strSpamWordsList = [\"pgp\"]\n",
    "PlotStrOccurenceCountInMsg(XTrainMsg, YTrain, label, strSpamWordsList)"
   ]
  },
  {
   "cell_type": "markdown",
   "metadata": {},
   "source": [
    "### Presence/Absence of PGP SIGNATURE in HAM message body as a feature"
   ]
  },
  {
   "cell_type": "code",
   "execution_count": 59,
   "metadata": {
    "collapsed": false
   },
   "outputs": [
    {
     "data": {
      "image/png": "[encoded data removed]",
      "text/plain": [
       "<matplotlib.figure.Figure at 0x7faab9baa110>"
      ]
     },
     "metadata": {},
     "output_type": "display_data"
    }
   ],
   "source": [
    "label = 1\n",
    "XTrainMsg = trainEmailBody\n",
    "strSpamWordsList = [\"pgp\"]\n",
    "PlotStrOccurenceCountInMsg(XTrainMsg, YTrain, label, strSpamWordsList)"
   ]
  },
  {
   "cell_type": "code",
   "execution_count": 60,
   "metadata": {
    "collapsed": false
   },
   "outputs": [
    {
     "data": {
      "image/png": "[encoded data removed]",
      "text/plain": [
       "<matplotlib.figure.Figure at 0x7faac876a250>"
      ]
     },
     "metadata": {},
     "output_type": "display_data"
    }
   ],
   "source": [
    "label = 1\n",
    "XTrainMsg = trainEmailBody[2]\n",
    "strSpamWordsList = [\"pgp\"]\n",
    "PlotStrOccurenceCountInMsg(XTrainMsg, [1], label, strSpamWordsList)"
   ]
  },
  {
   "cell_type": "markdown",
   "metadata": {},
   "source": [
    "### Presence/Absence of Words in the SPAM message subject as a feature"
   ]
  },
  {
   "cell_type": "code",
   "execution_count": 61,
   "metadata": {
    "collapsed": false
   },
   "outputs": [
    {
     "data": {
      "image/png": "[encoded data removed]",
      "text/plain": [
       "<matplotlib.figure.Figure at 0x7faabb2e1ed0>"
      ]
     },
     "metadata": {},
     "output_type": "display_data"
    }
   ],
   "source": [
    "strSpamWordsList =  [\"[spam]\", \"spam\", \"sex\", \"viagra\", \"money\", \"prize\", \"lottery\", \"jackpot\", \"replica\"]\n",
    "label = 0\n",
    "XTrainMsg = trainSubjects\n",
    "PlotStrOccurenceCountInMsg(XTrainMsg, YTrain, label, strSpamWordsList)"
   ]
  },
  {
   "cell_type": "markdown",
   "metadata": {},
   "source": [
    "### Presence/Absence of Words in the HAM message subject as a feature"
   ]
  },
  {
   "cell_type": "code",
   "execution_count": 62,
   "metadata": {
    "collapsed": false
   },
   "outputs": [
    {
     "data": {
      "image/png": "[encoded data removed]",
      "text/plain": [
       "<matplotlib.figure.Figure at 0x7faac59eba90>"
      ]
     },
     "metadata": {},
     "output_type": "display_data"
    }
   ],
   "source": [
    "label = 1\n",
    "XTrainMsg = trainSubjects\n",
    "PlotStrOccurenceCountInMsg(XTrainMsg, YTrain, label, strSpamWordsList)"
   ]
  },
  {
   "cell_type": "markdown",
   "metadata": {},
   "source": [
    "### Presence/Absence of Words in the SPAM message body as a feature"
   ]
  },
  {
   "cell_type": "code",
   "execution_count": 63,
   "metadata": {
    "collapsed": false
   },
   "outputs": [
    {
     "data": {
      "image/png": "[encoded data removed]",
      "text/plain": [
       "<matplotlib.figure.Figure at 0x7faab95ab890>"
      ]
     },
     "metadata": {},
     "output_type": "display_data"
    }
   ],
   "source": [
    "label = 0\n",
    "XTrainMsg = trainEmailBody\n",
    "PlotStrOccurenceCountInMsg(XTrainMsg, YTrain, label, strSpamWordsList)"
   ]
  },
  {
   "cell_type": "markdown",
   "metadata": {},
   "source": [
    "### Presence/Absence of Words in the HAM message body as a feature"
   ]
  },
  {
   "cell_type": "code",
   "execution_count": 64,
   "metadata": {
    "collapsed": false
   },
   "outputs": [
    {
     "data": {
      "image/png": "[encoded data removed]",
      "text/plain": [
       "<matplotlib.figure.Figure at 0x7faab9956090>"
      ]
     },
     "metadata": {},
     "output_type": "display_data"
    }
   ],
   "source": [
    "label = 1\n",
    "XTrainMsg = trainEmailBody\n",
    "PlotStrOccurenceCountInMsg(XTrainMsg, YTrain, label, strSpamWordsList)"
   ]
  },
  {
   "cell_type": "markdown",
   "metadata": {},
   "source": [
    "### Use different classifiers to train the model."
   ]
  },
  {
   "cell_type": "markdown",
   "metadata": {},
   "source": [
    "### Naive Bayes Classifier on Email Subjects"
   ]
  },
  {
   "cell_type": "code",
   "execution_count": 65,
   "metadata": {
    "collapsed": true
   },
   "outputs": [],
   "source": [
    "#Naive Bayes Classifier\n",
    "##http://airccse.org/journal/jcsit/0211ijcsit12.pdf\n",
    "def classifySpamHam(XTrain, XTest, YTrain, YTest, params, ruled):\n",
    "    folder = params['folder']\n",
    "    fileString = params['fileString']\n",
    "    threshold = params['threshold']\n",
    "    XTrainSubjects = readSubjects(XTrain, folder, fileString)\n",
    "    XFeaturesSubjectSpam, XFeaturesSubjectHam = AnalyseWordLabelContribution(XTrainSubjects, YTrain)\n",
    "    SubjectWordsSpamicity = computeSpamicityWords(XFeaturesSubjectSpam, XFeaturesSubjectHam)\n",
    "\n",
    "    XTestSubjects = readSubjects(XTest, folder, fileString)\n",
    "    YPred = []\n",
    "    for subject in XTestSubjects:\n",
    "        spam, ham = computeSpamHamMetrics(subject,SubjectWordsSpamicity)\n",
    "        spamminess = (1 + spam - ham)/2\n",
    "        if spamminess > threshold:\n",
    "            YPred.append(0)\n",
    "        else:\n",
    "            YPred.append(1)\n",
    "            \n",
    "    YPred = np.array(YPred)\n",
    "    diff = YPred - YTest\n",
    "    score = diff[diff == 0].size/float(YPred.size)\n",
    "\n",
    "    if ruled:\n",
    "        YPred = ApplyStaticRule1(XTestSubjects, YPred)\n",
    "\n",
    "    diff = YPred - YTest\n",
    "    score = diff[diff == 0].size\n",
    "    return (100.0 * score)/(YPred.size)\n"
   ]
  },
  {
   "cell_type": "markdown",
   "metadata": {},
   "source": [
    "### Naive Bayes Classifier on Email Body"
   ]
  },
  {
   "cell_type": "code",
   "execution_count": 66,
   "metadata": {
    "collapsed": true
   },
   "outputs": [],
   "source": [
    "# Naive Bayes Classifier\n",
    "## http://airccse.org/journal/jcsit/0211ijcsit12.pdf\n",
    "def classifyBodySpamHam(XTrain, XTest, YTrain, YTest, params,ruled):\n",
    "    folder = params['folder']\n",
    "    fileString = params['fileString']\n",
    "    XTrainBody = readEmailBody(XTrain, folder, fileString)\n",
    "    XFeaturesBodySpam, XFeaturesBodyHam = AnalyseWordLabelContribution(XTrainBody, YTrain)\n",
    "    BodyWordsSpamicity = computeSpamicityWords(XFeaturesBodySpam, XFeaturesBodyHam)\n",
    "\n",
    "    XTestBody = readEmailBody(XTest, folder, fileString)\n",
    "    YPred = []\n",
    "    for body in XTestBody:\n",
    "        spam, ham = computeSpamHamMetrics(body,BodyWordsSpamicity)\n",
    "        if spam > ham:\n",
    "            YPred.append(0)\n",
    "        else:\n",
    "            YPred.append(1)\n",
    "    YPred = np.array(YPred)\n",
    "    if ruled:\n",
    "        YPred = ApplyStaticRule2(XTestBody, YPred)\n",
    "    diff = YPred - YTest\n",
    "    score = diff[diff == 0].size\n",
    "    return (100.0 * score)/(YPred.size)"
   ]
  },
  {
   "cell_type": "markdown",
   "metadata": {},
   "source": [
    "### Naive Bayes Classifier on Email Body + Subject"
   ]
  },
  {
   "cell_type": "code",
   "execution_count": 67,
   "metadata": {
    "collapsed": true
   },
   "outputs": [],
   "source": [
    "# Naive Bayes Classifier\n",
    "## http://airccse.org/journal/jcsit/0211ijcsit12.pdf\n",
    "def classifyCombinedSpamHam(XTrain, XTest, YTrain, YTest, params, ruled):\n",
    "    folder = params['folder']\n",
    "    fileString = params['fileString']\n",
    "    XTrainBody = readEmailBody(XTrain, folder, fileString)\n",
    "    XTestBody = readEmailBody(XTest, folder, fileString)\n",
    "    \n",
    "    XTrainSubjects = readSubjects(XTrain, folder, fileString)\n",
    "    XTestSubjects = readSubjects(XTest, folder, fileString)\n",
    "    \n",
    "    testSender = readEmailField('From', XTest, folder, fileString)\n",
    "    XTestSender = CheckMissingSender(testSender)\n",
    "    testDate = readEmailField('Date', XTest, folder, fileString)\n",
    "    XTestDate = getDates(testDate)\n",
    "    \n",
    "    \n",
    "    XTrainFeatures = []\n",
    "    XTestFeatures = []\n",
    "    for i in xrange(len(XTrainBody)):\n",
    "        if XTrainSubjects[i] and XTrainBody[i]:\n",
    "            XTrainFeatures.append(XTrainSubjects[i]+XTrainBody[i])\n",
    "        elif XTrainSubjects[i]:\n",
    "            XTrainFeatures.append(XTrainSubjects[i])\n",
    "        elif XTrainBody[i]:\n",
    "            XTrainFeatures.append(XTrainBody[i])\n",
    "        \n",
    "    for i in xrange(len(XTestBody)):\n",
    "        if XTestSubjects[i] and XTestBody[i]:\n",
    "            XTestFeatures.append(XTestSubjects[i]+XTestBody[i])   \n",
    "        elif XTestSubjects[i]:\n",
    "            XTestFeatures.append(XTestSubjects[i])   \n",
    "        elif XTestBody[i]:\n",
    "            XTestFeatures.append(XTestBody[i])   \n",
    "    \n",
    "    XFeaturesSpam, XFeaturesHam = AnalyseWordLabelContribution(XTrainFeatures, YTrain)\n",
    "    XWordsSpamicity = computeSpamicityWords(XFeaturesSpam, XFeaturesHam)\n",
    "   \n",
    "    YPred = []\n",
    "    for test in XTestFeatures:\n",
    "        spam, ham = computeSpamHamMetrics(test, XWordsSpamicity)\n",
    "        if spam > ham:\n",
    "            YPred.append(0)\n",
    "        else:\n",
    "            YPred.append(1)\n",
    "    YPred = np.array(YPred)\n",
    "    if ruled:\n",
    "        rules = params['rules']\n",
    "\n",
    "        for r in rules:\n",
    "            if r==1:\n",
    "                YPred = ApplyStaticRule1(XTestSubjects, YPred)\n",
    "            elif r==2:\n",
    "                YPred = ApplyStaticRule2(XTestBody, YPred)\n",
    "            elif r==3:\n",
    "                YPred = ApplyStaticRule3(XTestDate, YPred)\n",
    "            elif r==4:\n",
    "                YPred = ApplyStaticRule4(XTestSender, YPred)\n",
    "            elif r==5:\n",
    "                YPred = ApplyStaticRule5(XTestBody, YPred)\n",
    "\n",
    "    diff = YPred - YTest\n",
    "    score = diff[diff == 0].size\n",
    "    return (100.0 * score)/(YPred.size)"
   ]
  },
  {
   "cell_type": "markdown",
   "metadata": {},
   "source": [
    "### Naive Bayes Classifier on Top Spam/Ham as feature on Email Body + Subject"
   ]
  },
  {
   "cell_type": "code",
   "execution_count": 68,
   "metadata": {
    "collapsed": true
   },
   "outputs": [],
   "source": [
    "# Naive Bayes Classifier\n",
    "## http://airccse.org/journal/jcsit/0211ijcsit12.pdf\n",
    "def classifyCombinedTopSpamHam(XTrain, XTest, YTrain, YTest, params, ruled):\n",
    "    folder = params['folder']\n",
    "    fileString = params['fileString']\n",
    "    XTrainBody = readEmailBody(XTrain, folder, fileString)\n",
    "    XTestBody = readEmailBody(XTest, folder, fileString)\n",
    "    \n",
    "    XTrainSubjects = readSubjects(XTrain, folder, fileString)\n",
    "    XTestSubjects = readSubjects(XTest, folder, fileString)\n",
    "    \n",
    "    testSender = readEmailField('From', XTest, folder, fileString)\n",
    "    XTestSender = CheckMissingSender(testSender)\n",
    "    testDate = readEmailField('Date', XTest, folder, fileString)\n",
    "    XTestDate = getDates(testDate)\n",
    "    \n",
    "    XTrainFeatures = []\n",
    "    XTestFeatures = []\n",
    "    for i in xrange(len(XTrainBody)):\n",
    "        if XTrainSubjects[i] and XTrainBody[i]:\n",
    "            XTrainFeatures.append(XTrainSubjects[i]+XTrainBody[i])\n",
    "        elif XTrainSubjects[i]:\n",
    "            XTrainFeatures.append(XTrainSubjects[i])\n",
    "        elif XTrainBody[i]:\n",
    "            XTrainFeatures.append(XTrainBody[i])\n",
    "        \n",
    "    for i in xrange(len(XTestBody)):\n",
    "        if XTestSubjects[i] and XTestBody[i]:\n",
    "            XTestFeatures.append(XTestSubjects[i]+XTestBody[i])   \n",
    "        elif XTestSubjects[i]:\n",
    "            XTestFeatures.append(XTestSubjects[i])   \n",
    "        elif XTestBody[i]:\n",
    "            XTestFeatures.append(XTestBody[i])   \n",
    "    \n",
    "    XFeaturesSpam, XFeaturesHam = AnalyseWordLabelContribution(XTrainFeatures, YTrain)\n",
    "    XWordsSpamicity = computeSpamicityWords(XFeaturesSpam, XFeaturesHam)\n",
    "   \n",
    "    YPred = []\n",
    "    for test in XTestFeatures:\n",
    "        spam, ham = computeTopSpamHamMetrics(test, XWordsSpamicity)\n",
    "#         print spam, ham\n",
    "        if spam > ham:\n",
    "            YPred.append(0)\n",
    "        else:\n",
    "            YPred.append(1)\n",
    "    YPred = np.array(YPred)\n",
    "    if ruled:\n",
    "        rules = params['rules']\n",
    "        for r in rules:\n",
    "            if r==1:\n",
    "                YPred = ApplyStaticRule1(XTestSubjects, YPred)\n",
    "            elif r==2:\n",
    "                YPred = ApplyStaticRule2(XTestBody, YPred)\n",
    "            elif r==3:\n",
    "                YPred = ApplyStaticRule3(XTestDate, YPred)\n",
    "            elif r==4:\n",
    "                YPred = ApplyStaticRule4(XTestSender, YPred)\n",
    "            elif r==5:\n",
    "                YPred = ApplyStaticRule5(XTestBody, YPred)\n",
    "\n",
    "    diff = YPred - YTest\n",
    "    score = diff[diff == 0].size\n",
    "    return (100.0 * score)/(YPred.size)"
   ]
  },
  {
   "cell_type": "markdown",
   "metadata": {},
   "source": [
    "### Naive Bayes Classifier on top k SPAM words on Email Body + Subject"
   ]
  },
  {
   "cell_type": "code",
   "execution_count": 127,
   "metadata": {
    "collapsed": true
   },
   "outputs": [],
   "source": [
    "# Naive Bayes Classifier\n",
    "## http://airccse.org/journal/jcsit/0211ijcsit12.pdf\n",
    "def classifyCombinedTopSpam(XTrain, XTest, YTrain, YTest, params, ruled):\n",
    "    folder = params['folder']\n",
    "    fileString = params['fileString']\n",
    "    XTrainBody = readEmailBody(XTrain, folder, fileString)\n",
    "    XTestBody = readEmailBody(XTest, folder, fileString)\n",
    "    \n",
    "    XTrainSubjects = readSubjects(XTrain, folder, fileString)\n",
    "    XTestSubjects = readSubjects(XTest, folder, fileString)\n",
    "    \n",
    "    testSender = readEmailField('From', XTest, folder, fileString)\n",
    "    XTestSender = CheckMissingSender(testSender)\n",
    "    testDate = readEmailField('Date', XTest, folder, fileString)\n",
    "    XTestDate = getDates(testDate)\n",
    "    \n",
    "    XTrainFeatures = []\n",
    "    XTestFeatures = []\n",
    "    for i in xrange(len(XTrainBody)):\n",
    "        if XTrainSubjects[i] and XTrainBody[i]:\n",
    "            XTrainFeatures.append(XTrainSubjects[i]+XTrainBody[i])\n",
    "        elif XTrainSubjects[i]:\n",
    "            XTrainFeatures.append(XTrainSubjects[i])\n",
    "        elif XTrainBody[i]:\n",
    "            XTrainFeatures.append(XTrainBody[i])\n",
    "        \n",
    "    for i in xrange(len(XTestBody)):\n",
    "        if XTestSubjects[i] and XTestBody[i]:\n",
    "            XTestFeatures.append(XTestSubjects[i]+XTestBody[i])   \n",
    "        elif XTestSubjects[i]:\n",
    "            XTestFeatures.append(XTestSubjects[i])   \n",
    "        elif XTestBody[i]:\n",
    "            XTestFeatures.append(XTestBody[i])   \n",
    "    \n",
    "    XFeaturesSpam, XFeaturesHam = AnalyseWordLabelContribution(XTrainFeatures, YTrain)\n",
    "    XWordsSpamicity = computeSpamicityWords(XFeaturesSpam, XFeaturesHam)\n",
    "   \n",
    "    YPred = []\n",
    "    for test in XTestFeatures:\n",
    "        spam = computeTopSpamMetrics(test, XWordsSpamicity)\n",
    "#         print spam, ham\n",
    "        if spam > 0.7:\n",
    "            YPred.append(0)\n",
    "        else:\n",
    "            YPred.append(1)\n",
    "    YPred = np.array(YPred)\n",
    "    if ruled:\n",
    "        rules = params['rules']\n",
    "\n",
    "        for r in rules:\n",
    "            if r==1:\n",
    "                YPred = ApplyStaticRule1(XTestSubjects, YPred)\n",
    "            elif r==2:\n",
    "                YPred = ApplyStaticRule2(XTestBody, YPred)\n",
    "            elif r==3:\n",
    "                YPred = ApplyStaticRule3(XTestDate, YPred)\n",
    "            elif r==4:\n",
    "                YPred = ApplyStaticRule4(XTestSender, YPred)\n",
    "            elif r==5:\n",
    "                YPred = ApplyStaticRule5(XTestBody, YPred)\n",
    "\n",
    "    diff = YPred - YTest\n",
    "    score = diff[diff == 0].size\n",
    "    return (100.0 * score)/(YPred.size)"
   ]
  },
  {
   "cell_type": "markdown",
   "metadata": {},
   "source": [
    "### Random Forest Classifier"
   ]
  },
  {
   "cell_type": "code",
   "execution_count": 69,
   "metadata": {
    "collapsed": false
   },
   "outputs": [],
   "source": [
    "from sklearn.ensemble import RandomForestClassifier\n",
    "def classifyRandomForestClassifier(XTrain, XTest, YTrain, YTest, params, ruled):\n",
    "    trees = params['trees']\n",
    "    crit = params['criterion']\n",
    "    seed = params['random_state']\n",
    "    clf = RandomForestClassifier(n_estimators=trees,criterion=crit, random_state=seed )\n",
    "    clf.fit(XTrain, YTrain)\n",
    "    YPred = clf.predict(XTest)\n",
    "    if ruled:\n",
    "        \n",
    "        XTestSubjects = params['test_subs']\n",
    "        XTestBody = params['test_email_body']\n",
    "        XTestSender = params['test_sender']\n",
    "        XTestDate = params['test_date']\n",
    "        \n",
    "        rules = params['rules']\n",
    "        for r in rules:\n",
    "            if r==1:\n",
    "                YPred = ApplyStaticRule1(XTestSubjects, YPred)\n",
    "            elif r==2:\n",
    "                YPred = ApplyStaticRule2(XTestBody, YPred)\n",
    "            elif r==3:\n",
    "                YPred = ApplyStaticRule3(XTestDate, YPred)\n",
    "            elif r==4:\n",
    "                YPred = ApplyStaticRule4(XTestSender, YPred)\n",
    "            elif r==5:\n",
    "                YPred = ApplyStaticRule5(XTestBody, YPred)\n",
    "\n",
    "    diff = YPred - YTest\n",
    "    score = diff[diff == 0].size\n",
    "    return (100.0 * score)/(YPred.size)"
   ]
  },
  {
   "cell_type": "markdown",
   "metadata": {},
   "source": [
    "### K Nearest Neighbours (kNN) Classifier"
   ]
  },
  {
   "cell_type": "code",
   "execution_count": 70,
   "metadata": {
    "collapsed": true
   },
   "outputs": [],
   "source": [
    "from sklearn.neighbors import KNeighborsClassifier\n",
    "def classifyKNNClassifier(XTrain, XTest, YTrain, YTest, params, ruled):\n",
    "    neighbours = params['neighbours']\n",
    "    neigh = KNeighborsClassifier(n_neighbors=neighbours)\n",
    "    YPred = neigh.fit(XTrain, YTrain).predict(XTest)\n",
    "    if ruled:\n",
    "        folder = testFolder\n",
    "        fileString = 'TEST_'\n",
    "        XTestSubjects = readSubjects(XTest, folder, fileString)\n",
    "        XTestBody = readEmailBody(XTest, folder, fileString)\n",
    "        YPred = ApplyStaticRule1(XTestSubjects, YPred)\n",
    "        YPred = ApplyStaticRule2(XTestBody, YPred)\n",
    "    diff = YPred - YTest\n",
    "    score = diff[diff == 0].size\n",
    "    return (100.0 * score)/(YPred.size)"
   ]
  },
  {
   "cell_type": "markdown",
   "metadata": {},
   "source": [
    "### Vowpal Wabbit Classifier"
   ]
  },
  {
   "cell_type": "code",
   "execution_count": 71,
   "metadata": {
    "collapsed": true
   },
   "outputs": [],
   "source": [
    "import pyvw\n",
    "def classifyVW(XTrain, XTest, YTrain, YTest, XTestSubs, XTestEmailBody, XTestSender, XTestDate, params, ruled):\n",
    "    parameters = params['parameters']\n",
    "    vw = pyvw.vw(parameters)\n",
    "    for train in XTrain:\n",
    "        ex = vw.example(str(train[0]) + \" | \" + train[1])\n",
    "        ex.learn()\n",
    "    YPred = []\n",
    "    for test in XTest:\n",
    "        ex1 = vw.example(\" | \" + test[1])\n",
    "        ex1.learn() \n",
    "    #     print ex1.get_updated_prediction(),ex1.get_simplelabel_prediction() #<-- the same for every prediction?\n",
    "        if ex1.get_simplelabel_prediction() > 0:\n",
    "            YPred.append(1)\n",
    "        else:\n",
    "            YPred.append(0)\n",
    "    if ruled:\n",
    "        rules = params['rules']\n",
    "\n",
    "        for r in rules:\n",
    "            if r==1:\n",
    "                YPred = ApplyStaticRule1(XTestSubs, YPred)\n",
    "            elif r==2:\n",
    "                YPred = ApplyStaticRule2(XTestEmailBody, YPred)\n",
    "            elif r==3:\n",
    "                YPred = ApplyStaticRule3(XTestDate, YPred)\n",
    "            elif r==4:\n",
    "                YPred = ApplyStaticRule4(XTestSender, YPred)\n",
    "            elif r==5:\n",
    "                YPred = ApplyStaticRule5(XTestEmailBody, YPred)\n",
    "\n",
    "#     return YPred\n",
    "    YPred = np.array(YPred)\n",
    "    YTest = np.array(YTest)\n",
    "    diff = YPred - YTest\n",
    "    score = diff[diff == 0].size\n",
    "    return (100.0 * score)/(YPred.size)\n"
   ]
  },
  {
   "cell_type": "markdown",
   "metadata": {},
   "source": [
    "### Static Rules : To be applied after using any of the above models for classification to analyze improvement in accuracy"
   ]
  },
  {
   "cell_type": "code",
   "execution_count": 142,
   "metadata": {
    "collapsed": true
   },
   "outputs": [],
   "source": [
    "def ApplyStaticRule1(XTestSub, YPred):\n",
    "    ## Rule 1 : If the word SPAM is present, it is SPAM Message\n",
    "    strSpamWordsList = [\"[spam]\"]\n",
    "    # Check for presence of Special Characters in Message Subject\n",
    "#     strSpamWordsList = [\"[spam]\", '!','#','$','%','*']\n",
    "    # Check for all the spam words, of which we are sure about.\n",
    "#      strSpamWordsList =  [\"[spam]\", \"spam\", \"sex\", \"viagra\", \"money\", \"prize\", \"lottery\", \"jackpot\", \"replica\", \"friend\", \"free\"]\n",
    "    \n",
    "    XTestSubFeatures = ChkPresenceOfStringFeat(XTestSub, strSpamWordsList)\n",
    "    idxSPAMPresent = np.where(XTestSubFeatures>0)[0]\n",
    "\n",
    "    count = 0\n",
    "    for idx in idxSPAMPresent:\n",
    "        if YPred[idx] == 1:\n",
    "            count +=1\n",
    "        YPred[idx] = 0\n",
    "\n",
    "#     print \"spam replaced:\", count\n",
    "    return YPred\n",
    "    "
   ]
  },
  {
   "cell_type": "code",
   "execution_count": 73,
   "metadata": {
    "collapsed": false
   },
   "outputs": [],
   "source": [
    "def ApplyStaticRule2(XTestBody, YPred):\n",
    "    ## Rule 2 : If PGP Signature is present, it is HAM Message\n",
    "    strXContainsList = [\"pgp\"]\n",
    "    XTestBodyFeatures = ChkPresenceOfStringFeat(XTestBody, strXContainsList)\n",
    "    idxPGPPresent = np.where(XTestBodyFeatures>0)[0]\n",
    "    count = 0\n",
    "    for idx in idxPGPPresent:\n",
    "        if YPred[idx] == 0:\n",
    "            count +=1\n",
    "        YPred[idx] = 1\n",
    "\n",
    "#     print \"pgp replaced\", count\n",
    "    return YPred"
   ]
  },
  {
   "cell_type": "code",
   "execution_count": 74,
   "metadata": {
    "collapsed": true
   },
   "outputs": [],
   "source": [
    "def ApplyStaticRule3(XTest, YPred):\n",
    "    ## Rule 3 : If date of the email is in the future, then it is a SPAM.\n",
    "    XTestFeatures = CheckFutureDate(XTest)\n",
    "    XTestFeatures = np.array(XTestFeatures)\n",
    "    idxSPAMPresent = []\n",
    "    idx = 0\n",
    "    for i in XTestFeatures:\n",
    "        if i == False:\n",
    "            idxSPAMPresent.append(idx)\n",
    "        idx+=1\n",
    "    count = 0\n",
    "    for idx in idxSPAMPresent:\n",
    "        if YPred[idx] == 1:\n",
    "            count +=1\n",
    "        YPred[idx] = 0\n",
    "\n",
    "#     print \"spam replaced:\", count\n",
    "    return YPred"
   ]
  },
  {
   "cell_type": "code",
   "execution_count": 75,
   "metadata": {
    "collapsed": true
   },
   "outputs": [],
   "source": [
    "def ApplyStaticRule4(XTest, YPred):\n",
    "    ## Rule 4 : If there is a missing sender field, it is a SPAM.\n",
    "    XTestFeatures = CheckMissingSender(XTest)\n",
    "    XTestFeatures = np.array(XTestFeatures)\n",
    "    idxSPAMPresent = []\n",
    "    idx = 0\n",
    "    for i in XTestFeatures:\n",
    "        if i == True:\n",
    "            idxSPAMPresent.append(idx)\n",
    "        idx+=1\n",
    "    count = 0\n",
    "    for idx in idxSPAMPresent:\n",
    "        if YPred[idx] == 1:\n",
    "            count +=1\n",
    "        YPred[idx] = 0\n",
    "\n",
    "#     print \"spam replaced:\", count\n",
    "    return YPred"
   ]
  },
  {
   "cell_type": "code",
   "execution_count": 76,
   "metadata": {
    "collapsed": true
   },
   "outputs": [],
   "source": [
    "def ApplyStaticRule5(XTest, YPred):\n",
    "    ## Rule 5 : If the email contains words with all capital letters above a threshold, then it is a SPAM.\n",
    "    minCapitalWords = 15\n",
    "    minLetteredWord = 3\n",
    "    XTestFeatures = AnalyzeCapitalLettersInMsg(XTest, minLetteredWord)\n",
    "    XTestFeatures = np.array(XTestFeatures)\n",
    "    \n",
    "    idxSPAMPresent = []\n",
    "    idx = 0\n",
    "    for i in XTestFeatures:\n",
    "        if i >= minCapitalWords:\n",
    "            idxSPAMPresent.append(idx)\n",
    "        idx+=1\n",
    "    \n",
    "    count = 0\n",
    "    for idx in idxSPAMPresent:\n",
    "        if YPred[idx] == 1:\n",
    "            count +=1\n",
    "        YPred[idx] = 0\n",
    "\n",
    "#     print \"spam replaced:\", count\n",
    "    return YPred"
   ]
  },
  {
   "cell_type": "markdown",
   "metadata": {},
   "source": [
    "### Stratified K Fold Cross Validation"
   ]
  },
  {
   "cell_type": "code",
   "execution_count": 77,
   "metadata": {
    "collapsed": true
   },
   "outputs": [],
   "source": [
    "# Stratified K Fold Cross Validation for all other classifiers except Vowpal Wabbit\n",
    "from sklearn.cross_validation import StratifiedKFold\n",
    "def stratifiedKFoldVal(XTrain, YTrain, classify, params, ruled):\n",
    "    n_folds = 5\n",
    "    score = 0.0\n",
    "    skf = StratifiedKFold(YTrain, n_folds)\n",
    "    \n",
    "    XTrainFileNames = params['FileNames']\n",
    "    fileString = 'TRAIN_'\n",
    "    XTestEmailBody = readEmailBody(XTrainFileNames, trainFolder, fileString)\n",
    "    XTestSubs = readSubjects(XTrainFileNames, trainFolder, fileString)\n",
    "    \n",
    "#     testSender = readEmailField('Sender', XTrainFileNames, trainFolder, fileString)\n",
    "    testSender = readEmailField('From', XTrainFileNames, trainFolder, fileString)\n",
    "    XTestSender = CheckMissingSender(testSender)\n",
    "    testDate = readEmailField('Date', XTrainFileNames, trainFolder, fileString)\n",
    "    XTestDate = getDates(testDate)\n",
    "    \n",
    "    \n",
    "    for train_index, test_index in skf:\n",
    "        X_train, X_test = XTrain[train_index], XTrain[test_index]\n",
    "        y_train, y_test = YTrain[train_index], YTrain[test_index]\n",
    "        \n",
    "        x_test_subs, x_test_email_body = [XTestSubs[i] for i in test_index], [XTestEmailBody[i] for i in test_index]\n",
    "        x_test_sender, x_test_date  = [XTestSender[i] for i in test_index], [XTestDate[i] for i in test_index]\n",
    "        \n",
    "        params['test_subs'] = x_test_subs\n",
    "        params['test_email_body'] = x_test_email_body\n",
    "        params['test_sender'] = x_test_sender\n",
    "        params['test_date'] = x_test_date  \n",
    "        \n",
    "        score += classify(X_train, X_test,  y_train, y_test, params, ruled)\n",
    "    return score/n_folds"
   ]
  },
  {
   "cell_type": "code",
   "execution_count": 78,
   "metadata": {
    "collapsed": true
   },
   "outputs": [],
   "source": [
    "# Stratified K Fold Cross Validation for Vowpal Wabbit\n",
    "from sklearn.cross_validation import StratifiedKFold\n",
    "def VWstratifiedKFoldVal(XTrain, YTrain, XTestSubs, XTestEmailBody, XTestSender, XTestDate, classify, params, ruled):\n",
    "    n_folds = 5\n",
    "    score = 0.0\n",
    "    skf = StratifiedKFold(YTrain, n_folds)\n",
    "#     print skf\n",
    "    for train_index, test_index in skf:\n",
    "#         print type(train_index), type(test_index), len(train_index), len(test_index)\n",
    "        X_train, X_test = [XTrain[i] for i in train_index], [XTrain[i] for i in test_index]\n",
    "        y_train, y_test = [YTrain[i] for i in train_index], [YTrain[i] for i in test_index]\n",
    "        x_test_subs, x_test_email_body = [XTestSubs[i][-1] for i in test_index], [XTestEmailBody[i][-1] for i in test_index]\n",
    "        x_test_sender, x_test_date  = [XTestSender[i] for i in test_index], [XTestDate[i] for i in test_index]\n",
    "        \n",
    "        score += classify(X_train, X_test,  y_train, y_test, x_test_subs, x_test_email_body, x_test_sender, x_test_date, params, ruled)\n",
    "    return score/n_folds"
   ]
  },
  {
   "cell_type": "markdown",
   "metadata": {},
   "source": [
    "### Write Predicted Output Labels to File"
   ]
  },
  {
   "cell_type": "code",
   "execution_count": 79,
   "metadata": {
    "collapsed": true
   },
   "outputs": [],
   "source": [
    "def writePredictedLabelFile(YPred):\n",
    "    f = open(\"Predictions.csv\",\"w\")\n",
    "    f.write(\"Id,Prediction\" + \"\\n\")\n",
    "    for i in xrange(len(YPred)):\n",
    "        f.write(str(i+1) + \",\" + str(int(YPred[i]))+ \"\\n\")\n",
    "    f.close()"
   ]
  },
  {
   "cell_type": "markdown",
   "metadata": {},
   "source": [
    "### Naive Bayes Classifier on Email Subject"
   ]
  },
  {
   "cell_type": "code",
   "execution_count": 80,
   "metadata": {
    "collapsed": false
   },
   "outputs": [
    {
     "name": "stdout",
     "output_type": "stream",
     "text": [
      "87.3623792095\n",
      "87.9619001676\n"
     ]
    }
   ],
   "source": [
    "params = {'folder':trainFolder,'fileString':'TRAIN_','threshold':0.5, 'FileNames':XTrainFileNames}\n",
    "score = stratifiedKFoldVal(XTrainFileNames, YTrain, classifySpamHam, params, ruled=False)\n",
    "print score\n",
    "score = stratifiedKFoldVal(XTrainFileNames, YTrain, classifySpamHam, params, ruled=True)\n",
    "print score"
   ]
  },
  {
   "cell_type": "code",
   "execution_count": 81,
   "metadata": {
    "collapsed": false
   },
   "outputs": [],
   "source": [
    "# Submission\n",
    "XTrainSubjects = readSubjects(XTrainFileNames, trainFolder, fileString='TRAIN_')\n",
    "XFeaturesSubjectSpam, XFeaturesSubjectHam = AnalyseWordLabelContribution(XTrainSubjects, YTrain)\n",
    "SubjectWordsSpamicity = computeSpamicityWords(XFeaturesSubjectSpam, XFeaturesSubjectHam)\n",
    "XTestSubjects = readSubjects(XTestFileNames, testFolder, fileString='TEST_')\n",
    "YPred = []\n",
    "for subject in XTestSubjects:\n",
    "    spam, ham = computeSpamHamMetrics(subject,SubjectWordsSpamicity)\n",
    "    if spam > ham:\n",
    "        YPred.append(0)\n",
    "    else:\n",
    "        YPred.append(1)\n",
    "YPred = np.array(YPred)    \n",
    "writePredictedLabelFile(YPred)"
   ]
  },
  {
   "cell_type": "markdown",
   "metadata": {},
   "source": [
    "### Naive Bayes Classifier on Email Body"
   ]
  },
  {
   "cell_type": "code",
   "execution_count": 82,
   "metadata": {
    "collapsed": false
   },
   "outputs": [
    {
     "name": "stdout",
     "output_type": "stream",
     "text": [
      "65.2402633611\n",
      "68.2800286401\n"
     ]
    }
   ],
   "source": [
    "params = {'folder':trainFolder,'fileString':'TRAIN_','FileNames':XTrainFileNames}\n",
    "score = stratifiedKFoldVal(XTrainFileNames, YTrain, classifyBodySpamHam, params, ruled=False)\n",
    "print score\n",
    "score = stratifiedKFoldVal(XTrainFileNames, YTrain, classifyBodySpamHam, params, ruled=True)\n",
    "print score"
   ]
  },
  {
   "cell_type": "code",
   "execution_count": 83,
   "metadata": {
    "collapsed": false
   },
   "outputs": [],
   "source": [
    "#Submission\n",
    "XTrainBody = readEmailBody(XTrainFileNames, trainFolder, fileString='TRAIN_')\n",
    "XFeaturesBodySpam, XFeaturesBodyHam = AnalyseWordLabelContribution(XTrainBody, YTrain)\n",
    "BodyWordsSpamicity = computeSpamicityWords(XFeaturesBodySpam, XFeaturesBodyHam)\n",
    "XTestBody = readEmailBody(XTestFileNames, testFolder, fileString='TEST_')\n",
    "YPred = []\n",
    "for body in XTestBody:\n",
    "    spam, ham = computeSpamHamMetrics(body,BodyWordsSpamicity)\n",
    "    if spam > ham:\n",
    "        YPred.append(0)\n",
    "    else:\n",
    "        YPred.append(1)\n",
    "YPred = np.array(YPred)    \n",
    "writePredictedLabelFile(YPred)"
   ]
  },
  {
   "cell_type": "markdown",
   "metadata": {},
   "source": [
    "### Naive Bayes Classifier on Email Body & Message + Static Rules"
   ]
  },
  {
   "cell_type": "code",
   "execution_count": 84,
   "metadata": {
    "collapsed": false
   },
   "outputs": [
    {
     "name": "stdout",
     "output_type": "stream",
     "text": [
      "65.2397833591\n",
      "65.2798635195\n",
      "68.1996284785\n",
      "65.3197833591\n",
      "65.1997833591\n",
      "62.6796185585\n",
      "65.4797830391\n"
     ]
    }
   ],
   "source": [
    "params = {'folder':trainFolder,'fileString':'TRAIN_', 'rules':[], 'FileNames':XTrainFileNames}\n",
    "score = stratifiedKFoldVal(XTrainFileNames, YTrain, classifyCombinedSpamHam, params, ruled = False)\n",
    "print score\n",
    "params = {'folder':trainFolder,'fileString':'TRAIN_', 'rules':[1], 'FileNames':XTrainFileNames}\n",
    "score = stratifiedKFoldVal(XTrainFileNames, YTrain, classifyCombinedSpamHam, params, ruled = True)\n",
    "print score\n",
    "params = {'folder':trainFolder,'fileString':'TRAIN_', 'rules':[2], 'FileNames':XTrainFileNames}\n",
    "score = stratifiedKFoldVal(XTrainFileNames, YTrain, classifyCombinedSpamHam, params, ruled = True)\n",
    "print score\n",
    "params = {'folder':trainFolder,'fileString':'TRAIN_', 'rules':[3], 'FileNames':XTrainFileNames}\n",
    "score = stratifiedKFoldVal(XTrainFileNames, YTrain, classifyCombinedSpamHam, params, ruled = True)\n",
    "print score\n",
    "params = {'folder':trainFolder,'fileString':'TRAIN_', 'rules':[4], 'FileNames':XTrainFileNames}\n",
    "score = stratifiedKFoldVal(XTrainFileNames, YTrain, classifyCombinedSpamHam, params, ruled = True)\n",
    "print score\n",
    "params = {'folder':trainFolder,'fileString':'TRAIN_', 'rules':[5], 'FileNames':XTrainFileNames}\n",
    "score = stratifiedKFoldVal(XTrainFileNames, YTrain, classifyCombinedSpamHam, params, ruled = True)\n",
    "print score\n",
    "params = {'folder':trainFolder,'fileString':'TRAIN_', 'rules':[1,2,3,4,5], 'FileNames':XTrainFileNames}\n",
    "score = stratifiedKFoldVal(XTrainFileNames, YTrain, classifyCombinedSpamHam, params, ruled = True)\n",
    "print score"
   ]
  },
  {
   "cell_type": "markdown",
   "metadata": {},
   "source": [
    "### Naive Bayes Classifier on Email Body & Message with Top Spam/Ham as feature + Static Rules"
   ]
  },
  {
   "cell_type": "code",
   "execution_count": 85,
   "metadata": {
    "collapsed": false
   },
   "outputs": [
    {
     "name": "stdout",
     "output_type": "stream",
     "text": [
      "68.9599503998\n",
      "77.3205233621\n",
      "68.9599503998\n",
      "69.9597118388\n",
      "68.9999503998\n",
      "71.1997124788\n",
      "78.4000433602\n"
     ]
    }
   ],
   "source": [
    "params = {'folder':trainFolder,'fileString':'TRAIN_', 'rules':[], 'FileNames':XTrainFileNames}\n",
    "score = stratifiedKFoldVal(XTrainFileNames, YTrain, classifyCombinedTopSpamHam, params, ruled = False)\n",
    "print score\n",
    "params = {'folder':trainFolder,'fileString':'TRAIN_', 'rules':[1], 'FileNames':XTrainFileNames}\n",
    "score = stratifiedKFoldVal(XTrainFileNames, YTrain, classifyCombinedTopSpamHam, params, ruled = True)\n",
    "print score\n",
    "params = {'folder':trainFolder,'fileString':'TRAIN_', 'rules':[2], 'FileNames':XTrainFileNames}\n",
    "score = stratifiedKFoldVal(XTrainFileNames, YTrain, classifyCombinedTopSpamHam, params, ruled = True)\n",
    "print score\n",
    "params = {'folder':trainFolder,'fileString':'TRAIN_', 'rules':[3], 'FileNames':XTrainFileNames}\n",
    "score = stratifiedKFoldVal(XTrainFileNames, YTrain, classifyCombinedTopSpamHam, params, ruled = True)\n",
    "print score\n",
    "params = {'folder':trainFolder,'fileString':'TRAIN_', 'rules':[4], 'FileNames':XTrainFileNames}\n",
    "score = stratifiedKFoldVal(XTrainFileNames, YTrain, classifyCombinedTopSpamHam, params, ruled = True)\n",
    "print score\n",
    "params = {'folder':trainFolder,'fileString':'TRAIN_', 'rules':[5], 'FileNames':XTrainFileNames}\n",
    "score = stratifiedKFoldVal(XTrainFileNames, YTrain, classifyCombinedTopSpamHam, params, ruled = True)\n",
    "print score\n",
    "params = {'folder':trainFolder,'fileString':'TRAIN_', 'rules':[1,2,3,4,5], 'FileNames':XTrainFileNames}\n",
    "score = stratifiedKFoldVal(XTrainFileNames, YTrain, classifyCombinedTopSpamHam, params, ruled = True)\n",
    "print score"
   ]
  },
  {
   "cell_type": "code",
   "execution_count": 86,
   "metadata": {
    "collapsed": false
   },
   "outputs": [
    {
     "name": "stdout",
     "output_type": "stream",
     "text": [
      "77.9204438418\n"
     ]
    }
   ],
   "source": [
    "params = {'folder':trainFolder,'fileString':'TRAIN_', 'rules':[1,2,3], 'FileNames':XTrainFileNames}\n",
    "score = stratifiedKFoldVal(XTrainFileNames, YTrain, classifyCombinedTopSpamHam, params, ruled = True)\n",
    "print score"
   ]
  },
  {
   "cell_type": "code",
   "execution_count": 87,
   "metadata": {
    "collapsed": true
   },
   "outputs": [],
   "source": [
    "# Submission\n",
    "XTrainBody = readEmailBody(XTrainFileNames, trainFolder, fileString='TRAIN_')\n",
    "XFeaturesBodySpam, XFeaturesBodyHam = AnalyseWordLabelContribution(XTrainBody, YTrain)\n",
    "BodyWordsSpamicity = computeSpamicityWords(XFeaturesBodySpam, XFeaturesBodyHam)\n",
    "XTestBody = readEmailBody(XTestFileNames, testFolder, fileString='TEST_')\n",
    "YPred = []\n",
    "for body in XTestBody:\n",
    "    spam, ham = computeSpamHamMetrics(body,BodyWordsSpamicity)\n",
    "    if spam > ham:\n",
    "        YPred.append(0)\n",
    "    else:\n",
    "        YPred.append(1)\n",
    "YPred = np.array(YPred)    \n",
    "writePredictedLabelFile(YPred)"
   ]
  },
  {
   "cell_type": "markdown",
   "metadata": {},
   "source": [
    "### Naive Bayes Classifier on Email Body & Message with Combined Top Spam as feature + Static Rules"
   ]
  },
  {
   "cell_type": "code",
   "execution_count": 132,
   "metadata": {
    "collapsed": false
   },
   "outputs": [
    {
     "name": "stdout",
     "output_type": "stream",
     "text": [
      "86.6406974428\n",
      "87.6411790447\n",
      "86.9605380822\n",
      "86.7206974428\n",
      "86.6406974428\n",
      "84.3600529602\n",
      "85.6404550418\n"
     ]
    }
   ],
   "source": [
    "params = {'folder':trainFolder,'fileString':'TRAIN_', 'rules':[], 'FileNames':XTrainFileNames}\n",
    "score = stratifiedKFoldVal(XTrainFileNames, YTrain, classifyCombinedTopSpam, params, ruled = False)\n",
    "print score\n",
    "params = {'folder':trainFolder,'fileString':'TRAIN_', 'rules':[1], 'FileNames':XTrainFileNames}\n",
    "score = stratifiedKFoldVal(XTrainFileNames, YTrain, classifyCombinedTopSpam, params, ruled = True)\n",
    "print score\n",
    "params = {'folder':trainFolder,'fileString':'TRAIN_', 'rules':[2], 'FileNames':XTrainFileNames}\n",
    "score = stratifiedKFoldVal(XTrainFileNames, YTrain, classifyCombinedTopSpam, params, ruled = True)\n",
    "print score\n",
    "params = {'folder':trainFolder,'fileString':'TRAIN_', 'rules':[3], 'FileNames':XTrainFileNames}\n",
    "score = stratifiedKFoldVal(XTrainFileNames, YTrain, classifyCombinedTopSpam, params, ruled = True)\n",
    "print score\n",
    "params = {'folder':trainFolder,'fileString':'TRAIN_', 'rules':[4], 'FileNames':XTrainFileNames}\n",
    "score = stratifiedKFoldVal(XTrainFileNames, YTrain, classifyCombinedTopSpam, params, ruled = True)\n",
    "print score\n",
    "params = {'folder':trainFolder,'fileString':'TRAIN_', 'rules':[5], 'FileNames':XTrainFileNames}\n",
    "score = stratifiedKFoldVal(XTrainFileNames, YTrain, classifyCombinedTopSpam, params, ruled = True)\n",
    "print score\n",
    "params = {'folder':trainFolder,'fileString':'TRAIN_', 'rules':[1,2,3,4,5], 'FileNames':XTrainFileNames}\n",
    "score = stratifiedKFoldVal(XTrainFileNames, YTrain, classifyCombinedTopSpam, params, ruled = True)\n",
    "print score"
   ]
  },
  {
   "cell_type": "code",
   "execution_count": 131,
   "metadata": {
    "collapsed": false
   },
   "outputs": [
    {
     "name": "stdout",
     "output_type": "stream",
     "text": [
      "88.0410196841\n"
     ]
    }
   ],
   "source": [
    "params = {'folder':trainFolder,'fileString':'TRAIN_', 'rules':[1,2,3], 'FileNames':XTrainFileNames}\n",
    "score = stratifiedKFoldVal(XTrainFileNames, YTrain, classifyCombinedTopSpam, params, ruled = True)\n",
    "print score"
   ]
  },
  {
   "cell_type": "markdown",
   "metadata": {
    "collapsed": true
   },
   "source": [
    "### Read Data for Vowpal Wabbit Classification"
   ]
  },
  {
   "cell_type": "code",
   "execution_count": 88,
   "metadata": {
    "collapsed": true
   },
   "outputs": [],
   "source": [
    "testSubjects = readSubjects(XTestFileNames, testFolder, 'TEST_')\n",
    "testEmailBody = readEmailBody(XTestFileNames, testFolder, 'TEST_')\n",
    "trainSubjects = readSubjects(XTrainFileNames, trainFolder, 'TRAIN_')\n",
    "trainEmailBody = readEmailBody(XTrainFileNames, trainFolder, 'TRAIN_')\n",
    "\n",
    "# trainSender = readEmailField('Sender', XTrainFileNames, trainFolder, 'TRAIN_')\n",
    "trainSender = readEmailField('From', XTrainFileNames, trainFolder, 'TRAIN_')\n",
    "XTrainSender = CheckMissingSender(trainSender)\n",
    "# testSender = readEmailField('Sender', XTestFileNames, testFolder, 'TEST_')\n",
    "testSender = readEmailField('From', XTestFileNames, testFolder, 'TEST_')\n",
    "XTestSender = CheckMissingSender(testSender)\n",
    "\n",
    "trainDate = readEmailField('Date', XTrainFileNames, trainFolder, 'TRAIN_')\n",
    "XTrainDate = getDates(trainDate)\n",
    "testDate = readEmailField('Date', XTestFileNames, testFolder, 'TEST_')\n",
    "XTestDate = getDates(testDate)\n",
    "\n",
    "trainEmails = readEmails(XTrainFileNames, trainFolder, 'TRAIN_')\n",
    "testEmails = readEmails(XTestFileNames, testFolder, 'TEST_')"
   ]
  },
  {
   "cell_type": "markdown",
   "metadata": {},
   "source": [
    "### Cleaning of data for Vowpal Wabbit"
   ]
  },
  {
   "cell_type": "code",
   "execution_count": 89,
   "metadata": {
    "collapsed": true
   },
   "outputs": [],
   "source": [
    "def cleanVWMessages(XMessages, YTrain, train=False):\n",
    "    # f = open('trainSubjects.txt','wb')\n",
    "    cleanVW = []\n",
    "    Y = 0\n",
    "    for i in xrange(len(XMessages)):\n",
    "        if train:\n",
    "            if YTrain[i] == 0:\n",
    "                Y = -1\n",
    "            else:\n",
    "                Y = 1\n",
    "        if XMessages[i]:\n",
    "            cleanVW.append((Y,''.join(c for c in XMessages[i] if c not in ':|\\n\\t\\r')))\n",
    "            #f.write(str(Y) + ':' + '|' + str(i+1)+' subject:' + ''.join(c for c in trainSubjects[i] if c not in ':|\\n\\t\\r') +'\\r')\n",
    "        else:\n",
    "            cleanVW.append((Y,''))\n",
    "            #f.write(str(Y) + ':' + '|' + str(i+1)+' subject:' + '' +'\\r')\n",
    "    # f.close()\n",
    "    print len(cleanVW)\n",
    "    return cleanVW\n",
    "#     print trainVW[0]"
   ]
  },
  {
   "cell_type": "code",
   "execution_count": 90,
   "metadata": {
    "collapsed": false
   },
   "outputs": [],
   "source": [
    "def cleanVWCombinedMessage(XMessageSubject, XMessageBody, YTrain, train=False):\n",
    "    # f = open('trainSubjects.txt','wb')\n",
    "    cleanVW = []\n",
    "    Y = 0        \n",
    "    for i in xrange(len(XMessageBody)):\n",
    "        if train:\n",
    "            if YTrain[i] == 0:\n",
    "                Y = -1\n",
    "            else:\n",
    "                Y = 1\n",
    "        if XMessageBody[i] and XMessageSubject[i]:\n",
    "            vector = ''.join(c for c in XMessageSubject[i] if c not in ':|\\n\\t\\r') + ' ' + ''.join(c for c in trainEmailBody[i] if c not in ':|\\n\\t\\r')\n",
    "        elif XMessageSubject[i]:\n",
    "            vector = ''.join(c for c in XMessageSubject[i] if c not in ':|\\n\\t\\r')\n",
    "        elif XMessageBody[i]:\n",
    "            vector = ''.join(c for c in XMessageBody[i] if c not in ':|\\n\\t\\r')\n",
    "        else:\n",
    "            train = ''\n",
    "        cleanVW.append((Y,vector))   \n",
    "    #     trainVW.append((Y,''.join(c for c in trainEmailBody[i] if c not in ':|\\n\\t\\r')))\n",
    "    #         #f.write(str(Y) + ':' + '|' + str(i+1)+' subject:' + ''.join(c for c in trainSubjects[i] if c not in ':|\\n\\t\\r') +'\\r')\n",
    "    #     else:\n",
    "    #         trainVW.append((Y,''))\n",
    "            #f.write(str(Y) + ':' + '|' + str(i+1)+' subject:' + '' +'\\r')\n",
    "    # f.close()\n",
    "    return cleanVW\n",
    "#     print len(cleanVW)\n",
    "#     print cleanVW[0]"
   ]
  },
  {
   "cell_type": "code",
   "execution_count": 91,
   "metadata": {
    "collapsed": false
   },
   "outputs": [
    {
     "name": "stdout",
     "output_type": "stream",
     "text": [
      "2500\n",
      "2500\n",
      "1827\n",
      "1827\n",
      "2500\n",
      "1827\n"
     ]
    }
   ],
   "source": [
    "cleanVWTrainSub = cleanVWMessages(trainSubjects, YTrain, train=True)\n",
    "cleanVWTrainBody = cleanVWMessages(trainEmailBody, YTrain, train=True)\n",
    "cleanVWTestSub = cleanVWMessages(testSubjects, YTrain, train=False)\n",
    "cleanVWTestBody = cleanVWMessages(testEmailBody, YTrain, train=False)\n",
    "cleanVWTrainCombined = cleanVWCombinedMessage(trainSubjects, trainEmailBody, YTrain, train=True)\n",
    "cleanVWTestCombined = cleanVWCombinedMessage(testSubjects, testEmailBody, YTrain, train=False)\n",
    "cleanVWTrainEmails = cleanVWMessages(trainEmails, YTrain, train=True)\n",
    "cleanVWTestEmails = cleanVWMessages(testEmails, YTrain, train=False)"
   ]
  },
  {
   "cell_type": "markdown",
   "metadata": {},
   "source": [
    "### Vowpal Wabbit Classification on Email Subject + Static Rules"
   ]
  },
  {
   "cell_type": "code",
   "execution_count": 92,
   "metadata": {
    "collapsed": false
   },
   "outputs": [
    {
     "name": "stdout",
     "output_type": "stream",
     "text": [
      "92.1605476822\n",
      "92.1605476822\n",
      "92.2405476822\n",
      "92.2805476822\n",
      "92.1605476822\n",
      "90.2408641635\n",
      "90.2808641635\n"
     ]
    }
   ],
   "source": [
    "p = ''\n",
    "params = {'parameters':p}\n",
    "print VWstratifiedKFoldVal(cleanVWTrainSub, YTrain, cleanVWTrainSub, cleanVWTrainBody, XTrainSender, XTrainDate, classifyVW, params, ruled=False)\n",
    "params = {'parameters':p,'rules':[1]}\n",
    "print VWstratifiedKFoldVal(cleanVWTrainSub, YTrain, cleanVWTrainSub, cleanVWTrainBody, XTrainSender, XTrainDate, classifyVW, params, ruled=True)\n",
    "params = {'parameters':p,'rules':[2]}\n",
    "print VWstratifiedKFoldVal(cleanVWTrainSub, YTrain, cleanVWTrainSub, cleanVWTrainBody, XTrainSender, XTrainDate, classifyVW, params, ruled=True)\n",
    "params = {'parameters':p,'rules':[3]}\n",
    "print VWstratifiedKFoldVal(cleanVWTrainSub, YTrain, cleanVWTrainSub, cleanVWTrainBody, XTrainSender, XTrainDate, classifyVW, params, ruled=True)\n",
    "params = {'parameters':p,'rules':[4]}\n",
    "print VWstratifiedKFoldVal(cleanVWTrainSub, YTrain, cleanVWTrainSub, cleanVWTrainBody, XTrainSender, XTrainDate, classifyVW, params, ruled=True)\n",
    "params = {'parameters':p,'rules':[5]}\n",
    "print VWstratifiedKFoldVal(cleanVWTrainSub, YTrain, cleanVWTrainSub, cleanVWTrainBody, XTrainSender, XTrainDate, classifyVW, params, ruled=True)\n",
    "params = {'parameters':p,'rules':[1,2,3,4,5]}\n",
    "print VWstratifiedKFoldVal(cleanVWTrainSub, YTrain, cleanVWTrainSub, cleanVWTrainBody, XTrainSender, XTrainDate, classifyVW, params, ruled=True)"
   ]
  },
  {
   "cell_type": "markdown",
   "metadata": {},
   "source": [
    "### Vowpal Wabbit Classification on Email Body + Static Rules"
   ]
  },
  {
   "cell_type": "code",
   "execution_count": 93,
   "metadata": {
    "collapsed": false
   },
   "outputs": [
    {
     "name": "stdout",
     "output_type": "stream",
     "text": [
      "96.4804748819\n",
      "97.0807955232\n",
      "96.5603950416\n",
      "96.6804752019\n",
      "96.4804748819\n",
      "93.2409491238\n",
      "94.1211902448\n"
     ]
    }
   ],
   "source": [
    "p = ''\n",
    "params = {'parameters':p}\n",
    "print VWstratifiedKFoldVal(cleanVWTrainBody, YTrain, cleanVWTrainSub, cleanVWTrainBody, XTrainSender, XTrainDate, classifyVW, params, ruled=False)\n",
    "params = {'parameters':p,'rules':[1]}\n",
    "print VWstratifiedKFoldVal(cleanVWTrainBody, YTrain, cleanVWTrainSub, cleanVWTrainBody, XTrainSender, XTrainDate, classifyVW, params, ruled=True)\n",
    "params = {'parameters':p,'rules':[2]}\n",
    "print VWstratifiedKFoldVal(cleanVWTrainBody, YTrain, cleanVWTrainSub, cleanVWTrainBody, XTrainSender, XTrainDate, classifyVW, params, ruled=True)\n",
    "params = {'parameters':p,'rules':[3]}\n",
    "print VWstratifiedKFoldVal(cleanVWTrainBody, YTrain, cleanVWTrainSub, cleanVWTrainBody, XTrainSender, XTrainDate, classifyVW, params, ruled=True)\n",
    "params = {'parameters':p,'rules':[4]}\n",
    "print VWstratifiedKFoldVal(cleanVWTrainBody, YTrain, cleanVWTrainSub, cleanVWTrainBody, XTrainSender, XTrainDate, classifyVW, params, ruled=True)\n",
    "params = {'parameters':p,'rules':[5]}\n",
    "print VWstratifiedKFoldVal(cleanVWTrainBody, YTrain, cleanVWTrainSub, cleanVWTrainBody, XTrainSender, XTrainDate, classifyVW, params, ruled=True)\n",
    "params = {'parameters':p,'rules':[1,2,3,4,5]}\n",
    "print VWstratifiedKFoldVal(cleanVWTrainBody, YTrain, cleanVWTrainSub, cleanVWTrainBody, XTrainSender, XTrainDate, classifyVW, params, ruled=True)"
   ]
  },
  {
   "cell_type": "markdown",
   "metadata": {},
   "source": [
    "### Vowpal Wabbit Classification on Email Subject + Body (Combined) + Static Rules"
   ]
  },
  {
   "cell_type": "code",
   "execution_count": 94,
   "metadata": {
    "collapsed": false
   },
   "outputs": [
    {
     "name": "stdout",
     "output_type": "stream",
     "text": [
      "2500\n",
      "97.6006358425\n",
      "97.6407160029\n",
      "97.6805560022\n",
      "97.7207160029\n",
      "97.6006358425\n",
      "94.3611100844\n",
      "94.6011905648\n"
     ]
    }
   ],
   "source": [
    "p = ''\n",
    "print len(cleanVWTrainCombined)\n",
    "params = {'parameters':p}\n",
    "print VWstratifiedKFoldVal(cleanVWTrainCombined, YTrain, cleanVWTrainSub, cleanVWTrainBody, XTrainSender, XTrainDate, classifyVW, params, ruled=False)\n",
    "params = {'parameters':p,'rules':[1]}\n",
    "print VWstratifiedKFoldVal(cleanVWTrainCombined, YTrain, cleanVWTrainSub, cleanVWTrainBody, XTrainSender, XTrainDate, classifyVW, params, ruled=True)\n",
    "params = {'parameters':p,'rules':[2]}\n",
    "print VWstratifiedKFoldVal(cleanVWTrainCombined, YTrain, cleanVWTrainSub, cleanVWTrainBody, XTrainSender, XTrainDate, classifyVW, params, ruled=True)\n",
    "params = {'parameters':p,'rules':[3]}\n",
    "print VWstratifiedKFoldVal(cleanVWTrainCombined, YTrain, cleanVWTrainSub, cleanVWTrainBody, XTrainSender, XTrainDate, classifyVW, params, ruled=True)\n",
    "params = {'parameters':p,'rules':[4]}\n",
    "print VWstratifiedKFoldVal(cleanVWTrainCombined, YTrain, cleanVWTrainSub, cleanVWTrainBody, XTrainSender, XTrainDate, classifyVW, params, ruled=True)\n",
    "params = {'parameters':p,'rules':[5]}\n",
    "print VWstratifiedKFoldVal(cleanVWTrainCombined, YTrain, cleanVWTrainSub, cleanVWTrainBody, XTrainSender, XTrainDate, classifyVW, params, ruled=True)\n",
    "params = {'parameters':p,'rules':[1,2,3,4,5]}\n",
    "print VWstratifiedKFoldVal(cleanVWTrainCombined, YTrain, cleanVWTrainSub, cleanVWTrainBody, XTrainSender, XTrainDate, classifyVW, params, ruled=True)"
   ]
  },
  {
   "cell_type": "code",
   "execution_count": 95,
   "metadata": {
    "collapsed": false
   },
   "outputs": [
    {
     "name": "stdout",
     "output_type": "stream",
     "text": [
      "97.8407163229\n"
     ]
    }
   ],
   "source": [
    "params = {'parameters':'','rules':[1,2,3]}\n",
    "print VWstratifiedKFoldVal(cleanVWTrainCombined, YTrain, cleanVWTrainSub, cleanVWTrainBody, XTrainSender, XTrainDate, classifyVW, params, ruled=True)"
   ]
  },
  {
   "cell_type": "code",
   "execution_count": 96,
   "metadata": {
    "collapsed": false
   },
   "outputs": [
    {
     "name": "stdout",
     "output_type": "stream",
     "text": [
      "97.6805560022\n"
     ]
    }
   ],
   "source": [
    "params = {'parameters':'','rules':[2]}\n",
    "print VWstratifiedKFoldVal(cleanVWTrainCombined, YTrain, cleanVWTrainSub, cleanVWTrainBody, XTrainSender, XTrainDate, classifyVW, params, ruled=True)"
   ]
  },
  {
   "cell_type": "code",
   "execution_count": 97,
   "metadata": {
    "collapsed": false
   },
   "outputs": [
    {
     "name": "stdout",
     "output_type": "stream",
     "text": [
      "97.7207160029\n"
     ]
    }
   ],
   "source": [
    "params = {'parameters':'','rules':[3]}\n",
    "print VWstratifiedKFoldVal(cleanVWTrainCombined, YTrain, cleanVWTrainSub, cleanVWTrainBody, XTrainSender, XTrainDate, classifyVW, params, ruled=True)"
   ]
  },
  {
   "cell_type": "markdown",
   "metadata": {},
   "source": [
    "### Vowpal Wabbit Classification on the entire Email as string + Static Rules"
   ]
  },
  {
   "cell_type": "code",
   "execution_count": 98,
   "metadata": {
    "collapsed": false
   },
   "outputs": [
    {
     "name": "stdout",
     "output_type": "stream",
     "text": [
      "2500\n",
      "98.8003184013\n",
      "98.8003184013\n",
      "98.800238561\n",
      "98.8003184013\n",
      "98.8003184013\n",
      "95.3207926432\n",
      "95.3607128029\n"
     ]
    }
   ],
   "source": [
    "print len(cleanVWTrainEmails)\n",
    "p = ''\n",
    "# p = \"--ngram 2 --adaptive --loss_function=logistic --link=logistic\"\n",
    "# p = \"--loss_function=logistic --ngram 3 -l2 0.0000001 --ring_size 2048\"\n",
    "params = {'parameters':p}\n",
    "print VWstratifiedKFoldVal(cleanVWTrainEmails, YTrain, cleanVWTrainSub, cleanVWTrainBody, XTrainSender, XTrainDate, classifyVW, params, ruled=False)\n",
    "params = {'parameters':p,'rules':[1]}\n",
    "print VWstratifiedKFoldVal(cleanVWTrainEmails, YTrain, cleanVWTrainSub, cleanVWTrainBody, XTrainSender, XTrainDate, classifyVW, params, ruled=True)\n",
    "params = {'parameters':p,'rules':[2]}\n",
    "print VWstratifiedKFoldVal(cleanVWTrainEmails, YTrain, cleanVWTrainSub, cleanVWTrainBody, XTrainSender, XTrainDate, classifyVW, params, ruled=True)\n",
    "params = {'parameters':p,'rules':[3]}\n",
    "print VWstratifiedKFoldVal(cleanVWTrainEmails, YTrain, cleanVWTrainSub, cleanVWTrainBody, XTrainSender, XTrainDate, classifyVW, params, ruled=True)\n",
    "params = {'parameters':p,'rules':[4]}\n",
    "print VWstratifiedKFoldVal(cleanVWTrainEmails, YTrain, cleanVWTrainSub, cleanVWTrainBody, XTrainSender, XTrainDate, classifyVW, params, ruled=True)\n",
    "params = {'parameters':p,'rules':[5]}\n",
    "print VWstratifiedKFoldVal(cleanVWTrainEmails, YTrain, cleanVWTrainSub, cleanVWTrainBody, XTrainSender, XTrainDate, classifyVW, params, ruled=True)\n",
    "params = {'parameters':p,'rules':[1,2,3,4,5]}\n",
    "print VWstratifiedKFoldVal(cleanVWTrainEmails, YTrain, cleanVWTrainSub, cleanVWTrainBody, XTrainSender, XTrainDate, classifyVW, params, ruled=True)"
   ]
  },
  {
   "cell_type": "code",
   "execution_count": 138,
   "metadata": {
    "collapsed": false
   },
   "outputs": [
    {
     "name": "stdout",
     "output_type": "stream",
     "text": [
      "98.880238561\n",
      "98.880238561\n",
      "98.800238561\n"
     ]
    }
   ],
   "source": [
    "params = {'parameters':p,'rules':[1,2,3]}\n",
    "print VWstratifiedKFoldVal(cleanVWTrainEmails, YTrain, cleanVWTrainSub, cleanVWTrainBody, XTrainSender, XTrainDate, classifyVW, params, ruled=True)\n",
    "params = {'parameters':p,'rules':[1,2]}\n",
    "print VWstratifiedKFoldVal(cleanVWTrainEmails, YTrain, cleanVWTrainSub, cleanVWTrainBody, XTrainSender, XTrainDate, classifyVW, params, ruled=True)\n",
    "params = {'parameters':p,'rules':[2,3]}\n",
    "print VWstratifiedKFoldVal(cleanVWTrainEmails, YTrain, cleanVWTrainSub, cleanVWTrainBody, XTrainSender, XTrainDate, classifyVW, params, ruled=True)"
   ]
  },
  {
   "cell_type": "code",
   "execution_count": 100,
   "metadata": {
    "collapsed": false
   },
   "outputs": [],
   "source": [
    "# Submission for VW Classifier\n",
    "# import pyvw\n",
    "# # vw = pyvw.vw(\"--passes 300 --ngram 3 --loss_function=logistic --link=logistic --binary --cache_file test.cache \")\n",
    "# # vw = pyvw.vw(\"--loss_function=logistic --ngram 3 -l2 0.0000001 --ring_size 2048\")\n",
    "# # vw = pyvw.vw(\"--loss_function=logistic --link=logistic\")\n",
    "# vw = pyvw.vw()\n",
    "# # vw = pyvw.VWClassifier()\n",
    "# for train in cleanVWTrainCombined:\n",
    "#     ex = vw.example(str(train[0]) + \" | \" + train[1])\n",
    "#     ex.learn()\n",
    "# YPred = []\n",
    "# for test in cleanVWTestCombined:\n",
    "#     ex1 = vw.example(\" | \" + test[1])\n",
    "#     ex1.learn() \n",
    "# #     print ex1.get_updated_prediction(),ex1.get_simplelabel_prediction() #<-- the same for every prediction?\n",
    "#     if ex1.get_simplelabel_prediction() > 0:\n",
    "#         YPred.append(1)\n",
    "#     else:\n",
    "#         YPred.append(0)\n",
    "\n",
    "# print len(YPred)\n",
    "# # YPred = ApplyStaticRule1(testSubjects, YPred)\n",
    "# # YPred = ApplyStaticRule2(testEmailBody, YPred)\n",
    "# # YPred = ApplyStaticRule3(XTestDate, YPred)\n",
    "# writePredictedLabelFile(YPred)\n",
    "\n",
    "\n",
    "# #     YPred = \n",
    "# #     test = vw.example(\" | This is certainly ham.\")\n",
    "# #     test.learn() \n",
    "# # print test.get_updated_prediction() #<-- usually 0.0\n",
    "# # print test.get_simplelabel_prediction() #<-- the same for every prediction? "
   ]
  },
  {
   "cell_type": "markdown",
   "metadata": {},
   "source": [
    "### Create Features based on Email message type for Random Forests."
   ]
  },
  {
   "cell_type": "code",
   "execution_count": 101,
   "metadata": {
    "collapsed": true
   },
   "outputs": [],
   "source": [
    "def createFeaturesMsgTypeRF(readMsgType, createFeature, rules = [1,2,3], ruled= True):\n",
    "    XTrainSubjects = readMsgType(XTrainFileNames, trainFolder, fileString='TRAIN_')\n",
    "    XFeaturesSubjectSpam, XFeaturesSubjectHam = AnalyseWordLabelContribution(XTrainSubjects, YTrain)\n",
    "    SubjectWordsSpamicity = computeSpamicityWords(XFeaturesSubjectSpam, XFeaturesSubjectHam)\n",
    "    XTrainSubjectFeatures = createFeature(XTrainSubjects, SubjectWordsSpamicity)\n",
    "\n",
    "    params = {'trees':200, 'criterion':'entropy', 'random_state':None, 'rules':rules, 'FileNames':XTrainFileNames}\n",
    "    score = stratifiedKFoldVal(XTrainSubjectFeatures, YTrain, classifyRandomForestClassifier, params, ruled)\n",
    "    print score\n",
    "\n",
    "    XTestSubjects = readMsgType(XTestFileNames, testFolder, fileString='TEST_')\n",
    "    XTestSubjectFeatures = createFeature(XTestSubjects, SubjectWordsSpamicity)\n",
    "\n",
    "    clf = RandomForestClassifier(n_estimators=200,criterion='entropy')\n",
    "    clf.fit(XTrainSubjectFeatures, YTrain)\n",
    "    YPred = clf.predict(XTestSubjectFeatures)\n",
    "    writePredictedLabelFile(YPred)\n",
    "    return XTrainSubjectFeatures, XTestSubjectFeatures"
   ]
  },
  {
   "cell_type": "markdown",
   "metadata": {},
   "source": [
    "### Create Spam Ham Features based on Email Subject for Random Forests."
   ]
  },
  {
   "cell_type": "code",
   "execution_count": 102,
   "metadata": {
    "collapsed": false
   },
   "outputs": [
    {
     "name": "stdout",
     "output_type": "stream",
     "text": [
      "94.7949463798\n",
      "94.1145446182\n"
     ]
    }
   ],
   "source": [
    "XTrainSubjectFeatures, XTestSubjectFeatures = createFeaturesMsgTypeRF(readSubjects, createSpamHamFeature)\n",
    "XTrainSubjectFeatures, XTestSubjectFeatures = createFeaturesMsgTypeRF(readSubjects, createSpamHamFeature, [], False)"
   ]
  },
  {
   "cell_type": "markdown",
   "metadata": {},
   "source": [
    "### Create Spam Ham Features based on Email Body for Random Forests."
   ]
  },
  {
   "cell_type": "code",
   "execution_count": 103,
   "metadata": {
    "collapsed": false
   },
   "outputs": [
    {
     "name": "stdout",
     "output_type": "stream",
     "text": [
      "79.921247045\n",
      "71.8008347233\n"
     ]
    }
   ],
   "source": [
    "XTrainBodyFeatures, XTestBodyFeatures = createFeaturesMsgTypeRF(readEmailBody, createSpamHamFeature,[1,2,3], True)\n",
    "XTrainBodyFeatures, XTestBodyFeatures = createFeaturesMsgTypeRF(readEmailBody, createSpamHamFeature,[1,2,3], False)"
   ]
  },
  {
   "cell_type": "markdown",
   "metadata": {},
   "source": [
    "### Create Spam Ham Features based on both Email Subject and Body for Random Forests."
   ]
  },
  {
   "cell_type": "code",
   "execution_count": 104,
   "metadata": {
    "collapsed": true
   },
   "outputs": [],
   "source": [
    "# Concatenate 2 feature types before calling RF\n",
    "def concatenatedFeaturesRF(XTrainSubjectFeatures, XTrainBodyFeatures, XTestSubjectFeatures, XTestBodyFeatures, rules = [1,2,3], ruled=True):\n",
    "    XTrainConcatenatedFeatures = np.hstack((XTrainSubjectFeatures, XTrainBodyFeatures))\n",
    "    params = {'trees':200, 'criterion':'entropy', 'random_state':None, 'rules':rules, 'FileNames':XTrainFileNames}\n",
    "    score = stratifiedKFoldVal(XTrainConcatenatedFeatures, YTrain, classifyRandomForestClassifier, params, ruled)\n",
    "    print score\n",
    "    \n",
    "    XTestConcatenatedFeatures = np.hstack((XTestSubjectFeatures, XTestBodyFeatures))\n",
    "    clf = RandomForestClassifier(n_estimators=200,criterion='entropy')\n",
    "    clf.fit(XTrainConcatenatedFeatures, YTrain)\n",
    "    YPred = clf.predict(XTestConcatenatedFeatures)\n",
    "    writePredictedLabelFile(YPred)\n",
    "    return YPred"
   ]
  },
  {
   "cell_type": "code",
   "execution_count": 105,
   "metadata": {
    "collapsed": false
   },
   "outputs": [
    {
     "name": "stdout",
     "output_type": "stream",
     "text": [
      "95.2750265401\n",
      "94.6746247785\n"
     ]
    },
    {
     "data": {
      "text/plain": [
       "array([1, 1, 1, ..., 0, 0, 0])"
      ]
     },
     "execution_count": 105,
     "metadata": {},
     "output_type": "execute_result"
    }
   ],
   "source": [
    "concatenatedFeaturesRF(XTrainSubjectFeatures, XTrainBodyFeatures, XTestSubjectFeatures, XTestBodyFeatures, [1,2,3], True)\n",
    "concatenatedFeaturesRF(XTrainSubjectFeatures, XTrainBodyFeatures, XTestSubjectFeatures, XTestBodyFeatures, [1,2,3], False)"
   ]
  },
  {
   "cell_type": "markdown",
   "metadata": {},
   "source": [
    "### Generic function to create Word Features for an email field \"readMsgType\" with createFeature as the spamminess metric function"
   ]
  },
  {
   "cell_type": "code",
   "execution_count": 106,
   "metadata": {
    "collapsed": true
   },
   "outputs": [],
   "source": [
    "def createWordFeatures(readMsgType, createFeature, param):\n",
    "    XMessages = readMsgType(XTrainFileNames, trainFolder, fileString='TRAIN_')\n",
    "    XFeatures = createFeature(XMessages, param)\n",
    "    \n",
    "    XTestMessages = readMsgType(XTestFileNames, testFolder, fileString='TEST_')\n",
    "    XTestFeatures = createFeature(XTestMessages, param)\n",
    "\n",
    "    return XFeatures, XTestFeatures"
   ]
  },
  {
   "cell_type": "markdown",
   "metadata": {},
   "source": [
    "### Create features based on Capital Letter word occurences in email messages."
   ]
  },
  {
   "cell_type": "code",
   "execution_count": 107,
   "metadata": {
    "collapsed": false
   },
   "outputs": [],
   "source": [
    "minLetteredWord = 3\n",
    "XTrainSubCapWordFeatures, XTestSubCapWordFeatures = createWordFeatures(readSubjects, AnalyzeCapitalLettersInMsg, minLetteredWord)\n",
    "XTrainBodyCapWordFeatures, XTestBodyCapWordFeatures = createWordFeatures(readEmailBody, AnalyzeCapitalLettersInMsg, minLetteredWord)\n",
    "\n",
    "XTrainCapWordConcFeatures = np.hstack((XTrainSubCapWordFeatures, XTrainBodyCapWordFeatures))\n",
    "XTestCapWordConcFeatures = np.hstack((XTestSubCapWordFeatures, XTestBodyCapWordFeatures))\n"
   ]
  },
  {
   "cell_type": "markdown",
   "metadata": {},
   "source": [
    "### Create features based on SPAM words in email messages."
   ]
  },
  {
   "cell_type": "code",
   "execution_count": 108,
   "metadata": {
    "collapsed": true
   },
   "outputs": [],
   "source": [
    "XTrainSubSpamWordsFeatures, XTestSubSpamWordsFeatures = createWordFeatures(readSubjects, ChkPresenceOfStringFeat, strSpamWordsList)\n",
    "XTrainBodySpamWordsFeatures, XTestBodySpamWordsFeatures = createWordFeatures(readEmailBody, ChkPresenceOfStringFeat, strSpamWordsList)\n",
    "\n",
    "XTrainSpamWordsConcFeatures = np.hstack((XTrainSubSpamWordsFeatures, XTrainBodySpamWordsFeatures))\n",
    "XTestSpamWordsConcFeatures = np.hstack((XTestSubSpamWordsFeatures, XTestBodySpamWordsFeatures))"
   ]
  },
  {
   "cell_type": "markdown",
   "metadata": {},
   "source": [
    "### Create features based on PGP Signature occurences in email messages."
   ]
  },
  {
   "cell_type": "code",
   "execution_count": 109,
   "metadata": {
    "collapsed": true
   },
   "outputs": [],
   "source": [
    "strPGPSignatureList = [\"pgp\"]\n",
    "\n",
    "XTrainSubPGPSignFeatures, XTestSubPGPSignFeatures = createWordFeatures(readSubjects, ChkPresenceOfStringFeat, strPGPSignatureList)\n",
    "XTrainBodyPGPSignFeatures, XTestBodyPGPSignFeatures = createWordFeatures(readEmailBody, ChkPresenceOfStringFeat, strPGPSignatureList)\n",
    "\n",
    "XTrainPGPSignConcFeatures = np.hstack((XTrainSubPGPSignFeatures, XTrainBodyPGPSignFeatures))\n",
    "XTestPGPSignConcFeatures = np.hstack((XTestSubPGPSignFeatures, XTestBodyPGPSignFeatures))"
   ]
  },
  {
   "cell_type": "code",
   "execution_count": null,
   "metadata": {
    "collapsed": true
   },
   "outputs": [],
   "source": [
    "### Create combined feature by concatenating above 3 features."
   ]
  },
  {
   "cell_type": "code",
   "execution_count": 110,
   "metadata": {
    "collapsed": false
   },
   "outputs": [],
   "source": [
    "XTrainWordsConcFeatures = np.hstack((XTrainCapWordConcFeatures, XTrainSpamWordsConcFeatures))\n",
    "XTestWordsConcFeatures = np.hstack((XTestCapWordConcFeatures, XTestSpamWordsConcFeatures))\n",
    "\n",
    "XTrainConcFeatures = np.hstack((XTrainPGPSignConcFeatures, XTrainWordsConcFeatures))\n",
    "XTestConcFeatures = np.hstack((XTestPGPSignConcFeatures, XTestWordsConcFeatures))"
   ]
  },
  {
   "cell_type": "markdown",
   "metadata": {},
   "source": [
    "### Random Forest on Capital Letters, SPAM words & PGP Signature occurences on both email subject and body"
   ]
  },
  {
   "cell_type": "code",
   "execution_count": 111,
   "metadata": {
    "collapsed": false
   },
   "outputs": [
    {
     "name": "stdout",
     "output_type": "stream",
     "text": [
      "81.8799689599\n",
      "81.4799683199\n"
     ]
    },
    {
     "data": {
      "text/plain": [
       "array([1, 1, 0, ..., 1, 1, 0])"
      ]
     },
     "execution_count": 111,
     "metadata": {},
     "output_type": "execute_result"
    }
   ],
   "source": [
    "concatenatedFeaturesRF(XTrainPGPSignConcFeatures, XTrainWordsConcFeatures, XTestPGPSignConcFeatures, XTestWordsConcFeatures,[1,2,3], True)\n",
    "concatenatedFeaturesRF(XTrainPGPSignConcFeatures, XTrainWordsConcFeatures, XTestPGPSignConcFeatures, XTestWordsConcFeatures,[1,2,3], False)"
   ]
  },
  {
   "cell_type": "markdown",
   "metadata": {},
   "source": [
    "### Create Ratio of Spam words as Features based on Email Subject for Random Forests."
   ]
  },
  {
   "cell_type": "code",
   "execution_count": 112,
   "metadata": {
    "collapsed": false
   },
   "outputs": [
    {
     "name": "stdout",
     "output_type": "stream",
     "text": [
      "95.8748674995\n",
      "95.1135849343\n"
     ]
    }
   ],
   "source": [
    "XTrainSubjectFeatures1, XTestSubjectFeatures1 = createFeaturesMsgTypeRF(readSubjects, createSpamWordRatioFeature, [1,2,3], True)\n",
    "XTrainSubjectFeatures1, XTestSubjectFeatures1 = createFeaturesMsgTypeRF(readSubjects, createSpamWordRatioFeature, [1,2,3], False)"
   ]
  },
  {
   "cell_type": "markdown",
   "metadata": {},
   "source": [
    "### Create Ratio of Spam words as Features based on Email Body for Random Forests."
   ]
  },
  {
   "cell_type": "code",
   "execution_count": 113,
   "metadata": {
    "collapsed": false
   },
   "outputs": [
    {
     "name": "stdout",
     "output_type": "stream",
     "text": [
      "99.0401584006\n",
      "98.8401580806\n"
     ]
    }
   ],
   "source": [
    "XTrainBodyFeatures1, XTestBodyFeatures1 = createFeaturesMsgTypeRF(readEmailBody, createSpamWordRatioFeature, [1,2,3], True)\n",
    "XTrainBodyFeatures1, XTestBodyFeatures1 = createFeaturesMsgTypeRF(readEmailBody, createSpamWordRatioFeature, [1,2,3], False)"
   ]
  },
  {
   "cell_type": "markdown",
   "metadata": {},
   "source": [
    "### Create Ratio of Spam words as Features based on both Email Subject and Body for Random Forests."
   ]
  },
  {
   "cell_type": "code",
   "execution_count": 114,
   "metadata": {
    "collapsed": false
   },
   "outputs": [
    {
     "name": "stdout",
     "output_type": "stream",
     "text": [
      "99.3192782371\n",
      "99.3991980768\n"
     ]
    },
    {
     "data": {
      "text/plain": [
       "array([1, 1, 1, ..., 0, 0, 0])"
      ]
     },
     "execution_count": 114,
     "metadata": {},
     "output_type": "execute_result"
    }
   ],
   "source": [
    "concatenatedFeaturesRF(XTrainSubjectFeatures1, XTrainBodyFeatures1, XTestSubjectFeatures1, XTestBodyFeatures1, [1,2,3], True)\n",
    "concatenatedFeaturesRF(XTrainSubjectFeatures1, XTrainBodyFeatures1, XTestSubjectFeatures1, XTestBodyFeatures1, [1,2,3], False)"
   ]
  },
  {
   "cell_type": "markdown",
   "metadata": {},
   "source": [
    "### All features i.e. Ratio of Spam words, Capital Letters, SPAM words & PGP Signature occurences on both email subject and body"
   ]
  },
  {
   "cell_type": "code",
   "execution_count": 115,
   "metadata": {
    "collapsed": false
   },
   "outputs": [],
   "source": [
    "XTrainRatioSpamWordsFeatures = np.hstack((XTrainSubjectFeatures1, XTrainBodyFeatures1))\n",
    "XTestRatioSpamWordsFeatures = np.hstack((XTestSubjectFeatures1, XTestBodyFeatures1))\n",
    "\n",
    "XTrainAllFeatures = np.hstack((XTrainRatioSpamWordsFeatures, XTrainConcFeatures))\n",
    "XTestAllFeatures = np.hstack((XTestRatioSpamWordsFeatures, XTestConcFeatures))"
   ]
  },
  {
   "cell_type": "markdown",
   "metadata": {},
   "source": [
    "### Random Forest on All features"
   ]
  },
  {
   "cell_type": "code",
   "execution_count": 116,
   "metadata": {
    "collapsed": false
   },
   "outputs": [
    {
     "name": "stdout",
     "output_type": "stream",
     "text": [
      "99.3194382378\n",
      "99.5195985584\n"
     ]
    },
    {
     "data": {
      "text/plain": [
       "array([1, 1, 1, ..., 0, 0, 0])"
      ]
     },
     "execution_count": 116,
     "metadata": {},
     "output_type": "execute_result"
    }
   ],
   "source": [
    "concatenatedFeaturesRF(XTrainRatioSpamWordsFeatures, XTrainConcFeatures, XTestRatioSpamWordsFeatures, XTestConcFeatures, [1,2,3], True)\n",
    "concatenatedFeaturesRF(XTrainRatioSpamWordsFeatures, XTrainConcFeatures, XTestRatioSpamWordsFeatures, XTestConcFeatures, [1,2,3], False)"
   ]
  },
  {
   "cell_type": "markdown",
   "metadata": {},
   "source": [
    "### Apply static rules after Random Forest on features."
   ]
  },
  {
   "cell_type": "code",
   "execution_count": 117,
   "metadata": {
    "collapsed": false
   },
   "outputs": [
    {
     "name": "stdout",
     "output_type": "stream",
     "text": [
      "99.3993583974\n",
      "99.3992782371\n"
     ]
    }
   ],
   "source": [
    "YPred = concatenatedFeaturesRF(XTrainSubjectFeatures1, XTrainBodyFeatures1, XTestSubjectFeatures1, XTestBodyFeatures1, [1,2,3], True)\n",
    "YPred = concatenatedFeaturesRF(XTrainSubjectFeatures1, XTrainBodyFeatures1, XTestSubjectFeatures1, XTestBodyFeatures1, [1,2,3], False)"
   ]
  },
  {
   "cell_type": "markdown",
   "metadata": {},
   "source": [
    "### RF with Spamicity on Top Spam Features"
   ]
  },
  {
   "cell_type": "code",
   "execution_count": 136,
   "metadata": {
    "collapsed": false
   },
   "outputs": [
    {
     "name": "stdout",
     "output_type": "stream",
     "text": [
      "94.1202308809\n",
      "88.0010184041\n",
      "94.6398319993\n",
      "94.1599115196\n"
     ]
    },
    {
     "data": {
      "text/plain": [
       "array([1, 1, 1, ..., 0, 0, 0])"
      ]
     },
     "execution_count": 136,
     "metadata": {},
     "output_type": "execute_result"
    }
   ],
   "source": [
    "XTrainBodyFeatures1, XTestBodyFeatures1 = createFeaturesMsgTypeRF(readEmailBody, createTopSpamFeature, [1,2,3], True)\n",
    "XTrainSubjectFeatures1, XTestSubjectFeatures1 = createFeaturesMsgTypeRF(readSubjects, createTopSpamFeature, [1,2,3], True)\n",
    "# XTrainSubjectFeatures1, XTrainSubjectFeatures1 = createFeaturesMsgTypeRF(readEmailBody, createTopSpamFeature, [1,2,3], False)\n",
    "concatenatedFeaturesRF(XTrainSubjectFeatures1, XTrainBodyFeatures1, XTestSubjectFeatures1, XTestBodyFeatures1, [1,2,3], True)\n",
    "concatenatedFeaturesRF(XTrainSubjectFeatures1, XTrainBodyFeatures1, XTestSubjectFeatures1, XTestBodyFeatures1, [1,2,3], False)"
   ]
  },
  {
   "cell_type": "markdown",
   "metadata": {},
   "source": [
    "### Adaboost Classfier"
   ]
  },
  {
   "cell_type": "code",
   "execution_count": 119,
   "metadata": {
    "collapsed": true
   },
   "outputs": [],
   "source": [
    "from sklearn.ensemble import AdaBoostClassifier\n",
    "from sklearn.tree import DecisionTreeClassifier\n",
    "def classifyAdaboostClassifier(XTrain, XTest, YTrain, YTest, params, ruled):\n",
    "    depth = params['max_depth']\n",
    "    algo = params['algorithm']\n",
    "    estimators = params['n_estimators']\n",
    "    \n",
    "    # Create and fit an AdaBoosted decision tree\n",
    "    bdt = AdaBoostClassifier(DecisionTreeClassifier(max_depth = depth),\n",
    "                         algorithm = algo,\n",
    "                         n_estimators=estimators)\n",
    "\n",
    "    bdt.fit(XTrain, YTrain)\n",
    "    YPred = bdt.predict(XTest)\n",
    "    if ruled:\n",
    "        \n",
    "        XTestSubjects = params['test_subs']\n",
    "        XTestBody = params['test_email_body']\n",
    "        XTestSender = params['test_sender']\n",
    "        XTestDate = params['test_date']\n",
    "        \n",
    "        rules = params['rules']\n",
    "        for r in rules:\n",
    "            if r==1:\n",
    "                YPred = ApplyStaticRule1(XTestSubjects, YPred)\n",
    "            elif r==2:\n",
    "                YPred = ApplyStaticRule2(XTestBody, YPred)\n",
    "            elif r==3:\n",
    "                YPred = ApplyStaticRule3(XTestDate, YPred)\n",
    "            elif r==4:\n",
    "                YPred = ApplyStaticRule4(XTestSender, YPred)\n",
    "            elif r==5:\n",
    "                YPred = ApplyStaticRule5(XTestBody, YPred)\n",
    "\n",
    "    diff = YPred - YTest\n",
    "    score = diff[diff == 0].size\n",
    "    return (100.0 * score)/(YPred.size)"
   ]
  },
  {
   "cell_type": "markdown",
   "metadata": {},
   "source": [
    "### Define the parameters for Adaboost and use it on different training dataset"
   ]
  },
  {
   "cell_type": "code",
   "execution_count": 122,
   "metadata": {
    "collapsed": true
   },
   "outputs": [],
   "source": [
    "params = {'max_depth':1, 'algorithm':'SAMME', 'n_estimators':200, 'rules':[1,2,3], 'FileNames':XTrainFileNames}"
   ]
  },
  {
   "cell_type": "code",
   "execution_count": 124,
   "metadata": {
    "collapsed": false
   },
   "outputs": [
    {
     "name": "stdout",
     "output_type": "stream",
     "text": [
      "94.3936634947\n",
      "95.1143852575\n"
     ]
    }
   ],
   "source": [
    "# Adaboost on Subject as feature\n",
    "score = stratifiedKFoldVal(XTrainSubjectFeatures, YTrain, classifyAdaboostClassifier, params, ruled=False)\n",
    "print score\n",
    "score = stratifiedKFoldVal(XTrainSubjectFeatures, YTrain, classifyAdaboostClassifier, params, ruled=True)\n",
    "print score"
   ]
  },
  {
   "cell_type": "code",
   "execution_count": 123,
   "metadata": {
    "collapsed": false
   },
   "outputs": [
    {
     "name": "stdout",
     "output_type": "stream",
     "text": [
      "71.5606744027\n",
      "79.6810867243\n"
     ]
    }
   ],
   "source": [
    "# Adaboost on Body as feature\n",
    "score = stratifiedKFoldVal(XTrainBodyFeatures, YTrain, classifyAdaboostClassifier, params, ruled=False)\n",
    "print score\n",
    "score = stratifiedKFoldVal(XTrainBodyFeatures, YTrain, classifyAdaboostClassifier, params, ruled=True)\n",
    "print score"
   ]
  },
  {
   "cell_type": "code",
   "execution_count": 120,
   "metadata": {
    "collapsed": false
   },
   "outputs": [
    {
     "name": "stdout",
     "output_type": "stream",
     "text": [
      "99.5195187181\n"
     ]
    }
   ],
   "source": [
    "# Adaboost on All Features\n",
    "score = stratifiedKFoldVal(XTrainAllFeatures, YTrain, classifyAdaboostClassifier, params, ruled=False)\n",
    "print score\n",
    "score = stratifiedKFoldVal(XTrainAllFeatures, YTrain, classifyAdaboostClassifier, params, ruled=True)\n",
    "print score"
   ]
  },
  {
   "cell_type": "markdown",
   "metadata": {},
   "source": [
    "### Submission using Adaboost Classifier"
   ]
  },
  {
   "cell_type": "code",
   "execution_count": 126,
   "metadata": {
    "collapsed": true
   },
   "outputs": [],
   "source": [
    "XTrain = XTrainAllFeatures\n",
    "XTest = XTestAllFeatures\n",
    "ruled=True\n",
    "params['rules'] = [1,2]\n",
    "depth = params['max_depth']\n",
    "algo = params['algorithm']\n",
    "estimators = params['n_estimators']\n",
    "\n",
    "# Create and fit an AdaBoosted decision tree\n",
    "bdt = AdaBoostClassifier(DecisionTreeClassifier(max_depth = depth),\n",
    "                     algorithm = algo,\n",
    "                     n_estimators=estimators)\n",
    "\n",
    "bdt.fit(XTrain, YTrain)\n",
    "YPred = bdt.predict(XTest)\n",
    "if ruled:\n",
    "\n",
    "    XTestSubjects = params['test_subs']\n",
    "    XTestBody = params['test_email_body']\n",
    "    XTestSender = params['test_sender']\n",
    "    XTestDate = params['test_date']\n",
    "\n",
    "    rules = params['rules']\n",
    "    for r in rules:\n",
    "        if r==1:\n",
    "            YPred = ApplyStaticRule1(XTestSubjects, YPred)\n",
    "        elif r==2:\n",
    "            YPred = ApplyStaticRule2(XTestBody, YPred)\n",
    "        elif r==3:\n",
    "            YPred = ApplyStaticRule3(XTestDate, YPred)\n",
    "        elif r==4:\n",
    "            YPred = ApplyStaticRule4(XTestSender, YPred)\n",
    "        elif r==5:\n",
    "            YPred = ApplyStaticRule5(XTestBody, YPred)\n",
    "\n",
    "\n",
    "writePredictedLabelFile(YPred)"
   ]
  },
  {
   "cell_type": "markdown",
   "metadata": {},
   "source": [
    "### Selection of Nearest Neighbours for KNN"
   ]
  },
  {
   "cell_type": "code",
   "execution_count": 154,
   "metadata": {
    "collapsed": false
   },
   "outputs": [],
   "source": [
    "# XTrainFeatures = XTrainConcatenatedFeatures\n",
    "# newYTrain = YTrain\n",
    "# selectNeighbourScores = []\n",
    "\n",
    "# params = {'neighbours':2}\n",
    "# score = stratifiedKFoldVal(XTrainFeatures, newYTrain, classifyKNNClassifier, params)\n",
    "# print score\n",
    "# selectNeighbourScores.append(score)\n",
    "\n",
    "# params = {'neighbours':3}\n",
    "# score = stratifiedKFoldVal(XTrainFeatures, newYTrain, classifyKNNClassifier, params)\n",
    "# print score\n",
    "# selectNeighbourScores.append(score)\n",
    "\n",
    "# params = {'neighbours':4}\n",
    "# score = stratifiedKFoldVal(XTrainFeatures, newYTrain, classifyKNNClassifier, params)\n",
    "# print score\n",
    "# selectNeighbourScores.append(score)\n",
    "\n",
    "# params = {'neighbours':5}\n",
    "# score = stratifiedKFoldVal(XTrainFeatures, newYTrain, classifyKNNClassifier, params)\n",
    "# print score\n",
    "# selectNeighbourScores.append(score)\n",
    "\n",
    "# params = {'neighbours':10}\n",
    "# score = stratifiedKFoldVal(XTrainFeatures, newYTrain, classifyKNNClassifier, params)\n",
    "# print score\n",
    "# selectNeighbourScores.append(score)\n",
    "\n",
    "# params = {'neighbours':18}\n",
    "# score = stratifiedKFoldVal(XTrainFeatures, newYTrain, classifyKNNClassifier, params)\n",
    "# print score\n",
    "# selectNeighbourScores.append(score)\n",
    "\n",
    "# params = {'neighbours':20}\n",
    "# score = stratifiedKFoldVal(XTrainFeatures, newYTrain, classifyKNNClassifier, params)\n",
    "# print score\n",
    "# selectNeighbourScores.append(score)\n",
    "\n",
    "# params = {'neighbours':21}\n",
    "# score = stratifiedKFoldVal(XTrainFeatures, newYTrain, classifyKNNClassifier, params)\n",
    "# print score\n",
    "# selectNeighbourScores.append(score)\n",
    "\n",
    "# params = {'neighbours':22}\n",
    "# score = stratifiedKFoldVal(XTrainFeatures, newYTrain, classifyKNNClassifier, params)\n",
    "# print score\n",
    "# selectNeighbourScores.append(score)\n",
    "\n",
    "# print selectNeighbourScores"
   ]
  },
  {
   "cell_type": "markdown",
   "metadata": {},
   "source": [
    "### Features based on Email Subject for kNN Classifier."
   ]
  },
  {
   "cell_type": "code",
   "execution_count": null,
   "metadata": {
    "collapsed": false
   },
   "outputs": [],
   "source": [
    "# params = {'neighbours':21}\n",
    "# score = stratifiedKFoldVal(XTrainSubjectFeatures, YTrain, classifyKNNClassifier, params, ruled=False)\n",
    "# print score\n",
    "# score = stratifiedKFoldVal(XTrainSubjectFeatures, YTrain, classifyKNNClassifier, params, ruled=True)\n",
    "# print score"
   ]
  },
  {
   "cell_type": "code",
   "execution_count": null,
   "metadata": {
    "collapsed": false
   },
   "outputs": [],
   "source": [
    "# neighbours = params['neighbours']\n",
    "# neigh = KNeighborsClassifier(n_neighbors=neighbours)\n",
    "# YPred = neigh.fit(XTrainSubjectFeatures, YTrain).predict(XTestSubjectFeatures)\n",
    "# writePredictedLabelFile(YPred)"
   ]
  },
  {
   "cell_type": "markdown",
   "metadata": {},
   "source": [
    "### Features based on Email Body for kNN Classifier."
   ]
  },
  {
   "cell_type": "code",
   "execution_count": null,
   "metadata": {
    "collapsed": false
   },
   "outputs": [],
   "source": [
    "# params = {'neighbours':21}\n",
    "# score = stratifiedKFoldVal(XTrainBodyFeatures, YTrain, classifyKNNClassifier, params)\n",
    "# print score\n",
    "\n",
    "# neighbours = params['neighbours']\n",
    "# neigh = KNeighborsClassifier(n_neighbors=neighbours)\n",
    "# YPred = neigh.fit(XTrainBodyFeatures, YTrain).predict(XTestBodyFeatures)\n",
    "# writePredictedLabelFile(YPred)"
   ]
  },
  {
   "cell_type": "markdown",
   "metadata": {},
   "source": [
    "### Features based on both Email Subject and Body for kNN Classifier."
   ]
  },
  {
   "cell_type": "code",
   "execution_count": null,
   "metadata": {
    "collapsed": false
   },
   "outputs": [],
   "source": [
    "# XTrainConcatenatedFeatures = np.hstack((XTrainSubjectFeatures, XTrainBodyFeatures))\n",
    "# params = {'neighbours':21}\n",
    "# score = stratifiedKFoldVal(XTrainConcatenatedFeatures, YTrain, classifyKNNClassifier, params)\n",
    "# print score\n",
    "# print XTrainConcatenatedFeatures.shape\n",
    "\n",
    "# XTestConcatenatedFeatures = np.hstack((XTestSubjectFeatures, XTestBodyFeatures))\n",
    "\n",
    "# neighbours = params['neighbours']\n",
    "# neigh = KNeighborsClassifier(n_neighbors=neighbours)\n",
    "# YPred = neigh.fit(XTrainConcatenatedFeatures, YTrain).predict(XTestConcatenatedFeatures)\n",
    "# writePredictedLabelFile(YPred)"
   ]
  },
  {
   "cell_type": "code",
   "execution_count": null,
   "metadata": {
    "collapsed": false
   },
   "outputs": [],
   "source": [
    "# # Plotting the results\n",
    "# import matplotlib.pyplot as plt\n",
    "# %matplotlib inline\n",
    "# plt.plot(selectNeighbourScores, label = \"Neighbors in k-Nearest Neighbor (kNN) Classifier\")\n",
    "# plt.title(\"Neighbors in k-Nearest Neighbor (kNN) Classifier\")\n",
    "\n",
    "# labels = [2,3,4,5,10,18,20,21,22]\n",
    "# plt.xticks(np.arange(len(labels)), labels, rotation='horizontal')\n",
    "# # plt.title(\"Optimal choice of Neighbors in k-Nearest Neighbor (kNN) Classifier\")\n",
    "# plt.ylabel('Categorization Accuracy')\n",
    "# plt.xlabel('No. of Neighbours')\n",
    "# # plt.legend(bbox_to_anchor=(1.05, 1), loc=2, borderaxespad=0.)\n",
    "# plt.show()"
   ]
  },
  {
   "cell_type": "markdown",
   "metadata": {},
   "source": [
    "#### Hence, we choose k = 21 for our nearest neighbor classifier."
   ]
  },
  {
   "cell_type": "markdown",
   "metadata": {},
   "source": [
    "### Selection of Parameters for Random Forest"
   ]
  },
  {
   "cell_type": "code",
   "execution_count": null,
   "metadata": {
    "collapsed": true
   },
   "outputs": [],
   "source": [
    "# XTrainSubjects = readSubjects(XTrainFileNames, trainFolder, fileString='TRAIN_')\n",
    "# XFeaturesSubjectSpam, XFeaturesSubjectHam = AnalyseWordLabelContribution(XTrainSubjects, YTrain)\n",
    "# SubjectWordsSpamicity = computeSpamicityWords(XFeaturesSubjectSpam, XFeaturesSubjectHam)\n",
    "# XTrainSubjectFeatures = createSpamHamFeature(XTrainSubjects, SubjectWordsSpamicity)\n",
    "\n",
    "# XTestSubjects = readSubjects(XTestFileNames, testFolder, fileString='TEST_')\n",
    "# XTestSubjectFeatures = createSpamHamFeature(XTestSubjects, SubjectWordsSpamicity)\n",
    "\n",
    "# XTrainFeatures = XTrainSubjectFeatures\n",
    "# newYTrain = YTrain"
   ]
  },
  {
   "cell_type": "code",
   "execution_count": null,
   "metadata": {
    "collapsed": false
   },
   "outputs": [],
   "source": [
    "\n",
    "# selectRandomForestScores = []\n",
    "\n",
    "# params = {'trees':200, 'criterion':'entropy', 'random_state':40}\n",
    "# score = stratifiedKFoldVal(XTrainFeatures, newYTrain, classifyRandomForestClassifier, params)\n",
    "# print score\n",
    "# selectRandomForestScores.append(score)\n",
    "\n",
    "# params = {'trees':100, 'criterion':'entropy', 'random_state':40}\n",
    "# score = stratifiedKFoldVal(XTrainFeatures, newYTrain, classifyRandomForestClassifier, params)\n",
    "# print score\n",
    "# selectRandomForestScores.append(score)\n",
    "\n",
    "# params = {'trees':500, 'criterion':'entropy', 'random_state':40}\n",
    "# score = stratifiedKFoldVal(XTrainFeatures, newYTrain, classifyRandomForestClassifier, params)\n",
    "# print score\n",
    "# selectRandomForestScores.append(score)\n",
    "\n",
    "# params = {'trees':50, 'criterion':'entropy', 'random_state':40}\n",
    "# score = stratifiedKFoldVal(XTrainFeatures, newYTrain, classifyRandomForestClassifier, params)\n",
    "# print score\n",
    "# selectRandomForestScores.append(score)\n",
    "\n",
    "# params = {'trees':150, 'criterion':'entropy', 'random_state':40}\n",
    "# score = stratifiedKFoldVal(XTrainFeatures, newYTrain, classifyRandomForestClassifier, params)\n",
    "# print score\n",
    "# selectRandomForestScores.append(score)\n",
    "\n",
    "# params = {'trees':250, 'criterion':'entropy', 'random_state':40}\n",
    "# score = stratifiedKFoldVal(XTrainFeatures, newYTrain, classifyRandomForestClassifier, params)\n",
    "# print score\n",
    "# selectRandomForestScores.append(score)\n",
    "\n",
    "# params = {'trees':200, 'criterion':'gini', 'random_state':40}\n",
    "# score = stratifiedKFoldVal(XTrainFeatures, newYTrain, classifyRandomForestClassifier, params)\n",
    "# print score\n",
    "# selectRandomForestScores.append(score)\n",
    "\n",
    "# params = {'trees':100, 'criterion':'gini', 'random_state':40}\n",
    "# score = stratifiedKFoldVal(XTrainFeatures, newYTrain, classifyRandomForestClassifier, params)\n",
    "# print score\n",
    "# selectRandomForestScores.append(score)\n",
    "\n",
    "# params = {'trees':500, 'criterion':'gini', 'random_state':40}\n",
    "# score = stratifiedKFoldVal(XTrainFeatures, newYTrain, classifyRandomForestClassifier, params)\n",
    "# print score\n",
    "# selectRandomForestScores.append(score)\n",
    "\n",
    "# params = {'trees':50, 'criterion':'gini', 'random_state':40}\n",
    "# score = stratifiedKFoldVal(XTrainFeatures, newYTrain, classifyRandomForestClassifier, params)\n",
    "# print score\n",
    "# selectRandomForestScores.append(score)\n",
    "\n",
    "# params = {'trees':150, 'criterion':'gini', 'random_state':40}\n",
    "# score = stratifiedKFoldVal(XTrainFeatures, newYTrain, classifyRandomForestClassifier, params)\n",
    "# print score\n",
    "# selectRandomForestScores.append(score)\n",
    "\n",
    "# params = {'trees':250, 'criterion':'gini', 'random_state':40}\n",
    "# score = stratifiedKFoldVal(XTrainFeatures, newYTrain, classifyRandomForestClassifier, params)\n",
    "# print score\n",
    "# selectRandomForestScores.append(score)\n",
    "\n",
    "# print selectRandomForestScores"
   ]
  },
  {
   "cell_type": "markdown",
   "metadata": {},
   "source": [
    "### Vowpal Wabbit Submissions"
   ]
  },
  {
   "cell_type": "code",
   "execution_count": null,
   "metadata": {
    "collapsed": false
   },
   "outputs": [],
   "source": [
    "# #Subjects Alone\n",
    "# # f = open('trainSubjects.txt','wb')\n",
    "# trainVW = []\n",
    "# for i in xrange(len(trainSubjects)):\n",
    "#     if YTrain[i] == 0:\n",
    "#         Y = -1\n",
    "#     else:\n",
    "#         Y = 1\n",
    "#     if trainSubjects[i]:\n",
    "#         trainVW.append((Y,''.join(c for c in trainSubjects[i] if c not in ':|\\n\\t\\r')))\n",
    "#         #f.write(str(Y) + ':' + '|' + str(i+1)+' subject:' + ''.join(c for c in trainSubjects[i] if c not in ':|\\n\\t\\r') +'\\r')\n",
    "#     else:\n",
    "#         trainVW.append((Y,''))\n",
    "#         #f.write(str(Y) + ':' + '|' + str(i+1)+' subject:' + '' +'\\r')\n",
    "# # f.close()\n",
    "# print len(trainVW)\n",
    "# print trainVW[0]\n",
    "# # cleanVWTrainSub = cleanVWMessages(trainSubjects, YTrain, train=True)\n",
    "# # assert(trainVW==cleanVWTrainSub)\n"
   ]
  },
  {
   "cell_type": "code",
   "execution_count": null,
   "metadata": {
    "collapsed": false
   },
   "outputs": [],
   "source": [
    "# # f = open('testSubjects.txt','wb')\n",
    "# testVW = []\n",
    "# for i in xrange(len(testSubjects)):\n",
    "#     if testSubjects[i]:\n",
    "#         testVW.append((0,''.join(c for c in testSubjects[i] if c not in ':|\\n\\t\\r')))\n",
    "# #         f.write(':' + '|' + str(i+1) + ' subject:' + ''.join(c for c in testSubjects[i] if c not in ':|\\n\\t\\r') +'\\r')\n",
    "#     else:\n",
    "#         testVW.append((0,''))\n",
    "# #         f.write(':' + '|' + str(i+1) + ' subject:' +'\\r')\n",
    "# # f.close()\n",
    "# print len(testVW)\n",
    "# print testVW[0]\n",
    "# # cleanVWTestSub = cleanVWMessages(testSubjects, YTrain, train=False)\n",
    "# # assert(testVW==cleanVWTestSub)"
   ]
  },
  {
   "cell_type": "code",
   "execution_count": null,
   "metadata": {
    "collapsed": false
   },
   "outputs": [],
   "source": [
    "# #Body Alone\n",
    "# # f = open('trainSubjects.txt','wb')\n",
    "# trainVW = []\n",
    "# for i in xrange(len(trainEmailBody)):\n",
    "#     if YTrain[i] == 0:\n",
    "#         Y = -1\n",
    "#     else:\n",
    "#         Y = 1\n",
    "#     if trainEmailBody[i]:\n",
    "#         trainVW.append((Y,''.join(c for c in trainEmailBody[i] if c not in ':|\\n\\t\\r')))\n",
    "#         #f.write(str(Y) + ':' + '|' + str(i+1)+' subject:' + ''.join(c for c in trainSubjects[i] if c not in ':|\\n\\t\\r') +'\\r')\n",
    "#     else:\n",
    "#         trainVW.append((Y,''))\n",
    "#         #f.write(str(Y) + ':' + '|' + str(i+1)+' subject:' + '' +'\\r')\n",
    "# # f.close()\n",
    "# print len(trainVW)\n",
    "# print trainVW[0]\n",
    "# # cleanVWTrainBody = cleanVWMessages(trainEmailBody, YTrain, train=True)\n",
    "# # assert(trainVW==cleanVWTrainBody)"
   ]
  },
  {
   "cell_type": "code",
   "execution_count": null,
   "metadata": {
    "collapsed": false
   },
   "outputs": [],
   "source": [
    "# # f = open('testSubjects.txt','wb')\n",
    "# testVW = []\n",
    "# for i in xrange(len(testEmailBody)):\n",
    "#     if testEmailBody[i]:\n",
    "#         testVW.append((0,''.join(c for c in testEmailBody[i] if c not in ':|\\n\\t\\r')))\n",
    "# #         f.write(':' + '|' + str(i+1) + ' subject:' + ''.join(c for c in testSubjects[i] if c not in ':|\\n\\t\\r') +'\\r')\n",
    "#     else:\n",
    "#         testVW.append((0,''))\n",
    "# #         f.write(':' + '|' + str(i+1) + ' subject:' +'\\r')\n",
    "# # f.close()\n",
    "# print len(testVW)\n",
    "# print testVW[0]\n",
    "# cleanVWTestBody = cleanVWMessages(testEmailBody, YTrain, train=False)\n",
    "# print testEmailBody[293], cleanVWTestBody[293], testVW[293]\n",
    "# print testEmailBody[1475], cleanVWTestBody[1475], testVW[1475]\n",
    "# print testEmailBody[1622], cleanVWTestBody[1622], testVW[1622]\n",
    "# count = 0\n",
    "# for i in xrange(len(testVW)):\n",
    "#     if testVW[i]!=cleanVWTestBody[i]:\n",
    "# #         print testVW[i]\n",
    "# #         print cleanVWTrainBody[i]\n",
    "#         count+=1\n",
    "#         print i, count\n",
    "# assert(testVW==cleanVWTestBody)"
   ]
  },
  {
   "cell_type": "code",
   "execution_count": 199,
   "metadata": {
    "collapsed": false,
    "scrolled": false
   },
   "outputs": [
    {
     "name": "stdout",
     "output_type": "stream",
     "text": [
      "2500\n"
     ]
    }
   ],
   "source": [
    "# #Combination of Email Subject and Body\n",
    "# # f = open('trainSubjects.txt','wb')\n",
    "# trainVW = []\n",
    "# for i in xrange(len(trainEmailBody)):\n",
    "#     if YTrain[i] == 0:\n",
    "#         Y = -1\n",
    "#     else:\n",
    "#         Y = 1\n",
    "#     if trainEmailBody[i] and trainSubjects[i]:\n",
    "#         train = ''.join(c for c in trainSubjects[i] if c not in ':|\\n\\t\\r') + ' ' + ''.join(c for c in trainEmailBody[i] if c not in ':|\\n\\t\\r')\n",
    "#     elif trainSubjects[i]:\n",
    "#         train = ''.join(c for c in trainSubjects[i] if c not in ':|\\n\\t\\r')\n",
    "#     elif trainEmailBody[i]:\n",
    "#         train = ''.join(c for c in trainEmailBody[i] if c not in ':|\\n\\t\\r')\n",
    "#     else:\n",
    "#         train = ''\n",
    "#     trainVW.append((Y,train))   \n",
    "# #     trainVW.append((Y,''.join(c for c in trainEmailBody[i] if c not in ':|\\n\\t\\r')))\n",
    "# #         #f.write(str(Y) + ':' + '|' + str(i+1)+' subject:' + ''.join(c for c in trainSubjects[i] if c not in ':|\\n\\t\\r') +'\\r')\n",
    "# #     else:\n",
    "# #         trainVW.append((Y,''))\n",
    "#         #f.write(str(Y) + ':' + '|' + str(i+1)+' subject:' + '' +'\\r')\n",
    "# # f.close()\n",
    "# print len(trainVW)\n",
    "# # print trainVW[0]\n",
    "# cleanVWTrainComb = cleanVWCombinedMessage(trainSubjects, trainEmailBody, YTrain, train=True)\n",
    "# for i in xrange(len(cleanVWTrainComb)):\n",
    "#     if trainVW[i]!=cleanVWTrainComb[i]:\n",
    "#         print i\n",
    "#         print trainVW[i]\n",
    "#         print cleanVWTrainBody[i]\n",
    "# #         raw_input()\n",
    "# # assert(trainVW==cleanVWTrainComb)\n"
   ]
  },
  {
   "cell_type": "code",
   "execution_count": 102,
   "metadata": {
    "collapsed": false
   },
   "outputs": [
    {
     "name": "stdout",
     "output_type": "stream",
     "text": [
      "1827\n"
     ]
    }
   ],
   "source": [
    "# # f = open('testSubjects.txt','wb')\n",
    "# testVW = []\n",
    "# Y = 0\n",
    "# for i in xrange(len(testEmailBody)):\n",
    "#     if testEmailBody[i] and testSubjects[i]:\n",
    "#         test = ''.join(c for c in testSubjects[i] if c not in ':|\\n\\t\\r') + ' ' + ''.join(c for c in testEmailBody[i] if c not in ':|\\n\\t\\r')\n",
    "#     elif testSubjects[i]:\n",
    "#         test = ''.join(c for c in testSubjects[i] if c not in ':|\\n\\t\\r')\n",
    "#     elif testEmailBody[i]:\n",
    "#         test = ''.join(c for c in testEmailBody[i] if c not in ':|\\n\\t\\r')\n",
    "#     testVW.append((Y,test))  \n",
    "# #     if testSubjects[i]:\n",
    "# #         testVW.append((0,''.join(c for c in testEmailBody[i] if c not in ':|\\n\\t\\r')))\n",
    "# # #         f.write(':' + '|' + str(i+1) + ' subject:' + ''.join(c for c in testSubjects[i] if c not in ':|\\n\\t\\r') +'\\r')\n",
    "# #     else:\n",
    "# #         testVW.append((0,''))\n",
    "# #         f.write(':' + '|' + str(i+1) + ' subject:' +'\\r')\n",
    "# # f.close()\n",
    "# print len(testVW)\n",
    "# # print testVW[0]\n",
    "# cleanVWTestComb = cleanVWCombinedMessage(testSubjects, testEmailBody, YTrain, train=False)\n",
    "# # for i in xrange(len(cleanVWTestComb)):\n",
    "# #     if testVW[i]!=cleanVWTestComb[i]:\n",
    "# #         print i\n",
    "# #         print testVW[i]\n",
    "# #         print cleanVWTestComb[i]"
   ]
  },
  {
   "cell_type": "code",
   "execution_count": null,
   "metadata": {
    "collapsed": false
   },
   "outputs": [],
   "source": [
    "# Subject & Body as Seperate Features\n",
    "# # f = open('trainSubjects.txt','wb')\n",
    "# trainVW = []\n",
    "# for i in xrange(len(trainEmailBody)):\n",
    "#     if YTrain[i] == 0:\n",
    "#         Y = -1\n",
    "#     else:\n",
    "#         Y = 1\n",
    "#     if trainEmailBody[i] and trainSubjects[i]:\n",
    "#         trainVW.append((Y,''.join(c for c in trainSubjects[i] if c not in ':|\\n\\t\\r'), \n",
    "#                         ''.join(c for c in trainEmailBody[i] if c not in ':|\\n\\t\\r')))\n",
    "#     elif trainSubjects[i]:\n",
    "#         trainVW.append((Y,''.join(c for c in trainSubjects[i] if c not in ':|\\n\\t\\r'),''))\n",
    "#     elif trainEmailBody[i]:\n",
    "#         trainVW.append((Y,'',''.join(c for c in trainEmailBody[i] if c not in ':|\\n\\t\\r')))\n",
    "#     else:\n",
    "#         trainVW.append((Y,'',''))\n",
    "# #     trainVW.append((Y,train))   \n",
    "# #     trainVW.append((Y,''.join(c for c in trainEmailBody[i] if c not in ':|\\n\\t\\r')))\n",
    "# #         #f.write(str(Y) + ':' + '|' + str(i+1)+' subject:' + ''.join(c for c in trainSubjects[i] if c not in ':|\\n\\t\\r') +'\\r')\n",
    "# #     else:\n",
    "# #         trainVW.append((Y,''))\n",
    "#         #f.write(str(Y) + ':' + '|' + str(i+1)+' subject:' + '' +'\\r')\n",
    "# # f.close()\n",
    "# # print len(trainVW)\n",
    "# # print trainVW[0]\n",
    "\n"
   ]
  },
  {
   "cell_type": "code",
   "execution_count": null,
   "metadata": {
    "collapsed": false
   },
   "outputs": [],
   "source": [
    "# # f = open('testSubjects.txt','wb')\n",
    "# testVW = []\n",
    "# for i in xrange(len(testEmailBody)):\n",
    "#     if testEmailBody[i] and testSubjects[i]:\n",
    "#         testVW.append((Y, ''.join(c for c in testSubjects[i] if c not in ':|\\n\\t\\r') ,''.join(c for c in testEmailBody[i] if c not in ':|\\n\\t\\r')))\n",
    "#     elif testSubjects[i]:\n",
    "#         testVW.append((Y,''.join(c for c in testSubjects[i] if c not in ':|\\n\\t\\r'), ''))\n",
    "#     elif testEmailBody[i]:\n",
    "#         testVW.append((Y,'', ''.join(c for c in testEmailBody[i] if c not in ':|\\n\\t\\r')))\n",
    "#     else:\n",
    "#         testVW.append((Y,'', ''))        \n",
    "# #     testVW.append((Y,test))  \n",
    "# #     if testSubjects[i]:\n",
    "# #         testVW.append((0,''.join(c for c in testEmailBody[i] if c not in ':|\\n\\t\\r')))\n",
    "# # #         f.write(':' + '|' + str(i+1) + ' subject:' + ''.join(c for c in testSubjects[i] if c not in ':|\\n\\t\\r') +'\\r')\n",
    "# #     else:\n",
    "# #         testVW.append((0,''))\n",
    "# #         f.write(':' + '|' + str(i+1) + ' subject:' +'\\r')\n",
    "# # f.close()\n",
    "# print len(testVW)\n",
    "# print testVW[0]"
   ]
  },
  {
   "cell_type": "code",
   "execution_count": null,
   "metadata": {
    "collapsed": false
   },
   "outputs": [],
   "source": [
    "# import pyvw\n",
    "# examples = []\n",
    "# examples.append((1, \"This is spam.\"))\n",
    "# examples.append((-1, \"This is ham.\"))\n",
    "\n",
    "# vw = pyvw.vw(\"--passes 300 --ngram 3 --loss_function=logistic --link=logistic --binary --cache_file test.cache \")\n",
    "# for text in examples:\n",
    "#     # using dictionary instead of string \" |s This is spam.\"\n",
    "#     ex = vw.example({\"s\": text[1]}) \n",
    "#     ex.set_label_string(str(text[0])) \n",
    "#     ex.learn()\n",
    "\n",
    "# test = vw.example(\" | This is also spam.\")\n",
    "# test.learn() \n",
    "# print test.get_updated_prediction() #<-- usually 0.0\n",
    "# print test.get_simplelabel_prediction() #<-- the same for every prediction?\n",
    "# test = vw.example(\" | This is certainly ham.\")\n",
    "# test.learn() \n",
    "# print test.get_updated_prediction() #<-- usually 0.0\n",
    "# print test.get_simplelabel_prediction() #<-- the same for every prediction? "
   ]
  },
  {
   "cell_type": "code",
   "execution_count": 148,
   "metadata": {
    "collapsed": false
   },
   "outputs": [
    {
     "name": "stdout",
     "output_type": "stream",
     "text": [
      "2500\n",
      "(-1, 'Return-Path ler@lerami.lerctr.orgDelivery-Date Fri Sep 13 231455 2002Return-Path <bengreen@mindupmerchants.com>Received from mindupmerchants.com (pDepriver@24-205-211-91.rno-cres.charterpipeline.net [24.205.211.91]) by lerami.lerctr.org (8.12.2/8.12.2/20020902/$Revision 1.30 $) with ESMTP id g8E4EZE9029281 for <ler@lerctr.org>; Fri, 13 Sep 2002 231448 -0500 (CDT)Message-Id <200209140414.g8E4EZE9029281@lerami.lerctr.org>Received from 192.168.0.0 by mindupmerchants.com with SMTP (MDaemon.PRO.v6.0.7.R) for <ler@lerctr.org>; Fri, 13 Sep 2002 211321 -0700From \"Ben Green\" <bengreen@mindupmerchants.com>To ler@lerctr.orgSubject One of a kind Money maker! Try it for free!Date Fri, 13 Sep 2002 211319 -0700X-M5MailerProjectID 4fb0caa2-c329-4c20-b331-229e681acee3Reply-To bengreen@mindupmerchants.comMIME-Version 1.0Content-Type multipart/mixed;boundary=\"----000000000000000000000\"X-Return-Path bengreen@mindupmerchants.comX-MDaemon-Deliver-To ler@lerctr.orgX-Virus-Scanned by amavisd-milter (http//amavis.org/)X-Status X-Keywords ------000000000000000000000Content-Type text/html;charset=\"iso-8859-1\"Content-Transfer-Encoding 7bit<body lang=EN-US><div class=Section1><p class=MsoBodyText style=\\'text-alignjustify\\'><b>CONSANTLY</b> beingbombarded by so-called \\x93FREE\\x94 money-making systems that teases you with limitedinformation, and when it\\x92s all said and done, blind-sides you by demanding yourmoney/credit card information upfront in some slick way,<b> after-the-fact</b>!Yes, I too was as skeptical about such offers and the Internet in general withall its hype, as you probably are. Fortunate for me, my main businessslowed-down (<i>I have been self-employed all my life</i>), so I looked forsomething to fit my lifestyle and some other way to assist me in paying mybills, without working myself to death or loosing more money; then, thisproposal to try something new without any upfront investment (<i>great! becauseI had none</i>) interested me to click on the link provided. And I don\\x92t regretat all that I did! I am very happy, and happy enough to recommend it to you asa system that is true to its word. I mean absolutely no upfront money. You joinonly if (<i>when</i>) you make money. You also get to track the results of yourtime and efforts instantly and updated daily! I especially liked this idea ofpersonal control with real-time, staying informed statistics.</p><p class=MsoBodyText style=\\'text-alignjustify\\'><b>This system is quite simplythe most logical, opened, and fair of any others that I\\x92ve seen before. Why?Because from the start, you get all the specific facts you need to seriouslyconsider if this is right for you.\\xa0 No teasing. No grand testimonies! Nokidding! Just the facts! Unlike in other programs that give you \\x93no idea\\x94 oftheir overall plan before first forking over your money/credit card; or worstyet, joining and finding-out too late, after wasting valuable time trying tofigure them out, this system is straightforward and informative, providing youwith the two things you really must know \\x93<u>What\\x92s it all about</u>?\\x94 and \\x93<u>Howdoes it work</u>?\\x94. These are the ultimate deal makers or deal breakers thatneed to be immediately disclosed, well before discovering that maybe you don\\x92twant to do that; by then you are \\x93hooked\\x94 and now locked into a frustratingbattle to try to get your money back! </b></p><p class=MsoBodyText style=\\'text-alignjustify\\'>I call this my \\x93PlatinumChoice\\x94 because it stands alone as a true, superior deal that is totallydifferent from previously misleading, \\x93hook-first\\x94 programs that promise loftymega-money jackpots, but really just want your money upfront to line their ownpockets! You\\x92ve seen the headlines \\x93<u>Join free and Make $10,000 every weekfor life</u>\\x94 yeah, right!</p><p class=MsoBodyText style=\\'text-alignjustify\\'>I did not make millions yet,but the whole thing was launched just a few weeks ago and I am more than happywith my earnings, so far. I must tell you, I wouldn\\x92t be able to do anythingwithout corporate help \\x96 which was unusually thorough, timely, and motivating. </p><p class=MsoBodyText style=\\'text-alignjustify\\'>You have to see this in actionfor yourself and make up your own mind; just go to my site and fill out theform as soon as you can. You will get your own site in a few minutes. Then youare ready to try whether you can make some decent money with this system andthe Internet\\x92s explosive potential - fully loaded with hi-tech software, freecorporate help, on-time member\\x92s support and even protective safeguards! </p><p class=MsoBodyText style=\\'text-alignjustify\\'>Get it now, and you can call meat any time with questions. It really could help you like it is helping me tofinally be able to pay my bills, and keep my free time free.\\xa0 Good luck!</p><p class=MsoBodyText style=\\'text-alignjustify\\'><ahref=\"http//www.mindupmerchants.com/default.asp?ID=5581\">http//www.mindupmerchants.com/default.asp?ID=5581</a></p><p class=MsoBodyText style=\\'text-alignjustify\\'>Ben Green, (775) 322-3323 </p><p class=MsoBodyText>P.S.Free POP3 email is ofered for members now!</p></div></body>------000000000000000000000--')\n",
      "2500\n"
     ]
    }
   ],
   "source": [
    "# Whole Email as String\n",
    "# f = open('trainSubjects.txt','wb')\n",
    "trainVW = []\n",
    "for i in xrange(len(trainEmails)):\n",
    "    if YTrain[i] == 0:\n",
    "        Y = -1\n",
    "    else:\n",
    "        Y = 1\n",
    "    if trainEmails[i]:\n",
    "        trainVW.append((Y,''.join(c for c in trainEmails[i] if c not in ':|\\n\\t\\r')))\n",
    "        #f.write(str(Y) + ':' + '|' + str(i+1)+' subject:' + ''.join(c for c in trainSubjects[i] if c not in ':|\\n\\t\\r') +'\\r')\n",
    "    else:\n",
    "        trainVW.append((Y,''))\n",
    "        #f.write(str(Y) + ':' + '|' + str(i+1)+' subject:' + '' +'\\r')\n",
    "# f.close()\n",
    "print len(trainVW)\n",
    "print trainVW[0]\n",
    "cleanVWTrainEmails = cleanVWMessages(trainEmails, YTrain, train=True)\n",
    "assert(trainVW==cleanVWTrainEmails)"
   ]
  },
  {
   "cell_type": "code",
   "execution_count": 149,
   "metadata": {
    "collapsed": false
   },
   "outputs": [
    {
     "name": "stdout",
     "output_type": "stream",
     "text": [
      "1827\n",
      "(0, 'Return-Path <fork-admin@xent.com>Delivered-To yyyy@localhost.spamassassin.taint.orgReceived from localhost (jalapeno [127.0.0.1]) by jmason.org (Postfix) with ESMTP id C951D16F76 for <jm@localhost>; Thu,  3 Oct 2002 125356 +0100 (IST)Received from jalapeno [127.0.0.1] by localhost with IMAP (fetchmail-5.9.0) for jm@localhost (single-drop); Thu, 03 Oct 2002 125356 +0100 (IST)Received from xent.com ([64.161.22.236]) by dogma.slashnull.org (8.11.6/8.11.6) with ESMTP id g93BYSK26753 for <jm@jmason.org>; Thu, 3 Oct 2002 123428 +0100Received from lair.xent.com (localhost [127.0.0.1]) by xent.com (Postfix) with ESMTP id 227E3294181; Thu,  3 Oct 2002 043103 -0700 (PDT)Delivered-To fork@spamassassin.taint.orgReceived from maynard.mail.mindspring.net (maynard.mail.mindspring.net [207.69.200.243]) by xent.com (Postfix) with ESMTP id CE1D029417B for <fork@xent.com>; Thu,  3 Oct 2002 043023 -0700 (PDT)Received from user-119ac86.biz.mindspring.com ([66.149.49.6]) by maynard.mail.mindspring.net with esmtp (Exim 3.33 #1) id 17x4BF-00057H-00; Thu, 03 Oct 2002 073009 -0400MIME-Version 1.0X-Sender rahettinga@pop.earthlink.netMessage-Id <p05111a45b9c1d8f5291b@[66.149.49.6]>In-Reply-To <m2k7l0nltn.fsf@maya.dyndns.org>References <Pine.BSO.4.44.0210021830180.7029-100000@crank.slack.net> <200210022317.13639.eh@mad.scientist.com> <m2k7l0nltn.fsf@maya.dyndns.org>To Gary Lawrence Murphy <garym@canada.com>, Eirikur Hallgrimsson <eh@mad.scientist.com>From \"R. A. Hettinga\" <rah@shipwright.com>Subject Re Apple Sauced...againCc fork@spamassassin.taint.org, Digital Bearer Settlement List <dbs@philodox.com>Content-Type text/plain; charset=\"us-ascii\"Sender fork-admin@xent.comErrors-To fork-admin@xent.comX-Beenthere fork@spamassassin.taint.orgX-Mailman-Version 2.0.11Precedence bulkList-Help <mailtofork-request@xent.com?subject=help>List-Post <mailtofork@spamassassin.taint.org>List-Subscribe <http//xent.com/mailman/listinfo/fork>, <mailtofork-request@xent.com?subject=subscribe>List-Id Friends of Rohit Khare <fork.xent.com>List-Unsubscribe <http//xent.com/mailman/listinfo/fork>, <mailtofork-request@xent.com?subject=unsubscribe>List-Archive <http//xent.com/pipermail/fork/>Date Thu, 3 Oct 2002 072727 -0400At 116 AM -0400 on 10/3/02, Gary Lawrence Murphy wrote>   \"The first question I ask myself when something doesn\\'t seem to be>   beautiful is why do I think it\\'s not beautiful. And very shortly you>   discover that there is no reason.\" -- John Cage\"When I\\'m working on a problem, I never think about beauty. I think onlyhow to solve the problem. But when I have finished, if the solution is notbeautiful, I know it is wrong.\"  -- R. Buckminster Fuller\"Simplicity is the highest goal, achievable when you have overcome alldifficulties.\" -- Frederic Chopin\"Externalities are the last refuge of the dirigistes.\" -- Friedrich Hayek-- -----------------R. A. Hettinga <mailto rah@ibuc.com>The Internet Bearer Underwriting Corporation <http//www.ibuc.com/>44 Farquhar Street, Boston, MA 02131 USA\"The stoical scheme of supplying our wants by lopping off ourdesires is like cutting off our feet when we want shoes.\" -- Jonathan Swift')\n",
      "1827\n"
     ]
    }
   ],
   "source": [
    "# f = open('testSubjects.txt','wb')\n",
    "testVW = []\n",
    "for i in xrange(len(testEmails)):\n",
    "    if testEmailBody[i]:\n",
    "        testVW.append((0,''.join(c for c in testEmails[i] if c not in ':|\\n\\t\\r')))\n",
    "#         f.write(':' + '|' + str(i+1) + ' subject:' + ''.join(c for c in testSubjects[i] if c not in ':|\\n\\t\\r') +'\\r')\n",
    "    else:\n",
    "        testVW.append((0,''))\n",
    "#         f.write(':' + '|' + str(i+1) + ' subject:' +'\\r')\n",
    "# f.close()\n",
    "print len(testVW)\n",
    "print testVW[0]\n",
    "cleanVWTestEmails = cleanVWMessages(testEmails, YTrain, train=False)\n",
    "assert(testVW==cleanVWTestEmails)"
   ]
  },
  {
   "cell_type": "markdown",
   "metadata": {},
   "source": [
    "### Submission"
   ]
  },
  {
   "cell_type": "code",
   "execution_count": 155,
   "metadata": {
    "collapsed": false
   },
   "outputs": [],
   "source": [
    "# import pyvw\n",
    "# # vw = pyvw.vw(\"--passes 300 --ngram 3 --loss_function=logistic --link=logistic --binary --cache_file test.cache \")\n",
    "# # vw = pyvw.vw(\"--loss_function=logistic --ngram 3 -l2 0.0000001 --ring_size 2048\")\n",
    "# vw = pyvw.vw()\n",
    "# # vw = pyvw.VWClassifier()\n",
    "# for train in trainVW:\n",
    "#     # using dictionary instead of string \" |s This is spam.\"\n",
    "# #     ex = vw.example({\"s\": train[1]}) \n",
    "# #     ex.set_label_string(str(train[0])) \n",
    "# #     ex.learn()\n",
    "#     ex = vw.example(str(train[0]) + \" | \" + train[1] + \" | \" + train[2])\n",
    "#     ex.learn()\n",
    "# YPred = []\n",
    "# for test in testVW:\n",
    "#     ex1 = vw.example(\" | \" + test[1] + \" | \" + test[2])\n",
    "#     ex1.learn() \n",
    "#     print ex1.get_updated_prediction(),ex1.get_simplelabel_prediction() #<-- the same for every prediction?\n",
    "#     if ex1.get_simplelabel_prediction() > 0:\n",
    "#         YPred.append(1)\n",
    "#     else:\n",
    "#         YPred.append(0)\n",
    "\n",
    "# print len(YPred)\n",
    "# writePredictedLabelFile(YPred)\n",
    "\n",
    "# #     YPred = \n",
    "# #     test = vw.example(\" | This is certainly ham.\")\n",
    "# #     test.learn() \n",
    "# # print test.get_updated_prediction() #<-- usually 0.0\n",
    "# # print test.get_simplelabel_prediction() #<-- the same for every prediction? "
   ]
  },
  {
   "cell_type": "code",
   "execution_count": 152,
   "metadata": {
    "collapsed": false
   },
   "outputs": [
    {
     "name": "stdout",
     "output_type": "stream",
     "text": [
      "1827\n"
     ]
    }
   ],
   "source": [
    "import pyvw\n",
    "# vw = pyvw.vw(\"--passes 300 --ngram 3 --loss_function=logistic --link=logistic --binary --cache_file test.cache \")\n",
    "# vw = pyvw.vw(\"--loss_function=logistic --ngram 3 -l2 0.0000001 --ring_size 2048\")\n",
    "# vw = pyvw.vw(\"--loss_function=logistic --link=logistic\")\n",
    "vw = pyvw.vw()\n",
    "# vw = pyvw.VWClassifier()\n",
    "for train in trainVW:\n",
    "    # using dictionary instead of string \" |s This is spam.\"\n",
    "#     ex = vw.example({\"s\": train[1]}) \n",
    "#     ex.set_label_string(str(train[0])) \n",
    "#     ex.learn()\n",
    "    ex = vw.example(str(train[0]) + \" | \" + train[1])\n",
    "    ex.learn()\n",
    "YPred = []\n",
    "for test in testVW:\n",
    "    ex1 = vw.example(\" | \" + test[1])\n",
    "    ex1.learn() \n",
    "#     print ex1.get_updated_prediction(),ex1.get_simplelabel_prediction() #<-- the same for every prediction?\n",
    "    if ex1.get_simplelabel_prediction() > 0:\n",
    "        YPred.append(1)\n",
    "    else:\n",
    "        YPred.append(0)\n",
    "\n",
    "print len(YPred)\n",
    "YPred = ApplyStaticRule1(testSubjects, YPred)\n",
    "YPred = ApplyStaticRule2(testEmailBody, YPred)\n",
    "YPred = ApplyStaticRule3(XTestDate, YPred)\n",
    "writePredictedLabelFile(YPred)\n",
    "\n",
    "#     YPred = \n",
    "#     test = vw.example(\" | This is certainly ham.\")\n",
    "#     test.learn() \n",
    "# print test.get_updated_prediction() #<-- usually 0.0\n",
    "# print test.get_simplelabel_prediction() #<-- the same for every prediction? "
   ]
  },
  {
   "cell_type": "markdown",
   "metadata": {},
   "source": [
    "### Graphs depicting Categorization Accuracy scores on KFold Stratified Validation on Train data for:"
   ]
  },
  {
   "cell_type": "code",
   "execution_count": null,
   "metadata": {
    "collapsed": false
   },
   "outputs": [],
   "source": [
    "# # Plotting the results\n",
    "# import matplotlib.pyplot as plt\n",
    "# #%matplotlib inline\n",
    "# plt.plot(selectRandomForestScores, label = \"Random Forest Classifier\")\n",
    "# plt.title(\"Random Forest Classifier\")\n",
    "\n",
    "# labels = ['200 Trees + entropy', '100 Trees + entropy', '500 Trees + entropy', '50 Trees + entropy', '150 Trees + entropy','250 Trees + entropy',\n",
    "#           '200 Trees + gini', '100 Trees + gini', '500 Trees + gini', '50 Trees + gini','150 Trees + gini','250 Trees + gini']\n",
    "\n",
    "# # You can specify a rotation for the tick labels in degrees or with keywords.\n",
    "# plt.xticks(np.arange(len(labels)), labels, rotation='vertical')\n",
    "\n",
    "# plt.ylabel('Scores')\n",
    "# plt.xlabel('Parameters')\n",
    "# # Place a legend to the right of this smaller figure.\n",
    "# # plt.legend(bbox_to_anchor=(1.05, 1), loc=2, borderaxespad=0.)\n",
    "# plt.show()"
   ]
  },
  {
   "cell_type": "code",
   "execution_count": null,
   "metadata": {
    "collapsed": false
   },
   "outputs": [],
   "source": [
    "# print scoreRandomForestClassifier\n",
    "# print scoreKNNClassifier\n",
    "# print scoreMultiClassSVMClassifier# Plotting the results\n",
    "# import matplotlib.pyplot as plt\n",
    "# %matplotlib inline\n",
    "# plt.plot(scoreRandomForestClassifier, label = \"Classifier\")\n",
    "\n",
    "# labels = ['Limited AVs(Binary Encoding)', 'All AVs(Binary Encoding)', 'All AVs(Frequency Encoding)', 'PE Info(Entropy Mean)', \n",
    "#           'All AVs(Binary Encoding) + Entropy Mean','All AVs(Frequency Encoding) + Entropy Mean']\n",
    "\n",
    "# # You can specify a rotation for the tick labels in degrees or with keywords.\n",
    "# plt.xticks(np.arange(len(labels)), labels, rotation='vertical')\n",
    "\n",
    "# plt.ylabel('Scores')\n",
    "# plt.xlabel('Feature Encoding used')\n",
    "# # Place a legend to the right of this smaller figure.\n",
    "# plt.legend(bbox_to_anchor=(1.05, 1), loc=2, borderaxespad=0.)\n",
    "# plt.show()"
   ]
  },
  {
   "cell_type": "markdown",
   "metadata": {},
   "source": [
    "## Final evaluation results on Kaggle"
   ]
  },
  {
   "cell_type": "markdown",
   "metadata": {},
   "source": [
    "### Bar graph depicting Public vs Private Categorization Accuracy Scores on the different Models."
   ]
  },
  {
   "cell_type": "code",
   "execution_count": null,
   "metadata": {
    "collapsed": false
   },
   "outputs": [],
   "source": [
    "import numpy as np\n",
    "import matplotlib.pyplot as plt\n",
    "%matplotlib inline\n",
    "N = 6\n",
    "publicScore = (97.733, 97.971, 94.511, 94.988, 95.107, 97.613)\n",
    "privateScore = (96.897, 96.778, 94.272, 95.704, 95.585, 96.778,)\n",
    "modelNames = ('RF(G,100)+Entropy(Median)+Freq', 'RF(G,100)+Entropy(Mean)+Freq', 'kNN(3)+Freq', \n",
    "              'SVM(Linear)+Entropy(Mean)+Binary', 'RF(E,200)+Binary', 'RF(E,150)+Freq')\n",
    "\n",
    "ind = np.arange(N)  # the x locations for the groups\n",
    "width = 0.35       # the width of the bars\n",
    "\n",
    "fig, ax = plt.subplots()\n",
    "rects1 = ax.bar(ind, publicScore, width, color='m')\n",
    "\n",
    "rects2 = ax.bar(ind + width, privateScore, width, color='c')\n",
    "\n",
    "# add some text for labels, title and axes ticks\n",
    "ax.set_ylabel('Scores')\n",
    "ax.set_title('Evaluations of submissions using Categorization Accuracy.')\n",
    "ax.set_xticks(ind + width)\n",
    "ax.set_xticklabels(modelNames,  rotation='vertical')\n",
    "ax.set_ylim(90,100)\n",
    "\n",
    "# def autolabel(rects):\n",
    "#     # attach some text labels\n",
    "#     for rect in rects:\n",
    "#         height = rect.get_height()\n",
    "#         ax.text(rect.get_x() + rect.get_width()/2., 1.05*height,\n",
    "#                 '%d' % int(height),\n",
    "#                 ha='center', va='bottom')\n",
    "\n",
    "# autolabel(rects1)\n",
    "# autolabel(rects2)\n",
    "\n",
    "# Place a legend to the right of this smaller figure.\n",
    "ax.legend((rects1[0], rects2[0]), ('Public Scores', 'Private Scores'), bbox_to_anchor=(1.05, 1), loc=2, borderaxespad=0.)\n",
    "\n",
    "plt.show()"
   ]
  },
  {
   "cell_type": "markdown",
   "metadata": {},
   "source": [
    "### Hence we conclude that the best model is Vowpal Wabbit on entire email as feature with Static Rules 1, 2, 3 !"
   ]
  }
 ],
 "metadata": {
  "kernelspec": {
   "display_name": "Python 2",
   "language": "python",
   "name": "python2"
  },
  "language_info": {
   "codemirror_mode": {
    "name": "ipython",
    "version": 2
   },
   "file_extension": ".py",
   "mimetype": "text/x-python",
   "name": "python",
   "nbconvert_exporter": "python",
   "pygments_lexer": "ipython2",
   "version": "2.7.10"
  }
 },
 "nbformat": 4,
 "nbformat_minor": 0
}

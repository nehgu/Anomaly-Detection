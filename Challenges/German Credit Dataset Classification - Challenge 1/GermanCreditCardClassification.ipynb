{
 "cells": [
  {
   "cell_type": "code",
   "execution_count": 21,
   "metadata": {
    "collapsed": false
   },
   "outputs": [
    {
     "name": "stdout",
     "output_type": "stream",
     "text": [
      "[ 0.  1.  0.]\n"
     ]
    }
   ],
   "source": [
    "import numpy as np\n",
    "# inputData = np.empty(shape=(500,20))\n",
    "inputData = []\n",
    "# inputData = np.fromfile(\"german.adcg.trainingd\", dtype=dt)#np.loadtxt(\"german.adcg.trainingd\", comments=\"#\", delimiter=\",\", unpack=False)#np.loadtxt('german.adcg.trainingd')\n",
    "f = open(\"german.adcg.trainingd\",'r')\n",
    "# inputData = f.readlines()\n",
    "featureMap = {'A11':2,'A12':3,'A13':4,'A14':1,\n",
    "              'A30':2,'A31':4,'A32':3,'A33':0,'A34':1,\n",
    "              'A40':1,'A41':2,'A42':3,'A43':4,'A44':5, 'A45':6,'A46':7,'A47':8,'A48':9,'A49':10, 'A410':0,\n",
    "              'A61':2,'A62':3,'A63':4,'A64':5,'A65':1,\n",
    "              'A71':1,'A72':2,'A73':3,'A74':4,'A75':5,\n",
    "              'A91':1,'A92':4,'A93':2,'A94':3,'A95':4,\n",
    "              'A101':1,'A102':2,'A103':3,\n",
    "              'A121':4,'A122':3,'A123':2,'A124':1,\n",
    "              'A141':1,'A142':2,'A143':3,\n",
    "              'A151':2,'A152':3,'A153':1,\n",
    "              'A171':1,'A172':2,'A173':3, 'A174':4,\n",
    "              'A191':1,'A192':2,\n",
    "              'A201':1,'A202':2}\n",
    "for line in f:\n",
    "#     inputLine = np.empty(shape=(1,20))\n",
    "    inputLine = []\n",
    "    for word in line.split():\n",
    "        if word in featureMap:\n",
    "#             print featureMap[word]\n",
    "            inputLine.append(featureMap[word])\n",
    "        else:\n",
    "            inputLine.append(int(word))\n",
    "#     print inputLine\n",
    "    inputData.append(inputLine)\n",
    "f.close()\n",
    "# print inputData[0:3]\n",
    "\n",
    "inputDatanp = np.array(inputData)\n",
    "# print inputDatanp[0:3]\n",
    "\n",
    "trainedLabels = np.loadtxt(\"german.adcg.training.label\", delimiter=\",\", skiprows=1, usecols=(1,))\n",
    "print trainedLabels[:3]"
   ]
  },
  {
   "cell_type": "code",
   "execution_count": null,
   "metadata": {
    "collapsed": true
   },
   "outputs": [],
   "source": []
  }
 ],
 "metadata": {
  "kernelspec": {
   "display_name": "Python 2",
   "language": "python",
   "name": "python2"
  },
  "language_info": {
   "codemirror_mode": {
    "name": "ipython",
    "version": 2
   },
   "file_extension": ".py",
   "mimetype": "text/x-python",
   "name": "python",
   "nbconvert_exporter": "python",
   "pygments_lexer": "ipython2",
   "version": "2.7.6"
  }
 },
 "nbformat": 4,
 "nbformat_minor": 0
}

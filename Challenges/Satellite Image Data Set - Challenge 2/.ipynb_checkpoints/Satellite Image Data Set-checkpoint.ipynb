{
 "cells": [
  {
   "cell_type": "markdown",
   "metadata": {},
   "source": [
    "# Satellite Image Data Set"
   ]
  },
  {
   "cell_type": "markdown",
   "metadata": {},
   "source": [
    "## Data Preprocessing\n",
    "Missing Values - Replace by mean, Replace by Neighbourhood, Row-wise, Row Spectral Wise\n",
    "Use Multi-class SVM with different kernels, Multi Class Learning\n",
    "Stratified K-Fold validation for equal number of classes in each fold\n",
    "https://archive.ics.uci.edu/ml/datasets/Statlog+(Landsat+Satellite)"
   ]
  },
  {
   "cell_type": "markdown",
   "metadata": {},
   "source": [
    "## Read the input data"
   ]
  },
  {
   "cell_type": "code",
   "execution_count": 1,
   "metadata": {
    "collapsed": false
   },
   "outputs": [],
   "source": [
    "import numpy as np\n",
    "\n",
    "def readInputFiles():\n",
    "    rawTrainData = np.loadtxt('sat_noisy.trn',delimiter=',')\n",
    "    rawTestData = np.loadtxt('sat-test.csv.dat',delimiter=',')\n",
    "    # print rawTrainData.shape\n",
    "    # print rawTestData.shape\n",
    "    # print rawTrainData[0]\n",
    "    YTrain = rawTrainData[:,-1]\n",
    "    XTrain = rawTrainData[:,:-1]\n",
    "    # print YTrain.shape\n",
    "    # print XTrain.shape\n",
    "\n",
    "    return XTrain, YTrain, rawTestData\n",
    " "
   ]
  },
  {
   "cell_type": "markdown",
   "metadata": {},
   "source": [
    "## Handle Missing Values (NaN)"
   ]
  },
  {
   "cell_type": "code",
   "execution_count": 76,
   "metadata": {
    "collapsed": false
   },
   "outputs": [],
   "source": [
    "\n",
    "# Replacing NaN\n",
    "# Replace by column mean, by zero, row-wise, row spectral-wise\n",
    "import  scipy.stats as stats\n",
    "def replaceMissingValues(X, replacement):\n",
    "    func = None\n",
    "    if replacement == 'colmean':\n",
    "        func = stats.nanmean(X,axis=0)\n",
    "    elif replacement == 'colmedian':\n",
    "        func = stats.nanmedian(X,axis=0)\n",
    "    elif replacement =='zeros':\n",
    "        pass\n",
    "    elif replacement =='rowmean':\n",
    "        func = stats.nanmean(X,axis=1)\n",
    "    elif replacement =='rowmedian':\n",
    "        func = stats.nanmedian(X,axis=1)\n",
    "    elif replacement =='rowspectralmean':\n",
    "        XSpectrum = np.hsplit(X,4)\n",
    "        XSpectrum1 = replaceMissingValues(XSpectrum[0], \"rowmean\")\n",
    "        XSpectrum2 = replaceMissingValues(XSpectrum[1], \"rowmean\")\n",
    "        XSpectrum3 = replaceMissingValues(XSpectrum[2], \"rowmean\")\n",
    "        XSpectrum4 = replaceMissingValues(XSpectrum[3], \"rowmean\")\n",
    "        func = np.hstack((XSpectrum1,XSpectrum2,XSpectrum3,XSpectrum4))\n",
    "    elif replacement =='rowspectralmedian':\n",
    "        XSpectrum = np.hsplit(X,4)\n",
    "        XSpectrum1 = replaceMissingValues(XSpectrum[0], \"rowmedian\")\n",
    "        XSpectrum2 = replaceMissingValues(XSpectrum[1], \"rowmedian\")\n",
    "        XSpectrum3 = replaceMissingValues(XSpectrum[2], \"rowmedian\")\n",
    "        XSpectrum4 = replaceMissingValues(XSpectrum[3], \"rowmedian\")\n",
    "        func = np.hstack((XSpectrum1,XSpectrum2,XSpectrum3,XSpectrum4))\n",
    "    elif replacement =='rowspectralmin':\n",
    "        XSpectrum = np.hsplit(X,4)\n",
    "        XSpectrum1 = replaceMissingValues(XSpectrum[0], \"rowmin\")\n",
    "        XSpectrum2 = replaceMissingValues(XSpectrum[1], \"rowmin\")\n",
    "        XSpectrum3 = replaceMissingValues(XSpectrum[2], \"rowmin\")\n",
    "        XSpectrum4 = replaceMissingValues(XSpectrum[3], \"rowmin\")\n",
    "        func = np.hstack((XSpectrum1,XSpectrum2,XSpectrum3,XSpectrum4))\n",
    "    elif replacement =='rowspectralmax':\n",
    "        XSpectrum = np.hsplit(X,4)\n",
    "        XSpectrum1 = replaceMissingValues(XSpectrum[0], \"rowmax\")\n",
    "        XSpectrum2 = replaceMissingValues(XSpectrum[1], \"rowmax\")\n",
    "        XSpectrum3 = replaceMissingValues(XSpectrum[2], \"rowmax\")\n",
    "        XSpectrum4 = replaceMissingValues(XSpectrum[3], \"rowmax\")\n",
    "        func = np.hstack((XSpectrum1,XSpectrum2,XSpectrum3,XSpectrum4))\n",
    "    elif replacement == 'colmin':\n",
    "        func = np.nanmin(X,axis=0)\n",
    "    elif replacement =='colmax':\n",
    "        func = np.nanmax(X,axis=0)\n",
    "    elif replacement == 'rowmin':\n",
    "        func = np.nanmin(X,axis=1)\n",
    "    elif replacement =='rowmax':\n",
    "        func = np.nanmax(X,axis=1)\n",
    "    elif replacement =='mid':\n",
    "        pass\n",
    "    \n",
    "    inds = np.where(np.isnan(X))\n",
    "    #X[inds]=np.take(func,inds[0])\n",
    "    \n",
    "    #print \"X before replace\", X[1][10]\n",
    "    \n",
    "    if replacement == 'colmean' or replacement == 'colmedian' or replacement == 'colmin' or replacement == 'colmax':\n",
    "        X[inds[0],inds[1]] = func[inds[1]]\n",
    "    elif replacement == 'rowmean' or replacement == 'rowmedian' or replacement =='rowmin' or replacement =='rowmax':\n",
    "        X[inds[0],inds[1]] = func[inds[0]]\n",
    "    elif replacement =='zeros':\n",
    "        X[inds[0],inds[1]]= 0\n",
    "    elif replacement =='mid':\n",
    "        X[inds[0],inds[1]]= 127\n",
    "        \n",
    "    #print \"X after replace\", X[1][10]    \n",
    "    #print \"inds\", (inds)\n",
    "    #print \"func\", repr(func)\n",
    "    return X"
   ]
  },
  {
   "cell_type": "code",
   "execution_count": 3,
   "metadata": {
    "collapsed": false
   },
   "outputs": [],
   "source": [
    "# #Multi Class SVM\n",
    "# from sklearn import svm\n",
    "# # clf = svm.SVC(decision_function_shape='ovo')\n",
    "# # clf = svm.SVC(kernel='linear',probability=True)\n",
    "# clf.fit(XTrain, YTrain) \n",
    "# # dec = clf.decision_function(XTest)\n",
    "# # print dec.shape[1] # 6 classes: 6*5/2 = 15\n",
    "\n",
    "# # clf.decision_function_shape = \"ova\"\n",
    "# # dec = clf.decision_function(XTest)\n",
    "# # dec = clf.predict(XTest)\n",
    "# # print dec.shape[1] # 6 classes\n",
    "# # YPred = clf.predict_proba(XTest)\n",
    "# YPred = clf.predict(XTest)\n",
    "# print YPred\n",
    "# # predictedClasses =YPred.argmax(axis=1)\n",
    "# # print predictedClasses"
   ]
  },
  {
   "cell_type": "markdown",
   "metadata": {},
   "source": [
    "Try <br>\n",
    "    K nearest neighbors <br>\n",
    "    Multi class SVM <br>\n",
    "    Multi class Perceptron <br>"
   ]
  },
  {
   "cell_type": "code",
   "execution_count": 83,
   "metadata": {
    "collapsed": true
   },
   "outputs": [],
   "source": [
    "from sklearn.multiclass import OneVsRestClassifier\n",
    "from sklearn.svm import LinearSVC\n",
    "def classifyOneVsRestClassifier(XTrain, XTest, YTrain, YTest):\n",
    "    YPred = OneVsRestClassifier(LinearSVC(random_state=0)).fit(XTrain, YTrain).predict(XTest)\n",
    "    diff = YPred - YTest\n",
    "#     print diff\n",
    "    score = diff[diff == 0].size\n",
    "#     print score\n",
    "#     print YPred.size\n",
    "    return (100.0 * score)/(YPred.size)"
   ]
  },
  {
   "cell_type": "code",
   "execution_count": 84,
   "metadata": {
    "collapsed": true
   },
   "outputs": [],
   "source": [
    "from sklearn.multiclass import OneVsOneClassifier\n",
    "from sklearn.svm import LinearSVC\n",
    "def classifyOneVsOneClassifier(XTrain, XTest, YTrain, YTest):\n",
    "    YPred = OneVsOneClassifier(LinearSVC(random_state=0)).fit(XTrain, YTrain).predict(XTest)\n",
    "    diff = YPred - YTest\n",
    "    score = diff[diff == 0].size\n",
    "    return (100.0 * score)/(YPred.size)"
   ]
  },
  {
   "cell_type": "code",
   "execution_count": 85,
   "metadata": {
    "collapsed": true
   },
   "outputs": [],
   "source": [
    "from sklearn.multiclass import OutputCodeClassifier\n",
    "from sklearn.svm import LinearSVC\n",
    "def classifyOutputCodeClassifier(XTrain, XTest, YTrain, YTest):\n",
    "    clf = OutputCodeClassifier(LinearSVC(random_state=0),code_size=2, random_state=0)\n",
    "    YPred = clf.fit(XTrain, YTrain).predict(XTest)\n",
    "    diff = YPred - YTest\n",
    "    score = diff[diff == 0].size\n",
    "    return (100.0 * score)/(YPred.size)"
   ]
  },
  {
   "cell_type": "code",
   "execution_count": 86,
   "metadata": {
    "collapsed": true
   },
   "outputs": [],
   "source": [
    "from sklearn.ensemble import RandomForestClassifier\n",
    "def classifyRandomForestClassifier(XTrain, XTest, YTrain, YTest):\n",
    "    clf = RandomForestClassifier(n_estimators=10)\n",
    "    clf.fit(XTrain, YTrain)\n",
    "    YPred = clf.predict(XTest)\n",
    "    diff = YPred - YTest\n",
    "    score = diff[diff == 0].size\n",
    "    return (100.0 * score)/(YPred.size)"
   ]
  },
  {
   "cell_type": "code",
   "execution_count": 87,
   "metadata": {
    "collapsed": true
   },
   "outputs": [],
   "source": [
    "from sklearn.naive_bayes import GaussianNB\n",
    "def classifyGaussianNaiveBayesClassifier(XTrain, XTest, YTrain, YTest):\n",
    "    gnb = GaussianNB()\n",
    "    YPred = gnb.fit(XTrain, YTrain).predict(XTest)\n",
    "    diff = YPred - YTest\n",
    "    score = diff[diff == 0].size\n",
    "    return (100.0 * score)/(YPred.size)"
   ]
  },
  {
   "cell_type": "code",
   "execution_count": 88,
   "metadata": {
    "collapsed": true
   },
   "outputs": [],
   "source": [
    "from sklearn.naive_bayes import BernoulliNB\n",
    "def classifyBernoulliNaiveBayesClassifier(XTrain, XTest, YTrain, YTest):\n",
    "    bnb = BernoulliNB()\n",
    "    YPred = bnb.fit(XTrain, YTrain).predict(XTest)\n",
    "    diff = YPred - YTest\n",
    "    score = diff[diff == 0].size\n",
    "    return (100.0 * score)/(YPred.size)"
   ]
  },
  {
   "cell_type": "code",
   "execution_count": 89,
   "metadata": {
    "collapsed": true
   },
   "outputs": [],
   "source": [
    "from sklearn.naive_bayes import MultinomialNB\n",
    "def classifyMultinomialNaiveBayesClassifier(XTrain, XTest, YTrain, YTest):\n",
    "    mnb = MultinomialNB()\n",
    "    YPred = mnb.fit(XTrain, YTrain).predict(XTest)\n",
    "    diff = YPred - YTest\n",
    "    score = diff[diff == 0].size\n",
    "    return (100.0 * score)/(YPred.size)"
   ]
  },
  {
   "cell_type": "code",
   "execution_count": 90,
   "metadata": {
    "collapsed": false
   },
   "outputs": [],
   "source": [
    "from sklearn.cross_validation import KFold\n",
    "def kFoldCrossVal(XTrain, YTrain, classify):\n",
    "    n_folds=5\n",
    "    kf = KFold(4435, n_folds)\n",
    "    score = 0.0\n",
    "    for train, test in kf:\n",
    "        score += classify(XTrain[train,:], XTrain[test,:], YTrain[train], YTrain[test])\n",
    "\n",
    "    return score/n_folds"
   ]
  },
  {
   "cell_type": "code",
   "execution_count": 94,
   "metadata": {
    "collapsed": false
   },
   "outputs": [],
   "source": [
    "scoreOneVsRestClassifier = []\n",
    "scoreOneVsOneClassifier = []\n",
    "scoreOutputCodeClassifier = []\n",
    "scoreRandomForestClassifier = []\n",
    "scoreGaussianNaiveBayesClassifier = []\n",
    "scoreBernoulliNaiveBayesClassifier = []\n",
    "scoreMultinomialNaiveBayesClassifier = []"
   ]
  },
  {
   "cell_type": "code",
   "execution_count": 95,
   "metadata": {
    "collapsed": true
   },
   "outputs": [],
   "source": [
    "def PreProcessClassificationScores(replacement):\n",
    "    # Replace missing values (NaN) with replacement\n",
    "    XTrain, YTrain, rawTestData = readInputFiles()\n",
    "    XTrain = replaceMissingValues(XTrain, replacement)\n",
    "    XTest = replaceMissingValues(rawTestData, replacement)\n",
    "    #score = kFoldCrossVal(XTrain, YTrain, classifyOneVsRestClassifier)\n",
    "    #print score\n",
    "    score1 = kFoldCrossVal(XTrain, YTrain, classifyOneVsOneClassifier)\n",
    "    print score1\n",
    "    #score2 = kFoldCrossVal(XTrain, YTrain, classifyOutputCodeClassifier)\n",
    "    #print score2\n",
    "    score3 = kFoldCrossVal(XTrain, YTrain, classifyRandomForestClassifier)\n",
    "    print score3\n",
    "    score4 = kFoldCrossVal(XTrain, YTrain, classifyGaussianNaiveBayesClassifier)\n",
    "    print score4\n",
    "    score5 = kFoldCrossVal(XTrain, YTrain, classifyBernoulliNaiveBayesClassifier)\n",
    "    print score5\n",
    "    score6 = kFoldCrossVal(XTrain, YTrain, classifyMultinomialNaiveBayesClassifier)\n",
    "    print score6\n",
    "    \n",
    "    scoreOneVsRestClassifier.append(score)\n",
    "    scoreOneVsOneClassifier.append(score1)\n",
    "    scoreOutputCodeClassifier.append(score2)\n",
    "    scoreRandomForestClassifier.append(score3)\n",
    "    scoreGaussianNaiveBayesClassifier.append(score4)\n",
    "    scoreBernoulliNaiveBayesClassifier.append(score5)\n",
    "    scoreMultinomialNaiveBayesClassifier.append(score6)"
   ]
  },
  {
   "cell_type": "code",
   "execution_count": 96,
   "metadata": {
    "collapsed": false
   },
   "outputs": [
    {
     "name": "stdout",
     "output_type": "stream",
     "text": [
      "33.7542277339\n",
      "82.2096956032\n",
      "67.5310033822\n",
      "8.95152198422\n",
      "54.4983089064\n"
     ]
    }
   ],
   "source": [
    "# Replace missing values (NaN) with Zero\n",
    "PreProcessClassificationScores('zeros')"
   ]
  },
  {
   "cell_type": "code",
   "execution_count": 97,
   "metadata": {
    "collapsed": false
   },
   "outputs": [
    {
     "name": "stdout",
     "output_type": "stream",
     "text": [
      "59.5490417136\n",
      "82.6606538895\n",
      "77.6324689966\n",
      "5.20856820744\n",
      "65.5918827508\n"
     ]
    }
   ],
   "source": [
    "# Replace missing values (NaN) with mean values for each column\n",
    "PreProcessClassificationScores('colmean')"
   ]
  },
  {
   "cell_type": "code",
   "execution_count": 98,
   "metadata": {
    "collapsed": false
   },
   "outputs": [
    {
     "name": "stdout",
     "output_type": "stream",
     "text": [
      "55.8962795941\n",
      "83.1341600902\n",
      "77.6550169109\n",
      "5.20856820744\n",
      "64.9605411499\n"
     ]
    }
   ],
   "source": [
    "# Replace missing values (NaN) with median values for each column\n",
    "PreProcessClassificationScores('colmedian')"
   ]
  },
  {
   "cell_type": "code",
   "execution_count": 99,
   "metadata": {
    "collapsed": false
   },
   "outputs": [
    {
     "name": "stdout",
     "output_type": "stream",
     "text": [
      "55.7609921082\n",
      "82.9312288613\n",
      "76.2570462232\n",
      "5.20856820744\n",
      "66.9898534386\n"
     ]
    }
   ],
   "source": [
    "# Replace missing values (NaN) with mean values for each row\n",
    "PreProcessClassificationScores('rowmean')"
   ]
  },
  {
   "cell_type": "code",
   "execution_count": 100,
   "metadata": {
    "collapsed": false
   },
   "outputs": [
    {
     "name": "stdout",
     "output_type": "stream",
     "text": [
      "65.321307779\n",
      "82.2547914318\n",
      "76.1894024803\n",
      "5.20856820744\n",
      "66.5839909808\n"
     ]
    }
   ],
   "source": [
    "# Replace missing values (NaN) with median values for each row\n",
    "PreProcessClassificationScores('rowmedian')"
   ]
  },
  {
   "cell_type": "code",
   "execution_count": 101,
   "metadata": {
    "collapsed": false
   },
   "outputs": [
    {
     "name": "stdout",
     "output_type": "stream",
     "text": [
      "62.6606538895\n",
      "81.9616685457\n",
      "76.3021420519\n",
      "5.20856820744\n",
      "65.6144306652\n"
     ]
    }
   ],
   "source": [
    "# Replace missing values (NaN) with row spectral mean\n",
    "PreProcessClassificationScores('rowspectralmean')"
   ]
  },
  {
   "cell_type": "code",
   "execution_count": 102,
   "metadata": {
    "collapsed": false
   },
   "outputs": [
    {
     "name": "stdout",
     "output_type": "stream",
     "text": [
      "72.4464487035\n",
      "83.3596392334\n",
      "76.099210823\n",
      "5.20856820744\n",
      "65.7497181511\n"
     ]
    }
   ],
   "source": [
    "# Replace missing values (NaN) with row spectral median\n",
    "PreProcessClassificationScores('rowspectralmedian')"
   ]
  },
  {
   "cell_type": "code",
   "execution_count": 103,
   "metadata": {
    "collapsed": false
   },
   "outputs": [
    {
     "name": "stdout",
     "output_type": "stream",
     "text": [
      "59.075535513\n",
      "81.6910935738\n",
      "72.8748590755\n",
      "5.20856820744\n",
      "60.7440811725\n"
     ]
    }
   ],
   "source": [
    "# Replace missing values (NaN) with min value for each row\n",
    "PreProcessClassificationScores('colmin')"
   ]
  },
  {
   "cell_type": "code",
   "execution_count": 104,
   "metadata": {
    "collapsed": false
   },
   "outputs": [
    {
     "name": "stdout",
     "output_type": "stream",
     "text": [
      "41.8263810598\n",
      "81.6910935738\n",
      "74.4532130778\n",
      "5.20856820744\n",
      "56.5501691094\n"
     ]
    }
   ],
   "source": [
    "# Replace missing values (NaN) with min value for each row\n",
    "PreProcessClassificationScores('colmax')"
   ]
  },
  {
   "cell_type": "code",
   "execution_count": 105,
   "metadata": {
    "collapsed": false
   },
   "outputs": [
    {
     "name": "stdout",
     "output_type": "stream",
     "text": [
      "59.9098083427\n",
      "81.1724915445\n",
      "75.6257046223\n",
      "5.20856820744\n",
      "66.0653889515\n"
     ]
    }
   ],
   "source": [
    "# Replace missing values (NaN) with min value for each row\n",
    "PreProcessClassificationScores('rowmin')"
   ]
  },
  {
   "cell_type": "code",
   "execution_count": 106,
   "metadata": {
    "collapsed": false
   },
   "outputs": [
    {
     "name": "stdout",
     "output_type": "stream",
     "text": [
      "51.2965050733\n",
      "82.2547914318\n",
      "72.266065389\n",
      "5.20856820744\n",
      "63.1116121759\n"
     ]
    }
   ],
   "source": [
    "# Replace missing values (NaN) with max value for each row\n",
    "PreProcessClassificationScores('rowmax')"
   ]
  },
  {
   "cell_type": "code",
   "execution_count": 107,
   "metadata": {
    "collapsed": false
   },
   "outputs": [
    {
     "name": "stdout",
     "output_type": "stream",
     "text": [
      "44.2841037204\n",
      "81.8940248027\n",
      "68.8613303269\n",
      "5.20856820744\n",
      "58.1510710259\n"
     ]
    }
   ],
   "source": [
    "# Replace missing values (NaN) with 127\n",
    "PreProcessClassificationScores('mid')"
   ]
  },
  {
   "cell_type": "code",
   "execution_count": 108,
   "metadata": {
    "collapsed": false
   },
   "outputs": [
    {
     "name": "stdout",
     "output_type": "stream",
     "text": [
      "63.8556933484\n",
      "81.8940248027\n",
      "76.5050732807\n",
      "5.20856820744\n",
      "65.2536640361\n"
     ]
    }
   ],
   "source": [
    "# Replace missing values (NaN) with row spectral min\n",
    "PreProcessClassificationScores('rowspectralmin')"
   ]
  },
  {
   "cell_type": "code",
   "execution_count": 109,
   "metadata": {
    "collapsed": false
   },
   "outputs": [
    {
     "name": "stdout",
     "output_type": "stream",
     "text": [
      "64.396843292\n",
      "83.1116121759\n",
      "73.4385569335\n",
      "5.20856820744\n",
      "63.2468996618\n"
     ]
    }
   ],
   "source": [
    "# Replace missing values (NaN) with row spectral max\n",
    "PreProcessClassificationScores('rowspectralmax')"
   ]
  },
  {
   "cell_type": "code",
   "execution_count": 10,
   "metadata": {
    "collapsed": false
   },
   "outputs": [],
   "source": [
    "def writePrdictedLabelFile(YPred):\n",
    "    f = open(\"Predictions.csv\",\"w\")\n",
    "    f.write(\"Id,Prediction\" + \"\\n\")\n",
    "\n",
    "    for i in xrange(len(YPred)):\n",
    "        f.write(str(i+1) + \",\" + str(int(YPred[i]))+ \"\\n\")\n",
    "    \n",
    "    f.close()"
   ]
  },
  {
   "cell_type": "code",
   "execution_count": 123,
   "metadata": {
    "collapsed": false
   },
   "outputs": [
    {
     "name": "stdout",
     "output_type": "stream",
     "text": [
      "76.5050732807\n"
     ]
    }
   ],
   "source": [
    "replacment = 'rowspectralmin'\n",
    "classifierName = classifyGaussianNaiveBayesClassifier\n",
    "XTrain, YTrain, rawTestData = readInputFiles()\n",
    "XTrain = replaceMissingValues(XTrain, replacment)\n",
    "XTest = replaceMissingValues(rawTestData, replacment)\n",
    "score = kFoldCrossVal(XTrain, YTrain, classifierName)\n",
    "print score\n",
    "#YPred = OneVsOneClassifier(LinearSVC(random_state=0)).fit(XTrain, YTrain).predict(XTest)\n",
    "#YPred = RandomForestClassifier(n_estimators=100).fit(XTrain, YTrain).predict(XTest)\n",
    "YPred = GaussianNB().fit(XTrain, YTrain).predict(XTest)\n",
    "\n",
    "writePrdictedLabelFile(YPred)"
   ]
  },
  {
   "cell_type": "code",
   "execution_count": 120,
   "metadata": {
    "collapsed": false
   },
   "outputs": [
    {
     "name": "stdout",
     "output_type": "stream",
     "text": [
      "[33.75422773393461, 59.549041713641486, 55.896279594137546, 55.76099210822999, 65.32130777903043, 62.66065388951522, 72.44644870349494, 59.075535512965054, 41.82638105975197, 59.9098083427283, 51.29650507328072, 44.28410372040586, 63.85569334836528, 64.39684329199548]\n",
      "[82.20969560315672, 82.66065388951522, 83.13416009019166, 82.93122886133031, 82.25479143179255, 81.96166854565953, 83.35963923337093, 81.69109357384443, 81.69109357384443, 81.17249154453214, 82.25479143179255, 81.89402480270576, 81.89402480270576, 83.11161217587373]\n",
      "[67.53100338218715, 77.63246899661782, 77.65501691093574, 76.25704622322436, 76.18940248027057, 76.3021420518602, 76.09921082299887, 72.87485907553551, 74.45321307779031, 75.62570462232243, 72.26606538895152, 68.86133032694475, 76.50507328072153, 73.43855693348365]\n",
      "[8.951521984216459, 5.208568207440812, 5.208568207440812, 5.208568207440812, 5.208568207440812, 5.208568207440812, 5.208568207440812, 5.208568207440812, 5.208568207440812, 5.208568207440812, 5.208568207440812, 5.208568207440812, 5.208568207440812, 5.208568207440812]\n",
      "[54.49830890642615, 65.59188275084554, 64.96054114994362, 66.98985343855693, 66.58399098083427, 65.61443066516348, 65.74971815107102, 60.744081172491555, 56.55016910935738, 66.06538895152198, 63.11161217587373, 58.15107102593011, 65.25366403607666, 63.246899661781285]\n"
     ]
    }
   ],
   "source": [
    "#print scoreOneVsRestClassifier\n",
    "print scoreOneVsOneClassifier\n",
    "#print scoreOutputCodeClassifier\n",
    "print scoreRandomForestClassifier\n",
    "print scoreGaussianNaiveBayesClassifier\n",
    "print scoreBernoulliNaiveBayesClassifier\n",
    "print scoreMultinomialNaiveBayesClassifier"
   ]
  },
  {
   "cell_type": "code",
   "execution_count": 125,
   "metadata": {
    "collapsed": false
   },
   "outputs": [
    {
     "data": {
      "image/png": "[encoded data removed]",
      "text/plain": [
       "<matplotlib.figure.Figure at 0x176505c0>"
      ]
     },
     "metadata": {},
     "output_type": "display_data"
    }
   ],
   "source": [
    "import matplotlib.pyplot as plt\n",
    "%matplotlib inline\n",
    "#plt.plot(scoreOneVsRestClassifier, label = \"One Vs Rest Classifier\")\n",
    "plt.plot(scoreOneVsOneClassifier, label = \"One Vs One Classifier\")\n",
    "#plt.plot(scoreOutputCodeClassifier, label = \"Output Code Classifier\")\n",
    "plt.plot(scoreRandomForestClassifier, label = \"Random Forest Classifier\")\n",
    "plt.plot(scoreGaussianNaiveBayesClassifier, label = \"Gaussian Naive Bayes Classifier\")\n",
    "plt.plot(scoreBernoulliNaiveBayesClassifier, label = \"Bernoulli Naive Bayes Classifier\")\n",
    "plt.plot(scoreMultinomialNaiveBayesClassifier, label = \"Multinomial Naive Bayes Classifier\")\n",
    "\n",
    "labels = ['zeros', 'colmean', 'colmedian', 'rowmean', 'rowmedian', 'rowspectralmean', 'rowspectralmedian', \\\n",
    "          'colmin', 'colmax', 'rowmin', 'rowmax', 'mid','rowspectralmin','rowspectralmax']\n",
    "# You can specify a rotation for the tick labels in degrees or with keywords.\n",
    "plt.xticks(np.arange(14), labels, rotation='vertical')\n",
    "\n",
    "plt.ylabel('Scores')\n",
    "plt.xlabel('Pre-Processing method used')\n",
    "# Place a legend to the right of this smaller figure.\n",
    "plt.legend(bbox_to_anchor=(1.05, 1), loc=2, borderaxespad=0.)\n",
    "plt.show()"
   ]
  },
  {
   "cell_type": "code",
   "execution_count": null,
   "metadata": {
    "collapsed": true
   },
   "outputs": [],
   "source": []
  }
 ],
 "metadata": {
  "kernelspec": {
   "display_name": "Python 2",
   "language": "python",
   "name": "python2"
  },
  "language_info": {
   "codemirror_mode": {
    "name": "ipython",
    "version": 2
   },
   "file_extension": ".py",
   "mimetype": "text/x-python",
   "name": "python",
   "nbconvert_exporter": "python",
   "pygments_lexer": "ipython2",
   "version": "2.7.8"
  }
 },
 "nbformat": 4,
 "nbformat_minor": 0
}

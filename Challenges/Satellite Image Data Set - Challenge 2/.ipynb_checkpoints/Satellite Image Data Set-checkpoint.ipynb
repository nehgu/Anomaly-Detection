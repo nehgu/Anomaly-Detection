{
 "cells": [
  {
   "cell_type": "markdown",
   "metadata": {},
   "source": [
    "# Satellite Image Data Set"
   ]
  },
  {
   "cell_type": "markdown",
   "metadata": {},
   "source": [
    "## Data Preprocessing\n",
    "Missing Values - Replace by mean, Replace by Neighbourhood, Row-wise, Row Spectral Wise\n",
    "Use Multi-class SVM with different kernels, Multi Class Learning\n",
    "Stratified K-Fold validation for equal number of classes in each fold\n",
    "https://archive.ics.uci.edu/ml/datasets/Statlog+(Landsat+Satellite)"
   ]
  },
  {
   "cell_type": "markdown",
   "metadata": {},
   "source": [
    "## Read the input data"
   ]
  },
  {
   "cell_type": "code",
   "execution_count": 102,
   "metadata": {
    "collapsed": false
   },
   "outputs": [],
   "source": [
    "import numpy as np\n",
    "\n",
    "def readInputFiles():\n",
    "    rawTrainData = np.loadtxt('sat_noisy.trn',delimiter=',')\n",
    "    rawTestData = np.loadtxt('sat-test.csv.dat',delimiter=',')\n",
    "    # print rawTrainData.shape\n",
    "    # print rawTestData.shape\n",
    "    # print rawTrainData[0]\n",
    "    YTrain = rawTrainData[:,-1]\n",
    "    XTrain = rawTrainData[:,:-1]\n",
    "    # print YTrain.shape\n",
    "    # print XTrain.shape\n",
    "\n",
    "    return XTrain, YTrain, rawTestData\n",
    " "
   ]
  },
  {
   "cell_type": "markdown",
   "metadata": {},
   "source": [
    "## Handle Missing Values (NaN)"
   ]
  },
  {
   "cell_type": "code",
   "execution_count": 127,
   "metadata": {
    "collapsed": false
   },
   "outputs": [],
   "source": [
    "\n",
    "# Replacing NaN\n",
    "# Replace by column mean, by zero, row-wise, row spectral-wise\n",
    "import  scipy.stats as stats\n",
    "def replaceMissingValues(X, replacement):\n",
    "    func = None\n",
    "    if replacement == 'colmean':\n",
    "        func = stats.nanmean(X,axis=0)\n",
    "    elif replacement == 'colmedian':\n",
    "        func = stats.nanmedian(X,axis=0)\n",
    "    elif replacement =='zeros':\n",
    "        pass\n",
    "    elif replacement =='rowmean':\n",
    "        func = stats.nanmean(X,axis=1)\n",
    "    elif replacement =='rowmedian':\n",
    "        func = stats.nanmedian(X,axis=1)\n",
    "    elif replacement =='rowspectralmean':\n",
    "        XSpectrum = np.hsplit(X,4)\n",
    "        XSpectrum1 = replaceMissingValues(XSpectrum[0], \"rowmean\")\n",
    "        XSpectrum2 = replaceMissingValues(XSpectrum[1], \"rowmean\")\n",
    "        XSpectrum3 = replaceMissingValues(XSpectrum[2], \"rowmean\")\n",
    "        XSpectrum4 = replaceMissingValues(XSpectrum[3], \"rowmean\")\n",
    "        func = np.hstack((XSpectrum1,XSpectrum2,XSpectrum3,XSpectrum4))\n",
    "    elif replacement =='rowspectralmedian':\n",
    "        XSpectrum = np.hsplit(X,4)\n",
    "        XSpectrum1 = replaceMissingValues(XSpectrum[0], \"rowmedian\")\n",
    "        XSpectrum2 = replaceMissingValues(XSpectrum[1], \"rowmedian\")\n",
    "        XSpectrum3 = replaceMissingValues(XSpectrum[2], \"rowmedian\")\n",
    "        XSpectrum4 = replaceMissingValues(XSpectrum[3], \"rowmedian\")\n",
    "        func = np.hstack((XSpectrum1,XSpectrum2,XSpectrum3,XSpectrum4))\n",
    "    \n",
    "    inds = np.where(np.isnan(X))\n",
    "    #X[inds]=np.take(func,inds[0])\n",
    "    \n",
    "    #print \"X before replace\", X[1][10]\n",
    "    \n",
    "    if replacement == 'colmean' or replacement == 'colmedian':\n",
    "        X[inds[0],inds[1]] = func[inds[1]]\n",
    "    elif replacement == 'rowmean' or replacement == 'rowmedian':\n",
    "        X[inds[0],inds[1]] = func[inds[0]]\n",
    "    elif replacement =='zeros':\n",
    "        X[inds[0],inds[1]]= 0\n",
    "        \n",
    "    #print \"X after replace\", X[1][10]    \n",
    "    #print \"inds\", (inds)\n",
    "    #print \"func\", repr(func)\n",
    "    return X"
   ]
  },
  {
   "cell_type": "code",
   "execution_count": 104,
   "metadata": {
    "collapsed": false
   },
   "outputs": [],
   "source": [
    "# #Multi Class SVM\n",
    "# from sklearn import svm\n",
    "# # clf = svm.SVC(decision_function_shape='ovo')\n",
    "# # clf = svm.SVC(kernel='linear',probability=True)\n",
    "# clf.fit(XTrain, YTrain) \n",
    "# # dec = clf.decision_function(XTest)\n",
    "# # print dec.shape[1] # 6 classes: 6*5/2 = 15\n",
    "\n",
    "# # clf.decision_function_shape = \"ova\"\n",
    "# # dec = clf.decision_function(XTest)\n",
    "# # dec = clf.predict(XTest)\n",
    "# # print dec.shape[1] # 6 classes\n",
    "# # YPred = clf.predict_proba(XTest)\n",
    "# YPred = clf.predict(XTest)\n",
    "# print YPred\n",
    "# # predictedClasses =YPred.argmax(axis=1)\n",
    "# # print predictedClasses"
   ]
  },
  {
   "cell_type": "code",
   "execution_count": 131,
   "metadata": {
    "collapsed": true
   },
   "outputs": [],
   "source": [
    "from sklearn.multiclass import OneVsRestClassifier\n",
    "from sklearn.svm import LinearSVC\n",
    "def classifyOneVsRestClassifier(XTrain, XTest, YTrain, YTest):\n",
    "    YPred = OneVsRestClassifier(LinearSVC(random_state=0)).fit(XTrain, YTrain).predict(XTest)\n",
    "    diff = YPred - YTest\n",
    "#     print diff\n",
    "    score = diff[diff == 0].size\n",
    "#     print score\n",
    "#     print YPred.size\n",
    "    return (100.0 * score)/(YPred.size)"
   ]
  },
  {
   "cell_type": "code",
   "execution_count": 132,
   "metadata": {
    "collapsed": true
   },
   "outputs": [],
   "source": [
    "from sklearn.multiclass import OneVsOneClassifier\n",
    "from sklearn.svm import LinearSVC\n",
    "def classifyOneVsOneClassifier(XTrain, XTest, YTrain, YTest):\n",
    "    YPred = OneVsOneClassifier(LinearSVC(random_state=0)).fit(XTrain, YTrain).predict(XTest)\n",
    "    diff = YPred - YTest\n",
    "    score = diff[diff == 0].size\n",
    "    return (100.0 * score)/(YPred.size)"
   ]
  },
  {
   "cell_type": "code",
   "execution_count": 133,
   "metadata": {
    "collapsed": true
   },
   "outputs": [],
   "source": [
    "from sklearn.multiclass import OutputCodeClassifier\n",
    "from sklearn.svm import LinearSVC\n",
    "def classifyOutputCodeClassifier(XTrain, XTest, YTrain, YTest):\n",
    "    clf = OutputCodeClassifier(LinearSVC(random_state=0),code_size=2, random_state=0)\n",
    "    YPred = clf.fit(XTrain, YTrain).predict(XTest)\n",
    "    diff = YPred - YTest\n",
    "    score = diff[diff == 0].size\n",
    "    return (100.0 * score)/(YPred.size)"
   ]
  },
  {
   "cell_type": "code",
   "execution_count": 134,
   "metadata": {
    "collapsed": true
   },
   "outputs": [],
   "source": [
    "from sklearn.ensemble import RandomForestClassifier\n",
    "def classifyRandomForestClassifier(XTrain, XTest, YTrain, YTest):\n",
    "    clf = RandomForestClassifier(n_estimators=10)\n",
    "    clf.fit(XTrain, YTrain)\n",
    "    YPred = clf.predict(XTest)\n",
    "    diff = YPred - YTest\n",
    "    score = diff[diff == 0].size\n",
    "    return (100.0 * score)/(YPred.size)"
   ]
  },
  {
   "cell_type": "code",
   "execution_count": 135,
   "metadata": {
    "collapsed": false
   },
   "outputs": [],
   "source": [
    "from sklearn.cross_validation import KFold\n",
    "def kFoldCrossVal(XTrain, YTrain, classify):\n",
    "    n_folds=5\n",
    "    kf = KFold(4435, n_folds)\n",
    "    score = 0.0\n",
    "    for train, test in kf:\n",
    "        score += classify(XTrain[train,:], XTrain[test,:], YTrain[train], YTrain[test])\n",
    "\n",
    "    return score/n_folds"
   ]
  },
  {
   "cell_type": "code",
   "execution_count": 136,
   "metadata": {
    "collapsed": false
   },
   "outputs": [
    {
     "name": "stdout",
     "output_type": "stream",
     "text": [
      "36.7305524239\n",
      "33.7542277339\n",
      "41.6685456595\n",
      "82.1420518602\n"
     ]
    }
   ],
   "source": [
    "# Replace missing values (NaN) with Zero\n",
    "XTrain, YTrain, rawTestData = readInputFiles()\n",
    "XTrain = replaceMissingValues(XTrain,'zeros')\n",
    "XTest = replaceMissingValues(rawTestData,'zeros')\n",
    "score = kFoldCrossVal(XTrain, YTrain, classifyOneVsRestClassifier)\n",
    "print score\n",
    "score1 = kFoldCrossVal(XTrain, YTrain, classifyOneVsOneClassifier)\n",
    "print score1\n",
    "score2 = kFoldCrossVal(XTrain, YTrain, classifyOutputCodeClassifier)\n",
    "print score2\n",
    "score3 = kFoldCrossVal(XTrain, YTrain, classifyRandomForestClassifier)\n",
    "print score3"
   ]
  },
  {
   "cell_type": "code",
   "execution_count": 138,
   "metadata": {
    "collapsed": false
   },
   "outputs": [
    {
     "name": "stdout",
     "output_type": "stream",
     "text": [
      "56.3697857948\n",
      "59.5490417136\n",
      "57.4971815107\n",
      "82.8635851184\n"
     ]
    }
   ],
   "source": [
    "XTrain1, YTrain1, rawTestData1 = readInputFiles()\n",
    "XTrain1 = replaceMissingValues(XTrain1,'colmean')\n",
    "XTest1 = replaceMissingValues(rawTestData1,'colmean')\n",
    "score = kFoldCrossVal(XTrain1, YTrain1, classifyOneVsRestClassifier)\n",
    "print score\n",
    "score1 = kFoldCrossVal(XTrain1, YTrain1, classifyOneVsOneClassifier)\n",
    "print score1\n",
    "score2 = kFoldCrossVal(XTrain1, YTrain1, classifyOutputCodeClassifier)\n",
    "print score2\n",
    "score3 = kFoldCrossVal(XTrain1, YTrain1, classifyRandomForestClassifier)\n",
    "print score3"
   ]
  },
  {
   "cell_type": "code",
   "execution_count": 139,
   "metadata": {
    "collapsed": false
   },
   "outputs": [
    {
     "name": "stdout",
     "output_type": "stream",
     "text": [
      "49.9661781285\n",
      "55.8962795941\n",
      "46.3359639233\n",
      "83.6527621195\n"
     ]
    }
   ],
   "source": [
    "XTrain2, YTrain2, rawTestData2 = readInputFiles()\n",
    "XTrain2 = replaceMissingValues(XTrain2,'colmedian')\n",
    "XTest2 = replaceMissingValues(rawTestData2,'colmedian')\n",
    "score = kFoldCrossVal(XTrain2, YTrain2, classifyOneVsRestClassifier)\n",
    "print score\n",
    "score1 = kFoldCrossVal(XTrain2, YTrain2, classifyOneVsOneClassifier)\n",
    "print score1\n",
    "score2 = kFoldCrossVal(XTrain2, YTrain2, classifyOutputCodeClassifier)\n",
    "print score2\n",
    "score3 = kFoldCrossVal(XTrain2, YTrain2, classifyRandomForestClassifier)\n",
    "print score3"
   ]
  },
  {
   "cell_type": "code",
   "execution_count": 140,
   "metadata": {
    "collapsed": false
   },
   "outputs": [
    {
     "name": "stdout",
     "output_type": "stream",
     "text": [
      "39.5490417136\n",
      "55.7609921082\n",
      "49.7632468997\n",
      "82.5704622322\n"
     ]
    }
   ],
   "source": [
    "XTrain3, YTrain3, rawTestData3 = readInputFiles()\n",
    "XTrain3 = replaceMissingValues(XTrain3,'rowmean')\n",
    "XTest3 = replaceMissingValues(rawTestData3,'rowmean')\n",
    "score = kFoldCrossVal(XTrain3, YTrain3, classifyOneVsRestClassifier)\n",
    "print score\n",
    "score1 = kFoldCrossVal(XTrain3, YTrain3, classifyOneVsOneClassifier)\n",
    "print score1\n",
    "score2 = kFoldCrossVal(XTrain3, YTrain3, classifyOutputCodeClassifier)\n",
    "print score2\n",
    "score3 = kFoldCrossVal(XTrain3, YTrain3, classifyRandomForestClassifier)\n",
    "print score3"
   ]
  },
  {
   "cell_type": "code",
   "execution_count": 141,
   "metadata": {
    "collapsed": false
   },
   "outputs": [
    {
     "name": "stdout",
     "output_type": "stream",
     "text": [
      "47.801578354\n",
      "65.321307779\n",
      "42.0293122886\n",
      "82.8861330327\n"
     ]
    }
   ],
   "source": [
    "XTrain4, YTrain4, rawTestData4 = readInputFiles()\n",
    "XTrain4 = replaceMissingValues(XTrain4,'rowmedian')\n",
    "XTest4 = replaceMissingValues(rawTestData4,'rowmedian')\n",
    "score = kFoldCrossVal(XTrain4, YTrain4, classifyOneVsRestClassifier)\n",
    "print score\n",
    "score1 = kFoldCrossVal(XTrain4, YTrain4, classifyOneVsOneClassifier)\n",
    "print score1\n",
    "score2 = kFoldCrossVal(XTrain4, YTrain4, classifyOutputCodeClassifier)\n",
    "print score2\n",
    "score3 = kFoldCrossVal(XTrain4, YTrain4, classifyRandomForestClassifier)\n",
    "print score3"
   ]
  },
  {
   "cell_type": "code",
   "execution_count": 142,
   "metadata": {
    "collapsed": false
   },
   "outputs": [
    {
     "name": "stdout",
     "output_type": "stream",
     "text": [
      "54.182638106\n",
      "62.6606538895\n",
      "49.5603156708\n",
      "82.7733934611\n"
     ]
    }
   ],
   "source": [
    "# Replace missing values (NaN) with row spectral mean\n",
    "XTrain5, YTrain5, rawTestData5 = readInputFiles()\n",
    "XTrain5 = replaceMissingValues(XTrain5,'rowspectralmean')\n",
    "XTest5 = replaceMissingValues(rawTestData5,'rowspectralmean')\n",
    "score = kFoldCrossVal(XTrain5, YTrain5, classifyOneVsRestClassifier)\n",
    "print score\n",
    "score1 = kFoldCrossVal(XTrain5, YTrain5, classifyOneVsOneClassifier)\n",
    "print score1\n",
    "score2 = kFoldCrossVal(XTrain5, YTrain5, classifyOutputCodeClassifier)\n",
    "print score2\n",
    "score3 = kFoldCrossVal(XTrain5, YTrain5, classifyRandomForestClassifier)\n",
    "print score3"
   ]
  },
  {
   "cell_type": "code",
   "execution_count": 143,
   "metadata": {
    "collapsed": false
   },
   "outputs": [
    {
     "name": "stdout",
     "output_type": "stream",
     "text": [
      "42.3449830891\n",
      "72.4464487035\n",
      "45.1409244645\n",
      "82.7508455468\n"
     ]
    }
   ],
   "source": [
    "# Replace missing values (NaN) with row spectral median\n",
    "XTrain6, YTrain6, rawTestData6 = readInputFiles()\n",
    "XTrain6 = replaceMissingValues(XTrain6,'rowspectralmedian')\n",
    "XTest6 = replaceMissingValues(rawTestData6,'rowspectralmedian')\n",
    "score = kFoldCrossVal(XTrain6, YTrain6, classifyOneVsRestClassifier)\n",
    "print score\n",
    "score1 = kFoldCrossVal(XTrain6, YTrain6, classifyOneVsOneClassifier)\n",
    "print score1\n",
    "score2 = kFoldCrossVal(XTrain6, YTrain6, classifyOutputCodeClassifier)\n",
    "print score2\n",
    "score3 = kFoldCrossVal(XTrain6, YTrain6, classifyRandomForestClassifier)\n",
    "print score3"
   ]
  },
  {
   "cell_type": "code",
   "execution_count": 129,
   "metadata": {
    "collapsed": false
   },
   "outputs": [],
   "source": [
    "def writePrdictedLabelFile(YPred):\n",
    "    f = open(\"Predictions.csv\",\"w\")\n",
    "    f.write(\"Id,Prediction\" + \"\\n\")\n",
    "\n",
    "    for i in xrange(len(YPred)):\n",
    "        f.write(str(i+1) + \",\" + str(int(YPred[i]))+ \"\\n\")\n",
    "    \n",
    "    f.close()"
   ]
  },
  {
   "cell_type": "code",
   "execution_count": 205,
   "metadata": {
    "collapsed": false
   },
   "outputs": [
    {
     "name": "stdout",
     "output_type": "stream",
     "text": [
      "82.5479143179\n"
     ]
    }
   ],
   "source": [
    "XTrain, YTrain, rawTestData = readInputFiles()\n",
    "XTrain = replaceMissingValues(XTrain,'rowspectralmedian')\n",
    "XTest = replaceMissingValues(rawTestData,'rowspectralmedian')\n",
    "score = kFoldCrossVal(XTrain, YTrain, classifyRandomForestClassifier)\n",
    "print score\n",
    "#YPred = OneVsRestClassifier(LinearSVC(random_state=0)).fit(XTrain, YTrain).predict(XTest)\n",
    "#YPred = OneVsOneClassifier(LinearSVC(random_state=0)).fit(XTrain, YTrain).predict(XTest)\n",
    "YPred = RandomForestClassifier(n_estimators=100).fit(XTrain, YTrain).predict(XTest)\n",
    "     \n",
    "writePrdictedLabelFile(YPred)"
   ]
  }
 ],
 "metadata": {
  "kernelspec": {
   "display_name": "Python 2",
   "language": "python",
   "name": "python2"
  },
  "language_info": {
   "codemirror_mode": {
    "name": "ipython",
    "version": 2
   },
   "file_extension": ".py",
   "mimetype": "text/x-python",
   "name": "python",
   "nbconvert_exporter": "python",
   "pygments_lexer": "ipython2",
   "version": "2.7.8"
  }
 },
 "nbformat": 4,
 "nbformat_minor": 0
}

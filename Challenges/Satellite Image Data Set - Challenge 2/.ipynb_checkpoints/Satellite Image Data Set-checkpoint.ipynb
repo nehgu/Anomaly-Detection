{
 "cells": [
  {
   "cell_type": "markdown",
   "metadata": {},
   "source": [
    "# Satellite Image Data Set"
   ]
  },
  {
   "cell_type": "markdown",
   "metadata": {},
   "source": [
    "## Data Preprocessing\n",
    "Missing Values - Replace by mean, Replace by Neighbourhood, Row-wise, Row Spectral Wise\n",
    "Use Multi-class SVM with different kernels, Multi Class Learning\n",
    "Stratified K-Fold validation for equal number of classes in each fold\n",
    "https://archive.ics.uci.edu/ml/datasets/Statlog+(Landsat+Satellite)"
   ]
  },
  {
   "cell_type": "markdown",
   "metadata": {},
   "source": [
    "## Read the input data"
   ]
  },
  {
   "cell_type": "code",
   "execution_count": 88,
   "metadata": {
    "collapsed": false
   },
   "outputs": [],
   "source": [
    "import numpy as np\n",
    "\n",
    "def readInputFiles():\n",
    "    rawTrainData = np.loadtxt('sat_noisy.trn',delimiter=',')\n",
    "    rawTestData = np.loadtxt('sat-test.csv.dat',delimiter=',')\n",
    "    # print rawTrainData.shape\n",
    "    # print rawTestData.shape\n",
    "    # print rawTrainData[0]\n",
    "    YTrain = rawTrainData[:,-1]\n",
    "    XTrain = rawTrainData[:,:-1]\n",
    "    # print YTrain.shape\n",
    "    # print XTrain.shape\n",
    "\n",
    "    return XTrain, YTrain, rawTestData\n",
    " "
   ]
  },
  {
   "cell_type": "markdown",
   "metadata": {},
   "source": [
    "## Handle Missing Values (NaN)"
   ]
  },
  {
   "cell_type": "code",
   "execution_count": 89,
   "metadata": {
    "collapsed": true
   },
   "outputs": [],
   "source": [
    "\n",
    "# Replacing NaN\n",
    "# Replace by column mean, by zero, row-wise, row spectral-wise\n",
    "import  scipy.stats as stats\n",
    "def replaceMissingValues(X, replacement):\n",
    "    func = None\n",
    "    if replacement == 'colmean':\n",
    "        func = stats.nanmean(X,axis=0)\n",
    "    elif replacement == 'colmedian':\n",
    "        func = stats.nanmedian(X,axis=0)\n",
    "    elif replacement =='zeros':\n",
    "        pass\n",
    "    elif replacement =='rowmean':\n",
    "        func = stats.nanmean(X,axis=1)\n",
    "    elif replacement =='rowmedian':\n",
    "        func = stats.nanmedian(X,axis=1)\n",
    "    elif replacement =='rowspectral':\n",
    "        pass\n",
    "    \n",
    "    inds = np.where(np.isnan(X))\n",
    "    #X[inds]=np.take(func,inds[0])\n",
    "    \n",
    "    #print \"X before replace\", X[1][10]\n",
    "    \n",
    "    if replacement == 'colmean' or replacement == 'colmedian':\n",
    "        X[inds[0],inds[1]] = func[inds[1]]\n",
    "    elif replacement == 'rowmean' or replacement == 'rowmedian':\n",
    "        X[inds[0],inds[1]] = func[inds[0]]\n",
    "    elif replacement =='zeros':\n",
    "        X[inds[0],inds[1]]= 0\n",
    "        \n",
    "    #print \"X after replace\", X[1][10]    \n",
    "    #print \"inds\", (inds)\n",
    "    #print \"func\", repr(func)\n",
    "    return X"
   ]
  },
  {
   "cell_type": "code",
   "execution_count": 90,
   "metadata": {
    "collapsed": false
   },
   "outputs": [],
   "source": [
    "# #Multi Class SVM\n",
    "# from sklearn import svm\n",
    "# # clf = svm.SVC(decision_function_shape='ovo')\n",
    "# # clf = svm.SVC(kernel='linear',probability=True)\n",
    "# clf.fit(XTrain, YTrain) \n",
    "# # dec = clf.decision_function(XTest)\n",
    "# # print dec.shape[1] # 6 classes: 6*5/2 = 15\n",
    "\n",
    "# # clf.decision_function_shape = \"ova\"\n",
    "# # dec = clf.decision_function(XTest)\n",
    "# # dec = clf.predict(XTest)\n",
    "# # print dec.shape[1] # 6 classes\n",
    "# # YPred = clf.predict_proba(XTest)\n",
    "# YPred = clf.predict(XTest)\n",
    "# print YPred\n",
    "# # predictedClasses =YPred.argmax(axis=1)\n",
    "# # print predictedClasses"
   ]
  },
  {
   "cell_type": "code",
   "execution_count": 91,
   "metadata": {
    "collapsed": true
   },
   "outputs": [],
   "source": [
    "from sklearn.multiclass import OneVsRestClassifier\n",
    "from sklearn.svm import LinearSVC\n",
    "def classifyOneVsRestClassifier(XTrain, XTest, YTrain, YTest):\n",
    "    YPred = OneVsRestClassifier(LinearSVC(random_state=0)).fit(XTrain, YTrain).predict(XTest)\n",
    "    diff = YPred - YTest\n",
    "#     print diff\n",
    "    score = diff[diff == 0].size\n",
    "#     print score\n",
    "#     print YPred.size\n",
    "    return (100.0 * score)/(YPred.size)"
   ]
  },
  {
   "cell_type": "code",
   "execution_count": 92,
   "metadata": {
    "collapsed": true
   },
   "outputs": [],
   "source": [
    "from sklearn.multiclass import OneVsOneClassifier\n",
    "from sklearn.svm import LinearSVC\n",
    "def classifyOneVsOneClassifier(XTrain, XTest, YTrain, YTest):\n",
    "    YPred = OneVsOneClassifier(LinearSVC(random_state=0)).fit(XTrain, YTrain).predict(XTest)\n",
    "    diff = YPred - YTest\n",
    "#     print diff\n",
    "    score = diff[diff == 0].size\n",
    "#     print score\n",
    "#     print YPred.size\n",
    "    return (100.0 * score)/(YPred.size)"
   ]
  },
  {
   "cell_type": "code",
   "execution_count": 93,
   "metadata": {
    "collapsed": false
   },
   "outputs": [],
   "source": [
    "from sklearn.cross_validation import KFold\n",
    "def kFoldCrossVal(XTrain, YTrain, classify):\n",
    "    n_folds=5\n",
    "    kf = KFold(4435, n_folds)\n",
    "    score = 0.0\n",
    "    for train, test in kf:\n",
    "        score += classify(XTrain[train,:], XTrain[test,:], YTrain[train], YTrain[test])\n",
    "\n",
    "    return score/n_folds"
   ]
  },
  {
   "cell_type": "code",
   "execution_count": 94,
   "metadata": {
    "collapsed": false
   },
   "outputs": [
    {
     "name": "stdout",
     "output_type": "stream",
     "text": [
      "36.7305524239\n",
      "33.7542277339\n"
     ]
    }
   ],
   "source": [
    "# Replace missing values (NaN) with Zero\n",
    "XTrain, YTrain, rawTestData = readInputFiles()\n",
    "XTrain = replaceMissingValues(XTrain,'zeros')\n",
    "XTest = replaceMissingValues(rawTestData,'zeros')\n",
    "score = kFoldCrossVal(XTrain, YTrain, classifyOneVsRestClassifier)\n",
    "print score\n",
    "score1 = kFoldCrossVal(XTrain, YTrain, classifyOneVsOneClassifier)\n",
    "print score1"
   ]
  },
  {
   "cell_type": "code",
   "execution_count": 95,
   "metadata": {
    "collapsed": false
   },
   "outputs": [
    {
     "name": "stdout",
     "output_type": "stream",
     "text": [
      "56.3697857948\n",
      "59.5490417136\n"
     ]
    }
   ],
   "source": [
    "XTrain1, YTrain1, rawTestData1 = readInputFiles()\n",
    "XTrain1 = replaceMissingValues(XTrain1,'colmean')\n",
    "XTest1 = replaceMissingValues(rawTestData1,'colmean')\n",
    "score = kFoldCrossVal(XTrain1, YTrain1, classifyOneVsRestClassifier)\n",
    "print score\n",
    "score1 = kFoldCrossVal(XTrain1, YTrain1, classifyOneVsOneClassifier)\n",
    "print score1"
   ]
  },
  {
   "cell_type": "code",
   "execution_count": 96,
   "metadata": {
    "collapsed": false
   },
   "outputs": [
    {
     "name": "stdout",
     "output_type": "stream",
     "text": [
      "49.9661781285\n",
      "55.8962795941\n"
     ]
    }
   ],
   "source": [
    "XTrain2, YTrain2, rawTestData2 = readInputFiles()\n",
    "XTrain2 = replaceMissingValues(XTrain2,'colmedian')\n",
    "XTest2 = replaceMissingValues(rawTestData2,'colmedian')\n",
    "score = kFoldCrossVal(XTrain2, YTrain2, classifyOneVsRestClassifier)\n",
    "print score\n",
    "score1 = kFoldCrossVal(XTrain2, YTrain2, classifyOneVsOneClassifier)\n",
    "print score1"
   ]
  },
  {
   "cell_type": "code",
   "execution_count": 97,
   "metadata": {
    "collapsed": false
   },
   "outputs": [
    {
     "name": "stdout",
     "output_type": "stream",
     "text": [
      "39.5490417136\n",
      "55.7609921082\n"
     ]
    }
   ],
   "source": [
    "XTrain3, YTrain3, rawTestData3 = readInputFiles()\n",
    "XTrain3 = replaceMissingValues(XTrain3,'rowmean')\n",
    "XTest3 = replaceMissingValues(rawTestData3,'rowmean')\n",
    "score = kFoldCrossVal(XTrain3, YTrain3, classifyOneVsRestClassifier)\n",
    "print score\n",
    "score1 = kFoldCrossVal(XTrain3, YTrain3, classifyOneVsOneClassifier)\n",
    "print score1"
   ]
  },
  {
   "cell_type": "code",
   "execution_count": 98,
   "metadata": {
    "collapsed": false
   },
   "outputs": [
    {
     "name": "stdout",
     "output_type": "stream",
     "text": [
      "47.801578354\n",
      "65.321307779\n"
     ]
    }
   ],
   "source": [
    "XTrain4, YTrain4, rawTestData4 = readInputFiles()\n",
    "XTrain4 = replaceMissingValues(XTrain4,'rowmedian')\n",
    "XTest4 = replaceMissingValues(rawTestData4,'rowmedian')\n",
    "score = kFoldCrossVal(XTrain4, YTrain4, classifyOneVsRestClassifier)\n",
    "print score\n",
    "score1 = kFoldCrossVal(XTrain4, YTrain4, classifyOneVsOneClassifier)\n",
    "print score1"
   ]
  },
  {
   "cell_type": "code",
   "execution_count": 99,
   "metadata": {
    "collapsed": false
   },
   "outputs": [],
   "source": [
    "def writePrdictedLabelFile(YPred):\n",
    "    f = open(\"Predictions.csv\",\"w\")\n",
    "    f.write(\"Id,Prediction\" + \"\\n\")\n",
    "\n",
    "    for i in xrange(len(YPred)):\n",
    "        f.write(str(i+1) + \",\" + str(int(YPred[i]))+ \"\\n\")\n",
    "    \n",
    "    f.close()"
   ]
  },
  {
   "cell_type": "code",
   "execution_count": 101,
   "metadata": {
    "collapsed": false
   },
   "outputs": [
    {
     "name": "stdout",
     "output_type": "stream",
     "text": [
      "65.321307779\n"
     ]
    },
    {
     "ename": "NameError",
     "evalue": "name 'OneVsOneClassifier' is not defined",
     "output_type": "error",
     "traceback": [
      "\u001b[1;31m---------------------------------------------------------------------------\u001b[0m",
      "\u001b[1;31mNameError\u001b[0m                                 Traceback (most recent call last)",
      "\u001b[1;32m<ipython-input-101-402554859ac9>\u001b[0m in \u001b[0;36m<module>\u001b[1;34m()\u001b[0m\n\u001b[0;32m      5\u001b[0m \u001b[1;32mprint\u001b[0m \u001b[0mscore\u001b[0m\u001b[1;33m\u001b[0m\u001b[0m\n\u001b[0;32m      6\u001b[0m \u001b[1;31m#YPred = OneVsRestClassifier(LinearSVC(random_state=0)).fit(XTrain, YTrain).predict(XTest)\u001b[0m\u001b[1;33m\u001b[0m\u001b[1;33m\u001b[0m\u001b[0m\n\u001b[1;32m----> 7\u001b[1;33m \u001b[0mYPred\u001b[0m \u001b[1;33m=\u001b[0m \u001b[0mOneVsOneClassifier\u001b[0m\u001b[1;33m(\u001b[0m\u001b[0mLinearSVC\u001b[0m\u001b[1;33m(\u001b[0m\u001b[0mrandom_state\u001b[0m\u001b[1;33m=\u001b[0m\u001b[1;36m0\u001b[0m\u001b[1;33m)\u001b[0m\u001b[1;33m)\u001b[0m\u001b[1;33m.\u001b[0m\u001b[0mfit\u001b[0m\u001b[1;33m(\u001b[0m\u001b[0mXTrain\u001b[0m\u001b[1;33m,\u001b[0m \u001b[0mYTrain\u001b[0m\u001b[1;33m)\u001b[0m\u001b[1;33m.\u001b[0m\u001b[0mpredict\u001b[0m\u001b[1;33m(\u001b[0m\u001b[0mXTest\u001b[0m\u001b[1;33m)\u001b[0m\u001b[1;33m\u001b[0m\u001b[0m\n\u001b[0m\u001b[0;32m      8\u001b[0m \u001b[0mwritePrdictedLabelFile\u001b[0m\u001b[1;33m(\u001b[0m\u001b[0mYPred\u001b[0m\u001b[1;33m)\u001b[0m\u001b[1;33m\u001b[0m\u001b[0m\n",
      "\u001b[1;31mNameError\u001b[0m: name 'OneVsOneClassifier' is not defined"
     ]
    }
   ],
   "source": [
    "XTrain, YTrain, rawTestData = readInputFiles()\n",
    "XTrain = replaceMissingValues(XTrain,'rowmedian')\n",
    "XTest = replaceMissingValues(rawTestData,'rowmedian')\n",
    "score = kFoldCrossVal(XTrain, YTrain, classifyOneVsOneClassifier)\n",
    "print score\n",
    "#YPred = OneVsRestClassifier(LinearSVC(random_state=0)).fit(XTrain, YTrain).predict(XTest)\n",
    "YPred = OneVsOneClassifier(LinearSVC(random_state=0)).fit(XTrain, YTrain).predict(XTest)\n",
    "writePrdictedLabelFile(YPred)"
   ]
  },
  {
   "cell_type": "code",
   "execution_count": null,
   "metadata": {
    "collapsed": true
   },
   "outputs": [],
   "source": []
  }
 ],
 "metadata": {
  "kernelspec": {
   "display_name": "Python 2",
   "language": "python",
   "name": "python2"
  },
  "language_info": {
   "codemirror_mode": {
    "name": "ipython",
    "version": 2
   },
   "file_extension": ".py",
   "mimetype": "text/x-python",
   "name": "python",
   "nbconvert_exporter": "python",
   "pygments_lexer": "ipython2",
   "version": "2.7.8"
  }
 },
 "nbformat": 4,
 "nbformat_minor": 0
}

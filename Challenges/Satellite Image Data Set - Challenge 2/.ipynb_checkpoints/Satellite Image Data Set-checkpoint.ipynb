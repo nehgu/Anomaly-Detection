{
 "cells": [
  {
   "cell_type": "markdown",
   "metadata": {},
   "source": [
    "# Satellite Image Data Set"
   ]
  },
  {
   "cell_type": "markdown",
   "metadata": {},
   "source": [
    "## Data Preprocessing\n",
    "Missing Values - Replace by mean, Replace by Neighbourhood, Row-wise, Row Spectral Wise\n",
    "Use Multi-class SVM with different kernels, Multi Class Learning\n",
    "Stratified K-Fold validation for equal number of classes in each fold\n",
    "https://archive.ics.uci.edu/ml/datasets/Statlog+(Landsat+Satellite)"
   ]
  },
  {
   "cell_type": "markdown",
   "metadata": {},
   "source": [
    "## Read the input data"
   ]
  },
  {
   "cell_type": "code",
   "execution_count": 2,
   "metadata": {
    "collapsed": false
   },
   "outputs": [],
   "source": [
    "import numpy as np\n",
    "\n",
    "def readInputFiles():\n",
    "    rawTrainData = np.loadtxt('sat_noisy.trn',delimiter=',')\n",
    "    rawTestData = np.loadtxt('sat-test.csv.dat',delimiter=',')\n",
    "    # print rawTrainData.shape\n",
    "    # print rawTestData.shape\n",
    "    # print rawTrainData[0]\n",
    "    YTrain = rawTrainData[:,-1]\n",
    "    XTrain = rawTrainData[:,:-1]\n",
    "    XTrainRearranged = rearrangeInputData(XTrain,XTrain.shape[0])\n",
    "    XTestRearranged = rearrangeInputData(rawTestData,rawTestData.shape[0])\n",
    "    # print YTrain.shape\n",
    "    # print XTrain.shape\n",
    "#     print \"Train\",XTrain\n",
    "#     print \"Test\",Test\n",
    "    return XTrainRearranged, YTrain, XTestRearranged\n",
    " "
   ]
  },
  {
   "cell_type": "code",
   "execution_count": 3,
   "metadata": {
    "collapsed": false
   },
   "outputs": [],
   "source": [
    "def rearrangeInputData(XTemp,size):\n",
    "    XMod = []\n",
    "    for i in xrange(size):\n",
    "        X = XTemp[i]\n",
    "        temp = np.hsplit(X,9)\n",
    "        X1=[]\n",
    "        X2=[]\n",
    "        X3=[]\n",
    "        X4=[]\n",
    "        for i in xrange(9):\n",
    "            X1.append(temp[i][0])\n",
    "            X2.append(temp[i][1])\n",
    "            X3.append(temp[i][2])\n",
    "            X4.append(temp[i][3])\n",
    "        X = np.hstack((X1,X2,X3,X4))\n",
    "        XMod.append(X)\n",
    "    return np.array(XMod)\n",
    "# readInputFiles()"
   ]
  },
  {
   "cell_type": "markdown",
   "metadata": {},
   "source": [
    "## Handle Missing Values (NaN)\n",
    "<br>Mode in Row, Column</br>\n",
    "<br> KNN Row, Column</br>"
   ]
  },
  {
   "cell_type": "code",
   "execution_count": 4,
   "metadata": {
    "collapsed": false
   },
   "outputs": [],
   "source": [
    "\n",
    "# Replacing NaN\n",
    "# Replace by column mean, by zero, row-wise, row spectral-wise\n",
    "import  scipy.stats as stats\n",
    "import numpy.ma as ma\n",
    "\n",
    "def replaceMissingValues(X, replacement):\n",
    "    func = None\n",
    "    if replacement == 'colmean':\n",
    "        func = stats.nanmean(X,axis=0)\n",
    "    elif replacement == 'colmedian':\n",
    "        func = stats.nanmedian(X,axis=0)\n",
    "#     elif replacement =='colmode':\n",
    "#         XMask = ma.masked_where(X == np.nan, a)\n",
    "#         func = stats.mstats.mode(XMask,axis=0)[0]\n",
    "    elif replacement =='zeros':\n",
    "        pass\n",
    "    elif replacement =='rowmean':\n",
    "        func = stats.nanmean(X,axis=1)\n",
    "    elif replacement =='rowmedian':\n",
    "        func = stats.nanmedian(X,axis=1)\n",
    "#     elif replacement =='rowmode':\n",
    "#         XMask = ma.masked_where(X == np.nan, a)\n",
    "#         func = stats.mstats.mode(XMask,axis=1)[0]\n",
    "    elif replacement =='rowspectralmean':\n",
    "        XSpectrum = np.hsplit(X,4)\n",
    "        XSpectrum1 = replaceMissingValues(XSpectrum[0], \"rowmean\")\n",
    "        XSpectrum2 = replaceMissingValues(XSpectrum[1], \"rowmean\")\n",
    "        XSpectrum3 = replaceMissingValues(XSpectrum[2], \"rowmean\")\n",
    "        XSpectrum4 = replaceMissingValues(XSpectrum[3], \"rowmean\")\n",
    "        func = np.hstack((XSpectrum1,XSpectrum2,XSpectrum3,XSpectrum4))\n",
    "    elif replacement =='rowspectralmedian':\n",
    "        XSpectrum = np.hsplit(X,4)\n",
    "        XSpectrum1 = replaceMissingValues(XSpectrum[0], \"rowmedian\")\n",
    "        XSpectrum2 = replaceMissingValues(XSpectrum[1], \"rowmedian\")\n",
    "        XSpectrum3 = replaceMissingValues(XSpectrum[2], \"rowmedian\")\n",
    "        XSpectrum4 = replaceMissingValues(XSpectrum[3], \"rowmedian\")\n",
    "        func = np.hstack((XSpectrum1,XSpectrum2,XSpectrum3,XSpectrum4))\n",
    "    elif replacement =='rowspectralmin':\n",
    "        XSpectrum = np.hsplit(X,4)\n",
    "        XSpectrum1 = replaceMissingValues(XSpectrum[0], \"rowmin\")\n",
    "        XSpectrum2 = replaceMissingValues(XSpectrum[1], \"rowmin\")\n",
    "        XSpectrum3 = replaceMissingValues(XSpectrum[2], \"rowmin\")\n",
    "        XSpectrum4 = replaceMissingValues(XSpectrum[3], \"rowmin\")\n",
    "        func = np.hstack((XSpectrum1,XSpectrum2,XSpectrum3,XSpectrum4))\n",
    "    elif replacement =='rowspectralmax':\n",
    "        XSpectrum = np.hsplit(X,4)\n",
    "        XSpectrum1 = replaceMissingValues(XSpectrum[0], \"rowmax\")\n",
    "        XSpectrum2 = replaceMissingValues(XSpectrum[1], \"rowmax\")\n",
    "        XSpectrum3 = replaceMissingValues(XSpectrum[2], \"rowmax\")\n",
    "        XSpectrum4 = replaceMissingValues(XSpectrum[3], \"rowmax\")\n",
    "        func = np.hstack((XSpectrum1,XSpectrum2,XSpectrum3,XSpectrum4))\n",
    "    elif replacement == 'colmin':\n",
    "        func = np.nanmin(X,axis=0)\n",
    "    elif replacement =='colmax':\n",
    "        func = np.nanmax(X,axis=0)\n",
    "    elif replacement == 'rowmin':\n",
    "        func = np.nanmin(X,axis=1)\n",
    "    elif replacement =='rowmax':\n",
    "        func = np.nanmax(X,axis=1)\n",
    "    elif replacement =='mid':\n",
    "        pass\n",
    "    \n",
    "    inds = np.where(np.isnan(X))\n",
    "    #X[inds]=np.take(func,inds[0])\n",
    "    \n",
    "    #print \"X before replace\", X[1][10]\n",
    "    \n",
    "    if replacement == 'colmean' or replacement == 'colmedian' or replacement == 'colmin' or replacement == 'colmax':\n",
    "        X[inds[0],inds[1]] = func[inds[1]]\n",
    "    elif replacement == 'rowmean' or replacement == 'rowmedian' or replacement =='rowmin' or replacement =='rowmax':\n",
    "        X[inds[0],inds[1]] = func[inds[0]]\n",
    "    elif replacement =='zeros':\n",
    "        X[inds[0],inds[1]]= 0\n",
    "    elif replacement =='mid':\n",
    "        X[inds[0],inds[1]]= 127\n",
    "        \n",
    "    #print \"X after replace\", X[1][10]    \n",
    "    #print \"inds\", (inds)\n",
    "    #print \"func\", repr(func)\n",
    "    return X"
   ]
  },
  {
   "cell_type": "code",
   "execution_count": 5,
   "metadata": {
    "collapsed": false
   },
   "outputs": [],
   "source": [
    "#Multi Class SVM\n",
    "from sklearn import svm\n",
    "from sklearn.svm import NuSVC\n",
    "def classifyMultiClassSVMClassifier(XTrain, XTest, YTrain, YTest):\n",
    "#     YPred = svm.LinearSVC().fit(XTrain, YTrain).predict(XTest)\n",
    "#     YPred = svm.NuSVC(nu=0.1).fit(XTrain, YTrain).predict(XTest)\n",
    "#     YPred = svm.SVC(decision_function_shape='ovo').fit(XTrain, YTrain).predict(XTest)\n",
    "#     YPred = svm.SVR().fit(XTrain, YTrain).predict(XTest)\n",
    "#     print \"0\"\n",
    "    YPred = svm.SVC(kernel='linear').fit(XTrain, YTrain).predict(XTest)\n",
    "    diff = YPred - YTest\n",
    "    score = diff[diff == 0].size\n",
    "#     print \"1\"\n",
    "    return (100.0 * score)/(YPred.size)"
   ]
  },
  {
   "cell_type": "markdown",
   "metadata": {},
   "source": [
    "Try <br>\n",
    "    Multi class Perceptron <br>"
   ]
  },
  {
   "cell_type": "code",
   "execution_count": 6,
   "metadata": {
    "collapsed": true
   },
   "outputs": [],
   "source": [
    "from sklearn.multiclass import OneVsRestClassifier\n",
    "from sklearn.svm import LinearSVC\n",
    "def classifyOneVsRestClassifier(XTrain, XTest, YTrain, YTest):\n",
    "    YPred = OneVsRestClassifier(LinearSVC(random_state=0)).fit(XTrain, YTrain).predict(XTest)\n",
    "    diff = YPred - YTest\n",
    "    score = diff[diff == 0].size\n",
    "    return (100.0 * score)/(YPred.size)"
   ]
  },
  {
   "cell_type": "code",
   "execution_count": 7,
   "metadata": {
    "collapsed": true
   },
   "outputs": [],
   "source": [
    "from sklearn.multiclass import OneVsOneClassifier\n",
    "from sklearn.svm import LinearSVC\n",
    "def classifyOneVsOneClassifier(XTrain, XTest, YTrain, YTest):\n",
    "    YPred = OneVsOneClassifier(LinearSVC(random_state=0)).fit(XTrain, YTrain).predict(XTest)\n",
    "    diff = YPred - YTest\n",
    "    score = diff[diff == 0].size\n",
    "    return (100.0 * score)/(YPred.size)"
   ]
  },
  {
   "cell_type": "code",
   "execution_count": 8,
   "metadata": {
    "collapsed": true
   },
   "outputs": [],
   "source": [
    "from sklearn.multiclass import OutputCodeClassifier\n",
    "from sklearn.svm import LinearSVC\n",
    "def classifyOutputCodeClassifier(XTrain, XTest, YTrain, YTest):\n",
    "    clf = OutputCodeClassifier(LinearSVC(random_state=0),code_size=2, random_state=0)\n",
    "    YPred = clf.fit(XTrain, YTrain).predict(XTest)\n",
    "    diff = YPred - YTest\n",
    "    score = diff[diff == 0].size\n",
    "    return (100.0 * score)/(YPred.size)"
   ]
  },
  {
   "cell_type": "code",
   "execution_count": 9,
   "metadata": {
    "collapsed": true
   },
   "outputs": [],
   "source": [
    "from sklearn.ensemble import RandomForestClassifier\n",
    "def classifyRandomForestClassifier(XTrain, XTest, YTrain, YTest):\n",
    "    clf = RandomForestClassifier(n_estimators=10)\n",
    "    clf.fit(XTrain, YTrain)\n",
    "    YPred = clf.predict(XTest)\n",
    "    diff = YPred - YTest\n",
    "    score = diff[diff == 0].size\n",
    "    return (100.0 * score)/(YPred.size)"
   ]
  },
  {
   "cell_type": "code",
   "execution_count": 10,
   "metadata": {
    "collapsed": true
   },
   "outputs": [],
   "source": [
    "from sklearn.naive_bayes import GaussianNB\n",
    "def classifyGaussianNaiveBayesClassifier(XTrain, XTest, YTrain, YTest):\n",
    "    gnb = GaussianNB()\n",
    "    YPred = gnb.fit(XTrain, YTrain).predict(XTest)\n",
    "    diff = YPred - YTest\n",
    "    score = diff[diff == 0].size\n",
    "    return (100.0 * score)/(YPred.size)"
   ]
  },
  {
   "cell_type": "code",
   "execution_count": 11,
   "metadata": {
    "collapsed": true
   },
   "outputs": [],
   "source": [
    "from sklearn.naive_bayes import BernoulliNB\n",
    "def classifyBernoulliNaiveBayesClassifier(XTrain, XTest, YTrain, YTest):\n",
    "    bnb = BernoulliNB()\n",
    "    YPred = bnb.fit(XTrain, YTrain).predict(XTest)\n",
    "    diff = YPred - YTest\n",
    "    score = diff[diff == 0].size\n",
    "    return (100.0 * score)/(YPred.size)"
   ]
  },
  {
   "cell_type": "code",
   "execution_count": 12,
   "metadata": {
    "collapsed": true
   },
   "outputs": [],
   "source": [
    "from sklearn.naive_bayes import MultinomialNB\n",
    "def classifyMultinomialNaiveBayesClassifier(XTrain, XTest, YTrain, YTest):\n",
    "    mnb = MultinomialNB()\n",
    "    YPred = mnb.fit(XTrain, YTrain).predict(XTest)\n",
    "    diff = YPred - YTest\n",
    "    score = diff[diff == 0].size\n",
    "    return (100.0 * score)/(YPred.size)"
   ]
  },
  {
   "cell_type": "code",
   "execution_count": 68,
   "metadata": {
    "collapsed": true
   },
   "outputs": [],
   "source": [
    "from sklearn.neighbors import KNeighborsClassifier\n",
    "def classifyKNNClassifier(XTrain, XTest, YTrain, YTest):\n",
    "    neigh = KNeighborsClassifier(n_neighbors=3)\n",
    "    YPred = neigh.fit(XTrain, YTrain).predict(XTest)\n",
    "    diff = YPred - YTest\n",
    "    score = diff[diff == 0].size\n",
    "    return (100.0 * score)/(YPred.size)"
   ]
  },
  {
   "cell_type": "code",
   "execution_count": 71,
   "metadata": {
    "collapsed": false
   },
   "outputs": [],
   "source": [
    "from sklearn.cross_validation import KFold\n",
    "def kFoldCrossVal(XTrain, YTrain, classify):\n",
    "    n_folds=5\n",
    "    kf = KFold(4435, n_folds)\n",
    "    score = 0.0\n",
    "    for train, test in kf:\n",
    "        score += classify(XTrain[train,:], XTrain[test,:], YTrain[train], YTrain[test])\n",
    "\n",
    "    return score/n_folds"
   ]
  },
  {
   "cell_type": "code",
   "execution_count": 72,
   "metadata": {
    "collapsed": true
   },
   "outputs": [],
   "source": [
    "from sklearn.cross_validation import StratifiedKFold\n",
    "def stratifiedKFoldVal(XTrain, YTrain, classify):\n",
    "    n_folds = 5\n",
    "    score = 0.0\n",
    "    skf = StratifiedKFold(YTrain, n_folds)\n",
    "    for train_index, test_index in skf:\n",
    "        X_train, X_test = XTrain[train_index], XTrain[test_index]\n",
    "        y_train, y_test = YTrain[train_index], YTrain[test_index]\n",
    "        score += classify(X_train, X_test,  y_train, y_test)\n",
    "    return score/n_folds"
   ]
  },
  {
   "cell_type": "code",
   "execution_count": 83,
   "metadata": {
    "collapsed": false
   },
   "outputs": [],
   "source": [
    "scoreOneVsRestClassifier = []\n",
    "scoreOneVsOneClassifier = []\n",
    "scoreOutputCodeClassifier = []\n",
    "scoreRandomForestClassifier = []\n",
    "scoreGaussianNaiveBayesClassifier = []\n",
    "scoreBernoulliNaiveBayesClassifier = []\n",
    "scoreMultinomialNaiveBayesClassifier = []\n",
    "# scoreMultiClassSVMClassifier = []\n",
    "scoreKNNClassifier = []"
   ]
  },
  {
   "cell_type": "code",
   "execution_count": 16,
   "metadata": {
    "collapsed": true
   },
   "outputs": [],
   "source": [
    "def PreProcessClassificationScores(replacement):\n",
    "    # Replace missing values (NaN) with replacement\n",
    "    XTrain, YTrain, rawTestData = readInputFiles()\n",
    "    XTrain = replaceMissingValues(XTrain, replacement)\n",
    "    XTest = replaceMissingValues(rawTestData, replacement)\n",
    "    #score = kFoldCrossVal(XTrain, YTrain, classifyOneVsRestClassifier)\n",
    "    #print score\n",
    "    score1 = kFoldCrossVal(XTrain, YTrain, classifyOneVsOneClassifier)\n",
    "    print score1\n",
    "    #score2 = kFoldCrossVal(XTrain, YTrain, classifyOutputCodeClassifier)\n",
    "    #print score2\n",
    "    score3 = kFoldCrossVal(XTrain, YTrain, classifyRandomForestClassifier)\n",
    "    print score3\n",
    "    score4 = kFoldCrossVal(XTrain, YTrain, classifyGaussianNaiveBayesClassifier)\n",
    "    print score4\n",
    "    score5 = kFoldCrossVal(XTrain, YTrain, classifyBernoulliNaiveBayesClassifier)\n",
    "    print score5\n",
    "    score6 = kFoldCrossVal(XTrain, YTrain, classifyMultinomialNaiveBayesClassifier)\n",
    "    print score6\n",
    "#     score7 = kFoldCrossVal(XTrain, YTrain, classifyMultiClassSVMClassifier)\n",
    "#     print score7\n",
    "    score8 = kFoldCrossVal(XTrain, YTrain, classifyKNNClassifier)\n",
    "    print score8\n",
    "#     scoreOneVsRestClassifier.append(score)\n",
    "    scoreOneVsOneClassifier.append(score1)\n",
    "#     scoreOutputCodeClassifier.append(score2)\n",
    "    scoreRandomForestClassifier.append(score3)\n",
    "    scoreGaussianNaiveBayesClassifier.append(score4)\n",
    "    scoreBernoulliNaiveBayesClassifier.append(score5)\n",
    "    scoreMultinomialNaiveBayesClassifier.append(score6)\n",
    "#     scoreMultiClassSVMClassifier.append(score7)\n",
    "    scoreMultiClassSVMClassifier.append(score8)"
   ]
  },
  {
   "cell_type": "code",
   "execution_count": 84,
   "metadata": {
    "collapsed": true
   },
   "outputs": [],
   "source": [
    "def PreProcessStratifiedClassificationScores(replacement):\n",
    "    # Replace missing values (NaN) with replacement\n",
    "    XTrain, YTrain, rawTestData = readInputFiles()\n",
    "    XTrain = replaceMissingValues(XTrain, replacement)\n",
    "    XTest = replaceMissingValues(rawTestData, replacement)\n",
    "    #score = stratifiedKFoldVal(XTrain, YTrain, classifyOneVsRestClassifier)\n",
    "    #print score\n",
    "    score1 = stratifiedKFoldVal(XTrain, YTrain, classifyOneVsOneClassifier)\n",
    "    print score1\n",
    "    #score2 = stratifiedKFoldVal(XTrain, YTrain, classifyOutputCodeClassifier)\n",
    "    #print score2\n",
    "    score3 = stratifiedKFoldVal(XTrain, YTrain, classifyRandomForestClassifier)\n",
    "    print score3\n",
    "    score4 = stratifiedKFoldVal(XTrain, YTrain, classifyGaussianNaiveBayesClassifier)\n",
    "    print score4\n",
    "    score5 = stratifiedKFoldVal(XTrain, YTrain, classifyBernoulliNaiveBayesClassifier)\n",
    "    print score5\n",
    "    score6 = stratifiedKFoldVal(XTrain, YTrain, classifyMultinomialNaiveBayesClassifier)\n",
    "    print score6\n",
    "#     score7 = stratifiedKFoldVal(XTrain, YTrain, classifyMultiClassSVMClassifier)\n",
    "#     print score7\n",
    "    score8 = stratifiedKFoldVal(XTrain, YTrain, classifyKNNClassifier)\n",
    "    print score8\n",
    "#     scoreOneVsRestClassifier.append(score)\n",
    "    scoreOneVsOneClassifier.append(score1)\n",
    "#     scoreOutputCodeClassifier.append(score2)\n",
    "    scoreRandomForestClassifier.append(score3)\n",
    "    scoreGaussianNaiveBayesClassifier.append(score4)\n",
    "    scoreBernoulliNaiveBayesClassifier.append(score5)\n",
    "    scoreMultinomialNaiveBayesClassifier.append(score6)\n",
    "#     scoreMultiClassSVMClassifier.append(score7)\n",
    "    scoreKNNClassifier.append(score8)"
   ]
  },
  {
   "cell_type": "code",
   "execution_count": 85,
   "metadata": {
    "collapsed": false
   },
   "outputs": [
    {
     "name": "stdout",
     "output_type": "stream",
     "text": [
      "50.2346672478\n",
      "83.0618433815\n",
      "70.7773096923\n",
      "23.2009477322\n",
      "57.6964917351\n",
      "60.1983820725\n"
     ]
    }
   ],
   "source": [
    "# Replace missing values (NaN) with Zero\n",
    "# Multi-Class SVM\n",
    "# PreProcessClassificationScores('zeros')\n",
    "PreProcessStratifiedClassificationScores('zeros')"
   ]
  },
  {
   "cell_type": "code",
   "execution_count": 86,
   "metadata": {
    "collapsed": false
   },
   "outputs": [],
   "source": [
    "# XTrain, YTrain, rawTestData = readInputFiles()\n",
    "# replacement = 'colmean'\n",
    "# XTrain = replaceMissingValues(XTrain, replacement)\n",
    "# XTest = replaceMissingValues(rawTestData, replacement)\n",
    "# score7 = kFoldCrossVal(XTrain, YTrain, classifyMultiClassSVMClassifier)\n",
    "# print score7"
   ]
  },
  {
   "cell_type": "code",
   "execution_count": 87,
   "metadata": {
    "collapsed": false
   },
   "outputs": [
    {
     "name": "stdout",
     "output_type": "stream",
     "text": [
      "61.5705479223\n",
      "83.6037582891\n",
      "77.9388284902\n",
      "24.1713493608\n",
      "69.8046482456\n",
      "81.3505362306\n"
     ]
    }
   ],
   "source": [
    "# Replace missing values (NaN) with mean values for each column\n",
    "# PreProcessClassificationScores('colmean')\n",
    "PreProcessStratifiedClassificationScores('colmean')"
   ]
  },
  {
   "cell_type": "code",
   "execution_count": 88,
   "metadata": {
    "collapsed": false
   },
   "outputs": [
    {
     "name": "stdout",
     "output_type": "stream",
     "text": [
      "66.105640029\n",
      "83.6030465143\n",
      "77.6905210903\n",
      "24.1713493608\n",
      "68.4752339754\n",
      "81.2829438442\n"
     ]
    }
   ],
   "source": [
    "# Replace missing values (NaN) with median values for each column\n",
    "# PreProcessClassificationScores('colmedian')\n",
    "PreProcessStratifiedClassificationScores('colmedian')"
   ]
  },
  {
   "cell_type": "code",
   "execution_count": 89,
   "metadata": {
    "collapsed": false
   },
   "outputs": [
    {
     "name": "stdout",
     "output_type": "stream",
     "text": [
      "69.1764097803\n",
      "83.0400080437\n",
      "75.9324145594\n",
      "24.1713493608\n",
      "70.5929382455\n",
      "79.9285641572\n"
     ]
    }
   ],
   "source": [
    "# Replace missing values (NaN) with mean values for each row\n",
    "# PreProcessClassificationScores('rowmean')\n",
    "PreProcessStratifiedClassificationScores('rowmean')"
   ]
  },
  {
   "cell_type": "code",
   "execution_count": 90,
   "metadata": {
    "collapsed": false
   },
   "outputs": [
    {
     "name": "stdout",
     "output_type": "stream",
     "text": [
      "65.1900929681\n",
      "82.9715748037\n",
      "75.8199039739\n",
      "24.1713493608\n",
      "69.916626858\n",
      "79.7705002308\n"
     ]
    }
   ],
   "source": [
    "# Replace missing values (NaN) with median values for each row\n",
    "# PreProcessClassificationScores('rowmedian')\n",
    "PreProcessStratifiedClassificationScores('rowmedian')"
   ]
  },
  {
   "cell_type": "code",
   "execution_count": 91,
   "metadata": {
    "collapsed": false
   },
   "outputs": [
    {
     "name": "stdout",
     "output_type": "stream",
     "text": [
      "67.4506561429\n",
      "84.4596906056\n",
      "77.961580859\n",
      "24.1713493608\n",
      "75.9585674327\n",
      "83.9212093883\n"
     ]
    }
   ],
   "source": [
    "# Replace missing values (NaN) with row spectral mean\n",
    "# PreProcessClassificationScores('rowspectralmean')\n",
    "PreProcessStratifiedClassificationScores('rowspectralmean')"
   ]
  },
  {
   "cell_type": "code",
   "execution_count": 92,
   "metadata": {
    "collapsed": false
   },
   "outputs": [
    {
     "name": "stdout",
     "output_type": "stream",
     "text": [
      "67.2568383672\n",
      "84.3019819345\n",
      "78.1190351518\n",
      "24.1713493608\n",
      "76.2515130338\n",
      "84.2364744336\n"
     ]
    }
   ],
   "source": [
    "# Replace missing values (NaN) with row spectral median\n",
    "# PreProcessClassificationScores('rowspectralmedian')\n",
    "PreProcessStratifiedClassificationScores('rowspectralmedian')"
   ]
  },
  {
   "cell_type": "code",
   "execution_count": 93,
   "metadata": {
    "collapsed": false
   },
   "outputs": [
    {
     "name": "stdout",
     "output_type": "stream",
     "text": [
      "52.9213264102\n",
      "82.971879218\n",
      "73.005008467\n",
      "24.1713493608\n",
      "62.9043348708\n",
      "67.1875122715\n"
     ]
    }
   ],
   "source": [
    "# Replace missing values (NaN) with min value for each row\n",
    "# Multi-Class SVM\n",
    "# PreProcessClassificationScores('colmin')\n",
    "PreProcessStratifiedClassificationScores('colmin')"
   ]
  },
  {
   "cell_type": "code",
   "execution_count": 94,
   "metadata": {
    "collapsed": false
   },
   "outputs": [
    {
     "name": "stdout",
     "output_type": "stream",
     "text": [
      "55.1277527611\n",
      "83.0388133671\n",
      "75.3917482078\n",
      "24.1713493608\n",
      "60.4246945068\n",
      "68.3182914703\n"
     ]
    }
   ],
   "source": [
    "# Replace missing values (NaN) with min value for each row\n",
    "# Multi-Class SVMcolmin\n",
    "# PreProcessClassificationScores('colmax')\n",
    "PreProcessStratifiedClassificationScores('colmax')"
   ]
  },
  {
   "cell_type": "code",
   "execution_count": 95,
   "metadata": {
    "collapsed": false
   },
   "outputs": [
    {
     "name": "stdout",
     "output_type": "stream",
     "text": [
      "62.7058010829\n",
      "82.0927374832\n",
      "75.0988524147\n",
      "24.1713493608\n",
      "70.1409116107\n",
      "77.6495415529\n"
     ]
    }
   ],
   "source": [
    "# Replace missing values (NaN) with min value for each row\n",
    "# PreProcessClassificationScores('rowmin')\n",
    "PreProcessStratifiedClassificationScores('rowmin')"
   ]
  },
  {
   "cell_type": "code",
   "execution_count": 96,
   "metadata": {
    "collapsed": false
   },
   "outputs": [
    {
     "name": "stdout",
     "output_type": "stream",
     "text": [
      "56.6846027433\n",
      "83.084850184\n",
      "71.536800909\n",
      "24.1713493608\n",
      "65.4084048406\n",
      "76.6605073446\n"
     ]
    }
   ],
   "source": [
    "# Replace missing values (NaN) with max value for each row\n",
    "# Multi-Class SVM\n",
    "# PreProcessClassificationScores('rowmax')\n",
    "PreProcessStratifiedClassificationScores('rowmax')"
   ]
  },
  {
   "cell_type": "code",
   "execution_count": 97,
   "metadata": {
    "collapsed": false
   },
   "outputs": [
    {
     "name": "stdout",
     "output_type": "stream",
     "text": [
      "53.0426060595\n",
      "82.3855811721\n",
      "69.5561877459\n",
      "24.1713493608\n",
      "59.7259891609\n",
      "69.1526951021\n"
     ]
    }
   ],
   "source": [
    "# Replace missing values (NaN) with 127\n",
    "# Multi-Class SVM\n",
    "# PreProcessClassificationScores('mid')\n",
    "PreProcessStratifiedClassificationScores('mid')"
   ]
  },
  {
   "cell_type": "code",
   "execution_count": 98,
   "metadata": {
    "collapsed": false
   },
   "outputs": [
    {
     "name": "stdout",
     "output_type": "stream",
     "text": [
      "63.9642431278\n",
      "83.8956877594\n",
      "78.0061934399\n",
      "24.1713493608\n",
      "75.6427439945\n",
      "82.7249705506\n"
     ]
    }
   ],
   "source": [
    "# Replace missing values (NaN) with row spectral min\n",
    "# PreProcessClassificationScores('rowspectralmin')\n",
    "PreProcessStratifiedClassificationScores('rowspectralmin')"
   ]
  },
  {
   "cell_type": "code",
   "execution_count": 99,
   "metadata": {
    "collapsed": false
   },
   "outputs": [
    {
     "name": "stdout",
     "output_type": "stream",
     "text": [
      "67.7521286551\n",
      "83.7845220835\n",
      "77.3975508425\n",
      "24.1713493608\n",
      "75.4857714595\n",
      "83.1555693252\n"
     ]
    }
   ],
   "source": [
    "# Replace missing values (NaN) with row spectral max\n",
    "# PreProcessClassificationScores('rowspectralmax')\n",
    "PreProcessStratifiedClassificationScores('rowspectralmax')"
   ]
  },
  {
   "cell_type": "code",
   "execution_count": 100,
   "metadata": {
    "collapsed": false
   },
   "outputs": [],
   "source": [
    "def writePrdictedLabelFile(YPred):\n",
    "    f = open(\"Predictions.csv\",\"w\")\n",
    "    f.write(\"Id,Prediction\" + \"\\n\")\n",
    "\n",
    "    for i in xrange(len(YPred)):\n",
    "        f.write(str(i+1) + \",\" + str(int(YPred[i]))+ \"\\n\")\n",
    "    \n",
    "    f.close()"
   ]
  },
  {
   "cell_type": "code",
   "execution_count": 103,
   "metadata": {
    "collapsed": false
   },
   "outputs": [
    {
     "name": "stdout",
     "output_type": "stream",
     "text": [
      "83.9212093883\n"
     ]
    }
   ],
   "source": [
    "# replacment = 'rowspectralmedian'\n",
    "replacment = 'rowspectralmean'\n",
    "# replacment = 'colmean'\n",
    "# classifierName = classifyGaussianNaiveBayesClassifier\n",
    "# classifierName = classifyRandomForestClassifier\n",
    "classifierName = classifyKNNClassifier\n",
    "XTrain, YTrain, rawTestData = readInputFiles()\n",
    "XTrain = replaceMissingValues(XTrain, replacment)\n",
    "XTest = replaceMissingValues(rawTestData, replacment)\n",
    "# score = kFoldCrossVal(XTrain, YTrain, classifierName)\n",
    "score = stratifiedKFoldVal(XTrain,YTrain,classifierName)\n",
    "print score\n",
    "#YPred = OneVsOneClassifier(LinearSVC(random_state=0)).fit(XTrain, YTrain).predict(XTest)\n",
    "# YPred = RandomForestClassifier(n_estimators=50).fit(XTrain, YTrain).predict(XTest)\n",
    "# YPred = svm.SVC(kernel='linear').fit(XTrain, YTrain).predict(XTest)\n",
    "# YPred = GaussianNB().fit(XTrain, YTrain).predict(XTest)\n",
    "YPred = KNeighborsClassifier(n_neighbors=3).fit(XTrain, YTrain).predict(XTest)\n",
    "\n",
    "writePrdictedLabelFile(YPred)"
   ]
  },
  {
   "cell_type": "code",
   "execution_count": 101,
   "metadata": {
    "collapsed": false
   },
   "outputs": [
    {
     "name": "stdout",
     "output_type": "stream",
     "text": [
      "[50.23466724783698, 61.5705479222932, 66.10564002904268, 69.17640978033066, 65.1900929681203, 67.4506561428955, 67.25683836716641, 52.92132641024856, 55.12775276109058, 62.70580108293308, 56.684602743321136, 53.042606059470174, 63.96424312775495, 67.75212865514831]\n",
      "[83.06184338146504, 83.60375828914924, 83.60304651429641, 83.04000804367664, 82.97157480367193, 84.45969060562733, 84.30198193452381, 82.97187921804301, 83.03881336713917, 82.09273748322371, 83.08485018401834, 82.3855811721118, 83.89568775935443, 83.78452208346606]\n",
      "[70.77730969231125, 77.93882849024808, 77.69052109030919, 75.93241455942969, 75.8199039738996, 77.96158085898871, 78.11903515184869, 73.00500846704959, 75.39174820782209, 75.09885241470433, 71.53680090895327, 69.55618774588807, 78.00619343989749, 77.3975508425083]\n",
      "[23.200947732194564, 24.171349360811668, 24.171349360811668, 24.171349360811668, 24.171349360811668, 24.171349360811668, 24.171349360811668, 24.171349360811668, 24.171349360811668, 24.171349360811668, 24.171349360811668, 24.171349360811668, 24.171349360811668, 24.171349360811668]\n",
      "[57.69649173514949, 69.80464824561007, 68.47523397544362, 70.59293824549218, 69.91662685803792, 75.95856743268156, 76.25151303382135, 62.904334870813045, 60.42469450683391, 70.14091161068681, 65.40840484055937, 59.7259891609336, 75.64274399448223, 75.48577145946668]\n",
      "[60.19838207252617, 81.35053623056274, 81.28294384418632, 79.92856415716433, 79.77050023078198, 83.92120938834807, 84.2364744336084, 67.18751227154105, 68.31829147033542, 77.64954155291913, 76.66050734456844, 69.15269510209785, 82.72497055055354, 83.15556932521113]\n"
     ]
    }
   ],
   "source": [
    "#print scoreOneVsRestClassifier\n",
    "print scoreOneVsOneClassifier\n",
    "#print scoreOutputCodeClassifier\n",
    "print scoreRandomForestClassifier\n",
    "print scoreGaussianNaiveBayesClassifier\n",
    "print scoreBernoulliNaiveBayesClassifier\n",
    "print scoreMultinomialNaiveBayesClassifier\n",
    "# print scoreMultiClassSVMClassifier\n",
    "print scoreKNNClassifier"
   ]
  },
  {
   "cell_type": "code",
   "execution_count": 102,
   "metadata": {
    "collapsed": false
   },
   "outputs": [
    {
     "data": {
      "image/png": "[encoded data removed]",
      "text/plain": [
       "<matplotlib.figure.Figure at 0x7f4a0d400a50>"
      ]
     },
     "metadata": {},
     "output_type": "display_data"
    }
   ],
   "source": [
    "import matplotlib.pyplot as plt\n",
    "%matplotlib inline\n",
    "#plt.plot(scoreOneVsRestClassifier, label = \"One Vs Rest Classifier\")\n",
    "plt.plot(scoreOneVsOneClassifier, label = \"One Vs One Classifier\")\n",
    "#plt.plot(scoreOutputCodeClassifier, label = \"Output Code Classifier\")\n",
    "plt.plot(scoreRandomForestClassifier, label = \"Random Forest Classifier\")\n",
    "plt.plot(scoreGaussianNaiveBayesClassifier, label = \"Gaussian Naive Bayes Classifier\")\n",
    "plt.plot(scoreBernoulliNaiveBayesClassifier, label = \"Bernoulli Naive Bayes Classifier\")\n",
    "plt.plot(scoreMultinomialNaiveBayesClassifier, label = \"Multinomial Naive Bayes Classifier\")\n",
    "# plt.plot(scoreMultiClassSVMClassifier, label = \"Multiclass Linear SVM Classifier\")\n",
    "plt.plot(scoreKNNClassifier, label = \"KNN Classifier\")\n",
    "\n",
    "labels = ['zeros', 'colmean', 'colmedian', 'rowmean', 'rowmedian', 'rowspectralmean', 'rowspectralmedian', \\\n",
    "          'colmin', 'colmax', 'rowmin', 'rowmax', 'mid','rowspectralmin','rowspectralmax']\n",
    "# You can specify a rotation for the tick labels in degrees or with keywords.\n",
    "plt.xticks(np.arange(14), labels, rotation='vertical')\n",
    "\n",
    "plt.ylabel('Scores')\n",
    "plt.xlabel('Pre-Processing method used')\n",
    "# Place a legend to the right of this smaller figure.\n",
    "plt.legend(bbox_to_anchor=(1.05, 1), loc=2, borderaxespad=0.)\n",
    "plt.show()"
   ]
  },
  {
   "cell_type": "code",
   "execution_count": 18,
   "metadata": {
    "collapsed": true
   },
   "outputs": [],
   "source": [
    "# writePrdictedLabelFile(YPred)"
   ]
  }
 ],
 "metadata": {
  "kernelspec": {
   "display_name": "Python 2",
   "language": "python",
   "name": "python2"
  },
  "language_info": {
   "codemirror_mode": {
    "name": "ipython",
    "version": 2
   },
   "file_extension": ".py",
   "mimetype": "text/x-python",
   "name": "python",
   "nbconvert_exporter": "python",
   "pygments_lexer": "ipython2",
   "version": "2.7.6"
  }
 },
 "nbformat": 4,
 "nbformat_minor": 0
}

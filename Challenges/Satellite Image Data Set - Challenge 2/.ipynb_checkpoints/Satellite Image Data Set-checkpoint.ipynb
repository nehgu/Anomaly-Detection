{
 "cells": [
  {
   "cell_type": "markdown",
   "metadata": {},
   "source": [
    "# Satellite Image Data Set"
   ]
  },
  {
   "cell_type": "markdown",
   "metadata": {},
   "source": [
    "## Data Preprocessing\n",
    "Missing Values - Replace by mean, Replace by Neighbourhood, Row-wise, Row Spectral Wise\n",
    "Use Multi-class SVM with different kernels, Multi Class Learning\n",
    "Stratified K-Fold validation for equal number of classes in each fold\n",
    "https://archive.ics.uci.edu/ml/datasets/Statlog+(Landsat+Satellite)"
   ]
  },
  {
   "cell_type": "markdown",
   "metadata": {},
   "source": [
    "## Read the input data"
   ]
  },
  {
   "cell_type": "code",
   "execution_count": 1,
   "metadata": {
    "collapsed": false
   },
   "outputs": [],
   "source": [
    "import numpy as np\n",
    "\n",
    "def readInputFiles():\n",
    "    rawTrainData = np.loadtxt('sat_noisy.trn',delimiter=',')\n",
    "    rawTestData = np.loadtxt('sat-test.csv.dat',delimiter=',')\n",
    "    # print rawTrainData.shape\n",
    "    # print rawTestData.shape\n",
    "    # print rawTrainData[0]\n",
    "    YTrain = rawTrainData[:,-1]\n",
    "    XTrain = rawTrainData[:,:-1]\n",
    "    XTrainRearranged = rearrangeInputData(XTrain,XTrain.shape[0])\n",
    "    XTestRearranged = rearrangeInputData(rawTestData,rawTestData.shape[0])\n",
    "    # print YTrain.shape\n",
    "    # print XTrain.shape\n",
    "#     print \"Train\",XTrain\n",
    "#     print \"Test\",Test\n",
    "    return XTrainRearranged, YTrain, XTestRearranged\n",
    " "
   ]
  },
  {
   "cell_type": "code",
   "execution_count": 2,
   "metadata": {
    "collapsed": false
   },
   "outputs": [],
   "source": [
    "def rearrangeInputData(XTemp,size):\n",
    "    XMod = []\n",
    "    for i in xrange(size):\n",
    "        X = XTemp[i]\n",
    "        temp = np.hsplit(X,9)\n",
    "        X1=[]\n",
    "        X2=[]\n",
    "        X3=[]\n",
    "        X4=[]\n",
    "        for i in xrange(9):\n",
    "            X1.append(temp[i][0])\n",
    "            X2.append(temp[i][1])\n",
    "            X3.append(temp[i][2])\n",
    "            X4.append(temp[i][3])\n",
    "        X = np.hstack((X1,X2,X3,X4))\n",
    "        XMod.append(X)\n",
    "    return np.array(XMod)\n",
    "# readInputFiles()"
   ]
  },
  {
   "cell_type": "markdown",
   "metadata": {},
   "source": [
    "## Handle Missing Values (NaN)"
   ]
  },
  {
   "cell_type": "code",
   "execution_count": 3,
   "metadata": {
    "collapsed": false
   },
   "outputs": [],
   "source": [
    "\n",
    "# Replacing NaN\n",
    "# Replace by column mean, by zero, row-wise, row spectral-wise\n",
    "import  scipy.stats as stats\n",
    "import numpy.ma as ma\n",
    "\n",
    "def replaceMissingValues(X, replacement):\n",
    "    func = None\n",
    "    if replacement == 'colmean':\n",
    "        func = stats.nanmean(X,axis=0)\n",
    "    elif replacement == 'colmedian':\n",
    "        func = stats.nanmedian(X,axis=0)\n",
    "#     elif replacement =='colmode':\n",
    "#         XMask = ma.masked_where(X == np.nan, a)\n",
    "#         func = stats.mstats.mode(XMask,axis=0)[0]\n",
    "    elif replacement =='zeros':\n",
    "        pass\n",
    "    elif replacement =='rowmean':\n",
    "        func = stats.nanmean(X,axis=1)\n",
    "    elif replacement =='rowmedian':\n",
    "        func = stats.nanmedian(X,axis=1)\n",
    "#     elif replacement =='rowmode':\n",
    "#         XMask = ma.masked_where(X == np.nan, a)\n",
    "#         func = stats.mstats.mode(XMask,axis=1)[0]\n",
    "    elif replacement =='rowspectralmean':\n",
    "        XSpectrum = np.hsplit(X,4)\n",
    "        XSpectrum1 = replaceMissingValues(XSpectrum[0], \"rowmean\")\n",
    "        XSpectrum2 = replaceMissingValues(XSpectrum[1], \"rowmean\")\n",
    "        XSpectrum3 = replaceMissingValues(XSpectrum[2], \"rowmean\")\n",
    "        XSpectrum4 = replaceMissingValues(XSpectrum[3], \"rowmean\")\n",
    "        func = np.hstack((XSpectrum1,XSpectrum2,XSpectrum3,XSpectrum4))\n",
    "    elif replacement =='rowspectralmedian':\n",
    "        XSpectrum = np.hsplit(X,4)\n",
    "        XSpectrum1 = replaceMissingValues(XSpectrum[0], \"rowmedian\")\n",
    "        XSpectrum2 = replaceMissingValues(XSpectrum[1], \"rowmedian\")\n",
    "        XSpectrum3 = replaceMissingValues(XSpectrum[2], \"rowmedian\")\n",
    "        XSpectrum4 = replaceMissingValues(XSpectrum[3], \"rowmedian\")\n",
    "        func = np.hstack((XSpectrum1,XSpectrum2,XSpectrum3,XSpectrum4))\n",
    "    elif replacement =='rowspectralmin':\n",
    "        XSpectrum = np.hsplit(X,4)\n",
    "        XSpectrum1 = replaceMissingValues(XSpectrum[0], \"rowmin\")\n",
    "        XSpectrum2 = replaceMissingValues(XSpectrum[1], \"rowmin\")\n",
    "        XSpectrum3 = replaceMissingValues(XSpectrum[2], \"rowmin\")\n",
    "        XSpectrum4 = replaceMissingValues(XSpectrum[3], \"rowmin\")\n",
    "        func = np.hstack((XSpectrum1,XSpectrum2,XSpectrum3,XSpectrum4))\n",
    "    elif replacement =='rowspectralmax':\n",
    "        XSpectrum = np.hsplit(X,4)\n",
    "        XSpectrum1 = replaceMissingValues(XSpectrum[0], \"rowmax\")\n",
    "        XSpectrum2 = replaceMissingValues(XSpectrum[1], \"rowmax\")\n",
    "        XSpectrum3 = replaceMissingValues(XSpectrum[2], \"rowmax\")\n",
    "        XSpectrum4 = replaceMissingValues(XSpectrum[3], \"rowmax\")\n",
    "        func = np.hstack((XSpectrum1,XSpectrum2,XSpectrum3,XSpectrum4))\n",
    "    elif replacement == 'colmin':\n",
    "        func = np.nanmin(X,axis=0)\n",
    "    elif replacement =='colmax':\n",
    "        func = np.nanmax(X,axis=0)\n",
    "    elif replacement == 'rowmin':\n",
    "        func = np.nanmin(X,axis=1)\n",
    "    elif replacement =='rowmax':\n",
    "        func = np.nanmax(X,axis=1)\n",
    "    elif replacement =='mid':\n",
    "        pass\n",
    "    \n",
    "    inds = np.where(np.isnan(X))\n",
    "    #X[inds]=np.take(func,inds[0])\n",
    "    \n",
    "    #print \"X before replace\", X[1][10]\n",
    "    \n",
    "    if replacement == 'colmean' or replacement == 'colmedian' or replacement == 'colmin' or replacement == 'colmax':\n",
    "        X[inds[0],inds[1]] = func[inds[1]]\n",
    "    elif replacement == 'rowmean' or replacement == 'rowmedian' or replacement =='rowmin' or replacement =='rowmax':\n",
    "        X[inds[0],inds[1]] = func[inds[0]]\n",
    "    elif replacement =='zeros':\n",
    "        X[inds[0],inds[1]]= 0\n",
    "    elif replacement =='mid':\n",
    "        X[inds[0],inds[1]]= 127\n",
    "        \n",
    "    #print \"X after replace\", X[1][10]    \n",
    "    #print \"inds\", (inds)\n",
    "    #print \"func\", repr(func)\n",
    "    return X"
   ]
  },
  {
   "cell_type": "code",
   "execution_count": 4,
   "metadata": {
    "collapsed": false
   },
   "outputs": [],
   "source": [
    "#Multi Class SVM\n",
    "from sklearn import svm\n",
    "from sklearn.svm import NuSVC\n",
    "def classifyMultiClassSVMClassifier(XTrain, XTest, YTrain, YTest):\n",
    "#     YPred = svm.LinearSVC().fit(XTrain, YTrain).predict(XTest)\n",
    "#     YPred = svm.NuSVC(nu=0.1).fit(XTrain, YTrain).predict(XTest)\n",
    "#     YPred = svm.SVC(decision_function_shape='ovo').fit(XTrain, YTrain).predict(XTest)\n",
    "#     YPred = svm.SVR().fit(XTrain, YTrain).predict(XTest)\n",
    "#     print \"0\"\n",
    "    YPred = svm.SVC(kernel='linear').fit(XTrain, YTrain).predict(XTest)\n",
    "    diff = YPred - YTest\n",
    "    score = diff[diff == 0].size\n",
    "#     print \"1\"\n",
    "    return (100.0 * score)/(YPred.size)"
   ]
  },
  {
   "cell_type": "markdown",
   "metadata": {},
   "source": [
    "Try <br>\n",
    "    K nearest neighbors <br>\n",
    "    Multi class SVM <br>\n",
    "    Multi class Perceptron <br>"
   ]
  },
  {
   "cell_type": "code",
   "execution_count": 5,
   "metadata": {
    "collapsed": true
   },
   "outputs": [],
   "source": [
    "from sklearn.multiclass import OneVsRestClassifier\n",
    "from sklearn.svm import LinearSVC\n",
    "def classifyOneVsRestClassifier(XTrain, XTest, YTrain, YTest):\n",
    "    YPred = OneVsRestClassifier(LinearSVC(random_state=0)).fit(XTrain, YTrain).predict(XTest)\n",
    "    diff = YPred - YTest\n",
    "    score = diff[diff == 0].size\n",
    "    return (100.0 * score)/(YPred.size)"
   ]
  },
  {
   "cell_type": "code",
   "execution_count": 6,
   "metadata": {
    "collapsed": true
   },
   "outputs": [],
   "source": [
    "from sklearn.multiclass import OneVsOneClassifier\n",
    "from sklearn.svm import LinearSVC\n",
    "def classifyOneVsOneClassifier(XTrain, XTest, YTrain, YTest):\n",
    "    YPred = OneVsOneClassifier(LinearSVC(random_state=0)).fit(XTrain, YTrain).predict(XTest)\n",
    "    diff = YPred - YTest\n",
    "    score = diff[diff == 0].size\n",
    "    return (100.0 * score)/(YPred.size)"
   ]
  },
  {
   "cell_type": "code",
   "execution_count": 7,
   "metadata": {
    "collapsed": true
   },
   "outputs": [],
   "source": [
    "from sklearn.multiclass import OutputCodeClassifier\n",
    "from sklearn.svm import LinearSVC\n",
    "def classifyOutputCodeClassifier(XTrain, XTest, YTrain, YTest):\n",
    "    clf = OutputCodeClassifier(LinearSVC(random_state=0),code_size=2, random_state=0)\n",
    "    YPred = clf.fit(XTrain, YTrain).predict(XTest)\n",
    "    diff = YPred - YTest\n",
    "    score = diff[diff == 0].size\n",
    "    return (100.0 * score)/(YPred.size)"
   ]
  },
  {
   "cell_type": "code",
   "execution_count": 8,
   "metadata": {
    "collapsed": true
   },
   "outputs": [],
   "source": [
    "from sklearn.ensemble import RandomForestClassifier\n",
    "def classifyRandomForestClassifier(XTrain, XTest, YTrain, YTest):\n",
    "    clf = RandomForestClassifier(n_estimators=10)\n",
    "    clf.fit(XTrain, YTrain)\n",
    "    YPred = clf.predict(XTest)\n",
    "    diff = YPred - YTest\n",
    "    score = diff[diff == 0].size\n",
    "    return (100.0 * score)/(YPred.size)"
   ]
  },
  {
   "cell_type": "code",
   "execution_count": 9,
   "metadata": {
    "collapsed": true
   },
   "outputs": [],
   "source": [
    "from sklearn.naive_bayes import GaussianNB\n",
    "def classifyGaussianNaiveBayesClassifier(XTrain, XTest, YTrain, YTest):\n",
    "    gnb = GaussianNB()\n",
    "    YPred = gnb.fit(XTrain, YTrain).predict(XTest)\n",
    "    diff = YPred - YTest\n",
    "    score = diff[diff == 0].size\n",
    "    return (100.0 * score)/(YPred.size)"
   ]
  },
  {
   "cell_type": "code",
   "execution_count": 10,
   "metadata": {
    "collapsed": true
   },
   "outputs": [],
   "source": [
    "from sklearn.naive_bayes import BernoulliNB\n",
    "def classifyBernoulliNaiveBayesClassifier(XTrain, XTest, YTrain, YTest):\n",
    "    bnb = BernoulliNB()\n",
    "    YPred = bnb.fit(XTrain, YTrain).predict(XTest)\n",
    "    diff = YPred - YTest\n",
    "    score = diff[diff == 0].size\n",
    "    return (100.0 * score)/(YPred.size)"
   ]
  },
  {
   "cell_type": "code",
   "execution_count": 11,
   "metadata": {
    "collapsed": true
   },
   "outputs": [],
   "source": [
    "from sklearn.naive_bayes import MultinomialNB\n",
    "def classifyMultinomialNaiveBayesClassifier(XTrain, XTest, YTrain, YTest):\n",
    "    mnb = MultinomialNB()\n",
    "    YPred = mnb.fit(XTrain, YTrain).predict(XTest)\n",
    "    diff = YPred - YTest\n",
    "    score = diff[diff == 0].size\n",
    "    return (100.0 * score)/(YPred.size)"
   ]
  },
  {
   "cell_type": "code",
   "execution_count": 12,
   "metadata": {
    "collapsed": false
   },
   "outputs": [],
   "source": [
    "from sklearn.cross_validation import KFold\n",
    "def kFoldCrossVal(XTrain, YTrain, classify):\n",
    "    n_folds=5\n",
    "    kf = KFold(4435, n_folds)\n",
    "    score = 0.0\n",
    "    for train, test in kf:\n",
    "        score += classify(XTrain[train,:], XTrain[test,:], YTrain[train], YTrain[test])\n",
    "\n",
    "    return score/n_folds"
   ]
  },
  {
   "cell_type": "code",
   "execution_count": 13,
   "metadata": {
    "collapsed": false
   },
   "outputs": [],
   "source": [
    "scoreOneVsRestClassifier = []\n",
    "scoreOneVsOneClassifier = []\n",
    "scoreOutputCodeClassifier = []\n",
    "scoreRandomForestClassifier = []\n",
    "scoreGaussianNaiveBayesClassifier = []\n",
    "scoreBernoulliNaiveBayesClassifier = []\n",
    "scoreMultinomialNaiveBayesClassifier = []\n",
    "scoreMultiClassSVMClassifier = []"
   ]
  },
  {
   "cell_type": "code",
   "execution_count": 14,
   "metadata": {
    "collapsed": true
   },
   "outputs": [],
   "source": [
    "def PreProcessClassificationScores(replacement):\n",
    "    # Replace missing values (NaN) with replacement\n",
    "    XTrain, YTrain, rawTestData = readInputFiles()\n",
    "    XTrain = replaceMissingValues(XTrain, replacement)\n",
    "    XTest = replaceMissingValues(rawTestData, replacement)\n",
    "    #score = kFoldCrossVal(XTrain, YTrain, classifyOneVsRestClassifier)\n",
    "    #print score\n",
    "    score1 = kFoldCrossVal(XTrain, YTrain, classifyOneVsOneClassifier)\n",
    "    print score1\n",
    "    #score2 = kFoldCrossVal(XTrain, YTrain, classifyOutputCodeClassifier)\n",
    "    #print score2\n",
    "    score3 = kFoldCrossVal(XTrain, YTrain, classifyRandomForestClassifier)\n",
    "    print score3\n",
    "    score4 = kFoldCrossVal(XTrain, YTrain, classifyGaussianNaiveBayesClassifier)\n",
    "    print score4\n",
    "    score5 = kFoldCrossVal(XTrain, YTrain, classifyBernoulliNaiveBayesClassifier)\n",
    "    print score5\n",
    "    score6 = kFoldCrossVal(XTrain, YTrain, classifyMultinomialNaiveBayesClassifier)\n",
    "    print score6\n",
    "    score7 = kFoldCrossVal(XTrain, YTrain, classifyMultiClassSVMClassifier)\n",
    "    print score7\n",
    "#     scoreOneVsRestClassifier.append(score)\n",
    "    scoreOneVsOneClassifier.append(score1)\n",
    "#     scoreOutputCodeClassifier.append(score2)\n",
    "    scoreRandomForestClassifier.append(score3)\n",
    "    scoreGaussianNaiveBayesClassifier.append(score4)\n",
    "    scoreBernoulliNaiveBayesClassifier.append(score5)\n",
    "    scoreMultinomialNaiveBayesClassifier.append(score6)\n",
    "    scoreMultiClassSVMClassifier.append(score7)"
   ]
  },
  {
   "cell_type": "code",
   "execution_count": null,
   "metadata": {
    "collapsed": false
   },
   "outputs": [],
   "source": [
    "# Replace missing values (NaN) with Zero\n",
    "# PreProcessClassificationScores('zeros')"
   ]
  },
  {
   "cell_type": "code",
   "execution_count": null,
   "metadata": {
    "collapsed": false
   },
   "outputs": [],
   "source": [
    "# XTrain, YTrain, rawTestData = readInputFiles()\n",
    "# replacement = 'colmean'\n",
    "# XTrain = replaceMissingValues(XTrain, replacement)\n",
    "# XTest = replaceMissingValues(rawTestData, replacement)\n",
    "# score7 = kFoldCrossVal(XTrain, YTrain, classifyMultiClassSVMClassifier)\n",
    "# print score7"
   ]
  },
  {
   "cell_type": "code",
   "execution_count": 15,
   "metadata": {
    "collapsed": false
   },
   "outputs": [
    {
     "name": "stdout",
     "output_type": "stream",
     "text": [
      "57.7452085682\n",
      "83.1792559188\n",
      "77.6324689966\n",
      "5.20856820744\n",
      "65.5918827508\n",
      "79.7519729425\n"
     ]
    }
   ],
   "source": [
    "# Replace missing values (NaN) with mean values for each column\n",
    "PreProcessClassificationScores('colmean')"
   ]
  },
  {
   "cell_type": "code",
   "execution_count": 16,
   "metadata": {
    "collapsed": false
   },
   "outputs": [
    {
     "name": "stdout",
     "output_type": "stream",
     "text": [
      "56.595264938\n",
      "82.3675310034\n",
      "77.6550169109\n",
      "5.20856820744\n",
      "64.9605411499\n",
      "79.7519729425\n"
     ]
    }
   ],
   "source": [
    "# Replace missing values (NaN) with median values for each column\n",
    "PreProcessClassificationScores('colmedian')"
   ]
  },
  {
   "cell_type": "code",
   "execution_count": 17,
   "metadata": {
    "collapsed": false
   },
   "outputs": [
    {
     "name": "stdout",
     "output_type": "stream",
     "text": [
      "59.5941375423\n",
      "82.6606538895\n",
      "76.2570462232\n",
      "5.20856820744\n",
      "66.9898534386\n",
      "79.7068771139\n"
     ]
    }
   ],
   "source": [
    "# Replace missing values (NaN) with mean values for each row\n",
    "PreProcessClassificationScores('rowmean')"
   ]
  },
  {
   "cell_type": "code",
   "execution_count": 18,
   "metadata": {
    "collapsed": false
   },
   "outputs": [
    {
     "name": "stdout",
     "output_type": "stream",
     "text": [
      "58.3314543405\n",
      "83.4498308906\n",
      "76.1894024803\n",
      "5.20856820744\n",
      "66.5839909808\n",
      "78.4216459977\n"
     ]
    }
   ],
   "source": [
    "# Replace missing values (NaN) with median values for each row\n",
    "PreProcessClassificationScores('rowmedian')"
   ]
  },
  {
   "cell_type": "code",
   "execution_count": 19,
   "metadata": {
    "collapsed": false
   },
   "outputs": [
    {
     "name": "stdout",
     "output_type": "stream",
     "text": [
      "64.6674182638\n",
      "83.833145434\n",
      "78.3089064262\n",
      "5.20856820744\n",
      "71.9729425028\n",
      "81.2175873732\n"
     ]
    }
   ],
   "source": [
    "# Replace missing values (NaN) with row spectral mean\n",
    "PreProcessClassificationScores('rowspectralmean')"
   ]
  },
  {
   "cell_type": "code",
   "execution_count": 20,
   "metadata": {
    "collapsed": false
   },
   "outputs": [
    {
     "name": "stdout",
     "output_type": "stream",
     "text": [
      "63.2919954904\n",
      "84.1939120631\n",
      "78.5343855693\n",
      "5.20856820744\n",
      "72.3562570462\n",
      "80.9470124014\n"
     ]
    }
   ],
   "source": [
    "# Replace missing values (NaN) with row spectral median\n",
    "PreProcessClassificationScores('rowspectralmedian')"
   ]
  },
  {
   "cell_type": "code",
   "execution_count": null,
   "metadata": {
    "collapsed": false
   },
   "outputs": [],
   "source": [
    "# Replace missing values (NaN) with min value for each row\n",
    "# PreProcessClassificationScores('colmin')"
   ]
  },
  {
   "cell_type": "code",
   "execution_count": null,
   "metadata": {
    "collapsed": false
   },
   "outputs": [
    {
     "name": "stdout",
     "output_type": "stream",
     "text": [
      "48.5907553551\n",
      "82.0969560316\n",
      "74.4532130778\n",
      "5.20856820744\n",
      "56.5501691094"
     ]
    }
   ],
   "source": [
    "# Replace missing values (NaN) with min value for each row\n",
    "# PreProcessClassificationScores('colmax')"
   ]
  },
  {
   "cell_type": "code",
   "execution_count": 22,
   "metadata": {
    "collapsed": false
   },
   "outputs": [
    {
     "name": "stdout",
     "output_type": "stream",
     "text": [
      "57.9932356257\n",
      "81.7812852311\n",
      "75.6257046223\n",
      "5.20856820744\n",
      "66.0653889515\n",
      "78.6020293123\n"
     ]
    }
   ],
   "source": [
    "# Replace missing values (NaN) with min value for each row\n",
    "PreProcessClassificationScores('rowmin')"
   ]
  },
  {
   "cell_type": "code",
   "execution_count": null,
   "metadata": {
    "collapsed": false
   },
   "outputs": [
    {
     "name": "stdout",
     "output_type": "stream",
     "text": [
      "57.6099210823\n",
      "82.2773393461\n",
      "72.266065389\n",
      "5.20856820744"
     ]
    }
   ],
   "source": [
    "# Replace missing values (NaN) with max value for each row\n",
    "# PreProcessClassificationScores('rowmax')"
   ]
  },
  {
   "cell_type": "code",
   "execution_count": null,
   "metadata": {
    "collapsed": false
   },
   "outputs": [
    {
     "name": "stdout",
     "output_type": "stream",
     "text": [
      "44.6448703495\n",
      "81.8038331454\n",
      "68.8613303269\n",
      "5.20856820744"
     ]
    }
   ],
   "source": [
    "# Replace missing values (NaN) with 127\n",
    "PreProcessClassificationScores('mid')"
   ]
  },
  {
   "cell_type": "code",
   "execution_count": 20,
   "metadata": {
    "collapsed": false
   },
   "outputs": [
    {
     "name": "stdout",
     "output_type": "stream",
     "text": [
      "69.1995490417\n",
      "84.1713641488\n",
      "77.9932356257\n",
      "5.20856820744\n",
      "71.7249154453\n",
      "81.1724915445\n"
     ]
    }
   ],
   "source": [
    "# Replace missing values (NaN) with row spectral min\n",
    "PreProcessClassificationScores('rowspectralmin')"
   ]
  },
  {
   "cell_type": "code",
   "execution_count": 21,
   "metadata": {
    "collapsed": false
   },
   "outputs": [
    {
     "name": "stdout",
     "output_type": "stream",
     "text": [
      "75.7384441939\n",
      "83.2919954904\n",
      "77.4746335964\n",
      "5.20856820744\n",
      "70.8906426156\n",
      "80.7440811725\n"
     ]
    }
   ],
   "source": [
    "# Replace missing values (NaN) with row spectral max\n",
    "PreProcessClassificationScores('rowspectralmax')"
   ]
  },
  {
   "cell_type": "code",
   "execution_count": 17,
   "metadata": {
    "collapsed": false
   },
   "outputs": [],
   "source": [
    "def writePrdictedLabelFile(YPred):\n",
    "    f = open(\"Predictions.csv\",\"w\")\n",
    "    f.write(\"Id,Prediction\" + \"\\n\")\n",
    "\n",
    "    for i in xrange(len(YPred)):\n",
    "        f.write(str(i+1) + \",\" + str(int(YPred[i]))+ \"\\n\")\n",
    "    \n",
    "    f.close()"
   ]
  },
  {
   "cell_type": "code",
   "execution_count": 19,
   "metadata": {
    "collapsed": false
   },
   "outputs": [
    {
     "name": "stdout",
     "output_type": "stream",
     "text": [
      "80.9470124014\n"
     ]
    }
   ],
   "source": [
    "replacment = 'rowspectralmin'\n",
    "# classifierName = classifyGaussianNaiveBayesClassifier\n",
    "# classifierName = classifyRandomForestClassifier\n",
    "classifierName = classifyMultiClassSVMClassifier\n",
    "XTrain, YTrain, rawTestData = readInputFiles()\n",
    "XTrain = replaceMissingValues(XTrain, replacment)\n",
    "XTest = replaceMissingValues(rawTestData, replacment)\n",
    "score = kFoldCrossVal(XTrain, YTrain, classifierName)\n",
    "print score\n",
    "#YPred = OneVsOneClassifier(LinearSVC(random_state=0)).fit(XTrain, YTrain).predict(XTest)\n",
    "# YPred = RandomForestClassifier(n_estimators=50).fit(XTrain, YTrain).predict(XTest)\n",
    "YPred = svm.SVC(kernel='linear').fit(XTrain, YTrain).predict(XTest)\n",
    "# YPred = GaussianNB().fit(XTrain, YTrain).predict(XTest)\n",
    "\n",
    "writePrdictedLabelFile(YPred)"
   ]
  },
  {
   "cell_type": "code",
   "execution_count": null,
   "metadata": {
    "collapsed": false
   },
   "outputs": [],
   "source": [
    "#print scoreOneVsRestClassifier\n",
    "print scoreOneVsOneClassifier\n",
    "#print scoreOutputCodeClassifier\n",
    "print scoreRandomForestClassifier\n",
    "print scoreGaussianNaiveBayesClassifier\n",
    "print scoreBernoulliNaiveBayesClassifier\n",
    "print scoreMultinomialNaiveBayesClassifier\n",
    "print scoreMultiClassSVMClassifier"
   ]
  },
  {
   "cell_type": "code",
   "execution_count": null,
   "metadata": {
    "collapsed": false
   },
   "outputs": [],
   "source": [
    "import matplotlib.pyplot as plt\n",
    "# %matplotlib inline\n",
    "#plt.plot(scoreOneVsRestClassifier, label = \"One Vs Rest Classifier\")\n",
    "plt.plot(scoreOneVsOneClassifier, label = \"One Vs One Classifier\")\n",
    "#plt.plot(scoreOutputCodeClassifier, label = \"Output Code Classifier\")\n",
    "plt.plot(scoreRandomForestClassifier, label = \"Random Forest Classifier\")\n",
    "plt.plot(scoreGaussianNaiveBayesClassifier, label = \"Gaussian Naive Bayes Classifier\")\n",
    "plt.plot(scoreBernoulliNaiveBayesClassifier, label = \"Bernoulli Naive Bayes Classifier\")\n",
    "plt.plot(scoreMultinomialNaiveBayesClassifier, label = \"Multinomial Naive Bayes Classifier\")\n",
    "plt.plot(scoreMultiClassSVMClassifier, label = \"Multiclass Linear SVM Classifier\")\n",
    "\n",
    "labels = ['zeros', 'colmean', 'colmedian', 'rowmean', 'rowmedian', 'rowspectralmean', 'rowspectralmedian', \\\n",
    "          'colmin', 'colmax', 'rowmin', 'rowmax', 'mid','rowspectralmin','rowspectralmax']\n",
    "# You can specify a rotation for the tick labels in degrees or with keywords.\n",
    "plt.xticks(np.arange(14), labels, rotation='vertical')\n",
    "\n",
    "plt.ylabel('Scores')\n",
    "plt.xlabel('Pre-Processing method used')\n",
    "# Place a legend to the right of this smaller figure.\n",
    "plt.legend(bbox_to_anchor=(1.05, 1), loc=2, borderaxespad=0.)\n",
    "plt.show()"
   ]
  },
  {
   "cell_type": "code",
   "execution_count": 18,
   "metadata": {
    "collapsed": true
   },
   "outputs": [],
   "source": [
    "# writePrdictedLabelFile(YPred)"
   ]
  }
 ],
 "metadata": {
  "kernelspec": {
   "display_name": "Python 2",
   "language": "python",
   "name": "python2"
  },
  "language_info": {
   "codemirror_mode": {
    "name": "ipython",
    "version": 2
   },
   "file_extension": ".py",
   "mimetype": "text/x-python",
   "name": "python",
   "nbconvert_exporter": "python",
   "pygments_lexer": "ipython2",
   "version": "2.7.6"
  }
 },
 "nbformat": 4,
 "nbformat_minor": 0
}

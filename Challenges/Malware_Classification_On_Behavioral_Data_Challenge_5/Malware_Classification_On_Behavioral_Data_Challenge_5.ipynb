{
 "cells": [
  {
   "cell_type": "markdown",
   "metadata": {},
   "source": [
    "## Malware Classification on Behavioral Data Challenge 5 "
   ]
  },
  {
   "cell_type": "markdown",
   "metadata": {},
   "source": [
    "### Read the input data files."
   ]
  },
  {
   "cell_type": "code",
   "execution_count": 1,
   "metadata": {
    "collapsed": false
   },
   "outputs": [
    {
     "name": "stdout",
     "output_type": "stream",
     "text": [
      "['0' '10']\n",
      "(2042,)\n",
      "<type 'numpy.int64'> 10 (2042,)\n"
     ]
    }
   ],
   "source": [
    "import numpy as np\n",
    "import os\n",
    "XTrain = np.loadtxt('training_data.csv', skiprows=1, usecols=(0,1), delimiter=',', dtype='str')\n",
    "print XTrain[0]\n",
    "# XTest = np.loadtxt('test_data_public_new.csv', skiprows=1, usecols=(1,), delimiter=',',dtype='str')\n",
    "# print XTest[0]\n",
    "YTrain = XTrain[:,-1]\n",
    "XTrain = XTrain[:,0]\n",
    "print XTrain.shape\n",
    "YTrain = YTrain.astype(np.int)\n",
    "# YTrain = YTrain.reshape(-1,1)\n",
    "print type(YTrain[0]),YTrain[0],YTrain.shape\n",
    "# print XTest.shape"
   ]
  },
  {
   "cell_type": "code",
   "execution_count": 2,
   "metadata": {
    "collapsed": false
   },
   "outputs": [
    {
     "name": "stdout",
     "output_type": "stream",
     "text": [
      "['0' '1' '2' ..., '2039' '2040' '2041'] [10 10 10 ..., 10  5 10]\n"
     ]
    }
   ],
   "source": [
    "print XTrain, YTrain"
   ]
  },
  {
   "cell_type": "code",
   "execution_count": 3,
   "metadata": {
    "collapsed": true
   },
   "outputs": [],
   "source": [
    "def readInputFile(inputFile):\n",
    "    with open(inputFile,'r') as f:\n",
    "        fileContent = f.readlines()\n",
    "        f = [i.strip('\\n') for i in fileContent]\n",
    "        return ' '.join(f)"
   ]
  },
  {
   "cell_type": "code",
   "execution_count": 4,
   "metadata": {
    "collapsed": true
   },
   "outputs": [],
   "source": [
    "def readFolder(folder, fileNames):\n",
    "    path = folder\n",
    "    folderContents = []\n",
    "    for f in fileNames:\n",
    "        folderContents.append(readInputFile(os.path.join(folder, f+'.txt')))\n",
    "    return folderContents"
   ]
  },
  {
   "cell_type": "code",
   "execution_count": 5,
   "metadata": {
    "collapsed": false
   },
   "outputs": [
    {
     "name": "stdout",
     "output_type": "stream",
     "text": [
      "2042 ['FlsAlloc FlsFree FlsGetValue FlsSetValue InitializeCriticalSectionEx CreateSemaphoreExW SetThreadStackGuarantee CreateThreadpoolTimer SetThreadpoolTimer WaitForThreadpoolTimerCallbacks CloseThreadpoolTimer CreateThreadpoolWait SetThreadpoolWait CloseThreadpoolWait FlushProcessWriteBuffers FreeLibraryWhenCallbackReturns GetCurrentProcessorNumber GetLogicalProcessorInformation CreateSymbolicLinkW SetDefaultDllDirectories EnumSystemLocalesEx CompareStringEx GetDateFormatEx GetLocaleInfoEx GetTimeFormatEx GetUserDefaultLocaleName IsValidLocaleName LCMapStringEx GetCurrentPackageId GetUserNameExA SHGetFolderPathA GetDiskFreeSpaceExA WSALookupServiceBeginW WSALookupServiceEnd WSALookupServiceNextW WSANSPIoctl getaddrinfo freeaddrinfo getnameinfo RasDialW RasHangUpW RasEnumEntriesW RasGetEntryDialParamsW RasSetEntryDialParamsW RasEditPhonebookEntryW RasCreatePhonebookEntryW RasGetErrorStringW RasGetConnectStatusW RasEnumConnectionsW RasGetEntryPropertiesW RasGetCredentialsW RasSetCredentialsW RasGetAutodialAddressA RasSetAutodialAddressA TraceRegisterExA TraceDeregisterA TraceDeregisterExA TracePrintfA TracePrintfExA TraceDumpExA RasPortClearStatistics RasBundleClearStatistics RasBundleClearStatisticsEx RasDeviceEnum RasDeviceGetInfo RasFreeBuffer RasGetBuffer RasGetInfo RasGetNdiswanDriverCaps RasInitialize RasInitializeNoWait RasPortCancelReceive RasPortEnum RasPortGetInfo RasPortGetFramingEx RasPortGetStatistics RasBundleGetStatistics RasPortGetStatisticsEx RasBundleGetStatisticsEx RasPortReceive RasPortReceiveEx RasPortSend RasPortGetBundle RasGetDevConfig RasGetDevConfigEx RasSetDevConfig RasPortClose RasPortListen RasPortConnectComplete RasPortDisconnect RasRequestNotification RasPortEnumProtocols RasPortSetFraming RasPortSetFramingEx RasSetCachedCredentials RasGetDialParams RasSetDialParams RasCreateConnection RasDestroyConnection RasConnectionEnum RasAddConnectionPort RasEnumConnectionPorts RasGetConnectionParams RasSetConnectionParams RasGetConnectionUserData RasSetConnectionUserData RasGetPortUserData RasSetPortUserData RasAddNotification RasSignalNewConnection RasPppStop RasPppCallback RasPppChangePassword RasPppGetInfo RasPppRetry RasPppStart RasPortOpen RasPortRegisterSlip RasAllocateRoute RasActivateRoute RasActivateRouteEx RasDeviceSetInfo RasDeviceConnect RasPortSetInfo RasSetIoCompletionPort RasSendPppMessageToRasman RasSetRasdialInfo RasRpcConnect RasRpcDisconnect RasGetNumPortOpen RasRefConnection RasPppSetEapInfo RasPppGetEapInfo RasFindPrerequisiteEntry RasPortOpenEx RasLinkGetStatistics RasConnectionGetStatistics RasGetHportFromConnection RasRPCBind RasReferenceCustomCount RasGetHConnFromEntry RasGetDeviceName RasEnableIpSec RasIsIpSecEnabled RasGetEapUserInfo RasSetEapUserInfo RasSetEapLogonInfo RasStartRasAutoIfRequired RasGetNapState RasStartPPPRenegotiation InitSecurityInterfaceW SpUserModeInitialize IsNetworkAlive RtlConvertSidToUnicodeString SHGetFolderPathW ExpandEnvironmentStringsForUserW DsGetDcNameW DsGetSiteNameW DsRoleGetPrimaryDomainInformation DsRoleFreeMemory NetApiBufferFree NetUserGetGroups NetUserGetInfo PathCanonicalizeW PathRemoveFileSpecW CoInternetCreateSecurityManager CoInternetCreateZoneManager CoInternetIsFeatureEnabledForUrl IsHostInProxyBypassList', 'FlsAlloc FlsGetValue FlsSetValue FlsFree EncodePointer EncodePointer EncodePointer EncodePointer EncodePointer EncodePointer EncodePointer DecodePointer InitializeCriticalSectionAndSpinCount EncodePointer DecodePointer DecodePointer DecodePointer DecodePointer DecodePointer DecodePointer DecodePointer DecodePointer DecodePointer DecodePointer DecodePointer DecodePointer DecodePointer DecodePointer DecodePointer EncodePointer DecodePointer IsProcessorFeaturePresent CoGetMalloc CreateBindCtx CoTaskMemAlloc CoTaskMemFree GetUserDefaultUILanguage ImageList_Create ImageList_SetBkColor ImageList_GetImageCount ImageList_ReplaceIcon ImageList_SetOverlayImage CoInitializeEx ApphelpCheckShellObject CoCreateInstance GetCatalogObject GetCatalogObject2 CLSIDFromOle1Class InitializeCriticalSectionAndSpinCount DllGetClassObject DllCanUnloadNow CoUninitialize CoTaskMemFree CM_Get_Device_Interface_List_Size_ExW CM_Get_Device_Interface_List_ExW ImageList_GetIcon EncodePointer DecodePointer DecodePointer DecodePointer TrackMouseEvent']\n",
      "706 ['FlsAlloc FlsGetValue FlsSetValue FlsFree EncodePointer EncodePointer EncodePointer EncodePointer EncodePointer EncodePointer EncodePointer DecodePointer DecodePointer EncodePointer DecodePointer GetAdaptersInfo FlsAlloc FlsFree FlsGetValue FlsSetValue InitializeCriticalSectionEx CreateSemaphoreExW SetThreadStackGuarantee CreateThreadpoolTimer SetThreadpoolTimer WaitForThreadpoolTimerCallbacks CloseThreadpoolTimer CreateThreadpoolWait SetThreadpoolWait CloseThreadpoolWait FlushProcessWriteBuffers FreeLibraryWhenCallbackReturns GetCurrentProcessorNumber GetLogicalProcessorInformation CreateSymbolicLinkW SetDefaultDllDirectories EnumSystemLocalesEx CompareStringEx GetDateFormatEx GetLocaleInfoEx GetTimeFormatEx GetUserDefaultLocaleName IsValidLocaleName LCMapStringEx GetCurrentPackageId SamConnect SamGetCompatibilityMode SamEnumerateDomainsInSamServer SamLookupDomainInSamServer SamFreeMemory SamOpenDomain SamEnumerateUsersInDomain SamCloseHandle GetUserProfileDirectoryW SamLookupNamesInDomain SamOpenUser SamQueryInformationUser SamQuerySecurityObject SamGetGroupsForUser SamRidToSid SamGetAliasMembership ExtractVersionResource16W ExtractVersionResource16W ExtractVersionResource16W ExtractVersionResource16W ExtractVersionResource16W ExtractVersionResource16W ExtractVersionResource16W ExtractVersionResource16W ExtractVersionResource16W ExtractVersionResource16W ExtractVersionResource16W ExtractVersionResource16W ExtractVersionResource16W ExtractVersionResource16W ExtractVersionResource16W ExtractVersionResource16W ExtractVersionResource16W ExtractVersionResource16W ExtractVersionResource16W ExtractVersionResource16W ExtractVersionResource16W ExtractVersionResource16W ExtractVersionResource16W ExtractVersionResource16W CoCreateInstanceEx NlsGetCacheUpdateCount RegDeleteKeyExW ReleaseActCtx ReleaseActCtx', 'GetCatalogObject GetCatalogObject2 CLSIDFromOle1Class InitializeCriticalSectionAndSpinCount CoCreateInstanceEx SxsOleAut32MapConfiguredClsidToReferenceClsid DllGetClassObject DllCanUnloadNow GetUserDefaultUILanguage CLSIDFromProgIDEx DllGetClassObject DllCanUnloadNow SxsOleAut32RedirectTypeLibrary DllGetClassObject DllCanUnloadNow CreateErrorInfo GetErrorInfo SetErrorInfo ShellExecuteExW CoInitializeEx NetGetJoinInformation NetApiBufferFree CreateBindCtx CoGetMalloc CoTaskMemAlloc CoTaskMemFree CoTaskMemFree CM_Get_Device_Interface_List_Size_ExW CM_Get_Device_Interface_List_ExW CoUninitialize CoGetClassObject DllGetClassObject DllCanUnloadNow GetUserNameExA GetLongPathNameW SHGetFolderPathW GetProfileType GetUserDefaultUILanguage GetFileVersionInfoSizeW GetUserDefaultUILanguage DecodePointer DecodePointer EncodePointer DecodePointer DecodePointer DecodePointer EncodePointer DecodePointer RegOpenKeyExW RegQueryInfoKeyW RegEnumKeyExW RegEnumValueW RegCloseKey RegQueryValueExW RegQueryValueExW RegisterShimImplCallback RegisterShimImplCleanupCallback SetShellShimInstance OnShimDllMainCalled _CorExeMain_RetAddr _CorExeMain UrlIsW RegQueryInfoKeyW RegEnumValueW GetUserDefaultUILanguage LoadStringW GetProcessWindowStation GetUserObjectInformationW MessageBoxW']\n"
     ]
    }
   ],
   "source": [
    "trainSamples = readFolder(os.getcwd()+os.sep+'train', XTrain)\n",
    "print len(trainSamples), trainSamples[:2]\n",
    "XTest = [str(i) for i in range(706)]\n",
    "testSamples = readFolder(os.getcwd()+os.sep+'test', XTest)\n",
    "print len(testSamples), testSamples[:2]"
   ]
  },
  {
   "cell_type": "code",
   "execution_count": 6,
   "metadata": {
    "collapsed": false
   },
   "outputs": [
    {
     "name": "stdout",
     "output_type": "stream",
     "text": [
      "257\n"
     ]
    }
   ],
   "source": [
    "# for item in trainFolder:\n",
    "count = 0\n",
    "indices = []\n",
    "for i in xrange(len(trainSamples)):\n",
    "    if trainSamples[i]=='':\n",
    "        indices.append(i)\n",
    "        \n",
    "print len(indices)"
   ]
  },
  {
   "cell_type": "code",
   "execution_count": 7,
   "metadata": {
    "collapsed": false
   },
   "outputs": [
    {
     "name": "stdout",
     "output_type": "stream",
     "text": [
      "5 10\n",
      "7 10\n",
      "25 10\n",
      "31 10\n",
      "37 10\n",
      "42 10\n",
      "45 10\n",
      "48 10\n",
      "64 10\n",
      "97 10\n",
      "101 10\n",
      "103 10\n",
      "114 10\n",
      "115 10\n",
      "116 10\n",
      "143 10\n",
      "149 10\n",
      "153 10\n",
      "169 10\n",
      "170 5\n",
      "201 10\n",
      "210 10\n",
      "217 10\n",
      "223 10\n",
      "227 10\n",
      "232 10\n",
      "236 10\n",
      "255 10\n",
      "264 2\n",
      "277 10\n",
      "278 10\n",
      "280 10\n",
      "307 10\n",
      "308 10\n",
      "317 10\n",
      "333 10\n",
      "336 10\n",
      "340 10\n",
      "341 10\n",
      "347 10\n",
      "367 10\n",
      "383 10\n",
      "384 10\n",
      "387 10\n",
      "388 10\n",
      "389 10\n",
      "405 10\n",
      "424 10\n",
      "437 10\n",
      "449 10\n",
      "450 10\n",
      "453 10\n",
      "456 10\n",
      "464 10\n",
      "479 3\n",
      "505 10\n",
      "511 10\n",
      "514 10\n",
      "534 10\n",
      "535 10\n",
      "541 10\n",
      "553 10\n",
      "562 10\n",
      "565 10\n",
      "566 10\n",
      "573 10\n",
      "596 10\n",
      "601 10\n",
      "623 10\n",
      "628 10\n",
      "629 10\n",
      "634 10\n",
      "654 10\n",
      "658 3\n",
      "663 10\n",
      "666 10\n",
      "669 10\n",
      "670 10\n",
      "678 10\n",
      "698 10\n",
      "708 10\n",
      "715 10\n",
      "736 10\n",
      "740 10\n",
      "777 10\n",
      "782 10\n",
      "793 2\n",
      "804 10\n",
      "809 10\n",
      "835 10\n",
      "846 10\n",
      "849 10\n",
      "860 10\n",
      "877 10\n",
      "878 10\n",
      "888 10\n",
      "898 10\n",
      "899 5\n",
      "908 10\n",
      "914 10\n",
      "927 10\n",
      "933 10\n",
      "936 2\n",
      "937 10\n",
      "957 10\n",
      "959 10\n",
      "961 10\n",
      "963 10\n",
      "967 10\n",
      "993 10\n",
      "997 10\n",
      "1008 10\n",
      "1021 10\n",
      "1026 10\n",
      "1027 10\n",
      "1029 10\n",
      "1034 10\n",
      "1037 10\n",
      "1058 10\n",
      "1060 10\n",
      "1070 5\n",
      "1072 10\n",
      "1075 7\n",
      "1077 4\n",
      "1084 10\n",
      "1086 10\n",
      "1088 10\n",
      "1092 10\n",
      "1094 10\n",
      "1100 10\n",
      "1101 10\n",
      "1104 10\n",
      "1105 10\n",
      "1128 10\n",
      "1129 3\n",
      "1157 9\n",
      "1158 10\n",
      "1173 10\n",
      "1179 10\n",
      "1182 10\n",
      "1185 10\n",
      "1213 10\n",
      "1217 5\n",
      "1219 10\n",
      "1226 10\n",
      "1228 10\n",
      "1233 10\n",
      "1234 10\n",
      "1256 10\n",
      "1263 10\n",
      "1273 10\n",
      "1275 10\n",
      "1280 10\n",
      "1288 10\n",
      "1295 10\n",
      "1298 10\n",
      "1300 10\n",
      "1318 10\n",
      "1322 10\n",
      "1331 10\n",
      "1332 10\n",
      "1345 10\n",
      "1355 10\n",
      "1356 10\n",
      "1357 10\n",
      "1377 10\n",
      "1388 10\n",
      "1404 10\n",
      "1423 10\n",
      "1425 10\n",
      "1440 10\n",
      "1441 10\n",
      "1467 5\n",
      "1475 10\n",
      "1476 10\n",
      "1477 10\n",
      "1488 9\n",
      "1493 10\n",
      "1494 10\n",
      "1500 10\n",
      "1508 10\n",
      "1512 10\n",
      "1524 10\n",
      "1530 10\n",
      "1539 10\n",
      "1543 10\n",
      "1555 10\n",
      "1556 10\n",
      "1557 10\n",
      "1564 10\n",
      "1585 10\n",
      "1605 10\n",
      "1608 10\n",
      "1611 10\n",
      "1616 10\n",
      "1622 10\n",
      "1623 10\n",
      "1627 10\n",
      "1643 10\n",
      "1648 10\n",
      "1658 10\n",
      "1660 10\n",
      "1674 10\n",
      "1682 10\n",
      "1690 10\n",
      "1708 10\n",
      "1712 10\n",
      "1718 10\n",
      "1721 10\n",
      "1723 4\n",
      "1725 10\n",
      "1726 10\n",
      "1731 10\n",
      "1734 10\n",
      "1740 10\n",
      "1749 10\n",
      "1754 10\n",
      "1755 10\n",
      "1760 10\n",
      "1766 10\n",
      "1788 10\n",
      "1789 7\n",
      "1791 10\n",
      "1792 10\n",
      "1793 10\n",
      "1797 10\n",
      "1799 10\n",
      "1818 5\n",
      "1824 10\n",
      "1826 2\n",
      "1827 4\n",
      "1834 10\n",
      "1838 10\n",
      "1870 10\n",
      "1879 10\n",
      "1881 10\n",
      "1882 10\n",
      "1883 10\n",
      "1884 10\n",
      "1899 10\n",
      "1909 10\n",
      "1916 4\n",
      "1934 10\n",
      "1938 10\n",
      "1952 10\n",
      "1953 10\n",
      "1970 10\n",
      "1988 10\n",
      "1989 5\n",
      "1992 10\n",
      "1994 10\n",
      "2015 5\n",
      "2025 10\n",
      "2030 9\n",
      "2032 10\n",
      "2033 10\n",
      "2036 10\n"
     ]
    }
   ],
   "source": [
    "for i in indices:\n",
    "    print i,YTrain[i]"
   ]
  },
  {
   "cell_type": "markdown",
   "metadata": {},
   "source": [
    "### Check Missing Test Cases from Challenge 3"
   ]
  },
  {
   "cell_type": "code",
   "execution_count": 8,
   "metadata": {
    "collapsed": false
   },
   "outputs": [
    {
     "name": "stdout",
     "output_type": "stream",
     "text": [
      "[['69' '94af7ecc940f3f2e0bec2e1e920193a9']\n",
      " ['364' 'e29f3b970b8487e06dd321c48f015493']\n",
      " ['661' '4f449201ecb529ff71a321d6d41d626e']\n",
      " ['33' '0231aebb8155fd069d17eab6a679cc1e']\n",
      " ['104' '8184fedd04e1b3642a77ac96298877c9']\n",
      " ['508' '3cdd0fb587ca6c28c891ff4c75cfe06c']\n",
      " ['521' '016b512e068383a7800166ce945bfb4e']\n",
      " ['179' 'b531346046175207d3b6f326b672d3f8']\n",
      " ['518' '8ada2473ff702a617facc11d6b1ee8ff']\n",
      " ['413' 'e15d7135b0ee671539d100600905bea6']\n",
      " ['398' 'f2a28a9059a7e9884c5f6c46ae5a98f4']\n",
      " ['396' '031b79d4410b3a924803fc46e06bd945']\n",
      " ['279' 'a1aba44b004024083d592e4310469fb1']\n",
      " ['76' '294725ae35ecfb4f5e0d29239213c2c7']\n",
      " ['130' '4fded173211150d51dd97a36ec9797c9']\n",
      " ['452' 'c95ce84ed7dbf6bf3d68b2669d10d2a2']\n",
      " ['298' 'f25de5a9c41c04e8a29b9c6617e628b0']\n",
      " ['606' '00a5b00e9702871aced2b91134c298a1']\n",
      " ['445' '0494d448cc476652b08879486bff7634']\n",
      " ['107' 'd7980d1fb080e8831301fb303a2bc5a6']\n",
      " ['29' 'c67562a02c791c793df0bccf7ffaaf98']\n",
      " ['489' '06258bf3b56c9c46c6b38c64820a11dc']\n",
      " ['316' '637d40585d5225df5b47465c13f4a636']\n",
      " ['280' '6bdfd87e94df7763f26bcce3485fd702']\n",
      " ['126' '0614f6a2c6853e2c06da01a213ed8458']\n",
      " ['109' '372f1c5c378cc2b6a45ec16af441c570']\n",
      " ['531' '0146dc784d2b5f2b819e82468f9e388a']\n",
      " ['244' '0015d7459d4965b83826808d0a47d1ab']\n",
      " ['46' '08754896596057aa06ccd4eb4b393ce1']\n",
      " ['599' 'ca5d15a7dbf3afa8ff6e3d0cfbd3f24e']]\n",
      "['0' '01a5b8cfafffa0537ad2d3c44f7c2aed'] ['0' '78fcb009e022b2dbc71ac8fb64f8f135' '10'] ['0' '7']\n"
     ]
    }
   ],
   "source": [
    "predictionsC3 = os.getcwd()+os.sep+'C3_Predictions.csv'\n",
    "trainC3 = os.getcwd()+os.sep+'training_data_C3.csv'\n",
    "testC3 = os.getcwd()+os.sep+'test_data_public_C3.csv'\n",
    "missingTest = os.getcwd()+os.sep+'test_data_missing_cuckoo.txt'\n",
    "XTestMissing = np.loadtxt(missingTest, usecols=(0,1), delimiter=',', dtype='str')\n",
    "XTrainC3 = np.loadtxt(trainC3, skiprows=1, usecols=(0,1,2), delimiter=',', dtype='str')\n",
    "XTestC3 = np.loadtxt(testC3, skiprows=1, usecols=(0,1), delimiter=',', dtype='str')\n",
    "PredictionsC3 = np.loadtxt(predictionsC3, skiprows=1, usecols=(0,1), delimiter=',', dtype='str')\n",
    "print XTestMissing\n",
    "print XTestC3[0], XTrainC3[0], PredictionsC3[0]"
   ]
  },
  {
   "cell_type": "code",
   "execution_count": 9,
   "metadata": {
    "collapsed": false
   },
   "outputs": [
    {
     "name": "stdout",
     "output_type": "stream",
     "text": [
      "{'0146dc784d2b5f2b819e82468f9e388a': (531, -1), 'd7980d1fb080e8831301fb303a2bc5a6': (107, -1), '00a5b00e9702871aced2b91134c298a1': (606, 10), '031b79d4410b3a924803fc46e06bd945': (396, 2), '0494d448cc476652b08879486bff7634': (445, 3), 'b531346046175207d3b6f326b672d3f8': (179, 10), '4fded173211150d51dd97a36ec9797c9': (130, 10), '0614f6a2c6853e2c06da01a213ed8458': (126, 10), '4f449201ecb529ff71a321d6d41d626e': (661, 5), 'a1aba44b004024083d592e4310469fb1': (279, 10), '372f1c5c378cc2b6a45ec16af441c570': (109, 10), '8ada2473ff702a617facc11d6b1ee8ff': (518, -1), 'e15d7135b0ee671539d100600905bea6': (413, 10), 'e29f3b970b8487e06dd321c48f015493': (364, 1), 'c95ce84ed7dbf6bf3d68b2669d10d2a2': (452, 4), '294725ae35ecfb4f5e0d29239213c2c7': (76, 10), '0015d7459d4965b83826808d0a47d1ab': (244, 5), '08754896596057aa06ccd4eb4b393ce1': (46, 7), 'f2a28a9059a7e9884c5f6c46ae5a98f4': (398, 10), 'f25de5a9c41c04e8a29b9c6617e628b0': (298, 10), '6bdfd87e94df7763f26bcce3485fd702': (280, 10), 'c67562a02c791c793df0bccf7ffaaf98': (29, 10), '637d40585d5225df5b47465c13f4a636': (316, 5), 'ca5d15a7dbf3afa8ff6e3d0cfbd3f24e': (599, 10), '016b512e068383a7800166ce945bfb4e': (521, -1), '06258bf3b56c9c46c6b38c64820a11dc': (489, -1), '0231aebb8155fd069d17eab6a679cc1e': (33, 10), '94af7ecc940f3f2e0bec2e1e920193a9': (69, 4), '3cdd0fb587ca6c28c891ff4c75cfe06c': (508, 10), '8184fedd04e1b3642a77ac96298877c9': (104, -1)}\n"
     ]
    }
   ],
   "source": [
    "missingPredictionsFromC3 = {}\n",
    "for test in XTestMissing:\n",
    "#     print test, test[1], test[1] in XTrainC3[:,1], test[1] in XTestC3[:,1]\n",
    "    if test[1] in XTrainC3[:,1]:\n",
    "        for c3train in XTrainC3:\n",
    "            if c3train[1] == test[1]:\n",
    "                print c3train, test[1]\n",
    "                missingPredictionsFromC3[test[1]] = c3train[2]\n",
    "    elif test[1] in XTestC3[:,1]:\n",
    "        for c3test in XTestC3:\n",
    "            if c3test[1] == test[1]:\n",
    "#                 print c3test, test[1], PredictionsC3[int(c3test[0])][-1]\n",
    "                missingPredictionsFromC3[test[1]] = (int(test[0]),int(PredictionsC3[int(c3test[0])][-1]))\n",
    "    else:\n",
    "#         print test[1]\n",
    "        missingPredictionsFromC3[test[1]] = (int(test[0]),-1)\n",
    "print missingPredictionsFromC3"
   ]
  },
  {
   "cell_type": "code",
   "execution_count": 10,
   "metadata": {
    "collapsed": false
   },
   "outputs": [],
   "source": [
    "# import pyvw\n",
    "# def cleanVWMessages(XMessages, YTrain, train=False):\n",
    "#     cleanVW = []\n",
    "#     Y = 0\n",
    "#     for i in xrange(len(XMessages)):\n",
    "#         if train:\n",
    "#             Y = int(YTrain[i])\n",
    "#         else:\n",
    "#             Y = -1\n",
    "#         if XMessages[i]:\n",
    "#             cleanVW.append((Y,' | '.join(c for c in XMessages[i] if c not in ':|\\n\\t\\r')))\n",
    "#             #f.write(str(Y) + ':' + '|' + str(i+1)+' subject:' + ''.join(c for c in trainSubjects[i] if c not in ':|\\n\\t\\r') +'\\r')\n",
    "#         else:\n",
    "#             cleanVW.append((Y,' '))\n",
    "#             #f.write(str(Y) + ':' + '|' + str(i+1)+' subject:' + '' +'\\r')\n",
    "#     # f.close()\n",
    "#     print len(cleanVW)\n",
    "#     return cleanVW\n",
    "# #     print trainVW[0]"
   ]
  },
  {
   "cell_type": "code",
   "execution_count": 11,
   "metadata": {
    "collapsed": false
   },
   "outputs": [],
   "source": [
    "# print trainFolder[:2]\n",
    "# trainClean = cleanVWMessages(trainFolder, YTrain, train=True)\n",
    "# print trainClean[0:2]\n",
    "# print testFolder[:2]\n",
    "# testClean = cleanVWMessages(testFolder, YTrain, train=False)\n",
    "# print testClean[0:2]"
   ]
  },
  {
   "cell_type": "code",
   "execution_count": 12,
   "metadata": {
    "collapsed": true
   },
   "outputs": [],
   "source": [
    "# def classifyVW(XTrain, XTest, YTrain, YTest, XTestSubs, XTestEmailBody, XTestSender, XTestDate, params, ruled):\n",
    "#     parameters = params['parameters']\n",
    "#     vw = pyvw.vw(parameters)\n",
    "#     for train in XTrain:\n",
    "#         ex = vw.example(str(train[0]) + \" | \" + train[1])\n",
    "#         ex.learn()\n",
    "#     YPred = []\n",
    "#     for test in XTest:\n",
    "#         ex1 = vw.example(\" | \" + test[1])\n",
    "#         ex1.learn() \n",
    "#     #     print ex1.get_updated_prediction(),ex1.get_simplelabel_prediction() #<-- the same for every prediction?\n",
    "#         if ex1.get_simplelabel_prediction() > 0:\n",
    "#             YPred.append(1)\n",
    "#         else:\n",
    "#             YPred.append(0)\n",
    "#     if ruled:\n",
    "#         rules = params['rules']\n",
    "\n",
    "#         for r in rules:\n",
    "#             if r==1:\n",
    "#                 YPred = ApplyStaticRule1(XTestSubs, YPred)\n",
    "#             elif r==2:\n",
    "#                 YPred = ApplyStaticRule2(XTestEmailBody, YPred)\n",
    "#             elif r==3:\n",
    "#                 YPred = ApplyStaticRule3(XTestDate, YPred)\n",
    "#             elif r==4:\n",
    "#                 YPred = ApplyStaticRule4(XTestSender, YPred)\n",
    "#             elif r==5:\n",
    "#                 YPred = ApplyStaticRule5(XTestEmailBody, YPred)\n",
    "\n",
    "# #     return YPred\n",
    "#     YPred = np.array(YPred)\n",
    "#     YTest = np.array(YTest)\n",
    "#     diff = YPred - YTest\n",
    "#     score = diff[diff == 0].size\n",
    "#     return (100.0 * score)/(YPred.size)\n"
   ]
  },
  {
   "cell_type": "code",
   "execution_count": 13,
   "metadata": {
    "collapsed": false
   },
   "outputs": [],
   "source": [
    "# parameters = ''\n",
    "# vw = pyvw.vw(parameters)\n",
    "# for train in trainClean:\n",
    "#     ex = vw.example(str(train[0]) + \" | \" + train[1])\n",
    "#     ex.learn()\n",
    "# YPred = []\n",
    "# for test in testClean:\n",
    "#     ex1 = vw.example(\" | \" + test[1])\n",
    "#     ex1.learn() \n",
    "# #     print ex1.get_updated_prediction(),ex1.get_simplelabel_prediction() #<-- the same for every prediction?\n",
    "#     if ex1.get_simplelabel_prediction() >= 10:\n",
    "#         YPred.append(10)\n",
    "#     elif ex1.get_simplelabel_prediction() >= 9:\n",
    "#         YPred.append(9)\n",
    "#     elif ex1.get_simplelabel_prediction() >= 8:\n",
    "#         YPred.append(8)\n",
    "#     elif ex1.get_simplelabel_prediction() >= 7:\n",
    "#         YPred.append(7)\n",
    "#     elif ex1.get_simplelabel_prediction() >= 6:\n",
    "#         YPred.append(6)\n",
    "#     elif ex1.get_simplelabel_prediction() >= 5:\n",
    "#         YPred.append(5)\n",
    "#     elif ex1.get_simplelabel_prediction() >= 4:\n",
    "#         YPred.append(4)\n",
    "#     elif ex1.get_simplelabel_prediction() >= 3:\n",
    "#         YPred.append(3)\n",
    "#     elif ex1.get_simplelabel_prediction() >= 2:\n",
    "#         YPred.append(2)\n",
    "#     elif ex1.get_simplelabel_prediction() >= 1:\n",
    "#         YPred.append(1)\n",
    "#     elif ex1.get_simplelabel_prediction() >= 0:\n",
    "#         YPred.append(0)\n",
    "\n",
    "# writePrdictedLabelFile(YPred)\n",
    "        \n",
    "# #     else:\n",
    "# #         YPred.append(0)\n",
    "\n",
    "# #     return YPred\n",
    "# # YPred = np.array(YPred)\n",
    "# # YTest = np.array(YTest)\n",
    "# # diff = YPred - YTest\n",
    "# # score = diff[diff == 0].size\n",
    "# # return (100.0 * score)/(YPred.size)\n"
   ]
  },
  {
   "cell_type": "markdown",
   "metadata": {},
   "source": [
    "### Bag of Words"
   ]
  },
  {
   "cell_type": "code",
   "execution_count": 14,
   "metadata": {
    "collapsed": false
   },
   "outputs": [
    {
     "name": "stdout",
     "output_type": "stream",
     "text": [
      "5729\n",
      "(2042, 5729)\n",
      "(706, 5729)\n"
     ]
    }
   ],
   "source": [
    "from sklearn.feature_extraction.text import CountVectorizer\n",
    "vectorizer = CountVectorizer()\n",
    "# print vectorizer\n",
    "# CountVectorizer(analyzer__min_n=1)\n",
    "XTr = vectorizer.fit_transform(trainSamples)\n",
    "# corpus = [\n",
    "#     'This is the first document.',\n",
    "#     'This is the second second document.',\n",
    "#     'And the third one.',\n",
    "#     'Is this the first document?',\n",
    "# ]\n",
    "# X = vectorizer.fit_transform(corpus)\n",
    "# print X\n",
    "print len(vectorizer.get_feature_names())\n",
    "trainBagVector = XTr.toarray()\n",
    "print trainBagVector.shape\n",
    "XTe = vectorizer.transform(testSamples)\n",
    "testBagVector = XTe.toarray()\n",
    "print testBagVector.shape\n",
    "# print X.vocabulary\n",
    "# print vectorizer.vocabulary"
   ]
  },
  {
   "cell_type": "markdown",
   "metadata": {},
   "source": [
    "### TF-IDF"
   ]
  },
  {
   "cell_type": "code",
   "execution_count": 15,
   "metadata": {
    "collapsed": false
   },
   "outputs": [
    {
     "name": "stdout",
     "output_type": "stream",
     "text": [
      "(2042, 5729) (706, 5729)\n",
      "[ 0.  0.  0. ...,  0.  0.  0.]\n",
      "[ 0.  0.  0. ...,  0.  0.  0.]\n"
     ]
    }
   ],
   "source": [
    "from sklearn.feature_extraction.text import TfidfTransformer\n",
    "transformer = TfidfTransformer()\n",
    "# print transformer   \n",
    "tfidfTrain = transformer.fit_transform(trainBagVector)\n",
    "tfidfTrain = tfidfTrain.toarray()\n",
    "tfidfTest = transformer.fit_transform(testBagVector)\n",
    "tfidfTest = tfidfTest.toarray()\n",
    "print tfidfTrain.shape, tfidfTest.shape\n",
    "print tfidfTrain[0]\n",
    "print tfidfTest[0]"
   ]
  },
  {
   "cell_type": "code",
   "execution_count": 16,
   "metadata": {
    "collapsed": false
   },
   "outputs": [],
   "source": [
    "# f=open(\"trainBagVector.txt\",'w')\n",
    "# f.write(trainBagVector)\n",
    "# np.savetxt(\"trainBagVector.txt\",trainBagVector)"
   ]
  },
  {
   "cell_type": "markdown",
   "metadata": {},
   "source": [
    "### State Transitions"
   ]
  },
  {
   "cell_type": "code",
   "execution_count": 17,
   "metadata": {
    "collapsed": false
   },
   "outputs": [
    {
     "name": "stdout",
     "output_type": "stream",
     "text": [
      "5729 5729 {u'methcallengine': 3073, u'olegetclipboard': 3482, u'__vbafreeobj': 78, u'offsetcliprgn': 3465, u'queryperformancefrequency': 3729, u'getmodulefilenamew': 2028, u'_xlen': 299, u'getmodulefilenamea': 2024, u'rtlconvertsidtounicodestring': 4134, u'winhttpclosehandle': 5489, u'_timezone': 265, u'zombie_gettypeinfocount': 5662, u'winhttpaddrequestheaders': 5488, u'timesetevent': 5181, u'rtlgetace': 4208, u'msigetproductinfoexw': 3116, u'__vbaexcepthandler': 74, u'drawthemeicon': 1209, u'copycurrentuserkeys': 673, u'rtlencodepointer': 4182, u'setupdigetclassimagelist': 4714, u'nsgetmodule': 3245, u'substart': 5116, u'wcschr': 5436, u'getprocaddress': 2095, u'findfirsturlcacheentryexw': 1412, u'olesetcontainedobject': 3496, u'cpduplicatehash': 716, u'findfirsturlcacheentryexa': 1411, u'copyenhmetafilew': 675, u'lcidtolocalename': 2795, u'rtlgetcontrolsecuritydescriptor': 4210, u'rtlequalunicodestring': 4188, u'checkremotedebuggerpresent': 551, u'getobjecttext': 2061, u'getworldtransform': 2371, u'module32next': 3094, u'ocprd605opencandy35': 3459, u'rasgethportfromconnection': 3801, u'ocprd605opencandy32': 3458, u'rtladdaccessallowedaceex': 4103, u'ocprd605opencandy38': 3460, u'createmutexa': 842, u'internetfindnextfilew': 2629, u'gdipdrawrectangle': 1604, u'removedirectoryw': 4026, u'createmutexw': 844, u'npgetuniversalname': 3236, u'removedirectorya': 4025, u'cpdestroykey': 715, u'wnetcancelconnection2w': 5529, u'compatflagsfromclsid': 648, u'cointernetparseurl': 633, u'substr': 5117, u'rtlreleaseresource': 4298, u'internetgetconnectedstate': 2630, u'wnetcancelconnection2a': 5528, u'variant_userfree': 5335, u'_check': 139, u'pbdabv': 3611, u'getcurrentapartmenttype': 1806, u'lzcopy': 3013, u'rd_xxxx2': 3899, u'pathaddextensionw': 3564, u'getgadgetrgn': 1916, u'getaclinformation': 1704, u'installenginetypelib': 2603, u'rtladdaccessdeniedace': 4105, u'winverifytrust': 5520, u'getkeystate': 1962, u'ntcreatethreadex': 3289, u'rpcssdestroyclientcontext': 4088, u'gdipbitmapgetpixel': 1548, u'unlockservicedatabase': 5254, u'registertypelib': 3979, u'getactivewindow': 1707, u'rassetautodialaddressa': 3877, u'netlocalgroupenum': 3168, u'__1ed06e42cad14068bd450c36ed50d02c': 39, u'strformatbytesize64a': 5081, u'clrcreateinstance': 594, u'drawthemeparentbackgroundex': 1211, u'closethemedataw': 586, u'rasportenumprotocols': 3822, u'rtlqueryenvironmentvariable_u': 4281, u'getallusersprofiledirectoryw': 1715, u'gentee_deinit': 1696, u'createdibsection': 781, u'lstrcpynw': 2953, u'systemparametersinfo': 5157, u'setupdigetdeviceinterfacealias': 4726, u'lstrcpyna': 2952, u'getclipboarddata': 1769, u'cstdstubbuffer_isiidsupported': 982, u'shutdownblockreasoncreate': 5011, u'shgetinstanceexplorer': 4979, u'classexist': 561, u'v_n': 5301, u'createevent': 796, u'rtlmultibytetounicodesize': 4265, u'rasgetconnectstatusw': 3786, u'winhttpgetieproxyconfigforcurrentuser': 5494, u'_v': 274, u'_u': 270, u'mcisendstringw': 3051, u'strrettobufw': 5099, u'rasgetconnectstatusa': 3785, u'rtlfirstfreeace': 4197, u'_d': 157, u'_c': 133, u'graystringw': 2403, u'ftpgetfilew': 1517, u'rasenumconnections': 3775, u'btnsetfont': 462, u'graystringa': 2402, u'encodepointer': 1247, u'rasgetdevconfig': 3788, u'_8': 33, u'_7': 31, u'drawbitmap': 1181, u'rtlexpandenvironmentstrings_u': 4189, u'destroycursor': 1079, u'rtlsetlastwin32error': 4312, u'raiseexception': 3744, u'netwkstatransportenum': 3201, u'initgadgets': 2567, u'_setmode': 241, u'internetattemptconnect': 2614, u'getinputstate': 1943, u'createformatenumerator': 811, u'getguiresources': 1925, u'getcurrentthemenamew': 1821, u'copyimage': 681, u'gdipcreatebitmapfromscan0': 1562, u'getnameinfow': 2043, u'setupdiunremovedevice': 4784, u'showinstall': 4998, u'getcolorprofileheader': 1779, u'copypdbs': 685, u'removefontresourcea': 4029, u'endpaint': 1261, u'rasrpcbind': 3857, u'zwsetsecurityobject': 5719, u'removefontresourcew': 4030, u'getcommonappdata': 1783, u'ntcreatenamedpipefile': 3283, u'rtlquerysecurityobject': 4288, u'__fiopen': 58, u'rasgetconnectionuserdata': 3784, u'getwindowinfo': 2349, u'setupdefaultqueuecallbackw': 4657, u'gdipsetclipregion': 1671, u'createaccnamelabel': 739, u'convertdefaultlocale': 657, u'netrenamemachineindomain': 3173, u'gdipgetfontheight': 1619, u'setupdidestroydriverinfolist': 4694, u'listen': 2849, u'setthreadcontext': 4615, u'ntfreeuserphysicalpages': 3310, u'ddeunaccessdata': 1025, u'cpsetkeyparam': 732, u'raspppstop': 3845, u'isntadmin': 2710, u'sxsoleaut32mapreferenceclsidtoconfiguredclsid': 5132, u'_cisqrt': 147, u'rtlntstatustodoserror': 4270, u'netapibuffersize': 3156, u'rasrpcdeleteentry': 3859, u'convertlangidtoculturename': 662, u'compareto': 647, u'getprocessexecutableheap_retaddr': 2101, u'registluaclass': 3985, u'ntcreatesemaphore': 3287, u'buildexplicitaccesswithnamea': 471, u'extractfiles': 1351, u'unregisterpowersettingnotification': 5268, u'olereggetusertype': 3492, u'varxor': 5365, u'adjusttokenprivileges': 368, u'createrectrgnindirect': 874, u'varsub': 5362, u'getlocaltime': 1977, u'polypolyline': 3645, u'getlocalappdata': 1971, u'getsystemdirectoryw': 2212, u'gdipimagerotateflip': 1652, u'ldap_next_entry': 2808, u'getsystemdirectorya': 2211, u'imgapplychanges': 2534, u'rasrpcgetversion': 3870, u'isdialogmessagew': 2696, u'getmessageextrainfo': 2007, u'sgpbupropertyinfo': 4939, u'isdialogmessagea': 2695, u'getwindowrect': 2355, u'verifyversioninfoa': 5371, u'imagelist_loadimagea': 2519, u'gethfont': 1929, u'checkbitmapbits': 540, u'ceil': 493, u'clearcommbreak': 566, u'sendmessage': 4427, u'ntsuspendprocess': 3429, u'imagelist_loadimagew': 2520, u'verifyversioninfow': 5372, u'rtlgetversion': 4227, u'__vbai4var': 86, u'setenhmetafilebits': 4491, u'lstrlen': 2955, u'ntcanceliofile': 3267, u'movefilewithprogressw': 3105, u'safearraygetrecordinfo': 4370, u'getdialogbaseunits': 1841, u'cpacquirecontext': 710, u'getcomputerobjectnamew': 1791, u'rpcbindingtostringbindingw': 4083, u'qualifierset_delete': 3715, u'gdiprestoregraphics': 1663, u'choosefonta': 558, u'lua_sethook': 2986, u'iscontentprotected': 2689, u'selectclippath': 4419, u'_strlwr': 257, u'zwqueryinformationfile': 5699, u'getfilesizeex': 1892, u'oemtocharbuffa': 3464, u'setconsolemode': 4462, u'mapilogoff': 3029, u'itd_getoption': 2765, u'getlasterror': 1965, u'rtllengthsecuritydescriptor': 4254, u'systemfunction040': 5155, u'systemfunction041': 5156, u'gettextcharset': 2241, u'drawinsert': 1192, u'createjobobjecta': 830, u'setupinstallservicesfrominfsectionexw': 4835, u'initthread': 2593, u'createvirtualbuffer': 902, u'ntquerysystemtime': 3383, u'detachscrollbars': 1087, u'getupdatedclipboardformats': 2308, u'certverifycertificatechainpolicy': 512, u'qualifierset_getnames': 3718, u'convertinterfaceguidtoluid': 660, u'setdibitstodevice': 4482, u'getharddiskid': 1927, u'_setmbcp': 240, u'npgetconnection': 3228, u'shcreateitemfromparsingname': 4952, u'swscanf': 5125, u'netuserdel': 3194, u'__vbavarlatememcallld': 103, u'enumpropsexa': 1294, u'rtlreleaseactivationcontext': 4296, u'rtlcreateuserprocess': 4152, u'internetopena': 2636, u'muldiv': 3121, u'internetopenw': 2639, u'_endthreadex': 158, u'isxdl_getfilename': 2750, u'shbindtoparent': 4946, u'getsystemwindowsdirectorya': 2223, u'_lwrite': 212, u'registerservicectrlhandlerw': 3972, u'unmapviewoffile': 5255, u'cpgetuserkey': 725, u'qualifierset_beginenumeration': 3714, u'getsystemwindowsdirectoryw': 2224, u'registerservicectrlhandlera': 3970, u'ntcanceltimer': 3268, u'hb0p': 2410, u'getactiveobject': 1706, u'gdipgetdpiy': 1615, u'tlsalloc': 5182, u'updatecolors': 5279, u'polybezier': 3637, u'shimflushcache': 4990, u'_wmkdir': 288, u'getqueuestatus': 2137, u'dlgdirselectexw': 1122, u'sxsoleaut32mapiidtotlbpath': 5131, u'rtloemstringtounicodestring': 4273, u'inetntopw': 2558, u'queryserviceconfiga': 3732, u'heapsetinformation': 2422, u'ntresumeprocess': 3402, u'rasgetbuffer': 3782, u'getprocessaffinitymask': 2097, u'imagedirectoryentrytodata': 2496, u'setfilepointer': 4505, u'endui': 1264, u'restoredc': 4051, u'rtlfindmessage': 4196, u'queryservicelockstatusa': 3734, u'strrchria': 5098, u'queryservicelockstatusw': 3735, u'replace': 4037, u'lua_getinfo': 2964, u'wsacancelasyncrequest': 5572, u'ctime': 984, u'__vbalateidcallld': 87, u'setcaretpos': 4452, u'enumcolorprofilesw': 1273, u'crypthashdata': 941, u'setuppromptreboot': 4852, u'decryptmessage': 1036, u'onchange': 3504, u'getlastinputinfo': 1966, u'getnearestcolor': 2046, u'pspropertybag_readstralloc': 3680, u'gdipgetimagepixelformat': 1630, u'rtlfillmemory': 4192, u'scrollwindowex': 4414, u'rtlinitializeresource': 4238, u'wlanclosehandle': 5522, u'createasyncbindctx': 749, u'putmethod': 3690, u'rpcasynccompletecall': 4074, u'cstdstubbuffer_addref': 975, u'certdeletecertificatefromstore': 497, u'ntquerysecurityobject': 3378, u'convertinetunicodetomultibyte': 659, u'uae_nxz': 5225, u'getsystemtimepreciseasfiletime': 2221, u'ftpremovedirectoryw': 1521, u'queryservicestatus': 3737, u'gdipalloc': 1547, u'duplicatehandle': 1225, u'getmessagea': 2006, u'_open': 225, u'pathisurlw': 3584, u'getmessagew': 2010, u'getfontassocstatus': 1906, u'convertinterfacenametoluidw': 661, u'dllregisterserver': 1141, u'mapvirtualkeya': 3037, u'interlockedcompareexchange64': 2606, u'extractversionresource16w': 1356, u'_httpinitsessionw': 187, u'mapvirtualkeyw': 3040, u'getviewportorgex': 2338, u'callnexthookex': 475, u'shellexecuteex': 4963, u'getjit': 1952, u'getfileattributesex': 1882, u'rtlnewsecurityobject': 4266, u'qualifierset_get': 3717, u'wsarecv': 5586, u'rasrequestnotification': 3856, u'leep': 2840, u'floor': 1452, u'setclipboarddata': 4456, u'waveoutclose': 5424, u'setupdicreatedeviceinterfacew': 4685, u'virtualquery': 5389, u'_set_o': 238, u'setupdicreatedeviceinterfacea': 4682, u'werreportsetuioption': 5465, u'createapplicationcontext': 743, u'lua_remove': 2984, u'isiconic': 2705, u'vpawr': 5395, u'getprofiletype': 2124, u'getdiskfreespacew': 1848, u'time': 5175, u'getdiskfreespacea': 1844, u'createdialogparamw': 777, u'__p__environ': 62, u'gettabbedtextextenta': 2227, u'createdialogparama': 776, u'timebeginperiod': 5176, u'createellipticrgn': 790, u'rtlreallocateheap': 4294, u'gdipdrawimage': 1595, u'x00': 5620, u'iswow64process': 2742, u'ocpid1326opencandy36': 3453, u'ntreleasesemaphore': 3394, u'gdipdisposeimageattributes': 1594, u'rhpid850rheng5': 4061, u'getcolordirectoryw': 1778, u'rashangupw': 3810, u'iswspace': 2744, u'isrunningwithadmin': 2716, u'rashangupa': 3809, u'cryptderivekey': 927, u'getlongpathnamew': 1984, u'ntclearevent': 3269, u'getmodulefilename': 2023, u'getlongpathnamea': 1983, u'rasportsetinfo': 3837, u'__pioinfo': 65, u'cstdstubbuffer_debugserverrelease': 979, u'lua_setfield': 2985, u'zrg': 5663, u'getthemefilename': 2264, u'getinterfaceinfo': 1944, u'ntcreatemutant': 3282, u'gdiconvertbitmapv5': 1533, u'getlastactivepopup': 1964, u'av12': 408, u'closewindowstation': 593, u'gdipcreateregion': 1579, u'ioctlsocket': 2666, u'zeromemory': 5659, u'dllgetversion': 1133, u'closegestureinfohandle': 579, u'getcurrentpackageid': 1812, u'scriptgetproperties': 4406, u'imagelist_dragshownolock': 2506, u'wcscspn': 5440, u'regloadkeyw': 3986, u'ntmapuserphysicalpagesscatter': 3329, u'extselectcliprgn': 1357, u'imagelist_dragenter': 2503, u'playsoundw': 3635, u'shfileoperationw': 4970, u'addaccessallowedaceex': 349, u'checkradiobutton': 550, u'playsounda': 3634, u'_beginthreadex': 132, u'findexecutable': 1399, u'systemfunction028': 5150, u'systemfunction029': 5151, u'varint': 5348, u'verlanguagenamea': 5374, u'dlgdirlistcomboboxw': 1119, u'terminatejobobject': 5167, u'zwallocatevirtualmemory': 5665, u'getmenuitemid': 1999, u'strncat': 5090, u'propvarianttostringalloc': 3673, u'csrcapturemessagebuffer': 966, u'setdcbrushcolor': 4476, u'bsearch': 451, u'rassetconnectionparams': 3879, u'_wcsicmp': 282, u'rtldeleteace': 4160, u'rtlvalidrelativesecuritydescriptor': 4346, u'data': 986, u'iidfromstring': 2494, u'ndroleallocate': 3148, u'gettimezoneinformation': 2296, u'enumfontfamiliesexw': 1284, u'rasseteapuserinfo': 3888, u'zwnotifychangedirectoryfile': 5689, u'loadtypelibex': 2888, u'enumfontfamiliesexa': 1283, u'ischild': 2686, u'getprofilestringw': 2123, u'internetquerydataavailable': 2640, u'rtlequalsid': 4186, u'getkeyboardlayoutlist': 1955, u'varinit32': 5347, u'rasallocateroute': 3753, u'releasedc': 4018, u'itd_setoption': 2772, u'allocateandgettcpextablefromstack': 373, u'expandenvironmentstringsforuserw': 1342, u'cpdestroyhash': 714, u'waveinprepareheader': 5419, u'_tidy': 263, u'ldap_msgfree': 2806, u'_isnan': 197, u'rtlgetgroupsecuritydescriptor': 4215, u'memchr': 3055, u'mapgenericmask': 3026, u'gdifixuphandle': 1540, u'rassignalnewconnection': 3895, u'dllsendhomepagesetusage': 1143, u'gdiconvertandcheckdc': 1532, u'event_sink_queryinterface': 1323, u'gdipdeletefontfamily': 1586, u'sqlite3_prepare16_v2': 5041, u'msideterminepatchsequencew': 3112, u'rassetentrydialparamsw': 3889, u'gdipsaveimagetostream': 1668, u'rtlsetdaclsecuritydescriptor': 4306, u'gettextfacew': 2251, u'openeventw': 3525, u'gdipdeletebrush': 1584, u'shappbarmessage': 4944, u'__getmainargs': 59, u'getpeername': 2078, u'openeventa': 3522, u'gettextfacea': 2249, u'rasrpcdeviceenum': 3860, u'initiate': 2583, u'dsrolegetprimarydomaininformation': 1223, u'iunknown_queryservice': 2776, u'rtladdaccessallowedobjectace': 4104, u'internetautodial': 2615, u'searchpathw': 4417, u'enumtimeformatsex': 1310, u'searchpatha': 4416, u'hrlanconnectionnamefromguidorpath': 2435, u'nd_wi4_retaddr': 3133, u'onpropertychanging': 3511, u'rasgetdevicename': 3790, u'waitmessage': 5409, u'cointernetsetfeatureenabled': 635, u'createurlmoniker': 901, u'ddegetdata': 1015, u'setmenudefaultitem': 4545, u'variantchangetypeex': 5340, u'rasenableipsec': 3773, u'unlockfile': 5252, u'zwdeviceiocontrolfile': 5677, u'rassetcredentialsw': 3881, u'setupdibuildclassinfolistexa': 4663, u'ser32': 4435, u'ntdeleteatom': 3294, u'zwquerysection': 5705, u'cogetinstancefromfile': 618, u'wintrustcertificatetrust': 5519, u'destroy': 1076, u'accessibleobjectfromwindow': 322, u'x9e': 5627, u'skinit': 5017, u'sysstringbytelen': 5142, u'dllfunctioncall': 1127, u'onsetuppost': 3513, u'strpbrk': 5095, u'setupinitdefaultqueuecallbackex': 4822, u'verifyclientkey': 5368, u'_flsbuf': 168, u'atol': 401, u'cointernetisfeatureenabledforurl': 632, u'_ftol': 172, u'_snwprintf': 251, u'shutdownblockreasondestroy': 5012, u'weruicreate': 5467, u'gentee_init': 1697, u'rtlimagedirectoryentrytodata': 4230, u'queryfontassocstatus': 3724, u'regreplacekeyw': 4003, u'setupdiregisterdeviceinfo': 4767, u'symfromaddr': 5134, u'intersectrect': 2659, u'rtlxunicodestringtooemsize': 4353, u'getmodulehandleexw': 2032, u'getmodulehandleexa': 2031, u'rtlinitializecriticalsectionandspincount': 4235, u'ccgetscrollinfo': 491, u'getusergeoid': 2321, u'entercriticalsection': 1267, u'getshortpathnamew': 2176, u'drawthemeparentbackgroundw': 1212, u'getshortpathnamea': 2175, u'printwindow': 3661, u'virtualunlock': 5391, u'timegettime': 5179, u'getmachineid': 1987, u'isprocessorfeaturepresent': 2714, u'winhttpopen': 5497, u'wnetgetconnectiona': 5533, u'hsqueryservicestatusd': 2444, u'createhalftonepalette': 813, u'corbindtoruntimeex_retaddr': 689, u'delayloadfailurehook': 1048, u'setlocaleinfoa': 4538, u'pathcanonicalizea': 3566, u'rasportreceive': 3831, u'dbguiwaitstatechange': 997, u'replacefilew': 4038, u'pathcanonicalizew': 3567, u'setlocaleinfow': 4539, u'gdipclonebrush': 1552, u'expandenvironmentstringsw': 1343, u'createscalablefontresourcea': 878, u'setfontsize': 4512, u'_lseeki64': 211, u'gopheropenfilew': 2399, u'registerclassw': 3952, u'rtlcreateatomtable': 4141, u'_wrmdir': 295, u'_corexemain': 153, u'getcapture': 1741, u'systemparametersinfow': 5159, u'credenumeratea': 914, u'messagebox': 3066, u'werreportsubmit': 5466, u'softpubcheckcert': 5028, u'varbstrfromdate': 5312, u'setbitmapbits': 4444, u'postqueuedcompletionstatus': 3651, u'nrtn_offerengine_create': 3241, u'flatsb_getscrollinfo': 1441, u'heapdestroy': 2418, u'closesocket': 584, u'getthemedocumentationproperty': 2262, u'getwindowrgn': 2356, u'mcisendstringa': 3050, u'wlanopenhandle': 5525, u'registerclassa': 3948, u'waitforinputidle': 5402, u'enablemenuitem': 1240, u'getdlgitemint': 1851, u'setupdiopendeviceinfoa': 4760, u'4db': 24, u'nttraceevent': 3434, u'certduplicatecertificatecontext': 499, u'setupdiopendeviceinfow': 4761, u'qaeaav12': 3695, u'rtlcreatetimerqueue': 4149, u'_strrev': 259, u'regclosekey': 3917, u'gdipclonestringformat': 1555, u'createprocess': 859, u'icfdisconnect': 2484, u'netwkstauserenum': 3202, u'menuhelp': 3060, u'setupsetdirectoryidexw': 4895, u'calloc': 477, u'variant_usersize': 5337, u'shellexecutea': 4962, u'setupgetintfield': 4802, u'getconsoleoutputcp': 1794, u'kpbg': 2787, u'csrclientcallserver': 969, u'systemfunction004': 5148, u'systemfunction005': 5149, u'systemfunction001': 5145, u'systemfunction002': 5146, u'systemfunction003': 5147, u'sxsjitstartup': 5126, u'strokepath': 5094, u'gdipdeletefont': 1585, u'__1bda522c8a3447bb9b7d5aaf3d4eaa50': 38, u'documentpropertiesw': 1163, u'oleflushclipboard': 3480, u'documentpropertiesa': 1162, u'windowsversion': 5481, u'setupdigetclassimagelistexa': 4715, u'deletefilea': 1059, u'cpexportkey': 719, u'setupdigetclassdevsa': 4709, u'deletefilew': 1060, u'zwmapviewofsection': 5688, u'gdipfillrectangle': 1609, u'setupdigetclassimagelistexw': 4716, u'_eos': 159, u'memmove': 3058, u'download_quiet': 1170, u'isdlgbuttonchecked': 2698, u'msgwaitformultipleobjectsex': 3110, u'gettextcharsetinfo': 2242, u'translatecharsetinfo': 5211, u'notifyservicestatuschangea': 3215, u'setgadgetfocus': 4514, u'notifyservicestatuschangew': 3216, u'_ciatan': 141, u'getenhmetafilepaletteentries': 1866, u'gdipdeletegraphics': 1587, u'getvolumeinformation': 2339, u'interlockedpopentryslist': 2611, u'uaepauhwnd__': 5226, u'exit': 1337, u'mbstowcs': 3045, u'npcancelconnection': 3222, u'itd_loadstrings': 2770, u'findactctxsectionstringa': 1392, u'ntunlockfile': 3436, u'setupdigetwizardpage': 4747, u'setupinitdefaultqueuecallback': 4821, u'getkeyboardtype': 1959, u'findactctxsectionstringw': 1393, u'localenametolcid': 2894, u'gdipgetimagepalette': 1628, u'gettargetforvtableentry': 2229, u'rtlgetfullpathname_u': 4213, u'traceevent': 5199, u'unziptolog': 5276, u'getguid': 1924, u'fmyuq': 1463, u'gdipsetimageattributeswrapmode': 1676, u'dosdatetimetofiletime': 1168, u'setlocale': 4537, u'getrawinputdata': 2141, u'imagelist_create': 2501, u'rtlcomparememory': 4131, u'gdiploadimagefromstream': 1657, u'lual_optinteger': 3005, u'winhttpgetdefaultproxyconfiguration': 5493, u'gettraceenablelevel': 2304, u'rtlfreeoemstring': 4204, u'freecredentialshandle': 1490, u'rtlsetgroupsecuritydescriptor': 4308, u'gdiismetaprintdc': 1545, u'shgetpathfromidlistw': 4985, u'regcreatekeyw': 3924, u'au': 406, u'av': 407, u'regcreatekeya': 3920, u'shgetpathfromidlista': 4984, u'allocator': 376, u'certenumcertificatesinstore': 500, u'getdevicedriverbasenamew': 1838, u'pad0pbd1': 3556, u'findfirsturlcacheentrya': 1410, u'ddecreatedatahandle': 1009, u'_allshl': 129, u'getdevicedriverbasenamea': 1837, u'findfirsturlcacheentryw': 1413, u'screenresolutionrequirement': 4402, u'drawtextexw': 1203, u'flatsb_getscrollpos': 1442, u'zwwritefile': 5729, u'setupinstallfileexw': 4827, u'entercriticalpolicysection': 1266, u'allowsetforegroundwindow': 379, u'setupinstallfileexa': 4826, u'drawtextexa': 1202, u'imagelist_draw': 2507, u'setenablecancel': 4489, u'downloadfile': 1171, u'_rlid994reclib2': 235, u'pathcompactpatha': 3569, u'getthemesysstring': 2282, u'xbb': 5634, u'rasrpcgetdevconfig': 3864, u'ntmapviewofsection': 3330, u'registerwindowmessagew': 3984, u'interlockedpushentryslist': 2612, u'dbguiconnecttodbg': 990, u'inet_addr': 2554, u'iaexpau_iobuf': 2481, u'registerwindowmessagea': 3983, u'dbguicontinue': 991, u'zwcreateprocess': 5669, u'setfileattributes': 4501, u'ftpfindfirstfilea': 1513, u'rtlfreethreadactivationcontextstack': 4206, u'getrunningobjecttable': 2153, u'safearrayunaccessdata': 4377, u'ipau32': 2668, u'gdipcreatehalftonepalette': 1571, u'ftpfindfirstfilew': 1514, u'getgestureextraargs': 1920, u'sh_unregtlb': 4943, u'setupcanceltemporarysourcelist': 4642, u'setprocesswindowstation': 4570, u'leavecriticalpolicysection': 2838, u'gettextcolor': 2243, u'vswprintf': 5397, u'wsaioctl': 5580, u'geturlcacheentryinfoa': 2311, u'openeventloga': 3523, u'openthreadtoken': 3550, u'pbd': 3609, u'pbg': 3615, u'geturlcacheentryinfow': 2314, u'openeventlogw': 3524, u'postmessage': 3648, u'showscrollbar': 5000, u'isvalidurl': 2732, u'_wcsnicmp': 285, u'setupgetfieldcount': 4795, u'setupdiaskforoemdisk': 4661, u'rpcstringbindingparsew': 4090, u'getrandom': 2138, u'settextalign': 4609, u'samopendomain': 4393, u'getscrollbarinfo': 2156, u'rtlisvalidhandle': 4250, u'itd_getlasterror': 2764, u'setupdigethwprofilefriendlynamew': 4738, u'isdbcsleadbyteex': 2692, u'setupdiopenclassregkeyexa': 4758, u'zwsetvolumeinformationfile': 5721, u'__vbai2var': 85, u'setupdiopenclassregkeyexw': 4759, u'ntsetvaluekey': 3425, u'rtldefaultnpacl': 4159, u'iswineventhookinstalled': 2741, u'getthemeappproperties': 2254, u'createmutexexw': 843, u'formatmessage': 1469, u'spawnderivedclass': 5036, u'hwndhost': 2472, u'setupdisetclassinstallparamsw': 4774, u'abortpath': 309, u'freeconsole': 1488, u'getfontdata': 1907, u'setupdisetclassinstallparamsa': 4773, u'imagelist_getdragimage': 2513, u'zwreplacekey': 5712, u'rasgetportuserdata': 3807, u'rtlcreatetagheap': 4147, u'avifilecreatestreama': 409, u'createobject': 847, u'accept': 319, u'ndrdllgetclassobject': 3143, u'ntcanceldevicewakeuprequest': 3266, u'paintrgn': 3560, u'getfilemuiinfo': 1888, u'getmessagepos': 2008, u'displaygraphics': 1115, u'outputdebugstringw': 3555, u'ntcreatemailslotfile': 3281, u'certsetcertificatecontextproperty': 510, u'outputdebugstringa': 3554, u'immisime': 2543, u'netgetanydcname': 3161, u'raspppstart': 3844, u'_adjust_fdiv': 126, u'gethostbyname': 1933, u'varcyfromstr': 5315, u'changeclipboardchain': 515, u'rasgetdialparams': 3793, u'register': 3943, u'gophergetattributew': 2397, u'ntqueryinformationfile': 3367, u'getfiletitlew': 1895, u'ntopenkey': 3340, u'copyicon': 680, u'rtlguidfromstring': 4228, u'immgetconversionstatus': 2540, u'cryptacquirecertificateprivatekey': 916, u'acmstreamopen': 340, u'setpropa': 4573, u'drawstatea': 1197, u'setdibcolortable': 4480, u'_adj_fdiv_r': 117, u'drawstatew': 1198, u'setpropw': 4574, u'_gcvt': 178, u'rtlsubauthoritysid': 4324, u'samquerysecurityobject': 4396, u'ntwaitformultipleobjects': 3439, u'fromcppdownload': 1504, u'loadtypelib': 2887, u'strcoll': 5072, u'rtlactivateactivationcontextex': 4100, u'rassendpppmessagetorasman': 3875, u'setupqueryinffileinformationa': 4857, u'setupqueryinffileinformationw': 4858, u'nsmodule': 3248, u'acmstreamsize': 343, u'commiturlcacheentrya': 641, u'ntduplicatetoken': 3301, u'addvectoredcontinuehandler': 366, u'createbindctx': 751, u'mapilogon': 3030, u'thread32next': 5174, u'httpsendrequesta': 2467, u'getclassnamea': 1766, u'httpsendrequestw': 2470, u'strrchr': 5096, u'getbitmapbits': 1729, u'cancelio': 481, u'isthemepartdefinedw': 2724, u'interlockedexchange': 2608, u'lookupaccountsida': 2917, u'ntclose': 3270, u'getwindowlong': 2350, u'getdevicedriverfilenamea': 1839, u'setbrushorgex': 4449, u'isalnum': 2670, u'wcsspn': 5448, u'getcurrentprograms': 1819, u'waveoutreset': 5431, u'getthemesyscolorbrush': 2278, u'getwindoworgex': 2353, u'setskin': 4597, u'pathcombinew': 3568, u'iee_retaddr': 2491, u'loadbitmapw': 2854, u'getdevicedriverfilenamew': 1840, u'ndrgetdcomprotocolversion': 3146, u'netgroupenum': 3164, u'cryptdestroyhash': 928, u'acmstreamunprepareheader': 344, u'msienumproductsexw': 3113, u'_hread': 185, u'oleregenumverbs': 3490, u'urlisw': 5290, u'setupdiinstalldriverfiles': 4754, u'safearraycopydata': 4359, u'pau_iobuf': 3605, u'mapdialogrect': 3025, u'wcscpy': 5439, u'isxdl_downloadfiles': 2749, u'getlengthsid': 1969, u'uninitializeflatsb': 5246, u'unregisterclass': 5259, u'ntsignalandwaitforsingleobject': 3428, u'wsaasyncgetservbyname': 5570, u'getopenfilenamew': 2068, u'_waccess': 278, u'zwduplicateobject': 5678, u'shgetfileinfoa': 4973, u'itd_downloadfile': 2759, u'_lock': 206, u'setupremovefromdiskspacelistw': 4882, u'shgetfileinfow': 4974, u'setupremovefromdiskspacelista': 4881, u'getwindowthreadprocessid': 2368, u'enumdisplaydevicesa': 1278, u'flatsb_setscrollinfo': 1445, u'checkkuaibainstalled': 547, u'enumdisplaydevicesw': 1279, u'createilockbytesonhglobal': 824, u'cgtlokxhko': 514, u'rtcreplace': 4094, u'abv12': 315, u'abv10': 314, u'setaddrinfoexw': 4442, u'_time64': 264, u'messageboxtimeoutw': 3071, u'setaddrinfoexa': 4441, u'messageboxtimeouta': 3070, u'rtlfindclearbitsandset': 4195, u'registergpnotificationinternal': 3963, u'fputc': 1474, u'getvolumepathnamew': 2343, u'fputs': 1475, u'postquitmessage': 3652, u'waitformultipleobjects': 5404, u'weruistart': 5468, u'formatmessagew': 1471, u'pathfindfilenamew': 3576, u'dialogboxindirectparamw': 1094, u'getthemecolor': 2261, u'accrewritesetnamedrights': 335, u'pathfindfilenamea': 3575, u'formatmessagea': 1470, u'olerun': 3493, u'movefileex': 3101, u'unionrect': 5248, u'rtlcreateactivationcontext': 4140, u'dialogboxindirectparama': 1093, u'gdipimageforcevalidation': 1648, u'rtlgetsaclsecuritydescriptor': 4223, u'getprocessimagefilenamew': 2105, u'lua_pushstring': 2982, u'getprocessimagefilenamea': 2104, u'rtldospathnametontpathname_u': 4179, u'ntimpersonateanonymoustoken': 3317, u'winhttpsetoption': 5507, u'set': 4438, u'onsetup': 3512, u'_wcslwr': 284, u'startui': 5054, u'getrequestedruntimeinfo_retaddr': 2149, u'dnsrecordlistfree': 1159, u'waveinaddbuffer': 5414, u'ntqueryinformationjobobject': 3368, u'enumsystemfirmwaretables': 1305, u'varcymuli4': 5316, u'samfreememory': 4387, u'itd_downloadfiles': 2760, u'zwquerydirectoryfile': 5697, u'__vbanew2': 90, u'ntdeletevaluekey': 3298, u'checktokenmembership': 553, u'_copy': 152, u'deletecolortransform': 1053, u'__vbavarmul': 106, u'rasfindprerequisiteentry': 3779, u'closefigure': 578, u'gettcptable': 2232, u'flssetvalue': 1456, u'load': 2850, u'getexitcodethread': 1877, u'ptvisible': 3685, u'nzysedbwa': 3446, u'directdrawcreate': 1098, u'getenhmetafilea': 1861, u'setupdiopendeviceinterfaceregkey': 4763, u'getrawinputbuffer': 2140, u'xaa': 5629, u'_lread': 209, u'rectvisible': 3912, u'setupcloseinffile': 4644, u'cpimportkey': 728, u'ldrunlockloaderlock': 2837, u'xa6': 5628, u'setthreaduilanguage': 4628, u'setdefaultdlldirectories': 4479, u'rassetcachedcredentials': 3878, u'lua_pushinteger': 2978, u'gdipsetstringformatflags': 1681, u'addtofirewall': 364, u'sizeofresource': 5016, u'setthreadpooltimer': 4621, u'waitforinputidlew': 5403, u'setupdigetdriverinfodetaila': 4731, u'towlower': 5194, u'zwqueryattributesfile': 5696, u'setupdigetdriverinfodetailw': 4732, u'dnsqueryconfig': 1157, u'registergpnotification': 3962, u'excludeupdatergn': 1328, u'offsetviewportorgex': 3468, u'strokeandfillpath': 5093, u'imagelist_getimagecount': 2516, u'createprocesswithlogona': 866, u'createprocesswithlogonw': 867, u'lua_createtable': 2961, u'cryptsipverifyindirectdata': 958, u'drawshadowtext': 1195, u'loadlibraryshim': 2873, u'gdiptranslatelinetransform': 1689, u'gdivalidatehandle': 1694, u'legacy_readsecmoddb': 2844, u'releasestgmedium': 4022, u'setuptermdefaultqueuecallback': 4901, u'__dllonexit': 56, u'ntresumethread': 3403, u'setactivewindow': 4440, u'rtladdauditaccessace': 4110, u'hsstopprocessbypath': 2451, u'checkdownload': 543, u'getcurrentdirectoryw': 1810, u'avifilerelease': 413, u'getmonitorinfo': 2036, u'getcurrentdirectorya': 1809, u'syminitialize': 5136, u'setmiterlimit': 4552, u'winhttpopenrequest': 5498, u'drawframecontrol': 1189, u'rtlderegisterwaitex': 4169, u'rtlimagentheader': 4231, u'rasgetnotificationentry': 3805, u'setbkmode': 4447, u'enumchildwindows': 1271, u'createcaret': 756, u'getcatalogobject': 1743, u'imagelist_replaceicon': 2525, u'acceptsecuritycontext': 320, u'setupdigetclassdevpropertysheetsa': 4707, u'csrfreecapturebuffer': 971, u'unlockfileex': 5253, u'setupdigetclassdevpropertysheetsw': 4708, u'setdibits': 4481, u'ntsetsystemtime': 3422, u'showfloatingprogress': 4995, u'loadicon': 2860, u'getmodulebasename': 2020, u'wsacreateevent': 5576, u'ldap_first_attributea': 2800, u'getusername': 2322, u'sendmessagetimeout': 4429, u'getatomnamea': 1723, u'find_first_of': 1390, u'getatomnamew': 1724, u'itd_addfilesize': 2755, u'callwindowproc': 478, u'_iob': 193, u'rtlinitializehandletable': 4237, u'getparent': 2075, u'dllhandleuseridw': 1136, u'rasseteapuidata': 3887, u'setstretchbltmode': 4601, u'dllhandleuserida': 1135, u'initializecriticalsectionex': 2574, u'_rmdir': 236, u'vardeccmp': 5320, u'_grow': 183, u'loadimagew': 2866, u'adjustwindowrect': 370, u'accesscheck': 321, u'loadimagea': 2865, u'atoi': 400, u'ntfiltertoken': 3304, u'gdipcreatesolidfill': 1581, u'atof': 399, u'_mbclen': 213, u'debugactiveprocess': 1028, u'uj': 5237, u'gettextextentpoint32a': 2245, u'ndrccontextbinding': 3137, u'globalmemorystatusex': 2387, u'gettextextentpoint32w': 2246, u'getthreadcontext': 2286, u'rtlisvalidindexhandle': 4251, u'setupgetlinebyindexw': 4804, u'gdipgetstringformathotkeyprefix': 1643, u'setupgetlinebyindexa': 4803, u'xre_startuptimelinerecord': 5645, u'createprocessa': 860, u'updatewindow': 5286, u'iszoomed': 2753, u'getlocaleinfo': 1972, u'createprocessw': 865, u'ntcloseobjectauditalarm': 3271, u'shgetfolderpathw': 4978, u'_httpdownloadfilew': 186, u'midistreamproperty': 3080, u'btnrefresh': 458, u'shgetfolderpatha': 4977, u'getgestureinfo': 1921, u'wsaconnect': 5575, u'loadrtffile': 2884, u'settextcolor': 4611, u'localsize': 2901, u'matchexactgetidsofnames': 3043, u'ftell': 1508, u'send': 4423, u'lstrcat': 2940, u'certfreecertificatechain': 503, u'registerwindowmessage': 3982, u'lookupiconidfromdirectoryex': 2922, u'cpsethashparam': 731, u'ubepauhinstance__': 5233, u'destroywindow': 1085, u'getprivateprofilesectionw': 2090, u'unzip': 5275, u'gdipsetcliphrgn': 1669, u'lstrcata': 2941, u'createeditablestream': 789, u'getwinmetafilebits': 2370, u'safearraygetubound': 4371, u'getprivateprofilesectiona': 2087, u'variantinit': 5344, u'imagelist_write': 2531, u'getclassnamew': 1767, u'hidetrustevisuals': 2428, u'waveinopen': 5418, u'getsystempaletteentries': 2217, u'rasgeteapuidata': 3794, u'getexitcodeprocessw': 1876, u'lstrcatw': 2942, u'ntquerysymboliclinkobject': 3379, u'getdosenvironment': 1855, u'lsaclose': 2933, u'1_winit': 15, u'findnexturlcacheentrya': 1422, u'findnexturlcacheentryw': 1424, u'getmethod': 2015, u'cocreateinstanceex': 611, u'setwineventhook': 4932, u'createpopupmenu': 857, u'stubonquit': 5114, u'pathappendw': 3565, u'gdipgetimagewidth': 1633, u'ntopenthreadtoken': 3350, u'rlid994reclib36': 4069, u'rlid994reclib31': 4067, u'rlid994reclib32': 4068, u'getsockopt': 2183, u'getmethodorigin': 2016, u'isvalidlocalename': 2729, u'createdibpatternbrush': 779, u'next': 3206, u'fdicreate': 1372, u'shbrowseforfolderw': 4949, u'rtlsetsecuritydescriptorrmcontrol': 4315, u'isfullscreen': 2701, u'shbrowseforfoldera': 4948, u'flushviewoffile': 1461, u'createdca': 768, u'showhidemenuctl': 4996, u'cphashsessionkey': 727, u'zwdeletefile': 5674, u'cogetcontexttoken': 617, u'gdipgetnearestcolor': 1637, u'winhttpgetproxyforurl': 5495, u'emptyworkingset': 1237, u'regenumvaluea': 3938, u'winhttpreceiveresponse': 5504, u'createdcw': 769, u'setupdicallclassinstaller': 4666, u'rtlansichartounicodechar': 4118, u'ntreadfilescatter': 3391, u'fprintf': 1473, u'zwqueryinformationprocess': 5700, u'cointernetcreatezonemanager': 629, u'fdiiscabinet': 1374, u'rtlmultibytetounicoden': 4264, u'kcfg_create': 2779, u'directionprop': 1102, u'getoriginalaccounttype': 2069, u'querysystemgesturestatus': 3739, u'qaexp6ghiijpajpax': 3706, u'varmul': 5351, u'ntsetdefaultlocale': 3408, u'setthreadpoolwait': 4622, u'alloc': 372, u'getthemebackgroundregion': 2259, u'freeaddrinfow': 1485, u'cryptgenrandom': 935, u'element': 1233, u'allow': 378, u'rasportopenex': 3830, u'checkischild': 546, u'dcicloseprovider': 999, u'setupaddinstallsectiontodiskspacelistw': 4633, u'initiatesystemshutdownexa': 2584, u'getpixel': 2082, u'setupdigetactualsectiontoinstalla': 4700, u'peekmessage': 3622, u'rtlstringfromguid': 4322, u'cstdstubbuffer_queryinterface': 983, u'loadlibraryw': 2875, u'rasdestroyconnection': 3765, u'netmessagebuffersend': 3170, u'loadlibrarya': 2870, u'gdipdeletepen': 1590, u'rtlisdosdevicename_u': 4246, u'getname': 2039, u'charnexta': 529, u'_showintaskbarw': 246, u'flushinstructioncache': 1459, u'oemtochara': 3463, u'exectolog': 1333, u'traceprintfexa': 5201, u'windowsplatformarchitecture': 5479, u'registerpowersettingnotification': 3968, u'startservicectrldispatcherw': 5052, u'setupdichangestate': 4668, u'wisemain': 5521, u'ldap_next_attributea': 2807, u'duserflushdeferredmessages': 1229, u'createcontrol': 764, u'propertysheet': 3670, u'getdiskfreespaceex': 1845, u'pathremovebackslasha': 3589, u'ntsetinformationprocess': 3415, u'ddepostadvise': 1020, u'initialize': 2569, u'showhtmldialog': 4997, u'pathremovebackslashw': 3590, u'rtlformatcurrentuserkeypath': 4199, u'cpencrypt': 718, u'strcspna': 5076, u'createiconindirect': 822, u'getsigneddatamsg': 2181, u'getcurrentprocessidw': 1816, u'midioutunprepareheader': 3076, u'nlsmboemcodepagetag': 3211, u'lstrcmpia': 2946, u'system': 5144, u'getcommandlinew': 1782, u'_loadfile': 205, u'midistreamout': 3079, u'lstrcmpiw': 2947, u'_filbuf': 164, u'removevectoredexceptionhandler': 4035, u'enumresourcelanguagesw': 1296, u'win_getproc': 5473, u'nextmethod': 3207, u'enumresourcelanguagesa': 1295, u'nppropertydialog': 3240, u'gettimeformatex': 2294, u'updateprocthreadattribute': 5283, u'ridvqf9z5ripo': 4063, u'createdibitmap': 778, u'loadpicture': 2881, u'exitprocess': 1338, u'rtlsetheapinformation': 4309, u'ntopenevent': 3337, u'setupdisetselecteddriverw': 4783, u'fseek': 1506, u'variantclear': 5341, u'setupdisetselecteddrivera': 4782, u'openprintera': 3535, u'getopenclipboardwindow': 2066, u'tolower': 5188, u'shgetknownfolderpath': 4981, u'obtainuseragentstring': 3447, u'waveinclose': 5415, u'hsclosetheprocess': 2438, u'ube_nxz': 5231, u'initializeacl': 2570, u'wcsstr': 5449, u'nd_ri4_retaddr': 3129, u'getcurrencyformata': 1803, u'terminate': 5166, u'virtualqueryex': 5390, u'ntdeleteobjectauditalarm': 3297, u'wsasetlasterror': 5591, u'dllgetclassobjectinternal': 1130, u'setrectrgn': 4578, u'setmapmode': 4541, u'isaccelerator': 2669, u'heapcreate': 2417, u'isbadreadptr': 2675, u'rasapplypostconnectactions': 3754, u'mkparsedisplayname': 3086, u'createica': 818, u'wcscoll': 5438, u'inet_ntop': 2556, u'imagelist_merge': 2521, u'killtimer': 2784, u'dnsapifree': 1152, u'inet_ntoa': 2555, u'initiatesystemshutdownexw': 2585, u'memcpy': 3057, u'zwprotectvirtualmemory': 5695, u'yaxxz': 5656, u'setupfindnextmatchlinea': 4790, u'resumethread': 4052, u'setupfindnextmatchlinew': 4791, u'ndrdllcanunloadnow': 3142, u'__vbafreevar': 81, u'shcreateshellitem': 4953, u'setupdicreatedeviceinfow': 4681, u'makedraglist': 3021, u'setupdicreatedeviceinfoa': 4677, u'ldrloaddll': 2829, u'getsystemtime': 2219, u'closeeventlog': 577, u'qaexxz': 3707, u'rtlxunicodestringtoansisize': 4352, u'__vbaarydestruct': 69, u'iipbdi': 2495, u'dlg_boxindirect': 1118, u'wdtpinterfacepointer_usermarshal': 5455, u'enumresourcetypesa': 1299, u'oledraw': 3478, u'rtlntstatustodoserrornoteb': 4271, u'cm_locate_devnode_exw': 602, u'setupgetmultiszfielda': 4809, u'unregistercmmw': 5262, u'setupgetmultiszfieldw': 4810, u'commandlinetoargvw': 639, u'isasyncmoniker': 2673, u'setabortproc': 4439, u'getsystemdefaultlcidw': 2206, u'vardecfromi4': 5323, u'getcomputernameexw': 1789, u'immgetopenstatus': 2541, u'rtlqueueworkitem': 4290, u'tracederegisterexa': 5197, u'immreleasecontext': 2546, u'getlayout': 1968, u'_itoa': 198, u'createireportclient': 829, u'setupaddsectiontodiskspacelista': 4634, u'_itow': 199, u'openprinterw': 3536, u'ntqueryperformancecounter': 3376, u'ntreadfile': 3390, u'freepicture': 1497, u'samqueryinformationuser': 4395, u'getcursorinfo': 1825, u'setsecurityinfo': 4591, u'coinitializeex': 625, u'netsharedel': 3185, u'toolhelp32readprocessmemory': 5190, u'rlid994reclib19': 4066, u'terminatethread': 5169, u'getenvironmentstringsa': 1869, u'rlid994reclib11': 4065, u'vp': 5394, u'vw': 5398, u'getenvironmentstringsw': 1870, u'rtlunwind': 4337, u'raspppseteapinfo': 3843, u'certstrtonamew': 511, u'setservicestatus': 4594, u'getcharacterplacementw': 1750, u'setthreaderrormode': 4617, u'longjmp': 2913, u'ntgetwritewatch': 3316, u'gdipgetpropertyitem': 1638, u'rtlfindactivationcontextsectionstring': 4194, u'wvtasn1spcspopusinfodecode': 5619, u'ntrequestwakeuplatency': 3399, u'heap32next': 2414, u'lookupprivilegevaluea': 2925, u'rtlusageheap': 4342, u'_wfopen': 286, u'getthemesysfont': 2279, u'extractassociatediconw': 1350, u'lookupprivilegevaluew': 2926, u'createprofilefromlogcolorspacew': 870, u'getsoftwareupdateinfo': 2184, u'rtlsetenvironmentvariable': 4307, u'tabbedtextouta': 5162, u'accrewritegetnamedrights': 332, u'oemkeyscan': 3462, u'initnetworkaddresscontrol': 2586, u'tabbedtextoutw': 5163, u'netserverenum': 3178, u'deleteobject': 1067, u'getrawinputdevicelist': 2143, u'pau3': 3604, u'rtlacquirepeblock': 4096, u'setupgetstringfielda': 4817, u'destroyenvironmentblock': 1080, u'settextjustification': 4612, u'lua_settop': 2988, u'oleloadpictureex': 3488, u'setupgetstringfieldw': 4818, u'zwunlockfile': 5726, u'rtlintegertounicodestring': 4245, u'freelibraryw': 1494, u'xre_telemetryaccumulate': 5647, u'getgadgetticket': 1917, u'ntgetdevicepowerstate': 3315, u'getcpinfo': 1801, u'notifyunicastipaddresschange': 3217, u'winhttpgetproxyforurlw': 5496, u'createmultiprofiletransform': 840, u'thread32first': 5173, u'addatomw': 354, u'corevokeclassobject': 696, u'globalhandle': 2384, u'preload': 3657, u'rasgeteapuserinfo': 3795, u'setupremoveinstallsectionfromdiskspacelista': 4885, u'rtlxansistringtounicodesize': 4351, u'rtlacquireresourceexclusive': 4097, u'setupremoveinstallsectionfromdiskspacelistw': 4886, u'gdigetchardimensions': 1543, u'qbeipbgii': 3710, u'unregisterwait': 5272, u'stgopenstorage': 5059, u'_exit': 162, u'enumobjects': 1288, u'createtoolbarex': 896, u'lua_tolstring': 2991, u'samenumeratedomainsinsamserver': 4385, u'shgetspecialfolderpatha': 4987, u'shgetspecialfolderpathw': 4988, u'_putws': 230, u'olegetautoconvert': 3481, u'getenv': 1867, u'gethistoryfiledirectory': 1931, u'gettraceenableflags': 2303, u'cointernetcreatesecuritymanager': 628, u'rtlunicodetomultibyten': 4334, u'localeconv': 2893, u'wnetopenenumw': 5538, u'rasconnectionenum': 3759, u'loadkeyboardlayoutw': 2868, u'findstdcolor': 1432, u'accsetentriesinalist': 336, u'loadkeyboardlayouta': 2867, u'queueuserapc': 3742, u'_httpsendrequestasyncw': 188, u'cryptunprotectdata': 960, u'gdipcreateimageattributes': 1573, u'sscanf': 5043, u'ntaccesscheckbytypeandauditalarm': 3254, u'rtlinitializecriticalsection': 4234, u'notifywinevent': 3218, u'deletemetafile': 1065, u'lua_close': 2959, u'netsessiondel': 3181, u'shdeletekeyw': 4956, u'setclasslongw': 4455, u'shdeletekeya': 4955, u'changeserviceconfig2a': 517, u'bmakepathnamew': 447, u'beginupdateresourcea': 438, u'setconsoletitlew': 4467, u'clsidfromprogid': 596, u'dnsquery_utf8': 1155, u'qaexk': 3705, u'heapqueryinformation': 2420, u'setconsoletitlea': 4466, u'querysecuritypackageinfow': 3731, u'legacy_releasesecmoddbdata': 2845, u'setupscanfilequeuea': 4891, u'internetreadfile': 2643, u'certclosestore': 495, u'rtladdrefactivationcontext': 4113, u'lua_isstring': 2970, u'setupscanfilequeuew': 4892, u'createfontw': 810, u'pathstriptoroota': 3599, u'pathstriptorootw': 3600, u'lsaretrieveprivatedata': 2939, u'findcloseurlcache': 1398, u'cm_get_device_interface_list_size_exw': 601, u'feclientinitialize': 1375, u'createrestrictedtoken': 876, u'setupcreatediskspacelistw': 4653, u'getfullpathname': 1911, u'shgetmalloc': 4982, u'gettraceloggerhandle': 2305, u'ldrdestroyoutofprocessimage': 2818, u'isappthemed': 2671, u'httpsendrequestexw': 2469, u'httpsendrequestexa': 2468, u'spusermodeinitialize': 5039, u'findfirsturlcachegroup': 1414, u'rtlgetnativesysteminformation': 4219, u'rasgetndiswandrivercaps': 3804, u'regqueryinfokey': 3995, u'_wputenv': 291, u'csrallocatecapturebuffer': 964, u'writeprocessmemory': 5563, u'c_getfunctionlist': 472, u'findclose': 1396, u'rtlqueryinformationacl': 4283, u'loadnavigate': 2880, u'beginbufferedanimation': 430, u'nlsgetcacheupdatecount': 3209, u'ntenumeratevaluekey': 3303, u'getnumahighestnodenumber': 2054, u'attachthreadinput': 404, u'findresourcew': 1431, u'hscloseriliapp': 2437, u'__vbastrtoansi': 98, u'getconsolescreenbufferinfoex': 1795, u'findresourcea': 1428, u'cosetproxyblanket': 700, u'sysallocstringlen': 5139, u'wcsxfrm': 5454, u'cryptmsggetparam': 946, u'rassignalmonitorthreadexit': 3894, u'rasgetnapstate': 3803, u'shrimpers': 5006, u'getusernamew': 2326, u'samenumerateusersindomain': 4386, u'getusernamea': 2323, u'cmp_registernotification': 605, u'getthemetextmetrics': 2284, u'getchar': 1745, u'qaepadxz': 3701, u'samopenuser': 4394, u'unloadkeyboardlayout': 5250, u'getspecialbuild': 2185, u'getstartupinfoa': 2190, u'varweekdayname': 5364, u'rasrpcgetcountryinfo': 3863, u'getdefaultprinterw': 1833, u'getstartupinfow': 2191, u'isbadwriteptr': 2678, u'getdoubleclicktime': 1856, u'getuserdefaultlangid': 2317, u'setcurrentdirectory': 4471, u'setfiletime': 4509, u'lua_settable': 2987, u'wsastartup': 5595, u'uae': 5222, u'closeenhmetafile': 576, u'rtlunicodestringtooemstring': 4333, u'queryactctxw': 3721, u'setenvironmentvariablew': 4495, u'samlookupnamesindomain': 4392, u'char_traits': 523, u'stretchblt': 5078, u'getlocaleinfoex': 1975, u'selectobject': 4421, u'rasgetcredentialsw': 3787, u'registereventsourcea': 3960, u'rlid994reclib71': 4072, u'createdesktopa': 771, u'bcryptgetfipsalgorithmmode': 428, u'resetevent': 4044, u'createdesktopw': 772, u'oleloadpicture': 3487, u'ldrenumerateloadedmodules': 2820, u'gophergetlocatortypew': 2398, u'settcpentry': 4608, u'convertstringsecuritydescriptortosecuritydescriptor': 666, u'ldrfindentryforaddress': 2822, u'iswindowvisiblew': 2740, u'getrttandhopcount': 2152, u'getuserpreferreduilanguages': 2331, u'find_last_of': 1391, u'acmstreamreset': 342, u'cogetobjectcontext': 622, u'getstartupinfo': 2189, u'isthemebackgroundpartiallytransparent': 2720, u'getmodulefilenameexa': 2026, u'unpinfromtaskbar': 5257, u'avimakecompressedstream': 414, u'sysreallocstringlen': 5141, u'registerapplicationrecoverycallback': 3944, u'getmodulefilenameexw': 2027, u'sendmessagew': 4432, u'regqueryvalueexa': 4000, u'sendmessagea': 4428, u'sprintf': 5038, u'getsecurityinfo': 2166, u'checkfullscreen': 544, u'regqueryvalueexw': 4001, u'getcomputernamew': 1790, u'zwenumeratevaluekey': 5680, u'getcomputernamea': 1788, u'installcustommodule': 2602, u'rtlansistringtounicodesize': 4119, u'getsystemwow64directoryw': 2226, u'enumprocessmodules': 1292, u'getsystemwow64directorya': 2225, u'rpcraiseexception': 4086, u'initpropvariantfromstringasvector': 2588, u'__vbalatememcallld': 88, u'setupdigetdriverinstallparamsw': 4734, u'binitsystemandfontsdirectoriesw': 442, u'rasinitializenowait': 3812, u'messagebeep': 3065, u'initializesid': 2581, u'decodepointer': 1033, u'notxlog': 3219, u'_sys_nerr': 261, u'icmpclosehandle': 2486, u'raspppgetinfo': 3841, u'waitforsingleobject': 5406, u'setupqueuecopya': 4865, u'customdc': 985, u'rasportsetframing': 3835, u'drawdibopen': 1185, u'setupqueuecopyw': 4868, u'getcommandlinea': 1781, u'isthemepartdefined': 2723, u'getwindowlonga': 2351, u'getbkmode': 1732, u'vardatefromstr': 5317, u'getwindowlongw': 2352, u'wcstombs': 5452, u'getthreadpreferreduilanguages': 2289, u'enumclipboardformats': 1272, u'registerserviceprocess': 3973, u'regsavekeya': 4006, u'regsavekeyw': 4007, u'equalsid': 1316, u'process32nextw': 3667, u'releasemutex': 4020, u'csrallocatemessagepointer': 965, u'i_cryptnetisconnected': 2473, u'getbkcolor': 1731, u'getnearestpaletteindex': 2047, u'getkeynametexta': 1960, u'initskina': 2592, u'winstationenumerateprocesses': 5514, u'immassociatecontext': 2536, u'createwaitabletimerexw': 904, u'getthemetextextent': 2283, u'accrewritesetentriesinacl': 333, u'deletetimerqueuetimer': 1070, u'gdipcreatetexture': 1583, u'rectangle': 3910, u'charlowera': 525, u'readconsoleinputa': 3901, u'iswctype': 2734, u'gdipdisposeimage': 1593, u'getcurrentthemename': 1820, u'charlowerw': 528, u'getmetadatainternalinterface': 2011, u'du': 1224, u'getipforwardtable': 1946, u'kwcfg_setoption': 2792, u'queryserviceconfigw': 3733, u'strcpyw': 5074, u'rtlinitializesid': 4239, u'getobjecta': 2060, u'netusersetinfo': 3199, u'getcachepath': 1738, u'strcat': 5063, u'isxdl_clearfiles': 2747, u'rtlsetsaclsecuritydescriptor': 4314, u'animatepalette': 382, u'getobjectw': 2063, u'scaleviewportextex': 4400, u'itd_cancel': 2757, u'createctrl': 765, u'createstdaccessibleobject': 886, u'getbestinterfaceex': 1726, u'shgetinversecmap': 4980, u'clsidfromprogidex': 597, u'lua_pushvalue': 2983, u'gdipgetworldtransform': 1646, u'rtlgetlongestntpathlength': 4218, u'createsemaphorea': 879, u'netshareadd': 3183, u'rpcstringfreea': 4091, u'beginrestorepoint': 437, u'createsemaphorew': 881, u'ntterminatethread': 3433, u'ldrsetdllmanifestprober': 2832, u'dlladdinstalltionglobalkey': 1123, u'rpcstringfreew': 4092, u'chartooembuffa': 534, u'getclassinfoa': 1758, u'createrectrgn': 873, u'getwindowtext': 2361, u'getclassinfow': 1762, u'writefmtusertypestg': 5556, u'setdebugerrorlevel': 4478, u'k32getmappedfilenamew': 2778, u'getthemepartsizew': 2271, u'upbai': 5277, u'rtldeactivateactivationcontext': 4155, u'getshortcuttarget': 2174, u'rpcepresolvebinding': 4084, u'opencolorprofilew': 3519, u'setupinitializefilelogw': 4824, u'setupdigetinfclassw': 4743, u'opencolorprofilea': 3518, u'rtlabsolutetoselfrelativesd': 4095, u'getdibits': 1843, u'setupdigetinfclassa': 4742, u'setupinitializefileloga': 4823, u'lockworkstation': 2909, u'drawthemetext': 1213, u'msigetcomponentpatha': 3114, u'rasgethconnfromentry': 3800, u'getcurrentthreadid': 1823, u'heaprealloc': 2421, u'getbufferedpaintdc': 1735, u'getcliprgn': 1775, u'stubinit': 5113, u'_adj_fpatan': 122, u'ldrflushalternateresourcemodules': 2825, u'removepropa': 4032, u'varnot': 5353, u'registerclipboardformata': 3953, u'removepropw': 4033, u'init_api': 2563, u'createtoolhelp32snapshot': 897, u'registerclipboardformatw': 3954, u'rtlactivateactivationcontextunsafefast': 4101, u'createwindowex': 908, u'shchangenotify': 4950, u'flatsb_getscrollrange': 1444, u'maskblt': 3042, u'getuserdefaultlcid': 2318, u'gdipgraphicsclear': 1647, u'loadstringa': 2885, u'waveoutgetdevcapsa': 5425, u'loadstringw': 2886, u'qaejipavelement': 3697, u'midioutprepareheader': 3074, u'qaexh_n': 3703, u'zwsetinformationprocess': 5718, u'setuserdata': 4906, u'getprocessworkingsetsizew': 2114, u'getcalendarinfoex': 1739, u'dcomchannelsethresult': 1004, u'pathunquotespacesw': 3603, u'rtlcapturestackbacktrace': 4127, u'dcidestroy': 1001, u'translatemessage': 5214, u'setupopenmasterinf': 4849, u'gdipcreatehbitmapfrombitmap': 1572, u'openprocessw': 3541, u'beginbufferedpaint': 431, u'closehandle': 580, u'geterrorinfo': 1874, u'setrect': 4576, u'getfiletime': 1893, u'gdicomment': 1531, u'zwunloadkey': 5725, u'unregistergpnotificationinternal': 5265, u'cpduplicatekey': 717, u'cleareventloga': 569, u'rtladdaccessdeniedobjectace': 4107, u'rlid994reclib52': 4070, u'setscrollrange': 4584, u'cosuspendclassobjects': 701, u'freeaddrinfo': 1482, u'getkeyboardlayoutnamew': 1957, u'readeventlogw': 3903, u'ntaccesscheckbytype': 3253, u'gdipsetimageattributescolormatrix': 1675, u'__a5a9ff3334c04578ad431c3f0e21e553': 47, u'startservicea': 5050, u'lua_pushnil': 2980, u'post': 3646, u'rtlchartointeger': 4128, u'__34dfce9893c2425f8fcce4a8a4376f90': 40, u'createdir': 782, u'rtldeletetimerqueueex': 4167, u'getclipboardviewer': 1773, u'rasgeterrorstringw': 3799, u'deletemethod': 1066, u'flatsb_setscrollpos': 1446, u'aaexxz': 305, u'rtlduplicateunicodestring': 4181, u'rtlidentifierauthoritysid': 4229, u'mt7': 3120, u'__c1ea1798a9f64370b9e675e3068f64ed': 51, u'allocconsole': 377, u'getsecuritydescriptorowner': 2164, u'emptyclipboard': 1236, u'wakeconditionvariable': 5413, u'hilitemenuitem': 2429, u'itd_addfile': 2754, u'varparsenumfromstr': 5356, u'_adj_fdiv_m32': 114, u'getcurrentprocess': 1814, u'dbguistopdebugging': 996, u'rasportreceiveex': 3832, u'encrypt': 1248, u'ntgetcontextthread': 3313, u'gdipclonebitmapareai': 1551, u'setpixel': 4560, u'getpaletteentries': 2074, u'rtlfindactivationcontextsectionguid': 4193, u'netuserenum': 3195, u'_telli64': 262, u'setentriesinaclw': 4493, u'internetconnectw': 2623, u'update': 5278, u'internetconnecta': 2622, u'setentriesinacla': 4492, u'writeprofilestringa': 5564, u'waveoutgetnumdevs': 5426, u'ldap_unbind_s': 2812, u'writeprofilestringw': 5565, u'ntsetvolumeinformationfile': 3426, u'pathfindextensiona': 3573, u'rtlimpersonateself': 4232, u'continuedebugevent': 653, u'pathfindextensionw': 3574, u'setwaitabletimerex': 4914, u'pathmatchspecw': 3585, u'uuidtostringa': 5299, u'checkmenuitem': 548, u'addfontresource': 359, u'gdiploadimagefromfile': 1656, u'uuidtostringw': 5300, u'waitforsingleobjectex': 5407, u'sslcrackcertificate': 5044, u'getlogicaldrives': 1978, u'rasbundleclearstatistics': 3755, u'loadmenuindirecta': 2877, u'maexpauhwnd__': 3017, u'getwindowplacement': 2354, u'dllcanunloadnow': 1125, u'loadmenuindirectw': 2878, u'getrecordinfofromtypeinfo': 2145, u'beginpath': 436, u'addace': 351, u'ndrcstdstubbuffer2_release': 3140, u'createwellknownsidw': 907, u'symsetoptions': 5137, u'findtexta': 1433, u'getcomboboxinfo': 1780, u'gdipdrawstring': 1606, u'getprocessiocounters': 2106, u'lsalookupauthenticationpackage': 2937, u'localfiletimetofiletime': 2895, u'getshellwindow': 2173, u'urlcanonicalizea': 5287, u'cryptverifysignaturew': 963, u'wtsquerysessioninformationa': 5607, u'extcreateregion': 1345, u'dbgbreakpoint': 987, u'npopenenum': 3238, u'ntqueryinformationthread': 3370, u'wtsquerysessioninformationw': 5608, u'cryptverifysignaturea': 962, u'shgetdesktopfolder': 4972, u'fputws': 1477, u'getrgnbox': 2150, u'fputwc': 1476, u'getbestinterface': 1725, u'kwcfg_getinisectionlen': 2789, u'endenumeration': 1257, u'ntinitiatepoweraction': 3318, u'zeromemorya': 5660, u'getsyscolor': 2201, u'ntopentimer': 3351, u'_cexit': 138, u'getwritewatch': 2372, u'eventregister': 1325, u'ldrshutdownthread': 2834, u'_mbscmp': 215, u'getfileversioninfosizea': 1900, u'ntwritefilegather': 3442, u'getfileversioninfosizew': 1901, u'rtlfreeunicodestring': 4207, u'imagelist_setdragcursorimage': 2527, u'stretchdibits': 5079, u'setupqueuedeletea': 4871, u'polypatblt': 3643, u'lual_checktype': 2997, u'createactctx': 740, u'getfontlanguageinfo': 1908, u'endbufferedanimation': 1251, u'setupqueuedeletew': 4874, u'isvalidsecuritydescriptor': 2730, u'olesavetostream': 3494, u'getprivateprofilestringa': 2091, u'abort': 307, u'fontislinked': 1466, u'immlockimc': 2544, u'getprivateprofilestringw': 2092, u'setwindowrgn': 4924, u'write': 5549, u'dhcpisenabled': 1089, u'npaddconnection': 3220, u'lua_error': 2962, u'btncreate': 456, u'gdipcreatebitmapfromfileicm': 1559, u'noexecuteprocessexceptionw': 3212, u'itd_addmirror': 2756, u'_hwrite': 189, u'createicw': 823, u'wtsenumerateserversa': 5604, u'dllsendhomepagesetusagea': 1144, u'__p__fmode': 63, u'cplapplet': 729, u'getmappedfilenamew': 1991, u'postmessagea': 3649, u'getmappedfilenamea': 1990, u'dllsendhomepagesetusagew': 1145, u'postmessagew': 3650, u'rasaddnotificationex': 3752, u'wspstartup': 5601, u'getiftable': 1942, u'switchdesktop': 5121, u'getcharabcwidthsfloatw': 1748, u'gdipgetpropertysize': 1640, u'getgestureconfig': 1919, u'zwopenfile': 5691, u'enddialog': 1255, u'findfirsturlcachecontainera': 1409, u'getcharabcwidthsfloata': 1747, u'cryptdecrypt': 926, u'gdipcreatebitmapfromstream': 1563, u'pbdi': 3614, u'getclassinfoexw': 1760, u'movetoex': 3106, u'getclassinfoexa': 1759, u'sendto': 4434, u'getlongpathname': 1982, u'initializeslisthead': 2582, u'gettimeformata': 2293, u'en': 1238, u'getuserprofiledirectoryw': 2332, u'enablewindow': 1244, u'stringfromiid': 5087, u'setsecuritydescriptorgroup': 4588, u'createassemblyenum': 745, u'apphelpcheckshellobject': 389, u'npgetdirectorytype': 3231, u'rasstartrasautoifrequired': 3898, u'8std': 29, u'heapalloc': 2415, u'getlocaleinfoaa': 1974, u'rtlcreateuserthread': 4153, u'acclookupaccountsid': 328, u'lua_gettable': 2966, u'setupinstallfrominfsectionw': 4832, u'shsetvaluea': 5009, u'ftpcreatedirectoryw': 1511, u'isdbcsleadbyte': 2691, u'setupinstallfrominfsectiona': 4831, u'setpermlayers': 4559, u'w4_initfl': 5399, u'closethreadpoolwait': 588, u'xz': 5648, u'createthreadpoolwait': 893, u'ntprivilegedserviceauditalarm': 3354, u'stgisstoragefile': 5058, u'coaddrefserverprocess': 606, u'dispcallfunc': 1112, u'setupsetdirectoryida': 4893, u'getipinterfaceentry': 1948, u'gettextextentpointa': 2247, u'pbd0': 3610, u'imagelist_dragleave': 2504, u'setupsetdirectoryidw': 4896, u'uuidcreatesequential': 5297, u'gettextextentpointw': 2248, u'dllgetinstallfilenameextw': 1132, u'isvalidsid': 2731, u'unhookwindowshookex': 5243, u'rtlnumbergenerictableelements': 4272, u'setnotifyhandler': 4556, u'seturlcacheentryinfoa': 4903, u'deletefile': 1058, u'loadacceleratorsa': 2851, u'reverttoself': 4054, u'_hextostra': 184, u'x7fc': 5622, u'setupinstallservicesfrominfsectionexa': 4834, u'hssetrilistart': 2448, u'setupiteratecabinetw': 4838, u'regqueryinfokeyw': 3997, u'cstdstubbuffer_disconnect': 980, u'setupcopyoeminfw': 4651, u'setupcopyoeminfa': 4650, u'regqueryinfokeya': 3996, u'setupiteratecabineta': 4837, u'ddecreatestringhandlea': 1010, u'setupqueryinfversioninformationa': 4859, u'wdtpinterfacepointer_userunmarshal': 5457, u'ddecreatestringhandlew': 1011, u'setfileapistoansi': 4499, u'getfileinformationbyhandle': 1886, u'setupqueryinfversioninformationw': 4860, u'shpathprepareforwritea': 5004, u'unregistertypelib': 5271, u'createicon': 819, u'shpathprepareforwritew': 5005, u'gdipsetworldtransform': 1686, u'ntsetsysteminformation': 3421, u'enumcalendarinfoexex': 1269, u'scalewindowextex': 4401, u'getoldesteventlogrecord': 2065, u'rtlcreateacl': 4139, u'lua_pushboolean': 2975, u'oleload': 3485, u'getthemepartsize': 2270, u'ntadjustprivilegestoken': 3260, u'ldap_first_entry': 2801, u'rtlansistringtounicodestring': 4120, u'heapfree': 2419, u'locallock': 2898, u'imagelist_loadimage': 2518, u'getdesktopwindow': 1835, u'lockwindowupdate': 2908, u'ptinregion': 3684, u'0critseclock': 5, u'verlanguagenamew': 5375, u'ddefreedatahandle': 1013, u'_cilog': 144, u'rasgetautodialaddressa': 3781, u'dsgetdcnamew': 1217, u'pbdabv10': 3612, u'dsgetdcnamea': 1216, u'gdipmeasurestring': 1661, u'peekmessagew': 3624, u'gdipgetimageencoders': 1624, u'setupquerysourcelistw': 4862, u'mirrorrgn': 3085, u'peekmessagea': 3623, u'safearraysetiid': 4375, u'setupquerysourcelista': 4861, u'checksummappedfile': 552, u'__vbaonerror': 93, u'findexecutablea': 1400, u'csrgetprocessid': 972, u'_strcmpi': 254, u'findexecutablew': 1401, u'vdbgprintex': 5366, u'foldstringw': 1465, u'initializeprocessforwswatch': 2577, u'comarshalinterface': 637, u'ntyieldexecution': 3444, u'_7runtime_error': 32, u'regflushkey': 3940, u'initskin': 2591, u'gettextextentexpointwpri': 2244, u'lual_newmetatable': 3001, u'rascreateconnection': 3763, u'imagelist_seticonsize': 2528, u'bstr_usersize': 454, u'_memicmp': 218, u'setnamedpipehandlestate': 4553, u'rapauxdatacountoffset': 3747, u'getmodulehandlea': 2030, u'ldrfindresource_u': 2823, u'getcommstate': 1786, u'ntenumeratekey': 3302, u'rtlacquireresourceshared': 4098, u'getmodulehandlew': 2033, u'drawstatustext': 1199, u'corexitprocess': 698, u'ldrunloadalternateresourcemodule': 2835, u'shgetdatafromidlistw': 4971, u'imagelist_remove': 2523, u'cm_open_class_key_exw': 603, u'immsetcompositionwindow': 2548, u'regqueryvaluea': 3998, u'abqbd': 310, u'regqueryvaluew': 4002, u'samgetcompatibilitymode': 4389, u'initprocesspriv': 2587, u'lual_checklstring': 2996, u'setupdimoveduplicatedevice': 4756, u'samlookupdomaininsamserver': 4391, u'gdipfillpolygoni': 1608, u'translatenamew': 5215, u'movewindow': 3107, u'dialogboxparamw': 1096, u'ntcreatetoken': 3291, u'dialogboxparama': 1095, u'cocreatefreethreadedmarshaler': 608, u'createprocessasuserw': 862, u'waveoutunprepareheader': 5433, u'getprivateprofileinta': 2085, u'regopenkeyexw': 3993, u'icfconnect': 2483, u'regopenkeyexa': 3992, u'ntmaketemporaryobject': 3327, u'getprivateprofileintw': 2086, u'exitwindowsex': 1340, u'verqueryvaluea': 5377, u'createpatternbrush': 851, u'getnumberformata': 2055, u'rtlmovememoryw': 4262, u'getnumberformatw': 2056, u'oleinitialize': 3483, u'oleduplicatedata': 3479, u'ntcreateiocompletion': 3277, u'gdipimagegetframecount': 1649, u'getwindowtextlength': 2363, u'lua_getfield': 2963, u'rasconnectionnotification': 3761, u'strcmp': 5067, u'ntrestorekey': 3401, u'setdcpencolor': 4477, u'putsigneddatamsg': 3691, u'fgets': 1379, u'gettickcount64': 2292, u'findfirstchangenotificationa': 1402, u'winhttpsetcredentials': 5506, u'findfirstchangenotificationw': 1403, u'ntcreatesection': 3286, u'gdipcreatematrix': 1575, u'globalfree': 2381, u'registerformatenumerator': 3961, u'cryptsipgetsigneddatamsg': 956, u'closethemedata': 585, u'freewebwnd': 1502, u'onmessage': 3508, u'fileunicode2ansi': 1383, u'clienttoscreen': 570, u'variantcopyind': 5343, u'varimp': 5346, u'charnextw': 531, u'lookupaccountnamea': 2914, u'rtlallocateheap': 4117, u'log': 2910, u'rtlupdatetimer': 4341, u'shsetunreadmailcountw': 5008, u'lookupaccountnamew': 2916, u'ntraiseharderror': 3389, u'cryptacquirecontexta': 918, u'_pctype': 228, u'openscmanagerw': 3543, u'cryptacquirecontextw': 919, u'domodal': 1167, u'openscmanagera': 3542, u'vardatefromudate': 5318, u'rassetdialparams': 3884, u'aaeaaepbd': 302, u'tracedumpexa': 5198, u'__vbavardup': 102, u'setupaddsectiontodiskspacelistw': 4635, u'iunknown_addref_proxy': 2774, u'rtlsetthreadpoolstartfunc': 4318, u'inet_pton': 2557, u'regenumkeyex': 3934, u'cryptencrypt': 930, u'getcurrentobject': 1811, u'unloaduserprofile': 5251, u'findnexturlcachegroup': 1425, u'execfile': 1330, u'getmetadatainternalinterface_retaddr': 2012, u'ntrequestdevicewakeup': 3398, u'olereggetmiscstatus': 3491, u'ldrgetdllhandle': 2826, u'ddeclienttransaction': 1006, u'setthreadlocale': 4620, u'_chkstk': 140, u'isconvertinetstringavailable': 2690, u'__vbaerroroverflow': 73, u'avifileinit': 411, u'wnetopenenuma': 5537, u'getcharwidthinfo': 1753, u'shautocomplete': 4945, u'getdateformatex': 1828, u'_wchmod': 279, u'regdeletekeya': 3925, u'createwaitabletimerw': 905, u'setupdiclassnamefromguida': 4673, u'setwindowsubclass': 4927, u'setupdiclassnamefromguidw': 4676, u'deleteatom': 1050, u'regdeletekeyw': 3928, u'createwaitabletimera': 903, u'bringwindowtotop': 449, u'lual_openlib': 3003, u'getcharabcwidthsw': 1749, u'gdipcreatebitmapfromfile': 1558, u'ftpopenfilea': 1518, u'getcharabcwidthsa': 1746, u'varcat': 5313, u'ftpopenfilew': 1519, u'gentee_ptr': 1699, u'rassetrasdialinfo': 3892, u'gdipcloneimage': 1553, u'setenvironmentvariablea': 4494, u'setuplogerrora': 4839, u'getpermlayers': 2080, u'getifentry2': 1941, u'recvfrom': 3914, u'getmetafilea': 2013, u'setuplogerrorw': 4840, u'copymemory': 682, u'xff': 5640, u'getuserdefaultuilanguage': 2320, u'rtlcutovertimetosystemtime': 4154, u'winstationfreegapmemory': 5515, u'getnumberofconsoleinputevents': 2057, u'ntopensymboliclinkobject': 3348, u'imagelist_geticon': 2514, u'dllgetclassobject': 1128, u'gdipcreatefromhwnd': 1570, u'gettabbedtextextentw': 2228, u'getprogress': 2126, u'dllgetinstallationid': 1131, u'ntsetinformationjobobject': 3413, u'rtldeleteresource': 4164, u'_createfolderw': 155, u'findclosechangenotification': 1397, u'getwindowtextw': 2366, u'_readprofileblockw': 232, u'getwindowtexta': 2362, u'variant_userunmarshal': 5338, u'loaduserprofilea': 2889, u'setprocessworkingsetsize': 4571, u'wnetgetconnectionw': 5534, u'ntcomparetokens': 3272, u'loaduserprofilew': 2890, u'waveoutsetvolume': 5432, u'wvnsprintfa': 5612, u'pathremoveextensiona': 3591, u'ntunmapviewofsection': 3438, u'wvnsprintfw': 5613, u'pathremoveextensionw': 3592, u'setupdiopendeviceinterfacea': 4762, u'wcscat': 5435, u'setupdiopendeviceinterfacew': 4764, u'setsecuritydescriptordacl': 4587, u'uaexipbutagstylestruct': 5229, u'_trackmouseevent': 267, u'pathfileexistsw': 3572, u'connectserverwmi': 652, u'pathfileexistsa': 3571, u'movefilea': 3100, u'f9': 1366, u'getwc': 2344, u'rasgetdialmachineeventcontext': 3792, u'kcfg_getinisectionlen': 2780, u'movefilew': 3104, u'enumdisplaysettingsa': 1281, u'_wremove': 292, u'pbdh': 3613, u'taskdialogindirect': 5165, u'dsgetsitenamea': 1220, u'0init': 7, u'rasenumconnectionports': 3774, u'registerdragdrop': 3959, u'drawtext': 1200, u'drawescape': 1187, u'sendinput': 4426, u'dsgetsitenamew': 1221, u'nd_ri4': 3128, u'ntflushbuffersfile': 3306, u'bufferedpaintstopallanimations': 468, u'nd_ri2': 3126, u'getservicekeynamew': 2172, u'rasrpcenumconnections': 3862, u'dnsquery_a': 1154, u'rtlequalstring': 4187, u'setupdigetdeviceinstanceida': 4724, u'pathaddbackslashw': 3563, u'dnsquery_w': 1156, u'getservicekeynamea': 2171, u'setupdigetdeviceinstanceidw': 4725, u'rasbundleclearstatisticsex': 3756, u'transmitfile': 5216, u'basic_ios': 420, u'ntsavekey': 3404, u'nsc_getfunctionlist': 3243, u'setupdibuildclassinfolistexw': 4664, u'createdibpatternbrushpt': 780, u'werreportadddump': 5460, u'x7fvu': 5623, u'rtlupcaseunicodechar': 4338, u'setupcommitfilequeuew': 4647, u'registertraceguidsw': 3977, u'setupcommitfilequeuea': 4646, u'setarcdirection': 4443, u'gdipgetfontsize': 1620, u'rasdevicesetinfosafe': 3770, u'rhpid850rheng1': 4058, u'ya': 5649, u'1init': 18, u'broadcastsystemmessagea': 450, u'samgetgroupsforuser': 4390, u'_write': 294, u'cointernetcombineurl': 627, u'lstrcmp': 2943, u'_initcvt': 191, u'aaex_n': 303, u'ntquerysection': 3377, u'regopenkeyex': 3991, u'getclassinfo': 1757, u'gdipsetstringformathotkeyprefix': 1682, u'writeclassstm': 5551, u'iscompositionactive': 2688, u'sslfreecertificate': 5045, u'writeclassstg': 5550, u'deferwindowpos': 1039, u'querysecuritycontexttoken': 3730, u'getdc': 1830, u'cryptgetuserkey': 940, u'ntsavekeyex': 3405, u'setwindowtext': 4928, u'zombie_gettypeinfo': 5661, u'findmimefromdata': 1416, u'gophercreatelocatorw': 2395, u'capgetdriverdescriptionw': 488, u'regcreatekeyex': 3921, u'9std': 30, u'capgetdriverdescriptiona': 487, u'legacy_setcryptfunctions': 2846, u'put': 3687, u'recv': 3913, u'qbepbdxz': 3712, u'getlogicalprocessorinformation': 1981, u'ldraccessoutofprocessresource': 2814, u'winstationfreememory': 5516, u'findgadgetfrompoint': 1415, u'imminstallimea': 2542, u'getmailslotinfo': 1988, u'cpgetprovparam': 724, u'closetouchinputhandle': 591, u'assign': 394, u'interlockedincrement': 2610, u'gentee_load': 1698, u'varneg': 5352, u'resizepalette': 4048, u'_getuniquehardwareidw': 181, u'rasstartprotocolrenegotiation': 3897, u'_vsnwprintf': 277, u'zwsystemdebugcontrol': 5723, u'cryptunprotectmemory': 961, u'ntterminatejobobject': 3431, u'rasenumentriesw': 3778, u'lbitemfrompt': 2794, u'enumuilanguagesw': 1311, u'getrandomrgn': 2139, u'rasenumentriesa': 3777, u'createeventw': 799, u'startdoca': 5047, u'destroypropertysheetpage': 1084, u'ischarlowera': 2683, u'rasgetdevconfigex': 3789, u'createeventa': 797, u'endpath': 1262, u'rtlmultiappendunicodestringbuffer': 4263, u'startdocw': 5048, u'qaejxz': 3699, u'std': 5055, u'pspropertybag_writedword': 3681, u'translateaccelerator': 5207, u'ldap_get_dna': 2802, u'store': 5061, u'str': 5062, u'_adj_fdiv_m32i': 115, u'writeprivateprofilestringa': 5559, u'rtlcopyunicodestring': 4138, u'writeprivateprofilestringw': 5560, u'lstrlena': 2956, u'creategadget': 812, u'md5update': 3054, u'ntaccesscheck': 3251, u'pathtoregion': 3601, u'ciorba': 560, u'continuestart': 654, u'lstrlenw': 2957, u'__vbavarxor': 108, u'closetoolhelp32snapshot': 589, u'cstdstubbuffer_countrefs': 977, u'creatediscardablebitmap': 787, u'clsidfromstring': 598, u'createtimer': 894, u'createlinkinfow': 831, u'clear': 564, u'duplicatetoken': 1226, u'qbe': 3708, u'cotaskmemfree': 703, u'_adj_fdivr_m64': 121, u'shellexecut': 4961, u'xef': 5638, u'getgadgetfocus': 1914, u'gdipcreateregionrecti': 1580, u'ischarlowerw': 2684, u'getwindowsversion': 2360, u'setgraphicsmode': 4522, u'convertstringsidtosidw': 670, u'nd_wu1_retaddr': 3135, u'unregistertraceguids': 5270, u'module32first': 3092, u'vardecadd': 5319, u'_wcsdup': 281, u'convertstringsidtosida': 669, u'rtladdatomtoatomtable': 4109, u'imagelist_writeex': 2532, u'bufferedpaintuninit': 469, u'wsarecvfrom': 5587, u'rtlistextunicode': 4249, u'imagelist_drawindirect': 2509, u'mbtowc': 3046, u'framergn': 1479, u'werreportcreate': 5463, u'installcustomassembly': 2601, u'internetreadfileexa': 2644, u'setipforwardentry': 4529, u'rtlregisterwait': 4295, u'ntqueryeafile': 3363, u'reginstall': 3942, u'ntunloadkey': 3435, u'internetsetoptionw': 2651, u'startpage': 5049, u'cointernetgetsession': 630, u'createprivatenamespacew': 858, u'rasportclearstatistics': 3817, u'hidecaret': 2426, u'ntunlockvirtualmemory': 3437, u'legacy_addsecmoddb': 2841, u'zwresumethread': 5714, u'geteffectiveclientrect': 1860, u'createtypelib2': 898, u'setbkcolor': 4446, u'createroundrectrgn': 877, u'exectostack': 1334, u'rtlgetprocessheaps': 4222, u'heap32listfirst': 2412, u'gdipcreatematrix2': 1576, u'setupdienumdriverinfoa': 4698, u'enablescrollbar': 1241, u'setupdienumdriverinfow': 4699, u'setsecuritydescriptorsacl': 4590, u'cryptdecodeobject': 925, u'cryptcreatehash': 924, u'setupqueuedeletesectionw': 4873, u'imagelist_duplicate': 2510, u'regqueryvalueex': 3999, u'dwmiscompositionenabled': 1232, u'setupqueuedeletesectiona': 4872, u'prebindassembly': 3655, u'endupdateresourcea': 1265, u'wnetcloseenum': 5530, u'createconsolescreenbuffer': 763, u'regconnectregistryw': 3919, u'rtlflushsecurememorycache': 4198, u'setviewportextex': 4909, u'regconnectregistrya': 3918, u'regrestorekeya': 4004, u'rtldeletesecurityobject': 4165, u'getpriorityclass': 2084, u'setnamedsecurityinfow': 4555, u'regrestorekeyw': 4005, u'itd_downloadtext': 2761, u'setupdigetdeviceinstallparamsa': 4722, u'rtlformatmessage': 4200, u'ntprivilegecheck': 3353, u'showcursor': 4994, u'internetcrackurlw': 2625, u'setupremovefromsourcelistw': 4884, u'setupdigetdeviceinstallparamsw': 4723, u'rasportgetstatisticsex': 3827, u'certgetcertificatechain': 505, u'internetcrackurla': 2624, u'setupremovefromsourcelista': 4883, u'getthemefont': 2265, u'malloc': 3024, u'ldap_err2stringa': 2799, u'unregistergpnotification': 5264, u'isthemeactive': 2719, u'rasportclose': 3818, u'getwindowcontexthelpid': 2346, u'mapifreebuffer': 3028, u'0ios_base': 8, u'eventunregister': 1326, u'onclick': 3505, u'isprocessdpiaware': 2713, u'rtlsetuservalueheap': 4320, u'sxsoleaut32mapiidtoproxystubclsid': 5130, u'readfmtusertypestg': 3905, u'createwindowstationw': 911, u'wsacleanup': 5574, u'enddoc': 1256, u'softpubcleanup': 5029, u'charnextexa': 530, u'setthreadpreferreduilanguages': 4623, u'uninit': 5245, u'ntloadkey2': 3322, u'getnumberofeventlogrecords': 2058, u'fflush': 1377, u'hsstartservice': 2450, u'cryptqueryobject': 949, u'capbdxz': 483, u'mequl52bi': 3062, u'writeconsolew': 5553, u'getdlldirectoryw': 1854, u'handleftp': 2406, u'regdeletetreew': 3930, u'wsasendto': 5590, u'__vbastrvarmove': 99, u'dllsendinstallationusagew': 1148, u'removefontresource': 4028, u'strformatkbsizew': 5083, u'getprocessheap': 2102, u'strstr': 5101, u'translatemdisysaccel': 5213, u'signal': 5013, u'gdicreatelocalmetafilepict': 1538, u'realizepalette': 3908, u'queryperformancecounter': 3728, u'rtllengthsid': 4255, u'strchria': 5066, u'registerpenapp': 3967, u'inithelperdll': 2568, u'zwcreateuserprocess': 5673, u'rasstartppprenegotiation': 3896, u'regdeletetreea': 3929, u'variantchangetype': 5339, u'createassemblynameobjectw': 748, u'drawthemebackgroundw': 1207, u'netshareenum': 3186, u'fsetpos': 1507, u'freemibtable': 1496, u'strcmpna': 5069, u'itd_filecount': 2762, u'encryptmessage': 1249, u'excludecliprect': 1327, u'rtlclearbits': 4129, u'varr4fromdec': 5358, u'freeaddrinfoexw': 1484, u'stringrepair': 5088, u'sh_shortcut': 4941, u'setkeyboardstate': 4531, u'ubepbgxz': 5234, u'rtlunicodestringtointeger': 4332, u'_read': 231, u'releasecapture': 4017, u'f31': 1365, u'lookupaccountnamelocalw': 2915, u'varabs': 5304, u'rasrpcgetuserpreferences': 3869, u'sxslookupclrguid': 5127, u'keybd_event': 2782, u'invalidategadget': 2660, u'gdipgettextrenderinghint': 1645, u'peeknamedpipe': 3625, u'gdiplusstartup': 1660, u'classinfobase': 563, u'hlinksimplenavigatetomoniker': 2432, u'ntcreateuserprocess': 3292, u'gdiconvertenhmetafile': 1534, u'addatoma': 353, u'lookupprivilegevalue': 2924, u'getenvironmentvariable': 1871, u'vfprintf': 5380, u'pathisrelativew': 3581, u'cryptgenkey': 934, u'isvalidlinkinfo': 2727, u'cotaskmemalloc': 702, u'ungetc': 5239, u'getmonitorinfoa': 2037, u'globallock': 2385, u'charlowerbuffw': 527, u'oleuninitialize': 3500, u'htonl': 2455, u'rtlverifyversioninfo': 4349, u'ntaccesscheckbytyperesultlist': 3255, u'i_rpcbindingisclientlocal': 2474, u'createhardlinkw': 814, u'disablesr': 1106, u'charlowerbuffa': 526, u'rtldosapplyfileisolationredirection_ustr': 4178, u'htons': 2456, u'polygon': 3640, u'rtldeterminedospathnametype_u': 4175, u'setwindowplacement': 4922, u'raparraylength': 3746, u'saferidentifylevel': 4381, u'eval': 1319, u'safearraygetelemsize': 4367, u'copyacceleratortablea': 671, u'ndrstubcall2': 3152, u'copyacceleratortablew': 672, u'pathunquotespacesa': 3602, u'gu': 2404, u'gp': 2400, u'_allmul': 127, u'fclose': 1370, u'go': 2392, u'ptinrect': 3683, u'registerdevicenotificationa': 3957, u'bufferedpaintinit': 466, u'varformatcurrency': 5330, u'rtlqueryinformationactivationcontext': 4284, u'maexpavelement': 3018, u'registerdevicenotificationw': 3958, u'translateacceleratora': 5208, u'tlsgetvalue': 5184, u'creatememoryresourcenotification': 836, u'rtlcreateheap': 4143, u'gdipsetsmoothingmode': 1679, u'sethideclose': 4526, u'process32next': 3666, u'translateacceleratorw': 5209, u'getvolumeinformationa': 2340, u'getmodulebasenamea': 2021, u'writeprivateprofilestructa': 5561, u'getvolumeinformationw': 2341, u'xre_createappdata': 5641, u'writeprivateprofilestructw': 5562, u'getmodulebasenamew': 2022, u'rtlisnamelegaldos8dot3': 4248, u'setthreadpriority': 4624, u'ntsetinformationfile': 3412, u'ntsetinformationdebugobject': 3411, u'setevent': 4498, u'acmstreamconvert': 339, u'download': 1169, u'cryptreleasecontext': 950, u'gdipimagegetframedimensionscount': 1650, u'gdipfree': 1612, u'enumfontfamiliesw': 1285, u'findatom': 1394, u'ntcreatethread': 3288, u'getsystempowerstatus': 2218, u'lual_openlibs': 3004, u'__vbafpexception': 75, u'extracticonex': 1353, u'z1': 5658, u'removemenu': 4031, u'createmenu': 837, u'alphablend': 380, u'getoverlappedresult': 2071, u'gdipsavegraphics': 1666, u'shfileoperationa': 4969, u'safearraycopy': 4358, u'i_rpcmapwin32status': 2477, u'realloc': 3909, u'wsaisblocking': 5581, u'readfile': 3904, u'cotreatasclass': 705, u'hsposturlex': 2443, u'__wsafdisset': 111, u'putinstancewmi': 3689, u'varcmp': 5314, u'langdialog': 2793, u'setcursorpos': 4475, u'rasremovenotificationex': 3855, u'coregisterclassobject': 690, u'addscheduledtaskonlogon': 362, u'rtltimefieldstotime': 4325, u'ndrclientcall': 3138, u'rtlextendheap': 4191, u'resize': 4047, u'rtlsetownersecuritydescriptor': 4313, u'freeenvironmentstringsa': 1491, u'strcmpniw': 5071, u'immsetconversionstatus': 2549, u'_n1': 220, u'destroywindoww': 1086, u'strcmpnia': 5070, u'freeenvironmentstringsw': 1492, u'setconvertstg': 4469, u'gdidllinitialize': 1539, u'setupdiinstalldevice': 4752, u'internetconfirmzonecrossingw': 2621, u'towupper': 5195, u'rasseteaplogoninfo': 3886, u'createenhmetafilew': 793, u'createenhmetafilea': 792, u'freeallwebwnd': 1486, u'getdrivetypew': 1858, u'nd_ru1_retaddr': 3131, u'comparestringex': 644, u'inittoinitcomplete_measureadd': 2594, u'getdrivetypea': 1857, u'gdiflush': 1541, u'clearerr': 568, u'setlasterror': 4532, u'createassemblyenumw': 746, u'getcaretpos': 1742, u'setbtnimage': 4450, u'cointernetqueryinfo': 634, u'winhttpsendrequest': 5505, u'getmenustate': 2003, u'luaopen_ffi': 3007, u'netgroupgetusers': 3165, u'gdiconvertmetafilepict': 1535, u'_cxxthrowexception': 156, u'getuserobjectinformationw': 2329, u'getpropw': 2131, u'wsaenumnetworkevents': 5577, u'getuserobjectinformationa': 2328, u'accconvertacltoaccess': 317, u'getpropa': 2127, u'hsgetbindinfos': 2440, u'isthemedialogtextureenabled': 2722, u'getthemebackgroundcontentrect': 2256, u'raspppretry': 3842, u'registerapplicationrestart': 3945, u'deleteservice': 1069, u'setupopenlog': 4848, u'localrealloc': 2899, u'verfindfilea': 5367, u'rasportcancelreceive': 3816, u'modf': 3088, u'playmetafile': 3632, u'cryptgetkeyparam': 938, u'sethandleinformation': 4524, u'deletesecuritycontext': 1068, u'setrtl': 4580, u'rasactivateroute': 3748, u'gettextfacealiasw': 2250, u'getversionex': 2334, u'registerservicectrlhandlerexw': 3971, u'nd_ru1': 3130, u'waveinunprepareheader': 5423, u'olecreatepictureindirect': 3474, u'updatelayeredwindowindirect': 5282, u'getstdhandle': 2193, u'registerhelper': 3964, u'gettouchinputinfo': 2302, u'rtlcreateunicodestringfromasciiz': 4151, u'deleteboundarydescriptor': 1052, u'getfullpathnamea': 1912, u'safearraygetlbound': 4369, u'wdtpinterfacepointer_usersize': 5456, u'getrop2': 2151, u'netfileenum': 3160, u'__cxxframehandler': 53, u'pspropertybag_readguid': 3679, u'internetqueryoptionw': 2642, u'localallocw': 2892, u'setupdiopendevregkey': 4765, u'internetqueryoptiona': 2641, u'_snprintf': 250, u'pathstrippathw': 3598, u'countclipboardformats': 708, u'regdeletekeyexa': 3926, u'dbguidebugactiveprocess': 993, u'ugtgza': 5236, u'regdeletekeyexw': 3927, u'gdiconverttodevmodew': 1536, u'shcreatedirectoryexw': 4951, u'fscanf': 1505, u'mykillentry': 3123, u'postcreate': 3647, u'f19': 1362, u'getdlgitem': 1850, u'f12': 1360, u'f16': 1361, u'getfullpathnamew': 1913, u'wcstoul': 5453, u'waveoutprepareheader': 5430, u'getcatalogobject2': 1744, u'varadd': 5305, u'softpubinitialize': 5030, u'dragacceptfiles': 1174, u'getlocaleinfoa': 1973, u'createprocessasusera': 861, u'ntprivilegeobjectauditalarm': 3355, u'getlocaleinfow': 1976, u'getsyscolorw': 2203, u'aae_ni_n': 301, u'multibytetowidechar': 3122, u'_mbsstr': 217, u'event_sink_release': 1324, u'internetsetoptiona': 2648, u'setupgetinfinformationw': 4801, u'pathremovefilespecw': 3594, u'isvalidcodepage': 2726, u'setupdigetdeviceinfolistdetaila': 4720, u'pathparseiconlocationw': 3586, u'varpow': 5357, u'gdipgetpropertyitemsize': 1639, u'setupdigetdeviceinfolistdetailw': 4721, u'pathremovefilespeca': 3593, u'setupgetinfinformationa': 4800, u'__set_app_type': 66, u'setprocessdpiaware': 4566, u'snmputiloidncmp': 5025, u'rasrpcdisconnect': 3861, u'clsidfromole1class': 595, u'samridtosid': 4397, u'setupgetsourceinfow': 4816, u'__setusermatherr': 67, u'setupfindnextline': 4789, u'setupgetsourceinfoa': 4815, u'mcigeterrorstringa': 3048, u'getnames': 2044, u'setupquerydrivesindiskspacelista': 4853, u'setupquerydrivesindiskspacelistw': 4854, u'_mkdir': 219, u'getprofilestringa': 2122, u'dmogettypes': 1151, u'getsystemdefaultlangid': 2204, u'hssetriliinstallreg': 2447, u'cogetpsclsid': 623, u'winhelpw': 5487, u'printdlga': 3658, u'shgetvaluea': 4989, u'ongroupchanged': 3506, u'cryptenumprovidersa': 931, u'lcmapstringex': 2797, u'lzopenfilew': 3016, u'findfirstfile': 1404, u'charupperw': 539, u'varr8fromstr': 5360, u'qaepagpag0': 3702, u'translatecolors': 5212, u'createdataadviseholder': 766, u'charuppera': 536, u'waveingetnumdevs': 5417, u'ddedisconnect': 1012, u'drawthemeparentbackground': 1210, u'safearrayredim': 4374, u'settargetforvtableentry_retaddr': 4607, u'setupdigetclassimageindex': 4713, u'getstringtypeexw': 2198, u'getupdaterect': 2309, u'settokeninformation': 4630, u'getstringtypeexa': 2197, u'ishungappwindow': 2704, u'createhatchbrush': 815, u'uaexpbupropertyinfo': 5230, u'getdlgctrlid': 1849, u'createonlinewnd': 849, u'uuidcreate': 5296, u'iaepauhwnd__': 2480, u'ntcreateprocessex': 3285, u'getthemepropertyorigin': 2273, u'zwqueryvaluekey': 5708, u'stringfromclsid': 5085, u'convertinetstring': 658, u'wnetgetuniversalnamew': 5535, u'vsprintf': 5396, u'openthread': 3549, u'commdlgextendederror': 640, u'getsidsubauthoritycount': 2180, u'npformatnetworkname': 3226, u'winhttpclosehandlew': 5490, u'showwindow': 5002, u'guig_init': 2405, u'getuserdata': 2316, u'enumprocesses': 1290, u'setwindowextex': 4917, u'registertouchwindow': 3976, u'beginenumeration': 433, u'modifymenuw': 3090, u'zwflushbuffersfile': 5682, u'netuseadd': 3189, u'changeserviceconfig2w': 518, u'rasaddconnectionport': 3750, u'modifymenua': 3089, u'safearraycreatevector': 4362, u'rtlqueryatominatomtable': 4280, u'chartooemw': 535, u'setdlgitemint': 4483, u'gdiaddfontresourcew': 1530, u'drawmenubar': 1193, u'translatebitmapbits': 5210, u'chartooema': 533, u'getpicount': 2081, u'getstringtypea': 2196, u'winhttpcrackurl': 5492, u'setfileapistooem': 4500, u'getstringtypew': 2199, u'_wgetenv': 287, u'scriptbreak': 4405, u'gdipgetdc': 1614, u'wow64revertwow64fsredirection': 5546, u'setmapperflags': 4542, u'immgetcompositionwindow': 2538, u'oleloadfromstream': 3486, u'ntcallbackreturn': 3265, u'bstr_userfree': 452, u'shparsedisplayname': 5003, u'setwaitabletimer': 4913, u'netservertransportenum': 3180, u'ntgetcurrentprocessornumber': 3314, u'gdipsetinterpolationmode': 1677, u'rtlgetownersecuritydescriptor': 4221, u'__vbaend': 72, u'lua_type': 2994, u'csrcapturemessagemultiunicodestringsinplace': 967, u'_setregkeyw': 242, u'gdipreleasedc': 1662, u'duplicatetokenexw': 1228, u'getenhmetafilebits': 1862, u'rpcbindingfromstringbindingw': 4077, u'propvariantcopy': 3672, u'ntqueryinformationprocess': 3369, u'initializefusion': 2576, u'displayhtmlpage': 1116, u'setmenuiteminfoa': 4548, u'drawscrollbar': 1194, u'cofreeunusedlibrariesex': 614, u'rtladdace': 4108, u'setmenuiteminfow': 4549, u'findnexturlcacheentryexa': 1423, u'rtlcreateprocessparameters': 4144, u'raspppchangepassword': 3839, u'ndrasyncclientcall': 3136, u'updatedriverforplugandplaydevicesw': 5280, u'cryptsignhashw': 954, u'setcapture': 4451, u'internetgetlastresponseinfoa': 2634, u'getaspectratiofilterex': 1721, u'internetgetlastresponseinfow': 2635, u'cryptsignhasha': 953, u'setupqueuerenamesectionw': 4877, u'yapaxi': 5654, u'pathisdirectorya': 3579, u'setupqueuerenamesectiona': 4876, u'olesetclipboard': 3495, u'deleteurlcachecontainera': 1071, u'pathisdirectoryw': 3580, u'getfileinformationbyhandleexw': 1887, u'setupsetsourcelista': 4899, u'getmenustringa': 2004, u'getsyscolorbrush': 2202, u'rtlsetsecurityobject': 4316, u'strcpy': 5073, u'virtuallock': 5386, u'setupsetsourcelistw': 4900, u'getmenustringw': 2005, u'extcreatepen': 1344, u'setmirrorrendering': 4551, u'setupadjustdiskspacelista': 4640, u'dllrunserviceinstallation': 1142, u'enumsystemlocalesa': 1306, u'iswow64processw': 2743, u'getenhmetafiledescriptiona': 1863, u'createacceleratortablew': 738, u'wsaaddresstostringw': 5568, u'enumsystemlocalesw': 1308, u'wsaaddresstostringa': 5567, u'createacceleratortablea': 737, u'getenhmetafiledescriptionw': 1864, u'inheritsfrom': 2561, u'varbstrfromcy': 5311, u'findfirstfilea': 1405, u'getexitcodeprocess': 1875, u'coreleasemarshaldata': 693, u'findfirstfilew': 1408, u'charpreva': 532, u'setupdiclassguidsfromnameexa': 4670, u'getbufferedpainttargetdc': 1736, u'getcurrentconsolefontex': 1807, u'strspn': 5100, u'ntrenamekey': 3396, u'flatsb_showscrollbar': 1449, u'createfonta': 806, u'rasdeviceenum': 3767, u'changeserviceconfiga': 519, u'copyrect': 686, u'rasgetinfo': 3802, u'getprocessexecutableheap': 2100, u'_alloca_probe': 128, u'bstr_userunmarshal': 455, u'wow64enablewow64fsredirection': 5545, u'wthelperprovdatafromstatedata': 5602, u'safercloselevel': 4378, u'ldap_simple_bind_sa': 2811, u'hsstopservices': 2452, u'rtlinitunicodestringex': 4242, u'qaepadpad0': 3700, u'varr4fromstr': 5359, u'rasprotocolupdateconnection': 3852, u'netlocalgroupaddmembers': 3166, u'dbguiissueremotebreakin': 995, u'fatalappexita': 1368, u'rtlupcaseunicodestring': 4339, u'createpalette': 850, u'pscoercetocanonicalvalue': 3674, u'basic_filebuf': 418, u'wsaasyncgethostbyname': 5569, u'shbrowseforfolder': 4947, u'gdipgetgenericfontfamilysansserif': 1623, u'destroycaret': 1078, u'winhttpqueryauthschemes': 5500, u'_getvaluew': 182, u'getstockobject': 2194, u'propvariantclear': 3671, u'setupaddinstallsectiontodiskspacelista': 4632, u'kiuserexceptiondispatcher': 2786, u'ntaccesscheckbytyperesultlistandauditalarmbyhandle': 3257, u'freecontextbuffer': 1489, u'getsubmenu': 2200, u'getstartupflags_retaddr': 2188, u'itd_setstring': 2773, u'ntmapuserphysicalpages': 3328, u'resetsecurity': 4045, u'rtlfreehandle': 4202, u'directdrawenumeratew': 1100, u'rtlreleasepeblock': 4297, u'directdrawenumeratea': 1099, u'createassemblynameobject': 747, u'messageboxw': 3072, u'gettokenforvtableentry': 2297, u'ntsetthreadexecutionstate': 3423, u'serialize': 4436, u'createipforwardentry': 828, u'pauhinstance__': 3607, u'setupcreatediskspacelista': 4652, u'getthemeapppropertiesw': 2255, u'internettimetosystemtime': 2656, u'charupperbuffa': 537, u'call': 473, u'rtlsetcriticalsectionspincount': 4304, u'charupperbuffw': 538, u'immsetopenstatus': 2550, u'setupgetlinetextw': 4808, u'createmdiwindoww': 835, u'dciendaccess': 1002, u'rtlselfrelativetoabsolutesd2': 4302, u'wsawaitformultipleevents': 5598, u'setupgetlinetexta': 4807, u'raseditphonebookentryw': 3772, u'setupgetsourcefilesizew': 4814, u'getwindowtheme': 2367, u'gdipdrawrectanglei': 1605, u'getudptable': 2307, u'setupgetsourcefilesizea': 4813, u'zwenumeratekey': 5679, u'setquerynetsessioncount': 4575, u'internettimefromsystemtime': 2655, u'ddequeryconvinfo': 1021, u'findnextfilew': 1420, u'hsposturl': 2442, u'findnextfilea': 1419, u'virtualprotectex': 5388, u'rtldecompressbuffer': 4158, u'cowaitformultiplehandles': 709, u'getthemebackgroundextent': 2258, u'setupcloselog': 4645, u'hittestthemebackground': 2431, u'wsprintfa': 5599, u'offsetrgn': 3467, u'createmutex': 841, u'wsprintfw': 5600, u'iswindowenabled': 2737, u'loadlibraryexa': 2871, u'gettokeninformation': 2299, u'setupdigethwprofilelistexa': 4740, u'internetwritefile': 2657, u'addaccessallowedace': 348, u'basic_iostream': 421, u'setupdigethwprofilelistexw': 4741, u'setclipboardviewer': 4457, u'inetptonw': 2559, u'createloadingwnd': 832, u'lsaconnectuntrusted': 2934, u'strtoul': 5110, u'uninstallcolorprofilew': 5247, u'_except_handler3': 161, u'setmenu': 4543, u'safearraysetrecordinfo': 4376, u'immgetcontext': 2539, u'setwidth': 4915, u'lua_tointeger': 2990, u'ftpgetfilesize': 1516, u'waitnamedpipew': 5411, u'waitnamedpipea': 5410, u'animatewindow': 383, u'ntsetsecurityobject': 3419, u'settimer': 4629, u'setloadedbymscoree': 4536, u'wtsfreememory': 5605, u'findresource': 1427, u'rasaddnotification': 3751, u'wsalookupserviceend': 5583, u'capcreatecapturewindowa': 485, u'rtlleavecriticalsection': 4252, u'bindmoniker': 441, u'x80': 5624, u'extract': 1348, u'gdipstringformatgetgenerictypographic': 1687, u'wtsqueryusertoken': 5609, u'createconfigstream': 761, u'reggetvaluew': 3941, u'rtlqueryheapinformation': 4282, u'rasportenum': 3821, u'ntallocatevirtualmemory': 3263, u'verifyversioninfo': 5370, u'gettextcharacterextra': 2240, u'getdibcolortable': 1842, u'isxdl_addfile': 2745, u'revokedragdrop': 4056, u'setupdigetdeviceinfolistclass': 4719, u'invertrect': 2663, u'setupdidestroydeviceinfolist': 4693, u'heap32listnext': 2413, u'flatsb_setscrollrange': 1448, u'getpropertyqualifierset': 2130, u'hsclosetheprocessbyname': 2439, u'netwkstausergetinfo': 3203, u'regopenkey': 3989, u'___cppdebughook': 46, u'rtldecodepointer': 4157, u'convertstringsecuritydescriptortosecuritydescriptorw': 668, u'drawthemeedge': 1208, u'qsort': 3713, u'registerwaitforinputidle': 3980, u'freevirtualbuffer': 1501, u'convertstringsecuritydescriptortosecuritydescriptora': 667, u'cancelmibchangenotify2': 482, u'safearraygetdim': 4365, u'enddeferwindowpos': 1254, u'varformat': 5329, u'rtladjustprivilege': 4114, u'rassetiocompletionport': 3890, u'getprofileintw': 2118, u'extescape': 1346, u'sortgethandle': 5035, u'lpsafearray_userunmarshal': 2930, u'getprofileinta': 2117, u'midioutreset': 3075, u'mequl52dew': 3063, u'imageview_fullscreenw': 2533, u'getproductinfo': 2115, u'getdcex': 1831, u'wnetenumresourcea': 5531, u'_errno': 160, u'zwflushkey': 5683, u'wnetenumresourcew': 5532, u'createpropertysheetpage': 871, u'sleepex': 5020, u'getdemultiplexedstub': 1834, u'enumwindows': 1312, u'setshellshiminstance': 4596, u'setupdigetselecteddevice': 4744, u'pintotaskbar': 3630, u'snmpextensioninit': 5022, u'olelockrunning': 3489, u'rtlcompareunicodestring': 4132, u'doc': 1161, u'doa': 1160, u'doe': 1165, u'waveinreset': 5420, u'ntquerysysteminformation': 3381, u'getcorversion_retaddr': 1800, u'activateactctx': 346, u'chord': 559, u'ntqueryinformationtoken': 3371, u'strtrima': 5111, u'ntqueryfullattributesfile': 3365, u'waveoutopen': 5428, u'basic_fstream': 419, u'rtluserthreadstart': 4343, u'getmenuitemrect': 2002, u'rasdialw': 3771, u'intersectcliprect': 2658, u'setthreadtoken': 4627, u'olecreatepropertyframe': 3475, u'getthemestring': 2275, u'getdcorgex': 1832, u'getconsolewindow': 1796, u'getsockname': 2182, u'sh_browsedir': 4940, u'fgetpos': 1378, u'getcurrencyformatw': 1804, u'createdialogindirectparam': 773, u'_acmdln': 112, u'dbguigetthreaddebugobject': 994, u'setupdibuildclassinfolist': 4662, u'getcipherinterface': 1756, u'rtlquerytagheap': 4289, u'globalunlock': 2390, u'dhcprequestparams': 1090, u'__badioinfo': 50, u'ntquerysysteminformationw': 3382, u'olecreatemenudescriptor': 3473, u'gdipcreatestringformat': 1582, u'createinstallreferenceenum': 825, u'yzqbm': 5657, u'drawdibclose': 1183, u'16a': 12, u'getsystemdefaultlcid': 2205, u'_setjmp3': 239, u'rtlsetcontrolsecuritydescriptor': 4303, u'getfactorylock': 1880, u'16w': 13, u'gdipgetlogfontw': 1635, u'setupdicreatedeviceinterfaceregkeyw': 4684, u'setupdicreatedeviceinterfaceregkeya': 4683, u'lua_insert': 2968, u'corbindtoruntimeex': 688, u'setprocessaffinitymask': 4564, u'drawcaption': 1182, u'checkconnectstate': 541, u'setupdicanceldriverinfosearch': 4667, u'rhpid850rheng70': 4062, u'rpcreverttoself': 4087, u'bufferedpaintrenderanimation': 467, u'mcd': 3047, u'ntaddatom': 3258, u'qaexi': 3704, u'rasrpcportgetinfo': 3872, u'rasinitialize': 3811, u'privisdllsynchronizationheld': 3662, u'rasconnectionnotificationw': 3762, u'internetgetcookiew': 2633, u'rtlunicodestringtoansistring': 4331, u'wsalookupservicenextw': 5584, u'internetgetcookiea': 2632, u'gettickcount': 2291, u'__wgetmainargs': 110, u'setupdiinstallclassa': 4748, u'tlsfree': 5183, u'ii': 2493, u'setupdiinstallclassw': 4751, u'_wperror': 290, u'id': 2489, u'ig': 2492, u'dllsendinstallationusagea': 1147, u'globalrealloc': 2388, u'1ios_base': 19, u'getsysteminfo': 2214, u'rasreferencecustomcount': 3854, u'luaopen_luaxml_lib': 3008, u'mouse_event': 3099, u'getmenudefaultitem': 1997, u'offsetwindoworgex': 3469, u'fillrgn': 1387, u'waitfordebugevent': 5401, u'setworldtransform': 4934, u'virtualprotect': 5387, u'xbae': 5632, u'dcicreateprimary': 1000, u'drawanimatedrects': 1180, u'localalloc': 2891, u'gdipsaveimagetofile': 1667, u'interlockeddecrement': 2607, u'rtlprefixunicodestring': 4279, u'wtsenumerateprocessesa': 5603, u'removevectoredcontinuehandler': 4034, u'npaddconnection3': 3221, u'rtlappendunicodestringtostring': 4121, u'rtlselfrelativetoabsolutesd': 4301, u'setthreaddesktop': 4616, u'rtlinitstring': 4240, u'installcolorprofilew': 2600, u'getlayeredwindowattributes': 1967, u'forcedeletefile': 1468, u'avistreamsetformat': 416, u'_close': 149, u'rasmanuninitialize': 3815, u'deletedc': 1055, u'getrecordinfofromguids': 2144, u'setthemeappproperties': 4613, u'getprocessdeppolicy': 2099, u'settargetforvtableentry': 4606, u'zwloadkey': 5685, u'gdipsetimageattributescolorkeys': 1674, u'getkeyboardlayoutnamea': 1956, u'_nullstr': 221, u'__dd5da18ede4e4b3d810e8b103a1bee78': 55, u'getclipboardowner': 1772, u'corexitprocess_retaddr': 699, u'virtualbufferexceptionhandler': 5383, u'connectnamedpipe': 651, u'yaxpax': 5655, u'btnsetenabled': 460, u'setconsoletextattribute': 4465, u'varround': 5361, u'hrcreateaccountmanager': 2434, u'regenumkeyw': 3937, u'ldrfindcreateprocessmanifest': 2821, u'rtlunicodetomultibytesize': 4335, u'regenumkeya': 3933, u'resetwritewatch': 4046, u'ntallocateuserphysicalpages': 3262, u'signalobjectandwait': 5014, u'1type_info': 21, u'nothrow': 3213, u'olecreatedefaulthandler': 3471, u'accrewritesethandlerights': 334, u'varboolfromstr': 5307, u'gettimeformatw': 2295, u'event_sink_invoke': 1322, u'setupdecompressorcopyfilew': 4655, u'certgetnamestringw': 506, u'rtldestroyquerydebugbuffer': 4174, u'setupdecompressorcopyfilea': 4654, u'qualifierset_endenumeration': 3716, u'rtlqueryregistryvalues': 4287, u'charlower': 524, u'openicon': 3530, u'systemfunction035': 5153, u'systemfunction034': 5152, u'systemfunction036': 5154, u'bstr_usermarshal': 453, u'screentoclient': 4403, u'createcolortransformw': 758, u'getfileversioninfo': 1897, u'getcurrentprocessornumber': 1817, u'waitforthreadpooltimercallbacks': 5408, u'loadacceleratorsw': 2852, u'vareqv': 5327, u'gdipdrawimagerectrecti': 1601, u'createclassenumwmi': 757, u'itd_initui': 2769, u'ddeuninitialize': 1026, u'resolvelocalename': 4050, u'cofreeunusedlibraries': 613, u'zwqueryobject': 5704, u'getmodule': 2019, u'coreleaseserverprocess': 694, u'ldraddrefdll': 2816, u'delete': 1049, u'module32firstw': 3093, u'msigetpatchinfoexw': 3115, u'classic': 562, u'setwindowcontexthelpid': 4916, u'pulseevent': 3686, u'setconsolectrlhandlerw': 4460, u'getprocessversion': 2111, u'vari4fromstr': 5334, u'getnewinf': 2050, u'zwunmapviewofsection': 5727, u'destroymenu': 1083, u'zwcreatesection': 5671, u'lua_toboolean': 2989, u'checkmenuradioitem': 549, u'ntlockfile': 3324, u'rasportgetframingex': 3824, u'getfriendlyifindex': 1910, u'midistreamopen': 3078, u'cpgenrandom': 721, u'ntopenobjectauditalarm': 3343, u'msidetermineapplicablepatchesw': 3111, u'httpqueryinfow': 2466, u'wvtasn1spcpeimagedatadecode': 5617, u'dispatchmessagea': 1110, u'httpqueryinfoa': 2465, u'newdownload': 3204, u'dispatchmessagew': 1111, u'createdialogindirectparama': 774, u'mapifindnext': 3027, u'sndplaysoundw': 5021, u'rtldestroyheap': 4172, u'gdipdeleteregion': 1591, u'__78f221264ee14b34b0f963ec9d5210ab': 45, u'fnhyxhkmru': 1464, u'getnetworkparams': 2049, u'setupinstallfilesfrominfsectionw': 4829, u'winhttpqueryheaders': 5502, u'enumservicesstatusa': 1300, u'enumservicesstatusw': 1303, u'setupinstallfilesfrominfsectiona': 4828, u'heapwalk': 2425, u'_adj_fdiv_m16i': 113, u'getcoloradjustment': 1777, u'ddecmpstringhandles': 1007, u'strerror': 5077, u'rasbundlegetstatistics': 3757, u'saferisearchmatchinghashrules': 4382, u'enumwindowsw': 1313, u'colockobjectexternal': 636, u'getcommonprograms': 1785, u'cpgenkey': 720, u'gethandleinformation': 1926, u'dsgetdcopena': 1219, u'sh_unregactivex': 4942, u'coinitialize': 624, u'shdeletevaluea': 4957, u'selectpalette': 4422, u'__vbavarlatememst': 104, u'shdeletevaluew': 4958, u'verqueryvalue': 5376, u'ya_npbgabv': 5651, u'pathgetargsa': 3577, u'tounicode': 5191, u'dllenableextension': 1126, u'drawsizebox': 1196, u'execnotificationquerywmi': 1331, u'netusergetgroups': 3196, u'ntquerydefaultlocale': 3359, u'createpen': 852, u'setwindowlong': 4918, u'waveinstop': 5422, u'enumprintersw': 1289, u'ntqueryevent': 3364, u'frexp': 1503, u'ocpid1326opencandy52': 3454, u'ntshutdownsystem': 3427, u'invertrgn': 2664, u'drawicon': 1190, u'encode': 1245, u'selectcliprgn': 4420, u'setupqueuecopysectiona': 4866, u'createmetafilea': 838, u'_lcreat': 203, u'offsetrect': 3466, u'deletefiber': 1057, u'__vbar4var': 95, u'setupqueuecopysectionw': 4867, u'setsearchpathmode': 4585, u'createmetafilew': 839, u'qaejpauhinstance__': 3698, u'abv0': 312, u'openwindowstationw': 3552, u'setupdidrawminiicon': 4695, u'openwindowstationa': 3551, u'enumdisplaymonitors': 1280, u'zwqueryinformationthread': 5701, u'swprintf': 5124, u'ntwritefile': 3441, u'safearraydestroydescriptor': 4364, u'initializeflatsb': 2575, u'ntquerykey': 3373, u'doenvironmentsubsta': 1166, u'rascreatephonebookentryw': 3764, u'varor': 5355, u'endbufferedpaint': 1252, u'rasprotocolstart': 3850, u'olesetmenudescriptor': 3497, u'rtlarebitsset': 4126, u'pfxispfxblob': 3628, u'getpath': 2077, u'registercontext': 3956, u'endrestorepoint': 1263, u'ftpgetcurrentdirectoryw': 1515, u'cryptsipcreateindirectdata': 955, u'shemptyrecyclebinw': 4968, u'dragdetect': 1175, u'__vbacastobj': 70, u'zwcreateprocessex': 5670, u'ntqueryvolumeinformationfile': 3386, u'_init': 190, u'dragquerypoint': 1179, u'rtlsubauthoritycountsid': 4323, u'cogetmalloc': 619, u'deletemenu': 1064, u'x1a': 5621, u'rtllockheap': 4256, u'rtlgetfunctiontablelisthead': 4214, u'sleepconditionvariablecs': 5019, u'setuppromptfordiska': 4850, u'getadaptersinfo': 1709, u'setuppromptfordiskw': 4851, u'begindeferwindowpos': 432, u'rasdevicesetinfo': 3769, u'pathquotespacesw': 3587, u'getancestor': 1717, u'getaddrinfoexa': 1711, u'_purecall': 229, u'zwcreatekey': 5668, u'cryptgetprovparam': 939, u'wsagetlasterror': 5579, u'openprocesstokenw': 3540, u'getthemesysbool': 2276, u'loadpng': 2882, u'getallparameters': 1714, u'rtldnshostnametocomputername': 4177, u'registertraceguidsww': 3978, u'urlmkgetsessionoption': 5291, u'postthreadmessagew': 3654, u'wsaasyncselect': 5571, u'ismenu': 2708, u'stubsetsite': 5115, u'zwclose': 5666, u'postthreadmessagea': 3653, u'capcreatecapturewindoww': 486, u'queryfullprocessimagenamea': 3725, u'getace': 1703, u'freelibrary': 1493, u'iswindowunicode': 2738, u'rtlconverttoautoinheritsecurityobject': 4135, u'getacp': 1705, u'queryfullprocessimagenamew': 3726, u'transparentblt': 5217, u'zwreadfile': 5711, u'assignprocesstojobobject': 395, u'getmodulehandle': 2029, u'gdipgetfamilyname': 1618, u'stgcreatedocfile': 5056, u'hssettbbrow': 2449, u'capbgxz': 484, u'dhcpv6queryleaseinfo': 1091, u'isappthemedw': 2672, u'getownermodulefromtcpentry': 2072, u'isuseranadmin': 2725, u'stringfromguid2': 5086, u'12': 10, u'ntopenfile': 3338, u'16': 11, u'process32first': 3664, u'rtltimetotimefields': 4327, u'getdusermodule': 1859, u'rtlsettimezoneinformation': 4319, u'rtladdaccessdeniedaceex': 4106, u'isnetworkalive': 2709, u'setupdigetclassdescriptionexw': 4705, u'iswindowvisible': 2739, u'createasyncbindctxex': 750, u'setupdigetclassdescriptionexa': 4704, u'winhttpquerydataavailable': 5501, u'getmenuiteminfoa': 2000, u'monitorfrompoint': 3096, u'ntaccesscheckbytyperesultlistandauditalarm': 3256, u'gethwnd': 1937, u'getmenuiteminfow': 2001, u'registerclassexw': 3950, u'varmonthname': 5350, u'nd_ri2_retaddr': 3127, u'_filelengthi64': 165, u'flatsb_enablescrollbar': 1440, u'sxsoleaut32mapconfiguredclsidtoreferenceclsid': 5128, u'registerclassexa': 3949, u'isbadstringptrw': 2677, u'int64op': 2604, u'show': 4992, u'gdipgetfontstyle': 1621, u'isbadstringptra': 2676, u'dispgetidsofnames': 1113, u'globalalloc': 2376, u'getobject': 2059, u'wcscmp': 5437, u'_llseek': 204, u'gdipcombineregionrecti': 1556, u'rtlinitializegenerictable': 4236, u'rasportregisterslip': 3833, u'lsafreememory': 2935, u'beginmethodenumeration': 434, u'cpgethashparam': 722, u'get': 1701, u'registershimimplcleanupcallback': 3975, u'setforegroundwindow': 4513, u'ndrolefree': 3149, u'drawtexta': 1201, u'_tsumainw': 268, u'drawtextw': 1205, u'waveingetdevcapsa': 5416, u'dmoenum': 1149, u'functionstart': 1525, u'updatelayeredwindow': 5281, u'endpage': 1260, u'ntsetevent': 3410, u'rtlnewsecurityobjectwithmultipleinheritance': 4268, u'menuitemfrompoint': 3061, u'adjusttokenprivilegesw': 369, u'softpubauthenticode': 5027, u'getoemcp': 2064, u'netusedel': 3190, u'lua_pushnumber': 2981, u'ftpsetcurrentdirectorya': 1523, u'ntopenprocesstoken': 3345, u'onshimdllmaincalled': 3514, u'isvalidlocale': 2728, u'setboundsrect': 4448, u'ftpsetcurrentdirectoryw': 1524, u'updateresourcea': 5284, u'wsalookupservicebeginw': 5582, u'setupdigetclassdevsexa': 4710, u'zwunmapviewofsectionex': 5728, u'sortclosehandle': 5034, u'loadiconwithscaledown': 2863, u'toupper': 5193, u'urlopenblockingstreamw': 5293, u'setupdigetclassdevsexw': 4711, u'winhttpreaddata': 5503, u'ntloadkey': 3321, u'defmdichildprocw': 1043, u'setfilevaliddata': 4510, u'defmdichildproca': 1042, u'fread': 1480, u'globaladdatomw': 2375, u'ntcontinue': 3273, u'createfilew': 805, u'globaladdatoma': 2374, u'createfilea': 801, u'openthemedataw': 3548, u'initdialog': 2566, u'rasrpcsetuserpreferences': 3873, u'lstrcmpi': 2945, u'gdipaddpathstringi': 1546, u'lstrcmpa': 2944, u'adjustwindowrectex': 371, u'lstrcmpw': 2948, u'mapiresolvename': 3032, u'addfontresourcea': 360, u'lookupiconidfromdirectory': 2921, u'mapvirtualkeyexw': 3039, u'addfontresourcew': 361, u'ntloadkeyex': 3323, u'mapvirtualkeyexa': 3038, u'pav': 3608, u'getsecuritydescriptorgroup': 2162, u'setpolyfillmode': 4562, u'ocpid1326opencandy71': 3456, u'strtointw': 5108, u'rtlgetunloadeventtrace': 4225, u'pak': 3561, u'acclookupaccounttrustee': 329, u'rtladdauditaccessobjectace': 4112, u'yapau_iobuf': 5653, u'convertsecuritydescriptortostringsecuritydescriptorw': 663, u'raspppcallback': 3838, u'enumprocessmodulesw': 1293, u'waveoutwrite': 5434, u'getfileversioninfoa': 1898, u'systemparametersinfoa': 5158, u'getmapmode': 1989, u'__b0fb56e1d2ea47809c37cb675a568d32': 49, u'getfileversioninfow': 1902, u'createdirectory': 783, u'rasconnectiongetstatistics': 3760, u'ischaralphanumerica': 2680, u'yaaav': 5652, u'cryptsetkeyparam': 952, u'lua_tonumber': 2992, u'setupdiopenclassregkey': 4757, u'netservergetinfo': 3179, u'lua_next': 2972, u'strxfrm': 5112, u'loadcursora': 2856, u'switchtothread': 5123, u'loadcursorw': 2859, u'_calculatew': 136, u'dragfinish': 1176, u'onhosted': 3507, u'childwindowfrompoint': 555, u'rassetdevconfig': 3882, u'ldap_get_values_lena': 2803, u'appendmenua': 386, u'getownermodulefromudpentry': 2073, u'erase': 1317, u'defdlgproca': 1037, u'wvtasn1spcpeimagedataencode': 5618, u'_func1': 173, u'_func3': 175, u'_func2': 174, u'_func5': 177, u'_func4': 176, u'accrewritegetexplicitentriesfromacl': 330, u'gdipcreatefontfromlogfonta': 1567, u'getprocaddressw': 2096, u'trackpopupmenu': 5204, u'mykillentrya': 3124, u'findnexturlcachecontainera': 1421, u'wsasocketa': 5593, u'gdipcreatefontfromlogfontw': 1568, u'oloy': 3501, u'getnameinfo': 2042, u'pscreatememorypropertystore': 3675, u'mykillentryw': 3125, u'rasportlisten': 3828, u'gdipcreatebitmapfromstreamicm': 1564, u'setuseragent': 4905, u'destroyacceleratortable': 1077, u'safearrayallocdescriptorex': 4357, u'filetimetolocalfiletime': 1381, u'decode': 1030, u'softpubloadsignature': 5032, u'wsasocketw': 5594, u'drawfocusrect': 1188, u'disablecontainerhwnd': 1104, u'createcompatibledc': 760, u'ntprotectvirtualmemory': 3356, u'bitblt': 443, u'_openssl_isservice': 227, u'resetdca': 4042, u'rtlntpathnametodospathname': 4269, u'cryptcatadminacquirecontext': 920, u'qbeixz': 3711, u'resetdcw': 4043, u'embed': 1235, u'releasesemaphore': 4021, u'rtlvalidateheap': 4345, u'aaexi': 304, u'strformatbytesize64': 5080, u'_wcsicoll': 283, u'regopenkeya': 3990, u'initcommoncontrolsex': 2565, u'nspstartup': 3249, u'sg_npapauiclassinfo': 4936, u'getnetcardid': 2048, u'3unothrow_t': 23, u'regopenkeyw': 3994, u'varformatnumber': 5332, u'zwaccesscheck': 5664, u'internetcanonicalizeurlw': 2617, u'comparefiletime': 642, u'gdipgetimagetype': 1632, u'internetcanonicalizeurla': 2616, u'tackle': 5164, u'qaeaav01': 3694, u'unload': 5249, u'getfileversioninfosize': 1899, u'rtlappendunicodetostring': 4122, u'setupfreesourcelistw': 4793, u'rtlzeromemory': 4354, u'updatescreen': 5285, u'waveoutpause': 5429, u'openmutex': 3532, u'choosecolora': 557, u'setprocessshutdownparameters': 4568, u'setupfreesourcelista': 4792, u'setwindowtexta': 4929, u'legacy_deletesecmoddb': 2842, u'globaldeleteatom': 2377, u'_fstat64': 170, u'xbaeror': 5633, u'x99': 5626, u'cstdstubbuffer_debugserverqueryinterface': 978, u'iunknown_queryinterface_proxy': 2775, u'impersonateloggedonuser': 2552, u'polybezierto': 3638, u'setprocessworkingsetsizew': 4572, u'safearraygetelement': 4366, u'npenumresource': 3225, u'_stricmp': 256, u'gdipdeletematrix': 1588, u'md5init': 3053, u'ntsetinformationobject': 3414, u'vardiv': 5326, u'abv': 311, u'wine_get_version': 5483, u'unhookwindowshook': 5242, u'setendoffile': 4490, u'1critseclock': 16, u'rtlwalkheap': 4350, u'__vbavarmove': 105, u'ddequerystringw': 1023, u'netsessionenum': 3182, u'cpdecrypt': 712, u'ddequerystringa': 1022, u'getservicedisplaynamew': 2170, u'getenvironmentstrings': 1868, u'endmenu': 1258, u'convertsidtostringsidw': 665, u'netapibufferreallocate': 3155, u'getservicedisplaynamea': 2169, u'imagelist_copy': 2500, u'convertsidtostringsida': 664, u'rasportdisconnect': 3820, u'legacy_shutdown': 2847, u'gethashinterface': 1928, u'_killprocess': 201, u'setsecuritydescriptorowner': 4589, u'strstria': 5103, u'scriptplace': 4408, u'imagelist_addmasked': 2498, u'wcsncpy': 5445, u'samclosehandle': 4383, u'strstriw': 5104, u'setsystempointthread': 4604, u'setheight': 4525, u'cocreateguid': 609, u'lpsafearray_userfree': 2927, u'strlen': 5089, u'setupqueuerenamea': 4875, u'safearraycreate': 4360, u'varformatdatetime': 5331, u'csrcapturemessagestring': 968, u'refreshpolicy': 3916, u'cstdstubbuffer_connect': 976, u'regsetvaluea': 4009, u'varbstrfrombool': 5310, u'transactnamedpipe': 5206, u'regsetvaluew': 4013, u'exitthread': 1339, u'dciopenprovider': 1003, u'winhttpconnect': 5491, u'minidumpwritedump': 3084, u'wsacancelblockingcall': 5573, u'enumdependentservicesw': 1275, u'xre_getfilefrompath': 5643, u'gdipimagegetframedimensionslist': 1651, u'enumdependentservicesa': 1274, u'ntopenmutant': 3342, u'sendnotifymessagew': 4433, u'ddeinitializea': 1017, u'dnsfree': 1153, u'ocpid1326opencandy11': 3449, u'lockservicedatabase': 2907, u'setserviceobjectsecurity': 4593, u'ddeinitializew': 1018, u'deleteurlcacheentry': 1072, u'__vbapowerr8': 94, u'setgadgetrootinfo': 4518, u'ocpid1326opencandy6': 3455, u'ocpid1326opencandy1': 3448, u'gdipsettextrenderinghint': 1685, u'werregisterruntimeexceptionmodule': 5459, u'oledoautoconvert': 3477, u'rtlrunencodeunicodestring': 4300, u'ntcreateevent': 3275, u'getthreadlocale': 2288, u'fmod': 1462, u'npgetreconnectflags': 3233, u'kwcfg_loadfromurl': 2791, u'writeprivateprofilesectionw': 5558, u'0exception': 6, u'connect': 650, u'peekconsoleinputa': 3621, u'dllgetclassobject_retaddr': 1129, u'setupdigetdriverinstallparamsa': 4733, u'cryptinstalldefaultcontext': 944, u'drawiconex': 1191, u'strncpy': 5092, u'flushfilebuffers': 1458, u'ntwritevirtualmemory': 3443, u'accgetaccessfortrustee': 324, u'shellexecutew': 4966, u'globalfindatomw': 2379, u'rasrpcgetinstalledprotocols': 3866, u'delnoderundll32': 1074, u'ntisprocessinjob': 3319, u'globalfindatoma': 2378, u'gdipcreatelinebrushfromrecti': 1574, u'varand': 5306, u'getservbyname': 2167, u'rtltimetosecondssince1970': 4326, u'ntallocatelocallyuniqueid': 3261, u'winhttpsettimeouts': 5509, u'isdialogmessage': 2694, u'createsymboliclinkw': 889, u'coinitializesecurity': 626, u'strchra': 5065, u'getextendedtcptable': 1878, u'setupsetdirectoryidexa': 4894, u'ntcreatefile': 3276, u'max_size': 3044, u'gdipsetstringformatlinealign': 1683, u'getcorsystemdirectory': 1797, u'raslinkgetstatistics': 3814, u'killproc': 2783, u'basic_stringbuf': 427, u'createoleadviseholder': 848, u'ntqueryobject': 3375, u'lstrcpyw': 2954, u'ntpowerinformation': 3352, u'extracticonexw': 1354, u'lstrcpya': 2950, u'urlunescapea': 5294, u'lstrcpyn': 2951, u'win_register': 5475, u'ntsavemergedkeys': 3406, u'sxsoleaut32mapiidorclsidtotypelibrary': 5129, u'setgadgetstyle': 4519, u'trackpopupmenuex': 5205, u'deleteatomw': 1051, u'getcurrentprocessid': 1815, u'coregisterinitializespy': 691, u'initcommoncontrols': 2564, u'shell_notifyiconw': 4960, u'rasfreebuffer': 3780, u'zwopenkeyex': 5693, u'getmoduleinformation': 2034, u'hstd': 2454, u'mpradminisservicerunning': 3108, u'comparestringw': 646, u'setupdisetdeviceregistrypropertya': 4777, u'inflaterect': 2560, u'_freeze': 169, u'opendesktopw': 3521, u'vkkeyscana': 5392, u'pagesetupdlga': 3557, u'setupdisetdeviceregistrypropertyw': 4778, u'comparestringa': 643, u'vkkeyscanw': 5393, u'pagesetupdlgw': 3558, u'opendesktopa': 3520, u'cryptprotectdata': 947, u'_lockglobalmutexw': 207, u'varmod': 5349, u'pfxexportcertstoreex': 3626, u'getmenucontexthelpid': 1996, u'find': 1389, u'getcalendarinfow': 1740, u'gdiprocesssetup': 1665, u'getprocessworkingsetsize': 2113, u'oleiscurrentclipboard': 3484, u'_wstat': 296, u'fillpath': 1385, u'assocquerystringa': 396, u'safearraydestroy': 4363, u'wcsncmp': 5444, u'assocquerystringw': 397, u'enumfontfamiliesa': 1282, u'ntcreatekey': 3280, u'getprocessmemoryinfo': 2107, u'getprocessdefaultlayout': 2098, u'_settaskbartextw': 243, u'__3ac174852c0a450aa815f7c1bf817c09': 41, u'setfocus': 4511, u'createstreamonhglobal': 887, u'setupaddtosourcelistw': 4639, u'setupaddtosourcelista': 4638, u'cryptcatadminreleasecontext': 923, u'deleteurlcacheentryw': 1073, u'rtlgetdaclsecuritydescriptor': 4212, u'setupqueuedefaultcopya': 4869, u'setwindoworgex': 4921, u'comparestringordinal': 645, u'setupqueuedefaultcopyw': 4870, u'ios_base': 2667, u'rasgetentrydialparamsa': 3796, u'impersonateself': 2553, u'4gb': 25, u'ungetwc': 5240, u'lpsafearray_usersize': 2929, u'rasgetentrydialparamsw': 3797, u'textoutw': 5171, u'enumservicesstatusexw': 1302, u'lockresource': 2906, u'textouta': 5170, u'snmputiloidcpy': 5024, u'enumservicesstatusexa': 1301, u'gdipfillrectanglesi': 1611, u'npgetconnectionperformance': 3230, u'onnotify': 3509, u'rtlactivateactivationcontext': 4099, u'shutdown': 5010, u'getstartupflags': 2187, u'gethostname': 1936, u'create': 736, u'createiconfromresource': 820, u'ischaralphanumericw': 2681, u'rtldeactivateactivationcontextunsafefast': 4156, u'flatsb_getscrollprop': 1443, u'cryptcatadmincalchashfromfilehandle': 921, u'zwopenkey': 5692, u'setpixelv': 4561, u'2ib': 22, u'rtlentercriticalsection': 4183, u'ntquerymultiplevaluekey': 3374, u'netwkstagetinfo': 3200, u'setcurrentconsolefontex': 4470, u'queryserviceobjectsecurity': 3736, u'pathcreatefromurlw': 3570, u'_strnicmp': 258, u'exttextoutw': 1359, u'__vbafreevarlist': 82, u'getifentry': 1940, u'exttextouta': 1358, u'setpaletteentries': 4557, u'gdipfillrectanglei': 1610, u'werreportclosehandle': 5462, u'stgopenstorageonilockbytes': 5060, u'setmenucontexthelpid': 4544, u'1_lockit': 14, u'iabv12': 2478, u'findatomw': 1395, u'rtlgetntproducttype': 4220, u'rtldeletecriticalsection': 4162, u'queryworkingset': 3741, u'_xran': 300, u'initializecriticalsection': 2572, u'getconsolecp': 1792, u'ntdelayexecution': 3293, u'ntqueryattributesfile': 3358, u'rasportgetinfo': 3825, u'gdipgetemheight': 1616, u'rtlopencurrentuser': 4274, u'certopensystemstorew': 509, u'certopensystemstorea': 508, u'oncallback': 3503, u'regsetvalueexw': 4012, u'regsetvalueexa': 4011, u'npgetresourceparent': 3235, u'extracticona': 1352, u'netschedulejobenum': 3176, u'rassettunnelendpoints': 3893, u'__vbafreestr': 80, u'basic_istream': 422, u'extracticonw': 1355, u'abv01': 313, u'setupdideletedeviceinfo': 4688, u'loadicona': 2861, u'loadiconw': 2862, u'_keyexists': 200, u'rtlcopyluid': 4136, u'ldrshutdownprocess': 2833, u'scrollbar_mousemove': 4411, u'wrapcallbackaddr': 5548, u'ntcreatejobobject': 3278, u'dlgdirselectcomboboxexw': 1121, u'rasrpcgetinstalledprotocolsex': 3867, u'flushprocesswritebuffers': 1460, u'ntopenthread': 3349, u'ocpid1326opencandy31': 3451, u'getchromeprocesspath': 1755, u'ocpid1326opencandy32': 3452, u'scrollwindow': 4413, u'ntopenprocess': 3344, u'gdipdrawpath': 1603, u'getsystemmetrics': 2216, u'tryentercriticalsection': 5218, u'lockfile': 2904, u'gdipsetcliprecti': 1670, u'createupdowncontrol': 899, u'imagelist_drawex': 2508, u'rtlunlockheap': 4336, u'setupsetplatformpathoverridew': 4898, u'dsgetdcnexta': 1218, u'pathrenameextensionw': 3595, u'getipnetentry2': 1949, u'ispathsharedw': 2711, u'ntquerydirectoryobject': 3362, u'controlservice': 656, u'setupsetplatformpathoverridea': 4897, u'getfirmwareenvironmentvariablea': 1904, u'iswindow': 2736, u'diskprompt': 1109, u'_ocprd605opencandy2': 223, u'mequl52g': 3064, u'oledestroymenudescriptor': 3476, u'progidfromclsid': 3669, u'rasportsend': 3834, u'getcomputername': 1787, u'appendmenuw': 387, u'wvsprintfw': 5615, u'polylineto': 3642, u'gdiptranslatetexturetransform': 1690, u'getfiletype': 1896, u'wvsprintfa': 5614, u'geturlcachegroupattributea': 2315, u'isdigit': 2697, u'insertmenuitemw': 2598, u'gdipcreatebitmapfromgraphics': 1560, u'trackmouseevent': 5203, u'gdipdrawimagerecti': 1599, u'sxsoleaut32redirecttypelibrary': 5133, u'insertmenuitema': 2597, u'flushconsoleinputbuffer': 1457, u'rtlraiseexception': 4291, u'cm_reenumerate_devnode_ex': 604, u'netgetdcname': 3162, u'netconnectionenum': 3158, u'rtlinsertelementgenerictable': 4243, u'createthreadpooltimer': 892, u'safearrayptrofindex': 4372, u'createfile': 800, u'rtlsetiocompletioncallback': 4311, u'initializesecuritycontextw': 2579, u'xbe': 5636, u'xbd': 5635, u'xbf': 5637, u'xba': 5631, u'fdicopy': 1371, u'getaddrinfo': 1710, u'rtlpctofileheader': 4276, u'mapisendmail': 3033, u'removedirectory': 4024, u'registerclassnamew': 3951, u'verlanguagename': 5373, u'shelllink': 4967, u'setupdigethwprofilefriendlynamea': 4735, u'legacy_open': 2843, u'safearraycreateex': 4361, u'gdipimageselectactiveframe': 1653, u'netquerydisplayinformation': 3171, u'rasgetdevicenamew': 3791, u'loadlibrary': 2869, u'setclasslonga': 4454, u'rhpid850rheng32': 4059, u'ldrunloaddll': 2836, u'netstatisticsget': 3188, u'lua_isnumber': 2969, u'virtualalloc': 5381, u'gdipcreatefontfamilyfromname': 1566, u'netschedulejobadd': 3174, u'rhpid850rheng35': 4060, u'dllhandleuserid': 1134, u'downloadpictureinithread': 1172, u'append': 385, u'registercmmw': 3955, u'getcorsystemdirectory_retaddr': 1798, u'cocreateinstance': 610, u'rtlisgenerictableempty': 4247, u'geticmpstatistics': 1938, u'internetsetstatuscallback': 2652, u'_set_invalid_parameter_handler': 237, u'zwquerymultiplevaluekey': 5703, u'getpolyfillmode': 2083, u'createellipticrgnindirect': 791, u'ntmakepermanentobject': 3326, u'0_lockit': 1, u'unregisterdevicenotification': 5263, u'savedc': 4398, u'__14e06197e71e4a41a71d1ab8e68c5079': 35, u'findnextfile': 1418, u'getthememetric': 2269, u'getmenucheckmarkdimensions': 1995, u'ndrgetusermarshalinfo': 3147, u'winnlsenableime': 5511, u'plgblt': 3636, u'createdirectorya': 784, u'outputdebugstring': 3553, u'createsolidbrush': 884, u'addclipboardformatlistener': 355, u'setthreadstackguarantee': 4626, u'createdirectoryw': 786, u'_findprocess': 167, u'itd_clearfiles': 2758, u'createeventexw': 798, u'sysstringlen': 5143, u'ldrqueryimagefileexecutionoptions': 2831, u'wow64disablewow64fsredirection': 5544, u'_onexit': 224, u'loadcursor': 2855, u'getprocesstimes': 2108, u'ya_nabv': 5650, u'__4d45614a7c484784aa177630b1236acd': 43, u'_fdopen': 163, u'wlangetavailablenetworklist': 5524, u'ntassignprocesstojobobject': 3264, u'closemetafile': 581, u'msisourcelistaddsourceexw': 3119, u'findfirstfileexa': 1406, u'getsystemtimes': 2222, u'findfirstfileexw': 1407, u'ftprenamefilew': 1522, u'waitformultipleobjectsex': 5405, u'rpcasyncinitializehandle': 4075, u'createwellknownsid': 906, u'lual_loadbuffer': 2999, u'getprocesswindowstation': 2112, u'rtlvalidacl': 4344, u'certaddcertificatecontexttostore': 494, u'unhandledexceptionfilter': 5241, u'getcharwidthfloatw': 1752, u'getthemetransitionduration': 2285, u'kwcfg_create': 2788, u'bind': 440, u'rtlgetactiveactivationcontext': 4209, u'timekillevent': 5180, u'ntflushkey': 3308, u'ntsetsystemenvironmentvalueex': 3420, u'getsystemdefaultlocalename': 2207, u'equalrgn': 1315, u'rtldestroyenvironment': 4170, u'pbg_n': 3616, u'decodeimage': 1032, u'ntsuspendthread': 3430, u'sdbgrabmatchinginfo': 4415, u'winexec': 5485, u'regcreatekeyexw': 3923, u'safearrayaccessdata': 4356, u'openprocess': 3538, u'ns_getfrozenfunctions': 3242, u'regcreatekeyexa': 3922, u'loadlibraryshim_retaddr': 2874, u'setsystemfilecachesize': 4603, u'makeselfrelativesd': 3022, u'imagelist_setimagecount': 2529, u'processidtosessionid': 3668, u'setthreadpriorityboost': 4625, u'rtllookupatominatomtable': 4257, u'pbg_npbqbupropertyinfo': 3617, u'imagelist_destroy': 2502, u'setupdiselectoemdrv': 4772, u'rasportgetstatistics': 3826, u'__vbafreeobjlist': 79, u'blessiwbemservicesobject': 445, u'windowsservicepack': 5480, u'_setvaluew': 245, u'createhistoryreader': 816, u'setclasslong': 4453, u'netuseradd': 3193, u'gdipsetcompositingmode': 1672, u'createtextservices': 890, u'shgetspecialfolderlocation': 4986, u'resolveipnetentry2': 4049, u'rtlmakeselfrelativesd': 4259, u'itd_getresultstring': 2767, u'zwqueryvirtualmemory': 5709, u'_lclose': 202, u'ldap_inita': 2804, u'rasrpcconnect': 3858, u'setconsolectrlhandler': 4459, u'ntaccesscheckandauditalarm': 3252, u'gethostconfigurationfile': 1934, u'themeinitapihook': 5172, u'6std': 27, u'strncmp': 5091, u'rtlinitunicodestring': 4241, u'getwindowextex': 2348, u'getcurrentpositionex': 1813, u'_open_osfhandle': 226, u'_cicos': 142, u'roundrect': 4073, u'traceregisterexa': 5202, u'blockinput': 446, u'releaseireportclient': 4019, u'cryptretrieveobjectbyurlw': 951, u'gdireleasedc': 1693, u'ber_free': 439, u'lzcreatefilew': 3014, u'shellexecuteexa': 4964, u'freesid': 1500, u'shellexecuteexw': 4965, u'btngetposition': 457, u'uae_npbupropertyinfo': 5224, u'traceprintfa': 5200, u'isinadmingroup': 2706, u'internalgetdeviceconfig': 2613, u'msgwaitformultipleobjects': 3109, u'wnetuseconnectionw': 5539, u'rasrefconnection': 3853, u'oleuibusyw': 3499, u'_strdup': 255, u'gdipgetlinespacing': 1634, u'fdidestroy': 1373, u'rtllengthrequiredsid': 4253, u'_atoi64': 131, u'replacetexta': 4039, u'anglearc': 381, u'__vbavarsub': 107, u'workerlz4_decompress': 5542, u'heapcompact': 2416, u'cstdstubbuffer_invoke': 981, u'btnsetvisibility': 465, u'readclassstg': 3900, u'getmethodqualifierset': 2017, u'imagelist_geticonsize': 2515, u'internetclosehandle': 2620, u'getparentprocessname': 2076, u'writepropertyvalue': 5566, u'gentee_set': 1700, u'getaddrinfow': 1713, u'ldrgetprocedureaddress': 2827, u'getprocessid': 2103, u'showcaret': 4993, u'rasrpcgeterrorstring': 3865, u'_adj_fdiv_m64': 116, u'getclrfunction': 1776, u'findwindowexa': 1435, u'samconnect': 4384, u'setprocesspriorityboost': 4567, u'defwindowproc': 1045, u'addatom': 352, u'_vscwprintf': 275, u'findwindowexw': 1436, u'win_init': 5474, u'wtsunregistersessionnotification': 5611, u'destroyicon': 1081, u'rtlcreatesecuritydescriptor': 4146, u'setupgetbinaryfield': 4794, u'rtlgetcurrentdirectory_u': 4211, u'createwindowexa': 909, u'paintpicture': 3559, u'destroylinkinfo': 1082, u'imagelist_replace': 2524, u'addfontmemresourceex': 358, u'setconsolewindowinfo': 4468, u'rasisipsecenabled': 3813, u'createwindowexw': 910, u'getclipbox': 1774, u'setupdienumdeviceinfo': 4696, u'getudpstatistics': 2306, u'createxmlreader': 912, u'getmenu': 1994, u'virtualfreeex': 5385, u'rpcbindingsetauthinfow': 4081, u'isrectempty': 2715, u'rpcbindingsetauthinfoa': 4078, u'_vsnprintf': 276, u'getcurrentdesktop': 1808, u'regenumvaluew': 3939, u'geturlcacheentryinfoexw': 2313, u'__vbastrmove': 97, u'geturlcacheentryinfoexa': 2312, u'strftime': 5084, u'__vbavarzero': 109, u'gdirealizationinfo': 1692, u'wsasocket': 5592, u'gdipdrawimagei': 1596, u'lua_pushfstring': 2977, u'getthemeposition': 2272, u'_tzset': 269, u'accgetexplicitentries': 325, u'unregisterwaitex': 5273, u'getm44': 1985, u'verifysignature': 5369, u'setruntimeinfo': 4581, u'setsockopt': 4598, u'setlayeredwindowattributes': 4533, u'sqlite3_open_v2': 5040, u'gethglobalfromstream': 1930, u'tlssetvalue': 5185, u'unskinit': 5274, u'dllsendinstallationusage': 1146, u'varidiv': 5345, u'ldrcreateoutofprocessimage': 2817, u'lua_checkstack': 2958, u'srand': 5042, u'ntsettimer': 3424, u'ndrstubcall': 3151, u'getgeoinfow': 1918, u'endmethodenumeration': 1259, u'setupinstallservicesfrominfsectiona': 4833, u'fabs': 1367, u'setupinstallservicesfrominfsectionw': 4836, u'createhwnd': 817, u'wine_nt_to_unix_file_name': 5484, u'createurlcachecontainera': 900, u'setupdicreatedeviceinfolist': 4678, u'setstate': 4599, u'ntwaitforsingleobject': 3440, u'getupdatergn': 2310, u'lstrcpy': 2949, u'cryptdestroykey': 929, u'wsaeventselect': 5578, u'setw': 4912, u'unhookwinevent': 5244, u'setcoloradjustment': 4458, u'ntseteafile': 3409, u'subtractrect': 5118, u'getappdatalocal2': 1719, u'__vbaobjset': 91, u'arcto': 391, u'zwquerykey': 5702, u'wsasend': 5589, u'zwfscontrolfile': 5684, u'createxmlreaderinputwithencodingname': 913, u'unregistermessagepumphook': 5267, u'uuidfromstringw': 5298, u'rassendnotification': 3874, u'writeconsolea': 5552, u'lua_objlen': 2973, u'cryptexportkey': 933, u'dlg_box': 1117, u'monitorfromrect': 3097, u'checkdlgbutton': 542, u'ntqueryvirtualmemory': 3385, u'ntnotifychangekey': 3332, u'insert': 2595, u'setconsoleinputexenamew': 4461, u'gdipgetregionhrgn': 1641, u'getmonitorinfow': 2038, u'lpsafearray_usermarshal': 2928, u'setmenuitembitmaps': 4547, u'polyline': 3641, u'rasseteapinfo': 3885, u'getnewsock': 2051, u'ccsetscrollinfo': 492, u'npgetcaps': 3227, u'openfile': 3526, u'setwindowlongw': 4920, u'setlayout': 4534, u'setscrollinfo': 4582, u'rtlpensurebuffersize': 4277, u'setwindowlonga': 4919, u'setfileattributesw': 4503, u'setscrollpos': 4583, u'completeauthtoken': 649, u'rtlcreatetimer': 4148, u'getkeyboardlayout': 1954, u'cotaskmemrealloc': 704, u'createduiwrapper': 788, u'getfileattributesa': 1881, u'getfileattributesw': 1885, u'opensemaphorew': 3544, u'tracederegistera': 5196, u'socket': 5026, u'_adj_fdivr_m32i': 120, u'windowsname': 5478, u'__mb_cur_max': 60, u'setthreadaffinitymask': 4614, u'getclipboardformatnamea': 1770, u'wsanspioctl': 5585, u'getclipboardformatnamew': 1771, u'ftpcommandw': 1510, u'fatalexit': 1369, u'ftpcommanda': 1509, u'netsharecheck': 3184, u'forwardgadgetmessage': 1472, u'rpcstringbindingcomposew': 4089, u'cryptenumprovidersw': 932, u'allocateandinitializesid': 375, u'proccallengine': 3663, u'_lopen': 208, u'ldap_set_optiona': 2810, u'winhelpa': 5486, u'avistreamrelease': 415, u'getfileattributesexw': 1884, u'setupqueryfileloga': 4855, u'gdiptranslateclip': 1688, u'pie': 3629, u'setupqueryfilelogw': 4856, u'1runtime_error': 20, u'getfileattributesexa': 1883, u'ldrloadalternateresourcemodule': 2828, u'cryptgetdefaultproviderw': 936, u'createremotethread': 875, u'rasdevicegetinfo': 3768, u'fwprintf': 1528, u'urlmksetsessionoption': 5292, u'isxdl_addfilesize': 2746, u'duplicatetokenex': 1227, u'openinputdesktop': 3531, u'getwindowsdirectoryw': 2358, u'olecreate': 3470, u'messageboxindirecta': 3069, u'getwindowsdirectorya': 2357, u'getgraphicsmode': 1923, u'changeserviceconfigw': 520, u'getwindowsinstallerversion': 2359, u'lual_gsub': 2998, u'sleep': 5018, u'isvm': 2733, u'_mbsrchr': 216, u'getscrollrange': 2159, u'getsidlengthrequired': 2178, u'itd_getstring': 2768, u'localtime': 2902, u'deletecriticalsection': 1054, u'nsifreetable': 3247, u'hpavvalue': 2433, u'getthemesyssize': 2281, u'gethostbyaddr': 1932, u'getcursor': 1824, u'dmogetname': 1150, u'abortdoc': 308, u'openclipboard': 3517, u'getprocesstimesw': 2109, u'setupdiremovedevice': 4768, u'polydraw': 3639, u'sendmessagetimeouta': 4430, u'ntreplacekey': 3397, u'flattenpath': 1450, u'rasrpcgetsystemdirectory': 3868, u'sendmessagetimeoutw': 4431, u'createdc': 767, u'xfe': 5639, u'getfinalpathnamebyhandlew': 1903, u'waveoutgetvolume': 5427, u'ntremoveiocompletion': 3395, u'enumcalendarinfoa': 1268, u'getcpinfoexw': 1802, u'gettargetforvtableentry_retaddr': 2230, u'enumcalendarinfow': 1270, u'getuserobjectinformation': 2327, u'getthememargins': 2268, u'_fstati64': 171, u'initializecriticalsectionandspincount': 2573, u'setwindowshookexa': 4925, u'setupdideletedeviceinterfaceregkey': 4690, u'setsystempowerstate': 4605, u'ntpulseevent': 3357, u'setwindowshookexw': 4926, u'wcstol': 5451, u'printf': 3659, u'sysfreestring': 5140, u'wcstod': 5450, u'setupdigetclassdevsw': 4712, u'lual_checkinteger': 2995, u'createfontindirect': 807, u'blessiwbemservices': 444, u'createbitmap': 752, u'setuserobjectsecurity': 4907, u'callnamedpipea': 474, u'ntcreatetimer': 3290, u'ndrcstdstubbuffer_release': 3141, u'createbrushindirect': 755, u'ftpputfilew': 1520, u'zwsetvaluekey': 5720, u'imagelist_getbkcolor': 2512, u'setsecurity': 4586, u'pathgetdrivenumbera': 3578, u'itd_getresultlen': 2766, u'setupdicreatedeviceinfolistexw': 4680, u'setupdicreatedeviceinfolistexa': 4679, u'interlockedcompareexchange': 2605, u'getsecuritydescriptorlength': 2163, u'end': 1250, u'npgetpropertytext': 3232, u'getscrollinfo': 2157, u'copymetafilew': 684, u'_ciexp': 143, u'rtlequalprefixsid': 4185, u'event_sink_addref': 1320, u'copymetafilea': 683, u'getthreaddesktop': 2287, u'wcsrchr': 5447, u'gdipcloneregion': 1554, u'cm_get_device_interface_list_exw': 600, u'setglobalparam': 4521, u'getclassname': 1765, u'getwindowthreadprocessidw': 2369, u'widenpath': 5471, u'gdipsetpageunit': 1678, u'reuseddelparam': 4053, u'setupfindfirstlinew': 4788, u'setviewportorgex': 4910, u'setupfindfirstlinea': 4787, u'winhttpsetstatuscallback': 5508, u'setieemulation': 4527, u'globalgetatomnamew': 2383, u'setupdiloadclassicon': 4755, u'fwrite': 1529, u'ftpdeletefilew': 1512, u'globalgetatomnamea': 2382, u'iswellknownsid': 2735, u'varfix': 5328, u'getnextdlggroupitem': 2052, u'_sleepw': 247, u'suspendthread': 5120, u'enumresourcenamesw': 1298, u'getconsolemode': 1793, u'freepropvariantarray': 1498, u'_strupr': 260, u'hssetbindruninstall': 2446, u'enumresourcenamesa': 1297, u'lzclose': 3011, u'netgetjoininformation': 3163, u'deleteipforwardentry': 1062, u'terminateprocess': 5168, u'setupdiclassguidsfromnamew': 4672, u'zwlockfile': 5687, u'regnotifychangekeyvalue': 3987, u'setupdiclassguidsfromnamea': 4669, u'nukedownloadedcache': 3445, u'csrclientconnecttoserver': 970, u'mapviewoffileex': 3035, u'floodfill': 1451, u'adddlldirectory': 356, u'goo': 2393, u'getdateformata': 1827, u'setupdisetselecteddevice': 4781, u'__vbahresultcheckobj': 83, u'getdateformatw': 1829, u'strcspn': 5075, u'duserflushmessages': 1230, u'rtldeletetimer': 4166, u'free': 1481, u'cryptcatadminenumcatalogfromhash': 922, u'getforegroundwindow': 1909, u'rassetportuserdata': 3891, u'setupqueuerenamew': 4878, u'immnotifyime': 2545, u'zwcreatefile': 5667, u'rlid994reclib6': 4071, u'deletehandle': 1061, u'rlid994reclib1': 4064, u'disableprocesswindowsghosting': 1105, u'rand': 3745, u'pathsetdlgitempatha': 3596, u'msisipismytypeoffile': 3118, u'netschedulejobgetinfo': 3177, u'addsidtoboundarydescriptor': 363, u'timegetdevcaps': 5178, u'getwindow': 2345, u'_snd_o': 249, u'counmarshalinterface': 707, u'setupgetfilecompressioninfow': 4797, u'lua_pcall': 2974, u'gettcpstatistics': 2231, u'setupgetfilecompressioninfoa': 4796, u'ldrlockloaderlock': 2830, u'rtlnewsecurityobjectex': 4267, u'addurltofavorites': 365, u'cphashdata': 726, u'vardecfromr4': 5324, u'setconsolescreenbuffersize': 4464, u'vardecfromr8': 5325, u'avistreamwrite': 417, u'getsystemdefaultuilanguage': 2208, u'attachwndprocw': 405, u'scrollbar_menu': 4410, u'copyfilew': 679, u'copyfilea': 677, u'localhandle': 2897, u'openprivatenamespacew': 3537, u'createconfigstream_retaddr': 762, u'internetcheckconnectiona': 2618, u'strrchra': 5097, u'internetcheckconnectionw': 2619, u'freeresource': 1499, u'rtlqueryprocessdebuginformation': 4286, u'softpubloadmessage': 5031, u'extractassociatedicona': 1349, u'fillrect': 1386, u'__vbastrvarval': 100, u'getmodulefilenameex': 2025, u'zwsavekey': 5715, u'setvbuf': 4908, u'gdipdrawimagepointrecti': 1597, u'cpgetkeyparam': 723, u'cm_get_device_id_exw': 599, u'getbinarytypew': 1728, u'spawninstance': 5037, u'ugtgz': 5235, u'cryptuninstalldefaultcontext': 959, u'equalrect': 1314, u'getipnettable': 1950, u'cryptmsgclose': 945, u'gdipgetfamily': 1617, u'setupdigetclassbitmapindex': 4702, u'workerlz4_compress': 5541, u'pspropertybag_readdword': 3678, u'basic_streambuf': 425, u'zwnotifychangekey': 5690, u'varudatefromdate': 5363, u'createstubfromtypeinfo': 888, u'wnetaddconnection2w': 5527, u'putwc': 3692, u'gdipgetimagegraphicscontext': 1626, u'wnetaddconnection2a': 5526, u'setprocessdeppolicy': 4565, u'rtlallocatehandle': 4116, u'loadmenua': 2876, u'flsgetvalue': 1455, u'loadmenuw': 2879, u'getthemeenumvalue': 2263, u'corevokeinitializespy': 697, u'getwindowtextlengtha': 2364, u'rpcbindingfree': 4076, u'cpsetprovparam': 733, u'1exception': 17, u'getwindowtextlengthw': 2365, u'rtldllshutdowninprogress': 4176, u'rtlcreateenvironment': 4142, u'createbitmapindirect': 753, u'rasprotocolstop': 3851, u'registerwaitforsingleobject': 3981, u'gettemppath': 2236, u'rfind': 4057, u'nd_wu1': 3134, u'uaexh_n': 5228, u'_initterm': 192, u'onback': 3502, u'createservicea': 882, u'xre_main': 5644, u'setmetafilebitsex': 4550, u'rtlmovememory': 4261, u'rtlcopysid': 4137, u'createservicew': 883, u'_wrename': 293, u'lineto': 2848, u'beep': 429, u'setupopenappendinffilea': 4843, u'sizeboxhwnd': 5015, u'zwextendsection': 5681, u'registermessagepumphook': 3966, u'realchildwindowfrompoint': 3907, u'setupopenappendinffilew': 4844, u'childwindowfrompointex': 556, u'nsiallocateandgettable': 3246, u'getenhmetafileheader': 1865, u'dllproxyregisterserver': 1140, u'loadresource': 2883, u'scriptitemize': 4407, u'ntreleasemutant': 3393, u'ccenablescrollbar': 490, u'rasportgetbundle': 3823, u'wlanenuminterfaces': 5523, u'handleuiapropertylistener': 2409, u'freeaddrinfoex': 1483, u'_citan': 148, u'__p__iob': 64, u'dusersendevent': 1231, u'wabopen': 5400, u'closetoolhelp32snapshota': 590, u'rasgetentrypropertiesw': 3798, u'setwindowtheme': 4931, u'setupgetsourcefilelocationa': 4811, u'rtllookupelementgenerictable': 4258, u'setupgetsourcefilelocationw': 4812, u'getobjecttype': 2062, u'couninitialize': 706, u'setdlgitemtexta': 4484, u'_adj_fprem': 123, u'setdlgitemtextw': 4485, u'setstdhandle': 4600, u'gdipsetcompositingquality': 1673, u'gdiptranslateworldtransform': 1691, u'rtlraisestatus': 4292, u'accconvertsdtoaccess': 318, u'zwrestorekey': 5713, u'ntquerydirectoryfile': 3361, u'variantcopy': 5342, u'regsetkeysecurity': 4008, u'createmailslota': 833, u'getmd5string': 1993, u'drawtextexww': 1204, u'isdebuggerpresent': 2693, u'pstorecreateinstance': 3682, u'createenvironmentblock': 794, u'closeservicehandle': 583, u'symgetlinefromaddr': 5135, u'pathisunca': 3582, u'getthemesyscolor': 2277, u'mapviewoffile': 3034, u'_corexemain_retaddr': 154, u'pathisuncw': 3583, u'safergetpolicyinformation': 4380, u'escape': 1318, u'zwcreatethread': 5672, u'createboundarydescriptorw': 754, u'isclipboardformatavailable': 2687, u'getthemebool': 2260, u'getwindowdc': 2347, u'select': 4418, u'localshrink': 2900, u'registerclass': 3947, u'gdipgetimagerawformat': 1631, u'registershimimplcallback': 3974, u'acclookupaccountname': 327, u'mapwindowpoints': 3041, u'rasprotocolchangepassword': 3847, u'gdipgetfontunit': 1622, u'_wopen': 289, u'rtcinstrrev': 4093, u'directinputcreatea': 1101, u'lzinit': 3015, u'credfree': 915, u'getdevicecaps': 1836, u'netusergetlocalgroups': 3198, u'getclasslongw': 1764, u'apphelpcheckexe': 388, u'btnsetchecked': 459, u'ntnotifychangedirectoryfile': 3331, u'getclasslonga': 1763, u'ntduplicateobject': 3300, u'tws': 5219, u'wsastringtoaddressa': 5596, u'removeenginetypelib': 4027, u'onwindowstylechanged': 3515, u'wsastringtoaddressw': 5597, u'revokebindstatuscallback': 4055, u'toolbarcompatibilitycheck': 5189, u'rasenumconnectionsw': 3776, u'getkerningpairsw': 1953, u'internetopenurla': 2637, u'getsystemdirectory': 2210, u'zwqueryvolumeinformationfile': 5710, u'itd_postpage': 2771, u'softwareupdatemessagebox': 5033, u'internetopenurlw': 2638, u'strcmpiw': 5068, u'flsalloc': 1453, u'allocateandgetudpextablefromstack': 374, u'netuseenum': 3191, u'cogetapartmenttype': 615, u'decrypt': 1034, u'clearcache': 565, u'ntopensemaphore': 3347, u'createiocompletionport': 827, u'setupdiselectdevice': 4771, u'getqualifierset': 2135, u'closeprinter': 582, u'disablethreadlibrarycalls': 1107, u'setupdigethwprofilelist': 4739, u'_unlock': 273, u'setupdigetclassinstallparamsw': 4718, u'getversionexw': 2336, u'gdigetbitmapbitssize': 1542, u'getsystemtimeasfiletime': 2220, u'getversionexa': 2335, u'setupdigetclassinstallparamsa': 4717, u'__fe3d655f18e24b65b6c058796fa20b99': 57, u'ischaralphaw': 2682, u'writefileex': 5555, u'ischaralphaa': 2679, u'createerrorinfo': 795, u'gdipbitmaplockbits': 1549, u'localunlock': 2903, u'ntresetwritewatch': 3400, u'isspace': 2717, u'rtlgetuserinfoheap': 4226, u'setpriorityclass': 4563, u'cryptacquirecontext': 917, u'_ismbblead': 196, u'getdlgitemtexta': 1852, u'_isatty': 194, u'getdlgitemtextw': 1853, u'imagelist_setoverlayimage': 2530, u'setupinstallfilew': 4830, u'getuserobjectsecurity': 2330, u'flsfree': 1454, u'setupinstallfilea': 4825, u'setcursor': 4474, u'lua_pushcclosure': 2976, u'gdipisinfiniteregion': 1654, u'framerect': 1478, u'startservicew': 5053, u'0runtime_error': 9, u'ddenameservice': 1019, u'googlechromecompatibilitycheck': 2394, u'setupdisetdriverinstallparamsw': 4780, u'gmtime': 2391, u'setupdisetdriverinstallparamsa': 4779, u'openmutexa': 3533, u'messageboxexa': 3068, u'gdipismatrixidentity': 1655, u'newwebwnd': 3205, u'openmutexw': 3534, u'gettokeninformationw': 2300, u'internetsetcookiea': 2645, u'internetsetcookiew': 2646, u'0_winit': 2, u'setupdiremovedeviceinterface': 4769, u'unregisterhotkey': 5266, u'createprocessinternala': 863, u'createproxyfromtypeinfo': 872, u'getloaderinterface': 1970, u'i_rpcexceptionfilter': 2475, u'showwebinpopup': 5001, u'getprocessusermodeexceptionpolicy': 2110, u'setupopenfilequeue': 4845, u'createprocessinternalw': 864, u'safearraygetiid': 4368, u'setupdigetdeviceinterfacedetailw': 4728, u'functionstarta': 1526, u'zwshutdownsystem': 5722, u'setupdigetdeviceinterfacedetaila': 4727, u'nlsmbcodepagetag': 3210, u'functionstartw': 1527, u'getprotobynumber': 2133, u'disconnectnamedpipe': 1108, u'beginpaint': 435, u'rtlderegisterwait': 4168, u'ubeixz': 5232, u'_c_exit': 134, u'openas_rundllw': 3516, u'callwindowprocw': 480, u'rassetdialmachineeventhandle': 3883, u'decodedata': 1031, u'callwindowproca': 479, u'coregistermessagefilter': 692, u'querymemoryresourcenotification': 3727, u'_wcmdln': 280, u'seturlcachegroupattributea': 4904, u'isfilesupportedname': 2700, u'clone': 571, u'setupdiregistercodeviceinstallers': 4766, u'accgetinheritancesource': 326, u'wnetgetusera': 5536, u'prebindassemblyex': 3656, u'unregistertouchwindow': 5269, u'ldap_search_sa': 2809, u'dnsqueryconfigallocex': 1158, u'tzspecificlocaltimetosystemtime': 5221, u'windowfromdc': 5476, u'acmstreamclose': 338, u'playmetafilerecord': 3633, u'winstationopenserverw': 5518, u'rtlallocateandinitializesid': 4115, u'internetgetconnectedstateexw': 2631, u'readprocessmemory': 3906, u'createpipe': 854, u'getbyclassindex': 1737, u'dodragdrop': 1164, u'nlsansicodepage': 3208, u'_calccrc32w': 135, u'scriptshape': 4409, u'pspropertybag_readbstr': 3677, u'rpcbindingsetoption': 4082, u'execute': 1335, u'netlocalgroupdelmembers': 3167, u'kiusercallbackdispatcher': 2785, u'getviewportextex': 2337, u'ntqueryinformationatom': 3366, u'verqueryvaluew': 5378, u'ntsetiocompletion': 3418, u'createassemblycache': 744, u'rtlqueryinformationactiveactivationcontext': 4285, u'getscrollpos': 2158, u'setupdibuilddriverinfolist': 4665, u'invalidatergn': 2662, u'enabletheming': 1243, u'createdirectoryexw': 785, u'ferror': 1376, u'getsecuritydescriptorsacl': 2165, u'rtlsizeheap': 4321, u'copyenhmetafilea': 674, u'setinformationjobobject': 4528, u'setlayoutwidth': 4535, u'nss_init': 3250, u'__vbafpi4': 77, u'__vbafpi2': 76, u'copysid': 687, u'getrequestedruntimeinfo': 2148, u'samgetaliasmembership': 4388, u'gdipgetimageheight': 1627, u'iae': 2479, u'ntnotifychangemultiplekeys': 3333, u'checktokenmembershipw': 554, u'shsetlocalizedname': 5007, u'gopherfindfirstfilew': 2396, u'setupdefaultqueuecallbacka': 4656, u'gdipcreatefont': 1565, u'imagelist_enddrag': 2511, u'snmpextensionquery': 5023, u'dbgprint': 988, u'setupcopyerrora': 4648, u'imagelist_setbkcolor': 2526, u'setupcopyerrorw': 4649, u'getfocus': 1905, u'lsaopenpolicy': 2938, u'getthemebackgroundcontentrectw': 2257, u'createpenindirect': 853, u'getmiterlimit': 2018, u'openservicea': 3545, u'zwsetinformationfile': 5716, u'cryptgethashparam': 937, u'md5final': 3052, u'openservicew': 3546, u'_adj_fdivr_m16i': 118, u'setbitmapdimensionex': 4445, u'himagelist_queryinterface': 2430, u'raspppgeteapinfo': 3840, u'setmenuinfo': 4546, u'getprogramfiles': 2125, u'globalmemorystatus': 2386, u'lresultfromobject': 2932, u'arefileapisansi': 392, u'midistreamrestart': 3081, u'getaltmonthnames': 1716, u'getthemeint': 2266, u'_wtol': 297, u'gdipgetclip': 1613, u'ntflushvirtualmemory': 3309, u'setupgetinffilelistw': 4799, u'kwcfg_getresultstr': 2790, u'httpinitialize': 2462, u'setupgetinffilelista': 4798, u'gdipgetimageencoderssize': 1625, u'imagelist_getimageinfo': 2517, u'ntflushinstructioncache': 3307, u'dllmainw': 1139, u'dllmaina': 1138, u'pbqbupropertyinfo': 3620, u'filtercreateinstance': 1388, u'dragqueryfilew': 1178, u'setupdiinstalldeviceinterfaces': 4753, u'_unload': 272, u'windowfrompoint': 5477, u'dragqueryfilea': 1177, u'basic_ostringstream': 424, u'getfiletitlea': 1894, u'getversion': 2333, u'unembed': 5238, u'drawedge': 1186, u'defdlgprocw': 1038, u'getregisteredrawinputdevices': 2147, u'createnamedpipew': 846, u'execwait': 1336, u'rtlunicodestringtoansisize': 4330, u'createnamedpipea': 845, u'querydosdevicea': 3722, u'setupdestroydiskspacelist': 4660, u'querydosdevicew': 3723, u'hidefloatingprogress': 2427, u'rtldestroyhandletable': 4171, u'gdipdeletepath': 1589, u'shgetfolderlocation': 4975, u'ccbase': 489, u'setnamedsecurityinfoa': 4554, u'ocpid1326opencandy19': 3450, u'acctreeresetnamedsecurityinfo': 337, u'expandenvironmentstringsa': 1341, u'versetconditionmask': 5379, u'__vbachkstk': 71, u'gdigetcodepage': 1544, u'btnsettext': 464, u'invoke2': 2665, u'isxdl_setoption': 2752, u'gettemppatha': 2237, u'deregistereventsource': 1075, u'gettemppathw': 2238, u'getrawinputdeviceinfoa': 2142, u'wvtasn1spcindirectdatacontentdecode': 5616, u'cpreleasecontext': 730, u'ntdeletefile': 3295, u'reporteventa': 4040, u'ddeaccessdata': 1005, u'netsharegetinfo': 3187, u'6b': 26, u'rassendprotocolresulttorasman': 3876, u'isequalguid': 2699, u'_adj_fdivr_m32': 119, u'printmessage': 3660, u'gdipfillpath': 1607, u'lockfileex': 2905, u'getcommondesktop': 1784, u'dbguiconvertstatechangestructure': 992, u'gdipgetimagepalettesize': 1629, u'dlgdirlistw': 1120, u'httpget': 2461, u'_ocpid1326opencandy2': 222, u'lua_load': 2971, u'registerrawinputdevices': 3969, u'combinergn': 638, u'accfreeindexarray': 323, u'basic_ostream': 423, u'deviceiocontrol': 1088, u'setupdideletedeviceinterfacedata': 4689, u'savestatisticsinfo': 4399, u'showownedpopups': 4999, u'rtlfreesid': 4205, u'qaejh': 3696, u'createprocesswithtokenw': 868, u'uae_niijpaj': 5223, u'pathremoveargsa': 3588, u'lookupprivilegenamew': 2923, u'setuplogfilea': 4841, u'getkeyboardstate': 1958, u'createfontindirectw': 809, u'initsecurityinterfacea': 2589, u'createfontindirecta': 808, u'setuplogfilew': 4842, u'qbeipbdii': 3709, u'initsecurityinterfacew': 2590, u'event_sink_getidsofnames': 1321, u'nd_wi4': 3132, u'rtlcompactheap': 4130, u'makesuredirectorypathexists': 3023, u'getipforwardtable2': 1947, u'__vbaaryconstruct2': 68, u'enumprocessesw': 1291, u'invalidaterect': 2661, u'certcreateselfsigncertificate': 496, u'rtlinitansistring': 4233, u'getcharwidthw': 1754, u'getcharwidtha': 1751, u'gdicreatelocalenhmetafile': 1537, u'lua_concat': 2960, u'isxdl_download': 2748, u'setgestureconfig': 4520, u'wcspbrk': 5446, u'winhttpopenw': 5499, u'werreportsetparameter': 5464, u'cryptimportpublickeyinfo': 943, u'_callnewh': 137, u'cryptprotectmemory': 948, u'icmpcreatefile': 2487, u'icfopendynamicfwport': 2485, u'ntopenjobobject': 3339, u'ntissystemresumeautomatic': 3320, u'__d7f1e4b2aeb5445cb31a2c01fe8b3eff': 54, u'rasgetconnectionparams': 3783, u'npcloseenum': 3223, u'lookupaccountsidlocalw': 2918, u'wine_get_unix_file_name': 5482, u'enumsystemlocalesex': 1307, u'_cisin': 146, u'memcmp': 3056, u'ddeconnect': 1008, u'drawthemebackground': 1206, u'ntcreatejobset': 3279, u'rtlsetcurrentdirectory_u': 4305, u'netusergetinfo': 3197, u'sethandlecount': 4523, u'findwindoww': 1437, u'getbitmapdimensionex': 1730, u'certfindcertificateinstore': 501, u'getoutlinetextmetricsw': 2070, u'findwindowa': 1434, u'patblt': 3562, u'defwindowprocw': 1047, u'gdiploadimagefromstreamicm': 1658, u'unrealizeobject': 5258, u'defwindowproca': 1046, u'netbios': 3157, u'getqueuedcompletionstatus': 2136, u'ntsetinformationtoken': 3417, u'getpropertyhandle': 2128, u'shgetpathfromidlist': 4983, u'rasportopen': 3829, u'pfximportcertstore': 3627, u'startservicectrldispatchera': 5051, u'setupdigetselecteddriverw': 4746, u'setupdigetselecteddrivera': 4745, u'setupdigetactualsectiontoinstallw': 4701, u'setdlldirectory': 4486, u'__1693bc561a29468bb94d271f5b8146f4': 36, u'gettempfilenamew': 2235, u'btnsetevent': 461, u'ldrdisablethreadcalloutsfordll': 2819, u'acmstreamprepareheader': 341, u'wcslen': 5442, u'wcsncat': 5443, u'gettempfilenamea': 2234, u'querywin31inifilesmappedtoregistry': 3740, u'cpderivekey': 713, u'findresourceexa': 1429, u'getthemerect': 2274, u'findresourceexw': 1430, u'closewindow': 592, u'accrewritegethandlerights': 331, u'handleuiapropertychanginglistener': 2408, u'control_rundllw': 655, u'createsemaphoreexw': 880, u'getglyphoutlinew': 1922, u'writeprivateprofilesectiona': 5557, u'shcreateshellpalette': 4954, u'coallowsetforegroundwindow': 607, u'getmartaextensioninterface': 1992, u'oletranslateaccelerator': 3498, u'__cb2947546d104db3841887c92b17384b': 52, u'addaccessdeniedace': 350, u'attachscrollbars': 403, u'imagelist_begindrag': 2499, u'cleardownloadcache': 567, u'setconsolescreenbufferinfoex': 4463, u'setprocessusermodeexceptionpolicy': 4569, u'rtlgetsecuritydescriptorrmcontrol': 4224, u'getbrushorgex': 1734, u'getmenuitemcount': 1998, u'difftime': 1097, u'callntpowerinformation': 476, u'heapsize': 2423, u'pbgi': 3619, u'wcsftime': 5441, u'i_rpcextinitializeextensionpoint': 2476, u'ntquerysystemenvironmentvalueex': 3380, u'__vbalenbstr': 89, u'rtladdaccessallowedace': 4102, u'gdipcreatepen1': 1578, u'mktime': 3087, u'init': 2562, u'gradientfill': 2401, u'redrawwindow': 3915, u'isleadbyte': 2707, u'_mbschr': 214, u'flatsb_setscrollprop': 1447, u'regenumkeyexw': 3936, u'sfcisfileprotected': 4935, u'certfindchaininstore': 502, u'checkinstalllimit': 545, u'getthemesysint': 2280, u'csridentifyalertablethread': 973, u'regenumkeyexa': 3935, u'imagelist_add': 2497, u'getsystemfirmwaretable': 2213, u'netusegetinfo': 3192, u'lookupaccountsidw': 2919, u'getsidsubauthority': 2179, u'sun': 5119, u'zwloadkey2': 5686, u'netschedulejobdel': 3175, u'getkeynametextw': 1961, u'attachconsole': 402, u'setservicebits': 4592, u'setupterminatefilelog': 4902, u'midistreamclose': 3077, u'freelibrarywhencallbackreturns': 1495, u'virtualallocex': 5382, u'decryptfilea': 1035, u'werreportaddfile': 5461, u'mainstart': 3019, u'gettokenforvtableentry_retaddr': 2298, u'getnamedsecurityinfow': 2041, u'rtlapplicationverifierstop': 4123, u'ntlockvirtualmemory': 3325, u'getsecuritydescriptorcontrol': 2160, u'shgetfolderpath': 4976, u'_lseek': 210, u'getnamedsecurityinfoa': 2040, u'rtlrandom': 4293, u'ischarupperw': 2685, u'systemtimetotzspecificlocaltime': 5161, u'removeclipboardformatlistener': 4023, u'httpopenrequesta': 2463, u'ntsetcontextthread': 3407, u'changedisplaysettingsa': 516, u'certopenstore': 507, u'httpopenrequestw': 2464, u'monitorfromwindow': 3098, u'rtlcreateunicodestring': 4150, u'netapibufferfree': 3154, u'npgetuser': 3237, u'gdiprinterthunk': 1664, u'lua_tothread': 2993, u'getprotobyname': 2132, u'getcursorpos': 1826, u'cloneenumwbemclassobject': 572, u'isglobal': 2702, u'putclasswmi': 3688, u'rtldeleteelementgenerictable': 4163, u'setupgettargetpathw': 4820, u'setupgettargetpatha': 4819, u'rtlintegertochar': 4244, u'setgadgetparent': 4516, u'lual_loadstring': 3000, u'module32nextw': 3095, u'lual_newstate': 3002, u'lua_gettop': 2967, u'gentee_call': 1695, u'__vbavaradd': 101, u'icmpsendecho': 2488, u'setshellofflinestate': 4595, u'globalsize': 2389, u'getlargepageminimum': 1963, u'gettopwindow': 2301, u'rasgetunicodedevicename': 3808, u'avifileendrecord': 410, u'_split': 252, u'rasprotocolretry': 3849, u'__vbai2i4': 84, u'setthreadidealprocessor': 4619, u'regsetvalueex': 4010, u'cointernetisfeatureenabled': 631, u'_cipow': 145, u'changewindowmessagefilterex': 522, u'httpterminate': 2471, u'writefile': 5554, u'__458c5563936e406db119c08659c1de94': 42, u'kcfg_getresultstr': 2781, u'cpsignhash': 734, u'openprocesstoken': 3539, u'winstationcloseserver': 5512, u'getservbyport': 2168, u'immgetcompositionstringw': 2537, u'ntfreevirtualmemory': 3311, u'script': 4404, u'gdipcreatebitmapfromhbitmap': 1561, u'unpackddelparam': 5256, u'enumsystemcodepagesa': 1304, u'strformatbytesizew': 5082, u'getnativesysteminfo': 2045, u'gdipsetstringformattrimming': 1684, u'freebl_getvector': 1487, u'enddefer': 1253, u'loadbitmapa': 2853, u'insertmenua': 2596, u'hsrunrilistart': 2445, u'7b': 28, u'internetcreateurlw': 2627, u'cgetttffromfot': 513, u'insertmenuw': 2599, u'setwinmetafilebits': 4933, u'internetcreateurla': 2626, u'winhttpsettimeoutsw': 5510, u'rtlvalidsecuritydescriptor': 4347, u'rasprotocolgetinfo': 3848, u'ntcreatedirectoryobject': 3274, u'exec': 1329, u'setunhandledexceptionfilter': 4631, u'getregiondata': 2146, u'ntfscontrolfile': 3312, u'setrop2': 4579, u'ntqueueapcthread': 3387, u'encodedata': 1246, u'systemtimetofiletime': 5160, u'getprofilesdirectoryw': 2119, u'setupdicreatedevregkeyw': 4687, u'hschangeserviceconfigs': 2436, u'wakeallconditionvariable': 5412, u'closethreadpooltimer': 587, u'queueuserworkitem': 3743, u'execquerywmi': 1332, u'setupdicreatedevregkeya': 4686, u'getxmlpath': 2373, u'internetsetfilepointer': 2647, u'imgload': 2535, u'widechartomultibyte': 5470, u'getproductsku': 2116, u'createtimerqueuetimer': 895, u'rtlvalidsid': 4348, u'iee': 2490, u'txdl_main': 5220, u'mcisendcommanda': 3049, u'gdipdrawlinei': 1602, u'openfilemappingw': 3529, u'setgadgetmessagefilter': 4515, u'openfilemappinga': 3528, u'getadaptersaddresses': 1708, u'setupdigethwprofilefriendlynameexw': 4737, u'setuprenameerrora': 4889, u'setupduplicatediskspacelistw': 4786, u'atexit': 398, u'setupduplicatediskspacelista': 4785, u'arc': 390, u'cogetobject': 621, u'setuprenameerrorw': 4890, u'setupdigethwprofilefriendlynameexa': 4736, u'setthreadexecutionstate': 4618, u'strchr': 5064, u'f23': 1363, u'msisetexternaluirecord': 3117, u'getipstatistics': 1951, u'f29': 1364, u'changewindowmessagefilter': 521, u'0classinfobase': 4, u'getnextdlgtabitem': 2053, u'getasynckeystate': 1722, u'gettextmetricsw': 2253, u'gdipcreatepath': 1577, u'movefileexw': 3103, u'enummetafile': 1287, u'gettextmetricsa': 2252, u'rtlzombifyactivationcontext': 4355, u'movefileexa': 3102, u'ntopendirectoryobject': 3336, u'switchtothiswindow': 5122, u'ndrdllunregisterproxy': 3145, u'_xcptfilter': 298, u'setupadjustdiskspacelistw': 4641, u'getextendedudptable': 1879, u'getaddrinfoexw': 1712, u'safercomputetokenfromlevel': 4379, u'getthreadpriority': 2290, u'setparent': 4558, u'cpcreatehash': 711, u'getopenfilenamea': 2067, u'getmacaddress': 1986, u'internetsetstatuscallbackw': 2654, u'enableeudc': 1239, u'sysallocstring': 5138, u'rtlsetsecurityobjectex': 4317, u'internetsetstatuscallbacka': 2653, u'heapvalidate': 2424, u'getgadgetrect': 1915, u'immsetcompositionfontw': 2547, u'getvolumenameforvolumemountpointw': 2342, u'win_exdata': 5472, u'ntreadvirtualmemory': 3392, u'qae': 3693, u'loadlibraryexw': 2872, u'getsystemdeppolicy': 2209, u'setfileattributesa': 4502, u'webapphostshowwelcomescreenandcontinuerun': 5458, u'regopencurrentuser': 3988, u'getstatus': 2192, u'zwquerysecurityobject': 5706, u'x89': 5625, u'scrolldc': 4412, u'makeabsolutesd': 3020, u'_rhpid850rheng2': 234, u'releaseactctx': 4015, u'mapireadmail': 3031, u'codisconnectobject': 612, u'ntqueryvaluekey': 3384, u'_adj_fptan': 125, u'localfree': 2896, u'createddrawsurfaceondib': 770, u'_getcwd': 180, u'rasportsetframingex': 3836, u'setupqueryspacerequiredondrivew': 4864, u'itd_getfilesize': 2763, u'setupqueryspacerequiredondrivea': 4863, u'varbstrcat': 5308, u'pspgppi': 3676, u'flashwindow': 1438, u'arrangeiconicwindows': 393, u'startdm': 5046, u'rasprotocolcallback': 3846, u'setupdeleteerrorw': 4659, u'gdiplusshutdown': 1659, u'createdialogindirectparamw': 775, u'getstandardcolorspaceprofilew': 2186, u'validaterect': 5302, u'setupdeleteerrora': 4658, u'getuserdefaultlocalename': 2319, u'getclassinfoptr': 1761, u'varformatpercent': 5333, u'wtsgetactiveconsolesessionid': 5606, u'ndrdllregisterproxy': 3144, u'getusernameexw': 2325, u'rtlupcaseunicodestringtooemstring': 4340, u'getsavefilenamew': 2155, u'enumfontsw': 1286, u'getthemeintlist': 2267, u'timeendperiod': 5177, u'rtlcreatequerydebugbuffer': 4145, u'getusernameexa': 2324, u'buildclientxml': 470, u'getsavefilenamea': 2154, u'rtlgetlastwin32error': 4216, u'gdipgetstringformattrimming': 1644, u'pbgabv10': 3618, u'0ccbase': 3, u'fopen': 1467, u'immunlockimc': 2551, u'ellipse': 1234, u'setmagnificationlensctxinformation': 4540, u'rtlunhandledexceptionfilter': 4329, u'getteamviewerinterface': 2233, u'shell_notifyicona': 4959, u'safearrayputelement': 4373, u'cryptimportkey': 942, u'zwdeletevaluekey': 5676, u'closecolorprofile': 574, u'seterrormode': 4497, u'rtlgetlengthwithoutlastfulldosorntpathelement': 4217, u'vardecfromdate': 5322, u'createcompatiblebitmap': 759, u'mapvirtualkey': 3036, u'closedesktop': 575, u'ntterminateprocess': 3432, u'gdipgetstringformatflags': 1642, u'getcurrentactctx': 1805, u'toasciiex': 5187, u'seterrorinfo': 4496, u'getprivateprofilesectionnamesa': 2088, u'logonuserw': 2912, u'setupremovesectionfromdiskspacelistw': 4888, u'strtointa': 5107, u'setupremovesectionfromdiskspacelista': 4887, u'openthemedata': 3547, u'logonusera': 2911, u'getprivateprofilesectionnamesw': 2089, u'activatekeyboardlayout': 347, u'qualifierset_next': 3719, u'npgetconnection3': 3229, u'imagelist_dragmove': 2505, u'findnextchangenotification': 1417, u'setfilepointerex': 4506, u'istextunicode': 2718, u'setwindowpos': 4923, u'setupdigetdeviceregistrypropertya': 4729, u'rasportconnectcomplete': 3819, u'initializesecuritydescriptor': 2580, u'zwterminateprocess': 5724, u'setupdigetdeviceregistrypropertyw': 4730, u'isxdl_isconnected': 2751, u'dsrolefreememory': 1222, u'borland32': 448, u'getappdata': 1718, u'getsididentifierauthority': 2177, u'httpendrequestw': 2460, u'setwindowtextw': 4930, u'rtltryentercriticalsection': 4328, u'httpendrequesta': 2459, u'ldraccessresource': 2815, u'ntopensection': 3346, u'gdipgetmatrixelements': 1636, u'setupdisetdeviceinstallparamsa': 4775, u'setupdisetdeviceinstallparamsw': 4776, u'rtlprefixstring': 4278, u'rpcbindingsetauthinfoexa': 4079, u'setupaddtodiskspacelistw': 4637, u'rpcbindingsetauthinfoexw': 4080, u'hsstopwanyixia': 2453, u'setupdideletedevregkey': 4691, u'btnsetfontcolor': 463, u'setupaddtodiskspacelista': 4636, u'interlockedexchangeadd': 2609, u'ddesetuserhandle': 1024, u'setfilesecurityw': 4508, u'getaccounttype': 1702, u'setfilesecuritya': 4507, u'urlunescapew': 5295, u'gdipsetstringformatalign': 1680, u'deleteenhmetafile': 1056, u'memset': 3059, u'luaopen_socket_core': 3010, u'_ultow': 271, u'filewrite': 1384, u'lcmapstringw': 2798, u'getmoduleinformationw': 2035, u'lcmapstringa': 2796, u'rtlfreeheap': 4203, u'copyfileexw': 678, u'releasebindinfo': 4016, u'imagelist_read': 2522, u'getsecuritydescriptordacl': 2161, u'enablethemedialogtexture': 1242, u'wsaresetevent': 5588, u'polypolygon': 3644, u'setupremovefilelogentrya': 4879, u'setupdigetclassdescriptiona': 4703, u'setupremovefilelogentryw': 4880, u'api': 384, u'setupdigetclassdescriptionw': 4706, u'netlocalgroupgetmembers': 3169, u'_commit': 150, u'rtlsetinformationacl': 4310, u'variant_usermarshal': 5336, u'createmappedbitmap': 834, u'setupdidestroyclassimagelist': 4692, u'setupclosefilequeue': 4643, u'__0f8bd2f114204c8daf1d042c897dacc4': 34, u'rtlmapgenericmask': 4260, u'getmessagetime': 2009, u'notifyipinterfacechange': 3214, u'ntopenkeyex': 3341, u'cpverifysignature': 735, u'luaopen_mime_core': 3009, u'wnsprintfw': 5540, u'wprintf': 5547, u'accconvertaccesstosecuritydescriptor': 316, u'createiconfromresourceex': 821, u'getsystemmenu': 2215, u'regunloadkeyw': 4014, u'geticoninfo': 1939, u'xre_stoplatewritechecks': 5646, u'_get_osfhandle': 179, u'npdirectorynotify': 3224, u'_fileno': 166, u'gettextalign': 2239, u'getmetafilebitsex': 2014, u'initializeprocthreadattributelist': 2578, u'lptodp': 2931, u'winstationgetallprocesses': 5517, u'_smanip': 248, u'cogetmarshalsizemax': 620, u'setgadgetrect': 4517, u'gdipcombineregionregion': 1557, u'ntadjustgroupstoken': 3259, u'setupopeninffilew': 4847, u'lsalogonuser': 2936, u'setupopeninffilea': 4846, u'leavecriticalsection': 2839, u'regdeletevaluew': 3932, u'messageboxa': 3067, u'getclientrect': 1768, u'regdeletevaluea': 3931, u'rpcimpersonateclient': 4085, u'_refcnt': 233, u'cogetclassobject': 616, u'defframeprocw': 1041, u'loadcursorfromfilea': 2857, u'defframeproca': 1040, u'loadcursorfromfilew': 2858, u'ddefreestringhandle': 1014, u'gdipbitmapunlockbits': 1550, u'enumdesktopwindows': 1276, u'zwquerysysteminformation': 5707, u'sgpau_rtl_critical_section': 4937, u'tounicodeex': 5192, u'copyfile': 676, u'stgcreatedocfileonilockbytes': 5057, u'zwopensection': 5694, u'getcorversion': 1799, u'unregisterclassa': 5260, u'setcurrentdirectoryw': 4473, u'unregisterclassw': 5261, u'enumdevicedrivers': 1277, u'setcurrentdirectorya': 4472, u'createfilemappingw': 804, u'createthread': 891, u'ntraiseexception': 3388, u'cryptsipputsigneddatamsg': 957, u'dbgprintex': 989, u'createfilemappinga': 803, u'addeventhandler': 357, u'validatergn': 5303, u'createactctxw': 742, u'ntquerydefaultuilanguage': 3360, u'createactctxa': 741, u'waveinstart': 5421, u'setkernelobjectsecurity': 4530, u'winstationconnectw': 5513, u'olecreatefontindirect': 3472, u'drawthemetextex': 1214, u'drawdibdraw': 1184, u'getperadapterinfo': 2079, u'servicerequest': 4437, u'setupdiinstallclassexw': 4750, u'setupdiinstallclassexa': 4749, u'basic_string': 426, u'ntohl': 3334, u'deleteipnetentry': 1063, u'ntohs': 3335, u'isbadcodeptr': 2674, u'filetimetodosdatetime': 1380, u'lookuphistoryassembly': 2920, u'setrectempty': 4577, u'_stati64': 253, u'getpwrcapabilities': 2134, u'directui': 1103, u'rasgetnumportopen': 3806, u'createprocessww': 869, u'heap32first': 2411, u'toascii': 5186, u'closeclipboard': 573, u'rassetconnectionuserdata': 3880, u'getlogicaldrivestringsa': 1979, u'getlogicaldrivestringsw': 1980, u'getcurrentthread': 1822, u'getenvironmentvariablea': 1872, u'getenvironmentvariablew': 1873, u'ntcreateprocess': 3284, u'_settimerw': 244, u'rtldestroyprocessparameters': 4173, u'zwsetinformationkey': 5717, u'rasrpcportenum': 3871, u'netremotetod': 3172, u'filetimetosystemtime': 1382, u'getboundsrect': 1733, u'setdlldirectorya': 4487, u'openfilemapping': 3527, u'ishostinproxybypasslist': 2703, u'setdlldirectoryw': 4488, u'strtol': 5109, u'rtladdauditaccessaceex': 4111, u'getfilesecurityw': 1890, u'setsuspendstate': 4602, u'strtod': 5106, u'dllcallinstallerservice': 1124, u'ntdeletekey': 3296, u'queryservicestatusex': 3738, u'acquirecredentialshandlew': 345, u'getfilesecuritya': 1889, u'dsgetdcclosew': 1215, u'rtlfreeansistring': 4201, u'internetsetoptionexw': 2650, u'ldap_value_free_len': 2813, u'internetsetoptionexa': 2649, u'rtlcomputeprivatizeddllname_u': 4133, u'certdllverifyrevocation': 498, u'lzclosefile': 3012, u'avifileopena': 412, u'dispgetparam': 1114, u'setupdiselectbestcompatdrv': 4770, u'rasdeviceconnect': 3766, u'lua_getstack': 2965, u'isthemebackgroundpartiallytransparentw': 2721, u'gdipdrawimagerect': 1598, u'zwqueryfullattributesfile': 5698, u'setupdiclassguidsfromnameexw': 4671, u'reportfault': 4041, u'vardecfromcy': 5321, u'dialogboxindirectparam': 1092, u'setupgetlinecounta': 4805, u'virtualfree': 5384, u'setupgetlinecountw': 4806, u'ldrfindresourcedirectory_u': 2824, u'__vbasetsystemerror': 96, u'ldap_memfreea': 2805, u'zwdeletekey': 5675, u'findproc': 1426, u'dcibeginaccess': 998, u'rtlareallaccessesgranted': 4124, u'extfloodfill': 1347, u'varnumfromparsenum': 5354, u'gdipdeletestringformat': 1592, u'rasactivaterouteex': 3749, u'pathskiprootw': 3597, u'wtsregistersessionnotification': 5610, u'midistreamstop': 3082, u'ntsetinformationthread': 3416, u'ocprd605opencandy5': 3461, u'ocprd605opencandy1': 3457, u'getbestroute': 1727, u'senddlgitemmessagea': 4424, u'iunknown_release_proxy': 2777, u'urldownloadtofilea': 5288, u'getfilesize': 1891, u'rtldeleteatomfromatomtable': 4161, u'aav10': 306, u'senddlgitemmessagew': 4425, u'qualifierset_put': 3720, u'urldownloadtofilew': 5289, u'setupdienumdeviceinterfaces': 4697, u'addvectoredexceptionhandler': 367, u'rtlpapplylengthfunction': 4275, u'ndrclientcall2': 3139, u'_adj_fprem1': 124, u'_controlfp': 151, u'getpropertyorigin': 2129, u'rename': 4036, u'lua_pushlstring': 2979, u'createstatuswindow': 885, u'wfdnh': 5469, u'_amsg_exit': 130, u'createpolygonrgn': 855, u'__5b85a45059fb4021abaf6693d6d67fe2': 44, u'getstretchbltmode': 2195, u'rtldossearchpath_ustr': 4180, u'registerbindstatuscallback': 3946, u'registerhotkey': 3965, u'debugbreak': 1029, u'playenhmetafile': 3631, u'setupdiclassnamefromguidexa': 4674, u'ddegetlasterror': 1016, u'sgpauiclassinfo': 4938, u'setupdiclassnamefromguidexw': 4675, u'luaopen_bit': 3006, u'npgetresourceinformation': 3234, u'iaexxz': 2482, u'enumthreadwindows': 1309, u'readconsolew': 3902, u'setfileinformationbyhandlew': 4504, u'getarcdirection': 1720, u'workerlz4_maxcompressedsize': 5543, u'settextcharacterextra': 4610, u'xre_freeappdata': 5642, u'initializeconditionvariable': 2571, u'rectinregion': 3911, u'ntdeviceiocontrolfile': 3299, u'rtlareanyaccessesgranted': 4125, u'onpropertychanged': 3510, u'gdipdrawimagerectrect': 1600, u'getdiskfreespaceexa': 1846, u'getdiskfreespaceexw': 1847, u'rtlextendedlargeintegerdivide': 4190, u'modifyworldtransform': 3091, u'flashwindowex': 1439, u'rtlrundecodeunicodestring': 4299, u'getipaddrtable': 1945, u'handlescrollcmd': 2407, u'gdipcreatefromhdc': 1569, u'ntfindatom': 3305, u'gethostconfigurationfile_retaddr': 1935, u'nsc_moduledbfunc': 3244, u'ntqueryinstalluilanguage': 3372, u'coresumeclassobjects': 695, u'certfreecertificatecontext': 504, u'csrnewthread': 974, u'shopenfolderandselectitems': 4991, u'rtlenumerategenerictablewithoutsplaying': 4184, u'loadimage': 2864, u'process32firstw': 3665, u'interneterrordlg': 2628, u'globalflags': 2380, u'isprint': 2712, u'__af726629f5544926918c397916b86aaa': 48, u'__vbaobjsetaddref': 92, u'getprivateprofilestructa': 2093, u'ndrstubforwardingfunction': 3153, u'createpolypolygonrgn': 856, u'getprivateprofilestructw': 2094, u'_isctype': 195, u'__p__commode': 61, u'defsubclassproc': 1044, u'varbstrcmp': 5309, u'getcurrentprocessw': 1818, u'pau_rtl_critical_section': 3606, u'setvolumelabelw': 4911, u'xac': 5630, u'uaepbupropertyinfo': 5227, u'rasbundlegetstatisticsex': 3758, u'deactivateactctx': 1027, u'ndroleinitializeextension': 3150, u'__170d5c9c849c402a91e202ab836f4d40': 37, u'createinstanceenumwmi': 826, u'_tixhandlerw': 266, u'getprofilesectionw': 2121, u'createfilemapping': 802, u'getprofilesectiona': 2120, u'dptolp': 1173, u'strstra': 5102, u'hsgetopenurl': 2441, u'httpaddrequestheadersa': 2457, u'netfileclose': 3159, u'strstrw': 5105, u'dllmain': 1137, u'httpaddrequestheadersw': 2458, u'minidownloaddatareportinit': 3083, u'npos': 3239}\n"
     ]
    }
   ],
   "source": [
    "stateDict = {}\n",
    "featureVectors = vectorizer.get_feature_names()\n",
    "for i in xrange(len(featureVectors)):\n",
    "    stateDict[featureVectors[i]] = i+1\n",
    "print len(stateDict), len(featureVectors), stateDict"
   ]
  },
  {
   "cell_type": "code",
   "execution_count": 18,
   "metadata": {
    "collapsed": false
   },
   "outputs": [],
   "source": [
    "def createStateTransitionVector(categoricalState, stateDict, maxLength):\n",
    "    if categoricalState:\n",
    "        feature = []\n",
    "        for state in categoricalState.split(' '):\n",
    "            try:\n",
    "                feature.append(stateDict[state.lower()])\n",
    "            except KeyError:\n",
    "                pass\n",
    "#                 print state\n",
    "        if len(feature) != maxLength:\n",
    "            for i in xrange(maxLength-len(feature)):\n",
    "                feature.append(0)\n",
    "        assert(len(feature)==maxLength)\n",
    "        return feature\n",
    "    else:\n",
    "        return [0] * maxLength"
   ]
  },
  {
   "cell_type": "code",
   "execution_count": 19,
   "metadata": {
    "collapsed": true
   },
   "outputs": [],
   "source": [
    "def createStateVectors(XStates, stateDict, maxLength):\n",
    "    XFeatures = []\n",
    "    for state in XStates:\n",
    "        XFeatures.append(createStateTransitionVector(state, stateDict, maxLength))\n",
    "    return XFeatures"
   ]
  },
  {
   "cell_type": "code",
   "execution_count": 44,
   "metadata": {
    "collapsed": false
   },
   "outputs": [
    {
     "name": "stdout",
     "output_type": "stream",
     "text": [
      "[[1453, 1454, 1455, 1456, 2574, 880, 4626, 892, 4621, 5408, 587, 893, 4622, 588, 1460, 1495, 1817, 1981, 889, 4479, 1307, 644, 1828, 1975, 2294, 2319, 2729, 2797, 1812, 2324, 4977, 1846, 5582, 5583, 5584, 5585, 1710, 1482, 2042, 3771, 3810, 3778, 3797, 3889, 3772, 3764, 3799, 3786, 3776, 3798, 3787, 3881, 3781, 3877, 5202, 5196, 5197, 5200, 5201, 5198, 3817, 3755, 3756, 3767, 3768, 3780, 3782, 3802, 3804, 3811, 3812, 3816, 3821, 3825, 3824, 3826, 3757, 3827, 3758, 3831, 3832, 3834, 3823, 3788, 3789, 3882, 3818, 3828, 3819, 3820, 3856, 3822, 3835, 3836, 3878, 3793, 3884, 3763, 3765, 3759, 3750, 3774, 3783, 3879, 3784, 3880, 3807, 3891, 3751, 3895, 3845, 3838, 3839, 3841, 3842, 3844, 3829, 3833, 3753, 3748, 3749, 3769, 3766, 3837, 3890, 3875, 3892, 3858, 3861, 3806, 3853, 3843, 3840, 3779, 3830, 3814, 3760, 3801, 3857, 3854, 3800, 3790, 3773, 3813, 3795, 3888, 3886, 3898, 3803, 3896, 2590, 5039, 2709, 4134, 4978, 1342, 1217, 1221, 1223, 1222, 3154, 3196, 3197, 3567, 3594, 628, 629, 632, 2703, 0, 0, 0, 0, 0, 0, 0, 0, 0, 0, 0, 0, 0, 0, 0, 0, 0, 0, 0, 0, 0, 0, 0, 0, 0, 0, 0, 0, 0, 0, 0, 0, 0, 0, 0, 0, 0, 0, 0, 0, 0, 0, 0, 0, 0, 0, 0, 0, 0, 0, 0, 0, 0, 0, 0, 0, 0, 0, 0, 0, 0, 0, 0, 0, 0, 0, 0, 0, 0, 0, 0, 0, 0, 0, 0, 0, 0, 0, 0, 0, 0, 0, 0, 0, 0, 0, 0, 0, 0, 0, 0, 0, 0, 0, 0, 0, 0, 0, 0, 0, 0, 0, 0, 0, 0, 0, 0, 0, 0, 0, 0, 0, 0, 0, 0, 0, 0, 0, 0, 0, 0, 0, 0, 0, 0, 0, 0, 0, 0, 0, 0, 0, 0, 0, 0, 0, 0, 0, 0, 0, 0, 0, 0, 0, 0, 0, 0, 0, 0, 0, 0, 0, 0, 0, 0, 0, 0, 0, 0, 0, 0, 0, 0, 0, 0, 0, 0, 0, 0, 0, 0, 0, 0, 0, 0, 0, 0, 0, 0, 0, 0, 0, 0, 0, 0, 0, 0, 0, 0, 0, 0, 0, 0, 0, 0, 0, 0, 0, 0, 0, 0, 0, 0, 0, 0, 0, 0, 0, 0, 0, 0, 0, 0, 0, 0, 0, 0, 0, 0, 0, 0, 0, 0, 0, 0, 0, 0, 0, 0, 0, 0, 0, 0, 0, 0, 0, 0, 0, 0, 0, 0, 0, 0, 0, 0, 0, 0, 0, 0, 0, 0, 0, 0, 0, 0, 0, 0, 0, 0, 0, 0, 0, 0, 0, 0, 0, 0, 0, 0, 0, 0, 0, 0, 0, 0, 0, 0, 0, 0, 0, 0, 0, 0, 0, 0, 0, 0, 0, 0, 0, 0, 0, 0, 0, 0, 0, 0, 0, 0, 0, 0, 0, 0, 0, 0, 0, 0, 0, 0, 0, 0, 0, 0, 0, 0, 0, 0, 0, 0, 0, 0, 0, 0, 0, 0, 0, 0, 0, 0, 0, 0, 0, 0, 0, 0, 0, 0, 0, 0, 0, 0, 0, 0, 0, 0, 0, 0, 0, 0, 0, 0, 0, 0, 0, 0, 0, 0, 0, 0, 0, 0, 0, 0, 0, 0, 0, 0, 0, 0, 0, 0, 0, 0, 0, 0, 0, 0, 0, 0, 0, 0, 0, 0, 0, 0, 0, 0, 0, 0, 0, 0, 0, 0, 0, 0, 0, 0, 0, 0, 0, 0, 0, 0, 0, 0, 0, 0, 0, 0, 0, 0, 0, 0, 0, 0, 0, 0, 0, 0, 0, 0, 0, 0, 0, 0, 0, 0, 0, 0, 0, 0, 0, 0, 0, 0, 0, 0, 0, 0, 0, 0, 0, 0, 0, 0, 0, 0, 0, 0, 0, 0, 0, 0, 0, 0, 0, 0, 0, 0, 0, 0, 0, 0, 0, 0, 0, 0, 0, 0, 0, 0, 0, 0, 0, 0, 0, 0, 0, 0, 0, 0, 0, 0, 0, 0, 0, 0, 0, 0, 0, 0, 0, 0, 0, 0, 0, 0, 0, 0, 0, 0, 0, 0, 0, 0, 0, 0, 0, 0, 0, 0, 0, 0, 0, 0, 0, 0, 0, 0, 0, 0, 0, 0, 0, 0, 0, 0, 0, 0, 0, 0, 0, 0, 0, 0, 0, 0, 0, 0, 0, 0, 0, 0, 0, 0, 0, 0, 0, 0, 0, 0, 0, 0, 0, 0, 0, 0, 0, 0, 0, 0, 0, 0, 0, 0, 0, 0, 0, 0, 0, 0, 0, 0, 0, 0, 0, 0, 0, 0, 0, 0, 0, 0, 0, 0, 0, 0, 0, 0, 0, 0, 0, 0, 0, 0, 0, 0, 0, 0, 0, 0, 0, 0, 0, 0, 0, 0, 0, 0, 0, 0, 0, 0, 0, 0, 0, 0, 0, 0, 0, 0, 0, 0, 0, 0, 0, 0, 0, 0, 0, 0, 0, 0, 0, 0, 0, 0, 0, 0, 0, 0, 0, 0, 0, 0, 0, 0, 0, 0, 0, 0, 0, 0, 0, 0, 0, 0, 0, 0, 0, 0, 0, 0, 0, 0, 0, 0, 0, 0, 0, 0, 0, 0, 0, 0, 0, 0, 0, 0, 0, 0, 0, 0, 0, 0, 0, 0, 0, 0, 0, 0, 0, 0, 0, 0, 0, 0, 0, 0, 0, 0, 0, 0, 0, 0, 0, 0, 0, 0, 0, 0, 0, 0, 0, 0, 0, 0, 0, 0, 0, 0, 0, 0, 0, 0, 0, 0, 0, 0, 0, 0, 0, 0, 0, 0, 0, 0, 0, 0, 0, 0, 0, 0, 0, 0, 0, 0, 0, 0, 0, 0, 0, 0, 0, 0, 0, 0, 0, 0, 0, 0, 0, 0, 0, 0, 0, 0, 0, 0, 0, 0, 0, 0, 0, 0, 0, 0, 0, 0, 0, 0, 0, 0, 0, 0, 0, 0, 0, 0, 0, 0, 0, 0, 0, 0, 0, 0, 0, 0, 0, 0, 0, 0, 0, 0, 0, 0, 0, 0, 0, 0, 0, 0, 0, 0, 0, 0, 0, 0, 0, 0, 0, 0, 0, 0, 0, 0, 0, 0, 0, 0, 0, 0, 0, 0, 0, 0, 0, 0, 0, 0, 0, 0, 0, 0, 0, 0, 0, 0, 0, 0, 0, 0, 0, 0, 0, 0, 0, 0, 0, 0, 0, 0, 0, 0, 0, 0, 0, 0, 0, 0, 0, 0, 0, 0, 0, 0, 0, 0, 0, 0, 0, 0, 0, 0, 0, 0, 0, 0, 0, 0, 0, 0, 0, 0, 0, 0, 0, 0, 0, 0, 0, 0, 0, 0, 0, 0, 0, 0, 0, 0, 0, 0, 0, 0, 0, 0, 0, 0, 0, 0, 0, 0, 0, 0, 0, 0, 0, 0, 0, 0, 0, 0, 0, 0, 0, 0, 0, 0, 0, 0, 0, 0, 0, 0, 0, 0, 0, 0, 0, 0, 0, 0, 0, 0, 0, 0, 0, 0, 0, 0, 0, 0, 0, 0, 0, 0, 0, 0, 0, 0, 0, 0, 0, 0, 0, 0, 0, 0, 0, 0, 0, 0, 0, 0, 0, 0, 0, 0, 0, 0, 0, 0, 0, 0, 0, 0, 0, 0, 0, 0, 0, 0, 0, 0, 0, 0, 0, 0, 0, 0, 0, 0, 0, 0, 0, 0, 0, 0, 0, 0, 0, 0, 0, 0, 0, 0, 0, 0, 0, 0, 0, 0, 0, 0, 0, 0, 0, 0, 0, 0, 0, 0, 0, 0, 0, 0, 0, 0, 0, 0, 0, 0, 0, 0, 0, 0, 0, 0, 0, 0, 0, 0, 0, 0, 0, 0, 0, 0, 0, 0, 0, 0, 0, 0, 0, 0, 0, 0, 0, 0, 0, 0, 0, 0, 0, 0, 0, 0, 0, 0, 0, 0, 0, 0, 0, 0, 0, 0, 0, 0, 0, 0, 0, 0, 0, 0, 0, 0, 0, 0, 0, 0, 0, 0, 0, 0, 0, 0, 0, 0, 0, 0, 0, 0, 0, 0, 0, 0, 0, 0, 0, 0, 0, 0, 0, 0, 0, 0, 0, 0, 0, 0, 0, 0, 0, 0, 0, 0, 0, 0, 0, 0, 0, 0, 0, 0, 0, 0, 0, 0, 0, 0, 0, 0, 0, 0, 0, 0, 0, 0, 0, 0, 0, 0, 0, 0, 0, 0, 0, 0, 0, 0, 0, 0, 0, 0, 0, 0, 0, 0, 0, 0, 0, 0, 0, 0, 0, 0, 0, 0, 0, 0, 0, 0, 0, 0, 0, 0, 0, 0, 0, 0, 0, 0, 0, 0, 0, 0, 0, 0, 0, 0, 0, 0, 0, 0, 0, 0, 0, 0, 0, 0, 0, 0, 0, 0, 0, 0, 0, 0, 0, 0, 0, 0, 0, 0, 0, 0, 0, 0, 0, 0, 0, 0, 0, 0, 0, 0, 0, 0, 0, 0, 0, 0, 0, 0, 0, 0, 0, 0, 0, 0, 0, 0, 0, 0, 0, 0, 0, 0, 0, 0, 0, 0, 0, 0, 0, 0, 0, 0, 0, 0, 0, 0, 0, 0, 0, 0, 0, 0, 0, 0, 0, 0, 0, 0, 0, 0, 0, 0, 0, 0, 0, 0, 0, 0, 0, 0, 0, 0, 0, 0, 0, 0, 0, 0, 0, 0, 0, 0, 0, 0, 0, 0, 0, 0, 0, 0, 0, 0, 0, 0, 0, 0, 0, 0, 0, 0, 0, 0, 0, 0, 0, 0, 0, 0, 0, 0, 0, 0, 0, 0, 0, 0, 0, 0, 0, 0, 0, 0, 0, 0, 0, 0, 0, 0, 0, 0, 0, 0, 0, 0, 0, 0, 0, 0, 0, 0, 0, 0, 0, 0, 0, 0, 0, 0, 0, 0, 0, 0, 0, 0, 0, 0, 0, 0, 0, 0, 0, 0, 0, 0, 0, 0, 0, 0, 0, 0, 0, 0, 0, 0, 0, 0, 0, 0, 0, 0, 0, 0, 0, 0, 0, 0, 0, 0, 0, 0, 0, 0, 0, 0, 0, 0, 0, 0, 0, 0, 0, 0, 0, 0, 0, 0, 0, 0, 0, 0, 0, 0, 0, 0, 0, 0, 0, 0, 0, 0, 0, 0, 0, 0, 0, 0, 0, 0, 0, 0, 0, 0, 0, 0, 0, 0, 0, 0, 0, 0, 0, 0, 0, 0, 0, 0, 0, 0, 0, 0, 0, 0, 0, 0, 0, 0, 0, 0, 0, 0, 0, 0, 0, 0, 0, 0, 0, 0, 0, 0, 0, 0, 0, 0, 0, 0, 0, 0, 0, 0, 0, 0, 0, 0, 0, 0, 0, 0, 0, 0, 0, 0, 0, 0, 0, 0, 0, 0, 0, 0, 0, 0, 0, 0, 0, 0, 0, 0, 0, 0, 0, 0, 0, 0, 0, 0, 0, 0, 0, 0, 0, 0, 0, 0, 0, 0, 0, 0, 0, 0, 0, 0, 0, 0, 0, 0, 0, 0, 0, 0, 0, 0, 0, 0, 0, 0, 0, 0, 0, 0, 0, 0, 0, 0, 0, 0, 0, 0, 0, 0, 0, 0, 0, 0, 0, 0, 0, 0, 0, 0, 0, 0, 0, 0, 0, 0, 0, 0, 0, 0, 0, 0, 0, 0, 0, 0, 0, 0, 0, 0, 0, 0, 0, 0, 0, 0, 0, 0, 0, 0, 0, 0, 0, 0, 0, 0, 0, 0, 0, 0, 0, 0, 0, 0, 0, 0, 0, 0, 0, 0, 0, 0, 0, 0, 0, 0, 0, 0, 0, 0, 0, 0, 0, 0, 0, 0, 0, 0, 0, 0, 0, 0, 0, 0, 0, 0, 0, 0, 0, 0, 0, 0, 0, 0, 0, 0, 0, 0, 0, 0, 0, 0, 0, 0, 0, 0, 0, 0, 0, 0, 0, 0, 0, 0, 0, 0, 0, 0, 0, 0, 0, 0, 0, 0, 0, 0, 0, 0, 0, 0, 0, 0, 0, 0, 0, 0, 0, 0, 0, 0, 0, 0, 0, 0, 0, 0, 0, 0, 0, 0, 0, 0, 0, 0, 0, 0, 0, 0, 0, 0, 0, 0, 0, 0, 0, 0, 0, 0, 0, 0, 0, 0, 0, 0, 0, 0, 0, 0, 0, 0, 0, 0, 0, 0, 0, 0, 0, 0, 0, 0, 0, 0, 0, 0, 0, 0, 0, 0, 0, 0, 0, 0, 0, 0, 0, 0, 0, 0, 0, 0, 0, 0, 0, 0, 0, 0, 0, 0, 0, 0, 0, 0, 0, 0, 0, 0, 0, 0, 0, 0, 0, 0, 0, 0, 0, 0, 0, 0, 0, 0, 0, 0, 0, 0, 0, 0, 0, 0, 0, 0, 0, 0, 0, 0, 0, 0, 0, 0, 0, 0, 0, 0, 0, 0, 0, 0, 0, 0, 0, 0, 0, 0, 0, 0, 0, 0, 0, 0, 0, 0, 0, 0, 0, 0, 0, 0, 0, 0, 0, 0, 0, 0, 0, 0, 0, 0, 0, 0, 0, 0, 0, 0, 0, 0, 0, 0, 0, 0, 0, 0, 0, 0, 0, 0, 0, 0, 0, 0, 0, 0, 0, 0, 0, 0, 0, 0, 0, 0, 0, 0, 0, 0, 0, 0, 0, 0, 0, 0, 0, 0, 0, 0, 0, 0, 0, 0, 0, 0, 0, 0, 0, 0, 0, 0, 0, 0, 0, 0, 0, 0, 0, 0, 0, 0, 0, 0, 0, 0, 0, 0, 0, 0, 0, 0, 0, 0, 0, 0, 0, 0, 0, 0, 0, 0, 0, 0, 0, 0, 0, 0, 0, 0, 0, 0, 0, 0, 0, 0, 0, 0, 0, 0, 0, 0, 0, 0, 0, 0, 0, 0, 0, 0, 0, 0, 0, 0, 0, 0, 0, 0, 0, 0, 0, 0, 0, 0, 0, 0, 0, 0, 0, 0, 0, 0, 0, 0, 0, 0, 0, 0, 0, 0, 0, 0, 0, 0, 0, 0, 0, 0, 0, 0, 0, 0, 0, 0, 0, 0, 0, 0, 0, 0, 0, 0, 0, 0, 0, 0, 0, 0, 0, 0, 0, 0, 0, 0, 0, 0, 0, 0, 0, 0, 0, 0, 0, 0, 0, 0, 0, 0, 0, 0, 0, 0, 0, 0, 0, 0, 0, 0, 0, 0, 0, 0, 0, 0, 0, 0, 0, 0, 0, 0, 0, 0, 0, 0, 0, 0, 0, 0, 0, 0, 0, 0, 0, 0, 0, 0, 0, 0, 0, 0, 0, 0, 0, 0, 0, 0, 0, 0, 0, 0, 0, 0, 0, 0, 0, 0, 0, 0, 0, 0, 0, 0, 0, 0, 0, 0, 0, 0, 0, 0, 0, 0, 0, 0, 0, 0, 0, 0, 0, 0, 0, 0, 0, 0, 0, 0, 0, 0, 0, 0, 0, 0, 0, 0, 0, 0, 0, 0, 0, 0, 0, 0, 0, 0, 0, 0, 0, 0, 0, 0, 0, 0, 0, 0, 0, 0, 0, 0, 0, 0, 0, 0, 0, 0, 0, 0, 0, 0, 0, 0, 0, 0, 0, 0, 0, 0, 0, 0, 0, 0, 0, 0, 0, 0, 0, 0, 0, 0, 0, 0, 0, 0, 0, 0, 0, 0, 0, 0, 0, 0, 0, 0, 0, 0, 0, 0, 0, 0, 0, 0, 0, 0, 0, 0, 0, 0, 0, 0, 0, 0, 0, 0, 0, 0, 0, 0, 0, 0, 0, 0, 0, 0, 0, 0, 0, 0, 0, 0, 0, 0, 0, 0, 0, 0, 0, 0, 0, 0, 0, 0, 0, 0, 0, 0, 0, 0, 0, 0, 0, 0, 0, 0, 0, 0, 0, 0, 0, 0, 0, 0, 0, 0, 0, 0, 0, 0, 0, 0, 0, 0, 0, 0, 0, 0, 0, 0, 0, 0, 0, 0, 0, 0, 0, 0, 0, 0, 0, 0, 0, 0, 0, 0, 0, 0, 0, 0, 0, 0, 0, 0, 0, 0, 0, 0, 0, 0, 0, 0, 0, 0, 0, 0, 0, 0, 0, 0, 0, 0, 0, 0, 0, 0, 0, 0, 0, 0, 0, 0, 0, 0, 0, 0, 0, 0, 0, 0, 0, 0, 0, 0, 0, 0, 0, 0, 0, 0, 0, 0, 0, 0, 0, 0, 0, 0, 0, 0, 0, 0, 0, 0, 0, 0, 0, 0, 0, 0, 0, 0, 0, 0, 0, 0, 0, 0, 0, 0, 0, 0, 0, 0, 0, 0, 0, 0, 0, 0, 0, 0, 0, 0, 0, 0, 0, 0, 0, 0, 0, 0, 0, 0, 0, 0, 0, 0, 0, 0, 0, 0, 0, 0, 0, 0, 0, 0, 0, 0, 0, 0, 0, 0, 0, 0, 0, 0, 0, 0, 0, 0, 0, 0, 0, 0, 0, 0, 0, 0, 0, 0, 0, 0, 0, 0, 0, 0, 0, 0, 0, 0, 0, 0, 0, 0, 0, 0, 0, 0, 0, 0, 0, 0, 0, 0, 0, 0, 0, 0, 0, 0, 0, 0, 0, 0, 0, 0, 0, 0, 0, 0, 0, 0, 0, 0, 0, 0, 0, 0, 0, 0, 0, 0, 0, 0, 0, 0, 0, 0, 0, 0, 0, 0, 0, 0, 0, 0, 0, 0, 0, 0, 0, 0, 0, 0, 0, 0, 0, 0, 0, 0, 0, 0, 0, 0, 0, 0, 0, 0, 0, 0, 0, 0, 0, 0, 0, 0, 0, 0, 0, 0, 0, 0, 0, 0, 0, 0, 0, 0, 0, 0, 0, 0, 0, 0, 0, 0, 0, 0, 0, 0, 0, 0, 0, 0, 0, 0, 0, 0, 0, 0, 0, 0, 0, 0, 0, 0, 0, 0, 0, 0, 0, 0, 0, 0, 0, 0, 0, 0, 0, 0, 0, 0, 0, 0, 0, 0, 0, 0, 0, 0, 0, 0, 0, 0, 0, 0, 0, 0, 0, 0, 0, 0, 0, 0, 0, 0, 0, 0, 0, 0, 0, 0, 0, 0, 0, 0, 0, 0, 0, 0, 0, 0, 0, 0, 0, 0, 0, 0, 0, 0, 0, 0, 0, 0, 0, 0, 0, 0, 0, 0, 0, 0, 0, 0, 0, 0, 0, 0, 0, 0, 0, 0, 0, 0, 0, 0, 0, 0, 0, 0, 0, 0, 0, 0, 0, 0, 0, 0, 0, 0, 0, 0, 0, 0, 0, 0, 0, 0, 0, 0, 0, 0, 0, 0, 0, 0, 0, 0, 0, 0, 0, 0, 0, 0, 0, 0, 0, 0, 0, 0, 0, 0, 0, 0, 0, 0, 0, 0, 0, 0, 0, 0, 0, 0, 0, 0, 0, 0, 0, 0, 0, 0, 0, 0, 0, 0, 0, 0, 0, 0, 0, 0, 0, 0, 0, 0, 0, 0, 0, 0, 0, 0, 0, 0, 0, 0, 0, 0, 0, 0, 0, 0, 0, 0, 0, 0, 0, 0, 0, 0, 0, 0, 0, 0, 0, 0, 0, 0, 0, 0, 0, 0, 0, 0, 0, 0, 0, 0, 0, 0, 0, 0, 0, 0, 0, 0, 0, 0, 0, 0, 0, 0, 0, 0, 0, 0, 0, 0, 0, 0, 0, 0, 0, 0, 0, 0, 0, 0, 0, 0, 0, 0, 0, 0, 0, 0, 0, 0, 0, 0, 0, 0, 0, 0, 0, 0, 0, 0, 0, 0, 0, 0, 0, 0, 0, 0, 0, 0, 0, 0, 0, 0, 0, 0, 0, 0, 0, 0, 0, 0, 0, 0, 0, 0, 0, 0, 0, 0, 0, 0, 0, 0, 0, 0, 0, 0, 0, 0, 0, 0, 0, 0, 0, 0, 0, 0, 0, 0, 0, 0, 0, 0, 0, 0, 0, 0, 0, 0, 0, 0, 0, 0, 0, 0, 0, 0, 0, 0, 0, 0, 0, 0, 0, 0, 0, 0, 0, 0, 0, 0, 0, 0, 0, 0, 0, 0, 0, 0, 0, 0, 0, 0, 0, 0, 0, 0, 0, 0, 0, 0, 0, 0, 0, 0, 0, 0, 0, 0, 0, 0, 0, 0, 0, 0, 0, 0, 0, 0, 0, 0, 0, 0, 0, 0, 0, 0, 0, 0, 0, 0, 0, 0, 0, 0, 0, 0, 0, 0, 0, 0, 0, 0, 0, 0, 0, 0, 0, 0, 0, 0, 0, 0, 0, 0, 0, 0, 0, 0, 0, 0, 0, 0, 0, 0, 0, 0, 0, 0, 0, 0, 0, 0, 0, 0, 0, 0, 0, 0, 0, 0, 0, 0, 0, 0, 0, 0, 0, 0, 0, 0, 0, 0, 0, 0, 0, 0, 0, 0, 0, 0, 0, 0, 0, 0, 0, 0, 0, 0, 0, 0, 0, 0, 0, 0, 0, 0, 0, 0, 0, 0, 0, 0, 0, 0, 0, 0, 0, 0, 0, 0, 0, 0, 0, 0, 0, 0, 0, 0, 0, 0, 0, 0, 0, 0, 0, 0, 0, 0, 0, 0, 0, 0, 0, 0, 0, 0, 0, 0, 0, 0, 0, 0, 0, 0, 0, 0, 0, 0, 0, 0, 0, 0, 0, 0, 0, 0, 0, 0, 0, 0, 0, 0, 0, 0, 0, 0, 0, 0, 0, 0, 0, 0, 0, 0, 0, 0, 0, 0, 0, 0, 0, 0, 0, 0, 0, 0, 0, 0, 0, 0, 0, 0, 0, 0, 0, 0, 0, 0, 0, 0, 0, 0, 0, 0, 0, 0, 0, 0, 0, 0, 0, 0, 0, 0, 0, 0, 0, 0, 0, 0, 0, 0, 0, 0, 0, 0, 0, 0, 0, 0, 0, 0, 0, 0, 0, 0, 0, 0, 0, 0, 0, 0, 0, 0, 0, 0, 0, 0, 0, 0, 0, 0, 0, 0, 0, 0, 0, 0, 0, 0, 0, 0, 0, 0, 0, 0, 0, 0, 0, 0, 0, 0, 0, 0, 0, 0, 0, 0, 0, 0, 0, 0, 0, 0, 0, 0, 0, 0, 0, 0, 0, 0, 0, 0, 0, 0, 0, 0, 0, 0, 0, 0, 0, 0, 0, 0, 0, 0, 0, 0, 0, 0, 0, 0, 0, 0, 0, 0, 0, 0, 0, 0, 0, 0, 0, 0, 0, 0, 0, 0, 0, 0, 0, 0, 0, 0, 0, 0, 0, 0, 0, 0, 0, 0, 0, 0, 0, 0, 0, 0, 0, 0, 0, 0, 0, 0, 0, 0, 0, 0, 0, 0, 0, 0, 0, 0, 0, 0, 0, 0, 0, 0, 0, 0, 0, 0, 0, 0, 0, 0, 0, 0, 0, 0, 0, 0, 0, 0, 0, 0, 0, 0, 0, 0, 0, 0, 0, 0, 0, 0, 0, 0, 0, 0, 0, 0, 0, 0, 0, 0, 0, 0, 0, 0, 0, 0, 0, 0, 0, 0, 0, 0, 0, 0, 0, 0, 0, 0, 0, 0, 0, 0, 0, 0, 0, 0, 0, 0, 0, 0, 0, 0, 0, 0, 0, 0, 0, 0, 0, 0, 0, 0, 0, 0, 0, 0, 0, 0, 0, 0, 0, 0, 0, 0, 0, 0, 0, 0, 0, 0, 0, 0, 0, 0, 0, 0, 0, 0, 0, 0, 0, 0, 0, 0, 0, 0, 0, 0, 0, 0, 0, 0, 0, 0, 0, 0, 0, 0, 0, 0, 0, 0, 0, 0, 0, 0, 0, 0, 0, 0, 0, 0, 0, 0, 0, 0, 0, 0, 0, 0, 0, 0, 0, 0, 0, 0, 0, 0, 0, 0, 0, 0, 0, 0, 0, 0, 0, 0, 0, 0, 0, 0, 0, 0, 0, 0, 0, 0, 0, 0, 0, 0, 0, 0, 0, 0, 0, 0, 0, 0, 0, 0, 0, 0, 0, 0, 0, 0, 0, 0, 0, 0, 0, 0, 0, 0, 0, 0, 0, 0, 0, 0, 0, 0, 0, 0, 0, 0, 0, 0, 0, 0, 0, 0, 0, 0, 0, 0, 0, 0, 0, 0, 0, 0, 0, 0, 0, 0, 0, 0, 0, 0, 0, 0, 0, 0, 0, 0, 0, 0, 0, 0, 0, 0, 0, 0, 0, 0, 0, 0, 0, 0, 0, 0, 0, 0, 0, 0, 0, 0, 0, 0, 0, 0, 0, 0, 0, 0, 0, 0, 0, 0, 0, 0, 0, 0, 0, 0, 0, 0, 0, 0, 0, 0, 0, 0, 0, 0, 0, 0, 0, 0, 0, 0, 0, 0, 0, 0, 0, 0, 0, 0, 0, 0, 0, 0, 0, 0, 0, 0, 0, 0, 0, 0, 0, 0, 0, 0, 0, 0, 0, 0, 0, 0, 0, 0, 0, 0, 0, 0, 0, 0, 0, 0, 0, 0, 0, 0, 0, 0, 0, 0, 0, 0, 0, 0, 0, 0, 0, 0, 0, 0, 0, 0, 0, 0, 0, 0, 0, 0, 0, 0, 0, 0, 0, 0, 0, 0, 0, 0, 0, 0, 0, 0, 0, 0, 0, 0, 0, 0, 0, 0, 0, 0, 0, 0, 0, 0, 0, 0, 0, 0, 0, 0, 0, 0, 0, 0, 0, 0, 0, 0, 0, 0, 0, 0, 0, 0, 0, 0, 0, 0, 0, 0, 0, 0, 0, 0, 0, 0, 0, 0, 0, 0, 0, 0, 0, 0, 0, 0, 0, 0, 0, 0, 0, 0, 0, 0, 0, 0, 0, 0, 0, 0, 0, 0, 0, 0, 0, 0, 0, 0, 0, 0, 0, 0, 0, 0, 0, 0, 0, 0, 0, 0, 0, 0, 0, 0, 0, 0, 0, 0, 0, 0, 0, 0, 0, 0, 0, 0, 0, 0, 0, 0, 0, 0, 0, 0, 0, 0, 0, 0, 0, 0, 0, 0, 0, 0, 0, 0, 0, 0, 0, 0, 0, 0, 0, 0, 0, 0, 0, 0, 0, 0, 0, 0, 0, 0, 0, 0, 0, 0, 0, 0, 0, 0, 0, 0, 0, 0, 0, 0, 0, 0, 0, 0, 0, 0, 0, 0, 0, 0, 0, 0, 0, 0, 0, 0, 0, 0, 0, 0, 0, 0, 0, 0, 0, 0, 0, 0, 0, 0, 0, 0, 0, 0, 0, 0, 0, 0, 0, 0, 0, 0, 0, 0, 0, 0, 0, 0, 0, 0, 0, 0, 0, 0, 0, 0, 0, 0, 0, 0, 0, 0, 0, 0, 0, 0, 0, 0, 0, 0, 0, 0, 0, 0, 0, 0, 0, 0, 0, 0, 0, 0, 0, 0, 0, 0, 0, 0, 0, 0, 0, 0, 0, 0, 0, 0, 0, 0, 0, 0, 0, 0, 0, 0, 0, 0, 0, 0, 0, 0, 0, 0, 0, 0, 0, 0, 0, 0, 0, 0, 0, 0, 0, 0, 0, 0, 0, 0, 0, 0, 0, 0, 0, 0, 0, 0, 0, 0, 0, 0, 0, 0, 0, 0, 0, 0, 0, 0, 0, 0, 0, 0, 0, 0, 0, 0, 0, 0, 0, 0, 0, 0, 0, 0, 0, 0, 0, 0, 0, 0, 0, 0, 0, 0, 0, 0, 0, 0, 0, 0, 0, 0, 0, 0, 0, 0, 0, 0, 0, 0, 0, 0, 0, 0, 0, 0, 0, 0, 0, 0, 0, 0, 0, 0, 0, 0, 0, 0, 0, 0, 0, 0, 0, 0, 0, 0, 0, 0, 0, 0, 0, 0, 0, 0, 0, 0, 0, 0, 0, 0, 0, 0, 0, 0, 0, 0, 0, 0, 0, 0, 0, 0, 0, 0, 0, 0, 0, 0, 0, 0, 0, 0, 0, 0, 0, 0, 0, 0, 0, 0, 0, 0, 0, 0, 0, 0, 0, 0, 0, 0, 0, 0, 0, 0, 0, 0, 0, 0, 0, 0, 0, 0, 0, 0, 0, 0, 0, 0, 0, 0, 0, 0, 0, 0, 0, 0, 0, 0, 0, 0, 0, 0, 0, 0, 0, 0, 0, 0, 0, 0, 0, 0, 0, 0, 0, 0, 0, 0, 0, 0, 0, 0, 0, 0, 0, 0, 0, 0, 0, 0, 0, 0, 0, 0, 0, 0, 0, 0, 0, 0, 0, 0, 0, 0, 0, 0, 0, 0, 0, 0, 0, 0, 0, 0, 0, 0, 0, 0, 0, 0, 0, 0, 0, 0, 0, 0, 0, 0, 0, 0, 0, 0, 0, 0, 0, 0, 0, 0, 0, 0, 0, 0, 0, 0, 0, 0, 0, 0, 0, 0, 0, 0, 0, 0, 0, 0, 0, 0, 0, 0, 0, 0, 0, 0, 0, 0, 0, 0, 0, 0, 0, 0, 0, 0, 0, 0, 0, 0, 0, 0, 0, 0, 0, 0, 0, 0, 0, 0, 0, 0, 0, 0, 0, 0, 0, 0, 0, 0, 0, 0, 0, 0, 0, 0, 0, 0, 0, 0, 0, 0, 0, 0, 0, 0, 0, 0, 0, 0, 0, 0, 0, 0, 0, 0, 0, 0, 0, 0, 0, 0, 0, 0, 0, 0, 0, 0, 0, 0, 0, 0, 0, 0, 0, 0, 0, 0, 0, 0, 0, 0, 0, 0, 0, 0, 0, 0, 0, 0, 0, 0, 0, 0, 0, 0, 0, 0, 0, 0, 0, 0, 0, 0, 0, 0, 0, 0, 0, 0, 0, 0, 0, 0, 0, 0, 0, 0, 0, 0, 0, 0, 0, 0, 0, 0, 0, 0, 0, 0, 0, 0, 0, 0, 0, 0, 0, 0, 0, 0, 0, 0, 0, 0, 0, 0, 0, 0, 0, 0, 0, 0, 0, 0, 0, 0, 0, 0, 0, 0, 0, 0, 0, 0, 0, 0, 0, 0, 0, 0, 0, 0, 0, 0, 0, 0, 0, 0, 0, 0, 0, 0, 0, 0, 0, 0, 0, 0, 0, 0, 0, 0, 0, 0, 0, 0, 0, 0, 0, 0, 0, 0, 0, 0, 0, 0, 0, 0, 0, 0, 0, 0, 0, 0, 0, 0, 0, 0, 0, 0, 0, 0, 0, 0, 0, 0, 0, 0, 0, 0, 0, 0, 0, 0, 0, 0, 0, 0, 0, 0, 0, 0, 0, 0, 0, 0, 0, 0, 0, 0, 0, 0, 0, 0, 0, 0, 0, 0, 0, 0, 0, 0, 0, 0, 0, 0, 0, 0, 0, 0, 0, 0, 0, 0, 0, 0, 0, 0, 0, 0, 0, 0, 0, 0, 0, 0, 0, 0, 0, 0, 0, 0, 0, 0, 0, 0, 0, 0, 0, 0, 0, 0, 0, 0, 0, 0, 0, 0, 0, 0, 0, 0, 0, 0, 0, 0, 0, 0, 0, 0, 0, 0, 0, 0, 0, 0, 0, 0, 0, 0, 0, 0, 0, 0, 0, 0, 0, 0, 0, 0, 0, 0, 0, 0, 0, 0, 0, 0, 0, 0, 0, 0, 0, 0, 0, 0, 0, 0, 0, 0, 0, 0, 0, 0, 0, 0, 0, 0, 0, 0, 0, 0, 0, 0, 0, 0, 0, 0, 0, 0, 0, 0, 0, 0, 0, 0, 0, 0, 0, 0, 0, 0, 0, 0, 0, 0, 0, 0, 0, 0, 0, 0, 0, 0, 0, 0, 0, 0, 0, 0, 0, 0, 0, 0, 0, 0, 0, 0, 0, 0, 0, 0, 0, 0, 0, 0, 0, 0, 0, 0, 0, 0, 0, 0, 0, 0, 0, 0, 0, 0, 0, 0, 0, 0, 0, 0, 0, 0, 0, 0, 0, 0, 0, 0, 0, 0, 0, 0, 0, 0, 0, 0, 0, 0, 0, 0, 0, 0, 0, 0, 0, 0, 0, 0, 0, 0, 0, 0, 0, 0, 0, 0, 0, 0, 0, 0, 0, 0, 0, 0, 0, 0, 0, 0, 0, 0, 0, 0, 0, 0, 0, 0, 0, 0, 0, 0, 0, 0, 0, 0, 0, 0, 0, 0, 0, 0, 0, 0, 0, 0, 0, 0, 0, 0, 0, 0, 0, 0, 0, 0, 0, 0, 0, 0, 0, 0, 0, 0, 0, 0, 0, 0, 0, 0, 0, 0, 0, 0, 0, 0, 0, 0, 0, 0, 0, 0, 0, 0, 0, 0, 0, 0, 0, 0, 0, 0, 0, 0, 0, 0, 0, 0, 0, 0, 0, 0, 0, 0, 0, 0, 0, 0, 0, 0, 0, 0, 0, 0, 0, 0, 0, 0, 0, 0, 0, 0, 0, 0, 0, 0, 0, 0, 0, 0, 0, 0, 0, 0, 0, 0, 0, 0, 0, 0, 0, 0, 0, 0, 0, 0, 0, 0, 0, 0, 0, 0, 0, 0, 0, 0, 0, 0, 0, 0, 0, 0, 0, 0, 0, 0, 0, 0, 0, 0, 0, 0, 0, 0, 0, 0, 0, 0, 0, 0, 0, 0, 0, 0, 0, 0, 0, 0, 0, 0, 0, 0, 0, 0, 0, 0, 0, 0, 0, 0, 0, 0, 0, 0, 0, 0, 0, 0, 0, 0, 0, 0, 0, 0, 0, 0, 0, 0, 0, 0, 0, 0, 0, 0, 0, 0, 0, 0, 0, 0, 0, 0, 0, 0, 0, 0, 0, 0, 0, 0, 0, 0, 0, 0, 0, 0, 0, 0, 0, 0, 0, 0, 0, 0, 0, 0, 0, 0, 0, 0, 0, 0, 0, 0, 0, 0, 0, 0, 0, 0, 0, 0, 0, 0, 0, 0, 0, 0, 0, 0, 0, 0, 0, 0, 0, 0, 0, 0, 0, 0, 0, 0, 0, 0, 0, 0, 0, 0, 0, 0, 0, 0, 0, 0, 0, 0, 0, 0, 0, 0, 0, 0, 0, 0, 0, 0, 0, 0, 0, 0, 0, 0, 0, 0, 0, 0, 0, 0, 0, 0, 0, 0, 0, 0, 0, 0, 0, 0, 0, 0, 0, 0, 0, 0, 0, 0, 0, 0, 0, 0, 0, 0, 0, 0, 0, 0, 0, 0, 0, 0, 0, 0, 0, 0, 0, 0, 0, 0, 0, 0, 0, 0, 0, 0, 0, 0, 0, 0, 0, 0, 0, 0, 0, 0, 0, 0, 0, 0, 0, 0, 0, 0, 0, 0, 0, 0, 0, 0, 0, 0, 0, 0, 0, 0, 0, 0, 0, 0, 0, 0, 0, 0, 0, 0, 0, 0, 0, 0, 0, 0, 0, 0, 0, 0, 0, 0, 0, 0, 0, 0, 0, 0, 0, 0, 0, 0, 0, 0, 0, 0, 0, 0, 0, 0, 0, 0, 0, 0, 0, 0, 0, 0, 0, 0, 0, 0, 0, 0, 0, 0, 0, 0, 0, 0, 0, 0, 0, 0, 0, 0, 0, 0, 0, 0, 0, 0, 0, 0, 0, 0, 0, 0, 0, 0, 0, 0, 0, 0, 0, 0, 0, 0, 0, 0, 0, 0, 0, 0, 0, 0, 0, 0, 0, 0, 0, 0, 0, 0, 0, 0, 0, 0, 0, 0, 0, 0, 0, 0, 0, 0, 0, 0, 0, 0, 0, 0, 0, 0, 0, 0, 0, 0, 0, 0, 0, 0, 0, 0, 0, 0, 0, 0, 0, 0, 0, 0, 0, 0, 0, 0, 0, 0, 0, 0, 0, 0, 0, 0, 0, 0, 0, 0, 0, 0, 0, 0, 0, 0, 0, 0, 0, 0, 0, 0, 0, 0, 0, 0, 0, 0, 0, 0, 0, 0, 0, 0, 0, 0, 0, 0, 0, 0, 0, 0, 0, 0, 0, 0, 0, 0, 0, 0, 0, 0, 0, 0, 0, 0, 0, 0, 0, 0, 0, 0, 0, 0, 0, 0, 0, 0, 0, 0, 0, 0, 0, 0, 0, 0, 0, 0, 0, 0, 0, 0, 0, 0, 0, 0, 0, 0, 0, 0, 0, 0, 0, 0, 0, 0, 0, 0, 0, 0, 0, 0, 0, 0, 0, 0, 0, 0, 0, 0, 0, 0, 0, 0, 0, 0, 0, 0, 0, 0, 0, 0, 0, 0, 0, 0, 0, 0, 0, 0, 0, 0, 0, 0, 0, 0, 0, 0, 0, 0, 0, 0, 0, 0, 0, 0, 0, 0, 0, 0, 0, 0, 0, 0, 0, 0, 0, 0, 0, 0, 0, 0, 0, 0, 0, 0, 0, 0, 0, 0, 0, 0, 0, 0, 0, 0, 0, 0, 0, 0, 0, 0, 0, 0, 0, 0, 0, 0, 0, 0, 0, 0, 0, 0, 0, 0, 0, 0, 0, 0, 0, 0, 0, 0, 0, 0, 0, 0, 0, 0, 0, 0, 0, 0, 0, 0, 0, 0, 0, 0, 0, 0, 0, 0, 0, 0, 0, 0, 0, 0, 0, 0, 0, 0, 0, 0, 0, 0, 0, 0, 0, 0, 0, 0, 0, 0, 0, 0, 0, 0, 0, 0, 0, 0, 0, 0, 0, 0, 0, 0, 0, 0, 0, 0, 0, 0, 0, 0, 0, 0, 0, 0, 0, 0, 0, 0, 0, 0, 0, 0, 0, 0, 0, 0, 0, 0, 0, 0, 0, 0, 0, 0, 0, 0, 0, 0, 0, 0, 0, 0, 0, 0, 0, 0, 0, 0, 0, 0, 0, 0, 0, 0, 0, 0, 0, 0, 0, 0, 0, 0, 0, 0, 0, 0, 0, 0, 0, 0, 0, 0, 0, 0, 0, 0, 0, 0, 0, 0, 0, 0, 0, 0, 0, 0, 0, 0, 0, 0, 0, 0, 0, 0, 0, 0, 0, 0, 0, 0, 0, 0, 0, 0, 0, 0, 0, 0, 0, 0, 0, 0, 0, 0, 0, 0, 0, 0, 0, 0, 0, 0, 0, 0, 0, 0, 0, 0, 0, 0, 0, 0, 0, 0, 0, 0, 0, 0, 0, 0, 0, 0, 0, 0, 0, 0, 0, 0, 0, 0, 0, 0, 0, 0, 0, 0, 0, 0, 0, 0, 0, 0, 0, 0, 0, 0, 0, 0, 0, 0, 0, 0, 0, 0, 0, 0, 0, 0, 0, 0, 0, 0, 0, 0, 0, 0, 0, 0, 0, 0, 0, 0, 0, 0, 0, 0, 0, 0, 0, 0, 0, 0, 0, 0, 0, 0, 0, 0, 0, 0, 0, 0, 0, 0, 0, 0, 0, 0, 0, 0, 0, 0, 0, 0, 0, 0, 0, 0, 0, 0, 0, 0, 0, 0, 0, 0, 0, 0, 0, 0, 0, 0, 0, 0, 0, 0, 0, 0, 0, 0, 0, 0, 0, 0, 0, 0, 0, 0, 0, 0, 0, 0, 0, 0, 0, 0, 0, 0, 0, 0, 0, 0, 0, 0, 0, 0, 0, 0, 0, 0, 0, 0, 0, 0, 0, 0, 0, 0, 0, 0, 0, 0, 0, 0, 0, 0, 0, 0, 0, 0, 0, 0, 0, 0, 0, 0, 0, 0, 0, 0, 0, 0, 0, 0, 0, 0, 0, 0, 0, 0, 0, 0, 0, 0, 0, 0, 0, 0, 0, 0, 0, 0, 0, 0, 0, 0, 0, 0, 0, 0, 0, 0, 0, 0, 0, 0, 0, 0, 0, 0, 0, 0, 0, 0, 0, 0, 0, 0, 0, 0, 0, 0, 0, 0, 0, 0, 0, 0, 0, 0, 0, 0, 0, 0, 0, 0, 0, 0, 0, 0, 0, 0, 0, 0, 0, 0, 0, 0, 0, 0, 0, 0, 0, 0, 0, 0, 0, 0, 0, 0, 0, 0, 0, 0, 0, 0, 0, 0, 0, 0, 0, 0, 0, 0, 0, 0, 0, 0, 0, 0, 0, 0, 0, 0, 0, 0, 0, 0, 0, 0, 0, 0, 0, 0, 0, 0, 0, 0, 0, 0, 0, 0, 0, 0, 0, 0, 0, 0, 0, 0, 0, 0, 0, 0, 0, 0, 0, 0, 0, 0, 0, 0, 0, 0, 0, 0, 0, 0, 0, 0, 0, 0, 0, 0, 0, 0, 0, 0, 0, 0, 0, 0, 0, 0, 0, 0, 0, 0, 0, 0, 0, 0, 0, 0, 0, 0, 0, 0, 0, 0, 0, 0, 0, 0, 0, 0, 0, 0, 0, 0, 0, 0, 0, 0, 0, 0, 0, 0, 0, 0, 0, 0, 0, 0, 0, 0, 0, 0, 0, 0, 0, 0, 0, 0, 0, 0, 0, 0, 0, 0, 0, 0, 0, 0, 0, 0, 0, 0, 0, 0, 0, 0, 0, 0, 0, 0, 0, 0, 0, 0, 0, 0, 0, 0, 0, 0, 0, 0, 0, 0, 0, 0, 0, 0, 0, 0, 0, 0, 0, 0, 0, 0, 0, 0, 0, 0, 0, 0, 0, 0, 0, 0, 0, 0, 0, 0, 0, 0, 0, 0, 0, 0, 0, 0, 0, 0, 0, 0, 0, 0, 0, 0, 0, 0, 0, 0, 0, 0, 0, 0, 0, 0, 0, 0, 0, 0, 0, 0, 0, 0, 0, 0, 0, 0, 0, 0, 0, 0, 0, 0, 0, 0, 0, 0, 0, 0, 0, 0, 0, 0, 0, 0, 0, 0, 0, 0, 0, 0, 0, 0, 0, 0, 0, 0, 0, 0, 0, 0, 0, 0, 0, 0, 0, 0, 0, 0, 0, 0, 0, 0, 0, 0, 0, 0, 0, 0, 0, 0, 0, 0, 0, 0, 0, 0, 0, 0, 0, 0, 0, 0, 0, 0, 0, 0, 0, 0, 0, 0, 0, 0, 0, 0, 0, 0, 0, 0, 0, 0, 0, 0, 0, 0, 0, 0, 0, 0, 0, 0, 0, 0, 0, 0, 0, 0, 0, 0, 0, 0, 0, 0, 0, 0, 0, 0, 0, 0, 0, 0, 0, 0, 0, 0, 0, 0, 0, 0, 0, 0, 0, 0, 0, 0, 0, 0, 0, 0, 0, 0, 0, 0, 0, 0, 0, 0, 0, 0, 0, 0, 0, 0, 0, 0, 0, 0, 0, 0, 0, 0, 0, 0, 0, 0, 0, 0, 0, 0, 0, 0, 0, 0, 0, 0, 0, 0, 0, 0, 0, 0, 0, 0, 0, 0, 0, 0, 0, 0, 0, 0, 0, 0, 0, 0, 0, 0, 0, 0, 0, 0, 0, 0, 0, 0, 0, 0, 0, 0, 0, 0, 0, 0, 0, 0, 0, 0, 0, 0, 0, 0, 0, 0, 0, 0, 0, 0, 0, 0, 0, 0, 0, 0, 0, 0, 0, 0, 0, 0, 0, 0, 0, 0, 0, 0, 0, 0, 0, 0, 0, 0, 0, 0, 0, 0, 0, 0, 0, 0, 0, 0, 0, 0, 0, 0, 0, 0, 0, 0, 0, 0, 0, 0, 0, 0, 0, 0, 0, 0, 0, 0, 0, 0, 0, 0, 0, 0, 0, 0, 0, 0, 0, 0, 0, 0, 0, 0, 0, 0, 0, 0, 0, 0, 0, 0, 0, 0, 0, 0, 0, 0, 0, 0, 0, 0, 0, 0, 0, 0, 0, 0, 0, 0, 0, 0, 0, 0, 0, 0, 0, 0, 0, 0, 0, 0, 0, 0, 0, 0, 0, 0, 0, 0, 0, 0, 0, 0, 0, 0, 0, 0, 0, 0, 0, 0, 0, 0, 0, 0, 0, 0, 0, 0, 0, 0, 0, 0, 0, 0, 0, 0, 0, 0, 0, 0, 0, 0, 0, 0, 0, 0, 0, 0, 0, 0, 0, 0, 0, 0, 0, 0, 0, 0, 0, 0, 0, 0, 0, 0, 0, 0, 0, 0, 0, 0, 0, 0, 0, 0, 0, 0, 0, 0, 0, 0, 0, 0, 0, 0, 0, 0, 0, 0, 0, 0, 0, 0, 0, 0, 0, 0, 0, 0, 0, 0, 0, 0, 0, 0, 0, 0, 0, 0, 0, 0, 0, 0, 0, 0, 0, 0, 0, 0, 0, 0, 0, 0, 0, 0, 0, 0, 0, 0, 0, 0, 0, 0, 0, 0, 0, 0, 0, 0, 0, 0, 0, 0, 0, 0, 0, 0, 0, 0, 0, 0, 0, 0, 0, 0, 0, 0, 0, 0, 0, 0, 0, 0, 0, 0, 0, 0, 0, 0, 0, 0, 0, 0, 0, 0, 0, 0, 0, 0, 0, 0, 0, 0, 0, 0, 0, 0, 0, 0, 0, 0, 0, 0, 0, 0, 0, 0, 0, 0, 0, 0, 0, 0, 0, 0, 0, 0, 0, 0, 0, 0, 0, 0, 0, 0, 0, 0, 0, 0, 0, 0, 0, 0, 0, 0, 0, 0, 0, 0, 0, 0, 0, 0, 0, 0, 0, 0, 0, 0, 0, 0, 0, 0, 0, 0, 0, 0, 0, 0, 0, 0, 0, 0, 0, 0, 0, 0, 0, 0, 0, 0, 0, 0, 0, 0, 0, 0, 0, 0, 0, 0, 0, 0, 0, 0, 0, 0, 0, 0, 0, 0, 0, 0, 0, 0, 0, 0, 0, 0, 0, 0, 0, 0, 0, 0, 0, 0, 0, 0, 0, 0, 0, 0, 0, 0, 0, 0, 0, 0, 0, 0, 0, 0, 0, 0, 0, 0, 0, 0, 0, 0, 0, 0, 0, 0, 0, 0, 0, 0, 0, 0, 0, 0, 0, 0, 0, 0, 0, 0, 0, 0, 0, 0, 0, 0, 0, 0, 0, 0, 0, 0, 0, 0, 0, 0, 0, 0, 0, 0, 0, 0, 0, 0, 0, 0, 0, 0, 0, 0, 0, 0, 0, 0, 0, 0, 0, 0, 0, 0, 0, 0, 0, 0, 0, 0, 0, 0, 0, 0, 0, 0, 0, 0, 0, 0, 0, 0, 0, 0, 0, 0, 0, 0, 0, 0, 0, 0, 0, 0, 0, 0, 0, 0, 0, 0, 0, 0, 0, 0, 0, 0, 0, 0, 0, 0, 0, 0, 0, 0, 0, 0, 0, 0, 0, 0, 0, 0, 0, 0, 0, 0, 0, 0, 0, 0, 0, 0, 0, 0, 0, 0, 0, 0, 0, 0, 0, 0, 0, 0, 0, 0, 0, 0, 0, 0, 0, 0, 0, 0, 0, 0, 0, 0, 0, 0, 0, 0, 0, 0, 0, 0, 0, 0, 0, 0, 0, 0, 0, 0, 0, 0, 0, 0, 0, 0, 0, 0, 0, 0, 0, 0, 0, 0, 0, 0, 0, 0, 0, 0, 0, 0, 0, 0, 0, 0, 0, 0, 0, 0, 0, 0, 0, 0, 0, 0, 0, 0, 0, 0, 0, 0, 0, 0, 0, 0, 0, 0, 0, 0, 0, 0, 0, 0, 0, 0, 0, 0, 0, 0, 0, 0, 0, 0, 0, 0, 0, 0, 0, 0, 0, 0, 0, 0, 0, 0, 0, 0, 0, 0, 0, 0, 0, 0, 0, 0, 0, 0, 0, 0, 0, 0, 0, 0, 0, 0, 0, 0, 0, 0, 0, 0, 0, 0, 0, 0, 0, 0, 0, 0, 0, 0, 0, 0, 0, 0, 0, 0, 0, 0, 0, 0, 0, 0, 0, 0, 0, 0, 0, 0, 0, 0, 0, 0, 0, 0, 0, 0, 0, 0, 0, 0, 0, 0, 0, 0, 0, 0, 0, 0, 0, 0, 0, 0, 0, 0, 0, 0, 0, 0, 0, 0, 0, 0, 0, 0, 0, 0, 0, 0, 0, 0, 0, 0, 0, 0, 0, 0, 0, 0, 0, 0, 0, 0, 0, 0, 0, 0, 0, 0, 0, 0, 0, 0, 0, 0, 0, 0, 0, 0, 0, 0, 0, 0, 0, 0, 0, 0, 0, 0, 0, 0, 0, 0, 0, 0, 0, 0, 0, 0, 0, 0, 0, 0, 0, 0, 0, 0, 0, 0, 0, 0, 0, 0, 0, 0, 0, 0, 0, 0, 0, 0, 0, 0, 0, 0, 0, 0, 0, 0, 0, 0, 0, 0, 0, 0, 0, 0, 0, 0, 0, 0, 0, 0, 0, 0, 0, 0, 0, 0, 0, 0, 0, 0, 0, 0, 0, 0, 0, 0, 0, 0, 0, 0, 0, 0, 0, 0, 0, 0, 0, 0, 0, 0, 0, 0, 0, 0, 0, 0, 0, 0, 0, 0, 0, 0, 0, 0, 0, 0, 0, 0, 0, 0, 0, 0, 0, 0, 0, 0, 0, 0, 0, 0, 0, 0, 0, 0, 0, 0, 0, 0, 0, 0, 0, 0, 0, 0, 0, 0, 0, 0, 0, 0, 0, 0, 0, 0, 0, 0, 0, 0, 0, 0, 0, 0, 0, 0, 0, 0, 0, 0, 0, 0, 0, 0, 0, 0, 0, 0, 0, 0, 0, 0, 0, 0, 0, 0, 0, 0, 0, 0, 0, 0, 0, 0, 0, 0, 0, 0, 0, 0, 0, 0, 0, 0, 0, 0, 0, 0, 0, 0, 0, 0, 0, 0, 0, 0, 0, 0, 0, 0, 0, 0, 0, 0, 0, 0, 0, 0, 0, 0, 0, 0, 0, 0, 0, 0, 0, 0, 0, 0, 0, 0, 0, 0, 0, 0, 0, 0, 0, 0, 0, 0, 0, 0, 0, 0, 0, 0, 0, 0, 0, 0, 0, 0, 0, 0, 0, 0, 0, 0, 0, 0, 0, 0, 0, 0, 0, 0, 0, 0, 0, 0, 0, 0, 0, 0, 0, 0, 0, 0, 0, 0, 0, 0, 0, 0, 0, 0, 0, 0, 0, 0, 0, 0, 0, 0, 0, 0, 0, 0, 0, 0, 0, 0, 0, 0, 0, 0, 0, 0, 0, 0, 0, 0, 0, 0, 0, 0, 0, 0, 0, 0, 0, 0, 0, 0, 0, 0, 0, 0, 0, 0, 0, 0, 0, 0, 0, 0, 0, 0, 0, 0, 0, 0, 0, 0, 0, 0, 0, 0, 0, 0, 0, 0, 0, 0, 0, 0, 0, 0, 0, 0, 0, 0, 0, 0, 0, 0, 0, 0, 0, 0, 0, 0, 0, 0, 0, 0, 0, 0, 0, 0, 0, 0, 0, 0, 0, 0, 0, 0, 0, 0, 0, 0, 0, 0, 0, 0, 0, 0, 0, 0, 0, 0, 0, 0, 0, 0, 0, 0, 0, 0, 0, 0, 0, 0, 0, 0, 0, 0, 0, 0, 0, 0, 0, 0, 0, 0, 0, 0, 0, 0, 0, 0, 0, 0, 0, 0, 0, 0, 0, 0, 0, 0, 0, 0, 0, 0, 0, 0, 0, 0, 0, 0, 0, 0, 0, 0, 0, 0, 0, 0, 0, 0, 0, 0, 0, 0, 0, 0, 0, 0, 0, 0, 0, 0, 0, 0, 0, 0, 0, 0, 0, 0, 0, 0, 0, 0, 0, 0, 0, 0, 0, 0, 0, 0, 0, 0, 0, 0, 0, 0, 0, 0, 0, 0, 0, 0, 0, 0, 0, 0, 0, 0, 0, 0, 0, 0, 0, 0, 0, 0, 0, 0, 0, 0, 0, 0, 0, 0, 0, 0, 0, 0, 0, 0, 0, 0, 0, 0, 0, 0, 0, 0, 0, 0, 0, 0, 0, 0, 0, 0, 0, 0, 0, 0, 0, 0, 0, 0, 0, 0, 0, 0, 0, 0, 0, 0, 0, 0, 0, 0, 0, 0, 0, 0, 0, 0, 0, 0, 0, 0, 0, 0, 0, 0, 0, 0, 0, 0, 0, 0, 0, 0, 0, 0, 0, 0, 0, 0, 0, 0, 0, 0, 0, 0, 0, 0, 0, 0, 0, 0, 0, 0, 0, 0, 0, 0, 0, 0, 0, 0, 0, 0, 0, 0, 0, 0, 0, 0, 0, 0, 0, 0, 0, 0, 0, 0, 0, 0, 0, 0, 0, 0, 0, 0, 0, 0, 0, 0, 0, 0, 0, 0, 0, 0, 0, 0, 0, 0, 0, 0, 0, 0, 0, 0, 0, 0, 0, 0, 0, 0, 0, 0, 0, 0, 0, 0, 0, 0, 0, 0, 0, 0, 0, 0, 0, 0, 0, 0, 0, 0, 0, 0, 0, 0, 0, 0, 0, 0, 0, 0, 0, 0, 0, 0, 0, 0, 0, 0, 0, 0, 0, 0, 0, 0, 0, 0, 0, 0, 0, 0, 0, 0, 0, 0, 0, 0, 0, 0, 0, 0, 0, 0, 0, 0, 0, 0, 0, 0, 0, 0, 0, 0, 0, 0, 0, 0, 0, 0, 0, 0, 0, 0, 0, 0, 0, 0, 0, 0, 0, 0, 0, 0, 0, 0, 0, 0, 0, 0, 0, 0, 0, 0, 0, 0, 0, 0, 0, 0, 0, 0, 0, 0, 0, 0, 0, 0, 0, 0, 0, 0, 0, 0, 0, 0, 0, 0, 0, 0, 0, 0, 0, 0, 0, 0, 0, 0, 0, 0, 0, 0, 0, 0, 0, 0, 0, 0, 0, 0, 0, 0, 0, 0, 0, 0, 0, 0, 0, 0, 0, 0, 0, 0, 0, 0, 0, 0, 0, 0, 0, 0, 0, 0, 0, 0, 0, 0, 0, 0, 0, 0, 0, 0, 0, 0, 0, 0, 0, 0, 0, 0, 0, 0, 0, 0, 0, 0, 0, 0, 0, 0, 0, 0, 0, 0, 0, 0, 0, 0, 0, 0, 0, 0, 0, 0, 0, 0, 0, 0, 0, 0, 0, 0, 0, 0, 0, 0, 0, 0, 0, 0, 0, 0, 0, 0, 0, 0, 0, 0, 0, 0, 0, 0, 0, 0, 0, 0, 0, 0, 0, 0, 0, 0, 0, 0, 0, 0, 0, 0, 0, 0, 0, 0, 0, 0, 0, 0, 0, 0, 0, 0, 0, 0, 0, 0, 0, 0, 0, 0, 0, 0, 0, 0, 0, 0, 0, 0, 0, 0, 0, 0, 0, 0, 0, 0, 0, 0, 0, 0, 0, 0, 0, 0, 0, 0, 0, 0, 0, 0, 0, 0, 0, 0, 0, 0, 0, 0, 0, 0, 0, 0, 0, 0, 0, 0, 0, 0, 0, 0, 0, 0, 0, 0, 0, 0, 0, 0, 0, 0, 0, 0, 0, 0, 0, 0, 0, 0, 0, 0, 0, 0, 0, 0, 0, 0, 0, 0, 0, 0, 0, 0, 0, 0, 0, 0, 0, 0, 0, 0, 0, 0, 0, 0, 0, 0, 0, 0, 0, 0, 0, 0, 0, 0, 0, 0, 0, 0, 0, 0, 0, 0, 0, 0, 0, 0, 0, 0, 0, 0, 0, 0, 0, 0, 0, 0, 0, 0, 0, 0, 0, 0, 0, 0, 0, 0, 0, 0, 0, 0, 0, 0, 0, 0, 0, 0, 0, 0, 0, 0, 0, 0, 0, 0, 0, 0, 0, 0, 0, 0, 0, 0, 0, 0, 0, 0, 0, 0, 0, 0, 0, 0, 0, 0, 0, 0, 0, 0, 0, 0, 0, 0, 0, 0, 0, 0, 0, 0, 0, 0, 0, 0, 0, 0, 0, 0, 0, 0, 0, 0, 0, 0, 0, 0, 0, 0, 0, 0, 0, 0, 0, 0, 0, 0, 0, 0, 0, 0, 0, 0, 0, 0, 0, 0, 0, 0, 0, 0, 0, 0, 0, 0, 0, 0, 0, 0, 0, 0, 0, 0, 0, 0, 0, 0, 0, 0, 0, 0, 0, 0, 0, 0, 0, 0, 0, 0, 0, 0, 0, 0, 0, 0, 0, 0, 0, 0, 0, 0, 0, 0, 0, 0, 0, 0, 0, 0, 0, 0, 0, 0, 0, 0, 0, 0, 0, 0, 0, 0, 0, 0, 0, 0, 0, 0, 0, 0, 0, 0, 0, 0, 0, 0, 0, 0, 0, 0, 0, 0, 0, 0, 0, 0, 0, 0, 0, 0, 0, 0, 0, 0, 0, 0, 0, 0, 0, 0, 0, 0, 0, 0, 0, 0, 0, 0, 0, 0, 0, 0, 0, 0, 0, 0, 0, 0, 0, 0, 0, 0, 0, 0, 0, 0, 0, 0, 0, 0, 0, 0, 0, 0, 0, 0, 0, 0, 0, 0, 0, 0, 0, 0, 0, 0, 0, 0, 0, 0, 0, 0, 0, 0, 0, 0, 0, 0, 0, 0, 0, 0, 0, 0, 0, 0, 0, 0, 0, 0, 0, 0, 0, 0, 0, 0, 0, 0, 0, 0, 0, 0, 0, 0, 0, 0, 0, 0, 0, 0, 0, 0, 0, 0, 0, 0, 0, 0, 0, 0, 0, 0, 0, 0, 0, 0, 0, 0, 0, 0, 0, 0, 0, 0, 0, 0, 0, 0, 0, 0, 0, 0, 0, 0, 0, 0, 0, 0, 0, 0, 0, 0, 0, 0, 0, 0, 0, 0, 0, 0, 0, 0, 0, 0, 0, 0, 0, 0, 0, 0, 0, 0, 0, 0, 0, 0, 0, 0, 0, 0, 0, 0, 0, 0, 0, 0, 0, 0, 0, 0, 0, 0, 0, 0, 0, 0, 0, 0, 0, 0, 0, 0, 0, 0, 0, 0, 0, 0, 0, 0, 0, 0, 0, 0, 0, 0, 0, 0, 0, 0, 0, 0, 0, 0, 0, 0, 0, 0, 0, 0, 0, 0, 0, 0, 0, 0, 0, 0, 0, 0, 0, 0, 0, 0, 0, 0, 0, 0, 0, 0, 0, 0, 0, 0, 0, 0, 0, 0, 0, 0, 0, 0, 0, 0, 0, 0, 0, 0, 0, 0, 0, 0, 0, 0, 0, 0, 0, 0, 0, 0, 0, 0, 0, 0, 0, 0, 0, 0, 0, 0, 0, 0, 0, 0, 0, 0, 0, 0, 0, 0, 0, 0, 0, 0, 0, 0, 0, 0, 0, 0, 0, 0, 0, 0, 0, 0, 0, 0, 0, 0, 0, 0, 0, 0, 0, 0, 0, 0, 0, 0, 0, 0, 0, 0, 0, 0, 0, 0, 0, 0, 0, 0, 0, 0, 0, 0, 0, 0, 0, 0, 0, 0, 0, 0, 0, 0, 0, 0, 0, 0, 0, 0, 0, 0, 0, 0, 0, 0, 0, 0, 0, 0, 0, 0, 0, 0, 0, 0, 0, 0, 0, 0, 0, 0, 0, 0, 0, 0, 0, 0, 0, 0, 0, 0, 0, 0, 0, 0, 0, 0, 0, 0, 0, 0, 0, 0, 0, 0, 0, 0, 0, 0, 0, 0, 0, 0, 0, 0, 0, 0, 0, 0, 0, 0, 0, 0, 0, 0, 0, 0, 0, 0, 0, 0, 0, 0, 0, 0, 0, 0, 0, 0, 0, 0, 0, 0, 0, 0, 0, 0, 0, 0, 0, 0, 0, 0, 0, 0, 0, 0, 0, 0, 0, 0, 0, 0, 0, 0, 0, 0, 0, 0, 0, 0, 0, 0, 0, 0, 0, 0, 0, 0, 0, 0, 0, 0, 0, 0, 0, 0, 0, 0, 0, 0, 0, 0, 0, 0, 0, 0, 0, 0, 0, 0, 0, 0, 0, 0, 0, 0, 0, 0, 0, 0, 0, 0, 0, 0, 0, 0, 0, 0, 0, 0, 0, 0, 0, 0, 0, 0, 0, 0, 0, 0, 0, 0, 0, 0, 0, 0, 0, 0, 0, 0, 0, 0, 0, 0, 0, 0, 0, 0, 0, 0, 0, 0, 0, 0, 0, 0, 0, 0, 0, 0, 0, 0, 0, 0, 0, 0, 0, 0, 0, 0, 0, 0, 0, 0, 0, 0, 0, 0, 0, 0, 0, 0, 0, 0, 0, 0, 0, 0, 0, 0, 0, 0, 0, 0, 0, 0, 0, 0, 0, 0, 0, 0, 0, 0, 0, 0, 0, 0, 0, 0, 0, 0, 0, 0, 0, 0, 0, 0, 0, 0, 0, 0, 0, 0, 0, 0, 0, 0, 0, 0, 0, 0, 0, 0, 0, 0, 0, 0, 0], [1453, 1455, 1456, 1454, 1247, 1247, 1247, 1247, 1247, 1247, 1247, 1033, 2573, 1247, 1033, 1033, 1033, 1033, 1033, 1033, 1033, 1033, 1033, 1033, 1033, 1033, 1033, 1033, 1033, 1247, 1033, 2714, 619, 751, 702, 703, 2320, 2501, 2526, 2516, 2525, 2530, 625, 389, 610, 1743, 1744, 595, 2573, 1128, 1125, 706, 703, 601, 600, 2514, 1247, 1033, 1033, 1033, 5203, 0, 0, 0, 0, 0, 0, 0, 0, 0, 0, 0, 0, 0, 0, 0, 0, 0, 0, 0, 0, 0, 0, 0, 0, 0, 0, 0, 0, 0, 0, 0, 0, 0, 0, 0, 0, 0, 0, 0, 0, 0, 0, 0, 0, 0, 0, 0, 0, 0, 0, 0, 0, 0, 0, 0, 0, 0, 0, 0, 0, 0, 0, 0, 0, 0, 0, 0, 0, 0, 0, 0, 0, 0, 0, 0, 0, 0, 0, 0, 0, 0, 0, 0, 0, 0, 0, 0, 0, 0, 0, 0, 0, 0, 0, 0, 0, 0, 0, 0, 0, 0, 0, 0, 0, 0, 0, 0, 0, 0, 0, 0, 0, 0, 0, 0, 0, 0, 0, 0, 0, 0, 0, 0, 0, 0, 0, 0, 0, 0, 0, 0, 0, 0, 0, 0, 0, 0, 0, 0, 0, 0, 0, 0, 0, 0, 0, 0, 0, 0, 0, 0, 0, 0, 0, 0, 0, 0, 0, 0, 0, 0, 0, 0, 0, 0, 0, 0, 0, 0, 0, 0, 0, 0, 0, 0, 0, 0, 0, 0, 0, 0, 0, 0, 0, 0, 0, 0, 0, 0, 0, 0, 0, 0, 0, 0, 0, 0, 0, 0, 0, 0, 0, 0, 0, 0, 0, 0, 0, 0, 0, 0, 0, 0, 0, 0, 0, 0, 0, 0, 0, 0, 0, 0, 0, 0, 0, 0, 0, 0, 0, 0, 0, 0, 0, 0, 0, 0, 0, 0, 0, 0, 0, 0, 0, 0, 0, 0, 0, 0, 0, 0, 0, 0, 0, 0, 0, 0, 0, 0, 0, 0, 0, 0, 0, 0, 0, 0, 0, 0, 0, 0, 0, 0, 0, 0, 0, 0, 0, 0, 0, 0, 0, 0, 0, 0, 0, 0, 0, 0, 0, 0, 0, 0, 0, 0, 0, 0, 0, 0, 0, 0, 0, 0, 0, 0, 0, 0, 0, 0, 0, 0, 0, 0, 0, 0, 0, 0, 0, 0, 0, 0, 0, 0, 0, 0, 0, 0, 0, 0, 0, 0, 0, 0, 0, 0, 0, 0, 0, 0, 0, 0, 0, 0, 0, 0, 0, 0, 0, 0, 0, 0, 0, 0, 0, 0, 0, 0, 0, 0, 0, 0, 0, 0, 0, 0, 0, 0, 0, 0, 0, 0, 0, 0, 0, 0, 0, 0, 0, 0, 0, 0, 0, 0, 0, 0, 0, 0, 0, 0, 0, 0, 0, 0, 0, 0, 0, 0, 0, 0, 0, 0, 0, 0, 0, 0, 0, 0, 0, 0, 0, 0, 0, 0, 0, 0, 0, 0, 0, 0, 0, 0, 0, 0, 0, 0, 0, 0, 0, 0, 0, 0, 0, 0, 0, 0, 0, 0, 0, 0, 0, 0, 0, 0, 0, 0, 0, 0, 0, 0, 0, 0, 0, 0, 0, 0, 0, 0, 0, 0, 0, 0, 0, 0, 0, 0, 0, 0, 0, 0, 0, 0, 0, 0, 0, 0, 0, 0, 0, 0, 0, 0, 0, 0, 0, 0, 0, 0, 0, 0, 0, 0, 0, 0, 0, 0, 0, 0, 0, 0, 0, 0, 0, 0, 0, 0, 0, 0, 0, 0, 0, 0, 0, 0, 0, 0, 0, 0, 0, 0, 0, 0, 0, 0, 0, 0, 0, 0, 0, 0, 0, 0, 0, 0, 0, 0, 0, 0, 0, 0, 0, 0, 0, 0, 0, 0, 0, 0, 0, 0, 0, 0, 0, 0, 0, 0, 0, 0, 0, 0, 0, 0, 0, 0, 0, 0, 0, 0, 0, 0, 0, 0, 0, 0, 0, 0, 0, 0, 0, 0, 0, 0, 0, 0, 0, 0, 0, 0, 0, 0, 0, 0, 0, 0, 0, 0, 0, 0, 0, 0, 0, 0, 0, 0, 0, 0, 0, 0, 0, 0, 0, 0, 0, 0, 0, 0, 0, 0, 0, 0, 0, 0, 0, 0, 0, 0, 0, 0, 0, 0, 0, 0, 0, 0, 0, 0, 0, 0, 0, 0, 0, 0, 0, 0, 0, 0, 0, 0, 0, 0, 0, 0, 0, 0, 0, 0, 0, 0, 0, 0, 0, 0, 0, 0, 0, 0, 0, 0, 0, 0, 0, 0, 0, 0, 0, 0, 0, 0, 0, 0, 0, 0, 0, 0, 0, 0, 0, 0, 0, 0, 0, 0, 0, 0, 0, 0, 0, 0, 0, 0, 0, 0, 0, 0, 0, 0, 0, 0, 0, 0, 0, 0, 0, 0, 0, 0, 0, 0, 0, 0, 0, 0, 0, 0, 0, 0, 0, 0, 0, 0, 0, 0, 0, 0, 0, 0, 0, 0, 0, 0, 0, 0, 0, 0, 0, 0, 0, 0, 0, 0, 0, 0, 0, 0, 0, 0, 0, 0, 0, 0, 0, 0, 0, 0, 0, 0, 0, 0, 0, 0, 0, 0, 0, 0, 0, 0, 0, 0, 0, 0, 0, 0, 0, 0, 0, 0, 0, 0, 0, 0, 0, 0, 0, 0, 0, 0, 0, 0, 0, 0, 0, 0, 0, 0, 0, 0, 0, 0, 0, 0, 0, 0, 0, 0, 0, 0, 0, 0, 0, 0, 0, 0, 0, 0, 0, 0, 0, 0, 0, 0, 0, 0, 0, 0, 0, 0, 0, 0, 0, 0, 0, 0, 0, 0, 0, 0, 0, 0, 0, 0, 0, 0, 0, 0, 0, 0, 0, 0, 0, 0, 0, 0, 0, 0, 0, 0, 0, 0, 0, 0, 0, 0, 0, 0, 0, 0, 0, 0, 0, 0, 0, 0, 0, 0, 0, 0, 0, 0, 0, 0, 0, 0, 0, 0, 0, 0, 0, 0, 0, 0, 0, 0, 0, 0, 0, 0, 0, 0, 0, 0, 0, 0, 0, 0, 0, 0, 0, 0, 0, 0, 0, 0, 0, 0, 0, 0, 0, 0, 0, 0, 0, 0, 0, 0, 0, 0, 0, 0, 0, 0, 0, 0, 0, 0, 0, 0, 0, 0, 0, 0, 0, 0, 0, 0, 0, 0, 0, 0, 0, 0, 0, 0, 0, 0, 0, 0, 0, 0, 0, 0, 0, 0, 0, 0, 0, 0, 0, 0, 0, 0, 0, 0, 0, 0, 0, 0, 0, 0, 0, 0, 0, 0, 0, 0, 0, 0, 0, 0, 0, 0, 0, 0, 0, 0, 0, 0, 0, 0, 0, 0, 0, 0, 0, 0, 0, 0, 0, 0, 0, 0, 0, 0, 0, 0, 0, 0, 0, 0, 0, 0, 0, 0, 0, 0, 0, 0, 0, 0, 0, 0, 0, 0, 0, 0, 0, 0, 0, 0, 0, 0, 0, 0, 0, 0, 0, 0, 0, 0, 0, 0, 0, 0, 0, 0, 0, 0, 0, 0, 0, 0, 0, 0, 0, 0, 0, 0, 0, 0, 0, 0, 0, 0, 0, 0, 0, 0, 0, 0, 0, 0, 0, 0, 0, 0, 0, 0, 0, 0, 0, 0, 0, 0, 0, 0, 0, 0, 0, 0, 0, 0, 0, 0, 0, 0, 0, 0, 0, 0, 0, 0, 0, 0, 0, 0, 0, 0, 0, 0, 0, 0, 0, 0, 0, 0, 0, 0, 0, 0, 0, 0, 0, 0, 0, 0, 0, 0, 0, 0, 0, 0, 0, 0, 0, 0, 0, 0, 0, 0, 0, 0, 0, 0, 0, 0, 0, 0, 0, 0, 0, 0, 0, 0, 0, 0, 0, 0, 0, 0, 0, 0, 0, 0, 0, 0, 0, 0, 0, 0, 0, 0, 0, 0, 0, 0, 0, 0, 0, 0, 0, 0, 0, 0, 0, 0, 0, 0, 0, 0, 0, 0, 0, 0, 0, 0, 0, 0, 0, 0, 0, 0, 0, 0, 0, 0, 0, 0, 0, 0, 0, 0, 0, 0, 0, 0, 0, 0, 0, 0, 0, 0, 0, 0, 0, 0, 0, 0, 0, 0, 0, 0, 0, 0, 0, 0, 0, 0, 0, 0, 0, 0, 0, 0, 0, 0, 0, 0, 0, 0, 0, 0, 0, 0, 0, 0, 0, 0, 0, 0, 0, 0, 0, 0, 0, 0, 0, 0, 0, 0, 0, 0, 0, 0, 0, 0, 0, 0, 0, 0, 0, 0, 0, 0, 0, 0, 0, 0, 0, 0, 0, 0, 0, 0, 0, 0, 0, 0, 0, 0, 0, 0, 0, 0, 0, 0, 0, 0, 0, 0, 0, 0, 0, 0, 0, 0, 0, 0, 0, 0, 0, 0, 0, 0, 0, 0, 0, 0, 0, 0, 0, 0, 0, 0, 0, 0, 0, 0, 0, 0, 0, 0, 0, 0, 0, 0, 0, 0, 0, 0, 0, 0, 0, 0, 0, 0, 0, 0, 0, 0, 0, 0, 0, 0, 0, 0, 0, 0, 0, 0, 0, 0, 0, 0, 0, 0, 0, 0, 0, 0, 0, 0, 0, 0, 0, 0, 0, 0, 0, 0, 0, 0, 0, 0, 0, 0, 0, 0, 0, 0, 0, 0, 0, 0, 0, 0, 0, 0, 0, 0, 0, 0, 0, 0, 0, 0, 0, 0, 0, 0, 0, 0, 0, 0, 0, 0, 0, 0, 0, 0, 0, 0, 0, 0, 0, 0, 0, 0, 0, 0, 0, 0, 0, 0, 0, 0, 0, 0, 0, 0, 0, 0, 0, 0, 0, 0, 0, 0, 0, 0, 0, 0, 0, 0, 0, 0, 0, 0, 0, 0, 0, 0, 0, 0, 0, 0, 0, 0, 0, 0, 0, 0, 0, 0, 0, 0, 0, 0, 0, 0, 0, 0, 0, 0, 0, 0, 0, 0, 0, 0, 0, 0, 0, 0, 0, 0, 0, 0, 0, 0, 0, 0, 0, 0, 0, 0, 0, 0, 0, 0, 0, 0, 0, 0, 0, 0, 0, 0, 0, 0, 0, 0, 0, 0, 0, 0, 0, 0, 0, 0, 0, 0, 0, 0, 0, 0, 0, 0, 0, 0, 0, 0, 0, 0, 0, 0, 0, 0, 0, 0, 0, 0, 0, 0, 0, 0, 0, 0, 0, 0, 0, 0, 0, 0, 0, 0, 0, 0, 0, 0, 0, 0, 0, 0, 0, 0, 0, 0, 0, 0, 0, 0, 0, 0, 0, 0, 0, 0, 0, 0, 0, 0, 0, 0, 0, 0, 0, 0, 0, 0, 0, 0, 0, 0, 0, 0, 0, 0, 0, 0, 0, 0, 0, 0, 0, 0, 0, 0, 0, 0, 0, 0, 0, 0, 0, 0, 0, 0, 0, 0, 0, 0, 0, 0, 0, 0, 0, 0, 0, 0, 0, 0, 0, 0, 0, 0, 0, 0, 0, 0, 0, 0, 0, 0, 0, 0, 0, 0, 0, 0, 0, 0, 0, 0, 0, 0, 0, 0, 0, 0, 0, 0, 0, 0, 0, 0, 0, 0, 0, 0, 0, 0, 0, 0, 0, 0, 0, 0, 0, 0, 0, 0, 0, 0, 0, 0, 0, 0, 0, 0, 0, 0, 0, 0, 0, 0, 0, 0, 0, 0, 0, 0, 0, 0, 0, 0, 0, 0, 0, 0, 0, 0, 0, 0, 0, 0, 0, 0, 0, 0, 0, 0, 0, 0, 0, 0, 0, 0, 0, 0, 0, 0, 0, 0, 0, 0, 0, 0, 0, 0, 0, 0, 0, 0, 0, 0, 0, 0, 0, 0, 0, 0, 0, 0, 0, 0, 0, 0, 0, 0, 0, 0, 0, 0, 0, 0, 0, 0, 0, 0, 0, 0, 0, 0, 0, 0, 0, 0, 0, 0, 0, 0, 0, 0, 0, 0, 0, 0, 0, 0, 0, 0, 0, 0, 0, 0, 0, 0, 0, 0, 0, 0, 0, 0, 0, 0, 0, 0, 0, 0, 0, 0, 0, 0, 0, 0, 0, 0, 0, 0, 0, 0, 0, 0, 0, 0, 0, 0, 0, 0, 0, 0, 0, 0, 0, 0, 0, 0, 0, 0, 0, 0, 0, 0, 0, 0, 0, 0, 0, 0, 0, 0, 0, 0, 0, 0, 0, 0, 0, 0, 0, 0, 0, 0, 0, 0, 0, 0, 0, 0, 0, 0, 0, 0, 0, 0, 0, 0, 0, 0, 0, 0, 0, 0, 0, 0, 0, 0, 0, 0, 0, 0, 0, 0, 0, 0, 0, 0, 0, 0, 0, 0, 0, 0, 0, 0, 0, 0, 0, 0, 0, 0, 0, 0, 0, 0, 0, 0, 0, 0, 0, 0, 0, 0, 0, 0, 0, 0, 0, 0, 0, 0, 0, 0, 0, 0, 0, 0, 0, 0, 0, 0, 0, 0, 0, 0, 0, 0, 0, 0, 0, 0, 0, 0, 0, 0, 0, 0, 0, 0, 0, 0, 0, 0, 0, 0, 0, 0, 0, 0, 0, 0, 0, 0, 0, 0, 0, 0, 0, 0, 0, 0, 0, 0, 0, 0, 0, 0, 0, 0, 0, 0, 0, 0, 0, 0, 0, 0, 0, 0, 0, 0, 0, 0, 0, 0, 0, 0, 0, 0, 0, 0, 0, 0, 0, 0, 0, 0, 0, 0, 0, 0, 0, 0, 0, 0, 0, 0, 0, 0, 0, 0, 0, 0, 0, 0, 0, 0, 0, 0, 0, 0, 0, 0, 0, 0, 0, 0, 0, 0, 0, 0, 0, 0, 0, 0, 0, 0, 0, 0, 0, 0, 0, 0, 0, 0, 0, 0, 0, 0, 0, 0, 0, 0, 0, 0, 0, 0, 0, 0, 0, 0, 0, 0, 0, 0, 0, 0, 0, 0, 0, 0, 0, 0, 0, 0, 0, 0, 0, 0, 0, 0, 0, 0, 0, 0, 0, 0, 0, 0, 0, 0, 0, 0, 0, 0, 0, 0, 0, 0, 0, 0, 0, 0, 0, 0, 0, 0, 0, 0, 0, 0, 0, 0, 0, 0, 0, 0, 0, 0, 0, 0, 0, 0, 0, 0, 0, 0, 0, 0, 0, 0, 0, 0, 0, 0, 0, 0, 0, 0, 0, 0, 0, 0, 0, 0, 0, 0, 0, 0, 0, 0, 0, 0, 0, 0, 0, 0, 0, 0, 0, 0, 0, 0, 0, 0, 0, 0, 0, 0, 0, 0, 0, 0, 0, 0, 0, 0, 0, 0, 0, 0, 0, 0, 0, 0, 0, 0, 0, 0, 0, 0, 0, 0, 0, 0, 0, 0, 0, 0, 0, 0, 0, 0, 0, 0, 0, 0, 0, 0, 0, 0, 0, 0, 0, 0, 0, 0, 0, 0, 0, 0, 0, 0, 0, 0, 0, 0, 0, 0, 0, 0, 0, 0, 0, 0, 0, 0, 0, 0, 0, 0, 0, 0, 0, 0, 0, 0, 0, 0, 0, 0, 0, 0, 0, 0, 0, 0, 0, 0, 0, 0, 0, 0, 0, 0, 0, 0, 0, 0, 0, 0, 0, 0, 0, 0, 0, 0, 0, 0, 0, 0, 0, 0, 0, 0, 0, 0, 0, 0, 0, 0, 0, 0, 0, 0, 0, 0, 0, 0, 0, 0, 0, 0, 0, 0, 0, 0, 0, 0, 0, 0, 0, 0, 0, 0, 0, 0, 0, 0, 0, 0, 0, 0, 0, 0, 0, 0, 0, 0, 0, 0, 0, 0, 0, 0, 0, 0, 0, 0, 0, 0, 0, 0, 0, 0, 0, 0, 0, 0, 0, 0, 0, 0, 0, 0, 0, 0, 0, 0, 0, 0, 0, 0, 0, 0, 0, 0, 0, 0, 0, 0, 0, 0, 0, 0, 0, 0, 0, 0, 0, 0, 0, 0, 0, 0, 0, 0, 0, 0, 0, 0, 0, 0, 0, 0, 0, 0, 0, 0, 0, 0, 0, 0, 0, 0, 0, 0, 0, 0, 0, 0, 0, 0, 0, 0, 0, 0, 0, 0, 0, 0, 0, 0, 0, 0, 0, 0, 0, 0, 0, 0, 0, 0, 0, 0, 0, 0, 0, 0, 0, 0, 0, 0, 0, 0, 0, 0, 0, 0, 0, 0, 0, 0, 0, 0, 0, 0, 0, 0, 0, 0, 0, 0, 0, 0, 0, 0, 0, 0, 0, 0, 0, 0, 0, 0, 0, 0, 0, 0, 0, 0, 0, 0, 0, 0, 0, 0, 0, 0, 0, 0, 0, 0, 0, 0, 0, 0, 0, 0, 0, 0, 0, 0, 0, 0, 0, 0, 0, 0, 0, 0, 0, 0, 0, 0, 0, 0, 0, 0, 0, 0, 0, 0, 0, 0, 0, 0, 0, 0, 0, 0, 0, 0, 0, 0, 0, 0, 0, 0, 0, 0, 0, 0, 0, 0, 0, 0, 0, 0, 0, 0, 0, 0, 0, 0, 0, 0, 0, 0, 0, 0, 0, 0, 0, 0, 0, 0, 0, 0, 0, 0, 0, 0, 0, 0, 0, 0, 0, 0, 0, 0, 0, 0, 0, 0, 0, 0, 0, 0, 0, 0, 0, 0, 0, 0, 0, 0, 0, 0, 0, 0, 0, 0, 0, 0, 0, 0, 0, 0, 0, 0, 0, 0, 0, 0, 0, 0, 0, 0, 0, 0, 0, 0, 0, 0, 0, 0, 0, 0, 0, 0, 0, 0, 0, 0, 0, 0, 0, 0, 0, 0, 0, 0, 0, 0, 0, 0, 0, 0, 0, 0, 0, 0, 0, 0, 0, 0, 0, 0, 0, 0, 0, 0, 0, 0, 0, 0, 0, 0, 0, 0, 0, 0, 0, 0, 0, 0, 0, 0, 0, 0, 0, 0, 0, 0, 0, 0, 0, 0, 0, 0, 0, 0, 0, 0, 0, 0, 0, 0, 0, 0, 0, 0, 0, 0, 0, 0, 0, 0, 0, 0, 0, 0, 0, 0, 0, 0, 0, 0, 0, 0, 0, 0, 0, 0, 0, 0, 0, 0, 0, 0, 0, 0, 0, 0, 0, 0, 0, 0, 0, 0, 0, 0, 0, 0, 0, 0, 0, 0, 0, 0, 0, 0, 0, 0, 0, 0, 0, 0, 0, 0, 0, 0, 0, 0, 0, 0, 0, 0, 0, 0, 0, 0, 0, 0, 0, 0, 0, 0, 0, 0, 0, 0, 0, 0, 0, 0, 0, 0, 0, 0, 0, 0, 0, 0, 0, 0, 0, 0, 0, 0, 0, 0, 0, 0, 0, 0, 0, 0, 0, 0, 0, 0, 0, 0, 0, 0, 0, 0, 0, 0, 0, 0, 0, 0, 0, 0, 0, 0, 0, 0, 0, 0, 0, 0, 0, 0, 0, 0, 0, 0, 0, 0, 0, 0, 0, 0, 0, 0, 0, 0, 0, 0, 0, 0, 0, 0, 0, 0, 0, 0, 0, 0, 0, 0, 0, 0, 0, 0, 0, 0, 0, 0, 0, 0, 0, 0, 0, 0, 0, 0, 0, 0, 0, 0, 0, 0, 0, 0, 0, 0, 0, 0, 0, 0, 0, 0, 0, 0, 0, 0, 0, 0, 0, 0, 0, 0, 0, 0, 0, 0, 0, 0, 0, 0, 0, 0, 0, 0, 0, 0, 0, 0, 0, 0, 0, 0, 0, 0, 0, 0, 0, 0, 0, 0, 0, 0, 0, 0, 0, 0, 0, 0, 0, 0, 0, 0, 0, 0, 0, 0, 0, 0, 0, 0, 0, 0, 0, 0, 0, 0, 0, 0, 0, 0, 0, 0, 0, 0, 0, 0, 0, 0, 0, 0, 0, 0, 0, 0, 0, 0, 0, 0, 0, 0, 0, 0, 0, 0, 0, 0, 0, 0, 0, 0, 0, 0, 0, 0, 0, 0, 0, 0, 0, 0, 0, 0, 0, 0, 0, 0, 0, 0, 0, 0, 0, 0, 0, 0, 0, 0, 0, 0, 0, 0, 0, 0, 0, 0, 0, 0, 0, 0, 0, 0, 0, 0, 0, 0, 0, 0, 0, 0, 0, 0, 0, 0, 0, 0, 0, 0, 0, 0, 0, 0, 0, 0, 0, 0, 0, 0, 0, 0, 0, 0, 0, 0, 0, 0, 0, 0, 0, 0, 0, 0, 0, 0, 0, 0, 0, 0, 0, 0, 0, 0, 0, 0, 0, 0, 0, 0, 0, 0, 0, 0, 0, 0, 0, 0, 0, 0, 0, 0, 0, 0, 0, 0, 0, 0, 0, 0, 0, 0, 0, 0, 0, 0, 0, 0, 0, 0, 0, 0, 0, 0, 0, 0, 0, 0, 0, 0, 0, 0, 0, 0, 0, 0, 0, 0, 0, 0, 0, 0, 0, 0, 0, 0, 0, 0, 0, 0, 0, 0, 0, 0, 0, 0, 0, 0, 0, 0, 0, 0, 0, 0, 0, 0, 0, 0, 0, 0, 0, 0, 0, 0, 0, 0, 0, 0, 0, 0, 0, 0, 0, 0, 0, 0, 0, 0, 0, 0, 0, 0, 0, 0, 0, 0, 0, 0, 0, 0, 0, 0, 0, 0, 0, 0, 0, 0, 0, 0, 0, 0, 0, 0, 0, 0, 0, 0, 0, 0, 0, 0, 0, 0, 0, 0, 0, 0, 0, 0, 0, 0, 0, 0, 0, 0, 0, 0, 0, 0, 0, 0, 0, 0, 0, 0, 0, 0, 0, 0, 0, 0, 0, 0, 0, 0, 0, 0, 0, 0, 0, 0, 0, 0, 0, 0, 0, 0, 0, 0, 0, 0, 0, 0, 0, 0, 0, 0, 0, 0, 0, 0, 0, 0, 0, 0, 0, 0, 0, 0, 0, 0, 0, 0, 0, 0, 0, 0, 0, 0, 0, 0, 0, 0, 0, 0, 0, 0, 0, 0, 0, 0, 0, 0, 0, 0, 0, 0, 0, 0, 0, 0, 0, 0, 0, 0, 0, 0, 0, 0, 0, 0, 0, 0, 0, 0, 0, 0, 0, 0, 0, 0, 0, 0, 0, 0, 0, 0, 0, 0, 0, 0, 0, 0, 0, 0, 0, 0, 0, 0, 0, 0, 0, 0, 0, 0, 0, 0, 0, 0, 0, 0, 0, 0, 0, 0, 0, 0, 0, 0, 0, 0, 0, 0, 0, 0, 0, 0, 0, 0, 0, 0, 0, 0, 0, 0, 0, 0, 0, 0, 0, 0, 0, 0, 0, 0, 0, 0, 0, 0, 0, 0, 0, 0, 0, 0, 0, 0, 0, 0, 0, 0, 0, 0, 0, 0, 0, 0, 0, 0, 0, 0, 0, 0, 0, 0, 0, 0, 0, 0, 0, 0, 0, 0, 0, 0, 0, 0, 0, 0, 0, 0, 0, 0, 0, 0, 0, 0, 0, 0, 0, 0, 0, 0, 0, 0, 0, 0, 0, 0, 0, 0, 0, 0, 0, 0, 0, 0, 0, 0, 0, 0, 0, 0, 0, 0, 0, 0, 0, 0, 0, 0, 0, 0, 0, 0, 0, 0, 0, 0, 0, 0, 0, 0, 0, 0, 0, 0, 0, 0, 0, 0, 0, 0, 0, 0, 0, 0, 0, 0, 0, 0, 0, 0, 0, 0, 0, 0, 0, 0, 0, 0, 0, 0, 0, 0, 0, 0, 0, 0, 0, 0, 0, 0, 0, 0, 0, 0, 0, 0, 0, 0, 0, 0, 0, 0, 0, 0, 0, 0, 0, 0, 0, 0, 0, 0, 0, 0, 0, 0, 0, 0, 0, 0, 0, 0, 0, 0, 0, 0, 0, 0, 0, 0, 0, 0, 0, 0, 0, 0, 0, 0, 0, 0, 0, 0, 0, 0, 0, 0, 0, 0, 0, 0, 0, 0, 0, 0, 0, 0, 0, 0, 0, 0, 0, 0, 0, 0, 0, 0, 0, 0, 0, 0, 0, 0, 0, 0, 0, 0, 0, 0, 0, 0, 0, 0, 0, 0, 0, 0, 0, 0, 0, 0, 0, 0, 0, 0, 0, 0, 0, 0, 0, 0, 0, 0, 0, 0, 0, 0, 0, 0, 0, 0, 0, 0, 0, 0, 0, 0, 0, 0, 0, 0, 0, 0, 0, 0, 0, 0, 0, 0, 0, 0, 0, 0, 0, 0, 0, 0, 0, 0, 0, 0, 0, 0, 0, 0, 0, 0, 0, 0, 0, 0, 0, 0, 0, 0, 0, 0, 0, 0, 0, 0, 0, 0, 0, 0, 0, 0, 0, 0, 0, 0, 0, 0, 0, 0, 0, 0, 0, 0, 0, 0, 0, 0, 0, 0, 0, 0, 0, 0, 0, 0, 0, 0, 0, 0, 0, 0, 0, 0, 0, 0, 0, 0, 0, 0, 0, 0, 0, 0, 0, 0, 0, 0, 0, 0, 0, 0, 0, 0, 0, 0, 0, 0, 0, 0, 0, 0, 0, 0, 0, 0, 0, 0, 0, 0, 0, 0, 0, 0, 0, 0, 0, 0, 0, 0, 0, 0, 0, 0, 0, 0, 0, 0, 0, 0, 0, 0, 0, 0, 0, 0, 0, 0, 0, 0, 0, 0, 0, 0, 0, 0, 0, 0, 0, 0, 0, 0, 0, 0, 0, 0, 0, 0, 0, 0, 0, 0, 0, 0, 0, 0, 0, 0, 0, 0, 0, 0, 0, 0, 0, 0, 0, 0, 0, 0, 0, 0, 0, 0, 0, 0, 0, 0, 0, 0, 0, 0, 0, 0, 0, 0, 0, 0, 0, 0, 0, 0, 0, 0, 0, 0, 0, 0, 0, 0, 0, 0, 0, 0, 0, 0, 0, 0, 0, 0, 0, 0, 0, 0, 0, 0, 0, 0, 0, 0, 0, 0, 0, 0, 0, 0, 0, 0, 0, 0, 0, 0, 0, 0, 0, 0, 0, 0, 0, 0, 0, 0, 0, 0, 0, 0, 0, 0, 0, 0, 0, 0, 0, 0, 0, 0, 0, 0, 0, 0, 0, 0, 0, 0, 0, 0, 0, 0, 0, 0, 0, 0, 0, 0, 0, 0, 0, 0, 0, 0, 0, 0, 0, 0, 0, 0, 0, 0, 0, 0, 0, 0, 0, 0, 0, 0, 0, 0, 0, 0, 0, 0, 0, 0, 0, 0, 0, 0, 0, 0, 0, 0, 0, 0, 0, 0, 0, 0, 0, 0, 0, 0, 0, 0, 0, 0, 0, 0, 0, 0, 0, 0, 0, 0, 0, 0, 0, 0, 0, 0, 0, 0, 0, 0, 0, 0, 0, 0, 0, 0, 0, 0, 0, 0, 0, 0, 0, 0, 0, 0, 0, 0, 0, 0, 0, 0, 0, 0, 0, 0, 0, 0, 0, 0, 0, 0, 0, 0, 0, 0, 0, 0, 0, 0, 0, 0, 0, 0, 0, 0, 0, 0, 0, 0, 0, 0, 0, 0, 0, 0, 0, 0, 0, 0, 0, 0, 0, 0, 0, 0, 0, 0, 0, 0, 0, 0, 0, 0, 0, 0, 0, 0, 0, 0, 0, 0, 0, 0, 0, 0, 0, 0, 0, 0, 0, 0, 0, 0, 0, 0, 0, 0, 0, 0, 0, 0, 0, 0, 0, 0, 0, 0, 0, 0, 0, 0, 0, 0, 0, 0, 0, 0, 0, 0, 0, 0, 0, 0, 0, 0, 0, 0, 0, 0, 0, 0, 0, 0, 0, 0, 0, 0, 0, 0, 0, 0, 0, 0, 0, 0, 0, 0, 0, 0, 0, 0, 0, 0, 0, 0, 0, 0, 0, 0, 0, 0, 0, 0, 0, 0, 0, 0, 0, 0, 0, 0, 0, 0, 0, 0, 0, 0, 0, 0, 0, 0, 0, 0, 0, 0, 0, 0, 0, 0, 0, 0, 0, 0, 0, 0, 0, 0, 0, 0, 0, 0, 0, 0, 0, 0, 0, 0, 0, 0, 0, 0, 0, 0, 0, 0, 0, 0, 0, 0, 0, 0, 0, 0, 0, 0, 0, 0, 0, 0, 0, 0, 0, 0, 0, 0, 0, 0, 0, 0, 0, 0, 0, 0, 0, 0, 0, 0, 0, 0, 0, 0, 0, 0, 0, 0, 0, 0, 0, 0, 0, 0, 0, 0, 0, 0, 0, 0, 0, 0, 0, 0, 0, 0, 0, 0, 0, 0, 0, 0, 0, 0, 0, 0, 0, 0, 0, 0, 0, 0, 0, 0, 0, 0, 0, 0, 0, 0, 0, 0, 0, 0, 0, 0, 0, 0, 0, 0, 0, 0, 0, 0, 0, 0, 0, 0, 0, 0, 0, 0, 0, 0, 0, 0, 0, 0, 0, 0, 0, 0, 0, 0, 0, 0, 0, 0, 0, 0, 0, 0, 0, 0, 0, 0, 0, 0, 0, 0, 0, 0, 0, 0, 0, 0, 0, 0, 0, 0, 0, 0, 0, 0, 0, 0, 0, 0, 0, 0, 0, 0, 0, 0, 0, 0, 0, 0, 0, 0, 0, 0, 0, 0, 0, 0, 0, 0, 0, 0, 0, 0, 0, 0, 0, 0, 0, 0, 0, 0, 0, 0, 0, 0, 0, 0, 0, 0, 0, 0, 0, 0, 0, 0, 0, 0, 0, 0, 0, 0, 0, 0, 0, 0, 0, 0, 0, 0, 0, 0, 0, 0, 0, 0, 0, 0, 0, 0, 0, 0, 0, 0, 0, 0, 0, 0, 0, 0, 0, 0, 0, 0, 0, 0, 0, 0, 0, 0, 0, 0, 0, 0, 0, 0, 0, 0, 0, 0, 0, 0, 0, 0, 0, 0, 0, 0, 0, 0, 0, 0, 0, 0, 0, 0, 0, 0, 0, 0, 0, 0, 0, 0, 0, 0, 0, 0, 0, 0, 0, 0, 0, 0, 0, 0, 0, 0, 0, 0, 0, 0, 0, 0, 0, 0, 0, 0, 0, 0, 0, 0, 0, 0, 0, 0, 0, 0, 0, 0, 0, 0, 0, 0, 0, 0, 0, 0, 0, 0, 0, 0, 0, 0, 0, 0, 0, 0, 0, 0, 0, 0, 0, 0, 0, 0, 0, 0, 0, 0, 0, 0, 0, 0, 0, 0, 0, 0, 0, 0, 0, 0, 0, 0, 0, 0, 0, 0, 0, 0, 0, 0, 0, 0, 0, 0, 0, 0, 0, 0, 0, 0, 0, 0, 0, 0, 0, 0, 0, 0, 0, 0, 0, 0, 0, 0, 0, 0, 0, 0, 0, 0, 0, 0, 0, 0, 0, 0, 0, 0, 0, 0, 0, 0, 0, 0, 0, 0, 0, 0, 0, 0, 0, 0, 0, 0, 0, 0, 0, 0, 0, 0, 0, 0, 0, 0, 0, 0, 0, 0, 0, 0, 0, 0, 0, 0, 0, 0, 0, 0, 0, 0, 0, 0, 0, 0, 0, 0, 0, 0, 0, 0, 0, 0, 0, 0, 0, 0, 0, 0, 0, 0, 0, 0, 0, 0, 0, 0, 0, 0, 0, 0, 0, 0, 0, 0, 0, 0, 0, 0, 0, 0, 0, 0, 0, 0, 0, 0, 0, 0, 0, 0, 0, 0, 0, 0, 0, 0, 0, 0, 0, 0, 0, 0, 0, 0, 0, 0, 0, 0, 0, 0, 0, 0, 0, 0, 0, 0, 0, 0, 0, 0, 0, 0, 0, 0, 0, 0, 0, 0, 0, 0, 0, 0, 0, 0, 0, 0, 0, 0, 0, 0, 0, 0, 0, 0, 0, 0, 0, 0, 0, 0, 0, 0, 0, 0, 0, 0, 0, 0, 0, 0, 0, 0, 0, 0, 0, 0, 0, 0, 0, 0, 0, 0, 0, 0, 0, 0, 0, 0, 0, 0, 0, 0, 0, 0, 0, 0, 0, 0, 0, 0, 0, 0, 0, 0, 0, 0, 0, 0, 0, 0, 0, 0, 0, 0, 0, 0, 0, 0, 0, 0, 0, 0, 0, 0, 0, 0, 0, 0, 0, 0, 0, 0, 0, 0, 0, 0, 0, 0, 0, 0, 0, 0, 0, 0, 0, 0, 0, 0, 0, 0, 0, 0, 0, 0, 0, 0, 0, 0, 0, 0, 0, 0, 0, 0, 0, 0, 0, 0, 0, 0, 0, 0, 0, 0, 0, 0, 0, 0, 0, 0, 0, 0, 0, 0, 0, 0, 0, 0, 0, 0, 0, 0, 0, 0, 0, 0, 0, 0, 0, 0, 0, 0, 0, 0, 0, 0, 0, 0, 0, 0, 0, 0, 0, 0, 0, 0, 0, 0, 0, 0, 0, 0, 0, 0, 0, 0, 0, 0, 0, 0, 0, 0, 0, 0, 0, 0, 0, 0, 0, 0, 0, 0, 0, 0, 0, 0, 0, 0, 0, 0, 0, 0, 0, 0, 0, 0, 0, 0, 0, 0, 0, 0, 0, 0, 0, 0, 0, 0, 0, 0, 0, 0, 0, 0, 0, 0, 0, 0, 0, 0, 0, 0, 0, 0, 0, 0, 0, 0, 0, 0, 0, 0, 0, 0, 0, 0, 0, 0, 0, 0, 0, 0, 0, 0, 0, 0, 0, 0, 0, 0, 0, 0, 0, 0, 0, 0, 0, 0, 0, 0, 0, 0, 0, 0, 0, 0, 0, 0, 0, 0, 0, 0, 0, 0, 0, 0, 0, 0, 0, 0, 0, 0, 0, 0, 0, 0, 0, 0, 0, 0, 0, 0, 0, 0, 0, 0, 0, 0, 0, 0, 0, 0, 0, 0, 0, 0, 0, 0, 0, 0, 0, 0, 0, 0, 0, 0, 0, 0, 0, 0, 0, 0, 0, 0, 0, 0, 0, 0, 0, 0, 0, 0, 0, 0, 0, 0, 0, 0, 0, 0, 0, 0, 0, 0, 0, 0, 0, 0, 0, 0, 0, 0, 0, 0, 0, 0, 0, 0, 0, 0, 0, 0, 0, 0, 0, 0, 0, 0, 0, 0, 0, 0, 0, 0, 0, 0, 0, 0, 0, 0, 0, 0, 0, 0, 0, 0, 0, 0, 0, 0, 0, 0, 0, 0, 0, 0, 0, 0, 0, 0, 0, 0, 0, 0, 0, 0, 0, 0, 0, 0, 0, 0, 0, 0, 0, 0, 0, 0, 0, 0, 0, 0, 0, 0, 0, 0, 0, 0, 0, 0, 0, 0, 0, 0, 0, 0, 0, 0, 0, 0, 0, 0, 0, 0, 0, 0, 0, 0, 0, 0, 0, 0, 0, 0, 0, 0, 0, 0, 0, 0, 0, 0, 0, 0, 0, 0, 0, 0, 0, 0, 0, 0, 0, 0, 0, 0, 0, 0, 0, 0, 0, 0, 0, 0, 0, 0, 0, 0, 0, 0, 0, 0, 0, 0, 0, 0, 0, 0, 0, 0, 0, 0, 0, 0, 0, 0, 0, 0, 0, 0, 0, 0, 0, 0, 0, 0, 0, 0, 0, 0, 0, 0, 0, 0, 0, 0, 0, 0, 0, 0, 0, 0, 0, 0, 0, 0, 0, 0, 0, 0, 0, 0, 0, 0, 0, 0, 0, 0, 0, 0, 0, 0, 0, 0, 0, 0, 0, 0, 0, 0, 0, 0, 0, 0, 0, 0, 0, 0, 0, 0, 0, 0, 0, 0, 0, 0, 0, 0, 0, 0, 0, 0, 0, 0, 0, 0, 0, 0, 0, 0, 0, 0, 0, 0, 0, 0, 0, 0, 0, 0, 0, 0, 0, 0, 0, 0, 0, 0, 0, 0, 0, 0, 0, 0, 0, 0, 0, 0, 0, 0, 0, 0, 0, 0, 0, 0, 0, 0, 0, 0, 0, 0, 0, 0, 0, 0, 0, 0, 0, 0, 0, 0, 0, 0, 0, 0, 0, 0, 0, 0, 0, 0, 0, 0, 0, 0, 0, 0, 0, 0, 0, 0, 0, 0, 0, 0, 0, 0, 0, 0, 0, 0, 0, 0, 0, 0, 0, 0, 0, 0, 0, 0, 0, 0, 0, 0, 0, 0, 0, 0, 0, 0, 0, 0, 0, 0, 0, 0, 0, 0, 0, 0, 0, 0, 0, 0, 0, 0, 0, 0, 0, 0, 0, 0, 0, 0, 0, 0, 0, 0, 0, 0, 0, 0, 0, 0, 0, 0, 0, 0, 0, 0, 0, 0, 0, 0, 0, 0, 0, 0, 0, 0, 0, 0, 0, 0, 0, 0, 0, 0, 0, 0, 0, 0, 0, 0, 0, 0, 0, 0, 0, 0, 0, 0, 0, 0, 0, 0, 0, 0, 0, 0, 0, 0, 0, 0, 0, 0, 0, 0, 0, 0, 0, 0, 0, 0, 0, 0, 0, 0, 0, 0, 0, 0, 0, 0, 0, 0, 0, 0, 0, 0, 0, 0, 0, 0, 0, 0, 0, 0, 0, 0, 0, 0, 0, 0, 0, 0, 0, 0, 0, 0, 0, 0, 0, 0, 0, 0, 0, 0, 0, 0, 0, 0, 0, 0, 0, 0, 0, 0, 0, 0, 0, 0, 0, 0, 0, 0, 0, 0, 0, 0, 0, 0, 0, 0, 0, 0, 0, 0, 0, 0, 0, 0, 0, 0, 0, 0, 0, 0, 0, 0, 0, 0, 0, 0, 0, 0, 0, 0, 0, 0, 0, 0, 0, 0, 0, 0, 0, 0, 0, 0, 0, 0, 0, 0, 0, 0, 0, 0, 0, 0, 0, 0, 0, 0, 0, 0, 0, 0, 0, 0, 0, 0, 0, 0, 0, 0, 0, 0, 0, 0, 0, 0, 0, 0, 0, 0, 0, 0, 0, 0, 0, 0, 0, 0, 0, 0, 0, 0, 0, 0, 0, 0, 0, 0, 0, 0, 0, 0, 0, 0, 0, 0, 0, 0, 0, 0, 0, 0, 0, 0, 0, 0, 0, 0, 0, 0, 0, 0, 0, 0, 0, 0, 0, 0, 0, 0, 0, 0, 0, 0, 0, 0, 0, 0, 0, 0, 0, 0, 0, 0, 0, 0, 0, 0, 0, 0, 0, 0, 0, 0, 0, 0, 0, 0, 0, 0, 0, 0, 0, 0, 0, 0, 0, 0, 0, 0, 0, 0, 0, 0, 0, 0, 0, 0, 0, 0, 0, 0, 0, 0, 0, 0, 0, 0, 0, 0, 0, 0, 0, 0, 0, 0, 0, 0, 0, 0, 0, 0, 0, 0, 0, 0, 0, 0, 0, 0, 0, 0, 0, 0, 0, 0, 0, 0, 0, 0, 0, 0, 0, 0, 0, 0, 0, 0, 0, 0, 0, 0, 0, 0, 0, 0, 0, 0, 0, 0, 0, 0, 0, 0, 0, 0, 0, 0, 0, 0, 0, 0, 0, 0, 0, 0, 0, 0, 0, 0, 0, 0, 0, 0, 0, 0, 0, 0, 0, 0, 0, 0, 0, 0, 0, 0, 0, 0, 0, 0, 0, 0, 0, 0, 0, 0, 0, 0, 0, 0, 0, 0, 0, 0, 0, 0, 0, 0, 0, 0, 0, 0, 0, 0, 0, 0, 0, 0, 0, 0, 0, 0, 0, 0, 0, 0, 0, 0, 0, 0, 0, 0, 0, 0, 0, 0, 0, 0, 0, 0, 0, 0, 0, 0, 0, 0, 0, 0, 0, 0, 0, 0, 0, 0, 0, 0, 0, 0, 0, 0, 0, 0, 0, 0, 0, 0, 0, 0, 0, 0, 0, 0, 0, 0, 0, 0, 0, 0, 0, 0, 0, 0, 0, 0, 0, 0, 0, 0, 0, 0, 0, 0, 0, 0, 0, 0, 0, 0, 0, 0, 0, 0, 0, 0, 0, 0, 0, 0, 0, 0, 0, 0, 0, 0, 0, 0, 0, 0, 0, 0, 0, 0, 0, 0, 0, 0, 0, 0, 0, 0, 0, 0, 0, 0, 0, 0, 0, 0, 0, 0, 0, 0, 0, 0, 0, 0, 0, 0, 0, 0, 0, 0, 0, 0, 0, 0, 0, 0, 0, 0, 0, 0, 0, 0, 0, 0, 0, 0, 0, 0, 0, 0, 0, 0, 0, 0, 0, 0, 0, 0, 0, 0, 0, 0, 0, 0, 0, 0, 0, 0, 0, 0, 0, 0, 0, 0, 0, 0, 0, 0, 0, 0, 0, 0, 0, 0, 0, 0, 0, 0, 0, 0, 0, 0, 0, 0, 0, 0, 0, 0, 0, 0, 0, 0, 0, 0, 0, 0, 0, 0, 0, 0, 0, 0, 0, 0, 0, 0, 0, 0, 0, 0, 0, 0, 0, 0, 0, 0, 0, 0, 0, 0, 0, 0, 0, 0, 0, 0, 0, 0, 0, 0, 0, 0, 0, 0, 0, 0, 0, 0, 0, 0, 0, 0, 0, 0, 0, 0, 0, 0, 0, 0, 0, 0, 0, 0, 0, 0, 0, 0, 0, 0, 0, 0, 0, 0, 0, 0, 0, 0, 0, 0, 0, 0, 0, 0, 0, 0, 0, 0, 0, 0, 0, 0, 0, 0, 0, 0, 0, 0, 0, 0, 0, 0, 0, 0, 0, 0, 0, 0, 0, 0, 0, 0, 0, 0, 0, 0, 0, 0, 0, 0, 0, 0, 0, 0, 0, 0, 0, 0, 0, 0, 0, 0, 0, 0, 0, 0, 0, 0, 0, 0, 0, 0, 0, 0, 0, 0, 0, 0, 0, 0, 0, 0, 0, 0, 0, 0, 0, 0, 0, 0, 0, 0, 0, 0, 0, 0, 0, 0, 0, 0, 0, 0, 0, 0, 0, 0, 0, 0, 0, 0, 0, 0, 0, 0, 0, 0, 0, 0, 0, 0, 0, 0, 0, 0, 0, 0, 0, 0, 0, 0, 0, 0, 0, 0, 0, 0, 0, 0, 0, 0, 0, 0, 0, 0, 0, 0, 0, 0, 0, 0, 0, 0, 0, 0, 0, 0, 0, 0, 0, 0, 0, 0, 0, 0, 0, 0, 0, 0, 0, 0, 0, 0, 0, 0, 0, 0, 0, 0, 0, 0, 0, 0, 0, 0, 0, 0, 0, 0, 0, 0, 0, 0, 0, 0, 0, 0, 0, 0, 0, 0, 0, 0, 0, 0, 0, 0, 0, 0, 0, 0, 0, 0, 0, 0, 0, 0, 0, 0, 0, 0, 0, 0, 0, 0, 0, 0, 0, 0, 0, 0, 0, 0, 0, 0, 0, 0, 0, 0, 0, 0, 0, 0, 0, 0, 0, 0, 0, 0, 0, 0, 0, 0, 0, 0, 0, 0, 0, 0, 0, 0, 0, 0, 0, 0, 0, 0, 0, 0, 0, 0, 0, 0, 0, 0, 0, 0, 0, 0, 0, 0, 0, 0, 0, 0, 0, 0, 0, 0, 0, 0, 0, 0, 0, 0, 0, 0, 0, 0, 0, 0, 0, 0, 0, 0, 0, 0, 0, 0, 0, 0, 0, 0, 0, 0, 0, 0, 0, 0, 0, 0, 0, 0, 0, 0, 0, 0, 0, 0, 0, 0, 0, 0, 0, 0, 0, 0, 0, 0, 0, 0, 0, 0, 0, 0, 0, 0, 0, 0, 0, 0, 0, 0, 0, 0, 0, 0, 0, 0, 0, 0, 0, 0, 0, 0, 0, 0, 0, 0, 0, 0, 0, 0, 0, 0, 0, 0, 0, 0, 0, 0, 0, 0, 0, 0, 0, 0, 0, 0, 0, 0, 0, 0, 0, 0, 0, 0, 0, 0, 0, 0, 0, 0, 0, 0, 0, 0, 0, 0, 0, 0, 0, 0, 0, 0, 0, 0, 0, 0, 0, 0, 0, 0, 0, 0, 0, 0, 0, 0, 0, 0, 0, 0, 0, 0, 0, 0, 0, 0, 0, 0, 0, 0, 0, 0, 0, 0, 0, 0, 0, 0, 0, 0, 0, 0, 0, 0, 0, 0, 0, 0, 0, 0, 0, 0, 0, 0, 0, 0, 0, 0, 0, 0, 0, 0, 0, 0, 0, 0, 0, 0, 0, 0, 0, 0, 0, 0, 0, 0, 0, 0, 0, 0, 0, 0, 0, 0, 0, 0, 0, 0, 0, 0, 0, 0, 0, 0, 0, 0, 0, 0, 0, 0, 0, 0, 0, 0, 0, 0, 0, 0, 0, 0, 0, 0, 0, 0, 0, 0, 0, 0, 0, 0, 0, 0, 0, 0, 0, 0, 0, 0, 0, 0, 0, 0, 0, 0, 0, 0, 0, 0, 0, 0, 0, 0, 0, 0, 0, 0, 0, 0, 0, 0, 0, 0, 0, 0, 0, 0, 0, 0, 0, 0, 0, 0, 0, 0, 0, 0, 0, 0, 0, 0, 0, 0, 0, 0, 0, 0, 0, 0, 0, 0, 0, 0, 0, 0, 0, 0, 0, 0, 0, 0, 0, 0, 0, 0, 0, 0, 0, 0, 0, 0, 0, 0, 0, 0, 0, 0, 0, 0, 0, 0, 0, 0, 0, 0, 0, 0, 0, 0, 0, 0, 0, 0, 0, 0, 0, 0, 0, 0, 0, 0, 0, 0, 0, 0, 0, 0, 0, 0, 0, 0, 0, 0, 0, 0, 0, 0, 0, 0, 0, 0, 0, 0, 0, 0, 0, 0, 0, 0, 0, 0, 0, 0, 0, 0, 0, 0, 0, 0, 0, 0, 0, 0, 0, 0, 0, 0, 0, 0, 0, 0, 0, 0, 0, 0, 0, 0, 0, 0, 0, 0, 0, 0, 0, 0, 0, 0, 0, 0, 0, 0, 0, 0, 0, 0, 0, 0, 0, 0, 0, 0, 0, 0, 0, 0, 0, 0, 0, 0, 0, 0, 0, 0, 0, 0, 0, 0, 0, 0, 0, 0, 0, 0, 0, 0, 0, 0, 0, 0, 0, 0, 0, 0, 0, 0, 0, 0, 0, 0, 0, 0, 0, 0, 0, 0, 0, 0, 0, 0, 0, 0, 0, 0, 0, 0, 0, 0, 0, 0, 0, 0, 0, 0, 0, 0, 0, 0, 0, 0, 0, 0, 0, 0, 0, 0, 0, 0, 0, 0, 0, 0, 0, 0, 0, 0, 0, 0, 0, 0, 0, 0, 0, 0, 0, 0, 0, 0, 0, 0, 0, 0, 0, 0, 0, 0, 0, 0, 0, 0, 0, 0, 0, 0, 0, 0, 0, 0, 0, 0, 0, 0, 0, 0, 0, 0, 0, 0, 0, 0, 0, 0, 0, 0, 0, 0, 0, 0, 0, 0, 0, 0, 0, 0, 0, 0, 0, 0, 0, 0, 0, 0, 0, 0, 0, 0, 0, 0, 0, 0, 0, 0, 0, 0, 0, 0, 0, 0, 0, 0, 0, 0, 0, 0, 0, 0, 0, 0, 0, 0, 0, 0, 0, 0, 0, 0, 0, 0, 0, 0, 0, 0, 0, 0, 0, 0, 0, 0, 0, 0, 0, 0, 0, 0, 0, 0, 0, 0, 0, 0, 0, 0, 0, 0, 0, 0, 0, 0, 0, 0, 0, 0, 0, 0, 0, 0, 0, 0, 0, 0, 0, 0, 0, 0, 0, 0, 0, 0, 0, 0, 0, 0, 0, 0, 0, 0, 0, 0, 0, 0, 0, 0, 0, 0, 0, 0, 0, 0, 0, 0, 0, 0, 0, 0, 0, 0, 0, 0, 0, 0, 0, 0, 0, 0, 0, 0, 0, 0, 0, 0, 0, 0, 0, 0, 0, 0, 0, 0, 0, 0, 0, 0, 0, 0, 0, 0, 0, 0, 0, 0, 0, 0, 0, 0, 0, 0, 0, 0, 0, 0, 0, 0, 0, 0, 0, 0, 0, 0, 0, 0, 0, 0, 0, 0, 0, 0, 0, 0, 0, 0, 0, 0, 0, 0, 0, 0, 0, 0, 0, 0, 0, 0, 0, 0, 0, 0, 0, 0, 0, 0, 0, 0, 0, 0, 0, 0, 0, 0, 0, 0, 0, 0, 0, 0, 0, 0, 0, 0, 0, 0, 0, 0, 0, 0, 0, 0, 0, 0, 0, 0, 0, 0, 0, 0, 0, 0, 0, 0, 0, 0, 0, 0, 0, 0, 0, 0, 0, 0, 0, 0, 0, 0, 0, 0, 0, 0, 0, 0, 0, 0, 0, 0, 0, 0, 0, 0, 0, 0, 0, 0, 0, 0, 0, 0, 0, 0, 0, 0, 0, 0, 0, 0, 0, 0, 0, 0, 0, 0, 0, 0, 0, 0, 0, 0, 0, 0, 0, 0, 0, 0, 0, 0, 0, 0, 0, 0, 0, 0, 0, 0, 0, 0, 0, 0, 0, 0, 0, 0, 0, 0, 0, 0, 0, 0, 0, 0, 0, 0, 0, 0, 0, 0, 0, 0, 0, 0, 0, 0, 0, 0, 0, 0, 0, 0, 0, 0, 0, 0, 0, 0, 0, 0, 0, 0, 0, 0, 0, 0, 0, 0, 0, 0, 0, 0, 0, 0, 0, 0, 0, 0, 0, 0, 0, 0, 0, 0, 0, 0, 0, 0, 0, 0, 0, 0, 0, 0, 0, 0, 0, 0, 0, 0, 0, 0, 0, 0, 0, 0, 0, 0, 0, 0, 0, 0, 0, 0, 0, 0, 0, 0, 0, 0, 0, 0, 0, 0, 0, 0, 0, 0, 0, 0, 0, 0, 0, 0, 0, 0, 0, 0, 0, 0, 0, 0, 0, 0, 0, 0, 0, 0, 0, 0, 0, 0, 0, 0, 0, 0, 0, 0, 0, 0, 0, 0, 0, 0, 0, 0, 0, 0, 0, 0, 0, 0, 0, 0, 0, 0, 0, 0, 0, 0, 0, 0, 0, 0, 0, 0, 0, 0, 0, 0, 0, 0, 0, 0, 0, 0, 0, 0, 0, 0, 0, 0, 0, 0, 0, 0, 0, 0, 0, 0, 0, 0, 0, 0, 0, 0, 0, 0, 0, 0, 0, 0, 0, 0, 0, 0, 0, 0, 0, 0, 0, 0, 0, 0, 0, 0, 0, 0, 0, 0, 0, 0, 0, 0, 0, 0, 0, 0, 0, 0, 0, 0, 0, 0, 0, 0, 0, 0, 0, 0, 0, 0, 0, 0, 0, 0, 0, 0, 0, 0, 0, 0, 0, 0, 0, 0, 0, 0, 0, 0, 0, 0, 0, 0, 0, 0, 0, 0, 0, 0, 0, 0, 0, 0, 0, 0, 0, 0, 0, 0, 0, 0, 0, 0, 0, 0, 0, 0, 0, 0, 0, 0, 0, 0, 0, 0, 0, 0, 0, 0, 0, 0, 0, 0, 0, 0, 0, 0, 0, 0, 0, 0, 0, 0, 0, 0, 0, 0, 0, 0, 0, 0, 0, 0, 0, 0, 0, 0, 0, 0, 0, 0, 0, 0, 0, 0, 0, 0, 0, 0, 0, 0, 0, 0, 0, 0, 0, 0, 0, 0, 0, 0, 0, 0, 0, 0, 0, 0, 0, 0, 0, 0, 0, 0, 0, 0, 0, 0, 0, 0, 0, 0, 0, 0, 0, 0, 0, 0, 0, 0, 0, 0, 0, 0, 0, 0, 0, 0, 0, 0, 0, 0, 0, 0, 0, 0, 0, 0, 0, 0, 0, 0, 0, 0, 0, 0, 0, 0, 0, 0, 0, 0, 0, 0, 0, 0, 0, 0, 0, 0, 0, 0, 0, 0, 0, 0, 0, 0, 0, 0, 0, 0, 0, 0, 0, 0, 0, 0, 0, 0, 0, 0, 0, 0, 0, 0, 0, 0, 0, 0, 0, 0, 0, 0, 0, 0, 0, 0, 0, 0, 0, 0, 0, 0, 0, 0, 0, 0, 0, 0, 0, 0, 0, 0, 0, 0, 0, 0, 0, 0, 0, 0, 0, 0, 0, 0, 0, 0, 0, 0, 0, 0, 0, 0, 0, 0, 0, 0, 0, 0, 0, 0, 0, 0, 0, 0, 0, 0, 0, 0, 0, 0, 0, 0, 0, 0, 0, 0, 0, 0, 0, 0, 0, 0, 0, 0, 0, 0, 0, 0, 0, 0, 0, 0, 0, 0, 0, 0, 0, 0, 0, 0, 0, 0, 0, 0, 0, 0, 0, 0, 0, 0, 0, 0, 0, 0, 0, 0, 0, 0, 0, 0, 0, 0, 0, 0, 0, 0, 0, 0, 0, 0, 0, 0, 0, 0, 0, 0, 0, 0, 0, 0, 0, 0, 0, 0, 0, 0, 0, 0, 0, 0, 0, 0, 0, 0, 0, 0, 0, 0, 0, 0, 0, 0, 0, 0, 0, 0, 0, 0, 0, 0, 0, 0, 0, 0, 0, 0, 0, 0, 0, 0, 0, 0, 0, 0, 0, 0, 0, 0, 0, 0, 0, 0, 0, 0, 0, 0, 0, 0, 0, 0, 0, 0, 0, 0, 0, 0, 0, 0, 0, 0, 0, 0, 0, 0, 0, 0, 0, 0, 0, 0, 0, 0, 0, 0, 0, 0, 0, 0, 0, 0, 0, 0, 0, 0, 0, 0, 0, 0, 0, 0, 0, 0, 0, 0, 0, 0, 0, 0, 0, 0, 0, 0, 0, 0, 0, 0, 0, 0, 0, 0, 0, 0, 0, 0, 0, 0, 0, 0, 0, 0, 0, 0, 0, 0, 0, 0, 0, 0, 0, 0, 0, 0, 0, 0, 0, 0, 0, 0, 0, 0, 0, 0, 0, 0, 0, 0, 0, 0, 0, 0, 0, 0, 0, 0, 0, 0, 0, 0, 0, 0, 0, 0, 0, 0, 0, 0, 0, 0, 0, 0, 0, 0, 0, 0, 0, 0, 0, 0, 0, 0, 0, 0, 0, 0, 0, 0, 0, 0, 0, 0, 0, 0, 0, 0, 0, 0, 0, 0, 0, 0, 0, 0, 0, 0, 0, 0, 0, 0, 0, 0, 0, 0, 0, 0, 0, 0, 0, 0, 0, 0, 0, 0, 0, 0, 0, 0, 0, 0, 0, 0, 0, 0, 0, 0, 0, 0, 0, 0, 0, 0, 0, 0, 0, 0, 0, 0, 0, 0, 0, 0, 0, 0, 0, 0, 0, 0, 0, 0, 0, 0, 0, 0, 0, 0, 0, 0, 0, 0, 0, 0, 0, 0, 0, 0, 0, 0, 0, 0, 0, 0, 0, 0, 0, 0, 0, 0, 0, 0, 0, 0, 0, 0, 0, 0, 0, 0, 0, 0, 0, 0, 0, 0, 0, 0, 0, 0, 0, 0, 0, 0, 0, 0, 0, 0, 0, 0, 0, 0, 0, 0, 0, 0, 0, 0, 0, 0, 0, 0, 0, 0, 0, 0, 0, 0, 0, 0, 0, 0, 0, 0, 0, 0, 0, 0, 0, 0, 0, 0, 0, 0, 0, 0, 0, 0, 0, 0, 0, 0, 0, 0, 0, 0, 0, 0, 0, 0, 0, 0, 0, 0, 0, 0, 0, 0, 0, 0, 0, 0, 0, 0, 0, 0, 0, 0, 0, 0, 0, 0, 0, 0, 0, 0, 0, 0, 0, 0, 0, 0, 0, 0, 0, 0, 0, 0, 0, 0, 0, 0, 0, 0, 0, 0, 0, 0, 0, 0, 0, 0, 0, 0, 0, 0, 0, 0, 0, 0, 0, 0, 0, 0, 0, 0, 0, 0, 0, 0, 0, 0, 0, 0, 0, 0, 0, 0, 0, 0, 0, 0, 0, 0, 0, 0, 0, 0, 0, 0, 0, 0, 0, 0, 0, 0, 0, 0, 0, 0, 0, 0, 0, 0, 0, 0, 0, 0, 0, 0, 0, 0, 0, 0, 0, 0, 0, 0, 0, 0, 0, 0, 0, 0, 0, 0, 0, 0, 0, 0, 0, 0, 0, 0, 0, 0, 0, 0, 0, 0, 0, 0, 0, 0, 0, 0, 0, 0, 0, 0, 0, 0, 0, 0, 0, 0, 0, 0, 0, 0, 0, 0, 0, 0, 0, 0, 0, 0, 0, 0, 0, 0, 0, 0, 0, 0, 0, 0, 0, 0, 0, 0, 0, 0, 0, 0, 0, 0, 0, 0, 0, 0, 0, 0, 0, 0, 0, 0, 0, 0, 0, 0, 0, 0, 0, 0, 0, 0, 0, 0, 0, 0, 0, 0, 0, 0, 0, 0, 0, 0, 0, 0, 0, 0, 0, 0, 0, 0, 0, 0, 0, 0, 0, 0, 0, 0, 0, 0, 0, 0, 0, 0, 0, 0, 0, 0, 0, 0, 0, 0, 0, 0, 0, 0, 0, 0, 0, 0, 0, 0, 0, 0, 0, 0, 0, 0, 0, 0, 0, 0, 0, 0, 0, 0, 0, 0, 0, 0, 0, 0, 0, 0, 0, 0, 0, 0, 0, 0, 0, 0, 0, 0, 0, 0, 0, 0, 0, 0, 0, 0, 0, 0, 0, 0, 0, 0, 0, 0, 0, 0, 0, 0, 0, 0, 0, 0, 0, 0, 0, 0, 0, 0, 0, 0, 0, 0, 0, 0, 0, 0, 0, 0, 0, 0, 0, 0, 0, 0, 0, 0, 0, 0, 0, 0, 0, 0, 0, 0, 0, 0, 0, 0, 0, 0, 0, 0, 0, 0, 0, 0, 0, 0, 0, 0, 0, 0, 0, 0, 0, 0, 0, 0, 0, 0, 0, 0, 0, 0, 0, 0, 0, 0, 0, 0, 0, 0, 0, 0, 0, 0, 0, 0, 0, 0, 0, 0, 0, 0, 0, 0, 0, 0, 0, 0, 0, 0, 0, 0, 0, 0, 0, 0, 0, 0, 0, 0, 0, 0, 0, 0, 0, 0, 0, 0, 0, 0, 0, 0, 0, 0, 0, 0, 0, 0, 0, 0, 0, 0, 0, 0, 0, 0, 0, 0, 0, 0, 0, 0, 0, 0, 0, 0, 0, 0, 0, 0, 0, 0, 0, 0, 0, 0, 0, 0, 0, 0, 0, 0, 0, 0, 0, 0, 0, 0, 0, 0, 0, 0, 0, 0, 0, 0, 0, 0, 0, 0, 0, 0, 0, 0, 0, 0, 0, 0, 0, 0, 0, 0, 0, 0, 0, 0, 0, 0, 0, 0, 0, 0, 0, 0, 0, 0, 0, 0, 0, 0, 0, 0, 0, 0, 0, 0, 0, 0, 0, 0, 0, 0, 0, 0, 0, 0, 0, 0, 0, 0, 0, 0, 0, 0, 0, 0, 0, 0, 0, 0, 0, 0, 0, 0, 0, 0, 0, 0, 0, 0, 0, 0, 0, 0, 0, 0, 0, 0, 0, 0, 0, 0, 0, 0, 0, 0, 0, 0, 0, 0, 0, 0, 0, 0, 0, 0, 0, 0, 0, 0, 0, 0, 0, 0, 0, 0, 0, 0, 0, 0, 0, 0, 0, 0, 0, 0, 0, 0, 0, 0, 0, 0, 0, 0, 0, 0, 0, 0, 0, 0, 0, 0, 0, 0, 0, 0, 0, 0, 0, 0, 0, 0, 0, 0, 0, 0, 0, 0, 0, 0, 0, 0, 0, 0, 0, 0, 0, 0, 0, 0, 0, 0, 0, 0, 0, 0, 0, 0, 0, 0, 0, 0, 0, 0, 0, 0, 0, 0, 0, 0, 0, 0, 0, 0, 0, 0, 0, 0, 0, 0, 0, 0, 0, 0, 0, 0, 0, 0, 0, 0, 0, 0, 0, 0, 0, 0, 0, 0, 0, 0, 0, 0, 0, 0, 0, 0, 0, 0, 0, 0, 0, 0, 0, 0, 0, 0, 0, 0, 0, 0, 0, 0, 0, 0, 0, 0, 0, 0, 0, 0, 0, 0, 0, 0, 0, 0, 0, 0, 0, 0, 0, 0, 0, 0, 0, 0, 0, 0, 0, 0, 0, 0, 0, 0, 0, 0, 0, 0, 0, 0, 0, 0, 0, 0, 0, 0, 0, 0, 0, 0, 0, 0, 0, 0, 0, 0, 0, 0, 0, 0, 0, 0, 0, 0, 0, 0, 0, 0, 0, 0, 0, 0, 0, 0, 0, 0, 0, 0, 0, 0, 0, 0, 0, 0, 0, 0, 0, 0, 0, 0, 0, 0, 0, 0, 0, 0, 0, 0, 0, 0, 0, 0, 0, 0, 0, 0, 0, 0, 0, 0, 0, 0, 0, 0, 0, 0, 0, 0, 0, 0, 0, 0, 0, 0, 0, 0, 0, 0, 0, 0, 0, 0, 0, 0, 0, 0, 0, 0, 0, 0, 0, 0, 0, 0, 0, 0, 0]] [[1453, 1455, 1456, 1454, 1247, 1247, 1247, 1247, 1247, 1247, 1247, 1033, 1033, 1247, 1033, 1709, 1453, 1454, 1455, 1456, 2574, 880, 4626, 892, 4621, 5408, 587, 893, 4622, 588, 1460, 1495, 1817, 1981, 889, 4479, 1307, 644, 1828, 1975, 2294, 2319, 2729, 2797, 1812, 4384, 4389, 4385, 4391, 4387, 4393, 4386, 4383, 2332, 4392, 4394, 4395, 4396, 4390, 4397, 4388, 1356, 1356, 1356, 1356, 1356, 1356, 1356, 1356, 1356, 1356, 1356, 1356, 1356, 1356, 1356, 1356, 1356, 1356, 1356, 1356, 1356, 1356, 1356, 1356, 611, 3209, 3927, 4015, 4015, 0, 0, 0, 0, 0, 0, 0, 0, 0, 0, 0, 0, 0, 0, 0, 0, 0, 0, 0, 0, 0, 0, 0, 0, 0, 0, 0, 0, 0, 0, 0, 0, 0, 0, 0, 0, 0, 0, 0, 0, 0, 0, 0, 0, 0, 0, 0, 0, 0, 0, 0, 0, 0, 0, 0, 0, 0, 0, 0, 0, 0, 0, 0, 0, 0, 0, 0, 0, 0, 0, 0, 0, 0, 0, 0, 0, 0, 0, 0, 0, 0, 0, 0, 0, 0, 0, 0, 0, 0, 0, 0, 0, 0, 0, 0, 0, 0, 0, 0, 0, 0, 0, 0, 0, 0, 0, 0, 0, 0, 0, 0, 0, 0, 0, 0, 0, 0, 0, 0, 0, 0, 0, 0, 0, 0, 0, 0, 0, 0, 0, 0, 0, 0, 0, 0, 0, 0, 0, 0, 0, 0, 0, 0, 0, 0, 0, 0, 0, 0, 0, 0, 0, 0, 0, 0, 0, 0, 0, 0, 0, 0, 0, 0, 0, 0, 0, 0, 0, 0, 0, 0, 0, 0, 0, 0, 0, 0, 0, 0, 0, 0, 0, 0, 0, 0, 0, 0, 0, 0, 0, 0, 0, 0, 0, 0, 0, 0, 0, 0, 0, 0, 0, 0, 0, 0, 0, 0, 0, 0, 0, 0, 0, 0, 0, 0, 0, 0, 0, 0, 0, 0, 0, 0, 0, 0, 0, 0, 0, 0, 0, 0, 0, 0, 0, 0, 0, 0, 0, 0, 0, 0, 0, 0, 0, 0, 0, 0, 0, 0, 0, 0, 0, 0, 0, 0, 0, 0, 0, 0, 0, 0, 0, 0, 0, 0, 0, 0, 0, 0, 0, 0, 0, 0, 0, 0, 0, 0, 0, 0, 0, 0, 0, 0, 0, 0, 0, 0, 0, 0, 0, 0, 0, 0, 0, 0, 0, 0, 0, 0, 0, 0, 0, 0, 0, 0, 0, 0, 0, 0, 0, 0, 0, 0, 0, 0, 0, 0, 0, 0, 0, 0, 0, 0, 0, 0, 0, 0, 0, 0, 0, 0, 0, 0, 0, 0, 0, 0, 0, 0, 0, 0, 0, 0, 0, 0, 0, 0, 0, 0, 0, 0, 0, 0, 0, 0, 0, 0, 0, 0, 0, 0, 0, 0, 0, 0, 0, 0, 0, 0, 0, 0, 0, 0, 0, 0, 0, 0, 0, 0, 0, 0, 0, 0, 0, 0, 0, 0, 0, 0, 0, 0, 0, 0, 0, 0, 0, 0, 0, 0, 0, 0, 0, 0, 0, 0, 0, 0, 0, 0, 0, 0, 0, 0, 0, 0, 0, 0, 0, 0, 0, 0, 0, 0, 0, 0, 0, 0, 0, 0, 0, 0, 0, 0, 0, 0, 0, 0, 0, 0, 0, 0, 0, 0, 0, 0, 0, 0, 0, 0, 0, 0, 0, 0, 0, 0, 0, 0, 0, 0, 0, 0, 0, 0, 0, 0, 0, 0, 0, 0, 0, 0, 0, 0, 0, 0, 0, 0, 0, 0, 0, 0, 0, 0, 0, 0, 0, 0, 0, 0, 0, 0, 0, 0, 0, 0, 0, 0, 0, 0, 0, 0, 0, 0, 0, 0, 0, 0, 0, 0, 0, 0, 0, 0, 0, 0, 0, 0, 0, 0, 0, 0, 0, 0, 0, 0, 0, 0, 0, 0, 0, 0, 0, 0, 0, 0, 0, 0, 0, 0, 0, 0, 0, 0, 0, 0, 0, 0, 0, 0, 0, 0, 0, 0, 0, 0, 0, 0, 0, 0, 0, 0, 0, 0, 0, 0, 0, 0, 0, 0, 0, 0, 0, 0, 0, 0, 0, 0, 0, 0, 0, 0, 0, 0, 0, 0, 0, 0, 0, 0, 0, 0, 0, 0, 0, 0, 0, 0, 0, 0, 0, 0, 0, 0, 0, 0, 0, 0, 0, 0, 0, 0, 0, 0, 0, 0, 0, 0, 0, 0, 0, 0, 0, 0, 0, 0, 0, 0, 0, 0, 0, 0, 0, 0, 0, 0, 0, 0, 0, 0, 0, 0, 0, 0, 0, 0, 0, 0, 0, 0, 0, 0, 0, 0, 0, 0, 0, 0, 0, 0, 0, 0, 0, 0, 0, 0, 0, 0, 0, 0, 0, 0, 0, 0, 0, 0, 0, 0, 0, 0, 0, 0, 0, 0, 0, 0, 0, 0, 0, 0, 0, 0, 0, 0, 0, 0, 0, 0, 0, 0, 0, 0, 0, 0, 0, 0, 0, 0, 0, 0, 0, 0, 0, 0, 0, 0, 0, 0, 0, 0, 0, 0, 0, 0, 0, 0, 0, 0, 0, 0, 0, 0, 0, 0, 0, 0, 0, 0, 0, 0, 0, 0, 0, 0, 0, 0, 0, 0, 0, 0, 0, 0, 0, 0, 0, 0, 0, 0, 0, 0, 0, 0, 0, 0, 0, 0, 0, 0, 0, 0, 0, 0, 0, 0, 0, 0, 0, 0, 0, 0, 0, 0, 0, 0, 0, 0, 0, 0, 0, 0, 0, 0, 0, 0, 0, 0, 0, 0, 0, 0, 0, 0, 0, 0, 0, 0, 0, 0, 0, 0, 0, 0, 0, 0, 0, 0, 0, 0, 0, 0, 0, 0, 0, 0, 0, 0, 0, 0, 0, 0, 0, 0, 0, 0, 0, 0, 0, 0, 0, 0, 0, 0, 0, 0, 0, 0, 0, 0, 0, 0, 0, 0, 0, 0, 0, 0, 0, 0, 0, 0, 0, 0, 0, 0, 0, 0, 0, 0, 0, 0, 0, 0, 0, 0, 0, 0, 0, 0, 0, 0, 0, 0, 0, 0, 0, 0, 0, 0, 0, 0, 0, 0, 0, 0, 0, 0, 0, 0, 0, 0, 0, 0, 0, 0, 0, 0, 0, 0, 0, 0, 0, 0, 0, 0, 0, 0, 0, 0, 0, 0, 0, 0, 0, 0, 0, 0, 0, 0, 0, 0, 0, 0, 0, 0, 0, 0, 0, 0, 0, 0, 0, 0, 0, 0, 0, 0, 0, 0, 0, 0, 0, 0, 0, 0, 0, 0, 0, 0, 0, 0, 0, 0, 0, 0, 0, 0, 0, 0, 0, 0, 0, 0, 0, 0, 0, 0, 0, 0, 0, 0, 0, 0, 0, 0, 0, 0, 0, 0, 0, 0, 0, 0, 0, 0, 0, 0, 0, 0, 0, 0, 0, 0, 0, 0, 0, 0, 0, 0, 0, 0, 0, 0, 0, 0, 0, 0, 0, 0, 0, 0, 0, 0, 0, 0, 0, 0, 0, 0, 0, 0, 0, 0, 0, 0, 0, 0, 0, 0, 0, 0, 0, 0, 0, 0, 0, 0, 0, 0, 0, 0, 0, 0, 0, 0, 0, 0, 0, 0, 0, 0, 0, 0, 0, 0, 0, 0, 0, 0, 0, 0, 0, 0, 0, 0, 0, 0, 0, 0, 0, 0, 0, 0, 0, 0, 0, 0, 0, 0, 0, 0, 0, 0, 0, 0, 0, 0, 0, 0, 0, 0, 0, 0, 0, 0, 0, 0, 0, 0, 0, 0, 0, 0, 0, 0, 0, 0, 0, 0, 0, 0, 0, 0, 0, 0, 0, 0, 0, 0, 0, 0, 0, 0, 0, 0, 0, 0, 0, 0, 0, 0, 0, 0, 0, 0, 0, 0, 0, 0, 0, 0, 0, 0, 0, 0, 0, 0, 0, 0, 0, 0, 0, 0, 0, 0, 0, 0, 0, 0, 0, 0, 0, 0, 0, 0, 0, 0, 0, 0, 0, 0, 0, 0, 0, 0, 0, 0, 0, 0, 0, 0, 0, 0, 0, 0, 0, 0, 0, 0, 0, 0, 0, 0, 0, 0, 0, 0, 0, 0, 0, 0, 0, 0, 0, 0, 0, 0, 0, 0, 0, 0, 0, 0, 0, 0, 0, 0, 0, 0, 0, 0, 0, 0, 0, 0, 0, 0, 0, 0, 0, 0, 0, 0, 0, 0, 0, 0, 0, 0, 0, 0, 0, 0, 0, 0, 0, 0, 0, 0, 0, 0, 0, 0, 0, 0, 0, 0, 0, 0, 0, 0, 0, 0, 0, 0, 0, 0, 0, 0, 0, 0, 0, 0, 0, 0, 0, 0, 0, 0, 0, 0, 0, 0, 0, 0, 0, 0, 0, 0, 0, 0, 0, 0, 0, 0, 0, 0, 0, 0, 0, 0, 0, 0, 0, 0, 0, 0, 0, 0, 0, 0, 0, 0, 0, 0, 0, 0, 0, 0, 0, 0, 0, 0, 0, 0, 0, 0, 0, 0, 0, 0, 0, 0, 0, 0, 0, 0, 0, 0, 0, 0, 0, 0, 0, 0, 0, 0, 0, 0, 0, 0, 0, 0, 0, 0, 0, 0, 0, 0, 0, 0, 0, 0, 0, 0, 0, 0, 0, 0, 0, 0, 0, 0, 0, 0, 0, 0, 0, 0, 0, 0, 0, 0, 0, 0, 0, 0, 0, 0, 0, 0, 0, 0, 0, 0, 0, 0, 0, 0, 0, 0, 0, 0, 0, 0, 0, 0, 0, 0, 0, 0, 0, 0, 0, 0, 0, 0, 0, 0, 0, 0, 0, 0, 0, 0, 0, 0, 0, 0, 0, 0, 0, 0, 0, 0, 0, 0, 0, 0, 0, 0, 0, 0, 0, 0, 0, 0, 0, 0, 0, 0, 0, 0, 0, 0, 0, 0, 0, 0, 0, 0, 0, 0, 0, 0, 0, 0, 0, 0, 0, 0, 0, 0, 0, 0, 0, 0, 0, 0, 0, 0, 0, 0, 0, 0, 0, 0, 0, 0, 0, 0, 0, 0, 0, 0, 0, 0, 0, 0, 0, 0, 0, 0, 0, 0, 0, 0, 0, 0, 0, 0, 0, 0, 0, 0, 0, 0, 0, 0, 0, 0, 0, 0, 0, 0, 0, 0, 0, 0, 0, 0, 0, 0, 0, 0, 0, 0, 0, 0, 0, 0, 0, 0, 0, 0, 0, 0, 0, 0, 0, 0, 0, 0, 0, 0, 0, 0, 0, 0, 0, 0, 0, 0, 0, 0, 0, 0, 0, 0, 0, 0, 0, 0, 0, 0, 0, 0, 0, 0, 0, 0, 0, 0, 0, 0, 0, 0, 0, 0, 0, 0, 0, 0, 0, 0, 0, 0, 0, 0, 0, 0, 0, 0, 0, 0, 0, 0, 0, 0, 0, 0, 0, 0, 0, 0, 0, 0, 0, 0, 0, 0, 0, 0, 0, 0, 0, 0, 0, 0, 0, 0, 0, 0, 0, 0, 0, 0, 0, 0, 0, 0, 0, 0, 0, 0, 0, 0, 0, 0, 0, 0, 0, 0, 0, 0, 0, 0, 0, 0, 0, 0, 0, 0, 0, 0, 0, 0, 0, 0, 0, 0, 0, 0, 0, 0, 0, 0, 0, 0, 0, 0, 0, 0, 0, 0, 0, 0, 0, 0, 0, 0, 0, 0, 0, 0, 0, 0, 0, 0, 0, 0, 0, 0, 0, 0, 0, 0, 0, 0, 0, 0, 0, 0, 0, 0, 0, 0, 0, 0, 0, 0, 0, 0, 0, 0, 0, 0, 0, 0, 0, 0, 0, 0, 0, 0, 0, 0, 0, 0, 0, 0, 0, 0, 0, 0, 0, 0, 0, 0, 0, 0, 0, 0, 0, 0, 0, 0, 0, 0, 0, 0, 0, 0, 0, 0, 0, 0, 0, 0, 0, 0, 0, 0, 0, 0, 0, 0, 0, 0, 0, 0, 0, 0, 0, 0, 0, 0, 0, 0, 0, 0, 0, 0, 0, 0, 0, 0, 0, 0, 0, 0, 0, 0, 0, 0, 0, 0, 0, 0, 0, 0, 0, 0, 0, 0, 0, 0, 0, 0, 0, 0, 0, 0, 0, 0, 0, 0, 0, 0, 0, 0, 0, 0, 0, 0, 0, 0, 0, 0, 0, 0, 0, 0, 0, 0, 0, 0, 0, 0, 0, 0, 0, 0, 0, 0, 0, 0, 0, 0, 0, 0, 0, 0, 0, 0, 0, 0, 0, 0, 0, 0, 0, 0, 0, 0, 0, 0, 0, 0, 0, 0, 0, 0, 0, 0, 0, 0, 0, 0, 0, 0, 0, 0, 0, 0, 0, 0, 0, 0, 0, 0, 0, 0, 0, 0, 0, 0, 0, 0, 0, 0, 0, 0, 0, 0, 0, 0, 0, 0, 0, 0, 0, 0, 0, 0, 0, 0, 0, 0, 0, 0, 0, 0, 0, 0, 0, 0, 0, 0, 0, 0, 0, 0, 0, 0, 0, 0, 0, 0, 0, 0, 0, 0, 0, 0, 0, 0, 0, 0, 0, 0, 0, 0, 0, 0, 0, 0, 0, 0, 0, 0, 0, 0, 0, 0, 0, 0, 0, 0, 0, 0, 0, 0, 0, 0, 0, 0, 0, 0, 0, 0, 0, 0, 0, 0, 0, 0, 0, 0, 0, 0, 0, 0, 0, 0, 0, 0, 0, 0, 0, 0, 0, 0, 0, 0, 0, 0, 0, 0, 0, 0, 0, 0, 0, 0, 0, 0, 0, 0, 0, 0, 0, 0, 0, 0, 0, 0, 0, 0, 0, 0, 0, 0, 0, 0, 0, 0, 0, 0, 0, 0, 0, 0, 0, 0, 0, 0, 0, 0, 0, 0, 0, 0, 0, 0, 0, 0, 0, 0, 0, 0, 0, 0, 0, 0, 0, 0, 0, 0, 0, 0, 0, 0, 0, 0, 0, 0, 0, 0, 0, 0, 0, 0, 0, 0, 0, 0, 0, 0, 0, 0, 0, 0, 0, 0, 0, 0, 0, 0, 0, 0, 0, 0, 0, 0, 0, 0, 0, 0, 0, 0, 0, 0, 0, 0, 0, 0, 0, 0, 0, 0, 0, 0, 0, 0, 0, 0, 0, 0, 0, 0, 0, 0, 0, 0, 0, 0, 0, 0, 0, 0, 0, 0, 0, 0, 0, 0, 0, 0, 0, 0, 0, 0, 0, 0, 0, 0, 0, 0, 0, 0, 0, 0, 0, 0, 0, 0, 0, 0, 0, 0, 0, 0, 0, 0, 0, 0, 0, 0, 0, 0, 0, 0, 0, 0, 0, 0, 0, 0, 0, 0, 0, 0, 0, 0, 0, 0, 0, 0, 0, 0, 0, 0, 0, 0, 0, 0, 0, 0, 0, 0, 0, 0, 0, 0, 0, 0, 0, 0, 0, 0, 0, 0, 0, 0, 0, 0, 0, 0, 0, 0, 0, 0, 0, 0, 0, 0, 0, 0, 0, 0, 0, 0, 0, 0, 0, 0, 0, 0, 0, 0, 0, 0, 0, 0, 0, 0, 0, 0, 0, 0, 0, 0, 0, 0, 0, 0, 0, 0, 0, 0, 0, 0, 0, 0, 0, 0, 0, 0, 0, 0, 0, 0, 0, 0, 0, 0, 0, 0, 0, 0, 0, 0, 0, 0, 0, 0, 0, 0, 0, 0, 0, 0, 0, 0, 0, 0, 0, 0, 0, 0, 0, 0, 0, 0, 0, 0, 0, 0, 0, 0, 0, 0, 0, 0, 0, 0, 0, 0, 0, 0, 0, 0, 0, 0, 0, 0, 0, 0, 0, 0, 0, 0, 0, 0, 0, 0, 0, 0, 0, 0, 0, 0, 0, 0, 0, 0, 0, 0, 0, 0, 0, 0, 0, 0, 0, 0, 0, 0, 0, 0, 0, 0, 0, 0, 0, 0, 0, 0, 0, 0, 0, 0, 0, 0, 0, 0, 0, 0, 0, 0, 0, 0, 0, 0, 0, 0, 0, 0, 0, 0, 0, 0, 0, 0, 0, 0, 0, 0, 0, 0, 0, 0, 0, 0, 0, 0, 0, 0, 0, 0, 0, 0, 0, 0, 0, 0, 0, 0, 0, 0, 0, 0, 0, 0, 0, 0, 0, 0, 0, 0, 0, 0, 0, 0, 0, 0, 0, 0, 0, 0, 0, 0, 0, 0, 0, 0, 0, 0, 0, 0, 0, 0, 0, 0, 0, 0, 0, 0, 0, 0, 0, 0, 0, 0, 0, 0, 0, 0, 0, 0, 0, 0, 0, 0, 0, 0, 0, 0, 0, 0, 0, 0, 0, 0, 0, 0, 0, 0, 0, 0, 0, 0, 0, 0, 0, 0, 0, 0, 0, 0, 0, 0, 0, 0, 0, 0, 0, 0, 0, 0, 0, 0, 0, 0, 0, 0, 0, 0, 0, 0, 0, 0, 0, 0, 0, 0, 0, 0, 0, 0, 0, 0, 0, 0, 0, 0, 0, 0, 0, 0, 0, 0, 0, 0, 0, 0, 0, 0, 0, 0, 0, 0, 0, 0, 0, 0, 0, 0, 0, 0, 0, 0, 0, 0, 0, 0, 0, 0, 0, 0, 0, 0, 0, 0, 0, 0, 0, 0, 0, 0, 0, 0, 0, 0, 0, 0, 0, 0, 0, 0, 0, 0, 0, 0, 0, 0, 0, 0, 0, 0, 0, 0, 0, 0, 0, 0, 0, 0, 0, 0, 0, 0, 0, 0, 0, 0, 0, 0, 0, 0, 0, 0, 0, 0, 0, 0, 0, 0, 0, 0, 0, 0, 0, 0, 0, 0, 0, 0, 0, 0, 0, 0, 0, 0, 0, 0, 0, 0, 0, 0, 0, 0, 0, 0, 0, 0, 0, 0, 0, 0, 0, 0, 0, 0, 0, 0, 0, 0, 0, 0, 0, 0, 0, 0, 0, 0, 0, 0, 0, 0, 0, 0, 0, 0, 0, 0, 0, 0, 0, 0, 0, 0, 0, 0, 0, 0, 0, 0, 0, 0, 0, 0, 0, 0, 0, 0, 0, 0, 0, 0, 0, 0, 0, 0, 0, 0, 0, 0, 0, 0, 0, 0, 0, 0, 0, 0, 0, 0, 0, 0, 0, 0, 0, 0, 0, 0, 0, 0, 0, 0, 0, 0, 0, 0, 0, 0, 0, 0, 0, 0, 0, 0, 0, 0, 0, 0, 0, 0, 0, 0, 0, 0, 0, 0, 0, 0, 0, 0, 0, 0, 0, 0, 0, 0, 0, 0, 0, 0, 0, 0, 0, 0, 0, 0, 0, 0, 0, 0, 0, 0, 0, 0, 0, 0, 0, 0, 0, 0, 0, 0, 0, 0, 0, 0, 0, 0, 0, 0, 0, 0, 0, 0, 0, 0, 0, 0, 0, 0, 0, 0, 0, 0, 0, 0, 0, 0, 0, 0, 0, 0, 0, 0, 0, 0, 0, 0, 0, 0, 0, 0, 0, 0, 0, 0, 0, 0, 0, 0, 0, 0, 0, 0, 0, 0, 0, 0, 0, 0, 0, 0, 0, 0, 0, 0, 0, 0, 0, 0, 0, 0, 0, 0, 0, 0, 0, 0, 0, 0, 0, 0, 0, 0, 0, 0, 0, 0, 0, 0, 0, 0, 0, 0, 0, 0, 0, 0, 0, 0, 0, 0, 0, 0, 0, 0, 0, 0, 0, 0, 0, 0, 0, 0, 0, 0, 0, 0, 0, 0, 0, 0, 0, 0, 0, 0, 0, 0, 0, 0, 0, 0, 0, 0, 0, 0, 0, 0, 0, 0, 0, 0, 0, 0, 0, 0, 0, 0, 0, 0, 0, 0, 0, 0, 0, 0, 0, 0, 0, 0, 0, 0, 0, 0, 0, 0, 0, 0, 0, 0, 0, 0, 0, 0, 0, 0, 0, 0, 0, 0, 0, 0, 0, 0, 0, 0, 0, 0, 0, 0, 0, 0, 0, 0, 0, 0, 0, 0, 0, 0, 0, 0, 0, 0, 0, 0, 0, 0, 0, 0, 0, 0, 0, 0, 0, 0, 0, 0, 0, 0, 0, 0, 0, 0, 0, 0, 0, 0, 0, 0, 0, 0, 0, 0, 0, 0, 0, 0, 0, 0, 0, 0, 0, 0, 0, 0, 0, 0, 0, 0, 0, 0, 0, 0, 0, 0, 0, 0, 0, 0, 0, 0, 0, 0, 0, 0, 0, 0, 0, 0, 0, 0, 0, 0, 0, 0, 0, 0, 0, 0, 0, 0, 0, 0, 0, 0, 0, 0, 0, 0, 0, 0, 0, 0, 0, 0, 0, 0, 0, 0, 0, 0, 0, 0, 0, 0, 0, 0, 0, 0, 0, 0, 0, 0, 0, 0, 0, 0, 0, 0, 0, 0, 0, 0, 0, 0, 0, 0, 0, 0, 0, 0, 0, 0, 0, 0, 0, 0, 0, 0, 0, 0, 0, 0, 0, 0, 0, 0, 0, 0, 0, 0, 0, 0, 0, 0, 0, 0, 0, 0, 0, 0, 0, 0, 0, 0, 0, 0, 0, 0, 0, 0, 0, 0, 0, 0, 0, 0, 0, 0, 0, 0, 0, 0, 0, 0, 0, 0, 0, 0, 0, 0, 0, 0, 0, 0, 0, 0, 0, 0, 0, 0, 0, 0, 0, 0, 0, 0, 0, 0, 0, 0, 0, 0, 0, 0, 0, 0, 0, 0, 0, 0, 0, 0, 0, 0, 0, 0, 0, 0, 0, 0, 0, 0, 0, 0, 0, 0, 0, 0, 0, 0, 0, 0, 0, 0, 0, 0, 0, 0, 0, 0, 0, 0, 0, 0, 0, 0, 0, 0, 0, 0, 0, 0, 0, 0, 0, 0, 0, 0, 0, 0, 0, 0, 0, 0, 0, 0, 0, 0, 0, 0, 0, 0, 0, 0, 0, 0, 0, 0, 0, 0, 0, 0, 0, 0, 0, 0, 0, 0, 0, 0, 0, 0, 0, 0, 0, 0, 0, 0, 0, 0, 0, 0, 0, 0, 0, 0, 0, 0, 0, 0, 0, 0, 0, 0, 0, 0, 0, 0, 0, 0, 0, 0, 0, 0, 0, 0, 0, 0, 0, 0, 0, 0, 0, 0, 0, 0, 0, 0, 0, 0, 0, 0, 0, 0, 0, 0, 0, 0, 0, 0, 0, 0, 0, 0, 0, 0, 0, 0, 0, 0, 0, 0, 0, 0, 0, 0, 0, 0, 0, 0, 0, 0, 0, 0, 0, 0, 0, 0, 0, 0, 0, 0, 0, 0, 0, 0, 0, 0, 0, 0, 0, 0, 0, 0, 0, 0, 0, 0, 0, 0, 0, 0, 0, 0, 0, 0, 0, 0, 0, 0, 0, 0, 0, 0, 0, 0, 0, 0, 0, 0, 0, 0, 0, 0, 0, 0, 0, 0, 0, 0, 0, 0, 0, 0, 0, 0, 0, 0, 0, 0, 0, 0, 0, 0, 0, 0, 0, 0, 0, 0, 0, 0, 0, 0, 0, 0, 0, 0, 0, 0, 0, 0, 0, 0, 0, 0, 0, 0, 0, 0, 0, 0, 0, 0, 0, 0, 0, 0, 0, 0, 0, 0, 0, 0, 0, 0, 0, 0, 0, 0, 0, 0, 0, 0, 0, 0, 0, 0, 0, 0, 0, 0, 0, 0, 0, 0, 0, 0, 0, 0, 0, 0, 0, 0, 0, 0, 0, 0, 0, 0, 0, 0, 0, 0, 0, 0, 0, 0, 0, 0, 0, 0, 0, 0, 0, 0, 0, 0, 0, 0, 0, 0, 0, 0, 0, 0, 0, 0, 0, 0, 0, 0, 0, 0, 0, 0, 0, 0, 0, 0, 0, 0, 0, 0, 0, 0, 0, 0, 0, 0, 0, 0, 0, 0, 0, 0, 0, 0, 0, 0, 0, 0, 0, 0, 0, 0, 0, 0, 0, 0, 0, 0, 0, 0, 0, 0, 0, 0, 0, 0, 0, 0, 0, 0, 0, 0, 0, 0, 0, 0, 0, 0, 0, 0, 0, 0, 0, 0, 0, 0, 0, 0, 0, 0, 0, 0, 0, 0, 0, 0, 0, 0, 0, 0, 0, 0, 0, 0, 0, 0, 0, 0, 0, 0, 0, 0, 0, 0, 0, 0, 0, 0, 0, 0, 0, 0, 0, 0, 0, 0, 0, 0, 0, 0, 0, 0, 0, 0, 0, 0, 0, 0, 0, 0, 0, 0, 0, 0, 0, 0, 0, 0, 0, 0, 0, 0, 0, 0, 0, 0, 0, 0, 0, 0, 0, 0, 0, 0, 0, 0, 0, 0, 0, 0, 0, 0, 0, 0, 0, 0, 0, 0, 0, 0, 0, 0, 0, 0, 0, 0, 0, 0, 0, 0, 0, 0, 0, 0, 0, 0, 0, 0, 0, 0, 0, 0, 0, 0, 0, 0, 0, 0, 0, 0, 0, 0, 0, 0, 0, 0, 0, 0, 0, 0, 0, 0, 0, 0, 0, 0, 0, 0, 0, 0, 0, 0, 0, 0, 0, 0, 0, 0, 0, 0, 0, 0, 0, 0, 0, 0, 0, 0, 0, 0, 0, 0, 0, 0, 0, 0, 0, 0, 0, 0, 0, 0, 0, 0, 0, 0, 0, 0, 0, 0, 0, 0, 0, 0, 0, 0, 0, 0, 0, 0, 0, 0, 0, 0, 0, 0, 0, 0, 0, 0, 0, 0, 0, 0, 0, 0, 0, 0, 0, 0, 0, 0, 0, 0, 0, 0, 0, 0, 0, 0, 0, 0, 0, 0, 0, 0, 0, 0, 0, 0, 0, 0, 0, 0, 0, 0, 0, 0, 0, 0, 0, 0, 0, 0, 0, 0, 0, 0, 0, 0, 0, 0, 0, 0, 0, 0, 0, 0, 0, 0, 0, 0, 0, 0, 0, 0, 0, 0, 0, 0, 0, 0, 0, 0, 0, 0, 0, 0, 0, 0, 0, 0, 0, 0, 0, 0, 0, 0, 0, 0, 0, 0, 0, 0, 0, 0, 0, 0, 0, 0, 0, 0, 0, 0, 0, 0, 0, 0, 0, 0, 0, 0, 0, 0, 0, 0, 0, 0, 0, 0, 0, 0, 0, 0, 0, 0, 0, 0, 0, 0, 0, 0, 0, 0, 0, 0, 0, 0, 0, 0, 0, 0, 0, 0, 0, 0, 0, 0, 0, 0, 0, 0, 0, 0, 0, 0, 0, 0, 0, 0, 0, 0, 0, 0, 0, 0, 0, 0, 0, 0, 0, 0, 0, 0, 0, 0, 0, 0, 0, 0, 0, 0, 0, 0, 0, 0, 0, 0, 0, 0, 0, 0, 0, 0, 0, 0, 0, 0, 0, 0, 0, 0, 0, 0, 0, 0, 0, 0, 0, 0, 0, 0, 0, 0, 0, 0, 0, 0, 0, 0, 0, 0, 0, 0, 0, 0, 0, 0, 0, 0, 0, 0, 0, 0, 0, 0, 0, 0, 0, 0, 0, 0, 0, 0, 0, 0, 0, 0, 0, 0, 0, 0, 0, 0, 0, 0, 0, 0, 0, 0, 0, 0, 0, 0, 0, 0, 0, 0, 0, 0, 0, 0, 0, 0, 0, 0, 0, 0, 0, 0, 0, 0, 0, 0, 0, 0, 0, 0, 0, 0, 0, 0, 0, 0, 0, 0, 0, 0, 0, 0, 0, 0, 0, 0, 0, 0, 0, 0, 0, 0, 0, 0, 0, 0, 0, 0, 0, 0, 0, 0, 0, 0, 0, 0, 0, 0, 0, 0, 0, 0, 0, 0, 0, 0, 0, 0, 0, 0, 0, 0, 0, 0, 0, 0, 0, 0, 0, 0, 0, 0, 0, 0, 0, 0, 0, 0, 0, 0, 0, 0, 0, 0, 0, 0, 0, 0, 0, 0, 0, 0, 0, 0, 0, 0, 0, 0, 0, 0, 0, 0, 0, 0, 0, 0, 0, 0, 0, 0, 0, 0, 0, 0, 0, 0, 0, 0, 0, 0, 0, 0, 0, 0, 0, 0, 0, 0, 0, 0, 0, 0, 0, 0, 0, 0, 0, 0, 0, 0, 0, 0, 0, 0, 0, 0, 0, 0, 0, 0, 0, 0, 0, 0, 0, 0, 0, 0, 0, 0, 0, 0, 0, 0, 0, 0, 0, 0, 0, 0, 0, 0, 0, 0, 0, 0, 0, 0, 0, 0, 0, 0, 0, 0, 0, 0, 0, 0, 0, 0, 0, 0, 0, 0, 0, 0, 0, 0, 0, 0, 0, 0, 0, 0, 0, 0, 0, 0, 0, 0, 0, 0, 0, 0, 0, 0, 0, 0, 0, 0, 0, 0, 0, 0, 0, 0, 0, 0, 0, 0, 0, 0, 0, 0, 0, 0, 0, 0, 0, 0, 0, 0, 0, 0, 0, 0, 0, 0, 0, 0, 0, 0, 0, 0, 0, 0, 0, 0, 0, 0, 0, 0, 0, 0, 0, 0, 0, 0, 0, 0, 0, 0, 0, 0, 0, 0, 0, 0, 0, 0, 0, 0, 0, 0, 0, 0, 0, 0, 0, 0, 0, 0, 0, 0, 0, 0, 0, 0, 0, 0, 0, 0, 0, 0, 0, 0, 0, 0, 0, 0, 0, 0, 0, 0, 0, 0, 0, 0, 0, 0, 0, 0, 0, 0, 0, 0, 0, 0, 0, 0, 0, 0, 0, 0, 0, 0, 0, 0, 0, 0, 0, 0, 0, 0, 0, 0, 0, 0, 0, 0, 0, 0, 0, 0, 0, 0, 0, 0, 0, 0, 0, 0, 0, 0, 0, 0, 0, 0, 0, 0, 0, 0, 0, 0, 0, 0, 0, 0, 0, 0, 0, 0, 0, 0, 0, 0, 0, 0, 0, 0, 0, 0, 0, 0, 0, 0, 0, 0, 0, 0, 0, 0, 0, 0, 0, 0, 0, 0, 0, 0, 0, 0, 0, 0, 0, 0, 0, 0, 0, 0, 0, 0, 0, 0, 0, 0, 0, 0, 0, 0, 0, 0, 0, 0, 0, 0, 0, 0, 0, 0, 0, 0, 0, 0, 0, 0, 0, 0, 0, 0, 0, 0, 0, 0, 0, 0, 0, 0, 0, 0, 0, 0, 0, 0, 0, 0, 0, 0, 0, 0, 0, 0, 0, 0, 0, 0, 0, 0, 0, 0, 0, 0, 0, 0, 0, 0, 0, 0, 0, 0, 0, 0, 0, 0, 0, 0, 0, 0, 0, 0, 0, 0, 0, 0, 0, 0, 0, 0, 0, 0, 0, 0, 0, 0, 0, 0, 0, 0, 0, 0, 0, 0, 0, 0, 0, 0, 0, 0, 0, 0, 0, 0, 0, 0, 0, 0, 0, 0, 0, 0, 0, 0, 0, 0, 0, 0, 0, 0, 0, 0, 0, 0, 0, 0, 0, 0, 0, 0, 0, 0, 0, 0, 0, 0, 0, 0, 0, 0, 0, 0, 0, 0, 0, 0, 0, 0, 0, 0, 0, 0, 0, 0, 0, 0, 0, 0, 0, 0, 0, 0, 0, 0, 0, 0, 0, 0, 0, 0, 0, 0, 0, 0, 0, 0, 0, 0, 0, 0, 0, 0, 0, 0, 0, 0, 0, 0, 0, 0, 0, 0, 0, 0, 0, 0, 0, 0, 0, 0, 0, 0, 0, 0, 0, 0, 0, 0, 0, 0, 0, 0, 0, 0, 0, 0, 0, 0, 0, 0, 0, 0, 0, 0, 0, 0, 0, 0, 0, 0, 0, 0, 0, 0, 0, 0, 0, 0, 0, 0, 0, 0, 0, 0, 0, 0, 0, 0, 0, 0, 0, 0, 0, 0, 0, 0, 0, 0, 0, 0, 0, 0, 0, 0, 0, 0, 0, 0, 0, 0, 0, 0, 0, 0, 0, 0, 0, 0, 0, 0, 0, 0, 0, 0, 0, 0, 0, 0, 0, 0, 0, 0, 0, 0, 0, 0, 0, 0, 0, 0, 0, 0, 0, 0, 0, 0, 0, 0, 0, 0, 0, 0, 0, 0, 0, 0, 0, 0, 0, 0, 0, 0, 0, 0, 0, 0, 0, 0, 0, 0, 0, 0, 0, 0, 0, 0, 0, 0, 0, 0, 0, 0, 0, 0, 0, 0, 0, 0, 0, 0, 0, 0, 0, 0, 0, 0, 0, 0, 0, 0, 0, 0, 0, 0, 0, 0, 0, 0, 0, 0, 0, 0, 0, 0, 0, 0, 0, 0, 0, 0, 0, 0, 0, 0, 0, 0, 0, 0, 0, 0, 0, 0, 0, 0, 0, 0, 0, 0, 0, 0, 0, 0, 0, 0, 0, 0, 0, 0, 0, 0, 0, 0, 0, 0, 0, 0, 0, 0, 0, 0, 0, 0, 0, 0, 0, 0, 0, 0, 0, 0, 0, 0, 0, 0, 0, 0, 0, 0, 0, 0, 0, 0, 0, 0, 0, 0, 0, 0, 0, 0, 0, 0, 0, 0, 0, 0, 0, 0, 0, 0, 0, 0, 0, 0, 0, 0, 0, 0, 0, 0, 0, 0, 0, 0, 0, 0, 0, 0, 0, 0, 0, 0, 0, 0, 0, 0, 0, 0, 0, 0, 0, 0, 0, 0, 0, 0, 0, 0, 0, 0, 0, 0, 0, 0, 0, 0, 0, 0, 0, 0, 0, 0, 0, 0, 0, 0, 0, 0, 0, 0, 0, 0, 0, 0, 0, 0, 0, 0, 0, 0, 0, 0, 0, 0, 0, 0, 0, 0, 0, 0, 0, 0, 0, 0, 0, 0, 0, 0, 0, 0, 0, 0, 0, 0, 0, 0, 0, 0, 0, 0, 0, 0, 0, 0, 0, 0, 0, 0, 0, 0, 0, 0, 0, 0, 0, 0, 0, 0, 0, 0, 0, 0, 0, 0, 0, 0, 0, 0, 0, 0, 0, 0, 0, 0, 0, 0, 0, 0, 0, 0, 0, 0, 0, 0, 0, 0, 0, 0, 0, 0, 0, 0, 0, 0, 0, 0, 0, 0, 0, 0, 0, 0, 0, 0, 0, 0, 0, 0, 0, 0, 0, 0, 0, 0, 0, 0, 0, 0, 0, 0, 0, 0, 0, 0, 0, 0, 0, 0, 0, 0, 0, 0, 0, 0, 0, 0, 0, 0, 0, 0, 0, 0, 0, 0, 0, 0, 0, 0, 0, 0, 0, 0, 0, 0, 0, 0, 0, 0, 0, 0, 0, 0, 0, 0, 0, 0, 0, 0, 0, 0, 0, 0, 0, 0, 0, 0, 0, 0, 0, 0, 0, 0, 0, 0, 0, 0, 0, 0, 0, 0, 0, 0, 0, 0, 0, 0, 0, 0, 0, 0, 0, 0, 0, 0, 0, 0, 0, 0, 0, 0, 0, 0, 0, 0, 0, 0, 0, 0, 0, 0, 0, 0, 0, 0, 0, 0, 0, 0, 0, 0, 0, 0, 0, 0, 0, 0, 0, 0, 0, 0, 0, 0, 0, 0, 0, 0, 0, 0, 0, 0, 0, 0, 0, 0, 0, 0, 0, 0, 0, 0, 0, 0, 0, 0, 0, 0, 0, 0, 0, 0, 0, 0, 0, 0, 0, 0, 0, 0, 0, 0, 0, 0, 0, 0, 0, 0, 0, 0, 0, 0, 0, 0, 0, 0, 0, 0, 0, 0, 0, 0, 0, 0, 0, 0, 0, 0, 0, 0, 0, 0, 0, 0, 0, 0, 0, 0, 0, 0, 0, 0, 0, 0, 0, 0, 0, 0, 0, 0, 0, 0, 0, 0, 0, 0, 0, 0, 0, 0, 0, 0, 0, 0, 0, 0, 0, 0, 0, 0, 0, 0, 0, 0, 0, 0, 0, 0, 0, 0, 0, 0, 0, 0, 0, 0, 0, 0, 0, 0, 0, 0, 0, 0, 0, 0, 0, 0, 0, 0, 0, 0, 0, 0, 0, 0, 0, 0, 0, 0, 0, 0, 0, 0, 0, 0, 0, 0, 0, 0, 0, 0, 0, 0, 0, 0, 0, 0, 0, 0, 0, 0, 0, 0, 0, 0, 0, 0, 0, 0, 0, 0, 0, 0, 0, 0, 0, 0, 0, 0, 0, 0, 0, 0, 0, 0, 0, 0, 0, 0, 0, 0, 0, 0, 0, 0, 0, 0, 0, 0, 0, 0, 0, 0, 0, 0, 0, 0, 0, 0, 0, 0, 0, 0, 0, 0, 0, 0, 0, 0, 0, 0, 0, 0, 0, 0, 0, 0, 0, 0, 0, 0, 0, 0, 0, 0, 0, 0, 0, 0, 0, 0, 0, 0, 0, 0, 0, 0, 0, 0, 0, 0, 0, 0, 0, 0, 0, 0, 0, 0, 0, 0, 0, 0, 0, 0, 0, 0, 0, 0, 0, 0, 0, 0, 0, 0, 0, 0, 0, 0, 0, 0, 0, 0, 0, 0, 0, 0, 0, 0, 0, 0, 0, 0, 0, 0, 0, 0, 0, 0, 0, 0, 0, 0, 0, 0, 0, 0, 0, 0, 0, 0, 0, 0, 0, 0, 0, 0, 0, 0, 0, 0, 0, 0, 0, 0, 0, 0, 0, 0, 0, 0, 0, 0, 0, 0, 0, 0, 0, 0, 0, 0, 0, 0, 0, 0, 0, 0, 0, 0, 0, 0, 0, 0, 0, 0, 0, 0, 0, 0, 0, 0, 0, 0, 0, 0, 0, 0, 0, 0, 0, 0, 0, 0, 0, 0, 0, 0, 0, 0, 0, 0, 0, 0, 0, 0, 0, 0, 0, 0, 0, 0, 0, 0, 0, 0, 0, 0, 0, 0, 0, 0, 0, 0, 0, 0, 0, 0, 0, 0, 0, 0, 0, 0, 0, 0, 0, 0, 0, 0, 0, 0, 0, 0, 0, 0, 0, 0, 0, 0, 0, 0, 0, 0, 0, 0, 0, 0, 0, 0, 0, 0, 0, 0, 0, 0, 0, 0, 0, 0, 0, 0, 0, 0, 0, 0, 0, 0, 0, 0, 0, 0, 0, 0, 0, 0, 0, 0, 0, 0, 0, 0, 0, 0, 0, 0, 0, 0, 0, 0, 0, 0, 0, 0, 0, 0, 0, 0, 0, 0, 0, 0, 0, 0, 0, 0, 0, 0, 0, 0, 0, 0, 0, 0, 0, 0, 0, 0, 0, 0, 0, 0, 0, 0, 0, 0, 0, 0, 0, 0, 0, 0, 0, 0, 0, 0, 0, 0, 0, 0, 0, 0, 0, 0, 0, 0, 0, 0, 0, 0, 0, 0, 0, 0, 0, 0, 0, 0, 0, 0, 0, 0, 0, 0, 0, 0, 0, 0, 0, 0, 0, 0, 0, 0, 0, 0, 0, 0, 0, 0, 0, 0, 0, 0, 0, 0, 0, 0, 0, 0, 0, 0, 0, 0, 0, 0, 0, 0, 0, 0, 0, 0, 0, 0, 0, 0, 0, 0, 0, 0, 0, 0, 0, 0, 0, 0, 0, 0, 0, 0, 0, 0, 0, 0, 0, 0, 0, 0, 0, 0, 0, 0, 0, 0, 0, 0, 0, 0, 0, 0, 0, 0, 0, 0, 0, 0, 0, 0, 0, 0, 0, 0, 0, 0, 0, 0, 0, 0, 0, 0, 0, 0, 0, 0, 0, 0, 0, 0, 0, 0, 0, 0, 0, 0, 0, 0, 0, 0, 0, 0, 0, 0, 0, 0, 0, 0, 0, 0, 0, 0, 0, 0, 0, 0, 0, 0, 0, 0, 0, 0, 0, 0, 0, 0, 0, 0, 0, 0, 0, 0, 0, 0, 0, 0, 0, 0, 0, 0, 0, 0, 0, 0, 0, 0, 0, 0, 0, 0, 0, 0, 0, 0, 0, 0, 0, 0, 0, 0, 0, 0, 0, 0, 0, 0, 0, 0, 0, 0, 0, 0, 0, 0, 0, 0, 0, 0, 0, 0, 0, 0, 0, 0, 0, 0, 0, 0, 0, 0, 0, 0, 0, 0, 0, 0, 0, 0, 0, 0, 0, 0, 0, 0, 0, 0, 0, 0, 0, 0, 0, 0, 0, 0, 0, 0, 0, 0, 0, 0, 0, 0, 0, 0, 0, 0, 0, 0, 0, 0, 0, 0, 0, 0, 0, 0, 0, 0, 0, 0, 0, 0, 0, 0, 0, 0, 0, 0, 0, 0, 0, 0, 0, 0, 0, 0, 0, 0, 0, 0, 0, 0, 0, 0, 0, 0, 0, 0, 0, 0, 0, 0, 0, 0, 0, 0, 0, 0, 0, 0, 0, 0, 0, 0, 0, 0, 0, 0, 0, 0, 0, 0, 0, 0, 0, 0, 0, 0, 0, 0, 0, 0, 0, 0, 0, 0, 0, 0, 0, 0, 0, 0, 0, 0, 0, 0, 0, 0, 0, 0, 0, 0, 0, 0, 0, 0, 0, 0, 0, 0, 0, 0, 0, 0, 0, 0, 0, 0, 0, 0, 0, 0, 0, 0, 0, 0, 0, 0, 0, 0, 0, 0, 0, 0, 0, 0, 0, 0, 0, 0, 0, 0, 0, 0, 0, 0, 0, 0, 0, 0, 0, 0, 0, 0, 0, 0, 0, 0, 0, 0, 0, 0, 0, 0, 0, 0, 0, 0, 0, 0, 0, 0, 0, 0, 0, 0, 0, 0, 0, 0, 0, 0, 0, 0, 0, 0, 0, 0, 0, 0, 0, 0, 0, 0, 0, 0, 0, 0, 0, 0, 0, 0, 0, 0, 0, 0, 0, 0, 0, 0, 0, 0, 0, 0, 0, 0, 0, 0, 0, 0, 0, 0, 0, 0, 0, 0, 0, 0, 0, 0, 0, 0, 0, 0, 0, 0, 0, 0, 0, 0, 0, 0, 0, 0, 0, 0, 0, 0, 0, 0, 0, 0, 0, 0, 0, 0, 0, 0, 0, 0, 0, 0, 0, 0, 0, 0, 0, 0, 0, 0, 0, 0, 0, 0, 0, 0, 0, 0, 0, 0, 0, 0, 0, 0, 0, 0, 0, 0, 0, 0, 0, 0, 0, 0, 0, 0, 0, 0, 0, 0, 0, 0, 0, 0, 0, 0, 0, 0, 0, 0, 0, 0, 0, 0, 0, 0, 0, 0, 0, 0, 0, 0, 0, 0, 0, 0, 0, 0, 0, 0, 0, 0, 0, 0, 0, 0, 0, 0, 0, 0, 0, 0, 0, 0, 0, 0, 0, 0, 0, 0, 0, 0, 0, 0, 0, 0, 0, 0, 0, 0, 0, 0, 0, 0, 0, 0, 0, 0, 0, 0, 0, 0, 0, 0, 0, 0, 0, 0, 0, 0, 0, 0, 0, 0, 0, 0, 0, 0, 0, 0, 0, 0, 0, 0, 0, 0, 0, 0, 0, 0, 0, 0, 0, 0, 0, 0, 0, 0, 0, 0, 0, 0, 0, 0, 0, 0, 0, 0, 0, 0, 0, 0, 0, 0, 0, 0, 0, 0, 0, 0, 0, 0, 0, 0, 0, 0, 0, 0, 0, 0, 0, 0, 0, 0, 0, 0, 0, 0, 0, 0, 0, 0, 0, 0, 0, 0, 0, 0, 0, 0, 0, 0, 0, 0, 0, 0, 0, 0, 0, 0, 0, 0, 0, 0, 0, 0, 0, 0, 0, 0, 0, 0, 0, 0, 0, 0, 0, 0, 0, 0, 0, 0, 0, 0, 0, 0, 0, 0, 0, 0, 0, 0, 0, 0, 0, 0, 0, 0, 0, 0, 0, 0, 0, 0, 0, 0, 0, 0, 0, 0, 0, 0, 0, 0, 0, 0, 0, 0, 0, 0, 0, 0, 0, 0, 0, 0, 0, 0, 0, 0, 0, 0, 0, 0, 0, 0, 0, 0, 0, 0, 0, 0, 0, 0, 0, 0, 0, 0, 0, 0, 0, 0, 0, 0, 0, 0, 0, 0, 0, 0, 0, 0, 0, 0, 0, 0, 0, 0, 0, 0, 0, 0, 0, 0, 0, 0, 0, 0, 0, 0, 0, 0, 0, 0, 0, 0, 0, 0, 0, 0, 0, 0, 0, 0, 0, 0, 0, 0, 0, 0, 0, 0, 0, 0, 0, 0, 0, 0, 0, 0, 0, 0, 0, 0, 0, 0, 0, 0, 0, 0, 0, 0, 0, 0, 0, 0, 0, 0, 0, 0, 0, 0, 0, 0, 0, 0, 0, 0, 0, 0, 0, 0, 0, 0, 0, 0, 0, 0, 0, 0, 0, 0, 0, 0, 0, 0, 0, 0, 0, 0, 0, 0, 0, 0, 0, 0, 0, 0, 0, 0, 0, 0, 0, 0, 0, 0, 0, 0, 0, 0, 0, 0, 0, 0, 0, 0, 0, 0, 0, 0, 0, 0, 0, 0, 0, 0, 0, 0, 0, 0, 0, 0, 0, 0, 0, 0, 0, 0, 0, 0, 0, 0, 0, 0, 0, 0, 0, 0, 0, 0, 0, 0, 0, 0, 0, 0, 0, 0, 0, 0, 0, 0, 0, 0, 0, 0, 0, 0, 0, 0, 0, 0, 0, 0, 0, 0, 0, 0, 0, 0, 0, 0, 0, 0, 0, 0, 0, 0, 0, 0, 0, 0, 0, 0, 0, 0, 0, 0, 0, 0, 0, 0, 0, 0, 0, 0, 0, 0, 0, 0, 0, 0, 0, 0, 0, 0, 0, 0, 0, 0, 0, 0, 0, 0, 0, 0, 0, 0, 0, 0, 0, 0, 0, 0, 0, 0, 0, 0, 0, 0, 0, 0, 0, 0, 0, 0, 0, 0, 0, 0, 0, 0, 0, 0, 0, 0, 0, 0, 0, 0, 0, 0, 0, 0, 0, 0, 0, 0, 0, 0, 0, 0, 0, 0, 0, 0, 0, 0, 0, 0, 0, 0, 0, 0, 0, 0, 0, 0, 0, 0, 0, 0, 0, 0, 0, 0, 0, 0, 0, 0, 0, 0, 0, 0, 0, 0, 0, 0, 0, 0, 0, 0, 0, 0, 0, 0, 0, 0, 0, 0, 0, 0, 0, 0, 0, 0, 0, 0, 0, 0, 0, 0, 0, 0, 0, 0, 0, 0, 0, 0, 0, 0, 0, 0, 0, 0, 0, 0, 0, 0, 0, 0, 0, 0, 0, 0, 0, 0, 0, 0, 0, 0, 0, 0, 0, 0, 0, 0, 0, 0, 0, 0, 0, 0, 0, 0, 0, 0, 0, 0, 0, 0, 0, 0, 0, 0, 0, 0, 0, 0, 0, 0, 0, 0, 0, 0, 0, 0, 0, 0, 0, 0, 0, 0, 0, 0, 0, 0, 0, 0, 0, 0, 0, 0, 0, 0, 0, 0, 0, 0, 0, 0, 0, 0, 0, 0, 0, 0, 0, 0, 0, 0, 0, 0, 0, 0, 0, 0, 0, 0, 0, 0, 0, 0, 0, 0, 0, 0, 0, 0, 0, 0, 0, 0, 0, 0, 0, 0, 0, 0, 0, 0, 0, 0, 0, 0, 0, 0, 0, 0, 0, 0, 0, 0, 0, 0, 0, 0, 0, 0, 0, 0, 0, 0, 0, 0, 0, 0, 0, 0, 0, 0, 0, 0, 0, 0, 0, 0, 0, 0, 0, 0, 0, 0, 0, 0, 0, 0, 0, 0, 0, 0, 0, 0, 0, 0, 0, 0, 0, 0, 0, 0, 0, 0, 0, 0, 0, 0, 0, 0, 0, 0, 0, 0, 0, 0, 0, 0, 0, 0, 0, 0, 0, 0, 0, 0, 0, 0, 0, 0, 0, 0, 0, 0, 0, 0, 0, 0, 0, 0, 0, 0, 0, 0, 0, 0, 0, 0, 0, 0, 0, 0, 0, 0, 0, 0, 0, 0, 0, 0, 0, 0, 0, 0, 0, 0, 0, 0, 0, 0, 0, 0, 0, 0, 0, 0, 0, 0, 0, 0, 0, 0, 0, 0, 0, 0, 0, 0, 0, 0, 0, 0, 0, 0, 0, 0, 0, 0, 0, 0, 0, 0, 0, 0, 0, 0, 0, 0, 0, 0, 0, 0, 0, 0, 0, 0, 0, 0, 0, 0, 0, 0, 0, 0, 0, 0, 0, 0, 0, 0, 0, 0, 0, 0, 0, 0, 0, 0, 0, 0, 0, 0, 0, 0, 0, 0, 0, 0, 0, 0, 0, 0, 0, 0, 0, 0, 0, 0, 0, 0, 0, 0, 0, 0, 0, 0, 0, 0, 0, 0, 0, 0, 0, 0, 0, 0, 0, 0, 0, 0, 0, 0, 0, 0, 0, 0, 0, 0, 0, 0, 0, 0, 0, 0, 0, 0, 0, 0, 0, 0, 0, 0, 0, 0, 0, 0, 0, 0, 0, 0, 0, 0, 0, 0, 0, 0, 0, 0, 0, 0, 0, 0, 0, 0, 0, 0, 0, 0, 0, 0, 0, 0, 0, 0, 0, 0, 0, 0, 0, 0, 0, 0, 0, 0, 0, 0, 0, 0, 0, 0, 0, 0, 0, 0, 0, 0, 0, 0, 0, 0, 0, 0, 0, 0, 0, 0, 0, 0, 0, 0, 0, 0, 0, 0, 0, 0, 0, 0, 0, 0, 0, 0, 0, 0, 0, 0, 0, 0, 0, 0, 0, 0, 0, 0, 0, 0, 0, 0, 0, 0, 0, 0, 0, 0, 0, 0, 0, 0, 0, 0, 0, 0, 0, 0, 0, 0, 0, 0, 0, 0, 0, 0, 0, 0, 0, 0, 0, 0, 0, 0, 0, 0, 0, 0, 0, 0, 0, 0, 0, 0, 0, 0, 0, 0, 0, 0, 0, 0, 0, 0, 0, 0, 0, 0, 0, 0, 0, 0, 0, 0, 0, 0, 0, 0, 0, 0, 0, 0, 0, 0, 0, 0, 0, 0, 0, 0, 0, 0, 0, 0, 0, 0, 0, 0, 0, 0, 0, 0, 0, 0, 0, 0, 0, 0, 0, 0, 0, 0, 0, 0, 0, 0, 0, 0, 0, 0, 0, 0, 0, 0, 0, 0, 0, 0, 0, 0, 0, 0, 0, 0, 0, 0, 0, 0, 0, 0, 0, 0, 0, 0, 0, 0, 0, 0, 0, 0, 0, 0, 0, 0, 0, 0, 0, 0, 0, 0, 0, 0, 0, 0, 0, 0, 0, 0, 0, 0, 0, 0, 0, 0, 0, 0, 0, 0, 0, 0, 0, 0, 0, 0, 0, 0, 0, 0, 0, 0, 0, 0, 0, 0, 0, 0, 0, 0, 0, 0, 0, 0, 0, 0, 0, 0, 0, 0, 0, 0, 0, 0, 0, 0, 0, 0, 0, 0, 0, 0, 0, 0, 0, 0, 0, 0, 0, 0, 0, 0, 0, 0, 0, 0, 0, 0, 0, 0, 0, 0, 0, 0, 0, 0, 0, 0, 0, 0, 0, 0, 0, 0, 0, 0, 0, 0, 0, 0, 0, 0, 0, 0, 0, 0, 0, 0, 0, 0, 0, 0, 0, 0, 0, 0, 0, 0, 0, 0, 0, 0, 0, 0, 0, 0, 0, 0, 0, 0, 0, 0, 0, 0, 0, 0, 0, 0, 0, 0, 0, 0, 0, 0, 0, 0, 0, 0, 0, 0, 0, 0, 0, 0, 0, 0, 0, 0, 0, 0, 0, 0, 0, 0, 0, 0, 0, 0, 0, 0, 0, 0, 0, 0, 0, 0, 0, 0, 0, 0, 0, 0, 0, 0, 0, 0, 0, 0, 0, 0, 0, 0, 0, 0, 0, 0, 0, 0, 0, 0, 0, 0, 0, 0, 0, 0, 0, 0, 0, 0, 0, 0, 0, 0, 0, 0, 0, 0, 0, 0, 0, 0, 0, 0, 0, 0, 0, 0, 0, 0, 0, 0, 0, 0, 0, 0, 0, 0, 0, 0, 0, 0, 0, 0, 0, 0, 0, 0, 0, 0, 0, 0, 0, 0, 0, 0, 0, 0, 0, 0, 0, 0, 0, 0, 0, 0, 0, 0, 0, 0, 0, 0, 0, 0, 0, 0, 0, 0, 0, 0, 0, 0, 0, 0, 0, 0, 0, 0, 0, 0, 0, 0, 0, 0, 0, 0, 0, 0, 0, 0, 0, 0, 0, 0, 0, 0, 0, 0, 0, 0, 0, 0, 0, 0, 0, 0, 0, 0, 0, 0, 0, 0, 0, 0, 0, 0, 0, 0, 0, 0, 0, 0, 0, 0, 0, 0, 0, 0, 0, 0, 0, 0, 0, 0, 0, 0, 0, 0, 0, 0, 0, 0, 0, 0, 0, 0, 0, 0, 0, 0, 0, 0, 0, 0, 0, 0, 0, 0, 0, 0, 0, 0, 0, 0, 0, 0, 0, 0, 0, 0, 0, 0, 0, 0, 0, 0, 0, 0, 0, 0, 0, 0, 0, 0, 0, 0, 0, 0, 0, 0, 0, 0, 0, 0, 0, 0, 0, 0, 0, 0, 0, 0, 0, 0, 0, 0, 0, 0, 0, 0, 0, 0, 0, 0, 0, 0, 0, 0, 0, 0, 0, 0, 0, 0, 0, 0, 0, 0, 0, 0, 0, 0, 0, 0, 0, 0, 0, 0, 0, 0, 0, 0, 0, 0, 0, 0, 0, 0, 0, 0, 0, 0, 0, 0, 0, 0, 0, 0, 0, 0, 0, 0, 0, 0, 0, 0, 0, 0, 0, 0, 0, 0, 0, 0, 0, 0, 0, 0, 0, 0, 0, 0, 0, 0, 0, 0, 0, 0, 0, 0, 0, 0, 0, 0, 0, 0, 0, 0, 0, 0, 0, 0, 0, 0, 0, 0, 0, 0, 0, 0, 0, 0, 0, 0, 0, 0, 0, 0, 0, 0, 0, 0, 0, 0, 0, 0, 0, 0, 0, 0, 0, 0, 0, 0, 0, 0, 0, 0, 0, 0, 0, 0, 0, 0, 0, 0, 0, 0, 0, 0, 0, 0, 0, 0, 0, 0, 0, 0, 0, 0, 0, 0, 0, 0, 0, 0, 0, 0, 0, 0, 0, 0, 0, 0, 0, 0, 0, 0, 0, 0, 0, 0, 0, 0, 0, 0, 0, 0, 0, 0, 0, 0, 0, 0, 0, 0, 0, 0, 0, 0, 0, 0, 0, 0, 0, 0, 0, 0, 0, 0, 0, 0, 0, 0, 0, 0, 0, 0, 0, 0, 0, 0, 0, 0, 0, 0, 0, 0, 0, 0, 0, 0, 0, 0, 0, 0, 0, 0, 0, 0, 0, 0, 0, 0, 0, 0, 0, 0, 0, 0, 0, 0, 0, 0, 0, 0, 0, 0, 0, 0, 0, 0, 0, 0, 0, 0, 0, 0, 0, 0, 0, 0, 0, 0, 0, 0, 0, 0, 0, 0, 0, 0, 0, 0, 0, 0, 0, 0, 0, 0, 0, 0, 0, 0, 0, 0, 0, 0, 0, 0, 0, 0, 0, 0, 0, 0, 0, 0, 0, 0, 0, 0, 0, 0, 0, 0, 0, 0, 0, 0, 0, 0, 0, 0, 0, 0, 0, 0, 0, 0, 0, 0, 0, 0, 0, 0, 0, 0, 0, 0, 0, 0, 0, 0, 0, 0, 0, 0, 0, 0, 0, 0, 0, 0, 0, 0, 0, 0, 0, 0, 0, 0, 0, 0, 0, 0, 0, 0, 0, 0, 0, 0, 0, 0, 0, 0, 0, 0, 0, 0, 0, 0, 0, 0, 0, 0, 0, 0, 0, 0, 0, 0, 0, 0, 0, 0, 0, 0, 0, 0, 0, 0, 0, 0, 0, 0, 0, 0, 0, 0, 0, 0, 0, 0, 0, 0, 0, 0, 0, 0, 0, 0, 0, 0, 0, 0, 0, 0, 0, 0, 0, 0, 0, 0, 0, 0, 0, 0, 0, 0, 0, 0, 0, 0, 0, 0, 0, 0, 0, 0, 0, 0, 0, 0, 0, 0, 0, 0, 0, 0, 0, 0, 0, 0, 0, 0, 0, 0, 0, 0, 0, 0, 0, 0, 0, 0, 0, 0, 0, 0, 0, 0, 0, 0, 0, 0, 0, 0, 0, 0, 0, 0, 0, 0, 0, 0, 0, 0, 0, 0, 0, 0, 0, 0, 0, 0, 0, 0, 0, 0, 0, 0, 0, 0, 0, 0, 0, 0, 0, 0, 0, 0, 0, 0, 0, 0, 0, 0, 0, 0, 0, 0, 0, 0, 0, 0, 0, 0, 0, 0, 0, 0, 0, 0, 0, 0, 0, 0, 0, 0, 0, 0, 0, 0, 0, 0, 0, 0, 0, 0, 0, 0, 0, 0, 0, 0, 0, 0, 0, 0, 0, 0, 0, 0, 0, 0, 0, 0, 0, 0, 0, 0, 0, 0, 0, 0, 0, 0, 0, 0, 0, 0, 0, 0, 0, 0, 0, 0, 0, 0, 0, 0, 0, 0, 0, 0, 0, 0, 0, 0, 0, 0, 0, 0, 0, 0, 0, 0, 0, 0, 0, 0, 0, 0, 0, 0, 0, 0, 0, 0, 0, 0, 0, 0, 0, 0, 0, 0, 0, 0, 0, 0, 0, 0, 0, 0, 0, 0, 0, 0, 0, 0, 0, 0, 0, 0, 0, 0, 0, 0, 0, 0, 0, 0, 0, 0, 0, 0, 0, 0, 0, 0, 0, 0, 0, 0, 0, 0, 0, 0, 0, 0, 0, 0, 0, 0, 0, 0, 0, 0, 0, 0, 0, 0, 0, 0, 0, 0, 0, 0, 0, 0, 0, 0, 0, 0, 0, 0, 0, 0, 0, 0, 0, 0, 0, 0, 0, 0, 0, 0, 0, 0, 0, 0, 0, 0, 0, 0, 0, 0, 0, 0, 0, 0, 0, 0, 0, 0, 0, 0, 0, 0, 0, 0, 0, 0, 0, 0, 0, 0, 0, 0, 0, 0, 0, 0, 0, 0, 0, 0, 0, 0, 0, 0, 0, 0, 0, 0, 0, 0, 0, 0, 0, 0, 0, 0, 0, 0, 0, 0, 0, 0, 0, 0, 0, 0, 0, 0, 0, 0, 0, 0, 0, 0, 0, 0, 0, 0, 0, 0, 0, 0, 0, 0, 0, 0, 0, 0, 0, 0, 0, 0, 0, 0, 0, 0, 0, 0, 0, 0, 0, 0, 0, 0, 0, 0, 0, 0, 0, 0, 0, 0, 0, 0, 0, 0, 0, 0, 0, 0, 0, 0, 0, 0, 0, 0, 0, 0, 0, 0, 0, 0, 0, 0, 0, 0, 0, 0, 0, 0, 0, 0, 0, 0, 0, 0, 0, 0, 0, 0, 0, 0, 0, 0, 0, 0, 0, 0, 0, 0, 0, 0, 0, 0, 0, 0, 0, 0, 0, 0, 0, 0, 0, 0, 0, 0, 0, 0, 0, 0, 0, 0, 0, 0, 0, 0, 0, 0, 0, 0, 0, 0, 0, 0, 0, 0, 0, 0, 0, 0, 0, 0, 0, 0, 0, 0, 0, 0, 0, 0, 0, 0, 0, 0, 0, 0, 0, 0, 0, 0, 0, 0, 0, 0, 0, 0, 0, 0, 0, 0, 0, 0, 0, 0, 0, 0, 0, 0, 0, 0, 0, 0, 0, 0, 0, 0, 0, 0, 0, 0, 0, 0, 0, 0, 0, 0, 0, 0, 0, 0, 0, 0, 0, 0, 0, 0, 0, 0, 0, 0, 0, 0, 0, 0, 0, 0, 0, 0, 0, 0, 0, 0, 0, 0, 0, 0, 0, 0, 0, 0, 0, 0, 0, 0, 0, 0, 0, 0, 0, 0, 0, 0, 0, 0, 0, 0, 0, 0, 0, 0, 0, 0, 0, 0, 0, 0, 0, 0, 0, 0, 0, 0, 0, 0, 0, 0, 0, 0, 0, 0, 0, 0, 0, 0, 0, 0, 0, 0, 0, 0, 0, 0, 0, 0, 0, 0, 0, 0, 0, 0, 0, 0, 0, 0, 0, 0, 0, 0, 0, 0, 0, 0, 0, 0, 0, 0, 0, 0, 0, 0, 0, 0, 0, 0, 0, 0, 0, 0, 0, 0, 0, 0, 0, 0, 0, 0, 0, 0, 0, 0, 0, 0, 0, 0, 0, 0, 0, 0, 0, 0, 0, 0, 0, 0, 0, 0, 0, 0, 0, 0, 0, 0, 0, 0, 0, 0, 0, 0, 0, 0, 0, 0, 0, 0, 0, 0, 0, 0, 0, 0, 0, 0, 0, 0, 0, 0, 0, 0, 0, 0, 0, 0, 0, 0, 0, 0, 0, 0, 0, 0, 0, 0, 0, 0, 0, 0, 0, 0, 0, 0, 0, 0, 0, 0], [1743, 1744, 595, 2573, 611, 5128, 1128, 1125, 2320, 597, 1128, 1125, 5133, 1128, 1125, 795, 1874, 4496, 4965, 625, 3163, 3154, 751, 619, 702, 703, 703, 601, 600, 706, 616, 1128, 1125, 2324, 1984, 4978, 2124, 2320, 1901, 2320, 1033, 1033, 1247, 1033, 1033, 1033, 1247, 1033, 3993, 3997, 3936, 3939, 3917, 4001, 4001, 3974, 3975, 4596, 3514, 154, 153, 5290, 3997, 3939, 2320, 2886, 2112, 2329, 3072, 0, 0, 0, 0, 0, 0, 0, 0, 0, 0, 0, 0, 0, 0, 0, 0, 0, 0, 0, 0, 0, 0, 0, 0, 0, 0, 0, 0, 0, 0, 0, 0, 0, 0, 0, 0, 0, 0, 0, 0, 0, 0, 0, 0, 0, 0, 0, 0, 0, 0, 0, 0, 0, 0, 0, 0, 0, 0, 0, 0, 0, 0, 0, 0, 0, 0, 0, 0, 0, 0, 0, 0, 0, 0, 0, 0, 0, 0, 0, 0, 0, 0, 0, 0, 0, 0, 0, 0, 0, 0, 0, 0, 0, 0, 0, 0, 0, 0, 0, 0, 0, 0, 0, 0, 0, 0, 0, 0, 0, 0, 0, 0, 0, 0, 0, 0, 0, 0, 0, 0, 0, 0, 0, 0, 0, 0, 0, 0, 0, 0, 0, 0, 0, 0, 0, 0, 0, 0, 0, 0, 0, 0, 0, 0, 0, 0, 0, 0, 0, 0, 0, 0, 0, 0, 0, 0, 0, 0, 0, 0, 0, 0, 0, 0, 0, 0, 0, 0, 0, 0, 0, 0, 0, 0, 0, 0, 0, 0, 0, 0, 0, 0, 0, 0, 0, 0, 0, 0, 0, 0, 0, 0, 0, 0, 0, 0, 0, 0, 0, 0, 0, 0, 0, 0, 0, 0, 0, 0, 0, 0, 0, 0, 0, 0, 0, 0, 0, 0, 0, 0, 0, 0, 0, 0, 0, 0, 0, 0, 0, 0, 0, 0, 0, 0, 0, 0, 0, 0, 0, 0, 0, 0, 0, 0, 0, 0, 0, 0, 0, 0, 0, 0, 0, 0, 0, 0, 0, 0, 0, 0, 0, 0, 0, 0, 0, 0, 0, 0, 0, 0, 0, 0, 0, 0, 0, 0, 0, 0, 0, 0, 0, 0, 0, 0, 0, 0, 0, 0, 0, 0, 0, 0, 0, 0, 0, 0, 0, 0, 0, 0, 0, 0, 0, 0, 0, 0, 0, 0, 0, 0, 0, 0, 0, 0, 0, 0, 0, 0, 0, 0, 0, 0, 0, 0, 0, 0, 0, 0, 0, 0, 0, 0, 0, 0, 0, 0, 0, 0, 0, 0, 0, 0, 0, 0, 0, 0, 0, 0, 0, 0, 0, 0, 0, 0, 0, 0, 0, 0, 0, 0, 0, 0, 0, 0, 0, 0, 0, 0, 0, 0, 0, 0, 0, 0, 0, 0, 0, 0, 0, 0, 0, 0, 0, 0, 0, 0, 0, 0, 0, 0, 0, 0, 0, 0, 0, 0, 0, 0, 0, 0, 0, 0, 0, 0, 0, 0, 0, 0, 0, 0, 0, 0, 0, 0, 0, 0, 0, 0, 0, 0, 0, 0, 0, 0, 0, 0, 0, 0, 0, 0, 0, 0, 0, 0, 0, 0, 0, 0, 0, 0, 0, 0, 0, 0, 0, 0, 0, 0, 0, 0, 0, 0, 0, 0, 0, 0, 0, 0, 0, 0, 0, 0, 0, 0, 0, 0, 0, 0, 0, 0, 0, 0, 0, 0, 0, 0, 0, 0, 0, 0, 0, 0, 0, 0, 0, 0, 0, 0, 0, 0, 0, 0, 0, 0, 0, 0, 0, 0, 0, 0, 0, 0, 0, 0, 0, 0, 0, 0, 0, 0, 0, 0, 0, 0, 0, 0, 0, 0, 0, 0, 0, 0, 0, 0, 0, 0, 0, 0, 0, 0, 0, 0, 0, 0, 0, 0, 0, 0, 0, 0, 0, 0, 0, 0, 0, 0, 0, 0, 0, 0, 0, 0, 0, 0, 0, 0, 0, 0, 0, 0, 0, 0, 0, 0, 0, 0, 0, 0, 0, 0, 0, 0, 0, 0, 0, 0, 0, 0, 0, 0, 0, 0, 0, 0, 0, 0, 0, 0, 0, 0, 0, 0, 0, 0, 0, 0, 0, 0, 0, 0, 0, 0, 0, 0, 0, 0, 0, 0, 0, 0, 0, 0, 0, 0, 0, 0, 0, 0, 0, 0, 0, 0, 0, 0, 0, 0, 0, 0, 0, 0, 0, 0, 0, 0, 0, 0, 0, 0, 0, 0, 0, 0, 0, 0, 0, 0, 0, 0, 0, 0, 0, 0, 0, 0, 0, 0, 0, 0, 0, 0, 0, 0, 0, 0, 0, 0, 0, 0, 0, 0, 0, 0, 0, 0, 0, 0, 0, 0, 0, 0, 0, 0, 0, 0, 0, 0, 0, 0, 0, 0, 0, 0, 0, 0, 0, 0, 0, 0, 0, 0, 0, 0, 0, 0, 0, 0, 0, 0, 0, 0, 0, 0, 0, 0, 0, 0, 0, 0, 0, 0, 0, 0, 0, 0, 0, 0, 0, 0, 0, 0, 0, 0, 0, 0, 0, 0, 0, 0, 0, 0, 0, 0, 0, 0, 0, 0, 0, 0, 0, 0, 0, 0, 0, 0, 0, 0, 0, 0, 0, 0, 0, 0, 0, 0, 0, 0, 0, 0, 0, 0, 0, 0, 0, 0, 0, 0, 0, 0, 0, 0, 0, 0, 0, 0, 0, 0, 0, 0, 0, 0, 0, 0, 0, 0, 0, 0, 0, 0, 0, 0, 0, 0, 0, 0, 0, 0, 0, 0, 0, 0, 0, 0, 0, 0, 0, 0, 0, 0, 0, 0, 0, 0, 0, 0, 0, 0, 0, 0, 0, 0, 0, 0, 0, 0, 0, 0, 0, 0, 0, 0, 0, 0, 0, 0, 0, 0, 0, 0, 0, 0, 0, 0, 0, 0, 0, 0, 0, 0, 0, 0, 0, 0, 0, 0, 0, 0, 0, 0, 0, 0, 0, 0, 0, 0, 0, 0, 0, 0, 0, 0, 0, 0, 0, 0, 0, 0, 0, 0, 0, 0, 0, 0, 0, 0, 0, 0, 0, 0, 0, 0, 0, 0, 0, 0, 0, 0, 0, 0, 0, 0, 0, 0, 0, 0, 0, 0, 0, 0, 0, 0, 0, 0, 0, 0, 0, 0, 0, 0, 0, 0, 0, 0, 0, 0, 0, 0, 0, 0, 0, 0, 0, 0, 0, 0, 0, 0, 0, 0, 0, 0, 0, 0, 0, 0, 0, 0, 0, 0, 0, 0, 0, 0, 0, 0, 0, 0, 0, 0, 0, 0, 0, 0, 0, 0, 0, 0, 0, 0, 0, 0, 0, 0, 0, 0, 0, 0, 0, 0, 0, 0, 0, 0, 0, 0, 0, 0, 0, 0, 0, 0, 0, 0, 0, 0, 0, 0, 0, 0, 0, 0, 0, 0, 0, 0, 0, 0, 0, 0, 0, 0, 0, 0, 0, 0, 0, 0, 0, 0, 0, 0, 0, 0, 0, 0, 0, 0, 0, 0, 0, 0, 0, 0, 0, 0, 0, 0, 0, 0, 0, 0, 0, 0, 0, 0, 0, 0, 0, 0, 0, 0, 0, 0, 0, 0, 0, 0, 0, 0, 0, 0, 0, 0, 0, 0, 0, 0, 0, 0, 0, 0, 0, 0, 0, 0, 0, 0, 0, 0, 0, 0, 0, 0, 0, 0, 0, 0, 0, 0, 0, 0, 0, 0, 0, 0, 0, 0, 0, 0, 0, 0, 0, 0, 0, 0, 0, 0, 0, 0, 0, 0, 0, 0, 0, 0, 0, 0, 0, 0, 0, 0, 0, 0, 0, 0, 0, 0, 0, 0, 0, 0, 0, 0, 0, 0, 0, 0, 0, 0, 0, 0, 0, 0, 0, 0, 0, 0, 0, 0, 0, 0, 0, 0, 0, 0, 0, 0, 0, 0, 0, 0, 0, 0, 0, 0, 0, 0, 0, 0, 0, 0, 0, 0, 0, 0, 0, 0, 0, 0, 0, 0, 0, 0, 0, 0, 0, 0, 0, 0, 0, 0, 0, 0, 0, 0, 0, 0, 0, 0, 0, 0, 0, 0, 0, 0, 0, 0, 0, 0, 0, 0, 0, 0, 0, 0, 0, 0, 0, 0, 0, 0, 0, 0, 0, 0, 0, 0, 0, 0, 0, 0, 0, 0, 0, 0, 0, 0, 0, 0, 0, 0, 0, 0, 0, 0, 0, 0, 0, 0, 0, 0, 0, 0, 0, 0, 0, 0, 0, 0, 0, 0, 0, 0, 0, 0, 0, 0, 0, 0, 0, 0, 0, 0, 0, 0, 0, 0, 0, 0, 0, 0, 0, 0, 0, 0, 0, 0, 0, 0, 0, 0, 0, 0, 0, 0, 0, 0, 0, 0, 0, 0, 0, 0, 0, 0, 0, 0, 0, 0, 0, 0, 0, 0, 0, 0, 0, 0, 0, 0, 0, 0, 0, 0, 0, 0, 0, 0, 0, 0, 0, 0, 0, 0, 0, 0, 0, 0, 0, 0, 0, 0, 0, 0, 0, 0, 0, 0, 0, 0, 0, 0, 0, 0, 0, 0, 0, 0, 0, 0, 0, 0, 0, 0, 0, 0, 0, 0, 0, 0, 0, 0, 0, 0, 0, 0, 0, 0, 0, 0, 0, 0, 0, 0, 0, 0, 0, 0, 0, 0, 0, 0, 0, 0, 0, 0, 0, 0, 0, 0, 0, 0, 0, 0, 0, 0, 0, 0, 0, 0, 0, 0, 0, 0, 0, 0, 0, 0, 0, 0, 0, 0, 0, 0, 0, 0, 0, 0, 0, 0, 0, 0, 0, 0, 0, 0, 0, 0, 0, 0, 0, 0, 0, 0, 0, 0, 0, 0, 0, 0, 0, 0, 0, 0, 0, 0, 0, 0, 0, 0, 0, 0, 0, 0, 0, 0, 0, 0, 0, 0, 0, 0, 0, 0, 0, 0, 0, 0, 0, 0, 0, 0, 0, 0, 0, 0, 0, 0, 0, 0, 0, 0, 0, 0, 0, 0, 0, 0, 0, 0, 0, 0, 0, 0, 0, 0, 0, 0, 0, 0, 0, 0, 0, 0, 0, 0, 0, 0, 0, 0, 0, 0, 0, 0, 0, 0, 0, 0, 0, 0, 0, 0, 0, 0, 0, 0, 0, 0, 0, 0, 0, 0, 0, 0, 0, 0, 0, 0, 0, 0, 0, 0, 0, 0, 0, 0, 0, 0, 0, 0, 0, 0, 0, 0, 0, 0, 0, 0, 0, 0, 0, 0, 0, 0, 0, 0, 0, 0, 0, 0, 0, 0, 0, 0, 0, 0, 0, 0, 0, 0, 0, 0, 0, 0, 0, 0, 0, 0, 0, 0, 0, 0, 0, 0, 0, 0, 0, 0, 0, 0, 0, 0, 0, 0, 0, 0, 0, 0, 0, 0, 0, 0, 0, 0, 0, 0, 0, 0, 0, 0, 0, 0, 0, 0, 0, 0, 0, 0, 0, 0, 0, 0, 0, 0, 0, 0, 0, 0, 0, 0, 0, 0, 0, 0, 0, 0, 0, 0, 0, 0, 0, 0, 0, 0, 0, 0, 0, 0, 0, 0, 0, 0, 0, 0, 0, 0, 0, 0, 0, 0, 0, 0, 0, 0, 0, 0, 0, 0, 0, 0, 0, 0, 0, 0, 0, 0, 0, 0, 0, 0, 0, 0, 0, 0, 0, 0, 0, 0, 0, 0, 0, 0, 0, 0, 0, 0, 0, 0, 0, 0, 0, 0, 0, 0, 0, 0, 0, 0, 0, 0, 0, 0, 0, 0, 0, 0, 0, 0, 0, 0, 0, 0, 0, 0, 0, 0, 0, 0, 0, 0, 0, 0, 0, 0, 0, 0, 0, 0, 0, 0, 0, 0, 0, 0, 0, 0, 0, 0, 0, 0, 0, 0, 0, 0, 0, 0, 0, 0, 0, 0, 0, 0, 0, 0, 0, 0, 0, 0, 0, 0, 0, 0, 0, 0, 0, 0, 0, 0, 0, 0, 0, 0, 0, 0, 0, 0, 0, 0, 0, 0, 0, 0, 0, 0, 0, 0, 0, 0, 0, 0, 0, 0, 0, 0, 0, 0, 0, 0, 0, 0, 0, 0, 0, 0, 0, 0, 0, 0, 0, 0, 0, 0, 0, 0, 0, 0, 0, 0, 0, 0, 0, 0, 0, 0, 0, 0, 0, 0, 0, 0, 0, 0, 0, 0, 0, 0, 0, 0, 0, 0, 0, 0, 0, 0, 0, 0, 0, 0, 0, 0, 0, 0, 0, 0, 0, 0, 0, 0, 0, 0, 0, 0, 0, 0, 0, 0, 0, 0, 0, 0, 0, 0, 0, 0, 0, 0, 0, 0, 0, 0, 0, 0, 0, 0, 0, 0, 0, 0, 0, 0, 0, 0, 0, 0, 0, 0, 0, 0, 0, 0, 0, 0, 0, 0, 0, 0, 0, 0, 0, 0, 0, 0, 0, 0, 0, 0, 0, 0, 0, 0, 0, 0, 0, 0, 0, 0, 0, 0, 0, 0, 0, 0, 0, 0, 0, 0, 0, 0, 0, 0, 0, 0, 0, 0, 0, 0, 0, 0, 0, 0, 0, 0, 0, 0, 0, 0, 0, 0, 0, 0, 0, 0, 0, 0, 0, 0, 0, 0, 0, 0, 0, 0, 0, 0, 0, 0, 0, 0, 0, 0, 0, 0, 0, 0, 0, 0, 0, 0, 0, 0, 0, 0, 0, 0, 0, 0, 0, 0, 0, 0, 0, 0, 0, 0, 0, 0, 0, 0, 0, 0, 0, 0, 0, 0, 0, 0, 0, 0, 0, 0, 0, 0, 0, 0, 0, 0, 0, 0, 0, 0, 0, 0, 0, 0, 0, 0, 0, 0, 0, 0, 0, 0, 0, 0, 0, 0, 0, 0, 0, 0, 0, 0, 0, 0, 0, 0, 0, 0, 0, 0, 0, 0, 0, 0, 0, 0, 0, 0, 0, 0, 0, 0, 0, 0, 0, 0, 0, 0, 0, 0, 0, 0, 0, 0, 0, 0, 0, 0, 0, 0, 0, 0, 0, 0, 0, 0, 0, 0, 0, 0, 0, 0, 0, 0, 0, 0, 0, 0, 0, 0, 0, 0, 0, 0, 0, 0, 0, 0, 0, 0, 0, 0, 0, 0, 0, 0, 0, 0, 0, 0, 0, 0, 0, 0, 0, 0, 0, 0, 0, 0, 0, 0, 0, 0, 0, 0, 0, 0, 0, 0, 0, 0, 0, 0, 0, 0, 0, 0, 0, 0, 0, 0, 0, 0, 0, 0, 0, 0, 0, 0, 0, 0, 0, 0, 0, 0, 0, 0, 0, 0, 0, 0, 0, 0, 0, 0, 0, 0, 0, 0, 0, 0, 0, 0, 0, 0, 0, 0, 0, 0, 0, 0, 0, 0, 0, 0, 0, 0, 0, 0, 0, 0, 0, 0, 0, 0, 0, 0, 0, 0, 0, 0, 0, 0, 0, 0, 0, 0, 0, 0, 0, 0, 0, 0, 0, 0, 0, 0, 0, 0, 0, 0, 0, 0, 0, 0, 0, 0, 0, 0, 0, 0, 0, 0, 0, 0, 0, 0, 0, 0, 0, 0, 0, 0, 0, 0, 0, 0, 0, 0, 0, 0, 0, 0, 0, 0, 0, 0, 0, 0, 0, 0, 0, 0, 0, 0, 0, 0, 0, 0, 0, 0, 0, 0, 0, 0, 0, 0, 0, 0, 0, 0, 0, 0, 0, 0, 0, 0, 0, 0, 0, 0, 0, 0, 0, 0, 0, 0, 0, 0, 0, 0, 0, 0, 0, 0, 0, 0, 0, 0, 0, 0, 0, 0, 0, 0, 0, 0, 0, 0, 0, 0, 0, 0, 0, 0, 0, 0, 0, 0, 0, 0, 0, 0, 0, 0, 0, 0, 0, 0, 0, 0, 0, 0, 0, 0, 0, 0, 0, 0, 0, 0, 0, 0, 0, 0, 0, 0, 0, 0, 0, 0, 0, 0, 0, 0, 0, 0, 0, 0, 0, 0, 0, 0, 0, 0, 0, 0, 0, 0, 0, 0, 0, 0, 0, 0, 0, 0, 0, 0, 0, 0, 0, 0, 0, 0, 0, 0, 0, 0, 0, 0, 0, 0, 0, 0, 0, 0, 0, 0, 0, 0, 0, 0, 0, 0, 0, 0, 0, 0, 0, 0, 0, 0, 0, 0, 0, 0, 0, 0, 0, 0, 0, 0, 0, 0, 0, 0, 0, 0, 0, 0, 0, 0, 0, 0, 0, 0, 0, 0, 0, 0, 0, 0, 0, 0, 0, 0, 0, 0, 0, 0, 0, 0, 0, 0, 0, 0, 0, 0, 0, 0, 0, 0, 0, 0, 0, 0, 0, 0, 0, 0, 0, 0, 0, 0, 0, 0, 0, 0, 0, 0, 0, 0, 0, 0, 0, 0, 0, 0, 0, 0, 0, 0, 0, 0, 0, 0, 0, 0, 0, 0, 0, 0, 0, 0, 0, 0, 0, 0, 0, 0, 0, 0, 0, 0, 0, 0, 0, 0, 0, 0, 0, 0, 0, 0, 0, 0, 0, 0, 0, 0, 0, 0, 0, 0, 0, 0, 0, 0, 0, 0, 0, 0, 0, 0, 0, 0, 0, 0, 0, 0, 0, 0, 0, 0, 0, 0, 0, 0, 0, 0, 0, 0, 0, 0, 0, 0, 0, 0, 0, 0, 0, 0, 0, 0, 0, 0, 0, 0, 0, 0, 0, 0, 0, 0, 0, 0, 0, 0, 0, 0, 0, 0, 0, 0, 0, 0, 0, 0, 0, 0, 0, 0, 0, 0, 0, 0, 0, 0, 0, 0, 0, 0, 0, 0, 0, 0, 0, 0, 0, 0, 0, 0, 0, 0, 0, 0, 0, 0, 0, 0, 0, 0, 0, 0, 0, 0, 0, 0, 0, 0, 0, 0, 0, 0, 0, 0, 0, 0, 0, 0, 0, 0, 0, 0, 0, 0, 0, 0, 0, 0, 0, 0, 0, 0, 0, 0, 0, 0, 0, 0, 0, 0, 0, 0, 0, 0, 0, 0, 0, 0, 0, 0, 0, 0, 0, 0, 0, 0, 0, 0, 0, 0, 0, 0, 0, 0, 0, 0, 0, 0, 0, 0, 0, 0, 0, 0, 0, 0, 0, 0, 0, 0, 0, 0, 0, 0, 0, 0, 0, 0, 0, 0, 0, 0, 0, 0, 0, 0, 0, 0, 0, 0, 0, 0, 0, 0, 0, 0, 0, 0, 0, 0, 0, 0, 0, 0, 0, 0, 0, 0, 0, 0, 0, 0, 0, 0, 0, 0, 0, 0, 0, 0, 0, 0, 0, 0, 0, 0, 0, 0, 0, 0, 0, 0, 0, 0, 0, 0, 0, 0, 0, 0, 0, 0, 0, 0, 0, 0, 0, 0, 0, 0, 0, 0, 0, 0, 0, 0, 0, 0, 0, 0, 0, 0, 0, 0, 0, 0, 0, 0, 0, 0, 0, 0, 0, 0, 0, 0, 0, 0, 0, 0, 0, 0, 0, 0, 0, 0, 0, 0, 0, 0, 0, 0, 0, 0, 0, 0, 0, 0, 0, 0, 0, 0, 0, 0, 0, 0, 0, 0, 0, 0, 0, 0, 0, 0, 0, 0, 0, 0, 0, 0, 0, 0, 0, 0, 0, 0, 0, 0, 0, 0, 0, 0, 0, 0, 0, 0, 0, 0, 0, 0, 0, 0, 0, 0, 0, 0, 0, 0, 0, 0, 0, 0, 0, 0, 0, 0, 0, 0, 0, 0, 0, 0, 0, 0, 0, 0, 0, 0, 0, 0, 0, 0, 0, 0, 0, 0, 0, 0, 0, 0, 0, 0, 0, 0, 0, 0, 0, 0, 0, 0, 0, 0, 0, 0, 0, 0, 0, 0, 0, 0, 0, 0, 0, 0, 0, 0, 0, 0, 0, 0, 0, 0, 0, 0, 0, 0, 0, 0, 0, 0, 0, 0, 0, 0, 0, 0, 0, 0, 0, 0, 0, 0, 0, 0, 0, 0, 0, 0, 0, 0, 0, 0, 0, 0, 0, 0, 0, 0, 0, 0, 0, 0, 0, 0, 0, 0, 0, 0, 0, 0, 0, 0, 0, 0, 0, 0, 0, 0, 0, 0, 0, 0, 0, 0, 0, 0, 0, 0, 0, 0, 0, 0, 0, 0, 0, 0, 0, 0, 0, 0, 0, 0, 0, 0, 0, 0, 0, 0, 0, 0, 0, 0, 0, 0, 0, 0, 0, 0, 0, 0, 0, 0, 0, 0, 0, 0, 0, 0, 0, 0, 0, 0, 0, 0, 0, 0, 0, 0, 0, 0, 0, 0, 0, 0, 0, 0, 0, 0, 0, 0, 0, 0, 0, 0, 0, 0, 0, 0, 0, 0, 0, 0, 0, 0, 0, 0, 0, 0, 0, 0, 0, 0, 0, 0, 0, 0, 0, 0, 0, 0, 0, 0, 0, 0, 0, 0, 0, 0, 0, 0, 0, 0, 0, 0, 0, 0, 0, 0, 0, 0, 0, 0, 0, 0, 0, 0, 0, 0, 0, 0, 0, 0, 0, 0, 0, 0, 0, 0, 0, 0, 0, 0, 0, 0, 0, 0, 0, 0, 0, 0, 0, 0, 0, 0, 0, 0, 0, 0, 0, 0, 0, 0, 0, 0, 0, 0, 0, 0, 0, 0, 0, 0, 0, 0, 0, 0, 0, 0, 0, 0, 0, 0, 0, 0, 0, 0, 0, 0, 0, 0, 0, 0, 0, 0, 0, 0, 0, 0, 0, 0, 0, 0, 0, 0, 0, 0, 0, 0, 0, 0, 0, 0, 0, 0, 0, 0, 0, 0, 0, 0, 0, 0, 0, 0, 0, 0, 0, 0, 0, 0, 0, 0, 0, 0, 0, 0, 0, 0, 0, 0, 0, 0, 0, 0, 0, 0, 0, 0, 0, 0, 0, 0, 0, 0, 0, 0, 0, 0, 0, 0, 0, 0, 0, 0, 0, 0, 0, 0, 0, 0, 0, 0, 0, 0, 0, 0, 0, 0, 0, 0, 0, 0, 0, 0, 0, 0, 0, 0, 0, 0, 0, 0, 0, 0, 0, 0, 0, 0, 0, 0, 0, 0, 0, 0, 0, 0, 0, 0, 0, 0, 0, 0, 0, 0, 0, 0, 0, 0, 0, 0, 0, 0, 0, 0, 0, 0, 0, 0, 0, 0, 0, 0, 0, 0, 0, 0, 0, 0, 0, 0, 0, 0, 0, 0, 0, 0, 0, 0, 0, 0, 0, 0, 0, 0, 0, 0, 0, 0, 0, 0, 0, 0, 0, 0, 0, 0, 0, 0, 0, 0, 0, 0, 0, 0, 0, 0, 0, 0, 0, 0, 0, 0, 0, 0, 0, 0, 0, 0, 0, 0, 0, 0, 0, 0, 0, 0, 0, 0, 0, 0, 0, 0, 0, 0, 0, 0, 0, 0, 0, 0, 0, 0, 0, 0, 0, 0, 0, 0, 0, 0, 0, 0, 0, 0, 0, 0, 0, 0, 0, 0, 0, 0, 0, 0, 0, 0, 0, 0, 0, 0, 0, 0, 0, 0, 0, 0, 0, 0, 0, 0, 0, 0, 0, 0, 0, 0, 0, 0, 0, 0, 0, 0, 0, 0, 0, 0, 0, 0, 0, 0, 0, 0, 0, 0, 0, 0, 0, 0, 0, 0, 0, 0, 0, 0, 0, 0, 0, 0, 0, 0, 0, 0, 0, 0, 0, 0, 0, 0, 0, 0, 0, 0, 0, 0, 0, 0, 0, 0, 0, 0, 0, 0, 0, 0, 0, 0, 0, 0, 0, 0, 0, 0, 0, 0, 0, 0, 0, 0, 0, 0, 0, 0, 0, 0, 0, 0, 0, 0, 0, 0, 0, 0, 0, 0, 0, 0, 0, 0, 0, 0, 0, 0, 0, 0, 0, 0, 0, 0, 0, 0, 0, 0, 0, 0, 0, 0, 0, 0, 0, 0, 0, 0, 0, 0, 0, 0, 0, 0, 0, 0, 0, 0, 0, 0, 0, 0, 0, 0, 0, 0, 0, 0, 0, 0, 0, 0, 0, 0, 0, 0, 0, 0, 0, 0, 0, 0, 0, 0, 0, 0, 0, 0, 0, 0, 0, 0, 0, 0, 0, 0, 0, 0, 0, 0, 0, 0, 0, 0, 0, 0, 0, 0, 0, 0, 0, 0, 0, 0, 0, 0, 0, 0, 0, 0, 0, 0, 0, 0, 0, 0, 0, 0, 0, 0, 0, 0, 0, 0, 0, 0, 0, 0, 0, 0, 0, 0, 0, 0, 0, 0, 0, 0, 0, 0, 0, 0, 0, 0, 0, 0, 0, 0, 0, 0, 0, 0, 0, 0, 0, 0, 0, 0, 0, 0, 0, 0, 0, 0, 0, 0, 0, 0, 0, 0, 0, 0, 0, 0, 0, 0, 0, 0, 0, 0, 0, 0, 0, 0, 0, 0, 0, 0, 0, 0, 0, 0, 0, 0, 0, 0, 0, 0, 0, 0, 0, 0, 0, 0, 0, 0, 0, 0, 0, 0, 0, 0, 0, 0, 0, 0, 0, 0, 0, 0, 0, 0, 0, 0, 0, 0, 0, 0, 0, 0, 0, 0, 0, 0, 0, 0, 0, 0, 0, 0, 0, 0, 0, 0, 0, 0, 0, 0, 0, 0, 0, 0, 0, 0, 0, 0, 0, 0, 0, 0, 0, 0, 0, 0, 0, 0, 0, 0, 0, 0, 0, 0, 0, 0, 0, 0, 0, 0, 0, 0, 0, 0, 0, 0, 0, 0, 0, 0, 0, 0, 0, 0, 0, 0, 0, 0, 0, 0, 0, 0, 0, 0, 0, 0, 0, 0, 0, 0, 0, 0, 0, 0, 0, 0, 0, 0, 0, 0, 0, 0, 0, 0, 0, 0, 0, 0, 0, 0, 0, 0, 0, 0, 0, 0, 0, 0, 0, 0, 0, 0, 0, 0, 0, 0, 0, 0, 0, 0, 0, 0, 0, 0, 0, 0, 0, 0, 0, 0, 0, 0, 0, 0, 0, 0, 0, 0, 0, 0, 0, 0, 0, 0, 0, 0, 0, 0, 0, 0, 0, 0, 0, 0, 0, 0, 0, 0, 0, 0, 0, 0, 0, 0, 0, 0, 0, 0, 0, 0, 0, 0, 0, 0, 0, 0, 0, 0, 0, 0, 0, 0, 0, 0, 0, 0, 0, 0, 0, 0, 0, 0, 0, 0, 0, 0, 0, 0, 0, 0, 0, 0, 0, 0, 0, 0, 0, 0, 0, 0, 0, 0, 0, 0, 0, 0, 0, 0, 0, 0, 0, 0, 0, 0, 0, 0, 0, 0, 0, 0, 0, 0, 0, 0, 0, 0, 0, 0, 0, 0, 0, 0, 0, 0, 0, 0, 0, 0, 0, 0, 0, 0, 0, 0, 0, 0, 0, 0, 0, 0, 0, 0, 0, 0, 0, 0, 0, 0, 0, 0, 0, 0, 0, 0, 0, 0, 0, 0, 0, 0, 0, 0, 0, 0, 0, 0, 0, 0, 0, 0, 0, 0, 0, 0, 0, 0, 0, 0, 0, 0, 0, 0, 0, 0, 0, 0, 0, 0, 0, 0, 0, 0, 0, 0, 0, 0, 0, 0, 0, 0, 0, 0, 0, 0, 0, 0, 0, 0, 0, 0, 0, 0, 0, 0, 0, 0, 0, 0, 0, 0, 0, 0, 0, 0, 0, 0, 0, 0, 0, 0, 0, 0, 0, 0, 0, 0, 0, 0, 0, 0, 0, 0, 0, 0, 0, 0, 0, 0, 0, 0, 0, 0, 0, 0, 0, 0, 0, 0, 0, 0, 0, 0, 0, 0, 0, 0, 0, 0, 0, 0, 0, 0, 0, 0, 0, 0, 0, 0, 0, 0, 0, 0, 0, 0, 0, 0, 0, 0, 0, 0, 0, 0, 0, 0, 0, 0, 0, 0, 0, 0, 0, 0, 0, 0, 0, 0, 0, 0, 0, 0, 0, 0, 0, 0, 0, 0, 0, 0, 0, 0, 0, 0, 0, 0, 0, 0, 0, 0, 0, 0, 0, 0, 0, 0, 0, 0, 0, 0, 0, 0, 0, 0, 0, 0, 0, 0, 0, 0, 0, 0, 0, 0, 0, 0, 0, 0, 0, 0, 0, 0, 0, 0, 0, 0, 0, 0, 0, 0, 0, 0, 0, 0, 0, 0, 0, 0, 0, 0, 0, 0, 0, 0, 0, 0, 0, 0, 0, 0, 0, 0, 0, 0, 0, 0, 0, 0, 0, 0, 0, 0, 0, 0, 0, 0, 0, 0, 0, 0, 0, 0, 0, 0, 0, 0, 0, 0, 0, 0, 0, 0, 0, 0, 0, 0, 0, 0, 0, 0, 0, 0, 0, 0, 0, 0, 0, 0, 0, 0, 0, 0, 0, 0, 0, 0, 0, 0, 0, 0, 0, 0, 0, 0, 0, 0, 0, 0, 0, 0, 0, 0, 0, 0, 0, 0, 0, 0, 0, 0, 0, 0, 0, 0, 0, 0, 0, 0, 0, 0, 0, 0, 0, 0, 0, 0, 0, 0, 0, 0, 0, 0, 0, 0, 0, 0, 0, 0, 0, 0, 0, 0, 0, 0, 0, 0, 0, 0, 0, 0, 0, 0, 0, 0, 0, 0, 0, 0, 0, 0, 0, 0, 0, 0, 0, 0, 0, 0, 0, 0, 0, 0, 0, 0, 0, 0, 0, 0, 0, 0, 0, 0, 0, 0, 0, 0, 0, 0, 0, 0, 0, 0, 0, 0, 0, 0, 0, 0, 0, 0, 0, 0, 0, 0, 0, 0, 0, 0, 0, 0, 0, 0, 0, 0, 0, 0, 0, 0, 0, 0, 0, 0, 0, 0, 0, 0, 0, 0, 0, 0, 0, 0, 0, 0, 0, 0, 0, 0, 0, 0, 0, 0, 0, 0, 0, 0, 0, 0, 0, 0, 0, 0, 0, 0, 0, 0, 0, 0, 0, 0, 0, 0, 0, 0, 0, 0, 0, 0, 0, 0, 0, 0, 0, 0, 0, 0, 0, 0, 0, 0, 0, 0, 0, 0, 0, 0, 0, 0, 0, 0, 0, 0, 0, 0, 0, 0, 0, 0, 0, 0, 0, 0, 0, 0, 0, 0, 0, 0, 0, 0, 0, 0, 0, 0, 0, 0, 0, 0, 0, 0, 0, 0, 0, 0, 0, 0, 0, 0, 0, 0, 0, 0, 0, 0, 0, 0, 0, 0, 0, 0, 0, 0, 0, 0, 0, 0, 0, 0, 0, 0, 0, 0, 0, 0, 0, 0, 0, 0, 0, 0, 0, 0, 0, 0, 0, 0, 0, 0, 0, 0, 0, 0, 0, 0, 0, 0, 0, 0, 0, 0, 0, 0, 0, 0, 0, 0, 0, 0, 0, 0, 0, 0, 0, 0, 0, 0, 0, 0, 0, 0, 0, 0, 0, 0, 0, 0, 0, 0, 0, 0, 0, 0, 0, 0, 0, 0, 0, 0, 0, 0, 0, 0, 0, 0, 0, 0, 0, 0, 0, 0, 0, 0, 0, 0, 0, 0, 0, 0, 0, 0, 0, 0, 0, 0, 0, 0, 0, 0, 0, 0, 0, 0, 0, 0, 0, 0, 0, 0, 0, 0, 0, 0, 0, 0, 0, 0, 0, 0, 0, 0, 0, 0, 0, 0, 0, 0, 0, 0, 0, 0, 0, 0, 0, 0, 0, 0, 0, 0, 0, 0, 0, 0, 0, 0, 0, 0, 0, 0, 0, 0, 0, 0, 0, 0, 0, 0, 0, 0, 0, 0, 0, 0, 0, 0, 0, 0, 0, 0, 0, 0, 0, 0, 0, 0, 0, 0, 0, 0, 0, 0, 0, 0, 0, 0, 0, 0, 0, 0, 0, 0, 0, 0, 0, 0, 0, 0, 0, 0, 0, 0, 0, 0, 0, 0, 0, 0, 0, 0, 0, 0, 0, 0, 0, 0, 0, 0, 0, 0, 0, 0, 0, 0, 0, 0, 0, 0, 0, 0, 0, 0, 0, 0, 0, 0, 0, 0, 0, 0, 0, 0, 0, 0, 0, 0, 0, 0, 0, 0, 0, 0, 0, 0, 0, 0, 0, 0, 0, 0, 0, 0, 0, 0, 0, 0, 0, 0, 0, 0, 0, 0, 0, 0, 0, 0, 0, 0, 0, 0, 0, 0, 0, 0, 0, 0, 0, 0, 0, 0, 0, 0, 0, 0, 0, 0, 0, 0, 0, 0, 0, 0, 0, 0, 0, 0, 0, 0, 0, 0, 0, 0, 0, 0, 0, 0, 0, 0, 0, 0, 0, 0, 0, 0, 0, 0, 0, 0, 0, 0, 0, 0, 0, 0, 0, 0, 0, 0, 0, 0, 0, 0, 0, 0, 0, 0, 0, 0, 0, 0, 0, 0, 0, 0, 0, 0, 0, 0, 0, 0, 0, 0, 0, 0, 0, 0, 0, 0, 0, 0, 0, 0, 0, 0, 0, 0, 0, 0, 0, 0, 0, 0, 0, 0, 0, 0, 0, 0, 0, 0, 0, 0, 0, 0, 0, 0, 0, 0, 0, 0, 0, 0, 0, 0, 0, 0, 0, 0, 0, 0, 0, 0, 0, 0, 0, 0, 0, 0, 0, 0, 0, 0, 0, 0, 0, 0, 0, 0, 0, 0, 0, 0, 0, 0, 0, 0, 0, 0, 0, 0, 0, 0, 0, 0, 0, 0, 0, 0, 0, 0, 0, 0, 0, 0, 0, 0, 0, 0, 0, 0, 0, 0, 0, 0, 0, 0, 0, 0, 0, 0, 0, 0, 0, 0, 0, 0, 0, 0, 0, 0, 0, 0, 0, 0, 0, 0, 0, 0, 0, 0, 0, 0, 0, 0, 0, 0, 0, 0, 0, 0, 0, 0, 0, 0, 0, 0, 0, 0, 0, 0, 0, 0, 0, 0, 0, 0, 0, 0, 0, 0, 0, 0, 0, 0, 0, 0, 0, 0, 0, 0, 0, 0, 0, 0, 0, 0, 0, 0, 0, 0, 0, 0, 0, 0, 0, 0, 0, 0, 0, 0, 0, 0, 0, 0, 0, 0, 0, 0, 0, 0, 0, 0, 0, 0, 0, 0, 0, 0, 0, 0, 0, 0, 0, 0, 0, 0, 0, 0, 0, 0, 0, 0, 0, 0, 0, 0, 0, 0, 0, 0, 0, 0, 0, 0, 0, 0, 0, 0, 0, 0, 0, 0, 0, 0, 0, 0, 0, 0, 0, 0, 0, 0, 0, 0, 0, 0, 0, 0, 0, 0, 0, 0, 0, 0, 0, 0, 0, 0, 0, 0, 0, 0, 0, 0, 0, 0, 0, 0, 0, 0, 0, 0, 0, 0, 0, 0, 0, 0, 0, 0, 0, 0, 0, 0, 0, 0, 0, 0, 0, 0, 0, 0, 0, 0, 0, 0, 0, 0, 0, 0, 0, 0, 0, 0, 0, 0, 0, 0, 0, 0, 0, 0, 0, 0, 0, 0, 0, 0, 0, 0, 0, 0, 0, 0, 0, 0, 0, 0, 0, 0, 0, 0, 0, 0, 0, 0, 0, 0, 0, 0, 0, 0, 0, 0, 0, 0, 0, 0, 0, 0, 0, 0, 0, 0, 0, 0, 0, 0, 0, 0, 0, 0, 0, 0, 0, 0, 0, 0, 0, 0, 0, 0, 0, 0, 0, 0, 0, 0, 0, 0, 0, 0, 0, 0, 0, 0, 0, 0, 0, 0, 0, 0, 0, 0, 0, 0, 0, 0, 0, 0, 0, 0, 0, 0, 0, 0, 0, 0, 0, 0, 0, 0, 0, 0, 0, 0, 0, 0, 0, 0, 0, 0, 0, 0, 0, 0, 0, 0, 0, 0, 0, 0, 0, 0, 0, 0, 0, 0, 0, 0, 0, 0, 0, 0, 0, 0, 0, 0, 0, 0, 0, 0, 0, 0, 0, 0, 0, 0, 0, 0, 0, 0, 0, 0, 0, 0, 0, 0, 0, 0, 0, 0, 0, 0, 0, 0, 0, 0, 0, 0, 0, 0, 0, 0, 0, 0, 0, 0, 0, 0, 0, 0, 0, 0, 0, 0, 0, 0, 0, 0, 0, 0, 0, 0, 0, 0, 0, 0, 0, 0, 0, 0, 0, 0, 0, 0, 0, 0, 0, 0, 0, 0, 0, 0, 0, 0, 0, 0, 0, 0, 0, 0, 0, 0, 0, 0, 0, 0, 0, 0, 0, 0, 0, 0, 0, 0, 0, 0, 0, 0, 0, 0, 0, 0, 0, 0, 0, 0, 0, 0, 0, 0, 0, 0, 0, 0, 0, 0, 0, 0, 0, 0, 0, 0, 0, 0, 0, 0, 0, 0, 0, 0, 0, 0, 0, 0, 0, 0, 0, 0, 0, 0, 0, 0, 0, 0, 0, 0, 0, 0, 0, 0, 0, 0, 0, 0, 0, 0, 0, 0, 0, 0, 0, 0, 0, 0, 0, 0, 0, 0, 0, 0, 0, 0, 0, 0, 0, 0, 0, 0, 0, 0, 0, 0, 0, 0, 0, 0, 0, 0, 0, 0, 0, 0, 0, 0, 0, 0, 0, 0, 0, 0, 0, 0, 0, 0, 0, 0, 0, 0, 0, 0, 0, 0, 0, 0, 0, 0, 0, 0, 0, 0, 0, 0, 0, 0, 0, 0, 0, 0, 0, 0, 0, 0, 0, 0, 0, 0, 0, 0, 0, 0, 0, 0, 0, 0, 0, 0, 0, 0, 0, 0, 0, 0, 0, 0, 0, 0, 0, 0, 0, 0, 0, 0, 0, 0, 0, 0, 0, 0, 0, 0, 0, 0, 0, 0, 0, 0, 0, 0, 0, 0, 0, 0, 0, 0, 0, 0, 0, 0, 0, 0, 0, 0, 0, 0, 0, 0, 0, 0, 0, 0, 0, 0, 0, 0, 0, 0, 0, 0, 0, 0, 0, 0, 0, 0, 0, 0, 0, 0, 0, 0, 0, 0, 0, 0, 0, 0, 0, 0, 0, 0, 0, 0, 0, 0, 0, 0, 0, 0, 0, 0, 0, 0, 0, 0, 0, 0, 0, 0, 0, 0, 0, 0, 0, 0, 0, 0, 0, 0, 0, 0, 0, 0, 0, 0, 0, 0, 0, 0, 0, 0, 0, 0, 0, 0, 0, 0, 0, 0, 0, 0, 0, 0, 0, 0, 0, 0, 0, 0, 0, 0, 0, 0, 0, 0, 0, 0, 0, 0, 0, 0, 0, 0, 0, 0, 0, 0, 0, 0, 0, 0, 0, 0, 0, 0, 0, 0, 0, 0, 0, 0, 0, 0, 0, 0, 0, 0, 0, 0, 0, 0, 0, 0, 0, 0, 0, 0, 0, 0, 0, 0, 0, 0, 0, 0, 0, 0, 0, 0, 0, 0, 0, 0, 0, 0, 0, 0, 0, 0, 0, 0, 0, 0, 0, 0, 0, 0, 0, 0, 0, 0, 0, 0, 0, 0, 0, 0, 0, 0, 0, 0, 0, 0, 0, 0, 0, 0, 0, 0, 0, 0, 0, 0, 0, 0, 0, 0, 0, 0, 0, 0, 0, 0, 0, 0, 0, 0, 0, 0, 0, 0, 0, 0, 0, 0, 0, 0, 0, 0, 0, 0, 0, 0, 0, 0, 0, 0, 0, 0, 0, 0, 0, 0, 0, 0, 0, 0, 0, 0, 0, 0, 0, 0, 0, 0, 0, 0, 0, 0, 0, 0, 0, 0, 0, 0, 0, 0, 0, 0, 0, 0, 0, 0, 0, 0, 0, 0, 0, 0, 0, 0, 0, 0, 0, 0, 0, 0, 0, 0, 0, 0, 0, 0, 0, 0, 0, 0, 0, 0, 0, 0, 0, 0, 0, 0, 0, 0, 0, 0, 0, 0, 0, 0, 0, 0, 0, 0, 0, 0, 0, 0, 0, 0, 0, 0, 0, 0, 0, 0, 0, 0, 0, 0, 0, 0, 0, 0, 0, 0, 0, 0, 0, 0, 0, 0, 0, 0, 0, 0, 0, 0, 0, 0, 0, 0, 0, 0, 0, 0, 0, 0, 0, 0, 0, 0, 0, 0, 0, 0, 0, 0, 0, 0, 0, 0, 0, 0, 0, 0, 0, 0, 0, 0, 0, 0, 0, 0, 0, 0, 0, 0, 0, 0, 0, 0, 0, 0, 0, 0, 0, 0, 0, 0, 0, 0, 0, 0, 0, 0, 0, 0, 0, 0, 0, 0, 0, 0, 0, 0, 0, 0, 0, 0, 0, 0, 0, 0, 0, 0, 0, 0, 0, 0, 0, 0, 0, 0, 0, 0, 0, 0, 0, 0, 0, 0, 0, 0, 0, 0, 0, 0, 0, 0, 0, 0, 0, 0, 0, 0, 0, 0, 0, 0, 0, 0, 0, 0, 0, 0, 0, 0, 0, 0, 0, 0, 0, 0, 0, 0, 0, 0, 0, 0, 0, 0, 0, 0, 0, 0, 0, 0, 0, 0, 0, 0, 0, 0, 0, 0, 0, 0, 0, 0, 0, 0, 0, 0, 0, 0, 0, 0, 0, 0, 0, 0, 0, 0, 0, 0, 0, 0, 0, 0, 0, 0, 0, 0, 0, 0, 0, 0, 0, 0, 0, 0, 0, 0, 0, 0, 0, 0, 0, 0, 0, 0, 0, 0, 0, 0, 0, 0, 0, 0, 0, 0, 0, 0, 0, 0, 0, 0, 0, 0, 0, 0, 0, 0, 0, 0, 0, 0, 0, 0, 0, 0, 0, 0, 0, 0, 0, 0, 0, 0, 0, 0, 0, 0, 0, 0, 0, 0, 0, 0, 0, 0, 0, 0, 0, 0, 0, 0, 0, 0, 0, 0, 0, 0, 0, 0, 0, 0, 0, 0, 0, 0, 0, 0, 0, 0, 0, 0, 0, 0, 0, 0, 0, 0, 0, 0, 0, 0, 0, 0, 0, 0, 0, 0, 0, 0, 0, 0, 0, 0, 0, 0, 0, 0, 0, 0, 0, 0, 0, 0, 0, 0, 0, 0, 0, 0, 0, 0, 0, 0, 0, 0, 0, 0, 0, 0, 0, 0, 0, 0, 0, 0, 0, 0, 0, 0, 0, 0, 0, 0, 0, 0, 0, 0, 0, 0, 0, 0, 0, 0, 0, 0, 0, 0, 0, 0, 0, 0, 0, 0, 0, 0, 0, 0, 0, 0, 0, 0, 0, 0, 0, 0, 0, 0, 0, 0, 0, 0, 0, 0, 0, 0, 0, 0, 0, 0, 0, 0, 0, 0, 0, 0, 0, 0, 0, 0, 0, 0, 0, 0, 0, 0, 0, 0, 0, 0, 0, 0, 0, 0, 0, 0, 0, 0, 0, 0, 0, 0, 0, 0, 0, 0, 0, 0, 0, 0, 0, 0, 0, 0, 0, 0, 0, 0, 0, 0, 0, 0, 0, 0, 0, 0, 0, 0, 0, 0, 0, 0, 0, 0, 0, 0, 0, 0, 0, 0, 0, 0, 0, 0, 0, 0, 0, 0, 0, 0, 0, 0, 0, 0, 0, 0, 0, 0, 0, 0, 0, 0, 0, 0, 0, 0, 0, 0, 0, 0, 0, 0, 0, 0, 0, 0, 0, 0, 0, 0, 0, 0, 0, 0, 0, 0, 0, 0, 0, 0, 0, 0, 0, 0, 0, 0, 0, 0, 0, 0, 0, 0, 0, 0, 0, 0, 0, 0, 0, 0, 0, 0, 0, 0, 0, 0, 0, 0, 0, 0, 0, 0, 0, 0, 0, 0, 0, 0, 0, 0, 0, 0, 0, 0, 0, 0, 0, 0, 0, 0, 0, 0, 0, 0, 0, 0, 0, 0, 0, 0, 0, 0, 0, 0, 0, 0, 0, 0, 0, 0, 0, 0, 0, 0, 0, 0, 0, 0, 0, 0, 0, 0, 0, 0, 0, 0, 0, 0, 0, 0, 0, 0, 0, 0, 0, 0, 0, 0, 0, 0, 0, 0, 0, 0, 0, 0, 0, 0, 0, 0, 0, 0, 0, 0, 0, 0, 0, 0, 0, 0, 0, 0, 0, 0, 0, 0, 0, 0, 0, 0, 0, 0, 0, 0, 0, 0, 0, 0, 0, 0, 0, 0, 0, 0, 0, 0, 0, 0, 0, 0, 0, 0, 0, 0, 0, 0, 0, 0, 0, 0, 0, 0, 0, 0, 0, 0, 0, 0, 0, 0, 0, 0, 0, 0, 0, 0, 0, 0, 0, 0, 0, 0, 0, 0, 0, 0, 0, 0, 0, 0, 0, 0, 0, 0, 0, 0, 0, 0, 0, 0, 0, 0, 0, 0, 0, 0, 0, 0, 0, 0, 0, 0, 0, 0, 0, 0, 0, 0, 0, 0, 0, 0, 0, 0, 0, 0, 0, 0, 0, 0, 0, 0, 0, 0, 0, 0, 0, 0, 0, 0, 0, 0, 0, 0, 0, 0, 0, 0, 0, 0, 0, 0, 0, 0, 0, 0, 0, 0, 0, 0, 0, 0, 0, 0, 0, 0, 0, 0, 0, 0, 0, 0, 0, 0, 0, 0, 0, 0, 0, 0, 0, 0, 0, 0, 0, 0, 0, 0, 0, 0, 0, 0, 0, 0, 0, 0, 0, 0, 0, 0, 0, 0, 0, 0, 0, 0, 0, 0, 0, 0, 0, 0, 0, 0, 0, 0, 0, 0, 0, 0, 0, 0, 0, 0, 0, 0, 0, 0, 0, 0, 0, 0, 0, 0, 0, 0, 0, 0, 0, 0, 0, 0, 0, 0, 0, 0, 0, 0, 0, 0, 0, 0, 0, 0, 0, 0, 0, 0, 0, 0, 0, 0, 0, 0, 0, 0, 0, 0, 0, 0, 0, 0, 0, 0, 0, 0, 0, 0, 0, 0, 0, 0, 0, 0, 0, 0, 0, 0, 0, 0, 0, 0, 0, 0, 0, 0, 0, 0, 0, 0, 0, 0, 0, 0, 0, 0, 0, 0, 0, 0, 0, 0, 0, 0, 0, 0, 0, 0, 0, 0, 0, 0, 0, 0, 0, 0, 0, 0, 0, 0, 0, 0, 0, 0, 0, 0, 0, 0, 0, 0, 0, 0, 0, 0, 0, 0, 0, 0, 0, 0, 0, 0, 0, 0, 0, 0, 0, 0, 0, 0, 0, 0, 0, 0, 0, 0, 0, 0, 0, 0, 0, 0, 0, 0, 0, 0, 0, 0, 0, 0, 0, 0, 0, 0, 0, 0, 0, 0, 0, 0, 0, 0, 0, 0, 0, 0, 0, 0, 0, 0, 0, 0, 0, 0, 0, 0, 0, 0, 0, 0, 0, 0, 0, 0, 0, 0, 0, 0, 0, 0, 0, 0, 0, 0, 0, 0, 0, 0, 0, 0, 0, 0, 0, 0, 0, 0, 0, 0, 0, 0, 0, 0, 0, 0, 0, 0, 0, 0, 0, 0, 0, 0, 0, 0, 0, 0, 0, 0, 0, 0, 0, 0, 0, 0, 0, 0, 0, 0, 0, 0, 0, 0, 0, 0, 0, 0, 0, 0, 0, 0, 0, 0, 0, 0, 0, 0, 0, 0, 0, 0, 0, 0, 0, 0, 0, 0, 0, 0, 0, 0, 0, 0, 0, 0, 0, 0, 0, 0, 0, 0, 0, 0, 0, 0, 0, 0, 0, 0, 0, 0, 0, 0, 0, 0, 0, 0, 0, 0, 0, 0, 0, 0, 0, 0, 0, 0, 0, 0, 0, 0, 0, 0, 0, 0, 0, 0, 0, 0, 0, 0, 0, 0, 0, 0, 0, 0, 0, 0, 0, 0, 0, 0, 0, 0, 0, 0, 0, 0, 0, 0, 0, 0, 0, 0, 0, 0, 0, 0, 0, 0, 0, 0, 0, 0, 0, 0, 0, 0, 0, 0, 0, 0, 0, 0, 0, 0, 0, 0, 0, 0, 0, 0, 0, 0, 0, 0, 0, 0, 0, 0, 0, 0, 0, 0, 0, 0, 0, 0, 0, 0, 0, 0, 0, 0, 0, 0, 0, 0, 0, 0, 0, 0, 0, 0, 0, 0, 0, 0, 0, 0, 0, 0, 0, 0, 0, 0, 0, 0, 0, 0, 0, 0, 0, 0, 0, 0, 0, 0, 0, 0, 0, 0, 0, 0, 0, 0, 0, 0, 0, 0, 0, 0, 0, 0, 0, 0, 0, 0, 0, 0, 0, 0, 0, 0, 0, 0, 0, 0, 0, 0, 0, 0, 0, 0, 0, 0, 0, 0, 0, 0, 0, 0, 0, 0, 0, 0, 0, 0, 0, 0, 0, 0, 0, 0, 0, 0, 0, 0, 0, 0, 0, 0, 0, 0, 0, 0, 0, 0, 0, 0, 0, 0, 0, 0, 0, 0, 0, 0, 0, 0, 0, 0, 0, 0, 0, 0, 0, 0, 0, 0, 0, 0, 0, 0, 0, 0, 0, 0, 0, 0, 0, 0, 0, 0, 0, 0, 0, 0, 0, 0, 0, 0, 0, 0, 0, 0, 0, 0, 0, 0, 0, 0, 0, 0, 0, 0, 0, 0, 0, 0, 0, 0, 0, 0, 0, 0, 0, 0, 0, 0, 0, 0, 0, 0, 0, 0, 0, 0, 0, 0, 0, 0, 0, 0, 0, 0, 0, 0, 0, 0, 0, 0, 0, 0, 0, 0, 0, 0, 0, 0, 0, 0, 0, 0, 0, 0, 0, 0, 0, 0, 0, 0, 0, 0, 0, 0, 0, 0, 0, 0, 0, 0, 0, 0, 0, 0, 0, 0, 0, 0, 0, 0, 0, 0, 0, 0, 0, 0, 0, 0, 0, 0, 0, 0, 0, 0, 0, 0, 0, 0, 0, 0, 0, 0, 0, 0, 0, 0, 0, 0, 0, 0, 0, 0, 0, 0, 0, 0, 0, 0, 0, 0, 0, 0, 0, 0, 0, 0, 0, 0, 0, 0, 0, 0, 0, 0, 0, 0, 0, 0, 0, 0, 0, 0, 0, 0, 0, 0, 0, 0, 0, 0, 0, 0, 0, 0, 0, 0, 0, 0, 0, 0, 0, 0, 0, 0, 0, 0, 0, 0, 0, 0, 0, 0, 0, 0, 0, 0, 0, 0, 0, 0, 0, 0, 0, 0, 0, 0, 0, 0, 0, 0, 0, 0, 0, 0, 0, 0, 0, 0, 0, 0, 0, 0, 0, 0, 0, 0, 0, 0, 0, 0, 0, 0, 0, 0, 0, 0, 0, 0, 0, 0, 0, 0, 0, 0, 0, 0, 0, 0, 0, 0, 0, 0, 0, 0, 0, 0, 0, 0, 0, 0, 0, 0, 0, 0, 0, 0, 0, 0, 0, 0, 0, 0, 0, 0, 0, 0, 0, 0, 0, 0, 0, 0, 0, 0, 0, 0, 0, 0, 0, 0, 0, 0, 0, 0, 0, 0, 0, 0, 0, 0, 0, 0, 0, 0, 0, 0, 0, 0, 0, 0, 0, 0, 0, 0, 0, 0, 0, 0, 0, 0, 0, 0, 0, 0, 0, 0, 0, 0, 0, 0, 0, 0, 0, 0, 0, 0, 0, 0, 0, 0, 0, 0, 0, 0, 0, 0, 0, 0, 0, 0, 0, 0, 0, 0, 0, 0, 0, 0, 0, 0, 0, 0, 0, 0, 0, 0, 0, 0, 0, 0, 0, 0, 0, 0, 0, 0, 0, 0, 0, 0, 0, 0, 0, 0, 0, 0, 0, 0, 0, 0, 0, 0, 0, 0, 0, 0, 0, 0, 0, 0, 0, 0, 0, 0, 0, 0, 0, 0, 0, 0, 0, 0, 0, 0, 0, 0, 0, 0, 0, 0, 0, 0, 0, 0, 0, 0, 0, 0, 0, 0, 0, 0, 0, 0, 0, 0, 0, 0, 0, 0, 0, 0, 0, 0, 0, 0, 0, 0, 0, 0, 0, 0, 0, 0, 0, 0, 0, 0, 0, 0, 0, 0, 0, 0, 0, 0, 0, 0, 0, 0, 0, 0, 0, 0, 0, 0, 0, 0, 0, 0, 0, 0, 0, 0, 0, 0, 0, 0, 0, 0, 0, 0, 0, 0, 0, 0, 0, 0, 0, 0, 0, 0, 0, 0, 0, 0, 0, 0, 0, 0, 0, 0, 0, 0, 0, 0, 0, 0, 0, 0, 0, 0, 0, 0, 0, 0, 0, 0, 0, 0, 0, 0, 0, 0, 0, 0, 0, 0, 0, 0, 0, 0, 0, 0, 0, 0, 0, 0, 0, 0, 0, 0, 0, 0, 0, 0, 0, 0, 0, 0, 0, 0, 0, 0, 0, 0, 0, 0, 0, 0, 0, 0, 0, 0, 0, 0, 0, 0, 0, 0, 0, 0, 0, 0, 0, 0, 0, 0, 0, 0, 0, 0, 0, 0, 0, 0, 0, 0, 0, 0, 0, 0, 0, 0, 0, 0, 0, 0, 0, 0, 0, 0, 0, 0, 0, 0, 0, 0, 0, 0, 0, 0, 0, 0, 0, 0, 0, 0, 0, 0, 0, 0, 0, 0, 0, 0, 0, 0, 0, 0, 0, 0, 0, 0, 0, 0, 0, 0, 0, 0, 0, 0, 0, 0, 0, 0, 0, 0, 0, 0, 0, 0, 0, 0, 0, 0, 0, 0, 0, 0, 0, 0, 0, 0, 0, 0, 0, 0, 0, 0, 0, 0, 0, 0, 0, 0, 0, 0, 0, 0, 0, 0, 0, 0, 0, 0, 0, 0, 0, 0, 0, 0, 0, 0, 0, 0, 0, 0, 0, 0, 0, 0, 0, 0, 0, 0, 0, 0, 0, 0, 0, 0, 0, 0, 0, 0, 0, 0, 0, 0, 0, 0, 0, 0, 0, 0, 0, 0, 0, 0, 0, 0, 0, 0, 0, 0, 0, 0, 0, 0, 0, 0, 0, 0, 0, 0, 0, 0, 0, 0, 0, 0, 0, 0, 0, 0, 0, 0, 0, 0, 0, 0, 0, 0, 0, 0, 0, 0, 0, 0, 0, 0, 0, 0, 0, 0, 0, 0, 0, 0, 0, 0, 0, 0, 0, 0, 0, 0, 0, 0, 0, 0, 0, 0, 0, 0, 0, 0, 0, 0, 0, 0, 0, 0, 0, 0, 0, 0, 0, 0, 0, 0, 0, 0, 0, 0, 0, 0, 0, 0, 0, 0, 0, 0, 0, 0, 0, 0, 0, 0, 0, 0, 0, 0, 0, 0, 0, 0, 0, 0, 0, 0, 0, 0, 0, 0, 0, 0, 0, 0, 0, 0, 0, 0, 0, 0, 0, 0, 0, 0, 0, 0, 0, 0, 0, 0, 0, 0, 0, 0, 0, 0, 0, 0, 0, 0, 0, 0, 0, 0, 0, 0, 0, 0, 0, 0, 0, 0, 0, 0, 0, 0, 0, 0, 0, 0, 0, 0, 0, 0, 0, 0, 0, 0, 0, 0, 0, 0, 0, 0, 0, 0, 0, 0, 0, 0, 0, 0, 0, 0, 0, 0, 0, 0, 0, 0, 0, 0, 0, 0, 0, 0, 0, 0, 0, 0, 0, 0, 0, 0, 0, 0, 0, 0, 0, 0, 0, 0, 0, 0, 0, 0, 0, 0, 0, 0, 0, 0, 0, 0, 0, 0, 0, 0, 0, 0, 0, 0, 0, 0, 0, 0, 0, 0, 0, 0, 0, 0, 0, 0, 0, 0, 0, 0, 0, 0, 0, 0, 0, 0, 0, 0, 0, 0, 0, 0, 0, 0, 0, 0, 0, 0, 0, 0, 0, 0, 0, 0, 0, 0, 0, 0, 0, 0, 0, 0, 0, 0, 0, 0, 0, 0, 0, 0, 0, 0, 0, 0, 0, 0, 0, 0, 0, 0, 0, 0, 0, 0, 0, 0, 0, 0, 0, 0, 0, 0, 0, 0, 0, 0, 0, 0, 0, 0, 0, 0, 0, 0, 0, 0, 0, 0, 0, 0, 0, 0, 0, 0, 0, 0, 0, 0, 0, 0, 0, 0, 0, 0, 0, 0, 0, 0, 0, 0, 0, 0, 0, 0, 0, 0, 0, 0, 0, 0, 0, 0, 0, 0, 0, 0, 0, 0, 0, 0, 0, 0, 0, 0, 0, 0, 0, 0, 0, 0, 0, 0, 0, 0, 0, 0, 0, 0, 0, 0, 0, 0, 0, 0, 0, 0, 0, 0, 0, 0, 0, 0, 0, 0, 0, 0, 0, 0, 0, 0, 0, 0, 0, 0, 0, 0, 0, 0, 0, 0, 0, 0, 0, 0, 0, 0, 0, 0, 0, 0, 0, 0, 0, 0, 0, 0, 0, 0, 0, 0, 0, 0, 0, 0, 0, 0, 0, 0, 0, 0, 0, 0, 0, 0, 0, 0, 0, 0, 0, 0, 0, 0, 0, 0, 0, 0, 0, 0, 0, 0, 0, 0, 0, 0, 0, 0, 0, 0, 0, 0, 0, 0, 0, 0, 0, 0, 0, 0, 0, 0, 0, 0, 0, 0, 0, 0, 0, 0, 0, 0, 0, 0, 0, 0, 0, 0, 0, 0, 0, 0, 0, 0, 0, 0, 0, 0, 0, 0, 0, 0, 0, 0, 0, 0, 0, 0, 0, 0, 0, 0, 0, 0, 0, 0, 0, 0, 0, 0, 0, 0, 0, 0, 0, 0, 0, 0, 0, 0, 0, 0, 0, 0, 0, 0, 0, 0, 0, 0, 0, 0, 0, 0, 0, 0, 0, 0, 0, 0, 0, 0, 0, 0, 0, 0, 0, 0, 0, 0, 0, 0, 0, 0, 0, 0, 0, 0, 0, 0, 0, 0, 0, 0, 0, 0, 0, 0, 0, 0, 0, 0, 0, 0, 0, 0, 0, 0, 0, 0, 0, 0, 0, 0, 0, 0, 0, 0, 0, 0, 0, 0, 0, 0, 0, 0, 0, 0, 0, 0, 0, 0, 0, 0, 0, 0, 0, 0, 0, 0, 0, 0, 0, 0, 0, 0, 0, 0, 0, 0, 0, 0, 0, 0, 0, 0, 0, 0, 0, 0, 0, 0, 0, 0, 0, 0, 0, 0, 0, 0, 0, 0, 0, 0, 0, 0, 0, 0, 0, 0, 0, 0, 0, 0, 0, 0, 0, 0, 0, 0, 0, 0, 0, 0, 0, 0, 0, 0, 0, 0, 0, 0, 0, 0, 0, 0, 0, 0, 0, 0, 0, 0, 0, 0, 0, 0, 0, 0, 0, 0, 0, 0, 0, 0, 0, 0, 0, 0, 0, 0, 0, 0, 0, 0, 0, 0, 0, 0, 0, 0, 0, 0, 0, 0, 0, 0, 0, 0, 0, 0, 0, 0, 0, 0, 0, 0, 0, 0, 0, 0, 0, 0, 0, 0, 0, 0, 0, 0, 0, 0, 0, 0, 0, 0, 0, 0, 0, 0, 0, 0, 0, 0, 0, 0, 0, 0, 0, 0, 0, 0, 0, 0, 0, 0, 0, 0, 0, 0, 0, 0, 0, 0, 0, 0, 0, 0, 0, 0, 0, 0, 0, 0, 0, 0, 0, 0, 0, 0, 0, 0, 0, 0, 0, 0, 0, 0, 0, 0, 0, 0, 0, 0, 0, 0, 0, 0, 0, 0, 0, 0, 0, 0, 0, 0, 0, 0, 0, 0, 0, 0, 0, 0, 0, 0, 0, 0, 0, 0, 0, 0, 0, 0, 0, 0, 0, 0, 0, 0, 0, 0, 0, 0, 0, 0, 0, 0, 0, 0, 0, 0, 0, 0, 0, 0, 0, 0, 0, 0, 0, 0, 0, 0, 0, 0, 0, 0, 0, 0, 0, 0, 0, 0, 0, 0, 0, 0, 0, 0, 0, 0, 0, 0, 0, 0, 0, 0, 0, 0, 0, 0, 0, 0, 0, 0, 0, 0, 0, 0, 0, 0, 0, 0, 0, 0, 0, 0, 0, 0, 0, 0, 0, 0, 0, 0, 0, 0, 0, 0, 0, 0, 0, 0, 0, 0, 0, 0, 0, 0, 0, 0, 0, 0, 0, 0, 0, 0, 0, 0, 0, 0, 0, 0, 0, 0, 0, 0, 0, 0, 0, 0, 0, 0, 0, 0, 0, 0, 0, 0, 0, 0, 0, 0, 0, 0, 0, 0, 0, 0, 0, 0, 0, 0, 0, 0, 0, 0, 0, 0, 0, 0, 0, 0, 0, 0, 0, 0, 0, 0, 0, 0, 0, 0, 0, 0, 0, 0, 0, 0, 0, 0, 0, 0, 0, 0, 0, 0, 0, 0, 0, 0, 0, 0, 0, 0, 0, 0, 0, 0, 0, 0]]\n"
     ]
    }
   ],
   "source": [
    "trainStateTransitionVector =  createStateVectors(trainSamples, stateDict,9353)\n",
    "testStateTransitionVector = createStateVectors(testSamples, stateDict,9353)\n",
    "print trainStateTransitionVector[:2], testStateTransitionVector[:2]"
   ]
  },
  {
   "cell_type": "code",
   "execution_count": 46,
   "metadata": {
    "collapsed": false
   },
   "outputs": [
    {
     "name": "stdout",
     "output_type": "stream",
     "text": [
      "9353\n",
      "9353\n"
     ]
    }
   ],
   "source": [
    "print max([len(i) for i in trainStateTransitionVector])\n",
    "print max([len(i) for i in testStateTransitionVector])"
   ]
  },
  {
   "cell_type": "code",
   "execution_count": 51,
   "metadata": {
    "collapsed": false
   },
   "outputs": [
    {
     "name": "stdout",
     "output_type": "stream",
     "text": [
      "10 -1\n",
      "10 -1\n",
      "10 10\n",
      "10 2\n",
      "10 3\n",
      "10 10\n",
      "10 10\n",
      "10 10\n",
      "10 5\n",
      "10 10\n",
      "10 10\n",
      "10 -1\n",
      "10 10\n",
      "10 1\n",
      "10 4\n",
      "10 10\n",
      "10 5\n",
      "10 7\n",
      "10 10\n",
      "10 10\n",
      "10 10\n",
      "10 10\n",
      "10 5\n",
      "10 10\n",
      "10 -1\n",
      "10 -1\n",
      "10 10\n",
      "10 4\n",
      "10 10\n",
      "10 -1\n"
     ]
    }
   ],
   "source": [
    "for missingTest in missingPredictionsFromC3.values():\n",
    "    if missingTest[1] != -1:\n",
    "        print YPred[missingTest[0]], missingTest[1]\n",
    "        YPred[missingTest[0]] = missingTest[1]\n",
    "    else:\n",
    "        print YPred[missingTest[0]], missingTest[1]\n",
    "#         YPred[missingTest[0]] = 10\n",
    "writePrdictedLabelFile(YPred)"
   ]
  },
  {
   "cell_type": "code",
   "execution_count": null,
   "metadata": {
    "collapsed": true
   },
   "outputs": [],
   "source": [
    "# f = open(\"testVW.dat\",'w')\n",
    "# for tm in testClean:\n",
    "#     f.write(' | '+tm[1] + '\\r')\n",
    "# f.close()\n",
    "    "
   ]
  },
  {
   "cell_type": "code",
   "execution_count": null,
   "metadata": {
    "collapsed": false
   },
   "outputs": [],
   "source": [
    "# f = open(\"trainVW.dat\",'w')\n",
    "# for tr in trainClean:\n",
    "#     f.write(str(tr[0])+' | '+tr[1] + '\\r')\n",
    "# f.close()\n",
    "# #     "
   ]
  },
  {
   "cell_type": "markdown",
   "metadata": {},
   "source": [
    "### Test Example for HMM"
   ]
  },
  {
   "cell_type": "code",
   "execution_count": null,
   "metadata": {
    "collapsed": false
   },
   "outputs": [],
   "source": [
    "with open(r'Train Data/0.txt') as f:\n",
    "    lines = f.readlines()\n",
    "\n",
    "\n",
    "X = np.array(lines).reshape(-1,1)\n",
    "print type(X)\n",
    "X.shape"
   ]
  },
  {
   "cell_type": "markdown",
   "metadata": {},
   "source": [
    "### String needs to be converted to numerical features before applying HMM\n",
    "### TF-IDF & n-gram can be tried"
   ]
  },
  {
   "cell_type": "markdown",
   "metadata": {},
   "source": [
    "### HMM Model"
   ]
  },
  {
   "cell_type": "code",
   "execution_count": null,
   "metadata": {
    "collapsed": false
   },
   "outputs": [],
   "source": [
    "from hmmlearn.hmm import GaussianHMM\n",
    "\n",
    "# Make an HMM instance and fitting to HMM\n",
    "model = GaussianHMM(n_components=4, covariance_type=\"diag\", n_iter=1000).fit(X)\n",
    "\n",
    "# Predict the optimal sequence of internal hidden state\n",
    "hidden_states = model.predict(X)"
   ]
  },
  {
   "cell_type": "markdown",
   "metadata": {},
   "source": [
    "### Print trained parameters and plot"
   ]
  },
  {
   "cell_type": "code",
   "execution_count": null,
   "metadata": {
    "collapsed": true
   },
   "outputs": [],
   "source": [
    "print(\"Transition matrix\")\n",
    "print(model.transmat_)\n",
    "print()\n",
    "\n",
    "print(\"Means and vars of each hidden state\")\n",
    "for i in range(model.n_components):\n",
    "    print(\"{0}th hidden state\".format(i))\n",
    "    print(\"mean = \", model.means_[i])\n",
    "    print(\"var = \", np.diag(model.covars_[i]))\n",
    "    print()\n",
    "\n",
    "fig, axs = plt.subplots(model.n_components, sharex=True, sharey=True)\n",
    "colours = cm.rainbow(np.linspace(0, 1, model.n_components))\n",
    "for i, (ax, colour) in enumerate(zip(axs, colours)):\n",
    "    # Use fancy indexing to plot data in each state.\n",
    "    mask = hidden_states == i\n",
    "    ax.plot_date(dates[mask], close_v[mask], \".-\", c=colour)\n",
    "    ax.set_title(\"{0}th hidden state\".format(i))\n",
    "\n",
    "    # Format the ticks.\n",
    "    ax.xaxis.set_major_locator(YearLocator())\n",
    "    ax.xaxis.set_minor_locator(MonthLocator())\n",
    "\n",
    "    ax.grid(True)\n",
    "\n",
    "fig.tight_layout()\n",
    "fig.autofmt_xdate()\n",
    "fig.show()"
   ]
  },
  {
   "cell_type": "markdown",
   "metadata": {
    "collapsed": true
   },
   "source": [
    "### Classifiers"
   ]
  },
  {
   "cell_type": "code",
   "execution_count": 23,
   "metadata": {
    "collapsed": true
   },
   "outputs": [],
   "source": [
    "# Random Forest Classifier\n",
    "from sklearn.ensemble import RandomForestClassifier\n",
    "# def classifyRandomForestClassifier(XTrain, XTest, YTrain, YTest,trees=100,crit='gini'):\n",
    "def classifyRandomForestClassifier(XTrain, XTest, YTrain, YTest, params):\n",
    "    trees = params['trees']\n",
    "    crit = params['criterion']\n",
    "    seed = params['random_state']\n",
    "    clf = RandomForestClassifier(n_estimators=trees,criterion=crit,random_state=seed)\n",
    "    clf.fit(XTrain, YTrain)\n",
    "    YPred = clf.predict(XTest)\n",
    "    diff = YPred - YTest\n",
    "    score = diff[diff == 0].size\n",
    "    return (100.0 * score)/(YPred.size)"
   ]
  },
  {
   "cell_type": "code",
   "execution_count": 24,
   "metadata": {
    "collapsed": true
   },
   "outputs": [],
   "source": [
    "#Multi Class SVM\n",
    "from sklearn import svm\n",
    "def classifyMultiClassSVMClassifier(XTrain, XTest, YTrain, YTest, params):\n",
    "    ker = params['kernel']\n",
    "    YPred = svm.SVC(kernel=ker).fit(XTrain, YTrain).predict(XTest)\n",
    "    diff = YPred - YTest\n",
    "    score = diff[diff == 0].size\n",
    "    return (100.0 * score)/(YPred.size)"
   ]
  },
  {
   "cell_type": "code",
   "execution_count": 25,
   "metadata": {
    "collapsed": true
   },
   "outputs": [],
   "source": [
    "#K Nearest Neighbours Classifier\n",
    "from sklearn.neighbors import KNeighborsClassifier\n",
    "def classifyKNNClassifier(XTrain, XTest, YTrain, YTest, params):\n",
    "#     print XTrain.shape, XTest.shape\n",
    "    neighbours = params['neighbours']\n",
    "    neigh = KNeighborsClassifier(n_neighbors=neighbours)\n",
    "    YPred = neigh.fit(XTrain, YTrain).predict(XTest)\n",
    "    diff = YPred - YTest\n",
    "    score = diff[diff == 0].size\n",
    "    return (100.0 * score)/(YPred.size)"
   ]
  },
  {
   "cell_type": "code",
   "execution_count": 26,
   "metadata": {
    "collapsed": false
   },
   "outputs": [],
   "source": [
    "# Logistic Regression\n",
    "from sklearn import linear_model\n",
    "def classifyLogisticRegression(XTrain, XTest, YTrain, YTest, params):\n",
    "    LogReg = linear_model.LogisticRegression(penalty='l2', dual=False, tol=0.0001, C=1.0, fit_intercept=True, intercept_scaling=1, class_weight=None, random_state=None)\n",
    "    LogReg.fit(XTrain, YTrain)\n",
    "    # Finds the optimal model parameters using a least squares method.\n",
    "    # To get the parameter values:\n",
    "    # LogReg.get_params()\n",
    "    # To predict a new input XTest,\n",
    "    YPred = LogReg.predict(XTest)\n",
    "    diff = YPred - YTest\n",
    "    score = diff[diff == 0].size\n",
    "    return (100.0 * score)/(YPred.size)"
   ]
  },
  {
   "cell_type": "markdown",
   "metadata": {},
   "source": [
    "### Stratified K Fold Cross Validation"
   ]
  },
  {
   "cell_type": "code",
   "execution_count": 27,
   "metadata": {
    "collapsed": true
   },
   "outputs": [],
   "source": [
    "from sklearn.cross_validation import StratifiedKFold\n",
    "def stratifiedKFoldVal(XTrain, YTrain, classify, params):\n",
    "    n_folds = 5\n",
    "    score = 0.0\n",
    "    skf = StratifiedKFold(YTrain, n_folds)\n",
    "    for train_index, test_index in skf:\n",
    "#         print train_index, test_index#, XTrain[train_index], XTrain[test_index]\n",
    "        X_train, X_test = XTrain[train_index], XTrain[test_index]\n",
    "        y_train, y_test = YTrain[train_index], YTrain[test_index]\n",
    "#         X_train, X_test = [XTrain[i] for i in train_index], [XTrain[i] for i in test_index]\n",
    "#         y_train, y_test = [YTrain[i] for i in train_index], [YTrain[i] for i in test_index]\n",
    "#         print np.array(X_train).reshape(-1,1).shape, np.array(X_test).reshape(-1,1).shape\n",
    "#         print X_train,X_test\n",
    "#         score += classify(np.array(X_train), np.array(X_test),  y_train, y_test, params)\n",
    "        score += classify(X_train, X_test,  y_train, y_test, params)\n",
    "    return score/n_folds"
   ]
  },
  {
   "cell_type": "markdown",
   "metadata": {},
   "source": [
    "### Write Predicted Output Labels to File"
   ]
  },
  {
   "cell_type": "code",
   "execution_count": 28,
   "metadata": {
    "collapsed": true
   },
   "outputs": [],
   "source": [
    "def writePrdictedLabelFile(YPred):\n",
    "    f = open(\"Predictions.csv\",\"w\")\n",
    "    f.write(\"Id,Label\" + \"\\n\")\n",
    "    for i in xrange(len(YPred)):\n",
    "        f.write(str(i) + \",\" + str(int(YPred[i]))+ \"\\n\")\n",
    "    f.close()"
   ]
  },
  {
   "cell_type": "markdown",
   "metadata": {},
   "source": [
    "### Normalisation of Feature Vectors"
   ]
  },
  {
   "cell_type": "code",
   "execution_count": null,
   "metadata": {
    "collapsed": false
   },
   "outputs": [],
   "source": [
    "from sklearn import preprocessing\n",
    "def NormalizeVector(XTestFeatures,XTrainFeatures):\n",
    "    XTestFeaturesNorm = preprocessing.normalize(XTestFeatures, norm='l2')\n",
    "    XTrainFeaturesNorm = preprocessing.normalize(XTrainFeatures, norm='l2')\n",
    "    print XTrainFeaturesNorm.shape,XTestFeaturesNorm.shape\n",
    "#     print XTrainFeaturesNorm[0],XTestFeaturesNorm[0]\n",
    "    return XTrainFeaturesNorm, XTestFeaturesNorm"
   ]
  },
  {
   "cell_type": "code",
   "execution_count": 29,
   "metadata": {
    "collapsed": true
   },
   "outputs": [],
   "source": [
    "# train = trainBagVector\n",
    "# train = tfidfTrain\n",
    "train = trainStateTransitionVector"
   ]
  },
  {
   "cell_type": "markdown",
   "metadata": {},
   "source": [
    "### Selection of Nearest Neighbours for KNN"
   ]
  },
  {
   "cell_type": "code",
   "execution_count": 48,
   "metadata": {
    "collapsed": false
   },
   "outputs": [
    {
     "name": "stdout",
     "output_type": "stream",
     "text": [
      "90.0631390457\n"
     ]
    }
   ],
   "source": [
    "selectNeighbourScores = []\n",
    "\n",
    "params = {'neighbours':2}\n",
    "score = stratifiedKFoldVal(train, YTrain, classifyKNNClassifier, params)\n",
    "print score\n",
    "selectNeighbourScores.append(score)\n",
    "\n",
    "params = {'neighbours':3}\n",
    "score = stratifiedKFoldVal(train, YTrain, classifyKNNClassifier, params)\n",
    "print score\n",
    "selectNeighbourScores.append(score)\n",
    "\n",
    "params = {'neighbours':4}\n",
    "score = stratifiedKFoldVal(train, YTrain, classifyKNNClassifier, params)\n",
    "print score\n",
    "selectNeighbourScores.append(score)\n",
    "\n",
    "params = {'neighbours':5}\n",
    "score = stratifiedKFoldVal(train, YTrain, classifyKNNClassifier, params)\n",
    "print score\n",
    "selectNeighbourScores.append(score)\n",
    "\n",
    "params = {'neighbours':6}\n",
    "score = stratifiedKFoldVal(train, YTrain, classifyKNNClassifier, params)\n",
    "print score\n",
    "selectNeighbourScores.append(score)\n",
    "\n",
    "params = {'neighbours':8}\n",
    "score = stratifiedKFoldVal(train, YTrain, classifyKNNClassifier, params)\n",
    "print score\n",
    "selectNeighbourScores.append(score)\n",
    "\n",
    "params = {'neighbours':10}\n",
    "score = stratifiedKFoldVal(train, YTrain, classifyKNNClassifier, params)\n",
    "print score\n",
    "selectNeighbourScores.append(score)\n",
    "\n",
    "print selectNeighbourScores"
   ]
  },
  {
   "cell_type": "code",
   "execution_count": 32,
   "metadata": {
    "collapsed": false
   },
   "outputs": [
    {
     "data": {
      "image/png": "[encoded data removed]",
      "text/plain": [
       "<matplotlib.figure.Figure at 0x7f14fa961b90>"
      ]
     },
     "metadata": {},
     "output_type": "display_data"
    }
   ],
   "source": [
    "#Plotting the results\n",
    "import matplotlib.pyplot as plt\n",
    "%matplotlib inline\n",
    "plt.plot(selectNeighbourScores, label = \"Neighbors in k-Nearest Neighbor (kNN) Classifier\")\n",
    "plt.title(\"Neighbors in k-Nearest Neighbor (kNN) Classifier\")\n",
    "\n",
    "labels = [2,3,4,5,6,8,10]\n",
    "plt.xticks(np.arange(len(labels)), labels, rotation='horizontal')\n",
    "# plt.title(\"Optimal choice of Neighbors in k-Nearest Neighbor (kNN) Classifier\")\n",
    "plt.ylabel('Categorization Accuracy')\n",
    "plt.xlabel('No. of Neighbours')\n",
    "# plt.legend(bbox_to_anchor=(1.05, 1), loc=2, borderaxespad=0.)\n",
    "plt.show()"
   ]
  },
  {
   "cell_type": "code",
   "execution_count": 47,
   "metadata": {
    "collapsed": false
   },
   "outputs": [
    {
     "name": "stdout",
     "output_type": "stream",
     "text": [
      "706 2042\n"
     ]
    }
   ],
   "source": [
    "print len(testStateTransitionVector), len(trainStateTransitionVector)"
   ]
  },
  {
   "cell_type": "code",
   "execution_count": 50,
   "metadata": {
    "collapsed": true
   },
   "outputs": [],
   "source": [
    "params = {'neighbours':5}\n",
    "neighbours = params['neighbours']\n",
    "neigh = KNeighborsClassifier(n_neighbors=neighbours)\n",
    "YPred = neigh.fit(trainStateTransitionVector, YTrain).predict(testStateTransitionVector)\n",
    "writePrdictedLabelFile(YPred)"
   ]
  },
  {
   "cell_type": "markdown",
   "metadata": {},
   "source": [
    "#### Hence, we choose k=3 for our nearest neighbor classifier."
   ]
  },
  {
   "cell_type": "markdown",
   "metadata": {},
   "source": [
    "### Selection of Parameters for Random Forest"
   ]
  },
  {
   "cell_type": "code",
   "execution_count": null,
   "metadata": {
    "collapsed": false
   },
   "outputs": [
    {
     "name": "stdout",
     "output_type": "stream",
     "text": [
      "91.4290365169\n",
      "91.3302704827"
     ]
    }
   ],
   "source": [
    "selectRandomForestScores = []\n",
    "\n",
    "params = {'trees':200, 'criterion':'entropy','random_state':1000}\n",
    "score = stratifiedKFoldVal(train, YTrain, classifyRandomForestClassifier, params)\n",
    "print score\n",
    "selectRandomForestScores.append(score)\n",
    "\n",
    "params = {'trees':100, 'criterion':'entropy','random_state':1000}\n",
    "score = stratifiedKFoldVal(train, YTrain, classifyRandomForestClassifier, params)\n",
    "print score\n",
    "selectRandomForestScores.append(score)\n",
    "\n",
    "params = {'trees':500, 'criterion':'entropy','random_state':1000}\n",
    "score = stratifiedKFoldVal(train, YTrain, classifyRandomForestClassifier, params)\n",
    "print score\n",
    "selectRandomForestScores.append(score)\n",
    "\n",
    "params = {'trees':50, 'criterion':'entropy','random_state':1000}\n",
    "score = stratifiedKFoldVal(train, YTrain, classifyRandomForestClassifier, params)\n",
    "print score\n",
    "selectRandomForestScores.append(score)\n",
    "\n",
    "params = {'trees':150, 'criterion':'entropy','random_state':1000}\n",
    "score = stratifiedKFoldVal(train, YTrain, classifyRandomForestClassifier, params)\n",
    "print score\n",
    "selectRandomForestScores.append(score)\n",
    "\n",
    "params = {'trees':250, 'criterion':'entropy','random_state':1000}\n",
    "score = stratifiedKFoldVal(train, YTrain, classifyRandomForestClassifier, params)\n",
    "print score\n",
    "selectRandomForestScores.append(score)\n",
    "\n",
    "params = {'trees':200, 'criterion':'gini','random_state':1000}\n",
    "score = stratifiedKFoldVal(train, YTrain, classifyRandomForestClassifier, params)\n",
    "print score\n",
    "selectRandomForestScores.append(score)\n",
    "\n",
    "params = {'trees':100, 'criterion':'gini','random_state':1000}\n",
    "score = stratifiedKFoldVal(train, YTrain, classifyRandomForestClassifier, params)\n",
    "print score\n",
    "selectRandomForestScores.append(score)\n",
    "\n",
    "params = {'trees':500, 'criterion':'gini','random_state':1000}\n",
    "score = stratifiedKFoldVal(train, YTrain, classifyRandomForestClassifier, params)\n",
    "print score\n",
    "selectRandomForestScores.append(score)\n",
    "\n",
    "params = {'trees':50, 'criterion':'gini','random_state':1000}\n",
    "score = stratifiedKFoldVal(train, YTrain, classifyRandomForestClassifier, params)\n",
    "print score\n",
    "selectRandomForestScores.append(score)\n",
    "\n",
    "params = {'trees':150, 'criterion':'gini','random_state':1000}\n",
    "score = stratifiedKFoldVal(train, YTrain, classifyRandomForestClassifier, params)\n",
    "print score\n",
    "selectRandomForestScores.append(score)\n",
    "\n",
    "params = {'trees':250, 'criterion':'gini','random_state':1000}\n",
    "score = stratifiedKFoldVal(train, YTrain, classifyRandomForestClassifier, params)\n",
    "print score\n",
    "selectRandomForestScores.append(score)\n",
    "\n",
    "print selectRandomForestScores"
   ]
  },
  {
   "cell_type": "code",
   "execution_count": 23,
   "metadata": {
    "collapsed": false
   },
   "outputs": [
    {
     "data": {
      "image/png": "[encoded data removed]",
      "text/plain": [
       "<matplotlib.figure.Figure at 0x7f14fa90e910>"
      ]
     },
     "metadata": {},
     "output_type": "display_data"
    }
   ],
   "source": [
    "#Plotting the results\n",
    "import matplotlib.pyplot as plt\n",
    "%matplotlib inline\n",
    "plt.plot(selectRandomForestScores, label = \"Random Forest Classifier\")\n",
    "plt.title(\"Random Forest Classifier\")\n",
    "\n",
    "labels = ['200 Trees + entropy', '100 Trees + entropy', '500 Trees + entropy', '50 Trees + entropy', '150 Trees + entropy','250 Trees + entropy',\n",
    "          '200 Trees + gini', '100 Trees + gini', '500 Trees + gini', '50 Trees + gini','150 Trees + gini','250 Trees + gini']\n",
    "\n",
    "# You can specify a rotation for the tick labels in degrees or with keywords.\n",
    "plt.xticks(np.arange(len(labels)), labels, rotation='vertical')\n",
    "\n",
    "plt.ylabel('Scores')\n",
    "plt.xlabel('Parameters')\n",
    "# Place a legend to the right of this smaller figure.\n",
    "# plt.legend(bbox_to_anchor=(1.05, 1), loc=2, borderaxespad=0.)\n",
    "plt.show()"
   ]
  },
  {
   "cell_type": "code",
   "execution_count": 44,
   "metadata": {
    "collapsed": true
   },
   "outputs": [],
   "source": [
    "params = {'trees':150, 'criterion':'entropy','random_state':None}\n",
    "trees = params['trees']\n",
    "crit = params['criterion']\n",
    "seed = params['random_state']\n",
    "clf = RandomForestClassifier(n_estimators=trees,criterion=crit,random_state=seed)\n",
    "clf.fit(tfidfTrain, YTrain)\n",
    "YPred = clf.predict(tfidfTest)\n",
    "writePrdictedLabelFile(YPred)"
   ]
  },
  {
   "cell_type": "markdown",
   "metadata": {},
   "source": [
    "### Selection of Kernel for Multi Class SVM"
   ]
  },
  {
   "cell_type": "code",
   "execution_count": null,
   "metadata": {
    "collapsed": false
   },
   "outputs": [],
   "source": [
    "selectKernelScores = []\n",
    "\n",
    "params = {'kernel':'poly'}\n",
    "score = stratifiedKFoldVal(train, YTrain, classifyMultiClassSVMClassifier, params)\n",
    "print score\n",
    "selectKernelScores.append(score)\n",
    "\n",
    "params = {'kernel':'linear'}\n",
    "score = stratifiedKFoldVal(train, YTrain, classifyMultiClassSVMClassifier, params)\n",
    "print score\n",
    "selectKernelScores.append(score)\n",
    "\n",
    "params = {'kernel':'rbf'}\n",
    "score = stratifiedKFoldVal(train, YTrain, classifyMultiClassSVMClassifier, params)\n",
    "print score\n",
    "selectKernelScores.append(score)"
   ]
  },
  {
   "cell_type": "code",
   "execution_count": 30,
   "metadata": {
    "collapsed": false
   },
   "outputs": [
    {
     "data": {
      "image/png": "[encoded data removed]",
      "text/plain": [
       "<matplotlib.figure.Figure at 0x7f1513d59210>"
      ]
     },
     "metadata": {},
     "output_type": "display_data"
    }
   ],
   "source": [
    "#Plotting the results\n",
    "import matplotlib.pyplot as plt\n",
    "%matplotlib inline\n",
    "plt.plot(selectKernelScores, label = \"Multiclass SVM Classifier\")\n",
    "\n",
    "labels = ['poly','linear','rbf']\n",
    "plt.title(\"Multiclass SVM Classifier\")\n",
    "# You can specify a rotation for the tick labels in degrees or with keywords.\n",
    "plt.xticks(np.arange(len(labels)), labels, rotation='horizontal')\n",
    "\n",
    "plt.ylabel('Scores')\n",
    "plt.xlabel('Kernel used')\n",
    "# Place a legend to the right of this smaller figure.\n",
    "# plt.legend(bbox_to_anchor=(1.05, 1), loc=2, borderaxespad=0.)\n",
    "plt.show()"
   ]
  },
  {
   "cell_type": "code",
   "execution_count": 32,
   "metadata": {
    "collapsed": true
   },
   "outputs": [],
   "source": [
    "params = {'kernel':'linear'}\n",
    "ker = params['kernel']\n",
    "YPred = svm.SVC(kernel=ker).fit(trainBagVector, YTrain).predict(testBagVector)\n",
    "writePrdictedLabelFile(YPred)"
   ]
  },
  {
   "cell_type": "code",
   "execution_count": 50,
   "metadata": {
    "collapsed": false
   },
   "outputs": [
    {
     "name": "stdout",
     "output_type": "stream",
     "text": [
      "88.0545787077\n",
      "90.6448171355\n"
     ]
    }
   ],
   "source": [
    "train = tfidfTrain\n",
    "score = stratifiedKFoldVal(train, YTrain, classifyLogisticRegression, params)\n",
    "print score\n",
    "train = trainBagVector\n",
    "score = stratifiedKFoldVal(train, YTrain, classifyLogisticRegression, params)\n",
    "print score"
   ]
  },
  {
   "cell_type": "code",
   "execution_count": 115,
   "metadata": {
    "collapsed": false
   },
   "outputs": [
    {
     "name": "stdout",
     "output_type": "stream",
     "text": [
      "87.0218249997\n"
     ]
    }
   ],
   "source": [
    "score = stratifiedKFoldVal(train, YTrain, classifyLogisticRegression, params)\n",
    "print score"
   ]
  },
  {
   "cell_type": "code",
   "execution_count": 34,
   "metadata": {
    "collapsed": true
   },
   "outputs": [],
   "source": [
    "LogReg = linear_model.LogisticRegression(penalty='l2', dual=False, tol=0.0001, C=1.0, fit_intercept=True, intercept_scaling=1, class_weight=None, random_state=None)\n",
    "LogReg.fit(trainBagVector, YTrain)\n",
    "# Finds the optimal model parameters using a least squares method.\n",
    "# To get the parameter values:\n",
    "# LogReg.get_params()\n",
    "# To predict a new input XTest,\n",
    "YPred = LogReg.predict(testBagVector)\n",
    "writePrdictedLabelFile(YPred)"
   ]
  },
  {
   "cell_type": "markdown",
   "metadata": {},
   "source": [
    "### Classification on Binary VT Info Feature Vectors"
   ]
  },
  {
   "cell_type": "code",
   "execution_count": null,
   "metadata": {
    "collapsed": true
   },
   "outputs": [],
   "source": [
    "scoreMultiClassSVMClassifier = []\n",
    "scoreKNNClassifier = []\n",
    "scoreRandomForestClassifier = []"
   ]
  },
  {
   "cell_type": "code",
   "execution_count": null,
   "metadata": {
    "collapsed": false
   },
   "outputs": [],
   "source": [
    "folder = 'vt'\n",
    "VTInfoTaken = ['Panda','AVware','VIPRE','Symantec','Antiy-AVL','Qihoo-360','AhnLab-V3', \\\n",
    "               'Avast','Kaspersky','ESET-NOD32','McAfee','BitDefender']\n",
    "XTrainFeatures = CreateFeatureVec(newXTrain,folder,VTInfoTaken)\n",
    "XTestFeatures = CreateFeatureVec(XTest,folder,VTInfoTaken)\n",
    "# print XTestFeatures.shape, XTestFeatures[0]\n",
    "# print XTrainFeatures.shape,XTrainFeatures[0]\n",
    "\n",
    "params = {'trees':200, 'criterion':'entropy'}\n",
    "score = stratifiedKFoldVal(XTrainFeatures, newYTrain, classifyRandomForestClassifier,params)\n",
    "print score\n",
    "scoreRandomForestClassifier.append(score)\n",
    "\n",
    "params = {'kernel':'linear'}\n",
    "score = stratifiedKFoldVal(XTrainFeatures, newYTrain, classifyMultiClassSVMClassifier, params)\n",
    "print score\n",
    "scoreMultiClassSVMClassifier.append(score)\n",
    "\n",
    "params = {'neighbours':3}\n",
    "score = stratifiedKFoldVal(XTrainFeatures, newYTrain, classifyKNNClassifier, params)\n",
    "print score\n",
    "scoreKNNClassifier.append(score)\n",
    "\n",
    "clf = RandomForestClassifier(n_estimators=200,criterion='entropy')\n",
    "clf.fit(XTrainFeatures, newYTrain)\n",
    "YPred = clf.predict(XTestFeatures)\n",
    "writePrdictedLabelFile(YPred)"
   ]
  },
  {
   "cell_type": "code",
   "execution_count": null,
   "metadata": {
    "collapsed": false
   },
   "outputs": [],
   "source": [
    "folder = 'vt'\n",
    "VTInfoTaken = VTRange.keys()\n",
    "XTrainFeatures = CreateFeatureVec(newXTrain,folder,VTInfoTaken)\n",
    "XTestFeatures = CreateFeatureVec(XTest,folder,VTInfoTaken)\n",
    "# print XTestFeatures.shape, XTestFeatures[0]\n",
    "# print XTrainFeatures.shape,XTrainFeatures[0]\n",
    "# print countNullVectors(XTrainFeatures, len(VTInfoTaken))\n",
    "# print countNullVectors(XTestFeatures, len(VTInfoTaken))\n",
    "\n",
    "params = {'trees':200, 'criterion':'entropy'}\n",
    "score = stratifiedKFoldVal(XTrainFeatures, newYTrain, classifyRandomForestClassifier, params)\n",
    "print score\n",
    "scoreRandomForestClassifier.append(score)\n",
    "\n",
    "# # params = {'kernel':'rbf'}\n",
    "# params = {'kernel':'linear'}\n",
    "# # params = {'kernel':'poly'}\n",
    "# score = stratifiedKFoldVal(XTrainFeatures, newYTrain, classifyMultiClassSVMClassifier, params)\n",
    "# print score\n",
    "# params = {'neighbours':2}\n",
    "# score = stratifiedKFoldVal(XTrainFeatures, newYTrain, classifyKNNClassifier, params)\n",
    "# print score\n",
    "params = {'kernel':'linear'}\n",
    "score = stratifiedKFoldVal(XTrainFeatures, newYTrain, classifyMultiClassSVMClassifier, params)\n",
    "print score\n",
    "scoreMultiClassSVMClassifier.append(score)\n",
    "\n",
    "params = {'neighbours':3}\n",
    "score = stratifiedKFoldVal(XTrainFeatures, newYTrain, classifyKNNClassifier, params)\n",
    "print score\n",
    "scoreKNNClassifier.append(score)\n",
    "\n",
    "clf = RandomForestClassifier(n_estimators=200,criterion='entropy')\n",
    "clf.fit(XTrainFeatures, newYTrain)\n",
    "YPred = clf.predict(XTestFeatures)\n",
    "writePrdictedLabelFile(YPred)"
   ]
  },
  {
   "cell_type": "markdown",
   "metadata": {},
   "source": [
    "### Classification on VT Info Feature Vectors Based on Frequency"
   ]
  },
  {
   "cell_type": "code",
   "execution_count": null,
   "metadata": {
    "collapsed": false
   },
   "outputs": [],
   "source": [
    "folder = 'vt'\n",
    "VTInfoTaken = ['Panda','AVware','VIPRE','Symantec','Antiy-AVL','Qihoo-360','AhnLab-V3', \\\n",
    "               'Avast','Kaspersky','ESET-NOD32','McAfee','BitDefender']\n",
    "VTInfoTaken = VTRange.keys()\n",
    "XTrainFeatures = CreateFeatureVecFreq(newXTrain,folder,VTInfoTaken)\n",
    "XTestFeatures = CreateFeatureVecFreq(XTest,folder,VTInfoTaken)\n",
    "# print XTestFeatures.shape, XTestFeatures[0]\n",
    "# print XTrainFeatures.shape,XTrainFeatures[0]\n",
    "# print countNullVectors(XTrainFeatures, len(VTInfoTaken))\n",
    "# print countNullVectors(XTestFeatures, len(VTInfoTaken))\n",
    "\n",
    "params = {'trees':200, 'criterion':'entropy'}\n",
    "score = stratifiedKFoldVal(XTrainFeatures, newYTrain, classifyRandomForestClassifier, params)\n",
    "print score\n",
    "scoreRandomForestClassifier.append(score)\n",
    "\n",
    "params = {'kernel':'linear'}\n",
    "score = stratifiedKFoldVal(XTrainFeatures, newYTrain, classifyMultiClassSVMClassifier, params)\n",
    "print score\n",
    "scoreMultiClassSVMClassifier.append(score)\n",
    "\n",
    "params = {'neighbours':3}\n",
    "score = stratifiedKFoldVal(XTrainFeatures, newYTrain, classifyKNNClassifier, params)\n",
    "print score\n",
    "scoreKNNClassifier.append(score)\n",
    "\n",
    "clf = RandomForestClassifier(n_estimators=200,criterion='entropy')\n",
    "clf.fit(XTrainFeatures, newYTrain)\n",
    "YPred = clf.predict(XTestFeatures)\n",
    "writePrdictedLabelFile(YPred)"
   ]
  },
  {
   "cell_type": "markdown",
   "metadata": {},
   "source": [
    "### Classification on PE Info Feature Vectors Based on Entropy Mean"
   ]
  },
  {
   "cell_type": "code",
   "execution_count": null,
   "metadata": {
    "collapsed": false
   },
   "outputs": [],
   "source": [
    "### Classification on combination of VT Info Feature Vectors Based on PE Info (Entropy Means)\n",
    "folder = 'peinfo'\n",
    "relevantSubTypes = ['pe_section']\n",
    "PEInfoTaken = ['entropy']\n",
    "XTrainFeaturesPE = CreateFeatureVecPEI(newXTrain,folder,PEInfoTaken,relevantSubTypes)\n",
    "XTestFeaturesPE = CreateFeatureVecPEI(XTest,folder,PEInfoTaken,relevantSubTypes)\n",
    "# print XTestFeaturesPE.shape, XTestFeaturesPE[0]\n",
    "# print XTrainFeaturesPE.shape,XTrainFeaturesPE[0]\n",
    "# print countNullVectors(XTrainFeaturesPE, len(VTInfoTaken))\n",
    "# print countNullVectors(XTestFeaturesPE, len(VTInfoTaken))\n",
    "params = {'trees':200, 'criterion':'entropy'}\n",
    "score = stratifiedKFoldVal(XTrainFeaturesPE, newYTrain, classifyRandomForestClassifier, params)\n",
    "print score\n",
    "scoreRandomForestClassifier.append(score)\n",
    "\n",
    "params = {'kernel':'linear'}\n",
    "score = stratifiedKFoldVal(XTrainFeaturesPE, newYTrain, classifyMultiClassSVMClassifier, params)\n",
    "print score\n",
    "scoreMultiClassSVMClassifier.append(score)\n",
    "\n",
    "params = {'neighbours':3}\n",
    "score = stratifiedKFoldVal(XTrainFeaturesPE, newYTrain, classifyKNNClassifier, params)\n",
    "print score\n",
    "scoreKNNClassifier.append(score)"
   ]
  },
  {
   "cell_type": "markdown",
   "metadata": {},
   "source": [
    "### Classification on Combination of VT Info Feature Vectors Based on Binary Encoding and PE Info(Entropy Means)"
   ]
  },
  {
   "cell_type": "code",
   "execution_count": null,
   "metadata": {
    "collapsed": false
   },
   "outputs": [],
   "source": [
    "folder = 'vt'\n",
    "VTInfoTaken = VTRange.keys()\n",
    "XTrainFeatures = CreateFeatureVec(newXTrain,folder,VTInfoTaken)\n",
    "XTestFeatures = CreateFeatureVec(XTest,folder,VTInfoTaken)\n",
    "# print XTestFeatures.shape, XTestFeatures[0]\n",
    "# print XTrainFeatures.shape,XTrainFeatures[0]\n",
    "# print countNullVectors(XTrainFeatures, len(VTInfoTaken))\n",
    "# print countNullVectors(XTestFeatures, len(VTInfoTaken))\n",
    "\n",
    "folder = 'peinfo'\n",
    "relevantSubTypes = ['pe_section']\n",
    "PEInfoTaken = ['entropy']\n",
    "XTrainFeaturesPE = CreateFeatureVecPEI(newXTrain,folder,PEInfoTaken,relevantSubTypes)\n",
    "XTestFeaturesPE = CreateFeatureVecPEI(XTest,folder,PEInfoTaken,relevantSubTypes)\n",
    "# print XTestFeaturesPE.shape, XTestFeaturesPE[0]\n",
    "# print XTrainFeaturesPE.shape,XTrainFeaturesPE[0]\n",
    "# print countNullVectors(XTrainFeaturesPE, len(VTInfoTaken))\n",
    "# print countNullVectors(XTestFeaturesPE, len(VTInfoTaken))\n",
    "\n",
    "# relevantSubTypes = ['pe_resource']\n",
    "# PEInfoTaken = ['language', 'resource_id']\n",
    "# XTrainFeaturesPE1 = CreateFeatureVecPEI(newXTrain,folder,PEInfoTaken,relevantSubTypes)\n",
    "# XTestFeaturesPE1 = CreateFeatureVecPEI(XTest,folder,PEInfoTaken,relevantSubTypes)\n",
    "# print XTestFeaturesPE1.shape, XTestFeaturesPE1[0]\n",
    "# print XTrainFeaturesPE1.shape,XTrainFeaturesPE1[0]\n",
    "# print countNullVectors(XTrainFeaturesPE1, len(VTInfoTaken))\n",
    "# print countNullVectors(XTestFeaturesPE1, len(VTInfoTaken))\n",
    "\n",
    "params = {'trees':200, 'criterion':'entropy'}\n",
    "score = stratifiedKFoldVal(XTrainFeatures, newYTrain, classifyRandomForestClassifier, params)\n",
    "print score\n",
    "scoreRandomForestClassifier.append(score)\n",
    "\n",
    "params = {'kernel':'linear'}\n",
    "score = stratifiedKFoldVal(XTrainFeatures, newYTrain, classifyMultiClassSVMClassifier, params)\n",
    "print score\n",
    "scoreMultiClassSVMClassifier.append(score)\n",
    "\n",
    "params = {'neighbours':3}\n",
    "score = stratifiedKFoldVal(XTrainFeatures, newYTrain, classifyKNNClassifier, params)\n",
    "print score\n",
    "scoreKNNClassifier.append(score)\n",
    "\n",
    "XTrainClf = np.concatenate((XTrainFeatures, XTrainFeaturesPE), axis=1)\n",
    "XTestClf = np.concatenate((XTestFeatures, XTestFeaturesPE), axis=1)\n",
    "# print XTrainClf[0],XTestClf[0]\n",
    "# print XTrainClf.shape, XTestClf.shape\n",
    "\n",
    "clf = RandomForestClassifier(n_estimators=200,criterion='entropy')\n",
    "clf.fit(XTrainClf, newYTrain)\n",
    "YPred = clf.predict(XTestClf)\n",
    "writePrdictedLabelFile(YPred)"
   ]
  },
  {
   "cell_type": "markdown",
   "metadata": {},
   "source": [
    "### Classification on Combination of VT Info Feature Vectors Based on Frequency Encoding and PE Info(Entropy Means)"
   ]
  },
  {
   "cell_type": "code",
   "execution_count": null,
   "metadata": {
    "collapsed": false
   },
   "outputs": [],
   "source": [
    "folder = 'vt'\n",
    "VTInfoTaken = VTRange.keys()\n",
    "XTrainFeatures = CreateFeatureVecFreq(newXTrain,folder,VTInfoTaken)\n",
    "XTestFeatures = CreateFeatureVecFreq(XTest,folder,VTInfoTaken)\n",
    "# print XTestFeatures.shape, XTestFeatures[0]\n",
    "# print XTrainFeatures.shape,XTrainFeatures[0]\n",
    "# print countNullVectors(XTrainFeatures, len(VTInfoTaken))\n",
    "# print countNullVectors(XTestFeatures, len(VTInfoTaken))\n",
    "\n",
    "folder = 'peinfo'\n",
    "relevantSubTypes = ['pe_section']\n",
    "PEInfoTaken = ['entropy']\n",
    "XTrainFeaturesPE = CreateFeatureVecPEI(newXTrain,folder,PEInfoTaken,relevantSubTypes)\n",
    "XTestFeaturesPE = CreateFeatureVecPEI(XTest,folder,PEInfoTaken,relevantSubTypes)\n",
    "# print XTestFeaturesPE.shape, XTestFeaturesPE[0]\n",
    "# print XTrainFeaturesPE.shape,XTrainFeaturesPE[0]\n",
    "# print countNullVectors(XTrainFeaturesPE, len(VTInfoTaken))\n",
    "# print countNullVectors(XTestFeaturesPE, len(VTInfoTaken))\n",
    "\n",
    "# relevantSubTypes = ['pe_resource']\n",
    "# PEInfoTaken = ['language', 'resource_id']\n",
    "# XTrainFeaturesPE1 = CreateFeatureVecPEI(newXTrain,folder,PEInfoTaken,relevantSubTypes)\n",
    "# XTestFeaturesPE1 = CreateFeatureVecPEI(XTest,folder,PEInfoTaken,relevantSubTypes)\n",
    "# print XTestFeaturesPE1.shape, XTestFeaturesPE1[0]\n",
    "# print XTrainFeaturesPE1.shape,XTrainFeaturesPE1[0]\n",
    "# print countNullVectors(XTrainFeaturesPE1, len(VTInfoTaken))\n",
    "# print countNullVectors(XTestFeaturesPE1, len(VTInfoTaken))\n",
    "\n",
    "params = {'trees':100, 'criterion':'gini'}\n",
    "score = stratifiedKFoldVal(XTrainFeatures, newYTrain, classifyRandomForestClassifier, params)\n",
    "print score\n",
    "scoreRandomForestClassifier.append(score)\n",
    "\n",
    "params = {'kernel':'linear'}\n",
    "score = stratifiedKFoldVal(XTrainFeatures, newYTrain, classifyMultiClassSVMClassifier, params)\n",
    "print score\n",
    "scoreMultiClassSVMClassifier.append(score)\n",
    "\n",
    "params = {'neighbours':3}\n",
    "score = stratifiedKFoldVal(XTrainFeatures, newYTrain, classifyKNNClassifier, params)\n",
    "print score\n",
    "scoreKNNClassifier.append(score)\n",
    "\n",
    "XTrainClf = np.concatenate((XTrainFeatures, XTrainFeaturesPE), axis=1)\n",
    "XTestClf = np.concatenate((XTestFeatures, XTestFeaturesPE), axis=1)\n",
    "# print XTrainClf[0],XTestClf[0]\n",
    "# print XTrainClf.shape, XTestClf.shape\n",
    "\n",
    "clf = RandomForestClassifier(n_estimators=100,criterion='gini')\n",
    "clf.fit(XTrainClf, newYTrain)\n",
    "YPred = clf.predict(XTestClf)\n",
    "writePrdictedLabelFile(YPred)"
   ]
  },
  {
   "cell_type": "markdown",
   "metadata": {},
   "source": [
    "### Graphs depicting Categorization Accuracy scores on KFold Stratified Validation on Train data for:\n",
    "### 1. PE Info <br></br> 2. VTInfo and  <br></br> 3. Both PE Info & VTInfo"
   ]
  },
  {
   "cell_type": "code",
   "execution_count": null,
   "metadata": {
    "collapsed": false
   },
   "outputs": [],
   "source": [
    "print scoreRandomForestClassifier\n",
    "print scoreKNNClassifier\n",
    "print scoreMultiClassSVMClassifier"
   ]
  },
  {
   "cell_type": "code",
   "execution_count": null,
   "metadata": {
    "collapsed": false
   },
   "outputs": [],
   "source": [
    "#Plotting the results\n",
    "import matplotlib.pyplot as plt\n",
    "%matplotlib inline\n",
    "plt.plot(scoreRandomForestClassifier, label = \"Random Forest Classifier\")\n",
    "plt.plot(scoreMultiClassSVMClassifier, label = \"Multiclass Linear SVM Classifier\")\n",
    "plt.plot(scoreKNNClassifier, label = \"KNN Classifier\")\n",
    "\n",
    "labels = ['Limited AVs(Binary Encoding)', 'All AVs(Binary Encoding)', 'All AVs(Frequency Encoding)', 'PE Info(Entropy Mean)', \n",
    "          'All AVs(Binary Encoding) + Entropy Mean','All AVs(Frequency Encoding) + Entropy Mean']\n",
    "\n",
    "# You can specify a rotation for the tick labels in degrees or with keywords.\n",
    "plt.xticks(np.arange(len(labels)), labels, rotation='vertical')\n",
    "\n",
    "plt.ylabel('Scores')\n",
    "plt.xlabel('Feature Encoding used')\n",
    "# Place a legend to the right of this smaller figure.\n",
    "plt.legend(bbox_to_anchor=(1.05, 1), loc=2, borderaxespad=0.)\n",
    "plt.show()"
   ]
  },
  {
   "cell_type": "markdown",
   "metadata": {},
   "source": [
    "## Final evaluation results on Kaggle"
   ]
  },
  {
   "cell_type": "markdown",
   "metadata": {},
   "source": [
    "### Bar graph depicting Public vs Private Categorization Accuracy Scores on the different Models."
   ]
  },
  {
   "cell_type": "code",
   "execution_count": null,
   "metadata": {
    "collapsed": false
   },
   "outputs": [],
   "source": [
    "import numpy as np\n",
    "import matplotlib.pyplot as plt\n",
    "%matplotlib inline\n",
    "N = 6\n",
    "publicScore = (97.733, 97.971, 94.511, 94.988, 95.107, 97.613)\n",
    "privateScore = (96.897, 96.778, 94.272, 95.704, 95.585, 96.778,)\n",
    "modelNames = ('RF(G,100)+Entropy(Median)+Freq', 'RF(G,100)+Entropy(Mean)+Freq', 'kNN(3)+Freq', \n",
    "              'SVM(Linear)+Entropy(Mean)+Binary', 'RF(E,200)+Binary', 'RF(E,150)+Freq')\n",
    "\n",
    "ind = np.arange(N)  # the x locations for the groups\n",
    "width = 0.35       # the width of the bars\n",
    "\n",
    "fig, ax = plt.subplots()\n",
    "rects1 = ax.bar(ind, publicScore, width, color='m')\n",
    "\n",
    "rects2 = ax.bar(ind + width, privateScore, width, color='c')\n",
    "\n",
    "# add some text for labels, title and axes ticks\n",
    "ax.set_ylabel('Scores')\n",
    "ax.set_title('Evaluations of submissions using Categorization Accuracy.')\n",
    "ax.set_xticks(ind + width)\n",
    "ax.set_xticklabels(modelNames,  rotation='vertical')\n",
    "ax.set_ylim(90,100)\n",
    "\n",
    "# def autolabel(rects):\n",
    "#     # attach some text labels\n",
    "#     for rect in rects:\n",
    "#         height = rect.get_height()\n",
    "#         ax.text(rect.get_x() + rect.get_width()/2., 1.05*height,\n",
    "#                 '%d' % int(height),\n",
    "#                 ha='center', va='bottom')\n",
    "\n",
    "# autolabel(rects1)\n",
    "# autolabel(rects2)\n",
    "\n",
    "# Place a legend to the right of this smaller figure.\n",
    "ax.legend((rects1[0], rects2[0]), ('Public Scores', 'Private Scores'), bbox_to_anchor=(1.05, 1), loc=2, borderaxespad=0.)\n",
    "\n",
    "plt.show()"
   ]
  },
  {
   "cell_type": "markdown",
   "metadata": {},
   "source": [
    "### Hence we conclude that the best model is Random Forest with Gini as criterion and 100 Trees using PEInfo with Entropy Mean/Median and frequency encoding on all 75 Antiviruses of VT Info as features !"
   ]
  }
 ],
 "metadata": {
  "kernelspec": {
   "display_name": "Python 2",
   "language": "python",
   "name": "python2"
  },
  "language_info": {
   "codemirror_mode": {
    "name": "ipython",
    "version": 2
   },
   "file_extension": ".py",
   "mimetype": "text/x-python",
   "name": "python",
   "nbconvert_exporter": "python",
   "pygments_lexer": "ipython2",
   "version": "2.7.6"
  }
 },
 "nbformat": 4,
 "nbformat_minor": 0
}

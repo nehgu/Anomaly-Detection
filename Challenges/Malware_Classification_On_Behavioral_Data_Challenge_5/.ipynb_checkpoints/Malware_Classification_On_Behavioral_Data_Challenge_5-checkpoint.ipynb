{
 "cells": [
  {
   "cell_type": "markdown",
   "metadata": {},
   "source": [
    "## Malware Classification on Behavioral Data Challenge 5 "
   ]
  },
  {
   "cell_type": "markdown",
   "metadata": {},
   "source": [
    "### Read the input data files."
   ]
  },
  {
   "cell_type": "code",
   "execution_count": 5,
   "metadata": {
    "collapsed": false
   },
   "outputs": [
    {
     "name": "stdout",
     "output_type": "stream",
     "text": [
      "['0' '10']\n",
      "(2042,)\n",
      "<type 'numpy.ndarray'> [10] (2042, 1)\n"
     ]
    }
   ],
   "source": [
    "import numpy as np\n",
    "import os\n",
    "XTrain = np.loadtxt('training_data.csv', skiprows=1, usecols=(0,1), delimiter=',', dtype='str')\n",
    "print XTrain[0]\n",
    "# XTest = np.loadtxt('test_data_public_new.csv', skiprows=1, usecols=(1,), delimiter=',',dtype='str')\n",
    "# print XTest[0]\n",
    "YTrain = XTrain[:,-1]\n",
    "XTrain = XTrain[:,0]\n",
    "print XTrain.shape\n",
    "YTrain = YTrain.astype(np.int)\n",
    "YTrain = YTrain.reshape(-1,1)\n",
    "print type(YTrain[0]),YTrain[0],YTrain.shape\n",
    "# print XTest.shape"
   ]
  },
  {
   "cell_type": "code",
   "execution_count": 6,
   "metadata": {
    "collapsed": false
   },
   "outputs": [
    {
     "name": "stdout",
     "output_type": "stream",
     "text": [
      "['0' '1' '2' ..., '2039' '2040' '2041'] [[10]\n",
      " [10]\n",
      " [10]\n",
      " ..., \n",
      " [10]\n",
      " [ 5]\n",
      " [10]]\n"
     ]
    }
   ],
   "source": [
    "print XTrain, YTrain"
   ]
  },
  {
   "cell_type": "code",
   "execution_count": 7,
   "metadata": {
    "collapsed": true
   },
   "outputs": [],
   "source": [
    "def readInputFile(inputFile):\n",
    "    with open(inputFile,'r') as f:\n",
    "        return f.readlines()"
   ]
  },
  {
   "cell_type": "code",
   "execution_count": 12,
   "metadata": {
    "collapsed": true
   },
   "outputs": [],
   "source": [
    "def readFolder(folder, fileNames):\n",
    "    path = folder\n",
    "    folderContents = []\n",
    "    for f in fileNames:\n",
    "        folderContents.append(readInputFile(os.path.join(folder, f+'.txt')))\n",
    "    return folderContents"
   ]
  },
  {
   "cell_type": "code",
   "execution_count": 13,
   "metadata": {
    "collapsed": false
   },
   "outputs": [
    {
     "name": "stdout",
     "output_type": "stream",
     "text": [
      "2042\n"
     ]
    }
   ],
   "source": [
    "trainFolder = readFolder(os.getcwd()+os.sep+'train', XTrain)\n",
    "print len(trainFolder)"
   ]
  },
  {
   "cell_type": "code",
   "execution_count": 20,
   "metadata": {
    "collapsed": false
   },
   "outputs": [
    {
     "name": "stdout",
     "output_type": "stream",
     "text": [
      "257 [5, 7, 25, 31, 37, 42, 45, 48, 64, 97, 101, 103, 114, 115, 116, 143, 149, 153, 169, 170, 201, 210, 217, 223, 227, 232, 236, 255, 264, 277, 278, 280, 307, 308, 317, 333, 336, 340, 341, 347, 367, 383, 384, 387, 388, 389, 405, 424, 437, 449, 450, 453, 456, 464, 479, 505, 511, 514, 534, 535, 541, 553, 562, 565, 566, 573, 596, 601, 623, 628, 629, 634, 654, 658, 663, 666, 669, 670, 678, 698, 708, 715, 736, 740, 777, 782, 793, 804, 809, 835, 846, 849, 860, 877, 878, 888, 898, 899, 908, 914, 927, 933, 936, 937, 957, 959, 961, 963, 967, 993, 997, 1008, 1021, 1026, 1027, 1029, 1034, 1037, 1058, 1060, 1070, 1072, 1075, 1077, 1084, 1086, 1088, 1092, 1094, 1100, 1101, 1104, 1105, 1128, 1129, 1157, 1158, 1173, 1179, 1182, 1185, 1213, 1217, 1219, 1226, 1228, 1233, 1234, 1256, 1263, 1273, 1275, 1280, 1288, 1295, 1298, 1300, 1318, 1322, 1331, 1332, 1345, 1355, 1356, 1357, 1377, 1388, 1404, 1423, 1425, 1440, 1441, 1467, 1475, 1476, 1477, 1488, 1493, 1494, 1500, 1508, 1512, 1524, 1530, 1539, 1543, 1555, 1556, 1557, 1564, 1585, 1605, 1608, 1611, 1616, 1622, 1623, 1627, 1643, 1648, 1658, 1660, 1674, 1682, 1690, 1708, 1712, 1718, 1721, 1723, 1725, 1726, 1731, 1734, 1740, 1749, 1754, 1755, 1760, 1766, 1788, 1789, 1791, 1792, 1793, 1797, 1799, 1818, 1824, 1826, 1827, 1834, 1838, 1870, 1879, 1881, 1882, 1883, 1884, 1899, 1909, 1916, 1934, 1938, 1952, 1953, 1970, 1988, 1989, 1992, 1994, 2015, 2025, 2030, 2032, 2033, 2036]\n"
     ]
    }
   ],
   "source": [
    "# for item in trainFolder:\n",
    "count = 0\n",
    "indices = []\n",
    "for i in xrange(len(trainFolder)):\n",
    "    if trainFolder[i]==[]:\n",
    "        indices.append(i)\n",
    "        \n",
    "print len(indices)"
   ]
  },
  {
   "cell_type": "markdown",
   "metadata": {},
   "source": [
    "### Test Example for HMM"
   ]
  },
  {
   "cell_type": "code",
   "execution_count": 13,
   "metadata": {
    "collapsed": false
   },
   "outputs": [
    {
     "name": "stdout",
     "output_type": "stream",
     "text": [
      "<type 'numpy.ndarray'>\n"
     ]
    },
    {
     "data": {
      "text/plain": [
       "(169, 1)"
      ]
     },
     "execution_count": 13,
     "metadata": {},
     "output_type": "execute_result"
    }
   ],
   "source": [
    "with open(r'Train Data/0.txt') as f:\n",
    "    lines = f.readlines()\n",
    "\n",
    "\n",
    "X = np.array(lines).reshape(-1,1)\n",
    "print type(X)\n",
    "X.shape"
   ]
  },
  {
   "cell_type": "markdown",
   "metadata": {},
   "source": [
    "### String needs to be converted to numerical features before applying HMM\n",
    "### TF-IDF & n-gram can be tried"
   ]
  },
  {
   "cell_type": "markdown",
   "metadata": {},
   "source": [
    "### HMM Model"
   ]
  },
  {
   "cell_type": "code",
   "execution_count": 14,
   "metadata": {
    "collapsed": false
   },
   "outputs": [
    {
     "ename": "ValueError",
     "evalue": "could not convert string to float: FlsAlloc\n",
     "output_type": "error",
     "traceback": [
      "\u001b[1;31m---------------------------------------------------------------------------\u001b[0m",
      "\u001b[1;31mValueError\u001b[0m                                Traceback (most recent call last)",
      "\u001b[1;32m<ipython-input-14-808f5f13059f>\u001b[0m in \u001b[0;36m<module>\u001b[1;34m()\u001b[0m\n\u001b[0;32m      2\u001b[0m \u001b[1;33m\u001b[0m\u001b[0m\n\u001b[0;32m      3\u001b[0m \u001b[1;31m# Make an HMM instance and fitting to HMM\u001b[0m\u001b[1;33m\u001b[0m\u001b[1;33m\u001b[0m\u001b[0m\n\u001b[1;32m----> 4\u001b[1;33m \u001b[0mmodel\u001b[0m \u001b[1;33m=\u001b[0m \u001b[0mGaussianHMM\u001b[0m\u001b[1;33m(\u001b[0m\u001b[0mn_components\u001b[0m\u001b[1;33m=\u001b[0m\u001b[1;36m4\u001b[0m\u001b[1;33m,\u001b[0m \u001b[0mcovariance_type\u001b[0m\u001b[1;33m=\u001b[0m\u001b[1;34m\"diag\"\u001b[0m\u001b[1;33m,\u001b[0m \u001b[0mn_iter\u001b[0m\u001b[1;33m=\u001b[0m\u001b[1;36m1000\u001b[0m\u001b[1;33m)\u001b[0m\u001b[1;33m.\u001b[0m\u001b[0mfit\u001b[0m\u001b[1;33m(\u001b[0m\u001b[0mX\u001b[0m\u001b[1;33m)\u001b[0m\u001b[1;33m\u001b[0m\u001b[0m\n\u001b[0m\u001b[0;32m      5\u001b[0m \u001b[1;33m\u001b[0m\u001b[0m\n\u001b[0;32m      6\u001b[0m \u001b[1;31m# Predict the optimal sequence of internal hidden state\u001b[0m\u001b[1;33m\u001b[0m\u001b[1;33m\u001b[0m\u001b[0m\n",
      "\u001b[1;32m/home/vishal/anaconda2/lib/python2.7/site-packages/hmmlearn-0.2.0-py2.7-linux-x86_64.egg/hmmlearn/base.pyc\u001b[0m in \u001b[0;36mfit\u001b[1;34m(self, X, lengths)\u001b[0m\n\u001b[0;32m    419\u001b[0m         \"\"\"\n\u001b[0;32m    420\u001b[0m         \u001b[0mX\u001b[0m \u001b[1;33m=\u001b[0m \u001b[0mcheck_array\u001b[0m\u001b[1;33m(\u001b[0m\u001b[0mX\u001b[0m\u001b[1;33m)\u001b[0m\u001b[1;33m\u001b[0m\u001b[0m\n\u001b[1;32m--> 421\u001b[1;33m         \u001b[0mself\u001b[0m\u001b[1;33m.\u001b[0m\u001b[0m_init\u001b[0m\u001b[1;33m(\u001b[0m\u001b[0mX\u001b[0m\u001b[1;33m,\u001b[0m \u001b[0mlengths\u001b[0m\u001b[1;33m=\u001b[0m\u001b[0mlengths\u001b[0m\u001b[1;33m)\u001b[0m\u001b[1;33m\u001b[0m\u001b[0m\n\u001b[0m\u001b[0;32m    422\u001b[0m         \u001b[0mself\u001b[0m\u001b[1;33m.\u001b[0m\u001b[0m_check\u001b[0m\u001b[1;33m(\u001b[0m\u001b[1;33m)\u001b[0m\u001b[1;33m\u001b[0m\u001b[0m\n\u001b[0;32m    423\u001b[0m \u001b[1;33m\u001b[0m\u001b[0m\n",
      "\u001b[1;32m/home/vishal/anaconda2/lib/python2.7/site-packages/hmmlearn-0.2.0-py2.7-linux-x86_64.egg/hmmlearn/hmm.pyc\u001b[0m in \u001b[0;36m_init\u001b[1;34m(self, X, lengths)\u001b[0m\n\u001b[0;32m    181\u001b[0m         \u001b[1;32mif\u001b[0m \u001b[1;34m'm'\u001b[0m \u001b[1;32min\u001b[0m \u001b[0mself\u001b[0m\u001b[1;33m.\u001b[0m\u001b[0minit_params\u001b[0m \u001b[1;32mor\u001b[0m \u001b[1;32mnot\u001b[0m \u001b[0mhasattr\u001b[0m\u001b[1;33m(\u001b[0m\u001b[0mself\u001b[0m\u001b[1;33m,\u001b[0m \u001b[1;34m\"means_\"\u001b[0m\u001b[1;33m)\u001b[0m\u001b[1;33m:\u001b[0m\u001b[1;33m\u001b[0m\u001b[0m\n\u001b[0;32m    182\u001b[0m             \u001b[0mkmeans\u001b[0m \u001b[1;33m=\u001b[0m \u001b[0mcluster\u001b[0m\u001b[1;33m.\u001b[0m\u001b[0mKMeans\u001b[0m\u001b[1;33m(\u001b[0m\u001b[0mn_clusters\u001b[0m\u001b[1;33m=\u001b[0m\u001b[0mself\u001b[0m\u001b[1;33m.\u001b[0m\u001b[0mn_components\u001b[0m\u001b[1;33m)\u001b[0m\u001b[1;33m\u001b[0m\u001b[0m\n\u001b[1;32m--> 183\u001b[1;33m             \u001b[0mkmeans\u001b[0m\u001b[1;33m.\u001b[0m\u001b[0mfit\u001b[0m\u001b[1;33m(\u001b[0m\u001b[0mX\u001b[0m\u001b[1;33m)\u001b[0m\u001b[1;33m\u001b[0m\u001b[0m\n\u001b[0m\u001b[0;32m    184\u001b[0m             \u001b[0mself\u001b[0m\u001b[1;33m.\u001b[0m\u001b[0mmeans_\u001b[0m \u001b[1;33m=\u001b[0m \u001b[0mkmeans\u001b[0m\u001b[1;33m.\u001b[0m\u001b[0mcluster_centers_\u001b[0m\u001b[1;33m\u001b[0m\u001b[0m\n\u001b[0;32m    185\u001b[0m         \u001b[1;32mif\u001b[0m \u001b[1;34m'c'\u001b[0m \u001b[1;32min\u001b[0m \u001b[0mself\u001b[0m\u001b[1;33m.\u001b[0m\u001b[0minit_params\u001b[0m \u001b[1;32mor\u001b[0m \u001b[1;32mnot\u001b[0m \u001b[0mhasattr\u001b[0m\u001b[1;33m(\u001b[0m\u001b[0mself\u001b[0m\u001b[1;33m,\u001b[0m \u001b[1;34m\"covars_\"\u001b[0m\u001b[1;33m)\u001b[0m\u001b[1;33m:\u001b[0m\u001b[1;33m\u001b[0m\u001b[0m\n",
      "\u001b[1;32m/home/vishal/anaconda2/lib/python2.7/site-packages/sklearn/cluster/k_means_.pyc\u001b[0m in \u001b[0;36mfit\u001b[1;34m(self, X, y)\u001b[0m\n\u001b[0;32m    810\u001b[0m         \"\"\"\n\u001b[0;32m    811\u001b[0m         \u001b[0mrandom_state\u001b[0m \u001b[1;33m=\u001b[0m \u001b[0mcheck_random_state\u001b[0m\u001b[1;33m(\u001b[0m\u001b[0mself\u001b[0m\u001b[1;33m.\u001b[0m\u001b[0mrandom_state\u001b[0m\u001b[1;33m)\u001b[0m\u001b[1;33m\u001b[0m\u001b[0m\n\u001b[1;32m--> 812\u001b[1;33m         \u001b[0mX\u001b[0m \u001b[1;33m=\u001b[0m \u001b[0mself\u001b[0m\u001b[1;33m.\u001b[0m\u001b[0m_check_fit_data\u001b[0m\u001b[1;33m(\u001b[0m\u001b[0mX\u001b[0m\u001b[1;33m)\u001b[0m\u001b[1;33m\u001b[0m\u001b[0m\n\u001b[0m\u001b[0;32m    813\u001b[0m \u001b[1;33m\u001b[0m\u001b[0m\n\u001b[0;32m    814\u001b[0m         \u001b[0mself\u001b[0m\u001b[1;33m.\u001b[0m\u001b[0mcluster_centers_\u001b[0m\u001b[1;33m,\u001b[0m \u001b[0mself\u001b[0m\u001b[1;33m.\u001b[0m\u001b[0mlabels_\u001b[0m\u001b[1;33m,\u001b[0m \u001b[0mself\u001b[0m\u001b[1;33m.\u001b[0m\u001b[0minertia_\u001b[0m\u001b[1;33m,\u001b[0m \u001b[0mself\u001b[0m\u001b[1;33m.\u001b[0m\u001b[0mn_iter_\u001b[0m \u001b[1;33m=\u001b[0m\u001b[0;31m \u001b[0m\u001b[0;31m\\\u001b[0m\u001b[1;33m\u001b[0m\u001b[0m\n",
      "\u001b[1;32m/home/vishal/anaconda2/lib/python2.7/site-packages/sklearn/cluster/k_means_.pyc\u001b[0m in \u001b[0;36m_check_fit_data\u001b[1;34m(self, X)\u001b[0m\n\u001b[0;32m    784\u001b[0m     \u001b[1;32mdef\u001b[0m \u001b[0m_check_fit_data\u001b[0m\u001b[1;33m(\u001b[0m\u001b[0mself\u001b[0m\u001b[1;33m,\u001b[0m \u001b[0mX\u001b[0m\u001b[1;33m)\u001b[0m\u001b[1;33m:\u001b[0m\u001b[1;33m\u001b[0m\u001b[0m\n\u001b[0;32m    785\u001b[0m         \u001b[1;34m\"\"\"Verify that the number of samples given is larger than k\"\"\"\u001b[0m\u001b[1;33m\u001b[0m\u001b[0m\n\u001b[1;32m--> 786\u001b[1;33m         \u001b[0mX\u001b[0m \u001b[1;33m=\u001b[0m \u001b[0mcheck_array\u001b[0m\u001b[1;33m(\u001b[0m\u001b[0mX\u001b[0m\u001b[1;33m,\u001b[0m \u001b[0maccept_sparse\u001b[0m\u001b[1;33m=\u001b[0m\u001b[1;34m'csr'\u001b[0m\u001b[1;33m,\u001b[0m \u001b[0mdtype\u001b[0m\u001b[1;33m=\u001b[0m\u001b[0mnp\u001b[0m\u001b[1;33m.\u001b[0m\u001b[0mfloat64\u001b[0m\u001b[1;33m)\u001b[0m\u001b[1;33m\u001b[0m\u001b[0m\n\u001b[0m\u001b[0;32m    787\u001b[0m         \u001b[1;32mif\u001b[0m \u001b[0mX\u001b[0m\u001b[1;33m.\u001b[0m\u001b[0mshape\u001b[0m\u001b[1;33m[\u001b[0m\u001b[1;36m0\u001b[0m\u001b[1;33m]\u001b[0m \u001b[1;33m<\u001b[0m \u001b[0mself\u001b[0m\u001b[1;33m.\u001b[0m\u001b[0mn_clusters\u001b[0m\u001b[1;33m:\u001b[0m\u001b[1;33m\u001b[0m\u001b[0m\n\u001b[0;32m    788\u001b[0m             raise ValueError(\"n_samples=%d should be >= n_clusters=%d\" % (\n",
      "\u001b[1;32m/home/vishal/anaconda2/lib/python2.7/site-packages/sklearn/utils/validation.pyc\u001b[0m in \u001b[0;36mcheck_array\u001b[1;34m(array, accept_sparse, dtype, order, copy, force_all_finite, ensure_2d, allow_nd, ensure_min_samples, ensure_min_features, warn_on_dtype, estimator)\u001b[0m\n\u001b[0;32m    371\u001b[0m                                       force_all_finite)\n\u001b[0;32m    372\u001b[0m     \u001b[1;32melse\u001b[0m\u001b[1;33m:\u001b[0m\u001b[1;33m\u001b[0m\u001b[0m\n\u001b[1;32m--> 373\u001b[1;33m         \u001b[0marray\u001b[0m \u001b[1;33m=\u001b[0m \u001b[0mnp\u001b[0m\u001b[1;33m.\u001b[0m\u001b[0marray\u001b[0m\u001b[1;33m(\u001b[0m\u001b[0marray\u001b[0m\u001b[1;33m,\u001b[0m \u001b[0mdtype\u001b[0m\u001b[1;33m=\u001b[0m\u001b[0mdtype\u001b[0m\u001b[1;33m,\u001b[0m \u001b[0morder\u001b[0m\u001b[1;33m=\u001b[0m\u001b[0morder\u001b[0m\u001b[1;33m,\u001b[0m \u001b[0mcopy\u001b[0m\u001b[1;33m=\u001b[0m\u001b[0mcopy\u001b[0m\u001b[1;33m)\u001b[0m\u001b[1;33m\u001b[0m\u001b[0m\n\u001b[0m\u001b[0;32m    374\u001b[0m \u001b[1;33m\u001b[0m\u001b[0m\n\u001b[0;32m    375\u001b[0m         \u001b[1;32mif\u001b[0m \u001b[0mensure_2d\u001b[0m\u001b[1;33m:\u001b[0m\u001b[1;33m\u001b[0m\u001b[0m\n",
      "\u001b[1;31mValueError\u001b[0m: could not convert string to float: FlsAlloc\n"
     ]
    }
   ],
   "source": [
    "from hmmlearn.hmm import GaussianHMM\n",
    "\n",
    "# Make an HMM instance and fitting to HMM\n",
    "model = GaussianHMM(n_components=4, covariance_type=\"diag\", n_iter=1000).fit(X)\n",
    "\n",
    "# Predict the optimal sequence of internal hidden state\n",
    "hidden_states = model.predict(X)"
   ]
  },
  {
   "cell_type": "markdown",
   "metadata": {},
   "source": [
    "### Print trained parameters and plot"
   ]
  },
  {
   "cell_type": "code",
   "execution_count": null,
   "metadata": {
    "collapsed": true
   },
   "outputs": [],
   "source": [
    "print(\"Transition matrix\")\n",
    "print(model.transmat_)\n",
    "print()\n",
    "\n",
    "print(\"Means and vars of each hidden state\")\n",
    "for i in range(model.n_components):\n",
    "    print(\"{0}th hidden state\".format(i))\n",
    "    print(\"mean = \", model.means_[i])\n",
    "    print(\"var = \", np.diag(model.covars_[i]))\n",
    "    print()\n",
    "\n",
    "fig, axs = plt.subplots(model.n_components, sharex=True, sharey=True)\n",
    "colours = cm.rainbow(np.linspace(0, 1, model.n_components))\n",
    "for i, (ax, colour) in enumerate(zip(axs, colours)):\n",
    "    # Use fancy indexing to plot data in each state.\n",
    "    mask = hidden_states == i\n",
    "    ax.plot_date(dates[mask], close_v[mask], \".-\", c=colour)\n",
    "    ax.set_title(\"{0}th hidden state\".format(i))\n",
    "\n",
    "    # Format the ticks.\n",
    "    ax.xaxis.set_major_locator(YearLocator())\n",
    "    ax.xaxis.set_minor_locator(MonthLocator())\n",
    "\n",
    "    ax.grid(True)\n",
    "\n",
    "fig.tight_layout()\n",
    "fig.autofmt_xdate()\n",
    "fig.show()"
   ]
  },
  {
   "cell_type": "code",
   "execution_count": null,
   "metadata": {
    "collapsed": true
   },
   "outputs": [],
   "source": []
  },
  {
   "cell_type": "code",
   "execution_count": 19,
   "metadata": {
    "collapsed": true
   },
   "outputs": [],
   "source": [
    "# Random Forest Classifier\n",
    "from sklearn.ensemble import RandomForestClassifier\n",
    "# def classifyRandomForestClassifier(XTrain, XTest, YTrain, YTest,trees=100,crit='gini'):\n",
    "def classifyRandomForestClassifier(XTrain, XTest, YTrain, YTest, params):\n",
    "    trees = params['trees']\n",
    "    crit = params['criterion']\n",
    "    clf = RandomForestClassifier(n_estimators=trees,criterion=crit)\n",
    "    clf.fit(XTrain, YTrain)\n",
    "    YPred = clf.predict(XTest)\n",
    "    diff = YPred - YTest\n",
    "    score = diff[diff == 0].size\n",
    "    return (100.0 * score)/(YPred.size)"
   ]
  },
  {
   "cell_type": "code",
   "execution_count": 20,
   "metadata": {
    "collapsed": true
   },
   "outputs": [],
   "source": [
    "#Multi Class SVM\n",
    "from sklearn import svm\n",
    "def classifyMultiClassSVMClassifier(XTrain, XTest, YTrain, YTest, params):\n",
    "    ker = params['kernel']\n",
    "    YPred = svm.SVC(kernel=ker).fit(XTrain, YTrain).predict(XTest)\n",
    "    diff = YPred - YTest\n",
    "    score = diff[diff == 0].size\n",
    "    return (100.0 * score)/(YPred.size)"
   ]
  },
  {
   "cell_type": "code",
   "execution_count": 21,
   "metadata": {
    "collapsed": true
   },
   "outputs": [],
   "source": [
    "#K Nearest Neighbours Classifier\n",
    "from sklearn.neighbors import KNeighborsClassifier\n",
    "def classifyKNNClassifier(XTrain, XTest, YTrain, YTest, params):\n",
    "    neighbours = params['neighbours']\n",
    "    neigh = KNeighborsClassifier(n_neighbors=neighbours)\n",
    "    YPred = neigh.fit(XTrain, YTrain).predict(XTest)\n",
    "    diff = YPred - YTest\n",
    "    score = diff[diff == 0].size\n",
    "    return (100.0 * score)/(YPred.size)"
   ]
  },
  {
   "cell_type": "markdown",
   "metadata": {},
   "source": [
    "### Stratified K Fold Cross Validation"
   ]
  },
  {
   "cell_type": "code",
   "execution_count": 22,
   "metadata": {
    "collapsed": true
   },
   "outputs": [],
   "source": [
    "from sklearn.cross_validation import StratifiedKFold\n",
    "def stratifiedKFoldVal(XTrain, YTrain, classify, params):\n",
    "    n_folds = 5\n",
    "    score = 0.0\n",
    "    skf = StratifiedKFold(YTrain, n_folds)\n",
    "    for train_index, test_index in skf:\n",
    "        X_train, X_test = XTrain[train_index], XTrain[test_index]\n",
    "        y_train, y_test = YTrain[train_index], YTrain[test_index]\n",
    "        score += classify(X_train, X_test,  y_train, y_test, params)\n",
    "    return score/n_folds"
   ]
  },
  {
   "cell_type": "markdown",
   "metadata": {},
   "source": [
    "### Write Predicted Output Labels to File"
   ]
  },
  {
   "cell_type": "code",
   "execution_count": 23,
   "metadata": {
    "collapsed": true
   },
   "outputs": [],
   "source": [
    "def writePrdictedLabelFile(YPred):\n",
    "    f = open(\"Predictions.csv\",\"w\")\n",
    "    f.write(\"Id,Label\" + \"\\n\")\n",
    "    for i in xrange(len(YPred)):\n",
    "        f.write(str(i) + \",\" + str(int(YPred[i]))+ \"\\n\")\n",
    "    f.close()"
   ]
  },
  {
   "cell_type": "markdown",
   "metadata": {},
   "source": [
    "### Normalisation of Feature Vectors"
   ]
  },
  {
   "cell_type": "code",
   "execution_count": 24,
   "metadata": {
    "collapsed": false
   },
   "outputs": [],
   "source": [
    "from sklearn import preprocessing\n",
    "def NormalizeVector(XTestFeatures,XTrainFeatures):\n",
    "    XTestFeaturesNorm = preprocessing.normalize(XTestFeatures, norm='l2')\n",
    "    XTrainFeaturesNorm = preprocessing.normalize(XTrainFeatures, norm='l2')\n",
    "    print XTrainFeaturesNorm.shape,XTestFeaturesNorm.shape\n",
    "#     print XTrainFeaturesNorm[0],XTestFeaturesNorm[0]\n",
    "    return XTrainFeaturesNorm, XTestFeaturesNorm"
   ]
  },
  {
   "cell_type": "markdown",
   "metadata": {},
   "source": [
    "### Selection of Nearest Neighbours for KNN"
   ]
  },
  {
   "cell_type": "code",
   "execution_count": 29,
   "metadata": {
    "collapsed": false
   },
   "outputs": [
    {
     "name": "stdout",
     "output_type": "stream",
     "text": [
      "78.0577890631\n",
      "84.7012034237\n",
      "83.2831924888\n",
      "83.7686522932\n",
      "81.9300517351\n",
      "[78.05778906312536, 84.70120342373374, 83.28319248883875, 83.76865229323371, 81.93005173514908]\n"
     ]
    }
   ],
   "source": [
    "folder = 'vt'\n",
    "VTInfoTaken = VTRange.keys()\n",
    "XTrainFeatures = CreateFeatureVecFreq(newXTrain,folder,VTInfoTaken)\n",
    "XTestFeatures = CreateFeatureVecFreq(XTest,folder,VTInfoTaken)\n",
    "# print XTestFeatures.shape, XTestFeatures[0]\n",
    "# print XTrainFeatures.shape,XTrainFeatures[0]\n",
    "# print countNullVectors(XTrainFeatures, len(VTInfoTaken))\n",
    "# print countNullVectors(XTestFeatures, len(VTInfoTaken))\n",
    "\n",
    "folder = 'peinfo'\n",
    "relevantSubTypes = ['pe_section']\n",
    "PEInfoTaken = ['entropy']\n",
    "XTrainFeaturesPE = CreateFeatureVecPEI(newXTrain,folder,PEInfoTaken,relevantSubTypes)\n",
    "XTestFeaturesPE = CreateFeatureVecPEI(XTest,folder,PEInfoTaken,relevantSubTypes)\n",
    "# print XTestFeaturesPE.shape, XTestFeaturesPE[0]\n",
    "# print XTrainFeaturesPE.shape,XTrainFeaturesPE[0]\n",
    "# print countNullVectors(XTrainFeaturesPE, len(VTInfoTaken))\n",
    "# print countNullVectors(XTestFeaturesPE, len(VTInfoTaken))\n",
    "\n",
    "# relevantSubTypes = ['pe_resource']\n",
    "# PEInfoTaken = ['language', 'resource_id']\n",
    "# XTrainFeaturesPE1 = CreateFeatureVecPEI(newXTrain,folder,PEInfoTaken,relevantSubTypes)\n",
    "# XTestFeaturesPE1 = CreateFeatureVecPEI(XTest,folder,PEInfoTaken,relevantSubTypes)\n",
    "# print XTestFeaturesPE1.shape, XTestFeaturesPE1[0]\n",
    "# print XTrainFeaturesPE1.shape,XTrainFeaturesPE1[0]\n",
    "# print countNullVectors(XTrainFeaturesPE1, len(VTInfoTaken))\n",
    "# print countNullVectors(XTestFeaturesPE1, len(VTInfoTaken))\n",
    "\n",
    "selectNeighbourScores = []\n",
    "\n",
    "params = {'neighbours':2}\n",
    "score = stratifiedKFoldVal(XTrainFeatures, newYTrain, classifyKNNClassifier, params)\n",
    "print score\n",
    "selectNeighbourScores.append(score)\n",
    "\n",
    "params = {'neighbours':3}\n",
    "score = stratifiedKFoldVal(XTrainFeatures, newYTrain, classifyKNNClassifier, params)\n",
    "print score\n",
    "selectNeighbourScores.append(score)\n",
    "\n",
    "params = {'neighbours':4}\n",
    "score = stratifiedKFoldVal(XTrainFeatures, newYTrain, classifyKNNClassifier, params)\n",
    "print score\n",
    "selectNeighbourScores.append(score)\n",
    "\n",
    "params = {'neighbours':5}\n",
    "score = stratifiedKFoldVal(XTrainFeatures, newYTrain, classifyKNNClassifier, params)\n",
    "print score\n",
    "selectNeighbourScores.append(score)\n",
    "\n",
    "params = {'neighbours':10}\n",
    "score = stratifiedKFoldVal(XTrainFeatures, newYTrain, classifyKNNClassifier, params)\n",
    "print score\n",
    "selectNeighbourScores.append(score)\n",
    "\n",
    "print selectNeighbourScores"
   ]
  },
  {
   "cell_type": "code",
   "execution_count": 50,
   "metadata": {
    "collapsed": false
   },
   "outputs": [
    {
     "data": {
      "image/png": "[encoded data removed]",
      "text/plain": [
       "<matplotlib.figure.Figure at 0x7f31dcef9d90>"
      ]
     },
     "metadata": {},
     "output_type": "display_data"
    }
   ],
   "source": [
    "#Plotting the results\n",
    "import matplotlib.pyplot as plt\n",
    "%matplotlib inline\n",
    "plt.plot(selectNeighbourScores, label = \"Neighbors in k-Nearest Neighbor (kNN) Classifier\")\n",
    "plt.title(\"Neighbors in k-Nearest Neighbor (kNN) Classifier\")\n",
    "\n",
    "labels = [2,3,4,5,10]\n",
    "plt.xticks(np.arange(len(labels)), labels, rotation='horizontal')\n",
    "# plt.title(\"Optimal choice of Neighbors in k-Nearest Neighbor (kNN) Classifier\")\n",
    "plt.ylabel('Categorization Accuracy')\n",
    "plt.xlabel('No. of Neighbours')\n",
    "# plt.legend(bbox_to_anchor=(1.05, 1), loc=2, borderaxespad=0.)\n",
    "plt.show()"
   ]
  },
  {
   "cell_type": "markdown",
   "metadata": {},
   "source": [
    "#### Hence, we choose k=3 for our nearest neighbor classifier."
   ]
  },
  {
   "cell_type": "markdown",
   "metadata": {},
   "source": [
    "### Selection of Parameters for Random Forest"
   ]
  },
  {
   "cell_type": "code",
   "execution_count": 31,
   "metadata": {
    "collapsed": false
   },
   "outputs": [
    {
     "name": "stdout",
     "output_type": "stream",
     "text": [
      "96.3811461176\n",
      "96.2574840381\n",
      "96.1968779775\n",
      "96.3173326736\n",
      "96.1349584729\n",
      "96.0732403745\n",
      "96.260715898\n",
      "96.2601843556\n",
      "96.2580645335\n",
      "96.2587974822\n",
      "96.0745782949\n",
      "96.4409947531\n",
      "[96.38114611763673, 96.25748403812602, 96.19687797751996, 96.31733267359883, 96.13495847287602, 96.07324037446065, 96.26071589800927, 96.26018435555602, 96.25806453348207, 96.25879748216394, 96.07457829494994, 96.44099475310952]\n"
     ]
    }
   ],
   "source": [
    "folder = 'vt'\n",
    "VTInfoTaken = VTRange.keys()\n",
    "XTrainFeatures = CreateFeatureVecFreq(newXTrain,folder,VTInfoTaken)\n",
    "XTestFeatures = CreateFeatureVecFreq(XTest,folder,VTInfoTaken)\n",
    "# print XTestFeatures.shape, XTestFeatures[0]\n",
    "# print XTrainFeatures.shape,XTrainFeatures[0]\n",
    "# print countNullVectors(XTrainFeatures, len(VTInfoTaken))\n",
    "# print countNullVectors(XTestFeatures, len(VTInfoTaken))\n",
    "\n",
    "folder = 'peinfo'\n",
    "relevantSubTypes = ['pe_section']\n",
    "PEInfoTaken = ['entropy']\n",
    "XTrainFeaturesPE = CreateFeatureVecPEI(newXTrain,folder,PEInfoTaken,relevantSubTypes)\n",
    "XTestFeaturesPE = CreateFeatureVecPEI(XTest,folder,PEInfoTaken,relevantSubTypes)\n",
    "# print XTestFeaturesPE.shape, XTestFeaturesPE[0]\n",
    "# print XTrainFeaturesPE.shape,XTrainFeaturesPE[0]\n",
    "# print countNullVectors(XTrainFeaturesPE, len(VTInfoTaken))\n",
    "# print countNullVectors(XTestFeaturesPE, len(VTInfoTaken))\n",
    "\n",
    "# relevantSubTypes = ['pe_resource']\n",
    "# PEInfoTaken = ['language', 'resource_id']\n",
    "# XTrainFeaturesPE1 = CreateFeatureVecPEI(newXTrain,folder,PEInfoTaken,relevantSubTypes)\n",
    "# XTestFeaturesPE1 = CreateFeatureVecPEI(XTest,folder,PEInfoTaken,relevantSubTypes)\n",
    "# print XTestFeaturesPE1.shape, XTestFeaturesPE1[0]\n",
    "# print XTrainFeaturesPE1.shape,XTrainFeaturesPE1[0]\n",
    "# print countNullVectors(XTrainFeaturesPE1, len(VTInfoTaken))\n",
    "# print countNullVectors(XTestFeaturesPE1, len(VTInfoTaken))\n",
    "selectRandomForestScores = []\n",
    "\n",
    "params = {'trees':200, 'criterion':'entropy'}\n",
    "score = stratifiedKFoldVal(XTrainFeatures, newYTrain, classifyRandomForestClassifier, params)\n",
    "print score\n",
    "selectRandomForestScores.append(score)\n",
    "\n",
    "params = {'trees':100, 'criterion':'entropy'}\n",
    "score = stratifiedKFoldVal(XTrainFeatures, newYTrain, classifyRandomForestClassifier, params)\n",
    "print score\n",
    "selectRandomForestScores.append(score)\n",
    "\n",
    "params = {'trees':500, 'criterion':'entropy'}\n",
    "score = stratifiedKFoldVal(XTrainFeatures, newYTrain, classifyRandomForestClassifier, params)\n",
    "print score\n",
    "selectRandomForestScores.append(score)\n",
    "\n",
    "params = {'trees':50, 'criterion':'entropy'}\n",
    "score = stratifiedKFoldVal(XTrainFeatures, newYTrain, classifyRandomForestClassifier, params)\n",
    "print score\n",
    "selectRandomForestScores.append(score)\n",
    "\n",
    "params = {'trees':150, 'criterion':'entropy'}\n",
    "score = stratifiedKFoldVal(XTrainFeatures, newYTrain, classifyRandomForestClassifier, params)\n",
    "print score\n",
    "selectRandomForestScores.append(score)\n",
    "\n",
    "params = {'trees':250, 'criterion':'entropy'}\n",
    "score = stratifiedKFoldVal(XTrainFeatures, newYTrain, classifyRandomForestClassifier, params)\n",
    "print score\n",
    "selectRandomForestScores.append(score)\n",
    "\n",
    "params = {'trees':200, 'criterion':'gini'}\n",
    "score = stratifiedKFoldVal(XTrainFeatures, newYTrain, classifyRandomForestClassifier, params)\n",
    "print score\n",
    "selectRandomForestScores.append(score)\n",
    "\n",
    "params = {'trees':100, 'criterion':'gini'}\n",
    "score = stratifiedKFoldVal(XTrainFeatures, newYTrain, classifyRandomForestClassifier, params)\n",
    "print score\n",
    "selectRandomForestScores.append(score)\n",
    "\n",
    "params = {'trees':500, 'criterion':'gini'}\n",
    "score = stratifiedKFoldVal(XTrainFeatures, newYTrain, classifyRandomForestClassifier, params)\n",
    "print score\n",
    "selectRandomForestScores.append(score)\n",
    "\n",
    "params = {'trees':50, 'criterion':'gini'}\n",
    "score = stratifiedKFoldVal(XTrainFeatures, newYTrain, classifyRandomForestClassifier, params)\n",
    "print score\n",
    "selectRandomForestScores.append(score)\n",
    "\n",
    "params = {'trees':150, 'criterion':'gini'}\n",
    "score = stratifiedKFoldVal(XTrainFeatures, newYTrain, classifyRandomForestClassifier, params)\n",
    "print score\n",
    "selectRandomForestScores.append(score)\n",
    "\n",
    "params = {'trees':250, 'criterion':'gini'}\n",
    "score = stratifiedKFoldVal(XTrainFeatures, newYTrain, classifyRandomForestClassifier, params)\n",
    "print score\n",
    "selectRandomForestScores.append(score)\n",
    "\n",
    "print selectRandomForestScores"
   ]
  },
  {
   "cell_type": "code",
   "execution_count": 51,
   "metadata": {
    "collapsed": false
   },
   "outputs": [
    {
     "data": {
      "image/png": "[encoded data removed]",
      "text/plain": [
       "<matplotlib.figure.Figure at 0x7f31d2e73b50>"
      ]
     },
     "metadata": {},
     "output_type": "display_data"
    }
   ],
   "source": [
    "#Plotting the results\n",
    "import matplotlib.pyplot as plt\n",
    "#%matplotlib inline\n",
    "plt.plot(selectRandomForestScores, label = \"Random Forest Classifier\")\n",
    "plt.title(\"Random Forest Classifier\")\n",
    "\n",
    "labels = ['200 Trees + entropy', '100 Trees + entropy', '500 Trees + entropy', '50 Trees + entropy', '150 Trees + entropy','250 Trees + entropy',\n",
    "          '200 Trees + gini', '100 Trees + gini', '500 Trees + gini', '50 Trees + gini','150 Trees + gini','250 Trees + gini']\n",
    "\n",
    "# You can specify a rotation for the tick labels in degrees or with keywords.\n",
    "plt.xticks(np.arange(len(labels)), labels, rotation='vertical')\n",
    "\n",
    "plt.ylabel('Scores')\n",
    "plt.xlabel('Parameters')\n",
    "# Place a legend to the right of this smaller figure.\n",
    "# plt.legend(bbox_to_anchor=(1.05, 1), loc=2, borderaxespad=0.)\n",
    "plt.show()"
   ]
  },
  {
   "cell_type": "markdown",
   "metadata": {},
   "source": [
    "### Selection of Kernel for Multi Class SVM"
   ]
  },
  {
   "cell_type": "code",
   "execution_count": 33,
   "metadata": {
    "collapsed": false
   },
   "outputs": [
    {
     "name": "stdout",
     "output_type": "stream",
     "text": [
      "69.6447253301\n",
      "84.700292039\n",
      "79.9148441662\n"
     ]
    }
   ],
   "source": [
    "folder = 'vt'\n",
    "VTInfoTaken = VTRange.keys()\n",
    "XTrainFeatures = CreateFeatureVecFreq(newXTrain,folder,VTInfoTaken)\n",
    "XTestFeatures = CreateFeatureVecFreq(XTest,folder,VTInfoTaken)\n",
    "# print XTestFeatures.shape, XTestFeatures[0]\n",
    "# print XTrainFeatures.shape,XTrainFeatures[0]\n",
    "# print countNullVectors(XTrainFeatures, len(VTInfoTaken))\n",
    "# print countNullVectors(XTestFeatures, len(VTInfoTaken))\n",
    "\n",
    "folder = 'peinfo'\n",
    "relevantSubTypes = ['pe_section']\n",
    "PEInfoTaken = ['entropy']\n",
    "XTrainFeaturesPE = CreateFeatureVecPEI(newXTrain,folder,PEInfoTaken,relevantSubTypes)\n",
    "XTestFeaturesPE = CreateFeatureVecPEI(XTest,folder,PEInfoTaken,relevantSubTypes)\n",
    "# print XTestFeaturesPE.shape, XTestFeaturesPE[0]\n",
    "# print XTrainFeaturesPE.shape,XTrainFeaturesPE[0]\n",
    "# print countNullVectors(XTrainFeaturesPE, len(VTInfoTaken))\n",
    "# print countNullVectors(XTestFeaturesPE, len(VTInfoTaken))\n",
    "\n",
    "# relevantSubTypes = ['pe_resource']\n",
    "# PEInfoTaken = ['language', 'resource_id']\n",
    "# XTrainFeaturesPE1 = CreateFeatureVecPEI(newXTrain,folder,PEInfoTaken,relevantSubTypes)\n",
    "# XTestFeaturesPE1 = CreateFeatureVecPEI(XTest,folder,PEInfoTaken,relevantSubTypes)\n",
    "# print XTestFeaturesPE1.shape, XTestFeaturesPE1[0]\n",
    "# print XTrainFeaturesPE1.shape,XTrainFeaturesPE1[0]\n",
    "# print countNullVectors(XTrainFeaturesPE1, len(VTInfoTaken))\n",
    "# print countNullVectors(XTestFeaturesPE1, len(VTInfoTaken))\n",
    "\n",
    "selectKernelScores = []\n",
    "\n",
    "params = {'kernel':'poly'}\n",
    "score = stratifiedKFoldVal(XTrainFeatures, newYTrain, classifyMultiClassSVMClassifier, params)\n",
    "print score\n",
    "selectKernelScores.append(score)\n",
    "\n",
    "params = {'kernel':'linear'}\n",
    "score = stratifiedKFoldVal(XTrainFeatures, newYTrain, classifyMultiClassSVMClassifier, params)\n",
    "print score\n",
    "selectKernelScores.append(score)\n",
    "\n",
    "params = {'kernel':'rbf'}\n",
    "score = stratifiedKFoldVal(XTrainFeatures, newYTrain, classifyMultiClassSVMClassifier, params)\n",
    "print score\n",
    "selectKernelScores.append(score)"
   ]
  },
  {
   "cell_type": "code",
   "execution_count": 49,
   "metadata": {
    "collapsed": false
   },
   "outputs": [
    {
     "data": {
      "image/png": "[encoded data removed]",
      "text/plain": [
       "<matplotlib.figure.Figure at 0x7f31dd8faa50>"
      ]
     },
     "metadata": {},
     "output_type": "display_data"
    }
   ],
   "source": [
    "#Plotting the results\n",
    "import matplotlib.pyplot as plt\n",
    "%matplotlib inline\n",
    "plt.plot(selectKernelScores, label = \"Multiclass SVM Classifier\")\n",
    "\n",
    "labels = ['poly','linear','rbf']\n",
    "plt.title(\"Multiclass SVM Classifier\")\n",
    "# You can specify a rotation for the tick labels in degrees or with keywords.\n",
    "plt.xticks(np.arange(len(labels)), labels, rotation='horizontal')\n",
    "\n",
    "plt.ylabel('Scores')\n",
    "plt.xlabel('Kernel used')\n",
    "# Place a legend to the right of this smaller figure.\n",
    "# plt.legend(bbox_to_anchor=(1.05, 1), loc=2, borderaxespad=0.)\n",
    "plt.show()"
   ]
  },
  {
   "cell_type": "markdown",
   "metadata": {},
   "source": [
    "### Classification on Binary VT Info Feature Vectors"
   ]
  },
  {
   "cell_type": "code",
   "execution_count": 35,
   "metadata": {
    "collapsed": true
   },
   "outputs": [],
   "source": [
    "scoreMultiClassSVMClassifier = []\n",
    "scoreKNNClassifier = []\n",
    "scoreRandomForestClassifier = []"
   ]
  },
  {
   "cell_type": "code",
   "execution_count": 36,
   "metadata": {
    "collapsed": false
   },
   "outputs": [
    {
     "name": "stdout",
     "output_type": "stream",
     "text": [
      "84.2689256226\n",
      "81.8714913141\n",
      "78.1787564198\n"
     ]
    }
   ],
   "source": [
    "folder = 'vt'\n",
    "VTInfoTaken = ['Panda','AVware','VIPRE','Symantec','Antiy-AVL','Qihoo-360','AhnLab-V3', \\\n",
    "               'Avast','Kaspersky','ESET-NOD32','McAfee','BitDefender']\n",
    "XTrainFeatures = CreateFeatureVec(newXTrain,folder,VTInfoTaken)\n",
    "XTestFeatures = CreateFeatureVec(XTest,folder,VTInfoTaken)\n",
    "# print XTestFeatures.shape, XTestFeatures[0]\n",
    "# print XTrainFeatures.shape,XTrainFeatures[0]\n",
    "\n",
    "params = {'trees':200, 'criterion':'entropy'}\n",
    "score = stratifiedKFoldVal(XTrainFeatures, newYTrain, classifyRandomForestClassifier,params)\n",
    "print score\n",
    "scoreRandomForestClassifier.append(score)\n",
    "\n",
    "params = {'kernel':'linear'}\n",
    "score = stratifiedKFoldVal(XTrainFeatures, newYTrain, classifyMultiClassSVMClassifier, params)\n",
    "print score\n",
    "scoreMultiClassSVMClassifier.append(score)\n",
    "\n",
    "params = {'neighbours':3}\n",
    "score = stratifiedKFoldVal(XTrainFeatures, newYTrain, classifyKNNClassifier, params)\n",
    "print score\n",
    "scoreKNNClassifier.append(score)\n",
    "\n",
    "clf = RandomForestClassifier(n_estimators=200,criterion='entropy')\n",
    "clf.fit(XTrainFeatures, newYTrain)\n",
    "YPred = clf.predict(XTestFeatures)\n",
    "writePrdictedLabelFile(YPred)"
   ]
  },
  {
   "cell_type": "code",
   "execution_count": 37,
   "metadata": {
    "collapsed": false
   },
   "outputs": [
    {
     "name": "stdout",
     "output_type": "stream",
     "text": [
      "94.7769731032\n",
      "94.5940673601\n",
      "91.5758000195\n"
     ]
    }
   ],
   "source": [
    "folder = 'vt'\n",
    "VTInfoTaken = VTRange.keys()\n",
    "XTrainFeatures = CreateFeatureVec(newXTrain,folder,VTInfoTaken)\n",
    "XTestFeatures = CreateFeatureVec(XTest,folder,VTInfoTaken)\n",
    "# print XTestFeatures.shape, XTestFeatures[0]\n",
    "# print XTrainFeatures.shape,XTrainFeatures[0]\n",
    "# print countNullVectors(XTrainFeatures, len(VTInfoTaken))\n",
    "# print countNullVectors(XTestFeatures, len(VTInfoTaken))\n",
    "\n",
    "params = {'trees':200, 'criterion':'entropy'}\n",
    "score = stratifiedKFoldVal(XTrainFeatures, newYTrain, classifyRandomForestClassifier, params)\n",
    "print score\n",
    "scoreRandomForestClassifier.append(score)\n",
    "\n",
    "# # params = {'kernel':'rbf'}\n",
    "# params = {'kernel':'linear'}\n",
    "# # params = {'kernel':'poly'}\n",
    "# score = stratifiedKFoldVal(XTrainFeatures, newYTrain, classifyMultiClassSVMClassifier, params)\n",
    "# print score\n",
    "# params = {'neighbours':2}\n",
    "# score = stratifiedKFoldVal(XTrainFeatures, newYTrain, classifyKNNClassifier, params)\n",
    "# print score\n",
    "params = {'kernel':'linear'}\n",
    "score = stratifiedKFoldVal(XTrainFeatures, newYTrain, classifyMultiClassSVMClassifier, params)\n",
    "print score\n",
    "scoreMultiClassSVMClassifier.append(score)\n",
    "\n",
    "params = {'neighbours':3}\n",
    "score = stratifiedKFoldVal(XTrainFeatures, newYTrain, classifyKNNClassifier, params)\n",
    "print score\n",
    "scoreKNNClassifier.append(score)\n",
    "\n",
    "clf = RandomForestClassifier(n_estimators=200,criterion='entropy')\n",
    "clf.fit(XTrainFeatures, newYTrain)\n",
    "YPred = clf.predict(XTestFeatures)\n",
    "writePrdictedLabelFile(YPred)"
   ]
  },
  {
   "cell_type": "markdown",
   "metadata": {},
   "source": [
    "### Classification on VT Info Feature Vectors Based on Frequency"
   ]
  },
  {
   "cell_type": "code",
   "execution_count": 38,
   "metadata": {
    "collapsed": false
   },
   "outputs": [
    {
     "name": "stdout",
     "output_type": "stream",
     "text": [
      "96.256726613\n",
      "84.700292039\n",
      "84.7012034237\n"
     ]
    }
   ],
   "source": [
    "folder = 'vt'\n",
    "VTInfoTaken = ['Panda','AVware','VIPRE','Symantec','Antiy-AVL','Qihoo-360','AhnLab-V3', \\\n",
    "               'Avast','Kaspersky','ESET-NOD32','McAfee','BitDefender']\n",
    "VTInfoTaken = VTRange.keys()\n",
    "XTrainFeatures = CreateFeatureVecFreq(newXTrain,folder,VTInfoTaken)\n",
    "XTestFeatures = CreateFeatureVecFreq(XTest,folder,VTInfoTaken)\n",
    "# print XTestFeatures.shape, XTestFeatures[0]\n",
    "# print XTrainFeatures.shape,XTrainFeatures[0]\n",
    "# print countNullVectors(XTrainFeatures, len(VTInfoTaken))\n",
    "# print countNullVectors(XTestFeatures, len(VTInfoTaken))\n",
    "\n",
    "params = {'trees':200, 'criterion':'entropy'}\n",
    "score = stratifiedKFoldVal(XTrainFeatures, newYTrain, classifyRandomForestClassifier, params)\n",
    "print score\n",
    "scoreRandomForestClassifier.append(score)\n",
    "\n",
    "params = {'kernel':'linear'}\n",
    "score = stratifiedKFoldVal(XTrainFeatures, newYTrain, classifyMultiClassSVMClassifier, params)\n",
    "print score\n",
    "scoreMultiClassSVMClassifier.append(score)\n",
    "\n",
    "params = {'neighbours':3}\n",
    "score = stratifiedKFoldVal(XTrainFeatures, newYTrain, classifyKNNClassifier, params)\n",
    "print score\n",
    "scoreKNNClassifier.append(score)\n",
    "\n",
    "clf = RandomForestClassifier(n_estimators=200,criterion='entropy')\n",
    "clf.fit(XTrainFeatures, newYTrain)\n",
    "YPred = clf.predict(XTestFeatures)\n",
    "writePrdictedLabelFile(YPred)"
   ]
  },
  {
   "cell_type": "markdown",
   "metadata": {},
   "source": [
    "### Classification on PE Info Feature Vectors Based on Entropy Mean"
   ]
  },
  {
   "cell_type": "code",
   "execution_count": 39,
   "metadata": {
    "collapsed": false
   },
   "outputs": [
    {
     "name": "stdout",
     "output_type": "stream",
     "text": [
      "83.9657191429\n",
      "72.6495099653\n",
      "85.4894115947\n"
     ]
    }
   ],
   "source": [
    "### Classification on combination of VT Info Feature Vectors Based on PE Info (Entropy Means)\n",
    "folder = 'peinfo'\n",
    "relevantSubTypes = ['pe_section']\n",
    "PEInfoTaken = ['entropy']\n",
    "XTrainFeaturesPE = CreateFeatureVecPEI(newXTrain,folder,PEInfoTaken,relevantSubTypes)\n",
    "XTestFeaturesPE = CreateFeatureVecPEI(XTest,folder,PEInfoTaken,relevantSubTypes)\n",
    "# print XTestFeaturesPE.shape, XTestFeaturesPE[0]\n",
    "# print XTrainFeaturesPE.shape,XTrainFeaturesPE[0]\n",
    "# print countNullVectors(XTrainFeaturesPE, len(VTInfoTaken))\n",
    "# print countNullVectors(XTestFeaturesPE, len(VTInfoTaken))\n",
    "params = {'trees':200, 'criterion':'entropy'}\n",
    "score = stratifiedKFoldVal(XTrainFeaturesPE, newYTrain, classifyRandomForestClassifier, params)\n",
    "print score\n",
    "scoreRandomForestClassifier.append(score)\n",
    "\n",
    "params = {'kernel':'linear'}\n",
    "score = stratifiedKFoldVal(XTrainFeaturesPE, newYTrain, classifyMultiClassSVMClassifier, params)\n",
    "print score\n",
    "scoreMultiClassSVMClassifier.append(score)\n",
    "\n",
    "params = {'neighbours':3}\n",
    "score = stratifiedKFoldVal(XTrainFeaturesPE, newYTrain, classifyKNNClassifier, params)\n",
    "print score\n",
    "scoreKNNClassifier.append(score)"
   ]
  },
  {
   "cell_type": "markdown",
   "metadata": {},
   "source": [
    "### Classification on Combination of VT Info Feature Vectors Based on Binary Encoding and PE Info(Entropy Means)"
   ]
  },
  {
   "cell_type": "code",
   "execution_count": 40,
   "metadata": {
    "collapsed": false
   },
   "outputs": [
    {
     "name": "stdout",
     "output_type": "stream",
     "text": [
      "95.2704604306\n",
      "94.5940673601\n",
      "91.5758000195\n"
     ]
    }
   ],
   "source": [
    "folder = 'vt'\n",
    "VTInfoTaken = VTRange.keys()\n",
    "XTrainFeatures = CreateFeatureVec(newXTrain,folder,VTInfoTaken)\n",
    "XTestFeatures = CreateFeatureVec(XTest,folder,VTInfoTaken)\n",
    "# print XTestFeatures.shape, XTestFeatures[0]\n",
    "# print XTrainFeatures.shape,XTrainFeatures[0]\n",
    "# print countNullVectors(XTrainFeatures, len(VTInfoTaken))\n",
    "# print countNullVectors(XTestFeatures, len(VTInfoTaken))\n",
    "\n",
    "folder = 'peinfo'\n",
    "relevantSubTypes = ['pe_section']\n",
    "PEInfoTaken = ['entropy']\n",
    "XTrainFeaturesPE = CreateFeatureVecPEI(newXTrain,folder,PEInfoTaken,relevantSubTypes)\n",
    "XTestFeaturesPE = CreateFeatureVecPEI(XTest,folder,PEInfoTaken,relevantSubTypes)\n",
    "# print XTestFeaturesPE.shape, XTestFeaturesPE[0]\n",
    "# print XTrainFeaturesPE.shape,XTrainFeaturesPE[0]\n",
    "# print countNullVectors(XTrainFeaturesPE, len(VTInfoTaken))\n",
    "# print countNullVectors(XTestFeaturesPE, len(VTInfoTaken))\n",
    "\n",
    "# relevantSubTypes = ['pe_resource']\n",
    "# PEInfoTaken = ['language', 'resource_id']\n",
    "# XTrainFeaturesPE1 = CreateFeatureVecPEI(newXTrain,folder,PEInfoTaken,relevantSubTypes)\n",
    "# XTestFeaturesPE1 = CreateFeatureVecPEI(XTest,folder,PEInfoTaken,relevantSubTypes)\n",
    "# print XTestFeaturesPE1.shape, XTestFeaturesPE1[0]\n",
    "# print XTrainFeaturesPE1.shape,XTrainFeaturesPE1[0]\n",
    "# print countNullVectors(XTrainFeaturesPE1, len(VTInfoTaken))\n",
    "# print countNullVectors(XTestFeaturesPE1, len(VTInfoTaken))\n",
    "\n",
    "params = {'trees':200, 'criterion':'entropy'}\n",
    "score = stratifiedKFoldVal(XTrainFeatures, newYTrain, classifyRandomForestClassifier, params)\n",
    "print score\n",
    "scoreRandomForestClassifier.append(score)\n",
    "\n",
    "params = {'kernel':'linear'}\n",
    "score = stratifiedKFoldVal(XTrainFeatures, newYTrain, classifyMultiClassSVMClassifier, params)\n",
    "print score\n",
    "scoreMultiClassSVMClassifier.append(score)\n",
    "\n",
    "params = {'neighbours':3}\n",
    "score = stratifiedKFoldVal(XTrainFeatures, newYTrain, classifyKNNClassifier, params)\n",
    "print score\n",
    "scoreKNNClassifier.append(score)\n",
    "\n",
    "XTrainClf = np.concatenate((XTrainFeatures, XTrainFeaturesPE), axis=1)\n",
    "XTestClf = np.concatenate((XTestFeatures, XTestFeaturesPE), axis=1)\n",
    "# print XTrainClf[0],XTestClf[0]\n",
    "# print XTrainClf.shape, XTestClf.shape\n",
    "\n",
    "clf = RandomForestClassifier(n_estimators=200,criterion='entropy')\n",
    "clf.fit(XTrainClf, newYTrain)\n",
    "YPred = clf.predict(XTestClf)\n",
    "writePrdictedLabelFile(YPred)"
   ]
  },
  {
   "cell_type": "markdown",
   "metadata": {},
   "source": [
    "### Classification on Combination of VT Info Feature Vectors Based on Frequency Encoding and PE Info(Entropy Means)"
   ]
  },
  {
   "cell_type": "code",
   "execution_count": 41,
   "metadata": {
    "collapsed": false
   },
   "outputs": [
    {
     "name": "stdout",
     "output_type": "stream",
     "text": [
      "96.2601843556\n",
      "84.700292039\n",
      "84.7012034237\n"
     ]
    }
   ],
   "source": [
    "folder = 'vt'\n",
    "VTInfoTaken = VTRange.keys()\n",
    "XTrainFeatures = CreateFeatureVecFreq(newXTrain,folder,VTInfoTaken)\n",
    "XTestFeatures = CreateFeatureVecFreq(XTest,folder,VTInfoTaken)\n",
    "# print XTestFeatures.shape, XTestFeatures[0]\n",
    "# print XTrainFeatures.shape,XTrainFeatures[0]\n",
    "# print countNullVectors(XTrainFeatures, len(VTInfoTaken))\n",
    "# print countNullVectors(XTestFeatures, len(VTInfoTaken))\n",
    "\n",
    "folder = 'peinfo'\n",
    "relevantSubTypes = ['pe_section']\n",
    "PEInfoTaken = ['entropy']\n",
    "XTrainFeaturesPE = CreateFeatureVecPEI(newXTrain,folder,PEInfoTaken,relevantSubTypes)\n",
    "XTestFeaturesPE = CreateFeatureVecPEI(XTest,folder,PEInfoTaken,relevantSubTypes)\n",
    "# print XTestFeaturesPE.shape, XTestFeaturesPE[0]\n",
    "# print XTrainFeaturesPE.shape,XTrainFeaturesPE[0]\n",
    "# print countNullVectors(XTrainFeaturesPE, len(VTInfoTaken))\n",
    "# print countNullVectors(XTestFeaturesPE, len(VTInfoTaken))\n",
    "\n",
    "# relevantSubTypes = ['pe_resource']\n",
    "# PEInfoTaken = ['language', 'resource_id']\n",
    "# XTrainFeaturesPE1 = CreateFeatureVecPEI(newXTrain,folder,PEInfoTaken,relevantSubTypes)\n",
    "# XTestFeaturesPE1 = CreateFeatureVecPEI(XTest,folder,PEInfoTaken,relevantSubTypes)\n",
    "# print XTestFeaturesPE1.shape, XTestFeaturesPE1[0]\n",
    "# print XTrainFeaturesPE1.shape,XTrainFeaturesPE1[0]\n",
    "# print countNullVectors(XTrainFeaturesPE1, len(VTInfoTaken))\n",
    "# print countNullVectors(XTestFeaturesPE1, len(VTInfoTaken))\n",
    "\n",
    "params = {'trees':100, 'criterion':'gini'}\n",
    "score = stratifiedKFoldVal(XTrainFeatures, newYTrain, classifyRandomForestClassifier, params)\n",
    "print score\n",
    "scoreRandomForestClassifier.append(score)\n",
    "\n",
    "params = {'kernel':'linear'}\n",
    "score = stratifiedKFoldVal(XTrainFeatures, newYTrain, classifyMultiClassSVMClassifier, params)\n",
    "print score\n",
    "scoreMultiClassSVMClassifier.append(score)\n",
    "\n",
    "params = {'neighbours':3}\n",
    "score = stratifiedKFoldVal(XTrainFeatures, newYTrain, classifyKNNClassifier, params)\n",
    "print score\n",
    "scoreKNNClassifier.append(score)\n",
    "\n",
    "XTrainClf = np.concatenate((XTrainFeatures, XTrainFeaturesPE), axis=1)\n",
    "XTestClf = np.concatenate((XTestFeatures, XTestFeaturesPE), axis=1)\n",
    "# print XTrainClf[0],XTestClf[0]\n",
    "# print XTrainClf.shape, XTestClf.shape\n",
    "\n",
    "clf = RandomForestClassifier(n_estimators=100,criterion='gini')\n",
    "clf.fit(XTrainClf, newYTrain)\n",
    "YPred = clf.predict(XTestClf)\n",
    "writePrdictedLabelFile(YPred)"
   ]
  },
  {
   "cell_type": "markdown",
   "metadata": {},
   "source": [
    "### Graphs depicting Categorization Accuracy scores on KFold Stratified Validation on Train data for:\n",
    "### 1. PE Info <br></br> 2. VTInfo and  <br></br> 3. Both PE Info & VTInfo"
   ]
  },
  {
   "cell_type": "code",
   "execution_count": 42,
   "metadata": {
    "collapsed": false
   },
   "outputs": [
    {
     "name": "stdout",
     "output_type": "stream",
     "text": [
      "[84.26892562257333, 94.77697310323103, 96.25672661299276, 83.96571914288738, 95.27046043056177, 96.26018435555602]\n",
      "[78.17875641982354, 91.57580001953814, 84.70120342373374, 85.48941159471558, 91.57580001953814, 84.70120342373374]\n",
      "[81.87149131414121, 94.59406736005495, 84.7002920390315, 72.64950996530476, 94.59406736005495, 84.7002920390315]\n"
     ]
    }
   ],
   "source": [
    "print scoreRandomForestClassifier\n",
    "print scoreKNNClassifier\n",
    "print scoreMultiClassSVMClassifier"
   ]
  },
  {
   "cell_type": "code",
   "execution_count": 43,
   "metadata": {
    "collapsed": false
   },
   "outputs": [
    {
     "data": {
      "image/png": "[encoded data removed]",
      "text/plain": [
       "<matplotlib.figure.Figure at 0x7f31d2e735d0>"
      ]
     },
     "metadata": {},
     "output_type": "display_data"
    }
   ],
   "source": [
    "#Plotting the results\n",
    "import matplotlib.pyplot as plt\n",
    "%matplotlib inline\n",
    "plt.plot(scoreRandomForestClassifier, label = \"Random Forest Classifier\")\n",
    "plt.plot(scoreMultiClassSVMClassifier, label = \"Multiclass Linear SVM Classifier\")\n",
    "plt.plot(scoreKNNClassifier, label = \"KNN Classifier\")\n",
    "\n",
    "labels = ['Limited AVs(Binary Encoding)', 'All AVs(Binary Encoding)', 'All AVs(Frequency Encoding)', 'PE Info(Entropy Mean)', \n",
    "          'All AVs(Binary Encoding) + Entropy Mean','All AVs(Frequency Encoding) + Entropy Mean']\n",
    "\n",
    "# You can specify a rotation for the tick labels in degrees or with keywords.\n",
    "plt.xticks(np.arange(len(labels)), labels, rotation='vertical')\n",
    "\n",
    "plt.ylabel('Scores')\n",
    "plt.xlabel('Feature Encoding used')\n",
    "# Place a legend to the right of this smaller figure.\n",
    "plt.legend(bbox_to_anchor=(1.05, 1), loc=2, borderaxespad=0.)\n",
    "plt.show()"
   ]
  },
  {
   "cell_type": "markdown",
   "metadata": {},
   "source": [
    "## Final evaluation results on Kaggle"
   ]
  },
  {
   "cell_type": "markdown",
   "metadata": {},
   "source": [
    "### Bar graph depicting Public vs Private Categorization Accuracy Scores on the different Models."
   ]
  },
  {
   "cell_type": "code",
   "execution_count": 1,
   "metadata": {
    "collapsed": false
   },
   "outputs": [
    {
     "data": {
      "image/png": "[encoded data removed]",
      "text/plain": [
       "<matplotlib.figure.Figure at 0x7f13239a0550>"
      ]
     },
     "metadata": {},
     "output_type": "display_data"
    }
   ],
   "source": [
    "import numpy as np\n",
    "import matplotlib.pyplot as plt\n",
    "%matplotlib inline\n",
    "N = 6\n",
    "publicScore = (97.733, 97.971, 94.511, 94.988, 95.107, 97.613)\n",
    "privateScore = (96.897, 96.778, 94.272, 95.704, 95.585, 96.778,)\n",
    "modelNames = ('RF(G,100)+Entropy(Median)+Freq', 'RF(G,100)+Entropy(Mean)+Freq', 'kNN(3)+Freq', \n",
    "              'SVM(Linear)+Entropy(Mean)+Binary', 'RF(E,200)+Binary', 'RF(E,150)+Freq')\n",
    "\n",
    "ind = np.arange(N)  # the x locations for the groups\n",
    "width = 0.35       # the width of the bars\n",
    "\n",
    "fig, ax = plt.subplots()\n",
    "rects1 = ax.bar(ind, publicScore, width, color='m')\n",
    "\n",
    "rects2 = ax.bar(ind + width, privateScore, width, color='c')\n",
    "\n",
    "# add some text for labels, title and axes ticks\n",
    "ax.set_ylabel('Scores')\n",
    "ax.set_title('Evaluations of submissions using Categorization Accuracy.')\n",
    "ax.set_xticks(ind + width)\n",
    "ax.set_xticklabels(modelNames,  rotation='vertical')\n",
    "ax.set_ylim(90,100)\n",
    "\n",
    "# def autolabel(rects):\n",
    "#     # attach some text labels\n",
    "#     for rect in rects:\n",
    "#         height = rect.get_height()\n",
    "#         ax.text(rect.get_x() + rect.get_width()/2., 1.05*height,\n",
    "#                 '%d' % int(height),\n",
    "#                 ha='center', va='bottom')\n",
    "\n",
    "# autolabel(rects1)\n",
    "# autolabel(rects2)\n",
    "\n",
    "# Place a legend to the right of this smaller figure.\n",
    "ax.legend((rects1[0], rects2[0]), ('Public Scores', 'Private Scores'), bbox_to_anchor=(1.05, 1), loc=2, borderaxespad=0.)\n",
    "\n",
    "plt.show()"
   ]
  },
  {
   "cell_type": "markdown",
   "metadata": {},
   "source": [
    "### Hence we conclude that the best model is Random Forest with Gini as criterion and 100 Trees using PEInfo with Entropy Mean/Median and frequency encoding on all 75 Antiviruses of VT Info as features !"
   ]
  }
 ],
 "metadata": {
  "kernelspec": {
   "display_name": "Python 2",
   "language": "python",
   "name": "python2"
  },
  "language_info": {
   "codemirror_mode": {
    "name": "ipython",
    "version": 2
   },
   "file_extension": ".py",
   "mimetype": "text/x-python",
   "name": "python",
   "nbconvert_exporter": "python",
   "pygments_lexer": "ipython2",
   "version": "2.7.6"
  }
 },
 "nbformat": 4,
 "nbformat_minor": 0
}

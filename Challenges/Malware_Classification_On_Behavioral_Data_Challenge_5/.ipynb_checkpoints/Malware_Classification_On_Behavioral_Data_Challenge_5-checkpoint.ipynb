{
 "cells": [
  {
   "cell_type": "markdown",
   "metadata": {},
   "source": [
    "## Malware Classification on Behavioral Data Challenge 5 "
   ]
  },
  {
   "cell_type": "markdown",
   "metadata": {},
   "source": [
    "### Read the input data files."
   ]
  },
  {
   "cell_type": "code",
   "execution_count": 1,
   "metadata": {
    "collapsed": false
   },
   "outputs": [
    {
     "name": "stdout",
     "output_type": "stream",
     "text": [
      "['0' '10']\n",
      "(2042,)\n",
      "<type 'numpy.int64'> 10 (2042,)\n"
     ]
    }
   ],
   "source": [
    "import numpy as np\n",
    "import os\n",
    "XTrain = np.loadtxt('training_data.csv', skiprows=1, usecols=(0,1), delimiter=',', dtype='str')\n",
    "print XTrain[0]\n",
    "# XTest = np.loadtxt('test_data_public_new.csv', skiprows=1, usecols=(1,), delimiter=',',dtype='str')\n",
    "# print XTest[0]\n",
    "YTrain = XTrain[:,-1]\n",
    "XTrain = XTrain[:,0]\n",
    "print XTrain.shape\n",
    "YTrain = YTrain.astype(np.int)\n",
    "# YTrain = YTrain.reshape(-1,1)\n",
    "print type(YTrain[0]),YTrain[0],YTrain.shape\n",
    "# print XTest.shape"
   ]
  },
  {
   "cell_type": "code",
   "execution_count": 2,
   "metadata": {
    "collapsed": false
   },
   "outputs": [
    {
     "name": "stdout",
     "output_type": "stream",
     "text": [
      "['0' '1' '2' ..., '2039' '2040' '2041'] [10 10 10 ..., 10  5 10]\n"
     ]
    }
   ],
   "source": [
    "print XTrain, YTrain"
   ]
  },
  {
   "cell_type": "code",
   "execution_count": 3,
   "metadata": {
    "collapsed": true
   },
   "outputs": [],
   "source": [
    "def readInputFile(inputFile):\n",
    "    with open(inputFile,'r') as f:\n",
    "        fileContent = f.readlines()\n",
    "        f = [i.strip('\\n') for i in fileContent]\n",
    "        return ' '.join(f)"
   ]
  },
  {
   "cell_type": "code",
   "execution_count": 4,
   "metadata": {
    "collapsed": true
   },
   "outputs": [],
   "source": [
    "def readFolder(folder, fileNames):\n",
    "    path = folder\n",
    "    folderContents = []\n",
    "    for f in fileNames:\n",
    "        folderContents.append(readInputFile(os.path.join(folder, f+'.txt')))\n",
    "    return folderContents"
   ]
  },
  {
   "cell_type": "code",
   "execution_count": 5,
   "metadata": {
    "collapsed": false
   },
   "outputs": [
    {
     "name": "stdout",
     "output_type": "stream",
     "text": [
      "2042 ['FlsAlloc FlsFree FlsGetValue FlsSetValue InitializeCriticalSectionEx CreateSemaphoreExW SetThreadStackGuarantee CreateThreadpoolTimer SetThreadpoolTimer WaitForThreadpoolTimerCallbacks CloseThreadpoolTimer CreateThreadpoolWait SetThreadpoolWait CloseThreadpoolWait FlushProcessWriteBuffers FreeLibraryWhenCallbackReturns GetCurrentProcessorNumber GetLogicalProcessorInformation CreateSymbolicLinkW SetDefaultDllDirectories EnumSystemLocalesEx CompareStringEx GetDateFormatEx GetLocaleInfoEx GetTimeFormatEx GetUserDefaultLocaleName IsValidLocaleName LCMapStringEx GetCurrentPackageId GetUserNameExA SHGetFolderPathA GetDiskFreeSpaceExA WSALookupServiceBeginW WSALookupServiceEnd WSALookupServiceNextW WSANSPIoctl getaddrinfo freeaddrinfo getnameinfo RasDialW RasHangUpW RasEnumEntriesW RasGetEntryDialParamsW RasSetEntryDialParamsW RasEditPhonebookEntryW RasCreatePhonebookEntryW RasGetErrorStringW RasGetConnectStatusW RasEnumConnectionsW RasGetEntryPropertiesW RasGetCredentialsW RasSetCredentialsW RasGetAutodialAddressA RasSetAutodialAddressA TraceRegisterExA TraceDeregisterA TraceDeregisterExA TracePrintfA TracePrintfExA TraceDumpExA RasPortClearStatistics RasBundleClearStatistics RasBundleClearStatisticsEx RasDeviceEnum RasDeviceGetInfo RasFreeBuffer RasGetBuffer RasGetInfo RasGetNdiswanDriverCaps RasInitialize RasInitializeNoWait RasPortCancelReceive RasPortEnum RasPortGetInfo RasPortGetFramingEx RasPortGetStatistics RasBundleGetStatistics RasPortGetStatisticsEx RasBundleGetStatisticsEx RasPortReceive RasPortReceiveEx RasPortSend RasPortGetBundle RasGetDevConfig RasGetDevConfigEx RasSetDevConfig RasPortClose RasPortListen RasPortConnectComplete RasPortDisconnect RasRequestNotification RasPortEnumProtocols RasPortSetFraming RasPortSetFramingEx RasSetCachedCredentials RasGetDialParams RasSetDialParams RasCreateConnection RasDestroyConnection RasConnectionEnum RasAddConnectionPort RasEnumConnectionPorts RasGetConnectionParams RasSetConnectionParams RasGetConnectionUserData RasSetConnectionUserData RasGetPortUserData RasSetPortUserData RasAddNotification RasSignalNewConnection RasPppStop RasPppCallback RasPppChangePassword RasPppGetInfo RasPppRetry RasPppStart RasPortOpen RasPortRegisterSlip RasAllocateRoute RasActivateRoute RasActivateRouteEx RasDeviceSetInfo RasDeviceConnect RasPortSetInfo RasSetIoCompletionPort RasSendPppMessageToRasman RasSetRasdialInfo RasRpcConnect RasRpcDisconnect RasGetNumPortOpen RasRefConnection RasPppSetEapInfo RasPppGetEapInfo RasFindPrerequisiteEntry RasPortOpenEx RasLinkGetStatistics RasConnectionGetStatistics RasGetHportFromConnection RasRPCBind RasReferenceCustomCount RasGetHConnFromEntry RasGetDeviceName RasEnableIpSec RasIsIpSecEnabled RasGetEapUserInfo RasSetEapUserInfo RasSetEapLogonInfo RasStartRasAutoIfRequired RasGetNapState RasStartPPPRenegotiation InitSecurityInterfaceW SpUserModeInitialize IsNetworkAlive RtlConvertSidToUnicodeString SHGetFolderPathW ExpandEnvironmentStringsForUserW DsGetDcNameW DsGetSiteNameW DsRoleGetPrimaryDomainInformation DsRoleFreeMemory NetApiBufferFree NetUserGetGroups NetUserGetInfo PathCanonicalizeW PathRemoveFileSpecW CoInternetCreateSecurityManager CoInternetCreateZoneManager CoInternetIsFeatureEnabledForUrl IsHostInProxyBypassList', 'FlsAlloc FlsGetValue FlsSetValue FlsFree EncodePointer EncodePointer EncodePointer EncodePointer EncodePointer EncodePointer EncodePointer DecodePointer InitializeCriticalSectionAndSpinCount EncodePointer DecodePointer DecodePointer DecodePointer DecodePointer DecodePointer DecodePointer DecodePointer DecodePointer DecodePointer DecodePointer DecodePointer DecodePointer DecodePointer DecodePointer DecodePointer EncodePointer DecodePointer IsProcessorFeaturePresent CoGetMalloc CreateBindCtx CoTaskMemAlloc CoTaskMemFree GetUserDefaultUILanguage ImageList_Create ImageList_SetBkColor ImageList_GetImageCount ImageList_ReplaceIcon ImageList_SetOverlayImage CoInitializeEx ApphelpCheckShellObject CoCreateInstance GetCatalogObject GetCatalogObject2 CLSIDFromOle1Class InitializeCriticalSectionAndSpinCount DllGetClassObject DllCanUnloadNow CoUninitialize CoTaskMemFree CM_Get_Device_Interface_List_Size_ExW CM_Get_Device_Interface_List_ExW ImageList_GetIcon EncodePointer DecodePointer DecodePointer DecodePointer TrackMouseEvent']\n",
      "706 ['FlsAlloc FlsGetValue FlsSetValue FlsFree EncodePointer EncodePointer EncodePointer EncodePointer EncodePointer EncodePointer EncodePointer DecodePointer DecodePointer EncodePointer DecodePointer GetAdaptersInfo FlsAlloc FlsFree FlsGetValue FlsSetValue InitializeCriticalSectionEx CreateSemaphoreExW SetThreadStackGuarantee CreateThreadpoolTimer SetThreadpoolTimer WaitForThreadpoolTimerCallbacks CloseThreadpoolTimer CreateThreadpoolWait SetThreadpoolWait CloseThreadpoolWait FlushProcessWriteBuffers FreeLibraryWhenCallbackReturns GetCurrentProcessorNumber GetLogicalProcessorInformation CreateSymbolicLinkW SetDefaultDllDirectories EnumSystemLocalesEx CompareStringEx GetDateFormatEx GetLocaleInfoEx GetTimeFormatEx GetUserDefaultLocaleName IsValidLocaleName LCMapStringEx GetCurrentPackageId SamConnect SamGetCompatibilityMode SamEnumerateDomainsInSamServer SamLookupDomainInSamServer SamFreeMemory SamOpenDomain SamEnumerateUsersInDomain SamCloseHandle GetUserProfileDirectoryW SamLookupNamesInDomain SamOpenUser SamQueryInformationUser SamQuerySecurityObject SamGetGroupsForUser SamRidToSid SamGetAliasMembership ExtractVersionResource16W ExtractVersionResource16W ExtractVersionResource16W ExtractVersionResource16W ExtractVersionResource16W ExtractVersionResource16W ExtractVersionResource16W ExtractVersionResource16W ExtractVersionResource16W ExtractVersionResource16W ExtractVersionResource16W ExtractVersionResource16W ExtractVersionResource16W ExtractVersionResource16W ExtractVersionResource16W ExtractVersionResource16W ExtractVersionResource16W ExtractVersionResource16W ExtractVersionResource16W ExtractVersionResource16W ExtractVersionResource16W ExtractVersionResource16W ExtractVersionResource16W ExtractVersionResource16W CoCreateInstanceEx NlsGetCacheUpdateCount RegDeleteKeyExW ReleaseActCtx ReleaseActCtx', 'GetCatalogObject GetCatalogObject2 CLSIDFromOle1Class InitializeCriticalSectionAndSpinCount CoCreateInstanceEx SxsOleAut32MapConfiguredClsidToReferenceClsid DllGetClassObject DllCanUnloadNow GetUserDefaultUILanguage CLSIDFromProgIDEx DllGetClassObject DllCanUnloadNow SxsOleAut32RedirectTypeLibrary DllGetClassObject DllCanUnloadNow CreateErrorInfo GetErrorInfo SetErrorInfo ShellExecuteExW CoInitializeEx NetGetJoinInformation NetApiBufferFree CreateBindCtx CoGetMalloc CoTaskMemAlloc CoTaskMemFree CoTaskMemFree CM_Get_Device_Interface_List_Size_ExW CM_Get_Device_Interface_List_ExW CoUninitialize CoGetClassObject DllGetClassObject DllCanUnloadNow GetUserNameExA GetLongPathNameW SHGetFolderPathW GetProfileType GetUserDefaultUILanguage GetFileVersionInfoSizeW GetUserDefaultUILanguage DecodePointer DecodePointer EncodePointer DecodePointer DecodePointer DecodePointer EncodePointer DecodePointer RegOpenKeyExW RegQueryInfoKeyW RegEnumKeyExW RegEnumValueW RegCloseKey RegQueryValueExW RegQueryValueExW RegisterShimImplCallback RegisterShimImplCleanupCallback SetShellShimInstance OnShimDllMainCalled _CorExeMain_RetAddr _CorExeMain UrlIsW RegQueryInfoKeyW RegEnumValueW GetUserDefaultUILanguage LoadStringW GetProcessWindowStation GetUserObjectInformationW MessageBoxW']\n"
     ]
    }
   ],
   "source": [
    "trainSamples = readFolder(os.getcwd()+os.sep+'train', XTrain)\n",
    "print len(trainSamples), trainSamples[:2]\n",
    "XTest = [str(i) for i in range(706)]\n",
    "testSamples = readFolder(os.getcwd()+os.sep+'test', XTest)\n",
    "print len(testSamples), testSamples[:2]"
   ]
  },
  {
   "cell_type": "code",
   "execution_count": 6,
   "metadata": {
    "collapsed": false
   },
   "outputs": [
    {
     "name": "stdout",
     "output_type": "stream",
     "text": [
      "257\n"
     ]
    }
   ],
   "source": [
    "# for item in trainFolder:\n",
    "count = 0\n",
    "indices = []\n",
    "for i in xrange(len(trainSamples)):\n",
    "    if trainSamples[i]=='':\n",
    "        indices.append(i)\n",
    "        \n",
    "print len(indices)"
   ]
  },
  {
   "cell_type": "code",
   "execution_count": 7,
   "metadata": {
    "collapsed": false
   },
   "outputs": [
    {
     "name": "stdout",
     "output_type": "stream",
     "text": [
      "5 10\n",
      "7 10\n",
      "25 10\n",
      "31 10\n",
      "37 10\n",
      "42 10\n",
      "45 10\n",
      "48 10\n",
      "64 10\n",
      "97 10\n",
      "101 10\n",
      "103 10\n",
      "114 10\n",
      "115 10\n",
      "116 10\n",
      "143 10\n",
      "149 10\n",
      "153 10\n",
      "169 10\n",
      "170 5\n",
      "201 10\n",
      "210 10\n",
      "217 10\n",
      "223 10\n",
      "227 10\n",
      "232 10\n",
      "236 10\n",
      "255 10\n",
      "264 2\n",
      "277 10\n",
      "278 10\n",
      "280 10\n",
      "307 10\n",
      "308 10\n",
      "317 10\n",
      "333 10\n",
      "336 10\n",
      "340 10\n",
      "341 10\n",
      "347 10\n",
      "367 10\n",
      "383 10\n",
      "384 10\n",
      "387 10\n",
      "388 10\n",
      "389 10\n",
      "405 10\n",
      "424 10\n",
      "437 10\n",
      "449 10\n",
      "450 10\n",
      "453 10\n",
      "456 10\n",
      "464 10\n",
      "479 3\n",
      "505 10\n",
      "511 10\n",
      "514 10\n",
      "534 10\n",
      "535 10\n",
      "541 10\n",
      "553 10\n",
      "562 10\n",
      "565 10\n",
      "566 10\n",
      "573 10\n",
      "596 10\n",
      "601 10\n",
      "623 10\n",
      "628 10\n",
      "629 10\n",
      "634 10\n",
      "654 10\n",
      "658 3\n",
      "663 10\n",
      "666 10\n",
      "669 10\n",
      "670 10\n",
      "678 10\n",
      "698 10\n",
      "708 10\n",
      "715 10\n",
      "736 10\n",
      "740 10\n",
      "777 10\n",
      "782 10\n",
      "793 2\n",
      "804 10\n",
      "809 10\n",
      "835 10\n",
      "846 10\n",
      "849 10\n",
      "860 10\n",
      "877 10\n",
      "878 10\n",
      "888 10\n",
      "898 10\n",
      "899 5\n",
      "908 10\n",
      "914 10\n",
      "927 10\n",
      "933 10\n",
      "936 2\n",
      "937 10\n",
      "957 10\n",
      "959 10\n",
      "961 10\n",
      "963 10\n",
      "967 10\n",
      "993 10\n",
      "997 10\n",
      "1008 10\n",
      "1021 10\n",
      "1026 10\n",
      "1027 10\n",
      "1029 10\n",
      "1034 10\n",
      "1037 10\n",
      "1058 10\n",
      "1060 10\n",
      "1070 5\n",
      "1072 10\n",
      "1075 7\n",
      "1077 4\n",
      "1084 10\n",
      "1086 10\n",
      "1088 10\n",
      "1092 10\n",
      "1094 10\n",
      "1100 10\n",
      "1101 10\n",
      "1104 10\n",
      "1105 10\n",
      "1128 10\n",
      "1129 3\n",
      "1157 9\n",
      "1158 10\n",
      "1173 10\n",
      "1179 10\n",
      "1182 10\n",
      "1185 10\n",
      "1213 10\n",
      "1217 5\n",
      "1219 10\n",
      "1226 10\n",
      "1228 10\n",
      "1233 10\n",
      "1234 10\n",
      "1256 10\n",
      "1263 10\n",
      "1273 10\n",
      "1275 10\n",
      "1280 10\n",
      "1288 10\n",
      "1295 10\n",
      "1298 10\n",
      "1300 10\n",
      "1318 10\n",
      "1322 10\n",
      "1331 10\n",
      "1332 10\n",
      "1345 10\n",
      "1355 10\n",
      "1356 10\n",
      "1357 10\n",
      "1377 10\n",
      "1388 10\n",
      "1404 10\n",
      "1423 10\n",
      "1425 10\n",
      "1440 10\n",
      "1441 10\n",
      "1467 5\n",
      "1475 10\n",
      "1476 10\n",
      "1477 10\n",
      "1488 9\n",
      "1493 10\n",
      "1494 10\n",
      "1500 10\n",
      "1508 10\n",
      "1512 10\n",
      "1524 10\n",
      "1530 10\n",
      "1539 10\n",
      "1543 10\n",
      "1555 10\n",
      "1556 10\n",
      "1557 10\n",
      "1564 10\n",
      "1585 10\n",
      "1605 10\n",
      "1608 10\n",
      "1611 10\n",
      "1616 10\n",
      "1622 10\n",
      "1623 10\n",
      "1627 10\n",
      "1643 10\n",
      "1648 10\n",
      "1658 10\n",
      "1660 10\n",
      "1674 10\n",
      "1682 10\n",
      "1690 10\n",
      "1708 10\n",
      "1712 10\n",
      "1718 10\n",
      "1721 10\n",
      "1723 4\n",
      "1725 10\n",
      "1726 10\n",
      "1731 10\n",
      "1734 10\n",
      "1740 10\n",
      "1749 10\n",
      "1754 10\n",
      "1755 10\n",
      "1760 10\n",
      "1766 10\n",
      "1788 10\n",
      "1789 7\n",
      "1791 10\n",
      "1792 10\n",
      "1793 10\n",
      "1797 10\n",
      "1799 10\n",
      "1818 5\n",
      "1824 10\n",
      "1826 2\n",
      "1827 4\n",
      "1834 10\n",
      "1838 10\n",
      "1870 10\n",
      "1879 10\n",
      "1881 10\n",
      "1882 10\n",
      "1883 10\n",
      "1884 10\n",
      "1899 10\n",
      "1909 10\n",
      "1916 4\n",
      "1934 10\n",
      "1938 10\n",
      "1952 10\n",
      "1953 10\n",
      "1970 10\n",
      "1988 10\n",
      "1989 5\n",
      "1992 10\n",
      "1994 10\n",
      "2015 5\n",
      "2025 10\n",
      "2030 9\n",
      "2032 10\n",
      "2033 10\n",
      "2036 10\n"
     ]
    }
   ],
   "source": [
    "for i in indices:\n",
    "    print i,YTrain[i]"
   ]
  },
  {
   "cell_type": "markdown",
   "metadata": {},
   "source": [
    "### Check Missing Test Cases from Challenge 3"
   ]
  },
  {
   "cell_type": "code",
   "execution_count": 8,
   "metadata": {
    "collapsed": false
   },
   "outputs": [
    {
     "name": "stdout",
     "output_type": "stream",
     "text": [
      "[['69' '94af7ecc940f3f2e0bec2e1e920193a9']\n",
      " ['364' 'e29f3b970b8487e06dd321c48f015493']\n",
      " ['661' '4f449201ecb529ff71a321d6d41d626e']\n",
      " ['33' '0231aebb8155fd069d17eab6a679cc1e']\n",
      " ['104' '8184fedd04e1b3642a77ac96298877c9']\n",
      " ['508' '3cdd0fb587ca6c28c891ff4c75cfe06c']\n",
      " ['521' '016b512e068383a7800166ce945bfb4e']\n",
      " ['179' 'b531346046175207d3b6f326b672d3f8']\n",
      " ['518' '8ada2473ff702a617facc11d6b1ee8ff']\n",
      " ['413' 'e15d7135b0ee671539d100600905bea6']\n",
      " ['398' 'f2a28a9059a7e9884c5f6c46ae5a98f4']\n",
      " ['396' '031b79d4410b3a924803fc46e06bd945']\n",
      " ['279' 'a1aba44b004024083d592e4310469fb1']\n",
      " ['76' '294725ae35ecfb4f5e0d29239213c2c7']\n",
      " ['130' '4fded173211150d51dd97a36ec9797c9']\n",
      " ['452' 'c95ce84ed7dbf6bf3d68b2669d10d2a2']\n",
      " ['298' 'f25de5a9c41c04e8a29b9c6617e628b0']\n",
      " ['606' '00a5b00e9702871aced2b91134c298a1']\n",
      " ['445' '0494d448cc476652b08879486bff7634']\n",
      " ['107' 'd7980d1fb080e8831301fb303a2bc5a6']\n",
      " ['29' 'c67562a02c791c793df0bccf7ffaaf98']\n",
      " ['489' '06258bf3b56c9c46c6b38c64820a11dc']\n",
      " ['316' '637d40585d5225df5b47465c13f4a636']\n",
      " ['280' '6bdfd87e94df7763f26bcce3485fd702']\n",
      " ['126' '0614f6a2c6853e2c06da01a213ed8458']\n",
      " ['109' '372f1c5c378cc2b6a45ec16af441c570']\n",
      " ['531' '0146dc784d2b5f2b819e82468f9e388a']\n",
      " ['244' '0015d7459d4965b83826808d0a47d1ab']\n",
      " ['46' '08754896596057aa06ccd4eb4b393ce1']\n",
      " ['599' 'ca5d15a7dbf3afa8ff6e3d0cfbd3f24e']]\n",
      "['0' '01a5b8cfafffa0537ad2d3c44f7c2aed'] ['0' '78fcb009e022b2dbc71ac8fb64f8f135' '10'] ['0' '7']\n"
     ]
    }
   ],
   "source": [
    "predictionsC3 = os.getcwd()+os.sep+'C3_Predictions.csv'\n",
    "trainC3 = os.getcwd()+os.sep+'training_data_C3.csv'\n",
    "testC3 = os.getcwd()+os.sep+'test_data_public_C3.csv'\n",
    "missingTest = os.getcwd()+os.sep+'test_data_missing_cuckoo.txt'\n",
    "XTestMissing = np.loadtxt(missingTest, usecols=(0,1), delimiter=',', dtype='str')\n",
    "XTrainC3 = np.loadtxt(trainC3, skiprows=1, usecols=(0,1,2), delimiter=',', dtype='str')\n",
    "XTestC3 = np.loadtxt(testC3, skiprows=1, usecols=(0,1), delimiter=',', dtype='str')\n",
    "PredictionsC3 = np.loadtxt(predictionsC3, skiprows=1, usecols=(0,1), delimiter=',', dtype='str')\n",
    "print XTestMissing\n",
    "print XTestC3[0], XTrainC3[0], PredictionsC3[0]"
   ]
  },
  {
   "cell_type": "code",
   "execution_count": 9,
   "metadata": {
    "collapsed": false
   },
   "outputs": [
    {
     "name": "stdout",
     "output_type": "stream",
     "text": [
      "{'0146dc784d2b5f2b819e82468f9e388a': (531, -1), 'd7980d1fb080e8831301fb303a2bc5a6': (107, -1), '00a5b00e9702871aced2b91134c298a1': (606, 10), '031b79d4410b3a924803fc46e06bd945': (396, 2), '0494d448cc476652b08879486bff7634': (445, 3), 'b531346046175207d3b6f326b672d3f8': (179, 10), '4fded173211150d51dd97a36ec9797c9': (130, 10), '0614f6a2c6853e2c06da01a213ed8458': (126, 10), '4f449201ecb529ff71a321d6d41d626e': (661, 5), 'a1aba44b004024083d592e4310469fb1': (279, 10), '372f1c5c378cc2b6a45ec16af441c570': (109, 10), '8ada2473ff702a617facc11d6b1ee8ff': (518, -1), 'e15d7135b0ee671539d100600905bea6': (413, 10), 'e29f3b970b8487e06dd321c48f015493': (364, 1), 'c95ce84ed7dbf6bf3d68b2669d10d2a2': (452, 4), '294725ae35ecfb4f5e0d29239213c2c7': (76, 10), '0015d7459d4965b83826808d0a47d1ab': (244, 5), '08754896596057aa06ccd4eb4b393ce1': (46, 7), 'f2a28a9059a7e9884c5f6c46ae5a98f4': (398, 10), 'f25de5a9c41c04e8a29b9c6617e628b0': (298, 10), '6bdfd87e94df7763f26bcce3485fd702': (280, 10), 'c67562a02c791c793df0bccf7ffaaf98': (29, 10), '637d40585d5225df5b47465c13f4a636': (316, 5), 'ca5d15a7dbf3afa8ff6e3d0cfbd3f24e': (599, 10), '016b512e068383a7800166ce945bfb4e': (521, -1), '06258bf3b56c9c46c6b38c64820a11dc': (489, -1), '0231aebb8155fd069d17eab6a679cc1e': (33, 10), '94af7ecc940f3f2e0bec2e1e920193a9': (69, 4), '3cdd0fb587ca6c28c891ff4c75cfe06c': (508, 10), '8184fedd04e1b3642a77ac96298877c9': (104, -1)}\n"
     ]
    }
   ],
   "source": [
    "missingPredictionsFromC3 = {}\n",
    "for test in XTestMissing:\n",
    "#     print test, test[1], test[1] in XTrainC3[:,1], test[1] in XTestC3[:,1]\n",
    "    if test[1] in XTrainC3[:,1]:\n",
    "        for c3train in XTrainC3:\n",
    "            if c3train[1] == test[1]:\n",
    "                print c3train, test[1]\n",
    "                missingPredictionsFromC3[test[1]] = c3train[2]\n",
    "    elif test[1] in XTestC3[:,1]:\n",
    "        for c3test in XTestC3:\n",
    "            if c3test[1] == test[1]:\n",
    "#                 print c3test, test[1], PredictionsC3[int(c3test[0])][-1]\n",
    "                missingPredictionsFromC3[test[1]] = (int(test[0]),int(PredictionsC3[int(c3test[0])][-1]))\n",
    "    else:\n",
    "#         print test[1]\n",
    "        missingPredictionsFromC3[test[1]] = (int(test[0]),-1)\n",
    "print missingPredictionsFromC3"
   ]
  },
  {
   "cell_type": "code",
   "execution_count": 10,
   "metadata": {
    "collapsed": false
   },
   "outputs": [],
   "source": [
    "# import pyvw\n",
    "# def cleanVWMessages(XMessages, YTrain, train=False):\n",
    "#     cleanVW = []\n",
    "#     Y = 0\n",
    "#     for i in xrange(len(XMessages)):\n",
    "#         if train:\n",
    "#             Y = int(YTrain[i])\n",
    "#         else:\n",
    "#             Y = -1\n",
    "#         if XMessages[i]:\n",
    "#             cleanVW.append((Y,' | '.join(c for c in XMessages[i] if c not in ':|\\n\\t\\r')))\n",
    "#             #f.write(str(Y) + ':' + '|' + str(i+1)+' subject:' + ''.join(c for c in trainSubjects[i] if c not in ':|\\n\\t\\r') +'\\r')\n",
    "#         else:\n",
    "#             cleanVW.append((Y,' '))\n",
    "#             #f.write(str(Y) + ':' + '|' + str(i+1)+' subject:' + '' +'\\r')\n",
    "#     # f.close()\n",
    "#     print len(cleanVW)\n",
    "#     return cleanVW\n",
    "# #     print trainVW[0]"
   ]
  },
  {
   "cell_type": "code",
   "execution_count": 11,
   "metadata": {
    "collapsed": false
   },
   "outputs": [],
   "source": [
    "# print trainFolder[:2]\n",
    "# trainClean = cleanVWMessages(trainFolder, YTrain, train=True)\n",
    "# print trainClean[0:2]\n",
    "# print testFolder[:2]\n",
    "# testClean = cleanVWMessages(testFolder, YTrain, train=False)\n",
    "# print testClean[0:2]"
   ]
  },
  {
   "cell_type": "code",
   "execution_count": 12,
   "metadata": {
    "collapsed": true
   },
   "outputs": [],
   "source": [
    "# def classifyVW(XTrain, XTest, YTrain, YTest, XTestSubs, XTestEmailBody, XTestSender, XTestDate, params, ruled):\n",
    "#     parameters = params['parameters']\n",
    "#     vw = pyvw.vw(parameters)\n",
    "#     for train in XTrain:\n",
    "#         ex = vw.example(str(train[0]) + \" | \" + train[1])\n",
    "#         ex.learn()\n",
    "#     YPred = []\n",
    "#     for test in XTest:\n",
    "#         ex1 = vw.example(\" | \" + test[1])\n",
    "#         ex1.learn() \n",
    "#     #     print ex1.get_updated_prediction(),ex1.get_simplelabel_prediction() #<-- the same for every prediction?\n",
    "#         if ex1.get_simplelabel_prediction() > 0:\n",
    "#             YPred.append(1)\n",
    "#         else:\n",
    "#             YPred.append(0)\n",
    "#     if ruled:\n",
    "#         rules = params['rules']\n",
    "\n",
    "#         for r in rules:\n",
    "#             if r==1:\n",
    "#                 YPred = ApplyStaticRule1(XTestSubs, YPred)\n",
    "#             elif r==2:\n",
    "#                 YPred = ApplyStaticRule2(XTestEmailBody, YPred)\n",
    "#             elif r==3:\n",
    "#                 YPred = ApplyStaticRule3(XTestDate, YPred)\n",
    "#             elif r==4:\n",
    "#                 YPred = ApplyStaticRule4(XTestSender, YPred)\n",
    "#             elif r==5:\n",
    "#                 YPred = ApplyStaticRule5(XTestEmailBody, YPred)\n",
    "\n",
    "# #     return YPred\n",
    "#     YPred = np.array(YPred)\n",
    "#     YTest = np.array(YTest)\n",
    "#     diff = YPred - YTest\n",
    "#     score = diff[diff == 0].size\n",
    "#     return (100.0 * score)/(YPred.size)\n"
   ]
  },
  {
   "cell_type": "code",
   "execution_count": 13,
   "metadata": {
    "collapsed": false
   },
   "outputs": [],
   "source": [
    "# parameters = ''\n",
    "# vw = pyvw.vw(parameters)\n",
    "# for train in trainClean:\n",
    "#     ex = vw.example(str(train[0]) + \" | \" + train[1])\n",
    "#     ex.learn()\n",
    "# YPred = []\n",
    "# for test in testClean:\n",
    "#     ex1 = vw.example(\" | \" + test[1])\n",
    "#     ex1.learn() \n",
    "# #     print ex1.get_updated_prediction(),ex1.get_simplelabel_prediction() #<-- the same for every prediction?\n",
    "#     if ex1.get_simplelabel_prediction() >= 10:\n",
    "#         YPred.append(10)\n",
    "#     elif ex1.get_simplelabel_prediction() >= 9:\n",
    "#         YPred.append(9)\n",
    "#     elif ex1.get_simplelabel_prediction() >= 8:\n",
    "#         YPred.append(8)\n",
    "#     elif ex1.get_simplelabel_prediction() >= 7:\n",
    "#         YPred.append(7)\n",
    "#     elif ex1.get_simplelabel_prediction() >= 6:\n",
    "#         YPred.append(6)\n",
    "#     elif ex1.get_simplelabel_prediction() >= 5:\n",
    "#         YPred.append(5)\n",
    "#     elif ex1.get_simplelabel_prediction() >= 4:\n",
    "#         YPred.append(4)\n",
    "#     elif ex1.get_simplelabel_prediction() >= 3:\n",
    "#         YPred.append(3)\n",
    "#     elif ex1.get_simplelabel_prediction() >= 2:\n",
    "#         YPred.append(2)\n",
    "#     elif ex1.get_simplelabel_prediction() >= 1:\n",
    "#         YPred.append(1)\n",
    "#     elif ex1.get_simplelabel_prediction() >= 0:\n",
    "#         YPred.append(0)\n",
    "\n",
    "# writePrdictedLabelFile(YPred)\n",
    "        \n",
    "# #     else:\n",
    "# #         YPred.append(0)\n",
    "\n",
    "# #     return YPred\n",
    "# # YPred = np.array(YPred)\n",
    "# # YTest = np.array(YTest)\n",
    "# # diff = YPred - YTest\n",
    "# # score = diff[diff == 0].size\n",
    "# # return (100.0 * score)/(YPred.size)\n"
   ]
  },
  {
   "cell_type": "markdown",
   "metadata": {},
   "source": [
    "### Bag of Words"
   ]
  },
  {
   "cell_type": "code",
   "execution_count": 14,
   "metadata": {
    "collapsed": false
   },
   "outputs": [
    {
     "name": "stdout",
     "output_type": "stream",
     "text": [
      "5729\n",
      "(2042, 5729)\n",
      "(706, 5729)\n"
     ]
    }
   ],
   "source": [
    "from sklearn.feature_extraction.text import CountVectorizer\n",
    "vectorizer = CountVectorizer()\n",
    "# print vectorizer\n",
    "# CountVectorizer(analyzer__min_n=1)\n",
    "XTr = vectorizer.fit_transform(trainSamples)\n",
    "# corpus = [\n",
    "#     'This is the first document.',\n",
    "#     'This is the second second document.',\n",
    "#     'And the third one.',\n",
    "#     'Is this the first document?',\n",
    "# ]\n",
    "# X = vectorizer.fit_transform(corpus)\n",
    "# print X\n",
    "print len(vectorizer.get_feature_names())\n",
    "trainBagVector = XTr.toarray()\n",
    "print trainBagVector.shape\n",
    "XTe = vectorizer.transform(testSamples)\n",
    "testBagVector = XTe.toarray()\n",
    "print testBagVector.shape\n",
    "# print X.vocabulary\n",
    "# print vectorizer.vocabulary"
   ]
  },
  {
   "cell_type": "code",
   "execution_count": 26,
   "metadata": {
    "collapsed": false
   },
   "outputs": [
    {
     "name": "stdout",
     "output_type": "stream",
     "text": [
      "10 -1\n",
      "10 -1\n",
      "10 10\n",
      "10 2\n",
      "10 3\n",
      "10 10\n",
      "10 10\n",
      "10 10\n",
      "10 5\n",
      "10 10\n",
      "10 10\n",
      "10 -1\n",
      "10 10\n",
      "10 1\n",
      "10 4\n",
      "10 10\n",
      "10 5\n",
      "10 7\n",
      "10 10\n",
      "10 10\n",
      "10 10\n",
      "10 10\n",
      "10 5\n",
      "10 10\n",
      "10 -1\n",
      "10 -1\n",
      "10 10\n",
      "10 4\n",
      "10 10\n",
      "10 -1\n"
     ]
    }
   ],
   "source": [
    "for missingTest in missingPredictionsFromC3.values():\n",
    "    if missingTest[1] != -1:\n",
    "        print YPred[missingTest[0]], missingTest[1]\n",
    "        YPred[missingTest[0]] = missingTest[1]\n",
    "    else:\n",
    "        print YPred[missingTest[0]], missingTest[1]\n",
    "#         YPred[missingTest[0]] = 10\n",
    "writePrdictedLabelFile(YPred)"
   ]
  },
  {
   "cell_type": "code",
   "execution_count": null,
   "metadata": {
    "collapsed": true
   },
   "outputs": [],
   "source": [
    "# f = open(\"testVW.dat\",'w')\n",
    "# for tm in testClean:\n",
    "#     f.write(' | '+tm[1] + '\\r')\n",
    "# f.close()\n",
    "    "
   ]
  },
  {
   "cell_type": "code",
   "execution_count": null,
   "metadata": {
    "collapsed": false
   },
   "outputs": [],
   "source": [
    "# f = open(\"trainVW.dat\",'w')\n",
    "# for tr in trainClean:\n",
    "#     f.write(str(tr[0])+' | '+tr[1] + '\\r')\n",
    "# f.close()\n",
    "# #     "
   ]
  },
  {
   "cell_type": "markdown",
   "metadata": {},
   "source": [
    "### Test Example for HMM"
   ]
  },
  {
   "cell_type": "code",
   "execution_count": null,
   "metadata": {
    "collapsed": false
   },
   "outputs": [],
   "source": [
    "with open(r'Train Data/0.txt') as f:\n",
    "    lines = f.readlines()\n",
    "\n",
    "\n",
    "X = np.array(lines).reshape(-1,1)\n",
    "print type(X)\n",
    "X.shape"
   ]
  },
  {
   "cell_type": "markdown",
   "metadata": {},
   "source": [
    "### String needs to be converted to numerical features before applying HMM\n",
    "### TF-IDF & n-gram can be tried"
   ]
  },
  {
   "cell_type": "markdown",
   "metadata": {},
   "source": [
    "### HMM Model"
   ]
  },
  {
   "cell_type": "code",
   "execution_count": null,
   "metadata": {
    "collapsed": false
   },
   "outputs": [],
   "source": [
    "from hmmlearn.hmm import GaussianHMM\n",
    "\n",
    "# Make an HMM instance and fitting to HMM\n",
    "model = GaussianHMM(n_components=4, covariance_type=\"diag\", n_iter=1000).fit(X)\n",
    "\n",
    "# Predict the optimal sequence of internal hidden state\n",
    "hidden_states = model.predict(X)"
   ]
  },
  {
   "cell_type": "markdown",
   "metadata": {},
   "source": [
    "### Print trained parameters and plot"
   ]
  },
  {
   "cell_type": "code",
   "execution_count": null,
   "metadata": {
    "collapsed": true
   },
   "outputs": [],
   "source": [
    "print(\"Transition matrix\")\n",
    "print(model.transmat_)\n",
    "print()\n",
    "\n",
    "print(\"Means and vars of each hidden state\")\n",
    "for i in range(model.n_components):\n",
    "    print(\"{0}th hidden state\".format(i))\n",
    "    print(\"mean = \", model.means_[i])\n",
    "    print(\"var = \", np.diag(model.covars_[i]))\n",
    "    print()\n",
    "\n",
    "fig, axs = plt.subplots(model.n_components, sharex=True, sharey=True)\n",
    "colours = cm.rainbow(np.linspace(0, 1, model.n_components))\n",
    "for i, (ax, colour) in enumerate(zip(axs, colours)):\n",
    "    # Use fancy indexing to plot data in each state.\n",
    "    mask = hidden_states == i\n",
    "    ax.plot_date(dates[mask], close_v[mask], \".-\", c=colour)\n",
    "    ax.set_title(\"{0}th hidden state\".format(i))\n",
    "\n",
    "    # Format the ticks.\n",
    "    ax.xaxis.set_major_locator(YearLocator())\n",
    "    ax.xaxis.set_minor_locator(MonthLocator())\n",
    "\n",
    "    ax.grid(True)\n",
    "\n",
    "fig.tight_layout()\n",
    "fig.autofmt_xdate()\n",
    "fig.show()"
   ]
  },
  {
   "cell_type": "markdown",
   "metadata": {
    "collapsed": true
   },
   "source": [
    "### Classifiers"
   ]
  },
  {
   "cell_type": "code",
   "execution_count": 16,
   "metadata": {
    "collapsed": true
   },
   "outputs": [],
   "source": [
    "# Random Forest Classifier\n",
    "from sklearn.ensemble import RandomForestClassifier\n",
    "# def classifyRandomForestClassifier(XTrain, XTest, YTrain, YTest,trees=100,crit='gini'):\n",
    "def classifyRandomForestClassifier(XTrain, XTest, YTrain, YTest, params):\n",
    "    trees = params['trees']\n",
    "    crit = params['criterion']\n",
    "    seed = params['random_state']\n",
    "    clf = RandomForestClassifier(n_estimators=trees,criterion=crit,random_state=seed)\n",
    "    clf.fit(XTrain, YTrain)\n",
    "    YPred = clf.predict(XTest)\n",
    "    diff = YPred - YTest\n",
    "    score = diff[diff == 0].size\n",
    "    return (100.0 * score)/(YPred.size)"
   ]
  },
  {
   "cell_type": "code",
   "execution_count": 17,
   "metadata": {
    "collapsed": true
   },
   "outputs": [],
   "source": [
    "#Multi Class SVM\n",
    "from sklearn import svm\n",
    "def classifyMultiClassSVMClassifier(XTrain, XTest, YTrain, YTest, params):\n",
    "    ker = params['kernel']\n",
    "    YPred = svm.SVC(kernel=ker).fit(XTrain, YTrain).predict(XTest)\n",
    "    diff = YPred - YTest\n",
    "    score = diff[diff == 0].size\n",
    "    return (100.0 * score)/(YPred.size)"
   ]
  },
  {
   "cell_type": "code",
   "execution_count": 18,
   "metadata": {
    "collapsed": true
   },
   "outputs": [],
   "source": [
    "#K Nearest Neighbours Classifier\n",
    "from sklearn.neighbors import KNeighborsClassifier\n",
    "def classifyKNNClassifier(XTrain, XTest, YTrain, YTest, params):\n",
    "    neighbours = params['neighbours']\n",
    "    neigh = KNeighborsClassifier(n_neighbors=neighbours)\n",
    "    YPred = neigh.fit(XTrain, YTrain).predict(XTest)\n",
    "    diff = YPred - YTest\n",
    "    score = diff[diff == 0].size\n",
    "    return (100.0 * score)/(YPred.size)"
   ]
  },
  {
   "cell_type": "markdown",
   "metadata": {},
   "source": [
    "### Stratified K Fold Cross Validation"
   ]
  },
  {
   "cell_type": "code",
   "execution_count": 19,
   "metadata": {
    "collapsed": true
   },
   "outputs": [],
   "source": [
    "from sklearn.cross_validation import StratifiedKFold\n",
    "def stratifiedKFoldVal(XTrain, YTrain, classify, params):\n",
    "    n_folds = 5\n",
    "    score = 0.0\n",
    "    skf = StratifiedKFold(YTrain, n_folds)\n",
    "    for train_index, test_index in skf:\n",
    "#         print train_index, test_index, XTrain[train_index], XTrain[test_index]\n",
    "        X_train, X_test = XTrain[train_index], XTrain[test_index]\n",
    "        y_train, y_test = YTrain[train_index], YTrain[test_index]\n",
    "        score += classify(X_train, X_test,  y_train, y_test, params)\n",
    "    return score/n_folds"
   ]
  },
  {
   "cell_type": "markdown",
   "metadata": {},
   "source": [
    "### Write Predicted Output Labels to File"
   ]
  },
  {
   "cell_type": "code",
   "execution_count": 20,
   "metadata": {
    "collapsed": true
   },
   "outputs": [],
   "source": [
    "def writePrdictedLabelFile(YPred):\n",
    "    f = open(\"Predictions.csv\",\"w\")\n",
    "    f.write(\"Id,Label\" + \"\\n\")\n",
    "    for i in xrange(len(YPred)):\n",
    "        f.write(str(i) + \",\" + str(int(YPred[i]))+ \"\\n\")\n",
    "    f.close()"
   ]
  },
  {
   "cell_type": "markdown",
   "metadata": {},
   "source": [
    "### Normalisation of Feature Vectors"
   ]
  },
  {
   "cell_type": "code",
   "execution_count": null,
   "metadata": {
    "collapsed": false
   },
   "outputs": [],
   "source": [
    "from sklearn import preprocessing\n",
    "def NormalizeVector(XTestFeatures,XTrainFeatures):\n",
    "    XTestFeaturesNorm = preprocessing.normalize(XTestFeatures, norm='l2')\n",
    "    XTrainFeaturesNorm = preprocessing.normalize(XTrainFeatures, norm='l2')\n",
    "    print XTrainFeaturesNorm.shape,XTestFeaturesNorm.shape\n",
    "#     print XTrainFeaturesNorm[0],XTestFeaturesNorm[0]\n",
    "    return XTrainFeaturesNorm, XTestFeaturesNorm"
   ]
  },
  {
   "cell_type": "markdown",
   "metadata": {},
   "source": [
    "### Selection of Nearest Neighbours for KNN"
   ]
  },
  {
   "cell_type": "code",
   "execution_count": 27,
   "metadata": {
    "collapsed": false
   },
   "outputs": [
    {
     "name": "stdout",
     "output_type": "stream",
     "text": [
      "86.7775926529\n",
      "89.7161490331\n",
      "88.442167841\n",
      "90.0631390457\n",
      "88.592483141\n",
      "[86.77759265287625, 89.71614903307294, 88.4421678409939, 90.06313904566821, 88.59248314095001]\n"
     ]
    }
   ],
   "source": [
    "selectNeighbourScores = []\n",
    "\n",
    "params = {'neighbours':2}\n",
    "score = stratifiedKFoldVal(trainBagVector, YTrain, classifyKNNClassifier, params)\n",
    "print score\n",
    "selectNeighbourScores.append(score)\n",
    "\n",
    "params = {'neighbours':3}\n",
    "score = stratifiedKFoldVal(trainBagVector, YTrain, classifyKNNClassifier, params)\n",
    "print score\n",
    "selectNeighbourScores.append(score)\n",
    "\n",
    "params = {'neighbours':4}\n",
    "score = stratifiedKFoldVal(trainBagVector, YTrain, classifyKNNClassifier, params)\n",
    "print score\n",
    "selectNeighbourScores.append(score)\n",
    "\n",
    "params = {'neighbours':5}\n",
    "score = stratifiedKFoldVal(trainBagVector, YTrain, classifyKNNClassifier, params)\n",
    "print score\n",
    "selectNeighbourScores.append(score)\n",
    "\n",
    "params = {'neighbours':6}\n",
    "score = stratifiedKFoldVal(trainBagVector, YTrain, classifyKNNClassifier, params)\n",
    "print score\n",
    "selectNeighbourScores.append(score)\n",
    "\n",
    "params = {'neighbours':8}\n",
    "score = stratifiedKFoldVal(trainBagVector, YTrain, classifyKNNClassifier, params)\n",
    "print score\n",
    "selectNeighbourScores.append(score)\n",
    "\n",
    "params = {'neighbours':10}\n",
    "score = stratifiedKFoldVal(trainBagVector, YTrain, classifyKNNClassifier, params)\n",
    "print score\n",
    "selectNeighbourScores.append(score)\n",
    "\n",
    "print selectNeighbourScores"
   ]
  },
  {
   "cell_type": "code",
   "execution_count": null,
   "metadata": {
    "collapsed": false
   },
   "outputs": [
    {
     "data": {
      "image/png": "[encoded data removed]",
      "text/plain": [
       "<matplotlib.figure.Figure at 0x7f1513d59250>"
      ]
     },
     "metadata": {},
     "output_type": "display_data"
    }
   ],
   "source": [
    "#Plotting the results\n",
    "import matplotlib.pyplot as plt\n",
    "%matplotlib inline\n",
    "plt.plot(selectNeighbourScores, label = \"Neighbors in k-Nearest Neighbor (kNN) Classifier\")\n",
    "plt.title(\"Neighbors in k-Nearest Neighbor (kNN) Classifier\")\n",
    "\n",
    "labels = [2,3,4,5,6,8,10]\n",
    "plt.xticks(np.arange(len(labels)), labels, rotation='horizontal')\n",
    "# plt.title(\"Optimal choice of Neighbors in k-Nearest Neighbor (kNN) Classifier\")\n",
    "plt.ylabel('Categorization Accuracy')\n",
    "plt.xlabel('No. of Neighbours')\n",
    "# plt.legend(bbox_to_anchor=(1.05, 1), loc=2, borderaxespad=0.)\n",
    "plt.show()"
   ]
  },
  {
   "cell_type": "markdown",
   "metadata": {},
   "source": [
    "#### Hence, we choose k=3 for our nearest neighbor classifier."
   ]
  },
  {
   "cell_type": "markdown",
   "metadata": {},
   "source": [
    "### Selection of Parameters for Random Forest"
   ]
  },
  {
   "cell_type": "code",
   "execution_count": 21,
   "metadata": {
    "collapsed": false
   },
   "outputs": [
    {
     "name": "stdout",
     "output_type": "stream",
     "text": [
      "91.4290365169\n",
      "91.3302704827\n",
      "91.4283191225\n",
      "91.4779421841\n",
      "91.3797754332\n",
      "91.4290365169\n",
      "91.2817267933\n",
      "91.2823319883\n",
      "91.3302704827\n",
      "91.2817327051\n",
      "91.3312317438\n",
      "91.2817267933\n",
      "[91.42903651690781, 91.33027048266891, 91.42831912248434, 91.47794218414563, 91.37977543316397, 91.42903651690781, 91.28172679334851, 91.28233198834235, 91.33027048266891, 91.28173270508515, 91.33123174384357, 91.28172679334851]\n"
     ]
    }
   ],
   "source": [
    "selectRandomForestScores = []\n",
    "\n",
    "params = {'trees':200, 'criterion':'entropy','random_state':1000}\n",
    "score = stratifiedKFoldVal(trainBagVector, YTrain, classifyRandomForestClassifier, params)\n",
    "print score\n",
    "selectRandomForestScores.append(score)\n",
    "\n",
    "params = {'trees':100, 'criterion':'entropy','random_state':1000}\n",
    "score = stratifiedKFoldVal(trainBagVector, YTrain, classifyRandomForestClassifier, params)\n",
    "print score\n",
    "selectRandomForestScores.append(score)\n",
    "\n",
    "params = {'trees':500, 'criterion':'entropy','random_state':1000}\n",
    "score = stratifiedKFoldVal(trainBagVector, YTrain, classifyRandomForestClassifier, params)\n",
    "print score\n",
    "selectRandomForestScores.append(score)\n",
    "\n",
    "params = {'trees':50, 'criterion':'entropy','random_state':1000}\n",
    "score = stratifiedKFoldVal(trainBagVector, YTrain, classifyRandomForestClassifier, params)\n",
    "print score\n",
    "selectRandomForestScores.append(score)\n",
    "\n",
    "params = {'trees':150, 'criterion':'entropy','random_state':1000}\n",
    "score = stratifiedKFoldVal(trainBagVector, YTrain, classifyRandomForestClassifier, params)\n",
    "print score\n",
    "selectRandomForestScores.append(score)\n",
    "\n",
    "params = {'trees':250, 'criterion':'entropy','random_state':1000}\n",
    "score = stratifiedKFoldVal(trainBagVector, YTrain, classifyRandomForestClassifier, params)\n",
    "print score\n",
    "selectRandomForestScores.append(score)\n",
    "\n",
    "params = {'trees':200, 'criterion':'gini','random_state':1000}\n",
    "score = stratifiedKFoldVal(trainBagVector, YTrain, classifyRandomForestClassifier, params)\n",
    "print score\n",
    "selectRandomForestScores.append(score)\n",
    "\n",
    "params = {'trees':100, 'criterion':'gini','random_state':1000}\n",
    "score = stratifiedKFoldVal(trainBagVector, YTrain, classifyRandomForestClassifier, params)\n",
    "print score\n",
    "selectRandomForestScores.append(score)\n",
    "\n",
    "params = {'trees':500, 'criterion':'gini','random_state':1000}\n",
    "score = stratifiedKFoldVal(trainBagVector, YTrain, classifyRandomForestClassifier, params)\n",
    "print score\n",
    "selectRandomForestScores.append(score)\n",
    "\n",
    "params = {'trees':50, 'criterion':'gini','random_state':1000}\n",
    "score = stratifiedKFoldVal(trainBagVector, YTrain, classifyRandomForestClassifier, params)\n",
    "print score\n",
    "selectRandomForestScores.append(score)\n",
    "\n",
    "params = {'trees':150, 'criterion':'gini','random_state':1000}\n",
    "score = stratifiedKFoldVal(trainBagVector, YTrain, classifyRandomForestClassifier, params)\n",
    "print score\n",
    "selectRandomForestScores.append(score)\n",
    "\n",
    "params = {'trees':250, 'criterion':'gini','random_state':1000}\n",
    "score = stratifiedKFoldVal(trainBagVector, YTrain, classifyRandomForestClassifier, params)\n",
    "print score\n",
    "selectRandomForestScores.append(score)\n",
    "\n",
    "print selectRandomForestScores"
   ]
  },
  {
   "cell_type": "code",
   "execution_count": 23,
   "metadata": {
    "collapsed": false
   },
   "outputs": [
    {
     "data": {
      "image/png": "[encoded data removed]",
      "text/plain": [
       "<matplotlib.figure.Figure at 0x7f14fa90e910>"
      ]
     },
     "metadata": {},
     "output_type": "display_data"
    }
   ],
   "source": [
    "#Plotting the results\n",
    "import matplotlib.pyplot as plt\n",
    "%matplotlib inline\n",
    "plt.plot(selectRandomForestScores, label = \"Random Forest Classifier\")\n",
    "plt.title(\"Random Forest Classifier\")\n",
    "\n",
    "labels = ['200 Trees + entropy', '100 Trees + entropy', '500 Trees + entropy', '50 Trees + entropy', '150 Trees + entropy','250 Trees + entropy',\n",
    "          '200 Trees + gini', '100 Trees + gini', '500 Trees + gini', '50 Trees + gini','150 Trees + gini','250 Trees + gini']\n",
    "\n",
    "# You can specify a rotation for the tick labels in degrees or with keywords.\n",
    "plt.xticks(np.arange(len(labels)), labels, rotation='vertical')\n",
    "\n",
    "plt.ylabel('Scores')\n",
    "plt.xlabel('Parameters')\n",
    "# Place a legend to the right of this smaller figure.\n",
    "# plt.legend(bbox_to_anchor=(1.05, 1), loc=2, borderaxespad=0.)\n",
    "plt.show()"
   ]
  },
  {
   "cell_type": "code",
   "execution_count": 24,
   "metadata": {
    "collapsed": true
   },
   "outputs": [],
   "source": [
    "params = {'trees':50, 'criterion':'entropy','random_state':None}\n",
    "trees = params['trees']\n",
    "crit = params['criterion']\n",
    "seed = params['random_state']\n",
    "clf = RandomForestClassifier(n_estimators=trees,criterion=crit,random_state=seed)\n",
    "clf.fit(trainBagVector, YTrain)\n",
    "YPred = clf.predict(testBagVector)\n",
    "writePrdictedLabelFile(YPred)"
   ]
  },
  {
   "cell_type": "markdown",
   "metadata": {},
   "source": [
    "### Selection of Kernel for Multi Class SVM"
   ]
  },
  {
   "cell_type": "code",
   "execution_count": null,
   "metadata": {
    "collapsed": false
   },
   "outputs": [],
   "source": [
    "selectKernelScores = []\n",
    "\n",
    "params = {'kernel':'poly'}\n",
    "score = stratifiedKFoldVal(trainBagVector, YTrain, classifyMultiClassSVMClassifier, params)\n",
    "print score\n",
    "selectKernelScores.append(score)\n",
    "\n",
    "params = {'kernel':'linear'}\n",
    "score = stratifiedKFoldVal(trainBagVector, YTrain, classifyMultiClassSVMClassifier, params)\n",
    "print score\n",
    "selectKernelScores.append(score)\n",
    "\n",
    "params = {'kernel':'rbf'}\n",
    "score = stratifiedKFoldVal(trainBagVector, YTrain, classifyMultiClassSVMClassifier, params)\n",
    "print score\n",
    "selectKernelScores.append(score)"
   ]
  },
  {
   "cell_type": "code",
   "execution_count": null,
   "metadata": {
    "collapsed": false
   },
   "outputs": [],
   "source": [
    "#Plotting the results\n",
    "import matplotlib.pyplot as plt\n",
    "%matplotlib inline\n",
    "plt.plot(selectKernelScores, label = \"Multiclass SVM Classifier\")\n",
    "\n",
    "labels = ['poly','linear','rbf']\n",
    "plt.title(\"Multiclass SVM Classifier\")\n",
    "# You can specify a rotation for the tick labels in degrees or with keywords.\n",
    "plt.xticks(np.arange(len(labels)), labels, rotation='horizontal')\n",
    "\n",
    "plt.ylabel('Scores')\n",
    "plt.xlabel('Kernel used')\n",
    "# Place a legend to the right of this smaller figure.\n",
    "# plt.legend(bbox_to_anchor=(1.05, 1), loc=2, borderaxespad=0.)\n",
    "plt.show()"
   ]
  },
  {
   "cell_type": "markdown",
   "metadata": {},
   "source": [
    "### Classification on Binary VT Info Feature Vectors"
   ]
  },
  {
   "cell_type": "code",
   "execution_count": null,
   "metadata": {
    "collapsed": true
   },
   "outputs": [],
   "source": [
    "scoreMultiClassSVMClassifier = []\n",
    "scoreKNNClassifier = []\n",
    "scoreRandomForestClassifier = []"
   ]
  },
  {
   "cell_type": "code",
   "execution_count": null,
   "metadata": {
    "collapsed": false
   },
   "outputs": [],
   "source": [
    "folder = 'vt'\n",
    "VTInfoTaken = ['Panda','AVware','VIPRE','Symantec','Antiy-AVL','Qihoo-360','AhnLab-V3', \\\n",
    "               'Avast','Kaspersky','ESET-NOD32','McAfee','BitDefender']\n",
    "XTrainFeatures = CreateFeatureVec(newXTrain,folder,VTInfoTaken)\n",
    "XTestFeatures = CreateFeatureVec(XTest,folder,VTInfoTaken)\n",
    "# print XTestFeatures.shape, XTestFeatures[0]\n",
    "# print XTrainFeatures.shape,XTrainFeatures[0]\n",
    "\n",
    "params = {'trees':200, 'criterion':'entropy'}\n",
    "score = stratifiedKFoldVal(XTrainFeatures, newYTrain, classifyRandomForestClassifier,params)\n",
    "print score\n",
    "scoreRandomForestClassifier.append(score)\n",
    "\n",
    "params = {'kernel':'linear'}\n",
    "score = stratifiedKFoldVal(XTrainFeatures, newYTrain, classifyMultiClassSVMClassifier, params)\n",
    "print score\n",
    "scoreMultiClassSVMClassifier.append(score)\n",
    "\n",
    "params = {'neighbours':3}\n",
    "score = stratifiedKFoldVal(XTrainFeatures, newYTrain, classifyKNNClassifier, params)\n",
    "print score\n",
    "scoreKNNClassifier.append(score)\n",
    "\n",
    "clf = RandomForestClassifier(n_estimators=200,criterion='entropy')\n",
    "clf.fit(XTrainFeatures, newYTrain)\n",
    "YPred = clf.predict(XTestFeatures)\n",
    "writePrdictedLabelFile(YPred)"
   ]
  },
  {
   "cell_type": "code",
   "execution_count": null,
   "metadata": {
    "collapsed": false
   },
   "outputs": [],
   "source": [
    "folder = 'vt'\n",
    "VTInfoTaken = VTRange.keys()\n",
    "XTrainFeatures = CreateFeatureVec(newXTrain,folder,VTInfoTaken)\n",
    "XTestFeatures = CreateFeatureVec(XTest,folder,VTInfoTaken)\n",
    "# print XTestFeatures.shape, XTestFeatures[0]\n",
    "# print XTrainFeatures.shape,XTrainFeatures[0]\n",
    "# print countNullVectors(XTrainFeatures, len(VTInfoTaken))\n",
    "# print countNullVectors(XTestFeatures, len(VTInfoTaken))\n",
    "\n",
    "params = {'trees':200, 'criterion':'entropy'}\n",
    "score = stratifiedKFoldVal(XTrainFeatures, newYTrain, classifyRandomForestClassifier, params)\n",
    "print score\n",
    "scoreRandomForestClassifier.append(score)\n",
    "\n",
    "# # params = {'kernel':'rbf'}\n",
    "# params = {'kernel':'linear'}\n",
    "# # params = {'kernel':'poly'}\n",
    "# score = stratifiedKFoldVal(XTrainFeatures, newYTrain, classifyMultiClassSVMClassifier, params)\n",
    "# print score\n",
    "# params = {'neighbours':2}\n",
    "# score = stratifiedKFoldVal(XTrainFeatures, newYTrain, classifyKNNClassifier, params)\n",
    "# print score\n",
    "params = {'kernel':'linear'}\n",
    "score = stratifiedKFoldVal(XTrainFeatures, newYTrain, classifyMultiClassSVMClassifier, params)\n",
    "print score\n",
    "scoreMultiClassSVMClassifier.append(score)\n",
    "\n",
    "params = {'neighbours':3}\n",
    "score = stratifiedKFoldVal(XTrainFeatures, newYTrain, classifyKNNClassifier, params)\n",
    "print score\n",
    "scoreKNNClassifier.append(score)\n",
    "\n",
    "clf = RandomForestClassifier(n_estimators=200,criterion='entropy')\n",
    "clf.fit(XTrainFeatures, newYTrain)\n",
    "YPred = clf.predict(XTestFeatures)\n",
    "writePrdictedLabelFile(YPred)"
   ]
  },
  {
   "cell_type": "markdown",
   "metadata": {},
   "source": [
    "### Classification on VT Info Feature Vectors Based on Frequency"
   ]
  },
  {
   "cell_type": "code",
   "execution_count": null,
   "metadata": {
    "collapsed": false
   },
   "outputs": [],
   "source": [
    "folder = 'vt'\n",
    "VTInfoTaken = ['Panda','AVware','VIPRE','Symantec','Antiy-AVL','Qihoo-360','AhnLab-V3', \\\n",
    "               'Avast','Kaspersky','ESET-NOD32','McAfee','BitDefender']\n",
    "VTInfoTaken = VTRange.keys()\n",
    "XTrainFeatures = CreateFeatureVecFreq(newXTrain,folder,VTInfoTaken)\n",
    "XTestFeatures = CreateFeatureVecFreq(XTest,folder,VTInfoTaken)\n",
    "# print XTestFeatures.shape, XTestFeatures[0]\n",
    "# print XTrainFeatures.shape,XTrainFeatures[0]\n",
    "# print countNullVectors(XTrainFeatures, len(VTInfoTaken))\n",
    "# print countNullVectors(XTestFeatures, len(VTInfoTaken))\n",
    "\n",
    "params = {'trees':200, 'criterion':'entropy'}\n",
    "score = stratifiedKFoldVal(XTrainFeatures, newYTrain, classifyRandomForestClassifier, params)\n",
    "print score\n",
    "scoreRandomForestClassifier.append(score)\n",
    "\n",
    "params = {'kernel':'linear'}\n",
    "score = stratifiedKFoldVal(XTrainFeatures, newYTrain, classifyMultiClassSVMClassifier, params)\n",
    "print score\n",
    "scoreMultiClassSVMClassifier.append(score)\n",
    "\n",
    "params = {'neighbours':3}\n",
    "score = stratifiedKFoldVal(XTrainFeatures, newYTrain, classifyKNNClassifier, params)\n",
    "print score\n",
    "scoreKNNClassifier.append(score)\n",
    "\n",
    "clf = RandomForestClassifier(n_estimators=200,criterion='entropy')\n",
    "clf.fit(XTrainFeatures, newYTrain)\n",
    "YPred = clf.predict(XTestFeatures)\n",
    "writePrdictedLabelFile(YPred)"
   ]
  },
  {
   "cell_type": "markdown",
   "metadata": {},
   "source": [
    "### Classification on PE Info Feature Vectors Based on Entropy Mean"
   ]
  },
  {
   "cell_type": "code",
   "execution_count": null,
   "metadata": {
    "collapsed": false
   },
   "outputs": [],
   "source": [
    "### Classification on combination of VT Info Feature Vectors Based on PE Info (Entropy Means)\n",
    "folder = 'peinfo'\n",
    "relevantSubTypes = ['pe_section']\n",
    "PEInfoTaken = ['entropy']\n",
    "XTrainFeaturesPE = CreateFeatureVecPEI(newXTrain,folder,PEInfoTaken,relevantSubTypes)\n",
    "XTestFeaturesPE = CreateFeatureVecPEI(XTest,folder,PEInfoTaken,relevantSubTypes)\n",
    "# print XTestFeaturesPE.shape, XTestFeaturesPE[0]\n",
    "# print XTrainFeaturesPE.shape,XTrainFeaturesPE[0]\n",
    "# print countNullVectors(XTrainFeaturesPE, len(VTInfoTaken))\n",
    "# print countNullVectors(XTestFeaturesPE, len(VTInfoTaken))\n",
    "params = {'trees':200, 'criterion':'entropy'}\n",
    "score = stratifiedKFoldVal(XTrainFeaturesPE, newYTrain, classifyRandomForestClassifier, params)\n",
    "print score\n",
    "scoreRandomForestClassifier.append(score)\n",
    "\n",
    "params = {'kernel':'linear'}\n",
    "score = stratifiedKFoldVal(XTrainFeaturesPE, newYTrain, classifyMultiClassSVMClassifier, params)\n",
    "print score\n",
    "scoreMultiClassSVMClassifier.append(score)\n",
    "\n",
    "params = {'neighbours':3}\n",
    "score = stratifiedKFoldVal(XTrainFeaturesPE, newYTrain, classifyKNNClassifier, params)\n",
    "print score\n",
    "scoreKNNClassifier.append(score)"
   ]
  },
  {
   "cell_type": "markdown",
   "metadata": {},
   "source": [
    "### Classification on Combination of VT Info Feature Vectors Based on Binary Encoding and PE Info(Entropy Means)"
   ]
  },
  {
   "cell_type": "code",
   "execution_count": null,
   "metadata": {
    "collapsed": false
   },
   "outputs": [],
   "source": [
    "folder = 'vt'\n",
    "VTInfoTaken = VTRange.keys()\n",
    "XTrainFeatures = CreateFeatureVec(newXTrain,folder,VTInfoTaken)\n",
    "XTestFeatures = CreateFeatureVec(XTest,folder,VTInfoTaken)\n",
    "# print XTestFeatures.shape, XTestFeatures[0]\n",
    "# print XTrainFeatures.shape,XTrainFeatures[0]\n",
    "# print countNullVectors(XTrainFeatures, len(VTInfoTaken))\n",
    "# print countNullVectors(XTestFeatures, len(VTInfoTaken))\n",
    "\n",
    "folder = 'peinfo'\n",
    "relevantSubTypes = ['pe_section']\n",
    "PEInfoTaken = ['entropy']\n",
    "XTrainFeaturesPE = CreateFeatureVecPEI(newXTrain,folder,PEInfoTaken,relevantSubTypes)\n",
    "XTestFeaturesPE = CreateFeatureVecPEI(XTest,folder,PEInfoTaken,relevantSubTypes)\n",
    "# print XTestFeaturesPE.shape, XTestFeaturesPE[0]\n",
    "# print XTrainFeaturesPE.shape,XTrainFeaturesPE[0]\n",
    "# print countNullVectors(XTrainFeaturesPE, len(VTInfoTaken))\n",
    "# print countNullVectors(XTestFeaturesPE, len(VTInfoTaken))\n",
    "\n",
    "# relevantSubTypes = ['pe_resource']\n",
    "# PEInfoTaken = ['language', 'resource_id']\n",
    "# XTrainFeaturesPE1 = CreateFeatureVecPEI(newXTrain,folder,PEInfoTaken,relevantSubTypes)\n",
    "# XTestFeaturesPE1 = CreateFeatureVecPEI(XTest,folder,PEInfoTaken,relevantSubTypes)\n",
    "# print XTestFeaturesPE1.shape, XTestFeaturesPE1[0]\n",
    "# print XTrainFeaturesPE1.shape,XTrainFeaturesPE1[0]\n",
    "# print countNullVectors(XTrainFeaturesPE1, len(VTInfoTaken))\n",
    "# print countNullVectors(XTestFeaturesPE1, len(VTInfoTaken))\n",
    "\n",
    "params = {'trees':200, 'criterion':'entropy'}\n",
    "score = stratifiedKFoldVal(XTrainFeatures, newYTrain, classifyRandomForestClassifier, params)\n",
    "print score\n",
    "scoreRandomForestClassifier.append(score)\n",
    "\n",
    "params = {'kernel':'linear'}\n",
    "score = stratifiedKFoldVal(XTrainFeatures, newYTrain, classifyMultiClassSVMClassifier, params)\n",
    "print score\n",
    "scoreMultiClassSVMClassifier.append(score)\n",
    "\n",
    "params = {'neighbours':3}\n",
    "score = stratifiedKFoldVal(XTrainFeatures, newYTrain, classifyKNNClassifier, params)\n",
    "print score\n",
    "scoreKNNClassifier.append(score)\n",
    "\n",
    "XTrainClf = np.concatenate((XTrainFeatures, XTrainFeaturesPE), axis=1)\n",
    "XTestClf = np.concatenate((XTestFeatures, XTestFeaturesPE), axis=1)\n",
    "# print XTrainClf[0],XTestClf[0]\n",
    "# print XTrainClf.shape, XTestClf.shape\n",
    "\n",
    "clf = RandomForestClassifier(n_estimators=200,criterion='entropy')\n",
    "clf.fit(XTrainClf, newYTrain)\n",
    "YPred = clf.predict(XTestClf)\n",
    "writePrdictedLabelFile(YPred)"
   ]
  },
  {
   "cell_type": "markdown",
   "metadata": {},
   "source": [
    "### Classification on Combination of VT Info Feature Vectors Based on Frequency Encoding and PE Info(Entropy Means)"
   ]
  },
  {
   "cell_type": "code",
   "execution_count": null,
   "metadata": {
    "collapsed": false
   },
   "outputs": [],
   "source": [
    "folder = 'vt'\n",
    "VTInfoTaken = VTRange.keys()\n",
    "XTrainFeatures = CreateFeatureVecFreq(newXTrain,folder,VTInfoTaken)\n",
    "XTestFeatures = CreateFeatureVecFreq(XTest,folder,VTInfoTaken)\n",
    "# print XTestFeatures.shape, XTestFeatures[0]\n",
    "# print XTrainFeatures.shape,XTrainFeatures[0]\n",
    "# print countNullVectors(XTrainFeatures, len(VTInfoTaken))\n",
    "# print countNullVectors(XTestFeatures, len(VTInfoTaken))\n",
    "\n",
    "folder = 'peinfo'\n",
    "relevantSubTypes = ['pe_section']\n",
    "PEInfoTaken = ['entropy']\n",
    "XTrainFeaturesPE = CreateFeatureVecPEI(newXTrain,folder,PEInfoTaken,relevantSubTypes)\n",
    "XTestFeaturesPE = CreateFeatureVecPEI(XTest,folder,PEInfoTaken,relevantSubTypes)\n",
    "# print XTestFeaturesPE.shape, XTestFeaturesPE[0]\n",
    "# print XTrainFeaturesPE.shape,XTrainFeaturesPE[0]\n",
    "# print countNullVectors(XTrainFeaturesPE, len(VTInfoTaken))\n",
    "# print countNullVectors(XTestFeaturesPE, len(VTInfoTaken))\n",
    "\n",
    "# relevantSubTypes = ['pe_resource']\n",
    "# PEInfoTaken = ['language', 'resource_id']\n",
    "# XTrainFeaturesPE1 = CreateFeatureVecPEI(newXTrain,folder,PEInfoTaken,relevantSubTypes)\n",
    "# XTestFeaturesPE1 = CreateFeatureVecPEI(XTest,folder,PEInfoTaken,relevantSubTypes)\n",
    "# print XTestFeaturesPE1.shape, XTestFeaturesPE1[0]\n",
    "# print XTrainFeaturesPE1.shape,XTrainFeaturesPE1[0]\n",
    "# print countNullVectors(XTrainFeaturesPE1, len(VTInfoTaken))\n",
    "# print countNullVectors(XTestFeaturesPE1, len(VTInfoTaken))\n",
    "\n",
    "params = {'trees':100, 'criterion':'gini'}\n",
    "score = stratifiedKFoldVal(XTrainFeatures, newYTrain, classifyRandomForestClassifier, params)\n",
    "print score\n",
    "scoreRandomForestClassifier.append(score)\n",
    "\n",
    "params = {'kernel':'linear'}\n",
    "score = stratifiedKFoldVal(XTrainFeatures, newYTrain, classifyMultiClassSVMClassifier, params)\n",
    "print score\n",
    "scoreMultiClassSVMClassifier.append(score)\n",
    "\n",
    "params = {'neighbours':3}\n",
    "score = stratifiedKFoldVal(XTrainFeatures, newYTrain, classifyKNNClassifier, params)\n",
    "print score\n",
    "scoreKNNClassifier.append(score)\n",
    "\n",
    "XTrainClf = np.concatenate((XTrainFeatures, XTrainFeaturesPE), axis=1)\n",
    "XTestClf = np.concatenate((XTestFeatures, XTestFeaturesPE), axis=1)\n",
    "# print XTrainClf[0],XTestClf[0]\n",
    "# print XTrainClf.shape, XTestClf.shape\n",
    "\n",
    "clf = RandomForestClassifier(n_estimators=100,criterion='gini')\n",
    "clf.fit(XTrainClf, newYTrain)\n",
    "YPred = clf.predict(XTestClf)\n",
    "writePrdictedLabelFile(YPred)"
   ]
  },
  {
   "cell_type": "markdown",
   "metadata": {},
   "source": [
    "### Graphs depicting Categorization Accuracy scores on KFold Stratified Validation on Train data for:\n",
    "### 1. PE Info <br></br> 2. VTInfo and  <br></br> 3. Both PE Info & VTInfo"
   ]
  },
  {
   "cell_type": "code",
   "execution_count": null,
   "metadata": {
    "collapsed": false
   },
   "outputs": [],
   "source": [
    "print scoreRandomForestClassifier\n",
    "print scoreKNNClassifier\n",
    "print scoreMultiClassSVMClassifier"
   ]
  },
  {
   "cell_type": "code",
   "execution_count": null,
   "metadata": {
    "collapsed": false
   },
   "outputs": [],
   "source": [
    "#Plotting the results\n",
    "import matplotlib.pyplot as plt\n",
    "%matplotlib inline\n",
    "plt.plot(scoreRandomForestClassifier, label = \"Random Forest Classifier\")\n",
    "plt.plot(scoreMultiClassSVMClassifier, label = \"Multiclass Linear SVM Classifier\")\n",
    "plt.plot(scoreKNNClassifier, label = \"KNN Classifier\")\n",
    "\n",
    "labels = ['Limited AVs(Binary Encoding)', 'All AVs(Binary Encoding)', 'All AVs(Frequency Encoding)', 'PE Info(Entropy Mean)', \n",
    "          'All AVs(Binary Encoding) + Entropy Mean','All AVs(Frequency Encoding) + Entropy Mean']\n",
    "\n",
    "# You can specify a rotation for the tick labels in degrees or with keywords.\n",
    "plt.xticks(np.arange(len(labels)), labels, rotation='vertical')\n",
    "\n",
    "plt.ylabel('Scores')\n",
    "plt.xlabel('Feature Encoding used')\n",
    "# Place a legend to the right of this smaller figure.\n",
    "plt.legend(bbox_to_anchor=(1.05, 1), loc=2, borderaxespad=0.)\n",
    "plt.show()"
   ]
  },
  {
   "cell_type": "markdown",
   "metadata": {},
   "source": [
    "## Final evaluation results on Kaggle"
   ]
  },
  {
   "cell_type": "markdown",
   "metadata": {},
   "source": [
    "### Bar graph depicting Public vs Private Categorization Accuracy Scores on the different Models."
   ]
  },
  {
   "cell_type": "code",
   "execution_count": null,
   "metadata": {
    "collapsed": false
   },
   "outputs": [],
   "source": [
    "import numpy as np\n",
    "import matplotlib.pyplot as plt\n",
    "%matplotlib inline\n",
    "N = 6\n",
    "publicScore = (97.733, 97.971, 94.511, 94.988, 95.107, 97.613)\n",
    "privateScore = (96.897, 96.778, 94.272, 95.704, 95.585, 96.778,)\n",
    "modelNames = ('RF(G,100)+Entropy(Median)+Freq', 'RF(G,100)+Entropy(Mean)+Freq', 'kNN(3)+Freq', \n",
    "              'SVM(Linear)+Entropy(Mean)+Binary', 'RF(E,200)+Binary', 'RF(E,150)+Freq')\n",
    "\n",
    "ind = np.arange(N)  # the x locations for the groups\n",
    "width = 0.35       # the width of the bars\n",
    "\n",
    "fig, ax = plt.subplots()\n",
    "rects1 = ax.bar(ind, publicScore, width, color='m')\n",
    "\n",
    "rects2 = ax.bar(ind + width, privateScore, width, color='c')\n",
    "\n",
    "# add some text for labels, title and axes ticks\n",
    "ax.set_ylabel('Scores')\n",
    "ax.set_title('Evaluations of submissions using Categorization Accuracy.')\n",
    "ax.set_xticks(ind + width)\n",
    "ax.set_xticklabels(modelNames,  rotation='vertical')\n",
    "ax.set_ylim(90,100)\n",
    "\n",
    "# def autolabel(rects):\n",
    "#     # attach some text labels\n",
    "#     for rect in rects:\n",
    "#         height = rect.get_height()\n",
    "#         ax.text(rect.get_x() + rect.get_width()/2., 1.05*height,\n",
    "#                 '%d' % int(height),\n",
    "#                 ha='center', va='bottom')\n",
    "\n",
    "# autolabel(rects1)\n",
    "# autolabel(rects2)\n",
    "\n",
    "# Place a legend to the right of this smaller figure.\n",
    "ax.legend((rects1[0], rects2[0]), ('Public Scores', 'Private Scores'), bbox_to_anchor=(1.05, 1), loc=2, borderaxespad=0.)\n",
    "\n",
    "plt.show()"
   ]
  },
  {
   "cell_type": "markdown",
   "metadata": {},
   "source": [
    "### Hence we conclude that the best model is Random Forest with Gini as criterion and 100 Trees using PEInfo with Entropy Mean/Median and frequency encoding on all 75 Antiviruses of VT Info as features !"
   ]
  }
 ],
 "metadata": {
  "kernelspec": {
   "display_name": "Python 2",
   "language": "python",
   "name": "python2"
  },
  "language_info": {
   "codemirror_mode": {
    "name": "ipython",
    "version": 2
   },
   "file_extension": ".py",
   "mimetype": "text/x-python",
   "name": "python",
   "nbconvert_exporter": "python",
   "pygments_lexer": "ipython2",
   "version": "2.7.6"
  }
 },
 "nbformat": 4,
 "nbformat_minor": 0
}
